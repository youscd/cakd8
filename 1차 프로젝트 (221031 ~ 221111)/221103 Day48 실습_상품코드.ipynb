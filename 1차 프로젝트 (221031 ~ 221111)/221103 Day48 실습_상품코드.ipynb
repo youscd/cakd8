{
 "cells": [
  {
   "cell_type": "code",
   "execution_count": 1,
   "id": "95c7b7e8-55c4-4f67-b797-f698e6a75d34",
   "metadata": {},
   "outputs": [],
   "source": [
    "import pandas as pd\n",
    "import numpy as np\n",
    "import re"
   ]
  },
  {
   "cell_type": "code",
   "execution_count": 2,
   "id": "d8a3cd2a-b006-4e17-8fd1-c9164c89adda",
   "metadata": {},
   "outputs": [],
   "source": [
    "import matplotlib.pyplot as plt\n",
    "import seaborn as sns"
   ]
  },
  {
   "cell_type": "code",
   "execution_count": 3,
   "id": "1e219d12-fd92-4fd6-bd1f-e0a8773c8a36",
   "metadata": {},
   "outputs": [],
   "source": [
    "from urllib import request\n",
    "from bs4 import BeautifulSoup\n",
    "import requests"
   ]
  },
  {
   "cell_type": "code",
   "execution_count": 4,
   "id": "ffe5b6ec-6119-4c89-9e3b-c47ae3de45c6",
   "metadata": {},
   "outputs": [],
   "source": [
    "import selenium\n",
    "from selenium import webdriver\n",
    "from selenium.webdriver.common.by import By\n",
    "from selenium.webdriver.common.keys import Keys\n",
    "from urllib.request import urlopen, urlretrieve\n",
    "from urllib.parse import quote_plus"
   ]
  },
  {
   "cell_type": "markdown",
   "id": "075988fa-d439-459c-9f08-b8d1ecd25ef9",
   "metadata": {
    "jp-MarkdownHeadingCollapsed": true,
    "tags": []
   },
   "source": [
    "### * tops"
   ]
  },
  {
   "cell_type": "code",
   "execution_count": null,
   "id": "a0757402-da23-417f-a664-d4387a0f771b",
   "metadata": {},
   "outputs": [],
   "source": [
    "#1~10페이지 내의 상품 접속 '링크만' 추출\n",
    "tops = []\n",
    "\n",
    "for i in range(1, 11):\n",
    "    url = f'https://www.musinsa.com/categories/item/001010?d_cat_cd=001010&brand=&list_kind=small&sort=sale_high&sub_sort=3m&page={i}&display_cnt=90&group_sale=&exclusive_yn=&sale_goods=&timesale_yn=&ex_soldout=&kids=&color=&price1=&price2=&shoeSizeOption=&tags=&campaign_id=&includeKeywords=&measure='\n",
    "    html = requests.get(url).text\n",
    "    soup = BeautifulSoup(html, 'html.parser')\n",
    "    #사이트 내 상품명 & 링크\n",
    "    products = soup.select(selector = 'p.list_info > a')\n",
    "    \n",
    "    #링크만 추출\n",
    "    for product in products:\n",
    "        tops.append(product['href'])\n",
    "\n",
    "#링크 모음 리스트 내에 있는 링크에 대한 조건문        \n",
    "tops_links = []\n",
    "\n",
    "for top in tops:\n",
    "    if 'http:' in top:\n",
    "        pass\n",
    "    elif 'https:' in top:\n",
    "        pass\n",
    "    else:\n",
    "        top = 'http:' + top\n",
    "        tops_links.append(top)\n",
    "        \n",
    "print(tops_links)"
   ]
  },
  {
   "cell_type": "code",
   "execution_count": null,
   "id": "3d28e6ec-bc63-44d8-b888-ce8782526415",
   "metadata": {},
   "outputs": [],
   "source": [
    "#1~10페이지 내 상품들 각각의 S,M,L,XL 사이즈 출력\n",
    "header = {'User-Agent' : 'Mozilla/5.0 (Windows NT 10.0; Win64; x64) AppleWebKit/537.36 (KHTML, like Gecko) Chrome/106.0.0.0 Safari/537.36'}\n",
    "tops_data = pd.DataFrame([])\n",
    "\n",
    "for tops_link in tops_links:\n",
    "    try:\n",
    "        html = requests.get(tops_link, headers = header).text\n",
    "        \n",
    "    except:\n",
    "        pass\n",
    "    \n",
    "    soup = BeautifulSoup(html, 'html.parser')\n",
    "    columns = soup.find_all(class_ = 'item_val')\n",
    "    \n",
    "    for i in range(3, 7):\n",
    "        \n",
    "        size = soup.select(f'#size_table > tbody > tr:nth-child({i}) > th')\n",
    "        types2 = soup.select(f'#size_table > tbody > tr:nth-child({i}) > td:nth-child(2)')    #총장\n",
    "        types3 = soup.select(f'#size_table > tbody > tr:nth-child({i}) > td:nth-child(3)')    #어깨너비\n",
    "        types4 = soup.select(f'#size_table > tbody > tr:nth-child({i}) > td:nth-child(4)')    #가슴단면\n",
    "        types5 = soup.select(f'#size_table > tbody > tr:nth-child({i}) > td:nth-child(5)')    #소매길이\n",
    "\n",
    "        size_name = str(size).replace('[<th>', '').replace('</th>]', '')\n",
    "        total_lng = str(types2).replace('[<td class=\"goods_size_val\">', '').replace('</td>]', '')\n",
    "        shoulder = str(types3).replace('[<td class=\"goods_size_val\">', '').replace('</td>]', '')\n",
    "        chest = str(types4).replace('[<td class=\"goods_size_val\">', '').replace('</td>]', '')\n",
    "        arms = str(types5).replace('[<td class=\"goods_size_val\">', '').replace('</td>]', '')\n",
    "        \n",
    "        try:\n",
    "            types = dict({'size' : size_name,\n",
    "                          list(columns)[0].text.strip() : total_lng,\n",
    "                          list(columns)[1].text.strip() : shoulder,\n",
    "                          list(columns)[2].text.strip() : chest,\n",
    "                          list(columns)[3].text.strip() : arms}, index = [i-3])\n",
    "        except:\n",
    "            pass\n",
    "\n",
    "        tops_df = pd.DataFrame(types)\n",
    "        tops_data = pd.concat([tops_data, tops_df])\n",
    "    \n",
    "tops_data"
   ]
  },
  {
   "cell_type": "markdown",
   "id": "2b281054-be5b-4105-81d8-cd966b3717da",
   "metadata": {},
   "source": [
    "### * dress"
   ]
  },
  {
   "cell_type": "code",
   "execution_count": 5,
   "id": "18183868-9978-4cb5-96bf-bf2bdf7f58ae",
   "metadata": {
    "collapsed": true,
    "jupyter": {
     "outputs_hidden": true
    },
    "tags": []
   },
   "outputs": [
    {
     "name": "stdout",
     "output_type": "stream",
     "text": [
      "['http://www.musinsa.com/app/goods/2714524?loc=goods_rank', 'http://www.musinsa.com/app/goods/2776621?loc=goods_rank', 'http://www.musinsa.com/app/goods/2198859?loc=goods_rank', 'http://www.musinsa.com/app/goods/2697766?loc=goods_rank', 'http://www.musinsa.com/app/goods/2882890?loc=goods_rank', 'http://www.musinsa.com/app/goods/2714533?loc=goods_rank', 'http://www.musinsa.com/app/goods/2846045?loc=goods_rank', 'http://www.musinsa.com/app/goods/2753329?loc=goods_rank', 'http://www.musinsa.com/app/goods/2836338?loc=goods_rank', 'http://www.musinsa.com/app/goods/2630821?loc=goods_rank', 'http://www.musinsa.com/app/goods/1934623?loc=goods_rank', 'http://www.musinsa.com/app/goods/987352?loc=goods_rank', 'http://www.musinsa.com/app/goods/1963314?loc=goods_rank', 'http://www.musinsa.com/app/goods/2392494?loc=goods_rank', 'http://www.musinsa.com/app/goods/1922946?loc=goods_rank', 'http://www.musinsa.com/app/goods/2392489?loc=goods_rank', 'http://www.musinsa.com/app/goods/2448897?loc=goods_rank', 'http://www.musinsa.com/app/goods/2499442?loc=goods_rank', 'http://www.musinsa.com/app/goods/1343788?loc=goods_rank', 'http://www.musinsa.com/app/goods/2731614?loc=goods_rank', 'http://www.musinsa.com/app/goods/2392489', 'http://www.musinsa.com/app/goods/2714524', 'http://www.musinsa.com/app/goods/2714533', 'http://www.musinsa.com/app/goods/1103286', 'http://www.musinsa.com/app/goods/2242720', 'http://www.musinsa.com/app/goods/1417726', 'http://www.musinsa.com/app/goods/2478652', 'http://www.musinsa.com/app/goods/2306207', 'http://www.musinsa.com/app/goods/2731616', 'http://www.musinsa.com/app/goods/1779568', 'http://www.musinsa.com/app/goods/2000886', 'http://www.musinsa.com/app/goods/2392491', 'http://www.musinsa.com/app/goods/2512635', 'http://www.musinsa.com/app/goods/2605850', 'http://www.musinsa.com/app/goods/2714448', 'http://www.musinsa.com/app/goods/2714515', 'http://www.musinsa.com/app/goods/2388209', 'http://www.musinsa.com/app/goods/2189753', 'http://www.musinsa.com/app/goods/1455772', 'http://www.musinsa.com/app/goods/2533597', 'http://www.musinsa.com/app/goods/2000879', 'http://www.musinsa.com/app/goods/2448897', 'http://www.musinsa.com/app/goods/2714367', 'http://www.musinsa.com/app/goods/2392493', 'http://www.musinsa.com/app/goods/1579103', 'http://www.musinsa.com/app/goods/2111544', 'http://www.musinsa.com/app/goods/2714373', 'http://www.musinsa.com/app/goods/2392490', 'http://www.musinsa.com/app/goods/2714317', 'http://www.musinsa.com/app/goods/987352', 'http://www.musinsa.com/app/goods/2414844', 'http://www.musinsa.com/app/goods/2164372', 'http://www.musinsa.com/app/goods/2545843', 'http://www.musinsa.com/app/goods/1953853', 'http://www.musinsa.com/app/goods/2129126', 'http://www.musinsa.com/app/goods/2611706', 'http://www.musinsa.com/app/goods/2464744', 'http://www.musinsa.com/app/goods/2088486', 'http://www.musinsa.com/app/goods/1156787', 'http://www.musinsa.com/app/goods/1854459', 'http://www.musinsa.com/app/goods/1417725', 'http://www.musinsa.com/app/goods/1788059', 'http://www.musinsa.com/app/goods/1341924', 'http://www.musinsa.com/app/goods/2499442', 'http://www.musinsa.com/app/goods/1417729', 'http://www.musinsa.com/app/goods/2392492', 'http://www.musinsa.com/app/goods/2836338', 'http://www.musinsa.com/app/goods/2035491', 'http://www.musinsa.com/app/goods/1952915', 'http://www.musinsa.com/app/goods/2492336', 'http://www.musinsa.com/app/goods/2744641', 'http://www.musinsa.com/app/goods/2545845', 'http://www.musinsa.com/app/goods/2708529', 'http://www.musinsa.com/app/goods/2131838', 'http://www.musinsa.com/app/goods/2714403', 'http://www.musinsa.com/app/goods/2448898', 'http://www.musinsa.com/app/goods/2698937', 'http://www.musinsa.com/app/goods/2131848', 'http://www.musinsa.com/app/goods/1671936', 'http://www.musinsa.com/app/goods/2462707', 'http://www.musinsa.com/app/goods/2697766', 'http://www.musinsa.com/app/goods/1975834', 'http://www.musinsa.com/app/goods/2393504', 'http://www.musinsa.com/app/goods/2379296', 'http://www.musinsa.com/app/goods/2088311', 'http://www.musinsa.com/app/goods/1589296', 'http://www.musinsa.com/app/goods/2606374', 'http://www.musinsa.com/app/goods/2533599', 'http://www.musinsa.com/app/goods/2478653', 'http://www.musinsa.com/app/goods/1343788', 'http://www.musinsa.com/app/goods/1955893', 'http://www.musinsa.com/app/goods/1871030', 'http://www.musinsa.com/app/goods/1103287', 'http://www.musinsa.com/app/goods/1975802', 'http://www.musinsa.com/app/goods/2714358', 'http://www.musinsa.com/app/goods/2131829', 'http://www.musinsa.com/app/goods/1683243', 'http://www.musinsa.com/app/goods/1586312', 'http://www.musinsa.com/app/goods/1417728', 'http://www.musinsa.com/app/goods/2776635', 'http://www.musinsa.com/app/goods/2750616', 'http://www.musinsa.com/app/goods/2153844', 'http://www.musinsa.com/app/goods/2079178', 'http://www.musinsa.com/app/goods/2836340', 'http://www.musinsa.com/app/goods/2515381', 'http://www.musinsa.com/app/goods/2711637', 'http://www.musinsa.com/app/goods/2686208', 'http://www.musinsa.com/app/goods/2680093', 'http://www.musinsa.com/app/goods/1539156', 'http://www.musinsa.com/app/goods/2624341', 'http://www.musinsa.com/app/goods/2714524?loc=goods_rank', 'http://www.musinsa.com/app/goods/2776621?loc=goods_rank', 'http://www.musinsa.com/app/goods/2198859?loc=goods_rank', 'http://www.musinsa.com/app/goods/2697766?loc=goods_rank', 'http://www.musinsa.com/app/goods/2882890?loc=goods_rank', 'http://www.musinsa.com/app/goods/2714533?loc=goods_rank', 'http://www.musinsa.com/app/goods/2846045?loc=goods_rank', 'http://www.musinsa.com/app/goods/2753329?loc=goods_rank', 'http://www.musinsa.com/app/goods/2836338?loc=goods_rank', 'http://www.musinsa.com/app/goods/2630821?loc=goods_rank', 'http://www.musinsa.com/app/goods/1934623?loc=goods_rank', 'http://www.musinsa.com/app/goods/987352?loc=goods_rank', 'http://www.musinsa.com/app/goods/1963314?loc=goods_rank', 'http://www.musinsa.com/app/goods/2392494?loc=goods_rank', 'http://www.musinsa.com/app/goods/1922946?loc=goods_rank', 'http://www.musinsa.com/app/goods/2392489?loc=goods_rank', 'http://www.musinsa.com/app/goods/2448897?loc=goods_rank', 'http://www.musinsa.com/app/goods/2499442?loc=goods_rank', 'http://www.musinsa.com/app/goods/1343788?loc=goods_rank', 'http://www.musinsa.com/app/goods/2731614?loc=goods_rank', 'http://www.musinsa.com/app/goods/2044438', 'http://www.musinsa.com/app/goods/2717734', 'http://www.musinsa.com/app/goods/2265654', 'http://www.musinsa.com/app/goods/2836362', 'http://www.musinsa.com/app/goods/2521399', 'http://www.musinsa.com/app/goods/2088505', 'http://www.musinsa.com/app/goods/1954215', 'http://www.musinsa.com/app/goods/2765016', 'http://www.musinsa.com/app/goods/2687830', 'http://www.musinsa.com/app/goods/2512636', 'http://www.musinsa.com/app/goods/2464849', 'http://www.musinsa.com/app/goods/1863788', 'http://www.musinsa.com/app/goods/2731615', 'http://www.musinsa.com/app/goods/2125198', 'http://www.musinsa.com/app/goods/1881469', 'http://www.musinsa.com/app/goods/2776650', 'http://www.musinsa.com/app/goods/2686382', 'http://www.musinsa.com/app/goods/2606545', 'http://www.musinsa.com/app/goods/2521395', 'http://www.musinsa.com/app/goods/2245440', 'http://www.musinsa.com/app/goods/1975502', 'http://www.musinsa.com/app/goods/2627292', 'http://www.musinsa.com/app/goods/2362381', 'http://www.musinsa.com/app/goods/1792540', 'http://www.musinsa.com/app/goods/2545844', 'http://www.musinsa.com/app/goods/2531195', 'http://www.musinsa.com/app/goods/2464715', 'http://www.musinsa.com/app/goods/1586309', 'http://www.musinsa.com/app/goods/2731614', 'http://www.musinsa.com/app/goods/2680092', 'http://www.musinsa.com/app/goods/2306227', 'http://www.musinsa.com/app/goods/1953842', 'http://www.musinsa.com/app/goods/2731613', 'http://www.musinsa.com/app/goods/2701112', 'http://www.musinsa.com/app/goods/2627294', 'http://www.musinsa.com/app/goods/2515378', 'http://www.musinsa.com/app/goods/2485749', 'http://www.musinsa.com/app/goods/1417731', 'http://www.musinsa.com/app/goods/2396014', 'http://www.musinsa.com/app/goods/1934740', 'http://www.musinsa.com/app/goods/1909504', 'http://www.musinsa.com/app/goods/1779566', 'http://www.musinsa.com/app/goods/1537416', 'http://www.musinsa.com/app/goods/2714355', 'http://www.musinsa.com/app/goods/2374001', 'http://www.musinsa.com/app/goods/2221530', 'http://www.musinsa.com/app/goods/2129291', 'http://www.musinsa.com/app/goods/1695518', 'http://www.musinsa.com/app/goods/1254411', 'http://www.musinsa.com/app/goods/987370', 'http://www.musinsa.com/app/goods/2808518', 'http://www.musinsa.com/app/goods/2714377', 'http://www.musinsa.com/app/goods/2562075', 'http://www.musinsa.com/app/goods/2253242', 'http://www.musinsa.com/app/goods/2222003', 'http://www.musinsa.com/app/goods/2164322', 'http://www.musinsa.com/app/goods/2731612', 'http://www.musinsa.com/app/goods/2727483', 'http://www.musinsa.com/app/goods/2139989', 'http://www.musinsa.com/app/goods/2735202', 'http://www.musinsa.com/app/goods/2456763', 'http://www.musinsa.com/app/goods/1600403', 'http://www.musinsa.com/app/goods/1209169', 'http://www.musinsa.com/app/goods/2830042', 'http://www.musinsa.com/app/goods/2813473', 'http://www.musinsa.com/app/goods/2711906', 'http://www.musinsa.com/app/goods/2189794', 'http://www.musinsa.com/app/goods/2178597', 'http://www.musinsa.com/app/goods/2153847', 'http://www.musinsa.com/app/goods/1601369', 'http://www.musinsa.com/app/goods/2738755', 'http://www.musinsa.com/app/goods/2712722', 'http://www.musinsa.com/app/goods/2624356', 'http://www.musinsa.com/app/goods/2476867', 'http://www.musinsa.com/app/goods/2392494', 'http://www.musinsa.com/app/goods/1852060', 'http://www.musinsa.com/app/goods/1416382', 'http://www.musinsa.com/app/goods/2818051', 'http://www.musinsa.com/app/goods/2719782', 'http://www.musinsa.com/app/goods/2686381', 'http://www.musinsa.com/app/goods/2684233', 'http://www.musinsa.com/app/goods/2627291', 'http://www.musinsa.com/app/goods/2580273', 'http://www.musinsa.com/app/goods/2526026', 'http://www.musinsa.com/app/goods/2525982', 'http://www.musinsa.com/app/goods/2515361', 'http://www.musinsa.com/app/goods/2377832', 'http://www.musinsa.com/app/goods/2189795', 'http://www.musinsa.com/app/goods/2153846', 'http://www.musinsa.com/app/goods/1953922', 'http://www.musinsa.com/app/goods/2714524?loc=goods_rank', 'http://www.musinsa.com/app/goods/2776621?loc=goods_rank', 'http://www.musinsa.com/app/goods/2198859?loc=goods_rank', 'http://www.musinsa.com/app/goods/2697766?loc=goods_rank', 'http://www.musinsa.com/app/goods/2882890?loc=goods_rank', 'http://www.musinsa.com/app/goods/2714533?loc=goods_rank', 'http://www.musinsa.com/app/goods/2846045?loc=goods_rank', 'http://www.musinsa.com/app/goods/2753329?loc=goods_rank', 'http://www.musinsa.com/app/goods/2836338?loc=goods_rank', 'http://www.musinsa.com/app/goods/2630821?loc=goods_rank', 'http://www.musinsa.com/app/goods/1934623?loc=goods_rank', 'http://www.musinsa.com/app/goods/987352?loc=goods_rank', 'http://www.musinsa.com/app/goods/1963314?loc=goods_rank', 'http://www.musinsa.com/app/goods/2392494?loc=goods_rank', 'http://www.musinsa.com/app/goods/1922946?loc=goods_rank', 'http://www.musinsa.com/app/goods/2392489?loc=goods_rank', 'http://www.musinsa.com/app/goods/2448897?loc=goods_rank', 'http://www.musinsa.com/app/goods/2499442?loc=goods_rank', 'http://www.musinsa.com/app/goods/1343788?loc=goods_rank', 'http://www.musinsa.com/app/goods/2731614?loc=goods_rank', 'http://www.musinsa.com/app/goods/1763099', 'http://www.musinsa.com/app/goods/2776396', 'http://www.musinsa.com/app/goods/2714485', 'http://www.musinsa.com/app/goods/2714387', 'http://www.musinsa.com/app/goods/2624370', 'http://www.musinsa.com/app/goods/2554116', 'http://www.musinsa.com/app/goods/2521025', 'http://www.musinsa.com/app/goods/2414846', 'http://www.musinsa.com/app/goods/2198859', 'http://www.musinsa.com/app/goods/2153636', 'http://www.musinsa.com/app/goods/1472006', 'http://www.musinsa.com/app/goods/2792380', 'http://www.musinsa.com/app/goods/2758460', 'http://www.musinsa.com/app/goods/2738825', 'http://www.musinsa.com/app/goods/2606606', 'http://www.musinsa.com/app/goods/2606526', 'http://www.musinsa.com/app/goods/2396259', 'http://www.musinsa.com/app/goods/2349364', 'http://www.musinsa.com/app/goods/2132552', 'http://www.musinsa.com/app/goods/1922945', 'http://www.musinsa.com/app/goods/1840913', 'http://www.musinsa.com/app/goods/1625437', 'http://www.musinsa.com/app/goods/1622447', 'http://www.musinsa.com/app/goods/2766818', 'http://www.musinsa.com/app/goods/2703252', 'http://www.musinsa.com/app/goods/2593051', 'http://www.musinsa.com/app/goods/2492330', 'http://www.musinsa.com/app/goods/2401410', 'http://www.musinsa.com/app/goods/2131421', 'http://www.musinsa.com/app/goods/1987745', 'http://www.musinsa.com/app/goods/1792325', 'http://www.musinsa.com/app/goods/1137762', 'http://www.musinsa.com/app/goods/2759775', 'http://www.musinsa.com/app/goods/2749302', 'http://www.musinsa.com/app/goods/2640761', 'http://www.musinsa.com/app/goods/2622325', 'http://www.musinsa.com/app/goods/2587764', 'http://www.musinsa.com/app/goods/2476864', 'http://www.musinsa.com/app/goods/2435044', 'http://www.musinsa.com/app/goods/2374370', 'http://www.musinsa.com/app/goods/2055776', 'http://www.musinsa.com/app/goods/1893789', 'http://www.musinsa.com/app/goods/1813294', 'http://www.musinsa.com/app/goods/1592040', 'http://www.musinsa.com/app/goods/1401704', 'http://www.musinsa.com/app/goods/1189391', 'http://www.musinsa.com/app/goods/2776621', 'http://www.musinsa.com/app/goods/2768443', 'http://www.musinsa.com/app/goods/2765636', 'http://www.musinsa.com/app/goods/2738747', 'http://www.musinsa.com/app/goods/2731611', 'http://www.musinsa.com/app/goods/2702740', 'http://www.musinsa.com/app/goods/2686380', 'http://www.musinsa.com/app/goods/2680431', 'http://www.musinsa.com/app/goods/2664375', 'http://www.musinsa.com/app/goods/2635389', 'http://www.musinsa.com/app/goods/2561410', 'http://www.musinsa.com/app/goods/2514343', 'http://www.musinsa.com/app/goods/2412636', 'http://www.musinsa.com/app/goods/2407228', 'http://www.musinsa.com/app/goods/2392495', 'http://www.musinsa.com/app/goods/2000895', 'http://www.musinsa.com/app/goods/1181937', 'http://www.musinsa.com/app/goods/2837673', 'http://www.musinsa.com/app/goods/2810777', 'http://www.musinsa.com/app/goods/2762753', 'http://www.musinsa.com/app/goods/2708530', 'http://www.musinsa.com/app/goods/2620206', 'http://www.musinsa.com/app/goods/2609117', 'http://www.musinsa.com/app/goods/2603445', 'http://www.musinsa.com/app/goods/2568529', 'http://www.musinsa.com/app/goods/2451516', 'http://www.musinsa.com/app/goods/2398319', 'http://www.musinsa.com/app/goods/2387240', 'http://www.musinsa.com/app/goods/2314785', 'http://www.musinsa.com/app/goods/2241590', 'http://www.musinsa.com/app/goods/2071126', 'http://www.musinsa.com/app/goods/2044428', 'http://www.musinsa.com/app/goods/1632144', 'http://www.musinsa.com/app/goods/1603082', 'http://www.musinsa.com/app/goods/1600410', 'http://www.musinsa.com/app/goods/2801900', 'http://www.musinsa.com/app/goods/2728634', 'http://www.musinsa.com/app/goods/2714500', 'http://www.musinsa.com/app/goods/2699769', 'http://www.musinsa.com/app/goods/2634293', 'http://www.musinsa.com/app/goods/2586171', 'http://www.musinsa.com/app/goods/2492543', 'http://www.musinsa.com/app/goods/2362380', 'http://www.musinsa.com/app/goods/2321042', 'http://www.musinsa.com/app/goods/2714524?loc=goods_rank', 'http://www.musinsa.com/app/goods/2776621?loc=goods_rank', 'http://www.musinsa.com/app/goods/2198859?loc=goods_rank', 'http://www.musinsa.com/app/goods/2697766?loc=goods_rank', 'http://www.musinsa.com/app/goods/2882890?loc=goods_rank', 'http://www.musinsa.com/app/goods/2714533?loc=goods_rank', 'http://www.musinsa.com/app/goods/2846045?loc=goods_rank', 'http://www.musinsa.com/app/goods/2753329?loc=goods_rank', 'http://www.musinsa.com/app/goods/2836338?loc=goods_rank', 'http://www.musinsa.com/app/goods/2630821?loc=goods_rank', 'http://www.musinsa.com/app/goods/1934623?loc=goods_rank', 'http://www.musinsa.com/app/goods/987352?loc=goods_rank', 'http://www.musinsa.com/app/goods/1963314?loc=goods_rank', 'http://www.musinsa.com/app/goods/2392494?loc=goods_rank', 'http://www.musinsa.com/app/goods/1922946?loc=goods_rank', 'http://www.musinsa.com/app/goods/2392489?loc=goods_rank', 'http://www.musinsa.com/app/goods/2448897?loc=goods_rank', 'http://www.musinsa.com/app/goods/2499442?loc=goods_rank', 'http://www.musinsa.com/app/goods/1343788?loc=goods_rank', 'http://www.musinsa.com/app/goods/2731614?loc=goods_rank', 'http://www.musinsa.com/app/goods/2305053', 'http://www.musinsa.com/app/goods/2191467', 'http://www.musinsa.com/app/goods/2120496', 'http://www.musinsa.com/app/goods/2092130', 'http://www.musinsa.com/app/goods/2088409', 'http://www.musinsa.com/app/goods/1996079', 'http://www.musinsa.com/app/goods/1468118', 'http://www.musinsa.com/app/goods/1460418', 'http://www.musinsa.com/app/goods/2821227', 'http://www.musinsa.com/app/goods/2775480', 'http://www.musinsa.com/app/goods/2712125', 'http://www.musinsa.com/app/goods/2684232', 'http://www.musinsa.com/app/goods/2635395', 'http://www.musinsa.com/app/goods/2558167', 'http://www.musinsa.com/app/goods/2541022', 'http://www.musinsa.com/app/goods/2531198', 'http://www.musinsa.com/app/goods/2485512', 'http://www.musinsa.com/app/goods/2478784', 'http://www.musinsa.com/app/goods/2478783', 'http://www.musinsa.com/app/goods/2468766', 'http://www.musinsa.com/app/goods/2457512', 'http://www.musinsa.com/app/goods/2452064', 'http://www.musinsa.com/app/goods/2397919', 'http://www.musinsa.com/app/goods/2387835', 'http://www.musinsa.com/app/goods/2369546', 'http://www.musinsa.com/app/goods/2352760', 'http://www.musinsa.com/app/goods/2345616', 'http://www.musinsa.com/app/goods/2293100', 'http://www.musinsa.com/app/goods/2236766', 'http://www.musinsa.com/app/goods/2125830', 'http://www.musinsa.com/app/goods/2115565', 'http://www.musinsa.com/app/goods/2079224', 'http://www.musinsa.com/app/goods/1941146', 'http://www.musinsa.com/app/goods/1683234', 'http://www.musinsa.com/app/goods/1511131', 'http://www.musinsa.com/app/goods/2852366', 'http://www.musinsa.com/app/goods/2818049', 'http://www.musinsa.com/app/goods/2801904', 'http://www.musinsa.com/app/goods/2797029', 'http://www.musinsa.com/app/goods/2771243', 'http://www.musinsa.com/app/goods/2765780', 'http://www.musinsa.com/app/goods/2762748', 'http://www.musinsa.com/app/goods/2756408', 'http://www.musinsa.com/app/goods/2751160', 'http://www.musinsa.com/app/goods/2730317', 'http://www.musinsa.com/app/goods/2728636', 'http://www.musinsa.com/app/goods/2725811', 'http://www.musinsa.com/app/goods/2714389', 'http://www.musinsa.com/app/goods/2714134', 'http://www.musinsa.com/app/goods/2712127', 'http://www.musinsa.com/app/goods/2706951', 'http://www.musinsa.com/app/goods/2680094', 'http://www.musinsa.com/app/goods/2677907', 'http://www.musinsa.com/app/goods/2669360', 'http://www.musinsa.com/app/goods/2627290', 'http://www.musinsa.com/app/goods/2581315', 'http://www.musinsa.com/app/goods/2569941', 'http://www.musinsa.com/app/goods/2514342', 'http://www.musinsa.com/app/goods/2438475', 'http://www.musinsa.com/app/goods/2387239', 'http://www.musinsa.com/app/goods/2382927', 'http://www.musinsa.com/app/goods/2377837', 'http://www.musinsa.com/app/goods/2374515', 'http://www.musinsa.com/app/goods/2268013', 'http://www.musinsa.com/app/goods/2052197', 'http://www.musinsa.com/app/goods/1975503', 'http://www.musinsa.com/app/goods/1839164', 'http://www.musinsa.com/app/goods/1833488', 'http://www.musinsa.com/app/goods/1593017', 'http://www.musinsa.com/app/goods/2836376', 'http://www.musinsa.com/app/goods/2836367', 'http://www.musinsa.com/app/goods/2806588', 'http://www.musinsa.com/app/goods/2798540', 'http://www.musinsa.com/app/goods/2786561', 'http://www.musinsa.com/app/goods/2776916', 'http://www.musinsa.com/app/goods/2765635', 'http://www.musinsa.com/app/goods/2739314', 'http://www.musinsa.com/app/goods/2714407', 'http://www.musinsa.com/app/goods/2708531', 'http://www.musinsa.com/app/goods/2647737', 'http://www.musinsa.com/app/goods/2647699', 'http://www.musinsa.com/app/goods/2641889', 'http://www.musinsa.com/app/goods/2612780', 'http://www.musinsa.com/app/goods/2612357', 'http://www.musinsa.com/app/goods/2595943', 'http://www.musinsa.com/app/goods/2590205', 'http://www.musinsa.com/app/goods/2580644', 'http://www.musinsa.com/app/goods/2558169', 'http://www.musinsa.com/app/goods/2521389', 'http://www.musinsa.com/app/goods/2492339', 'http://www.musinsa.com/app/goods/2714524?loc=goods_rank', 'http://www.musinsa.com/app/goods/2776621?loc=goods_rank', 'http://www.musinsa.com/app/goods/2198859?loc=goods_rank', 'http://www.musinsa.com/app/goods/2697766?loc=goods_rank', 'http://www.musinsa.com/app/goods/2882890?loc=goods_rank', 'http://www.musinsa.com/app/goods/2714533?loc=goods_rank', 'http://www.musinsa.com/app/goods/2846045?loc=goods_rank', 'http://www.musinsa.com/app/goods/2753329?loc=goods_rank', 'http://www.musinsa.com/app/goods/2836338?loc=goods_rank', 'http://www.musinsa.com/app/goods/2630821?loc=goods_rank', 'http://www.musinsa.com/app/goods/1934623?loc=goods_rank', 'http://www.musinsa.com/app/goods/987352?loc=goods_rank', 'http://www.musinsa.com/app/goods/1963314?loc=goods_rank', 'http://www.musinsa.com/app/goods/2392494?loc=goods_rank', 'http://www.musinsa.com/app/goods/1922946?loc=goods_rank', 'http://www.musinsa.com/app/goods/2392489?loc=goods_rank', 'http://www.musinsa.com/app/goods/2448897?loc=goods_rank', 'http://www.musinsa.com/app/goods/2499442?loc=goods_rank', 'http://www.musinsa.com/app/goods/1343788?loc=goods_rank', 'http://www.musinsa.com/app/goods/2731614?loc=goods_rank', 'http://www.musinsa.com/app/goods/2464047', 'http://www.musinsa.com/app/goods/2440504', 'http://www.musinsa.com/app/goods/2356827', 'http://www.musinsa.com/app/goods/2342097', 'http://www.musinsa.com/app/goods/2340053', 'http://www.musinsa.com/app/goods/2320555', 'http://www.musinsa.com/app/goods/2220382', 'http://www.musinsa.com/app/goods/2169653', 'http://www.musinsa.com/app/goods/2081649', 'http://www.musinsa.com/app/goods/1996112', 'http://www.musinsa.com/app/goods/1996104', 'http://www.musinsa.com/app/goods/1990790', 'http://www.musinsa.com/app/goods/1973412', 'http://www.musinsa.com/app/goods/1963315', 'http://www.musinsa.com/app/goods/1948532', 'http://www.musinsa.com/app/goods/1911310', 'http://www.musinsa.com/app/goods/1794791', 'http://www.musinsa.com/app/goods/1719847', 'http://www.musinsa.com/app/goods/1586290', 'http://www.musinsa.com/app/goods/1568292', 'http://www.musinsa.com/app/goods/1308715', 'http://www.musinsa.com/app/goods/1254418', 'http://www.musinsa.com/app/goods/2834411', 'http://www.musinsa.com/app/goods/2830621', 'http://www.musinsa.com/app/goods/2810510', 'http://www.musinsa.com/app/goods/2809914', 'http://www.musinsa.com/app/goods/2798558', 'http://www.musinsa.com/app/goods/2793909', 'http://www.musinsa.com/app/goods/2784512', 'http://www.musinsa.com/app/goods/2775663', 'http://www.musinsa.com/app/goods/2773864', 'http://www.musinsa.com/app/goods/2760720', 'http://www.musinsa.com/app/goods/2754031', 'http://www.musinsa.com/app/goods/2728639', 'http://www.musinsa.com/app/goods/2695697', 'http://www.musinsa.com/app/goods/2691159', 'http://www.musinsa.com/app/goods/2685743', 'http://www.musinsa.com/app/goods/2668991', 'http://www.musinsa.com/app/goods/2647736', 'http://www.musinsa.com/app/goods/2640763', 'http://www.musinsa.com/app/goods/2634296', 'http://www.musinsa.com/app/goods/2591653', 'http://www.musinsa.com/app/goods/2587587', 'http://www.musinsa.com/app/goods/2585187', 'http://www.musinsa.com/app/goods/2564920', 'http://www.musinsa.com/app/goods/2558807', 'http://www.musinsa.com/app/goods/2543781', 'http://www.musinsa.com/app/goods/2515375', 'http://www.musinsa.com/app/goods/2509223', 'http://www.musinsa.com/app/goods/2500571', 'http://www.musinsa.com/app/goods/2458399', 'http://www.musinsa.com/app/goods/2457511', 'http://www.musinsa.com/app/goods/2453664', 'http://www.musinsa.com/app/goods/2429700', 'http://www.musinsa.com/app/goods/2395990', 'http://www.musinsa.com/app/goods/2393421', 'http://www.musinsa.com/app/goods/2369503', 'http://www.musinsa.com/app/goods/2358712', 'http://www.musinsa.com/app/goods/2326622', 'http://www.musinsa.com/app/goods/2313390', 'http://www.musinsa.com/app/goods/2283301', 'http://www.musinsa.com/app/goods/2282940', 'http://www.musinsa.com/app/goods/2236786', 'http://www.musinsa.com/app/goods/2236741', 'http://www.musinsa.com/app/goods/2205750', 'http://www.musinsa.com/app/goods/2168577', 'http://www.musinsa.com/app/goods/2069390', 'http://www.musinsa.com/app/goods/1967621', 'http://www.musinsa.com/app/goods/1792539', 'http://www.musinsa.com/app/goods/1739615', 'http://www.musinsa.com/app/goods/1693739', 'http://www.musinsa.com/app/goods/1671306', 'http://www.musinsa.com/app/goods/1627524', 'http://www.musinsa.com/app/goods/1511128', 'http://www.musinsa.com/app/goods/407622', 'http://www.musinsa.com/app/goods/2864719', 'http://www.musinsa.com/app/goods/2864711', 'http://www.musinsa.com/app/goods/2861064', 'http://www.musinsa.com/app/goods/2850737', 'http://www.musinsa.com/app/goods/2839522', 'http://www.musinsa.com/app/goods/2833507', 'http://www.musinsa.com/app/goods/2797028', 'http://www.musinsa.com/app/goods/2789666', 'http://www.musinsa.com/app/goods/2776995', 'http://www.musinsa.com/app/goods/2774793', 'http://www.musinsa.com/app/goods/2774683', 'http://www.musinsa.com/app/goods/2758049', 'http://www.musinsa.com/app/goods/2751322', 'http://www.musinsa.com/app/goods/2751290', 'http://www.musinsa.com/app/goods/2745668', 'http://www.musinsa.com/app/goods/2714524?loc=goods_rank', 'http://www.musinsa.com/app/goods/2776621?loc=goods_rank', 'http://www.musinsa.com/app/goods/2198859?loc=goods_rank', 'http://www.musinsa.com/app/goods/2697766?loc=goods_rank', 'http://www.musinsa.com/app/goods/2882890?loc=goods_rank', 'http://www.musinsa.com/app/goods/2714533?loc=goods_rank', 'http://www.musinsa.com/app/goods/2846045?loc=goods_rank', 'http://www.musinsa.com/app/goods/2753329?loc=goods_rank', 'http://www.musinsa.com/app/goods/2836338?loc=goods_rank', 'http://www.musinsa.com/app/goods/2630821?loc=goods_rank', 'http://www.musinsa.com/app/goods/1934623?loc=goods_rank', 'http://www.musinsa.com/app/goods/987352?loc=goods_rank', 'http://www.musinsa.com/app/goods/1963314?loc=goods_rank', 'http://www.musinsa.com/app/goods/2392494?loc=goods_rank', 'http://www.musinsa.com/app/goods/1922946?loc=goods_rank', 'http://www.musinsa.com/app/goods/2392489?loc=goods_rank', 'http://www.musinsa.com/app/goods/2448897?loc=goods_rank', 'http://www.musinsa.com/app/goods/2499442?loc=goods_rank', 'http://www.musinsa.com/app/goods/1343788?loc=goods_rank', 'http://www.musinsa.com/app/goods/2731614?loc=goods_rank', 'http://www.musinsa.com/app/goods/2745251', 'http://www.musinsa.com/app/goods/2742670', 'http://www.musinsa.com/app/goods/2739985', 'http://www.musinsa.com/app/goods/2739435', 'http://www.musinsa.com/app/goods/2714433', 'http://www.musinsa.com/app/goods/2712333', 'http://www.musinsa.com/app/goods/2712126', 'http://www.musinsa.com/app/goods/2711971', 'http://www.musinsa.com/app/goods/2710540', 'http://www.musinsa.com/app/goods/2690067', 'http://www.musinsa.com/app/goods/2686800', 'http://www.musinsa.com/app/goods/2685746', 'http://www.musinsa.com/app/goods/2664566', 'http://www.musinsa.com/app/goods/2664013', 'http://www.musinsa.com/app/goods/2662639', 'http://www.musinsa.com/app/goods/2658624', 'http://www.musinsa.com/app/goods/2648000', 'http://www.musinsa.com/app/goods/2640967', 'http://www.musinsa.com/app/goods/2627357', 'http://www.musinsa.com/app/goods/2619194', 'http://www.musinsa.com/app/goods/2613666', 'http://www.musinsa.com/app/goods/2606539', 'http://www.musinsa.com/app/goods/2591633', 'http://www.musinsa.com/app/goods/2590173', 'http://www.musinsa.com/app/goods/2589710', 'http://www.musinsa.com/app/goods/2579107', 'http://www.musinsa.com/app/goods/2578115', 'http://www.musinsa.com/app/goods/2575253', 'http://www.musinsa.com/app/goods/2569897', 'http://www.musinsa.com/app/goods/2562078', 'http://www.musinsa.com/app/goods/2559741', 'http://www.musinsa.com/app/goods/2544524', 'http://www.musinsa.com/app/goods/2544518', 'http://www.musinsa.com/app/goods/2531199', 'http://www.musinsa.com/app/goods/2531193', 'http://www.musinsa.com/app/goods/2524377', 'http://www.musinsa.com/app/goods/2510635', 'http://www.musinsa.com/app/goods/2508595', 'http://www.musinsa.com/app/goods/2490708', 'http://www.musinsa.com/app/goods/2476908', 'http://www.musinsa.com/app/goods/2439308', 'http://www.musinsa.com/app/goods/2408387', 'http://www.musinsa.com/app/goods/2387836', 'http://www.musinsa.com/app/goods/2378240', 'http://www.musinsa.com/app/goods/2358955', 'http://www.musinsa.com/app/goods/2312716', 'http://www.musinsa.com/app/goods/2283292', 'http://www.musinsa.com/app/goods/2273147', 'http://www.musinsa.com/app/goods/2258498', 'http://www.musinsa.com/app/goods/2253052', 'http://www.musinsa.com/app/goods/2211044', 'http://www.musinsa.com/app/goods/2198862', 'http://www.musinsa.com/app/goods/2171640', 'http://www.musinsa.com/app/goods/2148443', 'http://www.musinsa.com/app/goods/2115499', 'http://www.musinsa.com/app/goods/2105908', 'http://www.musinsa.com/app/goods/2085386', 'http://www.musinsa.com/app/goods/2070411', 'http://www.musinsa.com/app/goods/2029118', 'http://www.musinsa.com/app/goods/1956510', 'http://www.musinsa.com/app/goods/1908150', 'http://www.musinsa.com/app/goods/1905426', 'http://www.musinsa.com/app/goods/1888705', 'http://www.musinsa.com/app/goods/1834988', 'http://www.musinsa.com/app/goods/1774531', 'http://www.musinsa.com/app/goods/1759393', 'http://www.musinsa.com/app/goods/1600394', 'http://www.musinsa.com/app/goods/1466362', 'http://www.musinsa.com/app/goods/1446365', 'http://www.musinsa.com/app/goods/1442191', 'http://www.musinsa.com/app/goods/847205', 'http://www.musinsa.com/app/goods/2817690', 'http://www.musinsa.com/app/goods/2807371', 'http://www.musinsa.com/app/goods/2805748', 'http://www.musinsa.com/app/goods/2803153', 'http://www.musinsa.com/app/goods/2776383', 'http://www.musinsa.com/app/goods/2769627', 'http://www.musinsa.com/app/goods/2769416', 'http://www.musinsa.com/app/goods/2760700', 'http://www.musinsa.com/app/goods/2754710', 'http://www.musinsa.com/app/goods/2744640', 'http://www.musinsa.com/app/goods/2742939', 'http://www.musinsa.com/app/goods/2739311', 'http://www.musinsa.com/app/goods/2720254', 'http://www.musinsa.com/app/goods/2714416', 'http://www.musinsa.com/app/goods/2713268', 'http://www.musinsa.com/app/goods/2712235', 'http://www.musinsa.com/app/goods/2706665', 'http://www.musinsa.com/app/goods/2700731', 'http://www.musinsa.com/app/goods/2690660', 'http://www.musinsa.com/app/goods/2714524?loc=goods_rank', 'http://www.musinsa.com/app/goods/2776621?loc=goods_rank', 'http://www.musinsa.com/app/goods/2198859?loc=goods_rank', 'http://www.musinsa.com/app/goods/2697766?loc=goods_rank', 'http://www.musinsa.com/app/goods/2882890?loc=goods_rank', 'http://www.musinsa.com/app/goods/2714533?loc=goods_rank', 'http://www.musinsa.com/app/goods/2846045?loc=goods_rank', 'http://www.musinsa.com/app/goods/2753329?loc=goods_rank', 'http://www.musinsa.com/app/goods/2836338?loc=goods_rank', 'http://www.musinsa.com/app/goods/2630821?loc=goods_rank', 'http://www.musinsa.com/app/goods/1934623?loc=goods_rank', 'http://www.musinsa.com/app/goods/987352?loc=goods_rank', 'http://www.musinsa.com/app/goods/1963314?loc=goods_rank', 'http://www.musinsa.com/app/goods/2392494?loc=goods_rank', 'http://www.musinsa.com/app/goods/1922946?loc=goods_rank', 'http://www.musinsa.com/app/goods/2392489?loc=goods_rank', 'http://www.musinsa.com/app/goods/2448897?loc=goods_rank', 'http://www.musinsa.com/app/goods/2499442?loc=goods_rank', 'http://www.musinsa.com/app/goods/1343788?loc=goods_rank', 'http://www.musinsa.com/app/goods/2731614?loc=goods_rank', 'http://www.musinsa.com/app/goods/2685773', 'http://www.musinsa.com/app/goods/2685734', 'http://www.musinsa.com/app/goods/2684625', 'http://www.musinsa.com/app/goods/2669952', 'http://www.musinsa.com/app/goods/2662185', 'http://www.musinsa.com/app/goods/2650907', 'http://www.musinsa.com/app/goods/2640260', 'http://www.musinsa.com/app/goods/2631858', 'http://www.musinsa.com/app/goods/2629125', 'http://www.musinsa.com/app/goods/2628943', 'http://www.musinsa.com/app/goods/2624346', 'http://www.musinsa.com/app/goods/2590172', 'http://www.musinsa.com/app/goods/2585216', 'http://www.musinsa.com/app/goods/2558143', 'http://www.musinsa.com/app/goods/2554999', 'http://www.musinsa.com/app/goods/2554852', 'http://www.musinsa.com/app/goods/2531201', 'http://www.musinsa.com/app/goods/2502616', 'http://www.musinsa.com/app/goods/2487085', 'http://www.musinsa.com/app/goods/2487052', 'http://www.musinsa.com/app/goods/2485515', 'http://www.musinsa.com/app/goods/2485509', 'http://www.musinsa.com/app/goods/2458401', 'http://www.musinsa.com/app/goods/2409661', 'http://www.musinsa.com/app/goods/2396257', 'http://www.musinsa.com/app/goods/2372922', 'http://www.musinsa.com/app/goods/2365574', 'http://www.musinsa.com/app/goods/2364977', 'http://www.musinsa.com/app/goods/2364097', 'http://www.musinsa.com/app/goods/2361433', 'http://www.musinsa.com/app/goods/2351165', 'http://www.musinsa.com/app/goods/2289365', 'http://www.musinsa.com/app/goods/2266100', 'http://www.musinsa.com/app/goods/2236743', 'http://www.musinsa.com/app/goods/2212918', 'http://www.musinsa.com/app/goods/2171641', 'http://www.musinsa.com/app/goods/2143917', 'http://www.musinsa.com/app/goods/2132786', 'http://www.musinsa.com/app/goods/2131811', 'http://www.musinsa.com/app/goods/2125824', 'http://www.musinsa.com/app/goods/2115500', 'http://www.musinsa.com/app/goods/2111228', 'http://www.musinsa.com/app/goods/2097587', 'http://www.musinsa.com/app/goods/2091049', 'http://www.musinsa.com/app/goods/2088476', 'http://www.musinsa.com/app/goods/1999940', 'http://www.musinsa.com/app/goods/1987750', 'http://www.musinsa.com/app/goods/1967821', 'http://www.musinsa.com/app/goods/1953926', 'http://www.musinsa.com/app/goods/1942058', 'http://www.musinsa.com/app/goods/1934157', 'http://www.musinsa.com/app/goods/1878170', 'http://www.musinsa.com/app/goods/1864859', 'http://www.musinsa.com/app/goods/1612950', 'http://www.musinsa.com/app/goods/1609158', 'http://www.musinsa.com/app/goods/1585600', 'http://www.musinsa.com/app/goods/1537417', 'http://www.musinsa.com/app/goods/1467459', 'http://www.musinsa.com/app/goods/1459157', 'http://www.musinsa.com/app/goods/1421770', 'http://www.musinsa.com/app/goods/1409453', 'http://www.musinsa.com/app/goods/1264668', 'http://www.musinsa.com/app/goods/1181936', 'http://www.musinsa.com/app/goods/1140282', 'http://www.musinsa.com/app/goods/805707', 'http://www.musinsa.com/app/goods/2869717', 'http://www.musinsa.com/app/goods/2855390', 'http://www.musinsa.com/app/goods/2853310', 'http://www.musinsa.com/app/goods/2841929', 'http://www.musinsa.com/app/goods/2836370', 'http://www.musinsa.com/app/goods/2832669', 'http://www.musinsa.com/app/goods/2825160', 'http://www.musinsa.com/app/goods/2821228', 'http://www.musinsa.com/app/goods/2818050', 'http://www.musinsa.com/app/goods/2810499', 'http://www.musinsa.com/app/goods/2809925', 'http://www.musinsa.com/app/goods/2807374', 'http://www.musinsa.com/app/goods/2796943', 'http://www.musinsa.com/app/goods/2796476', 'http://www.musinsa.com/app/goods/2795043', 'http://www.musinsa.com/app/goods/2793011', 'http://www.musinsa.com/app/goods/2787540', 'http://www.musinsa.com/app/goods/2776575', 'http://www.musinsa.com/app/goods/2775677', 'http://www.musinsa.com/app/goods/2775487', 'http://www.musinsa.com/app/goods/2773865', 'http://www.musinsa.com/app/goods/2773723', 'http://www.musinsa.com/app/goods/2769418', 'http://www.musinsa.com/app/goods/2767158', 'http://www.musinsa.com/app/goods/2760721', 'http://www.musinsa.com/app/goods/2714524?loc=goods_rank', 'http://www.musinsa.com/app/goods/2776621?loc=goods_rank', 'http://www.musinsa.com/app/goods/2198859?loc=goods_rank', 'http://www.musinsa.com/app/goods/2697766?loc=goods_rank', 'http://www.musinsa.com/app/goods/2882890?loc=goods_rank', 'http://www.musinsa.com/app/goods/2714533?loc=goods_rank', 'http://www.musinsa.com/app/goods/2846045?loc=goods_rank', 'http://www.musinsa.com/app/goods/2753329?loc=goods_rank', 'http://www.musinsa.com/app/goods/2836338?loc=goods_rank', 'http://www.musinsa.com/app/goods/2630821?loc=goods_rank', 'http://www.musinsa.com/app/goods/1934623?loc=goods_rank', 'http://www.musinsa.com/app/goods/987352?loc=goods_rank', 'http://www.musinsa.com/app/goods/1963314?loc=goods_rank', 'http://www.musinsa.com/app/goods/2392494?loc=goods_rank', 'http://www.musinsa.com/app/goods/1922946?loc=goods_rank', 'http://www.musinsa.com/app/goods/2392489?loc=goods_rank', 'http://www.musinsa.com/app/goods/2448897?loc=goods_rank', 'http://www.musinsa.com/app/goods/2499442?loc=goods_rank', 'http://www.musinsa.com/app/goods/1343788?loc=goods_rank', 'http://www.musinsa.com/app/goods/2731614?loc=goods_rank', 'http://www.musinsa.com/app/goods/2756746', 'http://www.musinsa.com/app/goods/2744192', 'http://www.musinsa.com/app/goods/2739868', 'http://www.musinsa.com/app/goods/2738745', 'http://www.musinsa.com/app/goods/2735210', 'http://www.musinsa.com/app/goods/2733265', 'http://www.musinsa.com/app/goods/2723642', 'http://www.musinsa.com/app/goods/2720356', 'http://www.musinsa.com/app/goods/2720255', 'http://www.musinsa.com/app/goods/2717415', 'http://www.musinsa.com/app/goods/2708378', 'http://www.musinsa.com/app/goods/2691335', 'http://www.musinsa.com/app/goods/2685729', 'http://www.musinsa.com/app/goods/2685725', 'http://www.musinsa.com/app/goods/2681562', 'http://www.musinsa.com/app/goods/2677298', 'http://www.musinsa.com/app/goods/2675349', 'http://www.musinsa.com/app/goods/2669939', 'http://www.musinsa.com/app/goods/2650910', 'http://www.musinsa.com/app/goods/2640674', 'http://www.musinsa.com/app/goods/2639142', 'http://www.musinsa.com/app/goods/2635536', 'http://www.musinsa.com/app/goods/2631743', 'http://www.musinsa.com/app/goods/2620770', 'http://www.musinsa.com/app/goods/2612789', 'http://www.musinsa.com/app/goods/2612775', 'http://www.musinsa.com/app/goods/2612356', 'http://www.musinsa.com/app/goods/2611733', 'http://www.musinsa.com/app/goods/2590108', 'http://www.musinsa.com/app/goods/2589528', 'http://www.musinsa.com/app/goods/2585634', 'http://www.musinsa.com/app/goods/2585141', 'http://www.musinsa.com/app/goods/2585107', 'http://www.musinsa.com/app/goods/2584405', 'http://www.musinsa.com/app/goods/2563690', 'http://www.musinsa.com/app/goods/2562648', 'http://www.musinsa.com/app/goods/2562076', 'http://www.musinsa.com/app/goods/2561265', 'http://www.musinsa.com/app/goods/2558455', 'http://www.musinsa.com/app/goods/2558236', 'http://www.musinsa.com/app/goods/2556295', 'http://www.musinsa.com/app/goods/2556289', 'http://www.musinsa.com/app/goods/2524691', 'http://www.musinsa.com/app/goods/2517742', 'http://www.musinsa.com/app/goods/2492557', 'http://www.musinsa.com/app/goods/2490197', 'http://www.musinsa.com/app/goods/2479308', 'http://www.musinsa.com/app/goods/2467098', 'http://www.musinsa.com/app/goods/2460026', 'http://www.musinsa.com/app/goods/2452066', 'http://www.musinsa.com/app/goods/2444494', 'http://www.musinsa.com/app/goods/2419010', 'http://www.musinsa.com/app/goods/2418990', 'http://www.musinsa.com/app/goods/2402350', 'http://www.musinsa.com/app/goods/2401345', 'http://www.musinsa.com/app/goods/2395752', 'http://www.musinsa.com/app/goods/2393447', 'http://www.musinsa.com/app/goods/2388770', 'http://www.musinsa.com/app/goods/2379284', 'http://www.musinsa.com/app/goods/2375524', 'http://www.musinsa.com/app/goods/2375515', 'http://www.musinsa.com/app/goods/2369526', 'http://www.musinsa.com/app/goods/2364941', 'http://www.musinsa.com/app/goods/2343709', 'http://www.musinsa.com/app/goods/2340116', 'http://www.musinsa.com/app/goods/2336388', 'http://www.musinsa.com/app/goods/2328763', 'http://www.musinsa.com/app/goods/2327939', 'http://www.musinsa.com/app/goods/2283834', 'http://www.musinsa.com/app/goods/2283288', 'http://www.musinsa.com/app/goods/2258555', 'http://www.musinsa.com/app/goods/2258486', 'http://www.musinsa.com/app/goods/2253056', 'http://www.musinsa.com/app/goods/2236734', 'http://www.musinsa.com/app/goods/2173159', 'http://www.musinsa.com/app/goods/2158947', 'http://www.musinsa.com/app/goods/2155559', 'http://www.musinsa.com/app/goods/2143858', 'http://www.musinsa.com/app/goods/2136952', 'http://www.musinsa.com/app/goods/2129395', 'http://www.musinsa.com/app/goods/2126683', 'http://www.musinsa.com/app/goods/2120002', 'http://www.musinsa.com/app/goods/2088463', 'http://www.musinsa.com/app/goods/2068105', 'http://www.musinsa.com/app/goods/2051413', 'http://www.musinsa.com/app/goods/2048219', 'http://www.musinsa.com/app/goods/2007984', 'http://www.musinsa.com/app/goods/1997007', 'http://www.musinsa.com/app/goods/1992281', 'http://www.musinsa.com/app/goods/1985019', 'http://www.musinsa.com/app/goods/2714524?loc=goods_rank', 'http://www.musinsa.com/app/goods/2776621?loc=goods_rank', 'http://www.musinsa.com/app/goods/2198859?loc=goods_rank', 'http://www.musinsa.com/app/goods/2697766?loc=goods_rank', 'http://www.musinsa.com/app/goods/2882890?loc=goods_rank', 'http://www.musinsa.com/app/goods/2714533?loc=goods_rank', 'http://www.musinsa.com/app/goods/2846045?loc=goods_rank', 'http://www.musinsa.com/app/goods/2753329?loc=goods_rank', 'http://www.musinsa.com/app/goods/2836338?loc=goods_rank', 'http://www.musinsa.com/app/goods/2630821?loc=goods_rank', 'http://www.musinsa.com/app/goods/1934623?loc=goods_rank', 'http://www.musinsa.com/app/goods/987352?loc=goods_rank', 'http://www.musinsa.com/app/goods/1963314?loc=goods_rank', 'http://www.musinsa.com/app/goods/2392494?loc=goods_rank', 'http://www.musinsa.com/app/goods/1922946?loc=goods_rank', 'http://www.musinsa.com/app/goods/2392489?loc=goods_rank', 'http://www.musinsa.com/app/goods/2448897?loc=goods_rank', 'http://www.musinsa.com/app/goods/2499442?loc=goods_rank', 'http://www.musinsa.com/app/goods/1343788?loc=goods_rank', 'http://www.musinsa.com/app/goods/2731614?loc=goods_rank', 'http://www.musinsa.com/app/goods/1961950', 'http://www.musinsa.com/app/goods/1948735', 'http://www.musinsa.com/app/goods/1944449', 'http://www.musinsa.com/app/goods/1941140', 'http://www.musinsa.com/app/goods/1914044', 'http://www.musinsa.com/app/goods/1909495', 'http://www.musinsa.com/app/goods/1806443', 'http://www.musinsa.com/app/goods/1795781', 'http://www.musinsa.com/app/goods/1774111', 'http://www.musinsa.com/app/goods/1759249', 'http://www.musinsa.com/app/goods/1759234', 'http://www.musinsa.com/app/goods/1632142', 'http://www.musinsa.com/app/goods/1629330', 'http://www.musinsa.com/app/goods/1618966', 'http://www.musinsa.com/app/goods/1610622', 'http://www.musinsa.com/app/goods/1609124', 'http://www.musinsa.com/app/goods/1507825', 'http://www.musinsa.com/app/goods/1506870', 'http://www.musinsa.com/app/goods/1417730', 'http://www.musinsa.com/app/goods/1308675', 'http://www.musinsa.com/app/goods/2890891', 'http://www.musinsa.com/app/goods/2886673', 'http://www.musinsa.com/app/goods/2880874', 'http://www.musinsa.com/app/goods/2880865', 'http://www.musinsa.com/app/goods/2857516', 'http://www.musinsa.com/app/goods/2852367', 'http://www.musinsa.com/app/goods/2846986', 'http://www.musinsa.com/app/goods/2845875', 'http://www.musinsa.com/app/goods/2845507', 'http://www.musinsa.com/app/goods/2834410', 'http://www.musinsa.com/app/goods/2833409', 'http://www.musinsa.com/app/goods/2830892', 'http://www.musinsa.com/app/goods/2826428', 'http://www.musinsa.com/app/goods/2821257', 'http://www.musinsa.com/app/goods/2821255', 'http://www.musinsa.com/app/goods/2819171', 'http://www.musinsa.com/app/goods/2818498', 'http://www.musinsa.com/app/goods/2816570', 'http://www.musinsa.com/app/goods/2810280', 'http://www.musinsa.com/app/goods/2808105', 'http://www.musinsa.com/app/goods/2805478', 'http://www.musinsa.com/app/goods/2803110', 'http://www.musinsa.com/app/goods/2781667', 'http://www.musinsa.com/app/goods/2774791', 'http://www.musinsa.com/app/goods/2771469', 'http://www.musinsa.com/app/goods/2769299', 'http://www.musinsa.com/app/goods/2767162', 'http://www.musinsa.com/app/goods/2765755', 'http://www.musinsa.com/app/goods/2760696', 'http://www.musinsa.com/app/goods/2755365', 'http://www.musinsa.com/app/goods/2753636', 'http://www.musinsa.com/app/goods/2753381', 'http://www.musinsa.com/app/goods/2753245', 'http://www.musinsa.com/app/goods/2751231', 'http://www.musinsa.com/app/goods/2748694', 'http://www.musinsa.com/app/goods/2743896', 'http://www.musinsa.com/app/goods/2742440', 'http://www.musinsa.com/app/goods/2740582', 'http://www.musinsa.com/app/goods/2738174', 'http://www.musinsa.com/app/goods/2738171', 'http://www.musinsa.com/app/goods/2720355', 'http://www.musinsa.com/app/goods/2717548', 'http://www.musinsa.com/app/goods/2712302', 'http://www.musinsa.com/app/goods/2698391', 'http://www.musinsa.com/app/goods/2697776', 'http://www.musinsa.com/app/goods/2697673', 'http://www.musinsa.com/app/goods/2697058', 'http://www.musinsa.com/app/goods/2686221', 'http://www.musinsa.com/app/goods/2685751', 'http://www.musinsa.com/app/goods/2685742', 'http://www.musinsa.com/app/goods/2685740', 'http://www.musinsa.com/app/goods/2669937', 'http://www.musinsa.com/app/goods/2668204', 'http://www.musinsa.com/app/goods/2667600', 'http://www.musinsa.com/app/goods/2665106', 'http://www.musinsa.com/app/goods/2662646', 'http://www.musinsa.com/app/goods/2658637', 'http://www.musinsa.com/app/goods/2656703', 'http://www.musinsa.com/app/goods/2648006', 'http://www.musinsa.com/app/goods/2648003', 'http://www.musinsa.com/app/goods/2644960', 'http://www.musinsa.com/app/goods/2638495', 'http://www.musinsa.com/app/goods/2629000', 'http://www.musinsa.com/app/goods/2627341', 'http://www.musinsa.com/app/goods/2626813', 'http://www.musinsa.com/app/goods/2621818', 'http://www.musinsa.com/app/goods/2606533', 'http://www.musinsa.com/app/goods/2604047', 'http://www.musinsa.com/app/goods/2598115', 'http://www.musinsa.com/app/goods/2597831', 'http://www.musinsa.com/app/goods/2714524?loc=goods_rank', 'http://www.musinsa.com/app/goods/2776621?loc=goods_rank', 'http://www.musinsa.com/app/goods/2198859?loc=goods_rank', 'http://www.musinsa.com/app/goods/2697766?loc=goods_rank', 'http://www.musinsa.com/app/goods/2882890?loc=goods_rank', 'http://www.musinsa.com/app/goods/2714533?loc=goods_rank', 'http://www.musinsa.com/app/goods/2846045?loc=goods_rank', 'http://www.musinsa.com/app/goods/2753329?loc=goods_rank', 'http://www.musinsa.com/app/goods/2836338?loc=goods_rank', 'http://www.musinsa.com/app/goods/2630821?loc=goods_rank', 'http://www.musinsa.com/app/goods/1934623?loc=goods_rank', 'http://www.musinsa.com/app/goods/987352?loc=goods_rank', 'http://www.musinsa.com/app/goods/1963314?loc=goods_rank', 'http://www.musinsa.com/app/goods/2392494?loc=goods_rank', 'http://www.musinsa.com/app/goods/1922946?loc=goods_rank', 'http://www.musinsa.com/app/goods/2392489?loc=goods_rank', 'http://www.musinsa.com/app/goods/2448897?loc=goods_rank', 'http://www.musinsa.com/app/goods/2499442?loc=goods_rank', 'http://www.musinsa.com/app/goods/1343788?loc=goods_rank', 'http://www.musinsa.com/app/goods/2731614?loc=goods_rank', 'http://www.musinsa.com/app/goods/2594573', 'http://www.musinsa.com/app/goods/2592522', 'http://www.musinsa.com/app/goods/2591594', 'http://www.musinsa.com/app/goods/2589503', 'http://www.musinsa.com/app/goods/2587982', 'http://www.musinsa.com/app/goods/2587037', 'http://www.musinsa.com/app/goods/2586856', 'http://www.musinsa.com/app/goods/2585486', 'http://www.musinsa.com/app/goods/2585120', 'http://www.musinsa.com/app/goods/2583998', 'http://www.musinsa.com/app/goods/2580089', 'http://www.musinsa.com/app/goods/2580003', 'http://www.musinsa.com/app/goods/2570542', 'http://www.musinsa.com/app/goods/2569231', 'http://www.musinsa.com/app/goods/2568122', 'http://www.musinsa.com/app/goods/2564518', 'http://www.musinsa.com/app/goods/2558553', 'http://www.musinsa.com/app/goods/2554877', 'http://www.musinsa.com/app/goods/2526028', 'http://www.musinsa.com/app/goods/2514339', 'http://www.musinsa.com/app/goods/2509671', 'http://www.musinsa.com/app/goods/2509667', 'http://www.musinsa.com/app/goods/2507569', 'http://www.musinsa.com/app/goods/2501522', 'http://www.musinsa.com/app/goods/2499196', 'http://www.musinsa.com/app/goods/2486400', 'http://www.musinsa.com/app/goods/2479302', 'http://www.musinsa.com/app/goods/2478661', 'http://www.musinsa.com/app/goods/2476848', 'http://www.musinsa.com/app/goods/2475393', 'http://www.musinsa.com/app/goods/2464247', 'http://www.musinsa.com/app/goods/2460397', 'http://www.musinsa.com/app/goods/2451844', 'http://www.musinsa.com/app/goods/2447313', 'http://www.musinsa.com/app/goods/2447174', 'http://www.musinsa.com/app/goods/2443759', 'http://www.musinsa.com/app/goods/2439927', 'http://www.musinsa.com/app/goods/2425817', 'http://www.musinsa.com/app/goods/2418709', 'http://www.musinsa.com/app/goods/2410343', 'http://www.musinsa.com/app/goods/2402166', 'http://www.musinsa.com/app/goods/2402037', 'http://www.musinsa.com/app/goods/2398785', 'http://www.musinsa.com/app/goods/2377784', 'http://www.musinsa.com/app/goods/2373165', 'http://www.musinsa.com/app/goods/2370766', 'http://www.musinsa.com/app/goods/2369504', 'http://www.musinsa.com/app/goods/2369005', 'http://www.musinsa.com/app/goods/2352961', 'http://www.musinsa.com/app/goods/2349204', 'http://www.musinsa.com/app/goods/2337743', 'http://www.musinsa.com/app/goods/2306180', 'http://www.musinsa.com/app/goods/2282928', 'http://www.musinsa.com/app/goods/2282387', 'http://www.musinsa.com/app/goods/2236796', 'http://www.musinsa.com/app/goods/2221993', 'http://www.musinsa.com/app/goods/2196054', 'http://www.musinsa.com/app/goods/2179777', 'http://www.musinsa.com/app/goods/2171642', 'http://www.musinsa.com/app/goods/2169585', 'http://www.musinsa.com/app/goods/2150915', 'http://www.musinsa.com/app/goods/2132798', 'http://www.musinsa.com/app/goods/2131812', 'http://www.musinsa.com/app/goods/2126792', 'http://www.musinsa.com/app/goods/2106154', 'http://www.musinsa.com/app/goods/2085389', 'http://www.musinsa.com/app/goods/2084230', 'http://www.musinsa.com/app/goods/2068104', 'http://www.musinsa.com/app/goods/2064776', 'http://www.musinsa.com/app/goods/2015168', 'http://www.musinsa.com/app/goods/1965433', 'http://www.musinsa.com/app/goods/1958002', 'http://www.musinsa.com/app/goods/1934621', 'http://www.musinsa.com/app/goods/1922946', 'http://www.musinsa.com/app/goods/1911308', 'http://www.musinsa.com/app/goods/1909526', 'http://www.musinsa.com/app/goods/1834984', 'http://www.musinsa.com/app/goods/1827547', 'http://www.musinsa.com/app/goods/1827450', 'http://www.musinsa.com/app/goods/1821788', 'http://www.musinsa.com/app/goods/1820484', 'http://www.musinsa.com/app/goods/1817241', 'http://www.musinsa.com/app/goods/1774662', 'http://www.musinsa.com/app/goods/1672905', 'http://www.musinsa.com/app/goods/1671256', 'http://www.musinsa.com/app/goods/1629332', 'http://www.musinsa.com/app/goods/1619832', 'http://www.musinsa.com/app/goods/1619153', 'http://www.musinsa.com/app/goods/1613044', 'http://www.musinsa.com/app/goods/1612382']\n"
     ]
    }
   ],
   "source": [
    "#1~10페이지 내의 상품 접속 '링크만' 추출\n",
    "#soup.select(selector= '#searchList > li:nth-child(1) > div.li_inner > div.article_info > p.list_info > a')\n",
    "\n",
    "dresses = []\n",
    "\n",
    "for i in range(1, 11):\n",
    "    url = f'https://www.musinsa.com/categories/item/020?d_cat_cd=020&brand=&list_kind=small&sort=sale_high&sub_sort=3m&page={i}&display_cnt=90&group_sale=&exclusive_yn=&sale_goods=&timesale_yn=&ex_soldout=&kids=&color=&price1=&price2=&shoeSizeOption=&tags=&campaign_id=&includeKeywords=&measure='\n",
    "    html = requests.get(url).text\n",
    "    soup = BeautifulSoup(html, 'html.parser')\n",
    "    #사이트 내 상품명 & 링크\n",
    "    products = soup.select(selector = 'p.list_info > a')\n",
    "    \n",
    "    #링크만 추출\n",
    "    for product in products:\n",
    "        dresses.append(product['href'])\n",
    "\n",
    "dress_links = []\n",
    "\n",
    "#링크 모음 리스트 dresses 내에 있는 링크에 대한 조건문\n",
    "for dress in dresses:\n",
    "    if 'http:' in dress:\n",
    "        pass\n",
    "    elif 'https:' in dress:\n",
    "        pass\n",
    "    else:\n",
    "        dress = 'http:' + dress\n",
    "        dress_links.append(dress)\n",
    "        \n",
    "print(dress_links)"
   ]
  },
  {
   "cell_type": "code",
   "execution_count": 16,
   "id": "aa7a21ed-e2a2-4ca1-8828-d31f73492aeb",
   "metadata": {},
   "outputs": [
    {
     "data": {
      "text/plain": [
       "'http://www.musinsa.com/app/goods/1934623?loc=goods_rank'"
      ]
     },
     "execution_count": 16,
     "metadata": {},
     "output_type": "execute_result"
    }
   ],
   "source": [
    "dress_links[10]"
   ]
  },
  {
   "cell_type": "markdown",
   "id": "c4028e65-3c5c-44b5-9e56-211368141b8a",
   "metadata": {},
   "source": [
    "#### * 중간과정 계산"
   ]
  },
  {
   "cell_type": "code",
   "execution_count": 10,
   "id": "8133d75f-b02a-44bd-ab1c-6b3f3b9a11e3",
   "metadata": {},
   "outputs": [
    {
     "name": "stdout",
     "output_type": "stream",
     "text": [
      "[<th class=\"item_val\">\n",
      "<input name=\"diff_range_0\" type=\"hidden\" value=\"5\">\n",
      "                                총장\n",
      "                            </input></th>, <th class=\"item_val\">\n",
      "<input name=\"diff_range_1\" type=\"hidden\" value=\"5\"/>\n",
      "                                어깨너비\n",
      "                            </th>, <th class=\"item_val\">\n",
      "<input name=\"diff_range_2\" type=\"hidden\" value=\"5\"/>\n",
      "                                가슴단면\n",
      "                            </th>, <th class=\"item_val\">\n",
      "<input name=\"diff_range_3\" type=\"hidden\" value=\"5\"/>\n",
      "                                소매길이\n",
      "                            </th>]\n",
      "\n",
      "[<th>MY</th>, <th>S</th>, <th>M</th>]\n"
     ]
    }
   ],
   "source": [
    "header = {'User-Agent' : 'Mozilla/5.0 (Windows NT 10.0; Win64; x64) AppleWebKit/537.36 (KHTML, like Gecko) Chrome/106.0.0.0 Safari/537.36'}\n",
    "\n",
    "html = requests.get(dress_links[10], headers = header).text\n",
    "soup = BeautifulSoup(html, 'html.parser')\n",
    "columns = soup.find_all(class_ = 'item_val')    #사이즈표의 칼럼\n",
    "size_cats = soup.select('#size_table > tbody > tr > th')    #사이즈표의 사이즈\n",
    "\n",
    "print(columns)\n",
    "print()\n",
    "print(size_cats)"
   ]
  },
  {
   "cell_type": "code",
   "execution_count": 11,
   "id": "3fe9d604-65ad-4641-b1d0-89b679ca1f91",
   "metadata": {},
   "outputs": [
    {
     "name": "stdout",
     "output_type": "stream",
     "text": [
      "['총장', '어깨너비', '가슴단면', '소매길이']\n",
      "\n",
      "['S', 'M']\n"
     ]
    }
   ],
   "source": [
    "#사이즈표의 칼럼명 (총장, 어깨너비, ..)\n",
    "columns_parts = [column.text.strip() for column in columns]\n",
    "#사이즈표의 사이즈명 (S, M, ..)\n",
    "size_cate = [cate.text.strip() for cate in size_cats][1:]\n",
    "\n",
    "print(columns_parts)\n",
    "print()\n",
    "print(size_cate)"
   ]
  },
  {
   "cell_type": "code",
   "execution_count": 18,
   "id": "8ef9f0cd-690d-454d-81e2-e3a5e8f4bbd6",
   "metadata": {},
   "outputs": [
    {
     "name": "stdout",
     "output_type": "stream",
     "text": [
      "size_val_2: ['86.5', '32', '45.5', '22', '87.5', '33.3', '48', '22.7']\n",
      "results [['86.5', '32', '45.5', '22', '87.5', '33.3', '48', '22.7']]\n",
      "colpts ['총장', '어깨너비', '가슴단면', '소매길이', '총장', '어깨너비', '가슴단면', '소매길이']\n",
      "columns_parts: ['총장', '어깨너비', '가슴단면', '소매길이', '총장', '어깨너비', '가슴단면', '소매길이']\n",
      "categories: ['S', 'S', 'S', 'S', 'M', 'M', 'M', 'M']\n"
     ]
    }
   ],
   "source": [
    "#전체 사이즈의 전체 치수 모음 리스트\n",
    "size_val = []\n",
    "        \n",
    "for i in range(3, len(size_cats) + 3):    #i : S, M, ...\n",
    "    for j in range(2, len(columns_parts) + 2):    #j : 총장, 어깨너비, ...\n",
    "        types = soup.select(f'#size_table > tbody > tr:nth-child({i}) > td:nth-child({j})')\n",
    "        #print('types_1:', types)\n",
    "        types = re.sub('[^0-9.]', '', str(types))\n",
    "        #print('types_2:', types)\n",
    "        size_val.append(types.strip())\n",
    "        #print('size_val_1:', size_val)\n",
    "                \n",
    "size_val = [v for v in size_val if v]    #없는 값은 제외\n",
    "print('size_val_2:', size_val)\n",
    "        \n",
    "#각각의 상품 사이즈표 칼럼수 만큼 치수 분배\n",
    "n = len(columns_parts)    #사이즈표 칼럼수\n",
    "results = [size_val[i * n: (i+1)*n] for i in range((len(size_val) + n-1) // n)]\n",
    "colpts = columns_parts * (len(results))\n",
    "print('results', results)\n",
    "print('colpts', colpts)\n",
    "        \n",
    "columns_parts = columns_parts * (int(len(size_val) / len(columns_parts)))\n",
    "print('columns_parts:', columns_parts)\n",
    "        \n",
    "categories = []\n",
    "        \n",
    "n = int(len(size_val) / len(size_cate))\n",
    "        \n",
    "for size in size_cate:\n",
    "    for i in range(n):\n",
    "        categories.append(size)\n",
    "        \n",
    "print('categories:', categories)"
   ]
  },
  {
   "cell_type": "code",
   "execution_count": null,
   "id": "aad822c1-ff7b-42eb-9d8f-41ca1ecdcfb5",
   "metadata": {},
   "outputs": [],
   "source": []
  },
  {
   "cell_type": "code",
   "execution_count": null,
   "id": "37cb7810-9587-41a5-9d7c-b62dc5df55d9",
   "metadata": {},
   "outputs": [],
   "source": [
    "#1~10페이지 내 상품들 각각의 S,M,L,XL 사이즈 출력 (오류 수정)\n",
    "header = {'User-Agent' : 'Mozilla/5.0 (Windows NT 10.0; Win64; x64) AppleWebKit/537.36 (KHTML, like Gecko) Chrome/106.0.0.0 Safari/537.36'}\n",
    "dress_data = pd.DataFrame()\n",
    "\n",
    "for dress_link in dress_links:\n",
    "    html = requests.get(dress_link, headers = header).text\n",
    "    soup = BeautifulSoup(html, 'html.parser')\n",
    "    columns = soup.find_all(class_ = 'item_val')    #사이즈표의 칼럼\n",
    "    size_cats = soup.select('#size_table > tbody > tr > th')    #사이즈표의 사이즈\n",
    "    #size_table > tbody\n",
    "    #size_table > tbody > tr:nth-child(3) > td:nth-child(2)\n",
    "    \n",
    "    if columns:\n",
    "        #사이즈표의 칼럼명 (총장, 어깨너비, ..)\n",
    "        columns_parts = [column.text.strip() for column in columns]\n",
    "        #사이즈표의 사이즈명 (S, M, ..)\n",
    "        size_cate = [cate.text.strip() for cate in size_cats][1:]\n",
    "        \n",
    "        #전체 사이즈의 전체 치수 모음 리스트\n",
    "        size_val = []\n",
    "        \n",
    "        for i in range(3, len(size_cats) + 3):\n",
    "            for j in range(2, len(columns_parts) + 2):\n",
    "                types = soup.select(f'#size_table > tbody > tr:nth-child({i}) > td:nth-child({j})')\n",
    "                types = re.sub('[^0-9.]', '', str(types))\n",
    "                size_val.append(types.strip())\n",
    "                \n",
    "        size_val = [v for v in size_val if v]\n",
    "        \n",
    "        #각각의 상품 사이즈표 칼럼수 만큼 치수 분배\n",
    "        n = len(columns_parts)    #사이즈표 칼럼수\n",
    "        results = [size_val[i * n: (i+1)*n] for i in range((len(size_val) + n-1) // n)]\n",
    "        colpts = columns_parts * (len(results))\n",
    "        \n",
    "        columns_parts = columns_parts * (int(len(size_val) / len(columns_parts)))\n",
    "        \n",
    "        categories = []\n",
    "        \n",
    "        n = int(len(size_val) / len(size_cate))\n",
    "        \n",
    "        for size in size_cate:\n",
    "            for i in range(n):\n",
    "                categories.append(size)\n",
    "                \n",
    "        size_val_df = pd.DataFrame(size_val)\n",
    "        size_cate_df = pd.DataFrame(categories)\n",
    "        columns_part_df = pd.DataFrame(columns_parts)\n",
    "        \n",
    "        df_1 = pd.concat([size_val_df, size_cate_df], axis=1)\n",
    "        df_2 = pd.concat([df_1, columns_part_df], axis=1)\n",
    "        \n",
    "        dress_data = pd.concat([dress_data, df_2], axis=0)\n",
    "        \n",
    "    else:\n",
    "        continue\n",
    "        \n",
    "dress_data"
   ]
  },
  {
   "cell_type": "code",
   "execution_count": null,
   "id": "a8c569bc-456e-4456-8509-0641a03fc5bb",
   "metadata": {},
   "outputs": [],
   "source": []
  }
 ],
 "metadata": {
  "kernelspec": {
   "display_name": "Python 3 (ipykernel)",
   "language": "python",
   "name": "python3"
  },
  "language_info": {
   "codemirror_mode": {
    "name": "ipython",
    "version": 3
   },
   "file_extension": ".py",
   "mimetype": "text/x-python",
   "name": "python",
   "nbconvert_exporter": "python",
   "pygments_lexer": "ipython3",
   "version": "3.9.12"
  }
 },
 "nbformat": 4,
 "nbformat_minor": 5
}
