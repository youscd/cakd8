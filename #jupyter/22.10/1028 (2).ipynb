{
 "cells": [
  {
   "cell_type": "markdown",
   "id": "74232fd6-2cff-45aa-aced-c4a1b1a04466",
   "metadata": {
    "jp-MarkdownHeadingCollapsed": true,
    "tags": []
   },
   "source": [
    "### 1027"
   ]
  },
  {
   "cell_type": "code",
   "execution_count": null,
   "id": "73b6467b-4112-43f8-838f-4133b3ca4fd4",
   "metadata": {},
   "outputs": [],
   "source": [
    "( requests , urllib.request ) 는 HTTP 요청을 보낼 수 있도록 기능을 제공하는 라이브러리 이다\n",
    "\n",
    "( BeautifulSoup ) 은 페이지의 정보를 쉽게 스크랩할 수 있도록 기능을 제공하는 라이브러리 이다\n",
    "\n",
    "( selenium ) 은 동적으로 변하는 웹 페이지의 데이터들까지 설정하여 크롤링할 수 있다"
   ]
  },
  {
   "cell_type": "code",
   "execution_count": null,
   "id": "026024cc-12bb-4c54-a32e-7ac05ea2eded",
   "metadata": {},
   "outputs": [],
   "source": [
    "URL 처리 시 한글이 포함되어 있는 경우, 한글 깨짐 현상을 방지해주는 함수는?\n",
    "--> quote_plus() / from urllib.parse import quote_plus"
   ]
  },
  {
   "cell_type": "code",
   "execution_count": null,
   "id": "b64589dd-4acd-4318-9eda-0494d5d11574",
   "metadata": {},
   "outputs": [],
   "source": [
    "로봇으로 요청했을 경우, 정보를 주지 않는 사이트도 있다\n",
    "웹브라우저 정보를 header 에 담아 보낼때 사용되는 정보는?\n",
    "--> { 'User-Agent' : }"
   ]
  },
  {
   "cell_type": "code",
   "execution_count": null,
   "id": "43ae0553-7ed6-4135-9294-26ea201e806e",
   "metadata": {},
   "outputs": [],
   "source": [
    "request.urlopen(url).read()\n",
    "requests.get(url).text"
   ]
  },
  {
   "cell_type": "code",
   "execution_count": null,
   "id": "64d93717-b79e-41f9-aac8-5e0b49addacc",
   "metadata": {},
   "outputs": [],
   "source": [
    "html : HyperText Markup Language"
   ]
  },
  {
   "cell_type": "code",
   "execution_count": null,
   "id": "4c745bca-a0ab-4189-92cc-8daebc28848a",
   "metadata": {},
   "outputs": [],
   "source": [
    "HTML 에서 페이지 이동 시 url(또는 uri) 에 데이터를 포함하여 전달해서 쓰는 방식을 ( get ) 방식이라 한다"
   ]
  },
  {
   "cell_type": "code",
   "execution_count": null,
   "id": "80c05a38-3b80-43c9-9773-14ef187ad211",
   "metadata": {},
   "outputs": [],
   "source": [
    "soup.find_all(class_ = \"tit_main fn_tit_u\") 와 같은 의미의 다른 함수는?\n",
    "--> soup.select(\".tit_main.fn_tit_u\")"
   ]
  },
  {
   "cell_type": "markdown",
   "id": "9cfbe613-8a6b-45ca-a437-02b9a6653988",
   "metadata": {},
   "source": [
    "### 1028"
   ]
  },
  {
   "cell_type": "markdown",
   "id": "60cca437-4fe8-495b-81de-3bb8d11f8577",
   "metadata": {},
   "source": [
    "## 파이썬 Web Scraping\n",
    "http://pythonstudy.xyz/python/article/403-%ED%8C%8C%EC%9D%B4%EC%8D%AC-Web-Scraping<br>\n",
    "\n",
    "웹사이트에서 HTML을 읽어와 필요한 데이터를 긁어오는 것을 Web Scraping이라 한다<br>\n",
    "이 과정은 크게 웹페이지를 읽어오는 과정과, 읽어온 HTML 문서에서 필요한 데이타를 뽑아내는 과정으로 나눌 수 있다<br>\n",
    "\n",
    "웹페이지를 읽어오는 일은 여러 모듈을 사용할 수 있는데, 파이썬에서 기본적으로 제공하는 urllib, urllib2 을 사용하거나 편리한 HTTP 라이브러리로 많이 쓰이고 있는 'requests' 를 설치해 사용할 수 있다<br>\n",
    "만약 기존 코드를 유지보수하는 일이 아니라면 requests 를 사용할 것을 권장한다<br>\n",
    "\n",
    "### ① requests - 웹페이지 읽어오기\n",
    "HTTP 라이브러리인 requests를 사용하기 위해서 pip을 이용하여 requests 패키지를 설치한다<br>\n",
    "--> pip install requests<br>\n",
    "\n",
    "requests는 HTTP GET, POST, PUT, DELETE 등을 사용할 수 있으며, 편리한 데이타 인코딩 기능을 제공한다<br>\n",
    "즉, 데이타를 Dictionary로 만들어 GET, POST 등에서 사용하면 필요한 Request 인코딩을 자동으로 처리해준다<br>\n",
    "\n",
    "#### * requests.get(url) 함수\n",
    "해당 웹페이지 호출 결과를 가진 Response 객체를 리턴하며, 이러한 Response 객체는 HTML Response와 관련된 여러 attribute들을 가지고 있다<br>\n",
    "\n",
    "* Response.status_code : HTTP Status 결과 체크<br>\n",
    "* Response.text : 리턴된 데이타를 문자열로 리턴<br>\n",
    "* Response.content : Response 데이타를 바이트(bytes)로 리턴<br>\n",
    "* Response.raise_for_status : Response에서 에러가 있을 경우 프로그램을 중단<br>\n",
    "\n",
    "#### * requests 에서의 한글 깨짐 문제\n",
    "requests 에서 웹 호출을 진행한 후 결과는 Response 객체에 담기게 되는데,<br>\n",
    "Response의 text 속성은(Response.text) 'str 타입' 으로서 보통 requests 모듈에서 '자동으로' 데이타를 인코딩해준다<br>\n",
    "즉, requests는 HTTP 헤더를 통해 결과 데이타의 인코딩 방식을 '추측' 하여 Response 객체의 encoding 속성에 그 값을 지정하고, text 속성을 엑세스할 때 이 encoding 속성을 사용하는 것이다<br>\n",
    "따라서 만약 인코딩 방식을 변경해야 한다면, text 속성을 읽기 전에 Response의 encoding 속성을 변경하면 된다<br>\n",
    "(예: 네이버 홈페이지는 UTF-8을 사용하고, 네이버 증권사이트는 ISO-8859-1을 사용한다)<br>\n",
    "\n",
    "### ② BeautifulSoup - 웹페이지 파싱\n",
    "웹페이지 HTML 문서를 파싱(Parsing)하기 위해서는 BeautifulSoup 라는 모듈을 사용할 수 있다<br>\n",
    "BeautifulSoup 설치 --> pip install beautifulsoup4<br>\n",
    "\n",
    "BeautifulSoup 객체에서는 특정 HTML 태그(들)을 찾기 위해 select() 메서드를 사용한다<br>\n",
    "이 메서드의 파라미터로 어떤 태크(들)을 찾을 지를 CSS 스타일의 'Selector' 로 지정하면 된다<br>\n",
    "예를 들어, select('.news li') 는 news 라는 CSS 클래스 안이 모든 li 태그들을 리턴하게 된다<br>\n",
    "\n",
    "리턴된 결과는 태그(s4.element.Tag)들의 \"리스트(list)\" 인데,<br>\n",
    "각 태그 요소(bs4.element.Tag)로부터 태그 내 문자열을 리턴하기 위해서는 getText()를, 특정 태그 attribute를 얻기 위해서는 get('attribute명') 메서드 등을 사용할 수 있다"
   ]
  },
  {
   "cell_type": "markdown",
   "id": "6f36371a-4314-4d09-8674-674c8a4a8ca8",
   "metadata": {},
   "source": [
    "## 크롤링 (3)"
   ]
  },
  {
   "cell_type": "markdown",
   "id": "f9def855-c206-4a09-a756-8f9b56cc501a",
   "metadata": {},
   "source": [
    "### < 대한민국의 역대 대통령 목록 >"
   ]
  },
  {
   "cell_type": "markdown",
   "id": "45635232-8886-4d93-ab7d-a8189b5d6ada",
   "metadata": {},
   "source": [
    "#### * 역대 대통령 목록에서 이름만 추출"
   ]
  },
  {
   "cell_type": "code",
   "execution_count": 1,
   "id": "ef974d9d-d674-4462-a00e-bccef87f2259",
   "metadata": {},
   "outputs": [],
   "source": [
    "import pandas as pd\n",
    "import numpy as np\n",
    "\n",
    "from urllib import request\n",
    "from bs4 import BeautifulSoup\n",
    "import requests"
   ]
  },
  {
   "cell_type": "code",
   "execution_count": 2,
   "id": "b9a48183-b50a-4a4f-bdd5-b0c4179a90cb",
   "metadata": {},
   "outputs": [],
   "source": [
    "url = 'https://ko.wikipedia.org/wiki/%EB%8C%80%ED%95%9C%EB%AF%BC%EA%B5%AD%EC%9D%98_%EB%8C%80%ED%86%B5%EB%A0%B9_%EB%AA%A9%EB%A1%9D'"
   ]
  },
  {
   "cell_type": "code",
   "execution_count": 3,
   "id": "41933cc1-9785-4aa5-ac50-30682b279d9c",
   "metadata": {},
   "outputs": [
    {
     "data": {
      "text/plain": [
       "<Response [200]>"
      ]
     },
     "execution_count": 3,
     "metadata": {},
     "output_type": "execute_result"
    }
   ],
   "source": [
    "requests.get(url)"
   ]
  },
  {
   "cell_type": "code",
   "execution_count": 5,
   "id": "e4102693-b804-483d-9f74-4d130c783ee9",
   "metadata": {},
   "outputs": [],
   "source": [
    "html = requests.get(url).text\n",
    "soup = BeautifulSoup(html, 'html.parser')"
   ]
  },
  {
   "cell_type": "code",
   "execution_count": 6,
   "id": "85978b60-97fc-4799-b463-35d9d67daa91",
   "metadata": {},
   "outputs": [
    {
     "data": {
      "text/plain": [
       "[<a href=\"/wiki/%EC%9D%B4%EC%8A%B9%EB%A7%8C\" title=\"이승만\">이승만</a>]"
      ]
     },
     "execution_count": 6,
     "metadata": {},
     "output_type": "execute_result"
    }
   ],
   "source": [
    "soup.select(selector = \"#mw-content-text > div.mw-parser-output > table:nth-child(6) > tbody > tr:nth-child(3) > td:nth-child(3) > b > a\")"
   ]
  },
  {
   "cell_type": "code",
   "execution_count": 12,
   "id": "1d7d567e-8206-4a02-9eb7-6160a1e9cb0c",
   "metadata": {},
   "outputs": [
    {
     "data": {
      "text/plain": [
       "[<a href=\"/wiki/%EC%9D%B4%EC%8A%B9%EB%A7%8C\" title=\"이승만\">이승만</a>,\n",
       " <a href=\"/wiki/%EC%9C%A4%EB%B3%B4%EC%84%A0\" title=\"윤보선\">윤보선</a>,\n",
       " <a href=\"/wiki/%EB%B0%95%EC%A0%95%ED%9D%AC\" title=\"박정희\">박정희</a>,\n",
       " <a href=\"/wiki/%EC%B5%9C%EA%B7%9C%ED%95%98\" title=\"최규하\">최규하</a>,\n",
       " <a href=\"/wiki/%EC%A0%84%EB%91%90%ED%99%98\" title=\"전두환\">전두환</a>,\n",
       " <a href=\"/wiki/%EB%85%B8%ED%83%9C%EC%9A%B0\" title=\"노태우\">노태우</a>,\n",
       " <a href=\"/wiki/%EA%B9%80%EC%98%81%EC%82%BC\" title=\"김영삼\">김영삼</a>,\n",
       " <a href=\"/wiki/%EA%B9%80%EB%8C%80%EC%A4%91\" title=\"김대중\">김대중</a>,\n",
       " <a href=\"/wiki/%EB%85%B8%EB%AC%B4%ED%98%84\" title=\"노무현\">노무현</a>,\n",
       " <a href=\"/wiki/%EC%9D%B4%EB%AA%85%EB%B0%95\" title=\"이명박\">이명박</a>,\n",
       " <a href=\"/wiki/%EB%B0%95%EA%B7%BC%ED%98%9C\" title=\"박근혜\">박근혜</a>,\n",
       " <a href=\"/wiki/%EB%AC%B8%EC%9E%AC%EC%9D%B8\" title=\"문재인\">문재인</a>,\n",
       " <a href=\"/wiki/%EC%9C%A4%EC%84%9D%EC%97%B4\" title=\"윤석열\">윤석열</a>]"
      ]
     },
     "execution_count": 12,
     "metadata": {},
     "output_type": "execute_result"
    }
   ],
   "source": [
    "#soup.select(selector = \"#mw-content-text > div.mw-parser-output > table:nth-child(6) > tbody > tr:nth-child(3) > td:nth-child(3) > b > a\")\n",
    "soup.select(selector = \"td:nth-child(3) > b > a\")\n",
    "soup.select(selector = \"td > b > a\")"
   ]
  },
  {
   "cell_type": "code",
   "execution_count": 14,
   "id": "7a81555c-3096-430e-9bf5-24bf23babd74",
   "metadata": {},
   "outputs": [
    {
     "data": {
      "text/plain": [
       "['이승만',\n",
       " '윤보선',\n",
       " '박정희',\n",
       " '최규하',\n",
       " '전두환',\n",
       " '노태우',\n",
       " '김영삼',\n",
       " '김대중',\n",
       " '노무현',\n",
       " '이명박',\n",
       " '박근혜',\n",
       " '문재인',\n",
       " '윤석열']"
      ]
     },
     "execution_count": 14,
     "metadata": {},
     "output_type": "execute_result"
    }
   ],
   "source": [
    "names = soup.select(selector = \"td > b > a\")\n",
    "[name.text for name in names]\n",
    "[name.attrs['title'] for name in names]"
   ]
  },
  {
   "cell_type": "markdown",
   "id": "a275d16f-9772-4929-ac47-076705a582da",
   "metadata": {},
   "source": [
    "### < 온라인 사이트에 로그인 하기 >"
   ]
  },
  {
   "cell_type": "code",
   "execution_count": 15,
   "id": "bee8b6ad-3e01-4767-8c53-84c48fd40481",
   "metadata": {},
   "outputs": [],
   "source": [
    "import requests\n",
    "from bs4 import BeautifulSoup\n",
    "from selenium import webdriver\n",
    "from urllib.request import urlopen\n",
    "from urllib.parse import quote_plus"
   ]
  },
  {
   "cell_type": "markdown",
   "id": "3e824d57-5ef7-404f-842e-cdab9fa58830",
   "metadata": {},
   "source": [
    "#### * find_element By\n",
    "https://pythonblog.co.kr/coding/23/<br>\n",
    "https://selenium-python.readthedocs.io/locating-elements.html<br>\n",
    "\n",
    "태그의 id 값으로 추출<br>\n",
    "find_element(By.ID, \"id\")<br>\n",
    "\n",
    "태그의 name 값으로 추출<br>\n",
    "find_element(By.NAME, \"name\")<br>\n",
    "\n",
    "태그 이름으로 추출<br>\n",
    "find_element(By.TAG_NAME, \"tag name\")<br>\n",
    "\n",
    "태그의 클래스 명으로 추출<br>\n",
    "find_element(By.CLASS_NAME, \"class name\")<br>\n",
    "\n",
    "css 선택자로 추출<br>\n",
    "find_element(By.CSS_SELECTOR, \"css selector\")<br>\n",
    "\n",
    "태그의 경로로 추출<br>\n",
    "find_element(By.XPATH, \"xpath\")<br>\n",
    "\n",
    "태그의 링크 텍스트 값으로 추출<br>\n",
    "find_element(By.LINK_TEXT, \"link text\")<br>\n",
    "\n",
    "링크 텍스트의 자식 텍스트 값을 추출<br>\n",
    "find_element(By.PARTIAL_LINK_TEXT, \"partial link text\")"
   ]
  },
  {
   "cell_type": "markdown",
   "id": "2e310797-470d-4aa6-871c-838fb052574d",
   "metadata": {},
   "source": [
    "#### * Naver"
   ]
  },
  {
   "cell_type": "code",
   "execution_count": 16,
   "id": "1b8bf406-2111-46ec-bccc-d43d5415b2c6",
   "metadata": {},
   "outputs": [
    {
     "name": "stderr",
     "output_type": "stream",
     "text": [
      "C:\\Users\\admin\\AppData\\Local\\Temp\\ipykernel_1576\\2667484421.py:1: DeprecationWarning: executable_path has been deprecated, please pass in a Service object\n",
      "  driver = webdriver.Chrome(\"C:/Users/admin/#jupyter/1027/chromedriver.exe\")\n"
     ]
    }
   ],
   "source": [
    "driver = webdriver.Chrome(\"C:/Users/admin/#jupyter/1027/chromedriver.exe\")"
   ]
  },
  {
   "cell_type": "code",
   "execution_count": 17,
   "id": "1bb4c394-15ba-4a33-a9ff-7d949acfd5cb",
   "metadata": {},
   "outputs": [],
   "source": [
    "#naver 사이트에 로그인하는 페이지\n",
    "login_url = 'https://nid.naver.com/nidlogin.login?mode=form&url=https%3A%2F%2Fwww.naver.com'\n",
    "driver.get(login_url)"
   ]
  },
  {
   "cell_type": "code",
   "execution_count": 19,
   "id": "26fa1297-cdc7-46e5-a0c1-3eb8ad0e81e3",
   "metadata": {},
   "outputs": [],
   "source": [
    "from selenium.webdriver.common.by import By"
   ]
  },
  {
   "cell_type": "code",
   "execution_count": 20,
   "id": "478c43c3-eee1-43da-a904-78532d26c4ab",
   "metadata": {},
   "outputs": [],
   "source": [
    "#id 입력\n",
    "element = driver.find_element(By.ID, \"id\")    #id 입력칸 찾아가기 (태그의 id 값으로 추출)\n",
    "element.clear()    #id 입력칸 지우기 (깨끗하게 하기)\n",
    "element.send_keys(\"ghen125\")    #id 입력"
   ]
  },
  {
   "cell_type": "code",
   "execution_count": 36,
   "id": "23e40e9e-1382-49f7-ab0e-bf3ccac17f4b",
   "metadata": {},
   "outputs": [
    {
     "data": {
      "text/plain": [
       "selenium.webdriver.remote.webelement.WebElement"
      ]
     },
     "execution_count": 36,
     "metadata": {},
     "output_type": "execute_result"
    }
   ],
   "source": [
    "type(element)"
   ]
  },
  {
   "cell_type": "code",
   "execution_count": 21,
   "id": "f6827a48-a4e4-4b32-8192-aed8d44d94e8",
   "metadata": {},
   "outputs": [],
   "source": [
    "#pw 입력\n",
    "element = driver.find_element(By.ID, \"pw\")    #pw 입력칸 찾아가기 (태그의 id 값으로 추출)\n",
    "element.clear()    #pw 입력칸 지우기 (깨끗하게 하기)\n",
    "element.send_keys(\"asdfg\")    #pw 입력"
   ]
  },
  {
   "cell_type": "code",
   "execution_count": 22,
   "id": "3125e73e-b174-4e50-88ec-bcbc4133bb8a",
   "metadata": {},
   "outputs": [],
   "source": [
    "from selenium.webdriver.common.keys import Keys\n",
    "#키보드의 키를 컴퓨터에 전달, 마우스 클릭과 동일한 효과"
   ]
  },
  {
   "cell_type": "code",
   "execution_count": 23,
   "id": "ef6fbf3d-b385-4253-acb9-0ca8cdc6b23f",
   "metadata": {},
   "outputs": [],
   "source": [
    "#엔터 키 누르기 (find_element's' 에는 적용되지 않는다)\n",
    "element.send_keys(Keys.ENTER)"
   ]
  },
  {
   "cell_type": "code",
   "execution_count": 24,
   "id": "fb6600bb-6869-4e11-af29-e77b0110d5b8",
   "metadata": {},
   "outputs": [
    {
     "name": "stdout",
     "output_type": "stream",
     "text": [
      "<class 'list'>\n"
     ]
    },
    {
     "data": {
      "text/plain": [
       "[<selenium.webdriver.remote.webelement.WebElement (session=\"4d1d49d96b8c0a7bc0649d40d34db83a\", element=\"7ec9d6f5-b6b7-4bbb-b915-d8690d3f2729\")>,\n",
       " <selenium.webdriver.remote.webelement.WebElement (session=\"4d1d49d96b8c0a7bc0649d40d34db83a\", element=\"cc4eab02-ee84-4b8e-81bc-1cc32f10ca69\")>]"
      ]
     },
     "execution_count": 24,
     "metadata": {},
     "output_type": "execute_result"
    }
   ],
   "source": [
    "#클래스로 접근하여 id, pw 입력하기\n",
    "elements = driver.find_elements(By.CLASS_NAME, \"input_text\")\n",
    "print(type(elements))\n",
    "elements"
   ]
  },
  {
   "cell_type": "code",
   "execution_count": 28,
   "id": "1eef7e21-63b3-4721-a8e2-808c01cdaa50",
   "metadata": {},
   "outputs": [
    {
     "ename": "AttributeError",
     "evalue": "'list' object has no attribute 'send_keys'",
     "output_type": "error",
     "traceback": [
      "\u001b[1;31m---------------------------------------------------------------------------\u001b[0m",
      "\u001b[1;31mAttributeError\u001b[0m                            Traceback (most recent call last)",
      "Input \u001b[1;32mIn [28]\u001b[0m, in \u001b[0;36m<cell line: 12>\u001b[1;34m()\u001b[0m\n\u001b[0;32m      9\u001b[0m elements[\u001b[38;5;241m1\u001b[39m]\u001b[38;5;241m.\u001b[39msend_keys(\u001b[38;5;124m\"\u001b[39m\u001b[38;5;124masdfg\u001b[39m\u001b[38;5;124m\"\u001b[39m)\n\u001b[0;32m     11\u001b[0m \u001b[38;5;66;03m#enter 키(로그인 버튼) 누르기\u001b[39;00m\n\u001b[1;32m---> 12\u001b[0m \u001b[43melements\u001b[49m\u001b[38;5;241;43m.\u001b[39;49m\u001b[43msend_keys\u001b[49m(Keys\u001b[38;5;241m.\u001b[39mENTER)\n",
      "\u001b[1;31mAttributeError\u001b[0m: 'list' object has no attribute 'send_keys'"
     ]
    }
   ],
   "source": [
    "elements = driver.find_elements(By.CLASS_NAME, \"input_text\")\n",
    "\n",
    "#id\n",
    "elements[0].clear()\n",
    "elements[0].send_keys(\"ghen125\")\n",
    "\n",
    "#pw\n",
    "elements[1].clear()\n",
    "elements[1].send_keys(\"asdfg\")\n",
    "\n",
    "#enter 키(로그인 버튼) 누르기\n",
    "elements.send_keys(Keys.ENTER)"
   ]
  },
  {
   "cell_type": "code",
   "execution_count": 37,
   "id": "e857a293-b627-4f04-b82d-64de7bd56e74",
   "metadata": {},
   "outputs": [],
   "source": [
    "#새로운 객체로 만들어 재실행\n",
    "new_elements = driver.find_element(By.CLASS_NAME, \"input_text\")\n",
    "\n",
    "#id\n",
    "elements[0].clear()\n",
    "elements[0].send_keys(\"ghen125\")\n",
    "\n",
    "#pw\n",
    "elements[1].clear()\n",
    "elements[1].send_keys(\"asdfg\")\n",
    "\n",
    "#enter 키(로그인 버튼) 누르기\n",
    "new_elements.send_keys(Keys.ENTER)"
   ]
  },
  {
   "cell_type": "code",
   "execution_count": 38,
   "id": "cbbc5636-c49c-4fe7-ba16-5d8352b90710",
   "metadata": {},
   "outputs": [
    {
     "name": "stdout",
     "output_type": "stream",
     "text": [
      "<class 'selenium.webdriver.remote.webelement.WebElement'>\n",
      "<class 'list'>\n",
      "<class 'selenium.webdriver.remote.webelement.WebElement'>\n"
     ]
    }
   ],
   "source": [
    "#element = driver.find_element(By.ID, \"id\")\n",
    "print(type(element))\n",
    "\n",
    "#elements = driver.find_elements(By.CLASS_NAME, \"input_text\")\n",
    "print(type(elements))\n",
    "\n",
    "#new_elements = driver.find_element(By.CLASS_NAME, \"input_text\")\n",
    "print(type(new_elements))"
   ]
  },
  {
   "cell_type": "markdown",
   "id": "86fb5290-c378-4206-85d2-3a4529d70ca6",
   "metadata": {},
   "source": [
    "find_element's' 에는 send_keys( ) 가 적용되지 않는다<br>\n",
    "--> find_element's' 로 적용된 elements 의 type 는 'list', find_element 로 적용된 element 와 new_elements 의 type 는 'WebElement' 이다<br>\n",
    "즉, send_keys( ) 는 'list' 형에는 적용되지 않고, 'WebElement' 형에 적용되는 메서드인 것이다"
   ]
  },
  {
   "cell_type": "markdown",
   "id": "9976a680-16d9-4b31-9972-265291b49839",
   "metadata": {},
   "source": [
    "#### * Daum"
   ]
  },
  {
   "cell_type": "code",
   "execution_count": 42,
   "id": "7120ae6e-e3aa-411a-9211-5d6c1cf78204",
   "metadata": {},
   "outputs": [
    {
     "name": "stderr",
     "output_type": "stream",
     "text": [
      "C:\\Users\\admin\\AppData\\Local\\Temp\\ipykernel_1576\\2667484421.py:1: DeprecationWarning: executable_path has been deprecated, please pass in a Service object\n",
      "  driver = webdriver.Chrome(\"C:/Users/admin/#jupyter/1027/chromedriver.exe\")\n"
     ]
    }
   ],
   "source": [
    "driver = webdriver.Chrome(\"C:/Users/admin/#jupyter/1027/chromedriver.exe\")"
   ]
  },
  {
   "cell_type": "code",
   "execution_count": 46,
   "id": "8b372ed4-5d8c-44f7-ba93-3807c12eb8ca",
   "metadata": {},
   "outputs": [],
   "source": [
    "login_url = 'https://accounts.kakao.com/login/?continue=https%3A%2F%2Flogins.daum.net%2Faccounts%2Fksso.do%3Frescue%3Dtrue%26url%3Dhttps%253A%252F%252Fwww.daum.net'\n",
    "driver.get(login_url)"
   ]
  },
  {
   "cell_type": "code",
   "execution_count": 47,
   "id": "55d2224f-9c02-4c63-90f5-d3963e558fed",
   "metadata": {},
   "outputs": [],
   "source": [
    "#id 입력\n",
    "element = driver.find_element(By.ID, \"input-loginKey\")    #id 입력칸 찾아가기 (태그의 id 값으로 추출)\n",
    "element.clear()    #id 입력칸 지우기 (깨끗하게 하기)\n",
    "element.send_keys(\"ghen125@naver.com\")    #id 입력"
   ]
  },
  {
   "cell_type": "code",
   "execution_count": 48,
   "id": "850e460a-2118-4e18-89b9-5a01cc41ec6d",
   "metadata": {},
   "outputs": [],
   "source": [
    "#pw 입력\n",
    "element = driver.find_element(By.ID, \"input-password\")    #pw 입력칸 찾아가기 (태그의 id 값으로 추출)\n",
    "element.clear()    #pw 입력칸 지우기 (깨끗하게 하기)\n",
    "element.send_keys(\"asdfg\")    #pw 입력"
   ]
  },
  {
   "cell_type": "code",
   "execution_count": 49,
   "id": "34fe8bf1-d4bc-4a6a-985d-bf0f81564edb",
   "metadata": {},
   "outputs": [],
   "source": [
    "#엔터 키 누르기\n",
    "element.send_keys(Keys.ENTER)"
   ]
  },
  {
   "cell_type": "code",
   "execution_count": 56,
   "id": "0dc1d686-dfaa-475e-876a-2e21891754bb",
   "metadata": {},
   "outputs": [],
   "source": [
    "#클래스로 접근하여 id, pw 입력하기\n",
    "elements = driver.find_elements(By.CLASS_NAME, \"tf_g\")\n",
    "\n",
    "#id\n",
    "elements[0].clear()\n",
    "elements[0].send_keys(\"ghen125@naver.com\")\n",
    "\n",
    "#pw\n",
    "elements[1].clear()\n",
    "elements[1].send_keys(\"asdfg\")\n",
    "\n",
    "#enter 키(로그인 버튼) 누르기\n",
    "new_elements = driver.find_element(By.CLASS_NAME, \"tf_g\")\n",
    "new_elements.send_keys(Keys.ENTER)"
   ]
  },
  {
   "cell_type": "markdown",
   "id": "8ee035a4-c9ff-4e69-ac64-db8f40386740",
   "metadata": {},
   "source": [
    "#### * Google\n",
    "https://velog.io/@bluejoyq/selenium%EC%9C%BC%EB%A1%9C-%EA%B5%AC%EA%B8%80-%EB%A1%9C%EA%B7%B8%EC%9D%B8%ED%95%98%EA%B8%B0"
   ]
  },
  {
   "cell_type": "code",
   "execution_count": 42,
   "id": "8dac56a8-161d-4b8c-92c0-78b044e6ee37",
   "metadata": {},
   "outputs": [
    {
     "name": "stderr",
     "output_type": "stream",
     "text": [
      "C:\\Users\\admin\\AppData\\Local\\Temp\\ipykernel_1576\\2667484421.py:1: DeprecationWarning: executable_path has been deprecated, please pass in a Service object\n",
      "  driver = webdriver.Chrome(\"C:/Users/admin/#jupyter/1027/chromedriver.exe\")\n"
     ]
    }
   ],
   "source": [
    "driver = webdriver.Chrome(\"C:/Users/admin/#jupyter/1027/chromedriver.exe\")"
   ]
  },
  {
   "cell_type": "code",
   "execution_count": 57,
   "id": "705b58c2-ed25-42bb-9a04-9ba2e71660e5",
   "metadata": {},
   "outputs": [],
   "source": [
    "login_url = 'https://accounts.google.com/ServiceLogin/signinchooser?ec=hpp_signin_001&flowName=GlifWebSignIn&flowEntry=ServiceLogin'\n",
    "driver.get(login_url)"
   ]
  },
  {
   "cell_type": "code",
   "execution_count": 60,
   "id": "16fef14e-239a-43cc-b607-9022e7fe4682",
   "metadata": {},
   "outputs": [],
   "source": [
    "#id 입력\n",
    "element = driver.find_element(By.ID, \"identifierId\")    #id 입력칸 찾아가기 (태그의 id 값으로 추출)\n",
    "element.clear()    #id 입력칸 지우기 (깨끗하게 하기)\n",
    "element.send_keys(\"yejiyu95@gmail.com\")    #id 입력"
   ]
  },
  {
   "cell_type": "code",
   "execution_count": 61,
   "id": "927be58d-304a-4643-9c92-6d16418213a5",
   "metadata": {},
   "outputs": [],
   "source": [
    "#엔터 키 누르기\n",
    "element.send_keys(Keys.ENTER)"
   ]
  },
  {
   "cell_type": "code",
   "execution_count": 62,
   "id": "7b04a1c2-a7e7-490d-8708-cac8b49d1027",
   "metadata": {},
   "outputs": [
    {
     "ename": "ModuleNotFoundError",
     "evalue": "No module named 'undetected_chromedriver'",
     "output_type": "error",
     "traceback": [
      "\u001b[1;31m---------------------------------------------------------------------------\u001b[0m",
      "\u001b[1;31mModuleNotFoundError\u001b[0m                       Traceback (most recent call last)",
      "Input \u001b[1;32mIn [62]\u001b[0m, in \u001b[0;36m<cell line: 3>\u001b[1;34m()\u001b[0m\n\u001b[0;32m      1\u001b[0m \u001b[38;5;28;01mfrom\u001b[39;00m \u001b[38;5;21;01mselenium\u001b[39;00m\u001b[38;5;21;01m.\u001b[39;00m\u001b[38;5;21;01mwebdriver\u001b[39;00m\u001b[38;5;21;01m.\u001b[39;00m\u001b[38;5;21;01msupport\u001b[39;00m\u001b[38;5;21;01m.\u001b[39;00m\u001b[38;5;21;01mui\u001b[39;00m \u001b[38;5;28;01mimport\u001b[39;00m WebDriverWait\n\u001b[0;32m      2\u001b[0m \u001b[38;5;28;01mfrom\u001b[39;00m \u001b[38;5;21;01mselenium\u001b[39;00m\u001b[38;5;21;01m.\u001b[39;00m\u001b[38;5;21;01mwebdriver\u001b[39;00m\u001b[38;5;21;01m.\u001b[39;00m\u001b[38;5;21;01msupport\u001b[39;00m \u001b[38;5;28;01mimport\u001b[39;00m expected_conditions \u001b[38;5;28;01mas\u001b[39;00m EC\n\u001b[1;32m----> 3\u001b[0m \u001b[38;5;28;01mimport\u001b[39;00m \u001b[38;5;21;01mundetected_chromedriver\u001b[39;00m \u001b[38;5;28;01mas\u001b[39;00m \u001b[38;5;21;01muc\u001b[39;00m\n",
      "\u001b[1;31mModuleNotFoundError\u001b[0m: No module named 'undetected_chromedriver'"
     ]
    }
   ],
   "source": [
    "from selenium.webdriver.support.ui import WebDriverWait\n",
    "from selenium.webdriver.support import expected_conditions as EC\n",
    "import undetected_chromedriver as uc"
   ]
  },
  {
   "cell_type": "code",
   "execution_count": null,
   "id": "a82cdf57-189d-48f2-9aed-58a390caf038",
   "metadata": {},
   "outputs": [],
   "source": [
    "def init_driver():\n",
    "    driver = uc.Chrome()\n",
    "    driver.get('https://velog.io')\n",
    "    return driver\n",
    "# 로그인 버튼을 눌러주고 로그인이 되서 다시 velog로 돌아올때까지 60초를 기다린다.\n",
    "def do_login(driver):\n",
    "    driver.find_element(By.XPATH,'//button[text()=\"로그인\"]').click()\n",
    "    WebDriverWait(driver, 60).until(\n",
    "        EC.presence_of_element_located(\n",
    "            (By.XPATH, '//button[text()=\"새 글 작성\"]')\n",
    "        )\n",
    "    )\n",
    "# main에서 실행하지 않으면 오류가 남\n",
    "# https://github.com/ultrafunkamsterdam/undetected-chromedriver/issues/486#issuecomment-1032009193 참조\n",
    "if  __name__  ==  \"__main__\" :\n",
    "    driver = init_driver()\n",
    "    do_login(driver)\n",
    "    # 당신의 코드를 아래에 적으세요.  "
   ]
  },
  {
   "cell_type": "code",
   "execution_count": null,
   "id": "77f615f4-13b9-4ba3-a151-84cf774d3ce5",
   "metadata": {},
   "outputs": [],
   "source": [
    "#pw 입력\n",
    "element = driver.find_element(By.ID, \"input-password\")    #pw 입력칸 찾아가기 (태그의 id 값으로 추출)\n",
    "element.clear()    #pw 입력칸 지우기 (깨끗하게 하기)\n",
    "element.send_keys(\"asdfg\")    #pw 입력"
   ]
  },
  {
   "cell_type": "code",
   "execution_count": null,
   "id": "f0c2e3c3-a0e7-453b-a060-a85442770340",
   "metadata": {},
   "outputs": [],
   "source": [
    "#클래스로 접근하여 id, pw 입력하기\n",
    "elements = driver.find_elements(By.CLASS_NAME, \"tf_g\")\n",
    "\n",
    "#id\n",
    "elements[0].clear()\n",
    "elements[0].send_keys(\"ghen125@naver.com\")\n",
    "\n",
    "#pw\n",
    "elements[1].clear()\n",
    "elements[1].send_keys(\"asdfg\")\n",
    "\n",
    "#enter 키(로그인 버튼) 누르기\n",
    "new_elements = driver.find_element(By.CLASS_NAME, \"tf_g\")\n",
    "new_elements.send_keys(Keys.ENTER)"
   ]
  },
  {
   "cell_type": "markdown",
   "id": "8d5549d2-cb7a-42ad-b9c2-461aba1b9560",
   "metadata": {},
   "source": [
    "### < 쇼핑 목록 조회하기 (네이버 쇼핑) >"
   ]
  },
  {
   "cell_type": "code",
   "execution_count": 64,
   "id": "cabe8351-a53a-472c-98e0-7f74b49a5e7f",
   "metadata": {},
   "outputs": [
    {
     "name": "stderr",
     "output_type": "stream",
     "text": [
      "C:\\Users\\admin\\AppData\\Local\\Temp\\ipykernel_1576\\2667484421.py:1: DeprecationWarning: executable_path has been deprecated, please pass in a Service object\n",
      "  driver = webdriver.Chrome(\"C:/Users/admin/#jupyter/1027/chromedriver.exe\")\n"
     ]
    }
   ],
   "source": [
    "driver = webdriver.Chrome(\"C:/Users/admin/#jupyter/1027/chromedriver.exe\")"
   ]
  },
  {
   "cell_type": "code",
   "execution_count": 65,
   "id": "856c7ff9-da21-4af7-9e75-1b536a883e51",
   "metadata": {},
   "outputs": [],
   "source": [
    "login_url = 'https://nid.naver.com/nidlogin.login?mode=form&url=https%3A%2F%2Fwww.naver.com'\n",
    "driver.get(login_url)"
   ]
  },
  {
   "cell_type": "code",
   "execution_count": 66,
   "id": "d3201b43-3120-45e9-b26e-2a16a2e89827",
   "metadata": {},
   "outputs": [],
   "source": [
    "elements = driver.find_elements(By.CLASS_NAME, \"input_text\")\n",
    "\n",
    "#id\n",
    "elements[0].clear()\n",
    "elements[0].send_keys(\"ghen125\")\n",
    "\n",
    "#pw\n",
    "elements[1].clear()\n",
    "elements[1].send_keys(\"asdfg\")\n",
    "\n",
    "#새로운 객체로 만들어 enter 키(로그인 버튼) 누르기\n",
    "new_elements = driver.find_element(By.CLASS_NAME, \"input_text\")\n",
    "new_elements.send_keys(Keys.ENTER)"
   ]
  },
  {
   "cell_type": "code",
   "execution_count": 67,
   "id": "a75f0475-690f-4e36-aedc-2ea5d88af42c",
   "metadata": {},
   "outputs": [],
   "source": [
    "#네이버 쇼핑 사이트 접속\n",
    "driver.get('https://order.pay.naver.com/home?tabMenu=SHOPPING')"
   ]
  },
  {
   "cell_type": "code",
   "execution_count": 70,
   "id": "8f8e90e9-bea9-493d-8f84-75225513ba2a",
   "metadata": {},
   "outputs": [
    {
     "data": {
      "text/plain": [
       "[<selenium.webdriver.remote.webelement.WebElement (session=\"11eac146bc61dbcd4a6dfeb0502b07ef\", element=\"fa08aae1-d78a-48ca-97d6-0cb9279073ab\")>,\n",
       " <selenium.webdriver.remote.webelement.WebElement (session=\"11eac146bc61dbcd4a6dfeb0502b07ef\", element=\"b3fa322d-a960-4093-b9ab-4aad61dbbc65\")>,\n",
       " <selenium.webdriver.remote.webelement.WebElement (session=\"11eac146bc61dbcd4a6dfeb0502b07ef\", element=\"791e3b58-31e8-40d7-b447-5edecc38e90e\")>,\n",
       " <selenium.webdriver.remote.webelement.WebElement (session=\"11eac146bc61dbcd4a6dfeb0502b07ef\", element=\"0b06d144-c710-4ee2-8efa-5ad87caed5b7\")>,\n",
       " <selenium.webdriver.remote.webelement.WebElement (session=\"11eac146bc61dbcd4a6dfeb0502b07ef\", element=\"362222d7-f4c6-4a64-b617-6f850e8db174\")>,\n",
       " <selenium.webdriver.remote.webelement.WebElement (session=\"11eac146bc61dbcd4a6dfeb0502b07ef\", element=\"5d8dc2f0-e90c-4b91-b212-7d8d4fa9eec3\")>,\n",
       " <selenium.webdriver.remote.webelement.WebElement (session=\"11eac146bc61dbcd4a6dfeb0502b07ef\", element=\"fdfb798c-b05e-438c-bb5c-d2748ae5507f\")>,\n",
       " <selenium.webdriver.remote.webelement.WebElement (session=\"11eac146bc61dbcd4a6dfeb0502b07ef\", element=\"f7c42251-2111-4ba0-a01f-fe8043797b5d\")>,\n",
       " <selenium.webdriver.remote.webelement.WebElement (session=\"11eac146bc61dbcd4a6dfeb0502b07ef\", element=\"8334a49c-763d-4f13-b50b-4d9a1f253be4\")>,\n",
       " <selenium.webdriver.remote.webelement.WebElement (session=\"11eac146bc61dbcd4a6dfeb0502b07ef\", element=\"24e9eeab-4696-49a1-9949-76e77fe9ed7f\")>,\n",
       " <selenium.webdriver.remote.webelement.WebElement (session=\"11eac146bc61dbcd4a6dfeb0502b07ef\", element=\"0d724070-c191-4274-a211-24e3a04448e2\")>,\n",
       " <selenium.webdriver.remote.webelement.WebElement (session=\"11eac146bc61dbcd4a6dfeb0502b07ef\", element=\"37674725-c2f7-497a-8fbc-079a0bfa2471\")>,\n",
       " <selenium.webdriver.remote.webelement.WebElement (session=\"11eac146bc61dbcd4a6dfeb0502b07ef\", element=\"e74d745f-8e49-4f78-9de3-e33a690e0211\")>,\n",
       " <selenium.webdriver.remote.webelement.WebElement (session=\"11eac146bc61dbcd4a6dfeb0502b07ef\", element=\"368c57a5-8a94-42cc-862a-e96f56912e37\")>,\n",
       " <selenium.webdriver.remote.webelement.WebElement (session=\"11eac146bc61dbcd4a6dfeb0502b07ef\", element=\"ffecad87-6070-4c24-bed8-50758821acef\")>,\n",
       " <selenium.webdriver.remote.webelement.WebElement (session=\"11eac146bc61dbcd4a6dfeb0502b07ef\", element=\"0de2ec21-51dc-4ab9-b53b-c0a89bb4bc5a\")>]"
      ]
     },
     "execution_count": 70,
     "metadata": {},
     "output_type": "execute_result"
    }
   ],
   "source": [
    "#네이퍼 쇼핑 사이트 내 쇼핑목록 불러오기\n",
    "e = driver.find_elements(By.CLASS_NAME, \"name\")\n",
    "e"
   ]
  },
  {
   "cell_type": "code",
   "execution_count": 74,
   "id": "bc4dbe09-4f74-4802-8266-48eaefc367f9",
   "metadata": {},
   "outputs": [
    {
     "data": {
      "text/plain": [
       "'쇼퍼 자켓 ( 2colors )'"
      ]
     },
     "execution_count": 74,
     "metadata": {},
     "output_type": "execute_result"
    }
   ],
   "source": [
    "e[0]\n",
    "e[1].text"
   ]
  },
  {
   "cell_type": "code",
   "execution_count": 75,
   "id": "007d5a1d-6e51-4cfd-b121-126c4f39f855",
   "metadata": {},
   "outputs": [
    {
     "name": "stdout",
     "output_type": "stream",
     "text": [
      "쇼퍼 자켓 ( 2colors )\n",
      "핸드워머 목폴라 티 ( 4colors )\n",
      "바게트 코듀로이 밴딩 롱 스커트 ( 3colors )\n",
      "핸드워머 목폴라 티 ( 4colors )\n",
      "핸드워머 목폴라 티 ( 4colors )\n",
      "핸드워머 목폴라 티 ( 4colors )\n",
      "핸드워머 목폴라 티 ( 4colors )\n",
      "[에바X슈레피] 심플 벗 밸런스드 크림 4차 마켓 OPEN !\n",
      "치히로 주름 밴딩 롱 스커트 ( 2colors )\n",
      "바이오워싱 컬러 긴팔 셔츠 ( 5colors )\n"
     ]
    }
   ],
   "source": [
    "#쇼핑 목록 중 일부만 추출해보기\n",
    "for i in range(1, 11):\n",
    "    print(e[i].text)"
   ]
  },
  {
   "cell_type": "code",
   "execution_count": 76,
   "id": "b5a56f69-cb41-41c4-9b66-502883f81b30",
   "metadata": {},
   "outputs": [
    {
     "name": "stdout",
     "output_type": "stream",
     "text": [
      "[<selenium.webdriver.remote.webelement.WebElement (session=\"11eac146bc61dbcd4a6dfeb0502b07ef\", element=\"b3fa322d-a960-4093-b9ab-4aad61dbbc65\")>]\n"
     ]
    },
    {
     "ename": "AttributeError",
     "evalue": "'list' object has no attribute 'text'",
     "output_type": "error",
     "traceback": [
      "\u001b[1;31m---------------------------------------------------------------------------\u001b[0m",
      "\u001b[1;31mAttributeError\u001b[0m                            Traceback (most recent call last)",
      "Input \u001b[1;32mIn [76]\u001b[0m, in \u001b[0;36m<cell line: 4>\u001b[1;34m()\u001b[0m\n\u001b[0;32m      2\u001b[0m e \u001b[38;5;241m=\u001b[39m driver\u001b[38;5;241m.\u001b[39mfind_elements(By\u001b[38;5;241m.\u001b[39mCSS_SELECTOR, \u001b[38;5;124m\"\u001b[39m\u001b[38;5;124m#_rowLi20221026101617CHK2022102662425101 > div.goods_item > div > a.goods > p\u001b[39m\u001b[38;5;124m\"\u001b[39m)\n\u001b[0;32m      3\u001b[0m \u001b[38;5;28mprint\u001b[39m(e)\n\u001b[1;32m----> 4\u001b[0m \u001b[38;5;28mprint\u001b[39m(\u001b[43me\u001b[49m\u001b[38;5;241;43m.\u001b[39;49m\u001b[43mtext\u001b[49m)\n",
      "\u001b[1;31mAttributeError\u001b[0m: 'list' object has no attribute 'text'"
     ]
    }
   ],
   "source": [
    "#css 선택자로 쇼핑 목록 불러와보기\n",
    "e = driver.find_elements(By.CSS_SELECTOR, \"#_rowLi20221026101617CHK2022102662425101 > div.goods_item > div > a.goods > p\")\n",
    "print(e)\n",
    "print(e.text)"
   ]
  },
  {
   "cell_type": "code",
   "execution_count": 78,
   "id": "13ab47c1-20b2-43a4-9238-e1985145947f",
   "metadata": {},
   "outputs": [
    {
     "data": {
      "text/plain": [
       "[<selenium.webdriver.remote.webelement.WebElement (session=\"11eac146bc61dbcd4a6dfeb0502b07ef\", element=\"b3fa322d-a960-4093-b9ab-4aad61dbbc65\")>,\n",
       " <selenium.webdriver.remote.webelement.WebElement (session=\"11eac146bc61dbcd4a6dfeb0502b07ef\", element=\"791e3b58-31e8-40d7-b447-5edecc38e90e\")>,\n",
       " <selenium.webdriver.remote.webelement.WebElement (session=\"11eac146bc61dbcd4a6dfeb0502b07ef\", element=\"0b06d144-c710-4ee2-8efa-5ad87caed5b7\")>,\n",
       " <selenium.webdriver.remote.webelement.WebElement (session=\"11eac146bc61dbcd4a6dfeb0502b07ef\", element=\"362222d7-f4c6-4a64-b617-6f850e8db174\")>,\n",
       " <selenium.webdriver.remote.webelement.WebElement (session=\"11eac146bc61dbcd4a6dfeb0502b07ef\", element=\"5d8dc2f0-e90c-4b91-b212-7d8d4fa9eec3\")>,\n",
       " <selenium.webdriver.remote.webelement.WebElement (session=\"11eac146bc61dbcd4a6dfeb0502b07ef\", element=\"fdfb798c-b05e-438c-bb5c-d2748ae5507f\")>,\n",
       " <selenium.webdriver.remote.webelement.WebElement (session=\"11eac146bc61dbcd4a6dfeb0502b07ef\", element=\"f7c42251-2111-4ba0-a01f-fe8043797b5d\")>,\n",
       " <selenium.webdriver.remote.webelement.WebElement (session=\"11eac146bc61dbcd4a6dfeb0502b07ef\", element=\"8334a49c-763d-4f13-b50b-4d9a1f253be4\")>,\n",
       " <selenium.webdriver.remote.webelement.WebElement (session=\"11eac146bc61dbcd4a6dfeb0502b07ef\", element=\"24e9eeab-4696-49a1-9949-76e77fe9ed7f\")>,\n",
       " <selenium.webdriver.remote.webelement.WebElement (session=\"11eac146bc61dbcd4a6dfeb0502b07ef\", element=\"0d724070-c191-4274-a211-24e3a04448e2\")>,\n",
       " <selenium.webdriver.remote.webelement.WebElement (session=\"11eac146bc61dbcd4a6dfeb0502b07ef\", element=\"37674725-c2f7-497a-8fbc-079a0bfa2471\")>,\n",
       " <selenium.webdriver.remote.webelement.WebElement (session=\"11eac146bc61dbcd4a6dfeb0502b07ef\", element=\"e74d745f-8e49-4f78-9de3-e33a690e0211\")>,\n",
       " <selenium.webdriver.remote.webelement.WebElement (session=\"11eac146bc61dbcd4a6dfeb0502b07ef\", element=\"368c57a5-8a94-42cc-862a-e96f56912e37\")>,\n",
       " <selenium.webdriver.remote.webelement.WebElement (session=\"11eac146bc61dbcd4a6dfeb0502b07ef\", element=\"ffecad87-6070-4c24-bed8-50758821acef\")>,\n",
       " <selenium.webdriver.remote.webelement.WebElement (session=\"11eac146bc61dbcd4a6dfeb0502b07ef\", element=\"0de2ec21-51dc-4ab9-b53b-c0a89bb4bc5a\")>]"
      ]
     },
     "execution_count": 78,
     "metadata": {},
     "output_type": "execute_result"
    }
   ],
   "source": [
    "e = driver.find_elements(By.CSS_SELECTOR, \"div.goods_item > div > a.goods > p\")\n",
    "e"
   ]
  },
  {
   "cell_type": "code",
   "execution_count": 82,
   "id": "73ad7a11-8374-416e-9689-60ed458da4db",
   "metadata": {},
   "outputs": [
    {
     "data": {
      "text/plain": [
       "[<selenium.webdriver.remote.webelement.WebElement (session=\"11eac146bc61dbcd4a6dfeb0502b07ef\", element=\"b3fa322d-a960-4093-b9ab-4aad61dbbc65\")>,\n",
       " <selenium.webdriver.remote.webelement.WebElement (session=\"11eac146bc61dbcd4a6dfeb0502b07ef\", element=\"791e3b58-31e8-40d7-b447-5edecc38e90e\")>,\n",
       " <selenium.webdriver.remote.webelement.WebElement (session=\"11eac146bc61dbcd4a6dfeb0502b07ef\", element=\"0b06d144-c710-4ee2-8efa-5ad87caed5b7\")>,\n",
       " <selenium.webdriver.remote.webelement.WebElement (session=\"11eac146bc61dbcd4a6dfeb0502b07ef\", element=\"362222d7-f4c6-4a64-b617-6f850e8db174\")>,\n",
       " <selenium.webdriver.remote.webelement.WebElement (session=\"11eac146bc61dbcd4a6dfeb0502b07ef\", element=\"5d8dc2f0-e90c-4b91-b212-7d8d4fa9eec3\")>,\n",
       " <selenium.webdriver.remote.webelement.WebElement (session=\"11eac146bc61dbcd4a6dfeb0502b07ef\", element=\"fdfb798c-b05e-438c-bb5c-d2748ae5507f\")>,\n",
       " <selenium.webdriver.remote.webelement.WebElement (session=\"11eac146bc61dbcd4a6dfeb0502b07ef\", element=\"f7c42251-2111-4ba0-a01f-fe8043797b5d\")>,\n",
       " <selenium.webdriver.remote.webelement.WebElement (session=\"11eac146bc61dbcd4a6dfeb0502b07ef\", element=\"8334a49c-763d-4f13-b50b-4d9a1f253be4\")>,\n",
       " <selenium.webdriver.remote.webelement.WebElement (session=\"11eac146bc61dbcd4a6dfeb0502b07ef\", element=\"24e9eeab-4696-49a1-9949-76e77fe9ed7f\")>,\n",
       " <selenium.webdriver.remote.webelement.WebElement (session=\"11eac146bc61dbcd4a6dfeb0502b07ef\", element=\"0d724070-c191-4274-a211-24e3a04448e2\")>,\n",
       " <selenium.webdriver.remote.webelement.WebElement (session=\"11eac146bc61dbcd4a6dfeb0502b07ef\", element=\"37674725-c2f7-497a-8fbc-079a0bfa2471\")>,\n",
       " <selenium.webdriver.remote.webelement.WebElement (session=\"11eac146bc61dbcd4a6dfeb0502b07ef\", element=\"e74d745f-8e49-4f78-9de3-e33a690e0211\")>,\n",
       " <selenium.webdriver.remote.webelement.WebElement (session=\"11eac146bc61dbcd4a6dfeb0502b07ef\", element=\"368c57a5-8a94-42cc-862a-e96f56912e37\")>,\n",
       " <selenium.webdriver.remote.webelement.WebElement (session=\"11eac146bc61dbcd4a6dfeb0502b07ef\", element=\"ffecad87-6070-4c24-bed8-50758821acef\")>,\n",
       " <selenium.webdriver.remote.webelement.WebElement (session=\"11eac146bc61dbcd4a6dfeb0502b07ef\", element=\"0de2ec21-51dc-4ab9-b53b-c0a89bb4bc5a\")>]"
      ]
     },
     "execution_count": 82,
     "metadata": {},
     "output_type": "execute_result"
    }
   ],
   "source": [
    "e = driver.find_elements(By.CSS_SELECTOR, \"div > a.goods > p\")\n",
    "e"
   ]
  },
  {
   "cell_type": "code",
   "execution_count": 83,
   "id": "761510b3-94e6-4941-ae76-bc77e0462768",
   "metadata": {},
   "outputs": [
    {
     "name": "stdout",
     "output_type": "stream",
     "text": [
      "쇼퍼 자켓 ( 2colors )\n",
      "핸드워머 목폴라 티 ( 4colors )\n",
      "바게트 코듀로이 밴딩 롱 스커트 ( 3colors )\n",
      "핸드워머 목폴라 티 ( 4colors )\n",
      "핸드워머 목폴라 티 ( 4colors )\n",
      "핸드워머 목폴라 티 ( 4colors )\n",
      "핸드워머 목폴라 티 ( 4colors )\n",
      "[에바X슈레피] 심플 벗 밸런스드 크림 4차 마켓 OPEN !\n",
      "치히로 주름 밴딩 롱 스커트 ( 2colors )\n",
      "바이오워싱 컬러 긴팔 셔츠 ( 5colors )\n",
      "바이오워싱 컬러 긴팔 셔츠 ( 5colors )\n",
      "바이오워싱 컬러 긴팔 셔츠 ( 5colors )\n",
      "심플레트로 동그리 남녀공용 블루라이트차단 안경테\n",
      "펜슬마크 트위치 로고 티셔츠 아이보리 외 2건\n",
      "에바X슈레피 3차 마켓 OPEN !\n"
     ]
    }
   ],
   "source": [
    "for i in range(len(e)):\n",
    "    print(e[i].text)"
   ]
  },
  {
   "cell_type": "markdown",
   "id": "dc439898-ee8b-4c98-9b10-572fd7313409",
   "metadata": {},
   "source": [
    "### < 한빛 출판 로그인 후, 마일리지 확인하기 >"
   ]
  },
  {
   "cell_type": "code",
   "execution_count": null,
   "id": "1dcefeba-deaa-4d83-8b33-8c8d95988330",
   "metadata": {},
   "outputs": [],
   "source": [
    "import requests\n",
    "from bs4 import BeautifulSoup"
   ]
  },
  {
   "cell_type": "code",
   "execution_count": null,
   "id": "c462ddd8-d153-4f81-abf8-d9a407f41475",
   "metadata": {},
   "outputs": [],
   "source": [
    "#requests.get(\"https://www.hanbit.co.kr/member/login.html\")"
   ]
  },
  {
   "cell_type": "markdown",
   "id": "caa6258d-620f-4012-beb1-4fadc3a0fd00",
   "metadata": {},
   "source": [
    "#### ① 로그인\n",
    "* session() : 서브에 보관된 정보, 입력한 로그인 정보가 맞는지 확인(로그인 세션 유지하기)<br>\n",
    "연결 재사용, 상태 유지<br>\n",
    "https://onaeonae1.tistory.com/m/67<br>\n",
    "https://strangeronpaleblue.com/716"
   ]
  },
  {
   "cell_type": "code",
   "execution_count": 84,
   "id": "d2e6a7d3-c272-4d95-a7f7-9ee239e272d5",
   "metadata": {},
   "outputs": [
    {
     "name": "stdout",
     "output_type": "stream",
     "text": [
      "<class 'requests.sessions.Session'>\n"
     ]
    }
   ],
   "source": [
    "session = requests.session()\n",
    "print(type(session))"
   ]
  },
  {
   "cell_type": "code",
   "execution_count": 94,
   "id": "d52251b6-da97-4d86-b3d8-54b0a361c837",
   "metadata": {},
   "outputs": [
    {
     "data": {
      "text/plain": [
       "<Response [200]>"
      ]
     },
     "execution_count": 94,
     "metadata": {},
     "output_type": "execute_result"
    }
   ],
   "source": [
    "#아이디, 패스워드 입력 후 '로그인' 버튼을 누르면 입력한 아이디와 패스워드가 맞는지 확인하는 사이트\n",
    "url = \"https://www.hanbit.co.kr/member/login_proc.php\"\n",
    "session.post(url, {'m_id' : \"yejiyu95\", 'm_passwd' : \"dbdPwl95*\"})    #id와 passwd 입력"
   ]
  },
  {
   "cell_type": "code",
   "execution_count": 95,
   "id": "9970fcbd-514f-4cea-855d-b301b0c32d21",
   "metadata": {},
   "outputs": [
    {
     "data": {
      "text/plain": [
       "<Response [200]>"
      ]
     },
     "execution_count": 95,
     "metadata": {},
     "output_type": "execute_result"
    }
   ],
   "source": [
    "#마이페이지 확인\n",
    "session.get(\"https://www.hanbit.co.kr/myhanbit/myhanbit.html\")"
   ]
  },
  {
   "cell_type": "code",
   "execution_count": 96,
   "id": "3456648c-0208-48a2-a4bf-3d1f0395a4c7",
   "metadata": {},
   "outputs": [
    {
     "data": {
      "text/plain": [
       "<bound method Response.raise_for_status of <Response [200]>>"
      ]
     },
     "execution_count": 96,
     "metadata": {},
     "output_type": "execute_result"
    }
   ],
   "source": [
    "resp = session.get(\"https://www.hanbit.co.kr/myhanbit/myhanbit.html\")\n",
    "resp.raise_for_status     #요청/응답 코드가 200이 아니면(에러가 있다는 것) 프로그램 중단시키는 메서드"
   ]
  },
  {
   "cell_type": "code",
   "execution_count": 97,
   "id": "6e1a76af-abf9-4539-843d-dca016e45027",
   "metadata": {
    "collapsed": true,
    "jupyter": {
     "outputs_hidden": true
    },
    "tags": []
   },
   "outputs": [
    {
     "data": {
      "text/plain": [
       "'<!DOCTYPE html>\\r\\n<html lang=\"ko\">\\r\\n<head>\\r\\n<!--[if lte IE 8]>\\r\\n<script>\\r\\n  location.replace(\\'/support/explorer_upgrade.html\\');\\r\\n</script>\\r\\n<![endif]-->\\r\\n<meta charset=\"utf-8\"/>\\r\\n<title>한빛출판네트워크</title>\\r\\n<link rel=\"shortcut icon\" href=\"https://www.hanbit.co.kr/images/common/hanbit.ico\"> \\r\\n<meta http-equiv=\"X-UA-Compatible\" content=\"IE=Edge\" />\\r\\n<meta property=\"og:type\" content=\"website\"/>\\r\\n<meta property=\"og:title\" content=\"한빛출판네트워크\"/>\\r\\n<meta property=\"og:description\" content=\"더 넓은 세상, 더 나은 미래를 위한 아시아 출판 네트워크 :: 한빛미디어, 한빛아카데미, 한빛비즈, 한빛라이프, 한빛에듀\"/>\\r\\n<meta property=\"og:image\" content=\"https://www.hanbit.co.kr/images/hanbitpubnet_logo.jpg\" />\\r\\n<meta property=\"og:url\" content=\"https://www.hanbit.co.kr/myhanbit/myhanbit.html\"/>\\r\\n<link rel=\"canonical\" href=\"https://www.hanbit.co.kr/myhanbit/myhanbit.html\" />\\r\\n<meta name=\"keywords\" content=\"한빛미디어,한빛아카데미,한빛비즈,한빛라이프,한빛에듀,리얼타임,대관서비스,책,출판사,IT전문서,IT활용서,대학교재,경제경영,어린이/유아,실용/여행,전자책,자격증,교육,세미나,강의,ebook,정보교과서\" />\\r\\n<meta name=\"description\" content=\"더 넓은 세상, 더 나은 미래를 위한 아시아 출판 네트워크 :: 한빛미디어, 한빛아카데미, 한빛비즈, 한빛라이프, 한빛에듀\" />\\r\\n<meta name=\"viewport\" content=\"width=device-width,initial-scale=1.0,minimum-scale=1.0,maximum-scale=1.0\">\\r\\n<meta name=\"viewport\" content=\"width=1260\">\\r\\n<meta name=\"apple-mobile-web-app-capable\" content=\"yes\" />\\r\\n<meta name=\"naver-site-verification\" content=\"01c29ed1852aecca7a48ac0c3e0869627bc512d8\"/>\\r\\n<link rel=\"stylesheet\" href=\"/css/common.css?20210603093421\" />\\r\\n<link href=\"/css/hover.css\" rel=\"stylesheet\" media=\"all\">\\r\\n<link rel=\"stylesheet\" href=\"/js/jquery.raty.css\" />\\r\\n<script type=\"text/javascript\" src=\"/js/jquery-latest.js\"></script>\\r\\n<script type=\"text/javascript\" src=\"/js/jquery-ui.js\"></script>\\r\\n<script type=\"text/javascript\" src=\"/js/jquery.event.drag-1.5.min.js\"></script>\\r\\n<script type=\"text/javascript\" src=\"/js/jquery.touchSlider.js\"></script>\\r\\n<script type=\"text/javascript\" src=\"/js/jquery.raty.js\"></script>\\r\\n<script type=\"text/javascript\" src=\"/js/main.js\"></script>\\r\\n<script type=\"text/javascript\" src=\"/lib/cheditor/cheditor.js\"></script>\\r\\n<script type=\"text/javascript\" src=\"/js/jquery.ui.datepicker-ko.js\"></script>\\r\\n<script type=\"text/javascript\" src=\"/js/engine.js\"></script>\\r\\n<script type=\"text/javascript\" src=\"/js/vue.js\"></script>\\r\\n\\r\\n<!-- Google Analytics -->\\r\\n<script>\\r\\n(function(i,s,o,g,r,a,m){i[\\'GoogleAnalyticsObject\\']=r;i[r]=i[r]||function(){\\r\\n(i[r].q=i[r].q||[]).push(arguments)},i[r].l=1*new Date();a=s.createElement(o),\\r\\nm=s.getElementsByTagName(o)[0];a.async=1;a.src=g;m.parentNode.insertBefore(a,m)\\r\\n})(window,document,\\'script\\',\\'//www.google-analytics.com/analytics.js\\',\\'ga\\');\\r\\nga(\\'create\\', \\'UA-47080738-1\\', \\'hanbit.co.kr\\');\\r\\nga(\\'require\\', \\'linkid\\', \\'linkid.js\\');\\r\\nga(\\'send\\', \\'pageview\\');\\r\\n</script>\\r\\n<!-- Google Analytics -->\\r\\n\\r\\n<!-- Facebook Pixel Code -->\\r\\n<script>\\r\\n  !function(f,b,e,v,n,t,s)\\r\\n  {if(f.fbq)return;n=f.fbq=function(){n.callMethod?\\r\\n  n.callMethod.apply(n,arguments):n.queue.push(arguments)};\\r\\n  if(!f._fbq)f._fbq=n;n.push=n;n.loaded=!0;n.version=\\'2.0\\';\\r\\n  n.queue=[];t=b.createElement(e);t.async=!0;\\r\\n  t.src=v;s=b.getElementsByTagName(e)[0];\\r\\n  s.parentNode.insertBefore(t,s)}(window, document,\\'script\\',\\r\\n  \\'https://connect.facebook.net/en_US/fbevents.js\\');\\r\\n  fbq(\\'init\\', \\'406459623338891\\');\\r\\n  fbq(\\'track\\', \\'PageView\\');\\r\\n</script>\\r\\n<noscript><img height=\"1\" width=\"1\" style=\"display:none\"\\r\\n  src=\"https://www.facebook.com/tr?id=406459623338891&ev=PageView&noscript=1\"\\r\\n/></noscript>\\r\\n<!-- End Facebook Pixel Code -->\\r\\n\\r\\n<!-- Google Tag Manager -->\\r\\n<script>(function(w,d,s,l,i){w[l]=w[l]||[];w[l].push({\\'gtm.start\\':\\r\\nnew Date().getTime(),event:\\'gtm.js\\'});var f=d.getElementsByTagName(s)[0],\\r\\nj=d.createElement(s),dl=l!=\\'dataLayer\\'?\\'&l=\\'+l:\\'\\';j.async=true;j.src=\\r\\n\\'https://www.googletagmanager.com/gtm.js?id=\\'+i+dl;f.parentNode.insertBefore(j,f);\\r\\n})(window,document,\\'script\\',\\'dataLayer\\',\\'GTM-W9D5PM3\\');</script>\\r\\n<!-- End Google Tag Manager -->\\r\\n\\r\\n<!-- Kakao Pixel Code -->\\r\\n<script type=\"text/javascript\" charset=\"UTF-8\" src=\"//t1.daumcdn.net/adfit/static/kp.js\"></script>\\r\\n<script type=\"text/javascript\">\\r\\n  kakaoPixel(\\'3011392806152551233\\').pageView();\\r\\n</script>\\r\\n<!-- //Kakao Pixel Code -->\\r\\n</head>\\r\\n<body>\\r\\n<!-- Google Tag Manager (noscript) -->\\r\\n<noscript><iframe src=\"https://www.googletagmanager.com/ns.html?id=GTM-W9D5PM3\"\\r\\nheight=\"0\" width=\"0\" style=\"display:none;visibility:hidden\"></iframe></noscript>\\r\\n<!-- End Google Tag Manager (noscript) -->\\r\\n<link rel=\"stylesheet\" href=\"/css/layout-hanbit.css?202206030909\" />\\r\\n<link rel=\"stylesheet\" href=\"/css/layout-member.css\" />\\r\\n<link rel=\"stylesheet\" href=\"/css/layout-network.css\" />\\r\\n<link rel=\"stylesheet\" href=\"/css/layout-store.css\" />\\r\\n<link rel=\"stylesheet\" href=\"/css/layout-myhanbit.css\" />\\r\\n<link rel=\"stylesheet\" href=\"/css/layout-event.css\" />\\r\\n<!-- 메뉴 바로가기 -->\\r\\n<div id=\"quick_skip_menu\">\\r\\n  <a href=\"#gnb\" onclick=\"document.getElementById(\\'gnb\\').tabIndex = -1;document.getElementById(\\'gnb\\').focus();return false;\"><span>메뉴 바로가기</span></a>\\r\\n  <a href=\"#top_search\" onclick=\"view_hover(\\'main_search_area\\',\\'\\',\\'show\\'), document.getElementById(\\'top_search\\').tabIndex = -1;document.getElementById(\\'top_search\\').focus();return false;\"><span>검색 및 카테고리 바로가기</span></a>\\r\\n    <a href=\"#container\" onclick=\"document.getElementById(\\'container\\').tabIndex = -1;document.getElementById(\\'container\\').focus();return false;\"><span>본문 바로가기</span></a>\\r\\n  </div>\\r\\n<!-- //메뉴 바로가기 -->\\r\\n\\r\\n<!-- header -->\\r\\n<header>\\r\\n  <!-- top menu -->\\r\\n    <nav>\\r\\n    <div id=\"wrap_nav\">\\r\\n      <ul class=\"top_brand\">\\r\\n        <li><a href=\"https://www.hanbit.co.kr/index.html\" name=\"hanbit_network\"><span>HOME</span></a></li>\\r\\n        <li><a href=\"https://www.hanbit.co.kr/media/\">한빛미디어</a></li>\\r\\n        <li><a href=\"https://www.hanbit.co.kr/academy/\">한빛아카데미</a></li>\\r\\n        <li><a href=\"https://www.hanbit.co.kr/biz/\">한빛비즈</a></li>\\r\\n        <li><a href=\"https://www.hanbit.co.kr/life/\">한빛라이프</a></li>\\r\\n        <li><a href=\"https://www.hanbit.co.kr/edu/\">한빛에듀</a></li>\\r\\n        <li><a href=\"https://www.hanbit.co.kr/realtime/\">리얼타임</a></li>\\r\\n        <li><a href=\"https://www.hanbit.co.kr/textbook/\" target=\"_blank\">한빛정보교과서</a></li>\\r\\n        <li><a href=\"https://www.hanbit.co.kr/rent/\" target=\"_blank\">한빛대관서비스</a></li>\\r\\n      </ul>\\r\\n      \\r\\n      <ul class=\"top_menu\">\\r\\n                      <li><a href=\"https://www.hanbit.co.kr/member/logout.html\" class=\"logout\">로그아웃</a></li>\\r\\n                <li><a href=\"https://www.hanbit.co.kr/member/member_register.html\" class=\"edit\">개인정보수정</a></li>\\r\\n        <li><a href=\"https://www.hanbit.co.kr/myhanbit/myhanbit.html\" class=\"myhanbit\">마이한빛</a></li>\\r\\n        <li><a href=\"https://www.hanbit.co.kr/myhanbit/cart.html\" class=\"cart\">장바구니</a></li>\\r\\n                <li class=\"top_menu_store\"><a href=\"https://www.hanbit.co.kr/publisher/foreignrights.html?lang=e\" target=\"_blank\">ENGLISH</a></li>\\r\\n      </ul>\\r\\n    </div>\\r\\n  </nav>\\r\\n  <!-- //top menu -->\\r\\n\\r\\n  <div id=\"wrap_gnb\">\\r\\n    <!-- logo -->\\r\\n    <h1><a href=\"https://www.hanbit.co.kr/index.html\">한빛출판네트워크</a></h1>\\r\\n    <!-- //logo -->\\r\\n\\r\\n    <!-- Menu -->\\r\\n    <div id=\"gnb\" name=\"gnb\">\\r\\n      <ul>\\r\\n        <li><a href=\"https://www.hanbit.co.kr/brand/brand_submain.html\" class=\"\">BRAND</a></li>\\r\\n        <li><a href=\"https://www.hanbit.co.kr/channel/channel_submain.html\" class=\"\">Channel.H</a></li>\\r\\n        <li><a href=\"https://www.hanbit.co.kr/store/store_submain.html\" class=\"\">STORE</a></li>\\r\\n        <li><a href=\"https://www.hanbit.co.kr/support/help_info.html\" class=\"\">SUPPORT</a></li>\\r\\n        <li><a href=\"https://www.hanbit.co.kr/event/current/current_event_list.html\" class=\"\">EVENT</a></li>\\r\\n        \\r\\n        <li><a href=\"https://www.hanbit.co.kr/publisher/foreignrights.html?lang=e\" class=\"\" target=\"_blank\">RIGHTS</a></li>\\r\\n        \\r\\n        <li id=\"top_search\" class=\"search\"><a href=\"javascript:;\" onClick=\"view_hover(\\'main_search_area\\',\\'\\',\\'show\\'); $(\\'#keyword_str\\').focus();\"><span>SEARCH</span></a></li>\\r\\n      </ul>\\r\\n    </div>\\r\\n    <!-- //Menu -->\\r\\n    \\r\\n    <!-- lnb -->\\r\\n    <div class=\"lnb\" style=\"top:92px;\">\\r\\n      <div class=\"lnb_area\">\\r\\n      <!-- BRAND -->\\r\\n             <!--2015-10-07 비회원 장바구니 기능 추가되면서 회원 로그인시에만 보여짐 by 이용희-->\\r\\n      <ul class=\"lnb_depth1_my1\">\\r\\n        <li><a href=\"https://www.hanbit.co.kr/myhanbit/membership.html\" class=\"\">한빛멤버십</a></li><span>l</span>\\r\\n        <li><a href=\"https://www.hanbit.co.kr/myhanbit/mileage_ecoin.html\" class=\"\">마일리지 / 한빛이코인</a></li>\\r\\n      </ul>\\r\\n      <ul class=\"lnb_depth1_my2\">\\r\\n        <li><a href=\"https://www.hanbit.co.kr/myhanbit/wishlist.html\" class=\"\">위시리스트</a></li><span>l</span>\\r\\n        <li><a href=\"https://www.hanbit.co.kr/myhanbit/cart.html\" class=\"\">장바구니</a></li><span>l</span>\\r\\n        <li><a href=\"https://www.hanbit.co.kr/myhanbit/order_history_list.html\" class=\"\">주문목록</a></li><span>l</span>\\r\\n        <li><a href=\"https://www.hanbit.co.kr/myhanbit/coupon.html\" class=\"\">My 쿠폰</a></li>\\r\\n      </ul>\\r\\n      <ul class=\"lnb_depth1_my3\">\\r\\n        <li><a href=\"https://www.hanbit.co.kr/myhanbit/purchase_books.html\" class=\"\">My Book</a></li>\\r\\n        <span>l</span>\\r\\n        <li><a href=\"https://www.hanbit.co.kr/myhanbit/my_ebook_list.html\" class=\"\">My eBook</a></li>\\r\\n        <span>l</span>\\r\\n        <li><a href=\"https://www.hanbit.co.kr/myhanbit/my_class_list.html\" class=\"\">My 강의</a></li>\\r\\n        \\r\\n                \\r\\n      </ul>\\r\\n                  </div>\\r\\n    </div>\\r\\n    <!--// lnb -->\\r\\n  </div>\\r\\n</header>\\r\\n<!-- //header -->\\r\\n\\r\\n<!-- 메인 검색 및 카테고리 영역 -->\\r\\n<div id=\"main_search_area\" class=\"fixed\" style=\"display:none;\">\\n  <div class=\"msa_wrap\">\\n\\n    <!-- 검색 -->\\n    <div class=\"msa_srch_wrap\">\\n      <form onsubmit=\"return false;\">\\n      <fieldset class=\"msa_srch_field\">\\n        <legend>한빛출판네트워크 검색</legend>\\n        <input title=\"검색어\" autocomplete=\"off\" class=\"srch_keyword\" accesskey=\"s\" type=\"text\" name=\"keyword_str\" id=\"keyword_str\" v-model=\"keyword\" @input=\"typeKeyword\">\\n        <input type=\"submit\" class=\"srch_btn\" style=\"cursor:pointer;\" @click=\"clickSearch\">\\n      </fieldset>\\n      </form>\\n    </div>\\n    <!-- //검색 -->\\n\\n    <!-- ① 인기검색어 -->\\n    <div class=\"msa_srch_polular\" v-if=\"showPopularKeyword === true\">\\n      <h2 class=\"tit\">인기 검색어 <span>(최근 1개월간)</span></h2>\\n        <div class=\"popula_box\">\\n          <ul class=\"left\">\\n            <li v-for=\"keyword in leftPopularKeywordList\">\\n              <a :class=\"keyword.bold\" @click=\"clickPopularKeyword(keyword)\">\\n                  {{ keyword.number }} {{ keyword.bookName }}\\n              </a>\\n            </li>\\n          </ul>\\n          <ul class=\"right\">\\n            <li v-for=\"keyword in rightPopularKeywordList\">\\n              <a :class=\"keyword.bold\" @click=\"clickPopularKeyword(keyword)\">\\n                  {{ keyword.number }} {{ keyword.bookName }}\\n              </a>\\n            </li>\\n          </ul>\\n        </div>\\n    </div>\\n    <!-- ① 인기검색어 -->\\n\\n    <!-- ② 검색결과/검색서제스쳔 -->\\n    <div class=\"msa_srch_suggestion\" v-if=\"showPopularKeyword === false\">\\n      <div class=\"sugg_left\" v-if=\"bookList.length !== 0\">\\n        <h3 class=\"tit\">BOOK</h3>\\n        <ul class=\"books_list\">\\n          <li v-for=\"book in bookList\" @mouseover=\"mouseOverBook(book.id)\"><a @click=\"clickBookKeyword(book)\"><p v-html=\"book.name\"></p></a></li>\\n        </ul>\\n      </div>\\n\\n      <div class=\"sugg_right\">\\n        <div class=\"sugg_book\" v-if=\"bookList.length !== 0\">\\n          <table class=\"sugg_book_detail\">\\n            <tr>\\n              <td class=\"cover\">\\n                <a @click=\"clickBookKeyword(bookSummary)\">\\n                  <img :src=\"bookSummary.imgUrl\" class=\"b_cover\">\\n                </a>\\n              </td>\\n              <td class=\"draft\">\\n                <a @click=\"clickBookKeyword(bookSummary)\" class=\"b_title\"><strong v-html=\"bookSummary.originName\"></strong></a>\\n                <p class=\"b_int\">\\n                {{ bookSummary.author }} 지음<br />\\n                {{ bookSummary.publishingCompany }} | {{ bookSummary.date }}\\n                </p>\\n                <p class=\"b_type\">\\n                <span>{{ bookSummary.bookType }}</span>\\n                </p>\\n              </td>\\n            </tr>\\n          </table>\\n        </div>\\n\\n        <!--\\n        <div class=\"sugg_edu\" v-if=\"educationList.length !== 0\">\\n          <h3 class=\"tit\">EDUCATION</h3>\\n          <ul class=\"edu_list\">\\n            <li v-for=\"education in educationList\">&#149; <a @click=\"clickEducationKeyword(education)\"><span v-html=\"education.title\"></span></a></li>\\n          </ul>\\n        </div>\\n        -->\\n        \\n        <div class=\"sugg_cont\" v-if=\"contentList.length !== 0\">\\n          <h3 class=\"tit\">CONTENTS</h3>\\n          <ul class=\"cont_list\">\\n            <li v-for=\"content in contentList\">&#149; <a @click=\"clickContentKeyword(content)\"><span v-html=\"content.title\"></span></a></li>\\n          </ul>\\n        </div>\\n      </div>\\n    </div>\\n    <!-- //② 검색결과/검색서제스쳔 -->\\n\\n  <!-- 닫기 -->\\n  <div class=\"msa_wrap_close\">\\n    <a href=\"javascript:;\" onclick=\"view_hover(\\'main_search_area\\',\\'\\',\\'hide\\')\">닫기</a>\\n  </div>\\n  <!-- //닫기 -->\\n\\n  </div>\\n</div>\\n\\n<script type=\"text/javascript\">\\n    \"use strict\";\\n\\n    var common_top_search_vue = new Vue({\\n        el: \\'#main_search_area\\',\\n        data: {\\n            //검색엔진 URL\\n            searchProxyURL: \"https://search.hanbit.co.kr\",\\n            //인기 검색어 show 여부\\n            showPopularKeyword: true,\\n            //사용자 검색 키워드\\n            keyword: \\'\\',\\n            //인기 검색어 리스트\\n            popularKeywordList: [],\\n            // 인기 검색어 리스트 (왼쪽)\\n            leftPopularKeywordList: [],\\n            // 인기 검색어 리스트 (오른쪽)\\n            rightPopularKeywordList: [],\\n            // 자동완성에서의 책 리스트\\n            bookList: [],\\n            // 자동완성에서의 책 정보\\n            bookSummary: {\\n                \\'imgUrl\\': \\'\\',\\n                \\'link\\': \\'\\',\\n                \\'name\\': \\'\\',\\n                \\'author\\': \\'\\',\\n                \\'publishingCompany\\': \\'\\',\\n                \\'date\\': \\'\\',\\n                \\'bookType\\': \\'\\'\\n            },\\n            //에듀케이션 리스트\\n            educationList: [],\\n            //컨텐츠 리스트\\n            contentList: []\\n        },\\n        created: function created() {\\n            // 인기 검색어 조회\\n            this.getPopularKeyword();\\n        },\\n        methods: {\\n            /**\\n             * 사용자가 검색 키워드를 입력할때 발생하는 이벤트\\n             */\\n            typeKeyword: function typeKeyword() {\\n                var self = this;\\n                var keyword = $(\"#keyword_str\").val();\\n\\n                if (keyword.length !== 0) {\\n                    //자동완성어\\n                    this.findAutocompleteResult(keyword);\\n                } else {\\n                    //인기검색어\\n                    self.showPopularKeyword = true;\\n                }\\n            },\\n\\n            /**\\n             * 인기검색어 조회\\n             */\\n            getPopularKeyword: function getPopularKeyword() {\\n                var self = this;\\n                this.popularKeywordList = [];\\n                $.get(this.searchProxyURL + \"/querylog/popularKeyword\").done(function (data) {\\n                    if (data != null) {\\n                        self.drawPopularKeyword(data);\\n                    }\\n                });\\n            },\\n\\n            /**\\n             * 인기 검색어 그리기\\n             */\\n            drawPopularKeyword: function drawPopularKeyword(popularBooks) {\\n                var self = this;\\n                popularBooks.forEach(function (item) {\\n                    var popularBook = {\\n                        bookName: item.keyword\\n                    };\\n                    self.popularKeywordList.push(popularBook);\\n                });\\n                var number = 0;\\n\\n                for (var _iterator = this.popularKeywordList, _isArray = Array.isArray(_iterator), _i = 0, _iterator = _isArray ? _iterator : _iterator[Symbol.iterator]();;) {\\n                    var _ref;\\n\\n                    if (_isArray) {\\n                        if (_i >= _iterator.length) break;\\n                        _ref = _iterator[_i++];\\n                    } else {\\n                        _i = _iterator.next();\\n                        if (_i.done) break;\\n                        _ref = _i.value;\\n                    }\\n\\n                    var keyword = _ref;\\n                    number = number + 1;\\n                    keyword.number = number.toString().length < 2 ? \"0\" + number : number;\\n\\n                    if (number > 5) {\\n                        keyword.direction = \"right\";\\n                        self.rightPopularKeywordList.push(keyword);\\n                    } else {\\n                        keyword.direction = \"left\";\\n\\n                        if (number < 4) {\\n                            keyword.bold = \\'active\\';\\n                        }\\n\\n                        self.leftPopularKeywordList.push(keyword);\\n                    }\\n                }\\n            },\\n\\n            /**\\n             * 자동완성 검색 결과\\n             */\\n            findAutocompleteResult: function findAutocompleteResult(keyword) {\\n                var self = this;\\n                var param = {\\n                    q: keyword,\\n                    types: \"education,book,contents\",\\n                    fq: keyword\\n                };\\n                $.post(this.searchProxyURL + \"/autocomplete/search\", param).done(function (data) {\\n                    if (data != null) {\\n                        var bookResult = data.booksResults;\\n                        self.changeBookList(keyword, bookResult);\\n                        var contentResult = data.contentsResults;\\n                        self.changeContentList(keyword, contentResult);\\n                        var educationResult = data.educationResults;\\n                        self.changeEducationList(keyword, educationResult);\\n                    }\\n                });\\n                this.showPopularKeyword = false;\\n            },\\n\\n            /**\\n             * 자동완성어에서 BOOK 부분에서 마우스를 올렸을 시에 발생하는 이벤트\\n             * @param bookId\\n             */\\n            mouseOverBook: function mouseOverBook(bookId) {\\n                var currentBook = this.bookList.filter(function (book) {\\n                    return book.id === bookId;\\n                });\\n                this.changeBookSummary(currentBook[0]);\\n            },\\n\\n            /**\\n             * 책 소개 변경\\n             * @param book\\n             */\\n            changeBookSummary: function changeBookSummary(book) {\\n                if (book !== {}) {\\n                    this.bookSummary.name = book.name;\\n                    this.bookSummary.originName = book.originName;\\n                    this.bookSummary.author = book.author;\\n                    this.bookSummary.bookType = book.bookType;\\n                    this.bookSummary.imgUrl = book.imgUrl;\\n                    this.bookSummary.link = book.link;\\n                    this.bookSummary.publishingCompany = book.publishingCompany;\\n                    this.bookSummary.date = book.date;\\n                    this.bookSummary.bookType = book.bookType;\\n                }\\n            },\\n\\n            /**\\n             * BOOK 리스트 변경\\n             */\\n            changeBookList: function changeBookList(keyword, bookResultList) {\\n                var self = this;\\n                self.bookList = [];\\n                var index = 0;\\n\\n                if (bookResultList != null) {\\n                    for (var _iterator2 = bookResultList, _isArray2 = Array.isArray(_iterator2), _i2 = 0, _iterator2 = _isArray2 ? _iterator2 : _iterator2[Symbol.iterator]();;) {\\n                        var _ref2;\\n\\n                        if (_isArray2) {\\n                            if (_i2 >= _iterator2.length) break;\\n                            _ref2 = _iterator2[_i2++];\\n                        } else {\\n                            _i2 = _iterator2.next();\\n                            if (_i2.done) break;\\n                            _ref2 = _i2.value;\\n                        }\\n\\n                        var result = _ref2;\\n\\n                        if (index < 10) {\\n                            var book = {};\\n                            book.id = result.code;\\n                            book.originName = result.title;\\n                            book.name = JSON.parse(JSON.stringify(self.replaceHighlightWord(result.title, keyword)));\\n                            book.link = result.code;\\n                            book.imgUrl = self.getBookImageURL(result.code);\\n                            book.author = result.author;\\n                            book.publishingCompany = result.brand;\\n                            book.date = result.pubDate;\\n                            book.bookType = result.bookType;\\n                            self.bookList.push(book); //책 미리보기 변경\\n\\n                            self.changeBookSummary(self.bookList[0]);\\n                        }\\n                    }\\n                } else {\\n                    self.initBookSummary();\\n                }\\n            },\\n\\n            /**\\n             * 책 이미지 주소 가져오기\\n             */\\n            getBookImageURL: function getBookImageURL(bookCode) {\\n                var imgURL;\\n\\n                if (bookCode.substr(0, 1) === \"E\") {\\n                    imgURL = \\'/data/ebook/\\' + bookCode + \\'_m.jpg\\';\\n                } else {\\n                    imgURL = \\'/data/books/\\' + bookCode + \"_m.jpg\";\\n                }\\n\\n                return imgURL;\\n            },\\n\\n            /**\\n             * 검색 결과가 없을 경우 책 미리보기 초기화\\n             */\\n            initBookSummary: function initBookSummary() {\\n                this.bookSummary = {\\n                    \\'imgUrl\\': \\'\\',\\n                    \\'link\\': \\'\\',\\n                    \\'name\\': \\'\\',\\n                    \\'author\\': \\'\\',\\n                    \\'publishingCompany\\': \\'\\',\\n                    \\'date\\': \\'\\',\\n                    \\'bookType\\': \\'\\'\\n                };\\n            },\\n\\n            /**\\n             * education 리스트 변경\\n             */\\n            changeEducationList: function changeEducationList(keyword, educationResultList) {\\n                var self = this;\\n                self.educationList = [];\\n                var index = 0;\\n\\n                if (educationResultList != null) {\\n                    for (var _iterator3 = educationResultList, _isArray3 = Array.isArray(_iterator3), _i3 = 0, _iterator3 = _isArray3 ? _iterator3 : _iterator3[Symbol.iterator]();;) {\\n                        var _ref3;\\n\\n                        if (_isArray3) {\\n                            if (_i3 >= _iterator3.length) break;\\n                            _ref3 = _iterator3[_i3++];\\n                        } else {\\n                            _i3 = _iterator3.next();\\n                            if (_i3.done) break;\\n                            _ref3 = _i3.value;\\n                        }\\n\\n                        var result = _ref3;\\n\\n                        if (index < 3) {\\n                            var content = {};\\n                            content.title = JSON.parse(JSON.stringify(self.replaceHighlightWord(result.title, keyword)));\\n                            content.link = result.code;\\n                            self.educationList.push(content);\\n                            index = index + 1;\\n                        }\\n                    }\\n                }\\n            },\\n\\n            /**\\n             * contents 리스트 변경\\n             */\\n            changeContentList: function changeContentList(keyword, contentResult) {\\n                var self = this;\\n                self.contentList = [];\\n                var index = 0;\\n\\n                if (contentResult != null) {\\n                    for (var _iterator4 = contentResult, _isArray4 = Array.isArray(_iterator4), _i4 = 0, _iterator4 = _isArray4 ? _iterator4 : _iterator4[Symbol.iterator]();;) {\\n                        var _ref4;\\n\\n                        if (_isArray4) {\\n                            if (_i4 >= _iterator4.length) break;\\n                            _ref4 = _iterator4[_i4++];\\n                        } else {\\n                            _i4 = _iterator4.next();\\n                            if (_i4.done) break;\\n                            _ref4 = _i4.value;\\n                        }\\n\\n                        var result = _ref4;\\n\\n                        if (index < 7) {\\n                            var content = {};\\n                            content.title = JSON.parse(JSON.stringify(self.replaceHighlightWord(result.title, keyword)));\\n                            content.link = result.code;\\n                            self.contentList.push(content);\\n                            index = index + 1;\\n                        }\\n                    }\\n                }\\n            },\\n\\n            /**\\n             * 하이라이트 표시\\n             */\\n            replaceHighlightWord: function replaceHighlightWord(str, highlightKeyword) {\\n                var replaceHighlightKeyword = highlightKeyword.replace(/[^a-z0-9가-힣_ ]/gi, \\'\\');\\n                var regEx = new RegExp(replaceHighlightKeyword, \"gi\");\\n                str = str.replace(regEx, function (a) {\\n                    return \\'<span class=\"keysel\">\\' + a + \\'</span>\\';\\n                });\\n                return str;\\n            },\\n\\n            /**\\n             * 검색 버튼 클릭 시\\n             * @param e\\n             */\\n            clickSearch: function clickSearch(e) {\\n                if (!this.keyword || this.keyword.length === 0) {\\n                    alert(\"검색어를 입력하세요\");\\n                    $(\"#keyword_str\").focus();\\n                    e.preventDefault();\\n                } else {\\n                    location.href = \"/search/search_list.html?keyword=\" + this.keyword;\\n                }\\n            },\\n\\n            /**\\n             * 인기 검색어 클릭시\\n             * @param book\\n             */\\n            clickPopularKeyword: function clickPopularKeyword(book) {\\n                var searchKeyword = book.bookName;\\n                location.href = \"/search/search_list.html?keyword=\" + searchKeyword;\\n            },\\n\\n            /**\\n             * 책 검색어 클릭시 책 상세로 이동\\n             * @param book\\n             */\\n            clickBookKeyword: function clickBookKeyword(book) {\\n                location.href = \"/store/books/look.php?p_code=\" + book.link;\\n            },\\n\\n            /**\\n             * 교육 클릭시 교육 상세로 이동\\n             * @param education\\n             */\\n            clickEducationKeyword: function clickEducationKeyword(education) {\\n                location.href = \"/store/education/edu_view.html?p_code=\" + education.link;\\n            },\\n\\n            /**\\n             * 컨텐츠 클릭시 컨텐츠 상세로 이동\\n             * @param contents\\n             */\\n            clickContentKeyword: function clickContentKeyword(content) {\\n                location.href = \"/channel/category/category_view.html?cms_code=\" + content.link;\\n            }\\n        }\\n    });\\n</script>\\n<!-- //메인 검색 및 카테고리 영역 -->\\r\\n\\r\\n\\r\\n<!-- Contents -->\\r\\n<div id=\"container\">\\r\\n\\r\\n\\t<div class=\"myhanbit_wrap\">\\r\\n\\t\\t<!-- 회원등급 -->\\r\\n\\t\\t<div class=\"sm_myinfo\">\\r\\n\\t\\t\\t<div class=\"my_rating\">\\r\\n\\t\\t\\t\\t<div class=\"icon\">\\r\\n\\t\\t\\t\\t\\t\\t\\t\\t\\t\\t\\r\\n\\t\\t\\t\\t\\t<img src=\"https://www.hanbit.co.kr/images/myhanbit/rating_icon1.png\" alt=\"\" />\\t\\r\\n\\t\\t\\t\\t</div>\\r\\n\\t\\t\\t\\t<p>(유예지)님의<br />회원 등급은 <span>일반</span> 입니다.</p>\\t\\t\\t\\t\\r\\n\\t\\t\\t</div>\\r\\n\\t\\t</div>\\r\\n\\t\\t<!-- //회원등급 -->\\r\\n\\t\\t\\r\\n\\t\\t<!-- 마일리지/이코인 -->\\r\\n\\t\\t<div class=\"sm_mymileage\">\\r\\n\\t\\t\\t<dl class=\"mileage_section1\">\\r\\n\\t\\t\\t\\t<dt>마일리지</dt>\\r\\n\\t\\t\\t\\t<dd><span>2,000</span> 점</dd>\\r\\n\\t\\t\\t</dl>\\r\\n\\t\\t\\t<dl class=\"mileage_section2\">\\r\\n\\t\\t\\t\\t<dt>한빛이코인</dt>\\r\\n\\t\\t\\t\\t<dd><span>0</span> 원</dd>\\r\\n\\t\\t\\t</dl>\\r\\n\\t\\t</div>\\r\\n\\t\\t<!-- //마일리지/이코인 -->\\r\\n\\t\\t\\r\\n\\t\\t<!-- 최근 구매이력 -->\\r\\n\\t\\t<div class=\"sm_myorder\">\\r\\n\\t\\t\\t<p class=\"tit\">최근 구매이력</p>\\r\\n\\t\\t\\t<table class=\"tbl_type_list\" border=\"0\" cellspacing=\"0\" summary=\"최근 3개월 활동 내역 테이블\">\\r\\n\\t\\t\\t\\t<caption>최근 3개월 활동 내역</caption>\\r\\n\\t\\t\\t\\t<colgroup>\\r\\n\\t\\t\\t\\t<col width=\"110px\">\\r\\n\\t\\t\\t\\t<col width=\"\">\\r\\n\\t\\t\\t\\t<col width=\"120px\">\\r\\n\\t\\t\\t\\t</colgroup>\\r\\n\\t\\t\\t\\t<thead>\\r\\n\\t\\t\\t\\t\\t<tr>\\r\\n\\t\\t\\t\\t\\t\\t<th scope=\"col\">주문일자</th>\\r\\n\\t\\t\\t\\t\\t\\t<th scope=\"col\">상품명</th>\\r\\n\\t\\t\\t\\t\\t\\t<th class=\"last\" scope=\"col\">주문금액</th>\\r\\n\\t\\t\\t\\t\\t</tr>\\r\\n\\t\\t\\t\\t</thead>\\r\\n\\t\\t\\t\\t<tbody>\\r\\n\\t\\t\\t\\t\\t\\t\\t\\t\\t\\t\\t\\t\\t\\t\\t\\r\\n\\t\\t\\t\\t</tbody>\\r\\n\\t\\t\\t</table>\\r\\n\\t\\t</div>\\r\\n\\t\\t<!-- //최근 구매이력 -->\\r\\n\\t\\t\\r\\n\\t\\t<!-- My Book -->\\r\\n\\t\\t<div class=\"submain_mypagae_foot smf_l\">\\r\\n\\t\\t\\t<p class=\"sm_tit\">My Book</p>\\t\\t\\t\\t\\t\\t\\r\\n\\t\\t\\t\\t\\t\\t\\r\\n\\t\\t\\t\\t<div class=\"smf_nodata\">리스트가 없습니다.</div>\\r\\n\\t\\t\\t\\t\\r\\n\\t\\t</div>\\r\\n\\t\\t<!-- //My Book -->\\r\\n\\t\\t\\r\\n\\t\\t<!-- My eBook -->\\r\\n\\t\\t<div class=\"submain_mypagae_foot smf_c\">\\r\\n\\t\\t\\t<p class=\"sm_tit\">My eBook</p>\\t\\t\\t\\r\\n\\t\\t\\t\\t\\t\\t\\r\\n\\t\\t\\t\\t<div class=\"smf_nodata\">리스트가 없습니다.</div>\\r\\n\\t\\t\\t\\t\\t</div>\\r\\n\\t\\t<!-- //My eBook -->\\r\\n\\t\\t\\r\\n\\t\\t<!-- My 강의 -->\\r\\n\\t\\t<div class=\"submain_mypagae_foot smf_r\">\\r\\n\\t\\t\\t<p class=\"sm_tit\">My 강의</p>\\r\\n\\t\\t\\t\\t\\t\\t\\r\\n\\t\\t\\t\\t<div class=\"smf_nodata\">리스트가 없습니다.</div>\\r\\n\\t\\t\\t\\t\\t\\t\\t\\r\\n\\t\\t</div>\\t\\t\\r\\n\\t\\t<!-- //My 강의 -->\\r\\n\\t</div>\\r\\n\\t\\r\\n</div>\\r\\n<!-- //Contents -->\\r\\n\\r\\n\\r\\n<!-- Footer -->\\r\\n<footer>\\r\\n  <!-- 공지사항 -->\\r\\n  <div class=\"foot_notice\" style=\"height:6px;\"></div>  <!-- //공지사항 -->\\r\\n  \\r\\n  <div class=\"foot_contents\">\\r\\n    <!-- 하단 메뉴 -->\\r\\n    <div class=\"foot_menu\">\\r\\n      <!-- added by coffin -->\\r\\n            <ul>\\r\\n        <li><a href=\"https://www.hanbit.co.kr/publisher/index.html\" target=\"_blank\">회사소개</a>(<a href=\"https://www.hanbit.co.kr/publisher/index.html\" target=\"_blank\">KOR</a> | <a href=\"https://www.hanbit.co.kr/publisher/index.html?lang=e\" target=\"_blank\">ENG</a>) &#149; <a href=\"https://www.hanbit.co.kr/publisher/contact.html?lang=k\" target=\"_blank\">약도</a></li>\\r\\n        <li><a href=\"https://www.hanbit.co.kr/publisher/write.html\" target=\"_blank\">기획 및 원고 모집</a></li>\\r\\n        <li><a href=\"https://www.hanbit.co.kr/publisher/career.html\" target=\"_blank\">채용</a> &#149; 입사지원 <a href=\"mailto:jobs@hanbit.co.kr\">jobs@hanbit.co.kr</a></li>\\r\\n        <li><a href=\"https://www.hanbit.co.kr/publisher/foreignrights.html\" target=\"_blank\">FOREIGN RIGHTS</a></li>\\r\\n        <li><a href=\"https://www.hanbit.co.kr/member/use_agreement.html\">이용약관</a> &#149; <a href=\"https://www.hanbit.co.kr/member/privacy_policy.html\"><strong>개인정보처리방침</strong></a></li>\\r\\n        <li><a href=\"https://www.hanbit.co.kr/sitemap/sitemap.html\">사이트맵</a></li>\\r\\n      </ul>\\r\\n          </div>\\r\\n    <!-- //하단 메뉴 -->\\r\\n\\r\\n    <!-- SNS -->\\r\\n    <div class=\"foot_sns\">\\r\\n          \\t<!-- 데브레터 구독하기 -->\\r\\n    \\t<div class=\"devletter_contet\">\\r\\n    \\t\\t<div class=\"devletter_sub\">\\r\\n    \\t\\t\\t<span class=\"dev_header_img\">데브레터 구독하기</span><a class=\"dev_sit_a\" href=\"/devletter/\" target=\"_blank\"><span class=\"dev_site_img\">데브레터 보러가기</span></a>\\r\\n    \\t\\t</div>\\r\\n    \\r\\n    \\t\\t <form class=\"subscribe_form\" action=\"/devletter/dev_process.php\" method=\"post\">\\r\\n    \\t\\t\\t<fieldset class=\"subscribe_fiel\">\\r\\n    \\t\\t\\t\\t<legend>구독서비스</legend>\\r\\n    \\t\\t\\t\\t<input type=\"text\" placeholder=\"Your Email Address\" name=\"user_email\"></input>\\r\\n    \\t\\t\\t\\t<button type=\"submit\" class=\"sub_btn\"><span>구독</span></button>\\r\\n    \\t\\t\\t</fieldset>\\r\\n    \\t\\t </form>\\r\\n    \\r\\n    \\t\\t  <div class=\"main_foot_sns\">\\r\\n    \\t\\t\\t  <ul>\\r\\n    \\t\\t\\t\\t<li class=\"main_foot_facebook\"><a href=\"https://www.facebook.com/hanbitmedia\" target=\"_blank\"><span>페이스북</span></a></li>\\r\\n    \\t\\t\\t\\t<li class=\"main_foot_youtube\"><a href=\"https://www.youtube.com/한빛TV\" target=\"_blank\"><span>유튜브</span></a></li>\\r\\n    \\t\\t\\t\\t<li class=\"main_foot_bolg\"><a href=\"http://blog.hanbit.co.kr/\" target=\"_blank\"><span>블로그</span></a></li>\\r\\n    \\t\\t\\t\\t<li class=\"main_foot_naverpost\"><a href=\"https://m.post.naver.com/hanbitstory\" target=\"_blank\"><span>네이버포스트</span></a></li>\\r\\n    \\t\\t\\t  </ul>\\r\\n    \\t\\t  </div>\\r\\n    \\t</div>  \\r\\n    \\t<!-- 데브레터 구독하기 //-->\\r\\n          \\r\\n         </div>\\r\\n    <!-- //SNS -->\\r\\n    \\r\\n    <!-- 한빛 정보 -->\\r\\n    <div class=\"foot_about\">\\r\\n      <div class=\"foot_about_area\">\\r\\n        \\r\\n\\r\\n        <p><strong>한빛미디어㈜ &#149; 한빛아카데미㈜ &#149; 한빛비즈㈜</strong></p>\\r\\n        <p>(03785) 서울 서대문구 연희로2길 62</p>\\r\\n        <p>EMAIL : support@hanbit.co.kr</p>\\r\\n        <p>대표이사 : 김태헌</p>\\r\\n        <p>사업자등록번호 : 220-81-05665 <a href=\"http://www.ftc.go.kr/bizCommPop.do?wrkr_no=2208105665\" target=\"_blank\">[확인]</a></p>\\r\\n        <p>통신판매업신고 : 2017-서울서대문-0671호</p>\\r\\n        <p>호스팅제공자 : (주)누리호스팅</p>        \\r\\n\\r\\n      </div>\\r\\n    </div>\\r\\n    <!-- //한빛 정보 -->\\r\\n  </div>\\r\\n  \\r\\n  <div class=\"copyright\">&copy;1993-2022 Hanbit Publishing Network, Inc. All rights reserved.</div>\\r\\n</footer>\\r\\n<!-- //푸터 -->\\r\\n<div class=\"foot_download_btn\"><a href=\"https://www.hanbit.co.kr/support/supplement_list.html\">자료실</a></div>\\r\\n\\r\\n<!-- 공통 JS 호출 -->\\r\\n<script type=\"text/javascript\" src=\"/js/common.js\"></script>\\r\\n<!-- //공통 JS 호출 -->\\r\\n\\r\\n</body>\\r\\n</html>\\r\\n'"
      ]
     },
     "execution_count": 97,
     "metadata": {},
     "output_type": "execute_result"
    }
   ],
   "source": [
    "resp.text"
   ]
  },
  {
   "cell_type": "code",
   "execution_count": 98,
   "id": "f733d6f3-c4ec-45f9-b380-bf66617ce19a",
   "metadata": {
    "collapsed": true,
    "jupyter": {
     "outputs_hidden": true
    },
    "tags": []
   },
   "outputs": [
    {
     "data": {
      "text/plain": [
       "<!DOCTYPE html>\n",
       "<html lang=\"ko\">\n",
       "<head>\n",
       "<!--[if lte IE 8]>\n",
       "<script>\n",
       "  location.replace('/support/explorer_upgrade.html');\n",
       "</script>\n",
       "<![endif]-->\n",
       "<meta charset=\"utf-8\"/>\n",
       "<title>한빛출판네트워크</title>\n",
       "<link href=\"https://www.hanbit.co.kr/images/common/hanbit.ico\" rel=\"shortcut icon\"/>\n",
       "<meta content=\"IE=Edge\" http-equiv=\"X-UA-Compatible\"/>\n",
       "<meta content=\"website\" property=\"og:type\"/>\n",
       "<meta content=\"한빛출판네트워크\" property=\"og:title\"/>\n",
       "<meta content=\"더 넓은 세상, 더 나은 미래를 위한 아시아 출판 네트워크 :: 한빛미디어, 한빛아카데미, 한빛비즈, 한빛라이프, 한빛에듀\" property=\"og:description\"/>\n",
       "<meta content=\"https://www.hanbit.co.kr/images/hanbitpubnet_logo.jpg\" property=\"og:image\"/>\n",
       "<meta content=\"https://www.hanbit.co.kr/myhanbit/myhanbit.html\" property=\"og:url\"/>\n",
       "<link href=\"https://www.hanbit.co.kr/myhanbit/myhanbit.html\" rel=\"canonical\"/>\n",
       "<meta content=\"한빛미디어,한빛아카데미,한빛비즈,한빛라이프,한빛에듀,리얼타임,대관서비스,책,출판사,IT전문서,IT활용서,대학교재,경제경영,어린이/유아,실용/여행,전자책,자격증,교육,세미나,강의,ebook,정보교과서\" name=\"keywords\"/>\n",
       "<meta content=\"더 넓은 세상, 더 나은 미래를 위한 아시아 출판 네트워크 :: 한빛미디어, 한빛아카데미, 한빛비즈, 한빛라이프, 한빛에듀\" name=\"description\"/>\n",
       "<meta content=\"width=device-width,initial-scale=1.0,minimum-scale=1.0,maximum-scale=1.0\" name=\"viewport\"/>\n",
       "<meta content=\"width=1260\" name=\"viewport\"/>\n",
       "<meta content=\"yes\" name=\"apple-mobile-web-app-capable\"/>\n",
       "<meta content=\"01c29ed1852aecca7a48ac0c3e0869627bc512d8\" name=\"naver-site-verification\"/>\n",
       "<link href=\"/css/common.css?20210603093421\" rel=\"stylesheet\"/>\n",
       "<link href=\"/css/hover.css\" media=\"all\" rel=\"stylesheet\"/>\n",
       "<link href=\"/js/jquery.raty.css\" rel=\"stylesheet\"/>\n",
       "<script src=\"/js/jquery-latest.js\" type=\"text/javascript\"></script>\n",
       "<script src=\"/js/jquery-ui.js\" type=\"text/javascript\"></script>\n",
       "<script src=\"/js/jquery.event.drag-1.5.min.js\" type=\"text/javascript\"></script>\n",
       "<script src=\"/js/jquery.touchSlider.js\" type=\"text/javascript\"></script>\n",
       "<script src=\"/js/jquery.raty.js\" type=\"text/javascript\"></script>\n",
       "<script src=\"/js/main.js\" type=\"text/javascript\"></script>\n",
       "<script src=\"/lib/cheditor/cheditor.js\" type=\"text/javascript\"></script>\n",
       "<script src=\"/js/jquery.ui.datepicker-ko.js\" type=\"text/javascript\"></script>\n",
       "<script src=\"/js/engine.js\" type=\"text/javascript\"></script>\n",
       "<script src=\"/js/vue.js\" type=\"text/javascript\"></script>\n",
       "<!-- Google Analytics -->\n",
       "<script>\n",
       "(function(i,s,o,g,r,a,m){i['GoogleAnalyticsObject']=r;i[r]=i[r]||function(){\n",
       "(i[r].q=i[r].q||[]).push(arguments)},i[r].l=1*new Date();a=s.createElement(o),\n",
       "m=s.getElementsByTagName(o)[0];a.async=1;a.src=g;m.parentNode.insertBefore(a,m)\n",
       "})(window,document,'script','//www.google-analytics.com/analytics.js','ga');\n",
       "ga('create', 'UA-47080738-1', 'hanbit.co.kr');\n",
       "ga('require', 'linkid', 'linkid.js');\n",
       "ga('send', 'pageview');\n",
       "</script>\n",
       "<!-- Google Analytics -->\n",
       "<!-- Facebook Pixel Code -->\n",
       "<script>\n",
       "  !function(f,b,e,v,n,t,s)\n",
       "  {if(f.fbq)return;n=f.fbq=function(){n.callMethod?\n",
       "  n.callMethod.apply(n,arguments):n.queue.push(arguments)};\n",
       "  if(!f._fbq)f._fbq=n;n.push=n;n.loaded=!0;n.version='2.0';\n",
       "  n.queue=[];t=b.createElement(e);t.async=!0;\n",
       "  t.src=v;s=b.getElementsByTagName(e)[0];\n",
       "  s.parentNode.insertBefore(t,s)}(window, document,'script',\n",
       "  'https://connect.facebook.net/en_US/fbevents.js');\n",
       "  fbq('init', '406459623338891');\n",
       "  fbq('track', 'PageView');\n",
       "</script>\n",
       "<noscript><img height=\"1\" src=\"https://www.facebook.com/tr?id=406459623338891&amp;ev=PageView&amp;noscript=1\" style=\"display:none\" width=\"1\"/></noscript>\n",
       "<!-- End Facebook Pixel Code -->\n",
       "<!-- Google Tag Manager -->\n",
       "<script>(function(w,d,s,l,i){w[l]=w[l]||[];w[l].push({'gtm.start':\n",
       "new Date().getTime(),event:'gtm.js'});var f=d.getElementsByTagName(s)[0],\n",
       "j=d.createElement(s),dl=l!='dataLayer'?'&l='+l:'';j.async=true;j.src=\n",
       "'https://www.googletagmanager.com/gtm.js?id='+i+dl;f.parentNode.insertBefore(j,f);\n",
       "})(window,document,'script','dataLayer','GTM-W9D5PM3');</script>\n",
       "<!-- End Google Tag Manager -->\n",
       "<!-- Kakao Pixel Code -->\n",
       "<script charset=\"UTF-8\" src=\"//t1.daumcdn.net/adfit/static/kp.js\" type=\"text/javascript\"></script>\n",
       "<script type=\"text/javascript\">\n",
       "  kakaoPixel('3011392806152551233').pageView();\n",
       "</script>\n",
       "<!-- //Kakao Pixel Code -->\n",
       "</head>\n",
       "<body>\n",
       "<!-- Google Tag Manager (noscript) -->\n",
       "<noscript><iframe height=\"0\" src=\"https://www.googletagmanager.com/ns.html?id=GTM-W9D5PM3\" style=\"display:none;visibility:hidden\" width=\"0\"></iframe></noscript>\n",
       "<!-- End Google Tag Manager (noscript) -->\n",
       "<link href=\"/css/layout-hanbit.css?202206030909\" rel=\"stylesheet\"/>\n",
       "<link href=\"/css/layout-member.css\" rel=\"stylesheet\"/>\n",
       "<link href=\"/css/layout-network.css\" rel=\"stylesheet\"/>\n",
       "<link href=\"/css/layout-store.css\" rel=\"stylesheet\"/>\n",
       "<link href=\"/css/layout-myhanbit.css\" rel=\"stylesheet\"/>\n",
       "<link href=\"/css/layout-event.css\" rel=\"stylesheet\"/>\n",
       "<!-- 메뉴 바로가기 -->\n",
       "<div id=\"quick_skip_menu\">\n",
       "<a href=\"#gnb\" onclick=\"document.getElementById('gnb').tabIndex = -1;document.getElementById('gnb').focus();return false;\"><span>메뉴 바로가기</span></a>\n",
       "<a href=\"#top_search\" onclick=\"view_hover('main_search_area','','show'), document.getElementById('top_search').tabIndex = -1;document.getElementById('top_search').focus();return false;\"><span>검색 및 카테고리 바로가기</span></a>\n",
       "<a href=\"#container\" onclick=\"document.getElementById('container').tabIndex = -1;document.getElementById('container').focus();return false;\"><span>본문 바로가기</span></a>\n",
       "</div>\n",
       "<!-- //메뉴 바로가기 -->\n",
       "<!-- header -->\n",
       "<header>\n",
       "<!-- top menu -->\n",
       "<nav>\n",
       "<div id=\"wrap_nav\">\n",
       "<ul class=\"top_brand\">\n",
       "<li><a href=\"https://www.hanbit.co.kr/index.html\" name=\"hanbit_network\"><span>HOME</span></a></li>\n",
       "<li><a href=\"https://www.hanbit.co.kr/media/\">한빛미디어</a></li>\n",
       "<li><a href=\"https://www.hanbit.co.kr/academy/\">한빛아카데미</a></li>\n",
       "<li><a href=\"https://www.hanbit.co.kr/biz/\">한빛비즈</a></li>\n",
       "<li><a href=\"https://www.hanbit.co.kr/life/\">한빛라이프</a></li>\n",
       "<li><a href=\"https://www.hanbit.co.kr/edu/\">한빛에듀</a></li>\n",
       "<li><a href=\"https://www.hanbit.co.kr/realtime/\">리얼타임</a></li>\n",
       "<li><a href=\"https://www.hanbit.co.kr/textbook/\" target=\"_blank\">한빛정보교과서</a></li>\n",
       "<li><a href=\"https://www.hanbit.co.kr/rent/\" target=\"_blank\">한빛대관서비스</a></li>\n",
       "</ul>\n",
       "<ul class=\"top_menu\">\n",
       "<li><a class=\"logout\" href=\"https://www.hanbit.co.kr/member/logout.html\">로그아웃</a></li>\n",
       "<li><a class=\"edit\" href=\"https://www.hanbit.co.kr/member/member_register.html\">개인정보수정</a></li>\n",
       "<li><a class=\"myhanbit\" href=\"https://www.hanbit.co.kr/myhanbit/myhanbit.html\">마이한빛</a></li>\n",
       "<li><a class=\"cart\" href=\"https://www.hanbit.co.kr/myhanbit/cart.html\">장바구니</a></li>\n",
       "<li class=\"top_menu_store\"><a href=\"https://www.hanbit.co.kr/publisher/foreignrights.html?lang=e\" target=\"_blank\">ENGLISH</a></li>\n",
       "</ul>\n",
       "</div>\n",
       "</nav>\n",
       "<!-- //top menu -->\n",
       "<div id=\"wrap_gnb\">\n",
       "<!-- logo -->\n",
       "<h1><a href=\"https://www.hanbit.co.kr/index.html\">한빛출판네트워크</a></h1>\n",
       "<!-- //logo -->\n",
       "<!-- Menu -->\n",
       "<div id=\"gnb\" name=\"gnb\">\n",
       "<ul>\n",
       "<li><a class=\"\" href=\"https://www.hanbit.co.kr/brand/brand_submain.html\">BRAND</a></li>\n",
       "<li><a class=\"\" href=\"https://www.hanbit.co.kr/channel/channel_submain.html\">Channel.H</a></li>\n",
       "<li><a class=\"\" href=\"https://www.hanbit.co.kr/store/store_submain.html\">STORE</a></li>\n",
       "<li><a class=\"\" href=\"https://www.hanbit.co.kr/support/help_info.html\">SUPPORT</a></li>\n",
       "<li><a class=\"\" href=\"https://www.hanbit.co.kr/event/current/current_event_list.html\">EVENT</a></li>\n",
       "<li><a class=\"\" href=\"https://www.hanbit.co.kr/publisher/foreignrights.html?lang=e\" target=\"_blank\">RIGHTS</a></li>\n",
       "<li class=\"search\" id=\"top_search\"><a href=\"javascript:;\" onclick=\"view_hover('main_search_area','','show'); $('#keyword_str').focus();\"><span>SEARCH</span></a></li>\n",
       "</ul>\n",
       "</div>\n",
       "<!-- //Menu -->\n",
       "<!-- lnb -->\n",
       "<div class=\"lnb\" style=\"top:92px;\">\n",
       "<div class=\"lnb_area\">\n",
       "<!-- BRAND -->\n",
       "<!--2015-10-07 비회원 장바구니 기능 추가되면서 회원 로그인시에만 보여짐 by 이용희-->\n",
       "<ul class=\"lnb_depth1_my1\">\n",
       "<li><a class=\"\" href=\"https://www.hanbit.co.kr/myhanbit/membership.html\">한빛멤버십</a></li><span>l</span>\n",
       "<li><a class=\"\" href=\"https://www.hanbit.co.kr/myhanbit/mileage_ecoin.html\">마일리지 / 한빛이코인</a></li>\n",
       "</ul>\n",
       "<ul class=\"lnb_depth1_my2\">\n",
       "<li><a class=\"\" href=\"https://www.hanbit.co.kr/myhanbit/wishlist.html\">위시리스트</a></li><span>l</span>\n",
       "<li><a class=\"\" href=\"https://www.hanbit.co.kr/myhanbit/cart.html\">장바구니</a></li><span>l</span>\n",
       "<li><a class=\"\" href=\"https://www.hanbit.co.kr/myhanbit/order_history_list.html\">주문목록</a></li><span>l</span>\n",
       "<li><a class=\"\" href=\"https://www.hanbit.co.kr/myhanbit/coupon.html\">My 쿠폰</a></li>\n",
       "</ul>\n",
       "<ul class=\"lnb_depth1_my3\">\n",
       "<li><a class=\"\" href=\"https://www.hanbit.co.kr/myhanbit/purchase_books.html\">My Book</a></li>\n",
       "<span>l</span>\n",
       "<li><a class=\"\" href=\"https://www.hanbit.co.kr/myhanbit/my_ebook_list.html\">My eBook</a></li>\n",
       "<span>l</span>\n",
       "<li><a class=\"\" href=\"https://www.hanbit.co.kr/myhanbit/my_class_list.html\">My 강의</a></li>\n",
       "</ul>\n",
       "</div>\n",
       "</div>\n",
       "<!--// lnb -->\n",
       "</div>\n",
       "</header>\n",
       "<!-- //header -->\n",
       "<!-- 메인 검색 및 카테고리 영역 -->\n",
       "<div class=\"fixed\" id=\"main_search_area\" style=\"display:none;\">\n",
       "<div class=\"msa_wrap\">\n",
       "<!-- 검색 -->\n",
       "<div class=\"msa_srch_wrap\">\n",
       "<form onsubmit=\"return false;\">\n",
       "<fieldset class=\"msa_srch_field\">\n",
       "<legend>한빛출판네트워크 검색</legend>\n",
       "<input accesskey=\"s\" autocomplete=\"off\" class=\"srch_keyword\" id=\"keyword_str\" name=\"keyword_str\" title=\"검색어\" type=\"text\" v-model=\"keyword\"/>\n",
       "<input class=\"srch_btn\" style=\"cursor:pointer;\" type=\"submit\"/>\n",
       "</fieldset>\n",
       "</form>\n",
       "</div>\n",
       "<!-- //검색 -->\n",
       "<!-- ① 인기검색어 -->\n",
       "<div class=\"msa_srch_polular\" v-if=\"showPopularKeyword === true\">\n",
       "<h2 class=\"tit\">인기 검색어 <span>(최근 1개월간)</span></h2>\n",
       "<div class=\"popula_box\">\n",
       "<ul class=\"left\">\n",
       "<li v-for=\"keyword in leftPopularKeywordList\">\n",
       "<a :class=\"keyword.bold\">\n",
       "                  {{ keyword.number }} {{ keyword.bookName }}\n",
       "              </a>\n",
       "</li>\n",
       "</ul>\n",
       "<ul class=\"right\">\n",
       "<li v-for=\"keyword in rightPopularKeywordList\">\n",
       "<a :class=\"keyword.bold\">\n",
       "                  {{ keyword.number }} {{ keyword.bookName }}\n",
       "              </a>\n",
       "</li>\n",
       "</ul>\n",
       "</div>\n",
       "</div>\n",
       "<!-- ① 인기검색어 -->\n",
       "<!-- ② 검색결과/검색서제스쳔 -->\n",
       "<div class=\"msa_srch_suggestion\" v-if=\"showPopularKeyword === false\">\n",
       "<div class=\"sugg_left\" v-if=\"bookList.length !== 0\">\n",
       "<h3 class=\"tit\">BOOK</h3>\n",
       "<ul class=\"books_list\">\n",
       "<li v-for=\"book in bookList\"><a><p v-html=\"book.name\"></p></a></li>\n",
       "</ul>\n",
       "</div>\n",
       "<div class=\"sugg_right\">\n",
       "<div class=\"sugg_book\" v-if=\"bookList.length !== 0\">\n",
       "<table class=\"sugg_book_detail\">\n",
       "<tr>\n",
       "<td class=\"cover\">\n",
       "<a>\n",
       "<img :src=\"bookSummary.imgUrl\" class=\"b_cover\"/>\n",
       "</a>\n",
       "</td>\n",
       "<td class=\"draft\">\n",
       "<a class=\"b_title\"><strong v-html=\"bookSummary.originName\"></strong></a>\n",
       "<p class=\"b_int\">\n",
       "                {{ bookSummary.author }} 지음<br/>\n",
       "                {{ bookSummary.publishingCompany }} | {{ bookSummary.date }}\n",
       "                </p>\n",
       "<p class=\"b_type\">\n",
       "<span>{{ bookSummary.bookType }}</span>\n",
       "</p>\n",
       "</td>\n",
       "</tr>\n",
       "</table>\n",
       "</div>\n",
       "<!--\n",
       "        <div class=\"sugg_edu\" v-if=\"educationList.length !== 0\">\n",
       "          <h3 class=\"tit\">EDUCATION</h3>\n",
       "          <ul class=\"edu_list\">\n",
       "            <li v-for=\"education in educationList\">&#149; <a @click=\"clickEducationKeyword(education)\"><span v-html=\"education.title\"></span></a></li>\n",
       "          </ul>\n",
       "        </div>\n",
       "        -->\n",
       "<div class=\"sugg_cont\" v-if=\"contentList.length !== 0\">\n",
       "<h3 class=\"tit\">CONTENTS</h3>\n",
       "<ul class=\"cont_list\">\n",
       "<li v-for=\"content in contentList\"> <a><span v-html=\"content.title\"></span></a></li>\n",
       "</ul>\n",
       "</div>\n",
       "</div>\n",
       "</div>\n",
       "<!-- //② 검색결과/검색서제스쳔 -->\n",
       "<!-- 닫기 -->\n",
       "<div class=\"msa_wrap_close\">\n",
       "<a href=\"javascript:;\" onclick=\"view_hover('main_search_area','','hide')\">닫기</a>\n",
       "</div>\n",
       "<!-- //닫기 -->\n",
       "</div>\n",
       "</div>\n",
       "<script type=\"text/javascript\">\n",
       "    \"use strict\";\n",
       "\n",
       "    var common_top_search_vue = new Vue({\n",
       "        el: '#main_search_area',\n",
       "        data: {\n",
       "            //검색엔진 URL\n",
       "            searchProxyURL: \"https://search.hanbit.co.kr\",\n",
       "            //인기 검색어 show 여부\n",
       "            showPopularKeyword: true,\n",
       "            //사용자 검색 키워드\n",
       "            keyword: '',\n",
       "            //인기 검색어 리스트\n",
       "            popularKeywordList: [],\n",
       "            // 인기 검색어 리스트 (왼쪽)\n",
       "            leftPopularKeywordList: [],\n",
       "            // 인기 검색어 리스트 (오른쪽)\n",
       "            rightPopularKeywordList: [],\n",
       "            // 자동완성에서의 책 리스트\n",
       "            bookList: [],\n",
       "            // 자동완성에서의 책 정보\n",
       "            bookSummary: {\n",
       "                'imgUrl': '',\n",
       "                'link': '',\n",
       "                'name': '',\n",
       "                'author': '',\n",
       "                'publishingCompany': '',\n",
       "                'date': '',\n",
       "                'bookType': ''\n",
       "            },\n",
       "            //에듀케이션 리스트\n",
       "            educationList: [],\n",
       "            //컨텐츠 리스트\n",
       "            contentList: []\n",
       "        },\n",
       "        created: function created() {\n",
       "            // 인기 검색어 조회\n",
       "            this.getPopularKeyword();\n",
       "        },\n",
       "        methods: {\n",
       "            /**\n",
       "             * 사용자가 검색 키워드를 입력할때 발생하는 이벤트\n",
       "             */\n",
       "            typeKeyword: function typeKeyword() {\n",
       "                var self = this;\n",
       "                var keyword = $(\"#keyword_str\").val();\n",
       "\n",
       "                if (keyword.length !== 0) {\n",
       "                    //자동완성어\n",
       "                    this.findAutocompleteResult(keyword);\n",
       "                } else {\n",
       "                    //인기검색어\n",
       "                    self.showPopularKeyword = true;\n",
       "                }\n",
       "            },\n",
       "\n",
       "            /**\n",
       "             * 인기검색어 조회\n",
       "             */\n",
       "            getPopularKeyword: function getPopularKeyword() {\n",
       "                var self = this;\n",
       "                this.popularKeywordList = [];\n",
       "                $.get(this.searchProxyURL + \"/querylog/popularKeyword\").done(function (data) {\n",
       "                    if (data != null) {\n",
       "                        self.drawPopularKeyword(data);\n",
       "                    }\n",
       "                });\n",
       "            },\n",
       "\n",
       "            /**\n",
       "             * 인기 검색어 그리기\n",
       "             */\n",
       "            drawPopularKeyword: function drawPopularKeyword(popularBooks) {\n",
       "                var self = this;\n",
       "                popularBooks.forEach(function (item) {\n",
       "                    var popularBook = {\n",
       "                        bookName: item.keyword\n",
       "                    };\n",
       "                    self.popularKeywordList.push(popularBook);\n",
       "                });\n",
       "                var number = 0;\n",
       "\n",
       "                for (var _iterator = this.popularKeywordList, _isArray = Array.isArray(_iterator), _i = 0, _iterator = _isArray ? _iterator : _iterator[Symbol.iterator]();;) {\n",
       "                    var _ref;\n",
       "\n",
       "                    if (_isArray) {\n",
       "                        if (_i >= _iterator.length) break;\n",
       "                        _ref = _iterator[_i++];\n",
       "                    } else {\n",
       "                        _i = _iterator.next();\n",
       "                        if (_i.done) break;\n",
       "                        _ref = _i.value;\n",
       "                    }\n",
       "\n",
       "                    var keyword = _ref;\n",
       "                    number = number + 1;\n",
       "                    keyword.number = number.toString().length < 2 ? \"0\" + number : number;\n",
       "\n",
       "                    if (number > 5) {\n",
       "                        keyword.direction = \"right\";\n",
       "                        self.rightPopularKeywordList.push(keyword);\n",
       "                    } else {\n",
       "                        keyword.direction = \"left\";\n",
       "\n",
       "                        if (number < 4) {\n",
       "                            keyword.bold = 'active';\n",
       "                        }\n",
       "\n",
       "                        self.leftPopularKeywordList.push(keyword);\n",
       "                    }\n",
       "                }\n",
       "            },\n",
       "\n",
       "            /**\n",
       "             * 자동완성 검색 결과\n",
       "             */\n",
       "            findAutocompleteResult: function findAutocompleteResult(keyword) {\n",
       "                var self = this;\n",
       "                var param = {\n",
       "                    q: keyword,\n",
       "                    types: \"education,book,contents\",\n",
       "                    fq: keyword\n",
       "                };\n",
       "                $.post(this.searchProxyURL + \"/autocomplete/search\", param).done(function (data) {\n",
       "                    if (data != null) {\n",
       "                        var bookResult = data.booksResults;\n",
       "                        self.changeBookList(keyword, bookResult);\n",
       "                        var contentResult = data.contentsResults;\n",
       "                        self.changeContentList(keyword, contentResult);\n",
       "                        var educationResult = data.educationResults;\n",
       "                        self.changeEducationList(keyword, educationResult);\n",
       "                    }\n",
       "                });\n",
       "                this.showPopularKeyword = false;\n",
       "            },\n",
       "\n",
       "            /**\n",
       "             * 자동완성어에서 BOOK 부분에서 마우스를 올렸을 시에 발생하는 이벤트\n",
       "             * @param bookId\n",
       "             */\n",
       "            mouseOverBook: function mouseOverBook(bookId) {\n",
       "                var currentBook = this.bookList.filter(function (book) {\n",
       "                    return book.id === bookId;\n",
       "                });\n",
       "                this.changeBookSummary(currentBook[0]);\n",
       "            },\n",
       "\n",
       "            /**\n",
       "             * 책 소개 변경\n",
       "             * @param book\n",
       "             */\n",
       "            changeBookSummary: function changeBookSummary(book) {\n",
       "                if (book !== {}) {\n",
       "                    this.bookSummary.name = book.name;\n",
       "                    this.bookSummary.originName = book.originName;\n",
       "                    this.bookSummary.author = book.author;\n",
       "                    this.bookSummary.bookType = book.bookType;\n",
       "                    this.bookSummary.imgUrl = book.imgUrl;\n",
       "                    this.bookSummary.link = book.link;\n",
       "                    this.bookSummary.publishingCompany = book.publishingCompany;\n",
       "                    this.bookSummary.date = book.date;\n",
       "                    this.bookSummary.bookType = book.bookType;\n",
       "                }\n",
       "            },\n",
       "\n",
       "            /**\n",
       "             * BOOK 리스트 변경\n",
       "             */\n",
       "            changeBookList: function changeBookList(keyword, bookResultList) {\n",
       "                var self = this;\n",
       "                self.bookList = [];\n",
       "                var index = 0;\n",
       "\n",
       "                if (bookResultList != null) {\n",
       "                    for (var _iterator2 = bookResultList, _isArray2 = Array.isArray(_iterator2), _i2 = 0, _iterator2 = _isArray2 ? _iterator2 : _iterator2[Symbol.iterator]();;) {\n",
       "                        var _ref2;\n",
       "\n",
       "                        if (_isArray2) {\n",
       "                            if (_i2 >= _iterator2.length) break;\n",
       "                            _ref2 = _iterator2[_i2++];\n",
       "                        } else {\n",
       "                            _i2 = _iterator2.next();\n",
       "                            if (_i2.done) break;\n",
       "                            _ref2 = _i2.value;\n",
       "                        }\n",
       "\n",
       "                        var result = _ref2;\n",
       "\n",
       "                        if (index < 10) {\n",
       "                            var book = {};\n",
       "                            book.id = result.code;\n",
       "                            book.originName = result.title;\n",
       "                            book.name = JSON.parse(JSON.stringify(self.replaceHighlightWord(result.title, keyword)));\n",
       "                            book.link = result.code;\n",
       "                            book.imgUrl = self.getBookImageURL(result.code);\n",
       "                            book.author = result.author;\n",
       "                            book.publishingCompany = result.brand;\n",
       "                            book.date = result.pubDate;\n",
       "                            book.bookType = result.bookType;\n",
       "                            self.bookList.push(book); //책 미리보기 변경\n",
       "\n",
       "                            self.changeBookSummary(self.bookList[0]);\n",
       "                        }\n",
       "                    }\n",
       "                } else {\n",
       "                    self.initBookSummary();\n",
       "                }\n",
       "            },\n",
       "\n",
       "            /**\n",
       "             * 책 이미지 주소 가져오기\n",
       "             */\n",
       "            getBookImageURL: function getBookImageURL(bookCode) {\n",
       "                var imgURL;\n",
       "\n",
       "                if (bookCode.substr(0, 1) === \"E\") {\n",
       "                    imgURL = '/data/ebook/' + bookCode + '_m.jpg';\n",
       "                } else {\n",
       "                    imgURL = '/data/books/' + bookCode + \"_m.jpg\";\n",
       "                }\n",
       "\n",
       "                return imgURL;\n",
       "            },\n",
       "\n",
       "            /**\n",
       "             * 검색 결과가 없을 경우 책 미리보기 초기화\n",
       "             */\n",
       "            initBookSummary: function initBookSummary() {\n",
       "                this.bookSummary = {\n",
       "                    'imgUrl': '',\n",
       "                    'link': '',\n",
       "                    'name': '',\n",
       "                    'author': '',\n",
       "                    'publishingCompany': '',\n",
       "                    'date': '',\n",
       "                    'bookType': ''\n",
       "                };\n",
       "            },\n",
       "\n",
       "            /**\n",
       "             * education 리스트 변경\n",
       "             */\n",
       "            changeEducationList: function changeEducationList(keyword, educationResultList) {\n",
       "                var self = this;\n",
       "                self.educationList = [];\n",
       "                var index = 0;\n",
       "\n",
       "                if (educationResultList != null) {\n",
       "                    for (var _iterator3 = educationResultList, _isArray3 = Array.isArray(_iterator3), _i3 = 0, _iterator3 = _isArray3 ? _iterator3 : _iterator3[Symbol.iterator]();;) {\n",
       "                        var _ref3;\n",
       "\n",
       "                        if (_isArray3) {\n",
       "                            if (_i3 >= _iterator3.length) break;\n",
       "                            _ref3 = _iterator3[_i3++];\n",
       "                        } else {\n",
       "                            _i3 = _iterator3.next();\n",
       "                            if (_i3.done) break;\n",
       "                            _ref3 = _i3.value;\n",
       "                        }\n",
       "\n",
       "                        var result = _ref3;\n",
       "\n",
       "                        if (index < 3) {\n",
       "                            var content = {};\n",
       "                            content.title = JSON.parse(JSON.stringify(self.replaceHighlightWord(result.title, keyword)));\n",
       "                            content.link = result.code;\n",
       "                            self.educationList.push(content);\n",
       "                            index = index + 1;\n",
       "                        }\n",
       "                    }\n",
       "                }\n",
       "            },\n",
       "\n",
       "            /**\n",
       "             * contents 리스트 변경\n",
       "             */\n",
       "            changeContentList: function changeContentList(keyword, contentResult) {\n",
       "                var self = this;\n",
       "                self.contentList = [];\n",
       "                var index = 0;\n",
       "\n",
       "                if (contentResult != null) {\n",
       "                    for (var _iterator4 = contentResult, _isArray4 = Array.isArray(_iterator4), _i4 = 0, _iterator4 = _isArray4 ? _iterator4 : _iterator4[Symbol.iterator]();;) {\n",
       "                        var _ref4;\n",
       "\n",
       "                        if (_isArray4) {\n",
       "                            if (_i4 >= _iterator4.length) break;\n",
       "                            _ref4 = _iterator4[_i4++];\n",
       "                        } else {\n",
       "                            _i4 = _iterator4.next();\n",
       "                            if (_i4.done) break;\n",
       "                            _ref4 = _i4.value;\n",
       "                        }\n",
       "\n",
       "                        var result = _ref4;\n",
       "\n",
       "                        if (index < 7) {\n",
       "                            var content = {};\n",
       "                            content.title = JSON.parse(JSON.stringify(self.replaceHighlightWord(result.title, keyword)));\n",
       "                            content.link = result.code;\n",
       "                            self.contentList.push(content);\n",
       "                            index = index + 1;\n",
       "                        }\n",
       "                    }\n",
       "                }\n",
       "            },\n",
       "\n",
       "            /**\n",
       "             * 하이라이트 표시\n",
       "             */\n",
       "            replaceHighlightWord: function replaceHighlightWord(str, highlightKeyword) {\n",
       "                var replaceHighlightKeyword = highlightKeyword.replace(/[^a-z0-9가-힣_ ]/gi, '');\n",
       "                var regEx = new RegExp(replaceHighlightKeyword, \"gi\");\n",
       "                str = str.replace(regEx, function (a) {\n",
       "                    return '<span class=\"keysel\">' + a + '</span>';\n",
       "                });\n",
       "                return str;\n",
       "            },\n",
       "\n",
       "            /**\n",
       "             * 검색 버튼 클릭 시\n",
       "             * @param e\n",
       "             */\n",
       "            clickSearch: function clickSearch(e) {\n",
       "                if (!this.keyword || this.keyword.length === 0) {\n",
       "                    alert(\"검색어를 입력하세요\");\n",
       "                    $(\"#keyword_str\").focus();\n",
       "                    e.preventDefault();\n",
       "                } else {\n",
       "                    location.href = \"/search/search_list.html?keyword=\" + this.keyword;\n",
       "                }\n",
       "            },\n",
       "\n",
       "            /**\n",
       "             * 인기 검색어 클릭시\n",
       "             * @param book\n",
       "             */\n",
       "            clickPopularKeyword: function clickPopularKeyword(book) {\n",
       "                var searchKeyword = book.bookName;\n",
       "                location.href = \"/search/search_list.html?keyword=\" + searchKeyword;\n",
       "            },\n",
       "\n",
       "            /**\n",
       "             * 책 검색어 클릭시 책 상세로 이동\n",
       "             * @param book\n",
       "             */\n",
       "            clickBookKeyword: function clickBookKeyword(book) {\n",
       "                location.href = \"/store/books/look.php?p_code=\" + book.link;\n",
       "            },\n",
       "\n",
       "            /**\n",
       "             * 교육 클릭시 교육 상세로 이동\n",
       "             * @param education\n",
       "             */\n",
       "            clickEducationKeyword: function clickEducationKeyword(education) {\n",
       "                location.href = \"/store/education/edu_view.html?p_code=\" + education.link;\n",
       "            },\n",
       "\n",
       "            /**\n",
       "             * 컨텐츠 클릭시 컨텐츠 상세로 이동\n",
       "             * @param contents\n",
       "             */\n",
       "            clickContentKeyword: function clickContentKeyword(content) {\n",
       "                location.href = \"/channel/category/category_view.html?cms_code=\" + content.link;\n",
       "            }\n",
       "        }\n",
       "    });\n",
       "</script>\n",
       "<!-- //메인 검색 및 카테고리 영역 -->\n",
       "<!-- Contents -->\n",
       "<div id=\"container\">\n",
       "<div class=\"myhanbit_wrap\">\n",
       "<!-- 회원등급 -->\n",
       "<div class=\"sm_myinfo\">\n",
       "<div class=\"my_rating\">\n",
       "<div class=\"icon\">\n",
       "<img alt=\"\" src=\"https://www.hanbit.co.kr/images/myhanbit/rating_icon1.png\"/>\n",
       "</div>\n",
       "<p>(유예지)님의<br/>회원 등급은 <span>일반</span> 입니다.</p>\n",
       "</div>\n",
       "</div>\n",
       "<!-- //회원등급 -->\n",
       "<!-- 마일리지/이코인 -->\n",
       "<div class=\"sm_mymileage\">\n",
       "<dl class=\"mileage_section1\">\n",
       "<dt>마일리지</dt>\n",
       "<dd><span>2,000</span> 점</dd>\n",
       "</dl>\n",
       "<dl class=\"mileage_section2\">\n",
       "<dt>한빛이코인</dt>\n",
       "<dd><span>0</span> 원</dd>\n",
       "</dl>\n",
       "</div>\n",
       "<!-- //마일리지/이코인 -->\n",
       "<!-- 최근 구매이력 -->\n",
       "<div class=\"sm_myorder\">\n",
       "<p class=\"tit\">최근 구매이력</p>\n",
       "<table border=\"0\" cellspacing=\"0\" class=\"tbl_type_list\" summary=\"최근 3개월 활동 내역 테이블\">\n",
       "<caption>최근 3개월 활동 내역</caption>\n",
       "<colgroup>\n",
       "<col width=\"110px\"/>\n",
       "<col width=\"\"/>\n",
       "<col width=\"120px\"/>\n",
       "</colgroup>\n",
       "<thead>\n",
       "<tr>\n",
       "<th scope=\"col\">주문일자</th>\n",
       "<th scope=\"col\">상품명</th>\n",
       "<th class=\"last\" scope=\"col\">주문금액</th>\n",
       "</tr>\n",
       "</thead>\n",
       "<tbody>\n",
       "</tbody>\n",
       "</table>\n",
       "</div>\n",
       "<!-- //최근 구매이력 -->\n",
       "<!-- My Book -->\n",
       "<div class=\"submain_mypagae_foot smf_l\">\n",
       "<p class=\"sm_tit\">My Book</p>\n",
       "<div class=\"smf_nodata\">리스트가 없습니다.</div>\n",
       "</div>\n",
       "<!-- //My Book -->\n",
       "<!-- My eBook -->\n",
       "<div class=\"submain_mypagae_foot smf_c\">\n",
       "<p class=\"sm_tit\">My eBook</p>\n",
       "<div class=\"smf_nodata\">리스트가 없습니다.</div>\n",
       "</div>\n",
       "<!-- //My eBook -->\n",
       "<!-- My 강의 -->\n",
       "<div class=\"submain_mypagae_foot smf_r\">\n",
       "<p class=\"sm_tit\">My 강의</p>\n",
       "<div class=\"smf_nodata\">리스트가 없습니다.</div>\n",
       "</div>\n",
       "<!-- //My 강의 -->\n",
       "</div>\n",
       "</div>\n",
       "<!-- //Contents -->\n",
       "<!-- Footer -->\n",
       "<footer>\n",
       "<!-- 공지사항 -->\n",
       "<div class=\"foot_notice\" style=\"height:6px;\"></div> <!-- //공지사항 -->\n",
       "<div class=\"foot_contents\">\n",
       "<!-- 하단 메뉴 -->\n",
       "<div class=\"foot_menu\">\n",
       "<!-- added by coffin -->\n",
       "<ul>\n",
       "<li><a href=\"https://www.hanbit.co.kr/publisher/index.html\" target=\"_blank\">회사소개</a>(<a href=\"https://www.hanbit.co.kr/publisher/index.html\" target=\"_blank\">KOR</a> | <a href=\"https://www.hanbit.co.kr/publisher/index.html?lang=e\" target=\"_blank\">ENG</a>)  <a href=\"https://www.hanbit.co.kr/publisher/contact.html?lang=k\" target=\"_blank\">약도</a></li>\n",
       "<li><a href=\"https://www.hanbit.co.kr/publisher/write.html\" target=\"_blank\">기획 및 원고 모집</a></li>\n",
       "<li><a href=\"https://www.hanbit.co.kr/publisher/career.html\" target=\"_blank\">채용</a>  입사지원 <a href=\"mailto:jobs@hanbit.co.kr\">jobs@hanbit.co.kr</a></li>\n",
       "<li><a href=\"https://www.hanbit.co.kr/publisher/foreignrights.html\" target=\"_blank\">FOREIGN RIGHTS</a></li>\n",
       "<li><a href=\"https://www.hanbit.co.kr/member/use_agreement.html\">이용약관</a>  <a href=\"https://www.hanbit.co.kr/member/privacy_policy.html\"><strong>개인정보처리방침</strong></a></li>\n",
       "<li><a href=\"https://www.hanbit.co.kr/sitemap/sitemap.html\">사이트맵</a></li>\n",
       "</ul>\n",
       "</div>\n",
       "<!-- //하단 메뉴 -->\n",
       "<!-- SNS -->\n",
       "<div class=\"foot_sns\">\n",
       "<!-- 데브레터 구독하기 -->\n",
       "<div class=\"devletter_contet\">\n",
       "<div class=\"devletter_sub\">\n",
       "<span class=\"dev_header_img\">데브레터 구독하기</span><a class=\"dev_sit_a\" href=\"/devletter/\" target=\"_blank\"><span class=\"dev_site_img\">데브레터 보러가기</span></a>\n",
       "</div>\n",
       "<form action=\"/devletter/dev_process.php\" class=\"subscribe_form\" method=\"post\">\n",
       "<fieldset class=\"subscribe_fiel\">\n",
       "<legend>구독서비스</legend>\n",
       "<input name=\"user_email\" placeholder=\"Your Email Address\" type=\"text\"/>\n",
       "<button class=\"sub_btn\" type=\"submit\"><span>구독</span></button>\n",
       "</fieldset>\n",
       "</form>\n",
       "<div class=\"main_foot_sns\">\n",
       "<ul>\n",
       "<li class=\"main_foot_facebook\"><a href=\"https://www.facebook.com/hanbitmedia\" target=\"_blank\"><span>페이스북</span></a></li>\n",
       "<li class=\"main_foot_youtube\"><a href=\"https://www.youtube.com/한빛TV\" target=\"_blank\"><span>유튜브</span></a></li>\n",
       "<li class=\"main_foot_bolg\"><a href=\"http://blog.hanbit.co.kr/\" target=\"_blank\"><span>블로그</span></a></li>\n",
       "<li class=\"main_foot_naverpost\"><a href=\"https://m.post.naver.com/hanbitstory\" target=\"_blank\"><span>네이버포스트</span></a></li>\n",
       "</ul>\n",
       "</div>\n",
       "</div>\n",
       "<!-- 데브레터 구독하기 //-->\n",
       "</div>\n",
       "<!-- //SNS -->\n",
       "<!-- 한빛 정보 -->\n",
       "<div class=\"foot_about\">\n",
       "<div class=\"foot_about_area\">\n",
       "<p><strong>한빛미디어㈜  한빛아카데미㈜  한빛비즈㈜</strong></p>\n",
       "<p>(03785) 서울 서대문구 연희로2길 62</p>\n",
       "<p>EMAIL : support@hanbit.co.kr</p>\n",
       "<p>대표이사 : 김태헌</p>\n",
       "<p>사업자등록번호 : 220-81-05665 <a href=\"http://www.ftc.go.kr/bizCommPop.do?wrkr_no=2208105665\" target=\"_blank\">[확인]</a></p>\n",
       "<p>통신판매업신고 : 2017-서울서대문-0671호</p>\n",
       "<p>호스팅제공자 : (주)누리호스팅</p>\n",
       "</div>\n",
       "</div>\n",
       "<!-- //한빛 정보 -->\n",
       "</div>\n",
       "<div class=\"copyright\">©1993-2022 Hanbit Publishing Network, Inc. All rights reserved.</div>\n",
       "</footer>\n",
       "<!-- //푸터 -->\n",
       "<div class=\"foot_download_btn\"><a href=\"https://www.hanbit.co.kr/support/supplement_list.html\">자료실</a></div>\n",
       "<!-- 공통 JS 호출 -->\n",
       "<script src=\"/js/common.js\" type=\"text/javascript\"></script>\n",
       "<!-- //공통 JS 호출 -->\n",
       "</body>\n",
       "</html>"
      ]
     },
     "execution_count": 98,
     "metadata": {},
     "output_type": "execute_result"
    }
   ],
   "source": [
    "html = resp.text\n",
    "\n",
    "soup = BeautifulSoup(html, 'lxml')\n",
    "soup"
   ]
  },
  {
   "cell_type": "markdown",
   "id": "2ca42e16-0e29-488f-b919-97a089c2a7bb",
   "metadata": {},
   "source": [
    "#### ② 마일리지 확인하기"
   ]
  },
  {
   "cell_type": "code",
   "execution_count": 99,
   "id": "a5d241ce-ac36-4b35-8a58-c657b93067e7",
   "metadata": {},
   "outputs": [
    {
     "data": {
      "text/plain": [
       "[<span>2,000</span>]"
      ]
     },
     "execution_count": 99,
     "metadata": {},
     "output_type": "execute_result"
    }
   ],
   "source": [
    "#container > div > div.sm_mymileage > dl.mileage_section1 > dd > span\n",
    "soup.select(\"#container > div > div.sm_mymileage > dl.mileage_section1 > dd > span\")"
   ]
  },
  {
   "cell_type": "code",
   "execution_count": 102,
   "id": "443a313b-f8d6-4839-8e56-28e3a6bbcca6",
   "metadata": {},
   "outputs": [
    {
     "ename": "AttributeError",
     "evalue": "ResultSet object has no attribute 'text'. You're probably treating a list of elements like a single element. Did you call find_all() when you meant to call find()?",
     "output_type": "error",
     "traceback": [
      "\u001b[1;31m---------------------------------------------------------------------------\u001b[0m",
      "\u001b[1;31mAttributeError\u001b[0m                            Traceback (most recent call last)",
      "Input \u001b[1;32mIn [102]\u001b[0m, in \u001b[0;36m<cell line: 2>\u001b[1;34m()\u001b[0m\n\u001b[0;32m      1\u001b[0m \u001b[38;5;66;03m#soup.select(\"div > div.sm_mymileage > dl.mileage_section1 > dd > span\")\u001b[39;00m\n\u001b[1;32m----> 2\u001b[0m \u001b[43msoup\u001b[49m\u001b[38;5;241;43m.\u001b[39;49m\u001b[43mselect\u001b[49m\u001b[43m(\u001b[49m\u001b[38;5;124;43m\"\u001b[39;49m\u001b[38;5;124;43mdiv > div.sm_mymileage > dl.mileage_section1 > dd > span\u001b[39;49m\u001b[38;5;124;43m\"\u001b[39;49m\u001b[43m)\u001b[49m\u001b[38;5;241;43m.\u001b[39;49m\u001b[43mtext\u001b[49m\n",
      "File \u001b[1;32m~\\anaconda3\\lib\\site-packages\\bs4\\element.py:2289\u001b[0m, in \u001b[0;36mResultSet.__getattr__\u001b[1;34m(self, key)\u001b[0m\n\u001b[0;32m   2287\u001b[0m \u001b[38;5;28;01mdef\u001b[39;00m \u001b[38;5;21m__getattr__\u001b[39m(\u001b[38;5;28mself\u001b[39m, key):\n\u001b[0;32m   2288\u001b[0m     \u001b[38;5;124;03m\"\"\"Raise a helpful exception to explain a common code fix.\"\"\"\u001b[39;00m\n\u001b[1;32m-> 2289\u001b[0m     \u001b[38;5;28;01mraise\u001b[39;00m \u001b[38;5;167;01mAttributeError\u001b[39;00m(\n\u001b[0;32m   2290\u001b[0m         \u001b[38;5;124m\"\u001b[39m\u001b[38;5;124mResultSet object has no attribute \u001b[39m\u001b[38;5;124m'\u001b[39m\u001b[38;5;132;01m%s\u001b[39;00m\u001b[38;5;124m'\u001b[39m\u001b[38;5;124m. You\u001b[39m\u001b[38;5;124m'\u001b[39m\u001b[38;5;124mre probably treating a list of elements like a single element. Did you call find_all() when you meant to call find()?\u001b[39m\u001b[38;5;124m\"\u001b[39m \u001b[38;5;241m%\u001b[39m key\n\u001b[0;32m   2291\u001b[0m     )\n",
      "\u001b[1;31mAttributeError\u001b[0m: ResultSet object has no attribute 'text'. You're probably treating a list of elements like a single element. Did you call find_all() when you meant to call find()?"
     ]
    }
   ],
   "source": [
    "#soup.select(\"div > div.sm_mymileage > dl.mileage_section1 > dd > span\")\n",
    "soup.select(\"div > div.sm_mymileage > dl.mileage_section1 > dd > span\").text"
   ]
  },
  {
   "cell_type": "code",
   "execution_count": 107,
   "id": "8d5c4340-5a20-4542-b9e1-c48d4e449886",
   "metadata": {},
   "outputs": [
    {
     "data": {
      "text/plain": [
       "<span>2,000</span>"
      ]
     },
     "execution_count": 107,
     "metadata": {},
     "output_type": "execute_result"
    }
   ],
   "source": [
    "soup.select_one(\"div > div.sm_mymileage > dl.mileage_section1 > dd > span\")"
   ]
  },
  {
   "cell_type": "code",
   "execution_count": 108,
   "id": "bce42254-d509-4649-9cc9-5db3d947d6c1",
   "metadata": {},
   "outputs": [
    {
     "data": {
      "text/plain": [
       "'2,000'"
      ]
     },
     "execution_count": 108,
     "metadata": {},
     "output_type": "execute_result"
    }
   ],
   "source": [
    "soup.select_one(\"div > div.sm_mymileage > dl.mileage_section1 > dd > span\").text"
   ]
  },
  {
   "cell_type": "code",
   "execution_count": 109,
   "id": "cc4baaf6-1c24-4b42-89c9-810e589be8fd",
   "metadata": {},
   "outputs": [
    {
     "data": {
      "text/plain": [
       "'2,000'"
      ]
     },
     "execution_count": 109,
     "metadata": {},
     "output_type": "execute_result"
    }
   ],
   "source": [
    "soup.select_one(\"div > div.sm_mymileage > dl.mileage_section1 > dd > span\").string"
   ]
  },
  {
   "cell_type": "code",
   "execution_count": 110,
   "id": "6173dc8b-ccc1-4341-9f12-af0efab8b6d5",
   "metadata": {},
   "outputs": [
    {
     "data": {
      "text/plain": [
       "'2,000'"
      ]
     },
     "execution_count": 110,
     "metadata": {},
     "output_type": "execute_result"
    }
   ],
   "source": [
    "soup.select_one(\"div > div.sm_mymileage > dl.mileage_section1 > dd > span\").get_text()"
   ]
  },
  {
   "cell_type": "code",
   "execution_count": 113,
   "id": "861bb369-ce54-4d52-9a21-ccca2ada59e5",
   "metadata": {},
   "outputs": [
    {
     "data": {
      "text/plain": [
       "'2,000'"
      ]
     },
     "execution_count": 113,
     "metadata": {},
     "output_type": "execute_result"
    }
   ],
   "source": [
    "#soup.select(\"div > div.sm_mymileage > dl.mileage_section1 > dd > span\").text\n",
    "#soup.select(\"div > div.sm_mymileage > dl.mileage_section1 > dd > span\")[0].get_text()\n",
    "soup.select(\"div > div.sm_mymileage > dl.mileage_section1 > dd > span\")[0].text"
   ]
  },
  {
   "cell_type": "code",
   "execution_count": 127,
   "id": "9e8de6c8-415f-40e4-919c-deb86866b453",
   "metadata": {},
   "outputs": [
    {
     "data": {
      "text/plain": [
       "'0'"
      ]
     },
     "execution_count": 127,
     "metadata": {},
     "output_type": "execute_result"
    }
   ],
   "source": [
    "#soup.select_one(\"dl.mileage_section2 > dd > span\")\n",
    "soup.select_one(\"dl.mileage_section2 > dd > span\").text"
   ]
  },
  {
   "cell_type": "code",
   "execution_count": 128,
   "id": "43b21fdc-a0be-4e79-94e2-869c156e37d6",
   "metadata": {},
   "outputs": [],
   "source": [
    "mileage = soup.select_one(\"div > div.sm_mymileage > dl.mileage_section1 > dd > span\").get_text()\n",
    "ecoin = soup.select_one(\"dl.mileage_section2 > dd > span\").text"
   ]
  },
  {
   "cell_type": "code",
   "execution_count": 129,
   "id": "3fa1e789-aa24-4197-97fc-25bdf165edb3",
   "metadata": {},
   "outputs": [
    {
     "name": "stdout",
     "output_type": "stream",
     "text": [
      "마일리지: 2,000\n",
      "e코인: 0\n"
     ]
    }
   ],
   "source": [
    "print('마일리지:', mileage)\n",
    "print('e코인:', ecoin)"
   ]
  },
  {
   "cell_type": "markdown",
   "id": "b8be62b4-8d15-481d-9b0e-1da639cc85fb",
   "metadata": {},
   "source": [
    "### < 날씨 정보 가져오기 (json 형식 가져오기) >\n",
    "openweathermap.org/"
   ]
  },
  {
   "cell_type": "code",
   "execution_count": 130,
   "id": "644e6a5a-13f7-4596-a3c4-389562a1f81c",
   "metadata": {},
   "outputs": [],
   "source": [
    "import json"
   ]
  },
  {
   "cell_type": "code",
   "execution_count": 131,
   "id": "873bd086-cf67-47b5-9e23-06221290a797",
   "metadata": {},
   "outputs": [],
   "source": [
    "#api 사용 허용 key\n",
    "apikey = \"28ed8b8682f52838a0a86e00b8578fcd\"\n",
    "api = \"http://api.openweathermap.org/data/2.5/weather?q={city}&APPID={key}\""
   ]
  },
  {
   "cell_type": "code",
   "execution_count": 132,
   "id": "6cd213b0-cb1c-45e5-951d-b09e05f38b3c",
   "metadata": {},
   "outputs": [],
   "source": [
    "#도시 2개만 확인\n",
    "cities = ['Seoul, KR', 'New York, US']\n",
    "k2c = lambda k: round(k - 273.15, 1)"
   ]
  },
  {
   "cell_type": "code",
   "execution_count": 133,
   "id": "132d5fd0-a479-4aa5-9a1f-af1a055119be",
   "metadata": {},
   "outputs": [
    {
     "name": "stdout",
     "output_type": "stream",
     "text": [
      "{'coord': {'lon': 126.9778, 'lat': 37.5683}, 'weather': [{'id': 800, 'main': 'Clear', 'description': 'clear sky', 'icon': '01n'}], 'base': 'stations', 'main': {'temp': 287.31, 'feels_like': 286.56, 'temp_min': 285.84, 'temp_max': 287.93, 'pressure': 1025, 'humidity': 68}, 'visibility': 8000, 'wind': {'speed': 3.6, 'deg': 290}, 'clouds': {'all': 0}, 'dt': 1666949636, 'sys': {'type': 1, 'id': 8105, 'country': 'KR', 'sunrise': 1666907537, 'sunset': 1666946359}, 'timezone': 32400, 'id': 1835848, 'name': 'Seoul', 'cod': 200}\n",
      "\n",
      "+ 도시 = Seoul\n",
      "| 날씨 = clear sky\n",
      "| 최저 기온 = 12.7\n",
      "| 최고 기온 = 14.8\n",
      "| 습도 = 68\n",
      "| 기압 = 1025\n",
      "| 풍향 = 290\n",
      "| 풍속 = 3.6\n",
      "\n",
      "{'coord': {'lon': -74.006, 'lat': 40.7143}, 'weather': [{'id': 800, 'main': 'Clear', 'description': 'clear sky', 'icon': '01n'}], 'base': 'stations', 'main': {'temp': 281.05, 'feels_like': 276.84, 'temp_min': 278.21, 'temp_max': 283.12, 'pressure': 1030, 'humidity': 63}, 'visibility': 10000, 'wind': {'speed': 8.94, 'deg': 18, 'gust': 11.18}, 'clouds': {'all': 0}, 'dt': 1666949577, 'sys': {'type': 2, 'id': 2039034, 'country': 'US', 'sunrise': 1666956094, 'sunset': 1666994270}, 'timezone': -14400, 'id': 5128581, 'name': 'New York', 'cod': 200}\n",
      "\n",
      "+ 도시 = New York\n",
      "| 날씨 = clear sky\n",
      "| 최저 기온 = 5.1\n",
      "| 최고 기온 = 10.0\n",
      "| 습도 = 63\n",
      "| 기압 = 1030\n",
      "| 풍향 = 18\n",
      "| 풍속 = 8.94\n",
      "\n"
     ]
    }
   ],
   "source": [
    "for city in cities:\n",
    "    #api를 써서 정보를 받아오는 법\n",
    "    url = api.format(city = city, key = apikey)\n",
    "    reqs = requests.get(url)\n",
    "    \n",
    "    #해석\n",
    "    data = json.loads(reqs.text)    #결과를 json 형식으로 변환\n",
    "    print(data)\n",
    "    print()\n",
    "    print(\"+ 도시 =\", data[\"name\"])\n",
    "    print(\"| 날씨 =\", data[\"weather\"][0][\"description\"])\n",
    "    print(\"| 최저 기온 =\", k2c(data[\"main\"][\"temp_min\"]))\n",
    "    print(\"| 최고 기온 =\", k2c(data[\"main\"][\"temp_max\"]))\n",
    "    print(\"| 습도 =\", data[\"main\"][\"humidity\"])\n",
    "    print(\"| 기압 =\", data[\"main\"][\"pressure\"])\n",
    "    print(\"| 풍향 =\", data[\"wind\"][\"deg\"])\n",
    "    print(\"| 풍속 =\", data[\"wind\"][\"speed\"])\n",
    "    print(\"\")"
   ]
  },
  {
   "cell_type": "code",
   "execution_count": null,
   "id": "fb8cc706-26d6-414a-8d0a-a8ed831d262d",
   "metadata": {},
   "outputs": [],
   "source": []
  }
 ],
 "metadata": {
  "kernelspec": {
   "display_name": "Python 3 (ipykernel)",
   "language": "python",
   "name": "python3"
  },
  "language_info": {
   "codemirror_mode": {
    "name": "ipython",
    "version": 3
   },
   "file_extension": ".py",
   "mimetype": "text/x-python",
   "name": "python",
   "nbconvert_exporter": "python",
   "pygments_lexer": "ipython3",
   "version": "3.9.12"
  }
 },
 "nbformat": 4,
 "nbformat_minor": 5
}
