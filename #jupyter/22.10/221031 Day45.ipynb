{
 "cells": [
  {
   "cell_type": "markdown",
   "id": "fa6ba7fd-7511-44f0-92c1-58885a7e3271",
   "metadata": {},
   "source": [
    "### 1028"
   ]
  },
  {
   "cell_type": "code",
   "execution_count": null,
   "id": "d638af7f-075c-40eb-9942-f0d467268f99",
   "metadata": {},
   "outputs": [],
   "source": [
    "#text 를 뽑아내려면\n",
    "soup.select('dl.mileage_section1 > dd > span').text\n",
    "soup.select('dl.mileage_section1 > dd > span').get_text()\n",
    "soup.select('dl.mileage_section1 > dd > span').string"
   ]
  },
  {
   "cell_type": "code",
   "execution_count": null,
   "id": "103fc161-d9ba-43b3-b10d-36aac8d66092",
   "metadata": {},
   "outputs": [],
   "source": [
    "#id = 'princess', pw = 'passwd' 입력\n",
    "e = driver.find_elements(By.CLASS_NAME, \"input_text\")\n",
    "e.clear()[0]\n",
    "e.clear()[0].send_keys('princess')\n",
    "\n",
    "e.clear()[1]\n",
    "e.clear()[1].send_keys('passwd')"
   ]
  },
  {
   "cell_type": "code",
   "execution_count": null,
   "id": "995e1a44-54bb-48b9-9791-c50c2eeaca54",
   "metadata": {},
   "outputs": [],
   "source": [
    "#names가 더 많이 출력되도록 하려면\n",
    "import requests\n",
    "from bs4 import BeautifulSoup\n",
    "\n",
    "url = \"https://ko.wikipedia.org/wiki/%EB%8C%80%ED%95%9C%EB%AF%BC%EA%B5%AD%EC%9D%98_%EB%8C%80%ED%86%B5%EB%A0%B9_%EB%AA%A9%EB%A1%9D\"\n",
    "html = requests.get(url).text # 네이버 \n",
    "soup = BeautifulSoup(html, 'html.parser')\n",
    "names = soup.select('td:nth-child(3) > b > a') \n",
    "\n",
    "'td:nth-child(3) > b > a'  -->  'td > b > a'"
   ]
  },
  {
   "cell_type": "code",
   "execution_count": null,
   "id": "634ab6ed-8ebf-40d7-a784-6910fff473e4",
   "metadata": {},
   "outputs": [],
   "source": [
    "#google 검색창의 class_name\n",
    "e = driver.find_element(By.CLASS_NAME, \"gLFyf.gsfi\") \n",
    "e.send_keys('KOREA')"
   ]
  },
  {
   "cell_type": "code",
   "execution_count": null,
   "id": "efbd9feb-1c17-44a0-b275-31a6abad2704",
   "metadata": {},
   "outputs": [],
   "source": [
    "#클래스, 아이디 함께\n",
    "driver.find_element(By.CSS_SELECTOR, '.~~~')   #클래스\n",
    "driver.find_element(By.CSS_SELECTOR, '#~~~')   #아이디"
   ]
  },
  {
   "cell_type": "markdown",
   "id": "7602bba9-bfb0-4272-a19f-f72c650e9d92",
   "metadata": {},
   "source": [
    "#### * 로그인과 메일 발송을 한번에 하는 프로그램 - RPA (로봇 프로세스 자동화)"
   ]
  },
  {
   "cell_type": "code",
   "execution_count": 2,
   "id": "785584f8-31d5-4b7f-b619-115aa172a21f",
   "metadata": {},
   "outputs": [
    {
     "name": "stderr",
     "output_type": "stream",
     "text": [
      "C:\\Users\\admin\\AppData\\Local\\Temp\\ipykernel_6612\\4073793283.py:4: DeprecationWarning: executable_path has been deprecated, please pass in a Service object\n",
      "  driver = webdriver.Chrome('./chromedriver.exe')\n"
     ]
    }
   ],
   "source": [
    "#로그인과 메일 발송을 한번에 하는 프로그램 - RPA (로봇 프로세스 자동화)\n",
    "#1. 네이버 로그인 페이지 url을 가져와 웹드라이버로 새로 호출\n",
    "from selenium import webdriver\n",
    "driver = webdriver.Chrome('./chromedriver.exe')\n",
    "url = 'https://nid.naver.com/nidlogin.login?mode=form&url=https%3A%2F%2Fwww.naver.com'\n",
    "driver.get(url)"
   ]
  },
  {
   "cell_type": "code",
   "execution_count": 6,
   "id": "cd2f52e0-5c24-4bf1-9ebc-c77a211c5709",
   "metadata": {},
   "outputs": [],
   "source": [
    "#2. id와 pw를 입력하고 엔터키\n",
    "from selenium import webdriver\n",
    "from selenium.webdriver.common.by import By\n",
    "from selenium.webdriver.common.keys import Keys"
   ]
  },
  {
   "cell_type": "code",
   "execution_count": 10,
   "id": "9b1776ce-49c6-45cc-900d-90018b1e75b7",
   "metadata": {},
   "outputs": [],
   "source": [
    "#id 입력\n",
    "element = driver.find_element(By.ID, \"id\")\n",
    "element.clear()\n",
    "element.send_keys(\"ghen125\")\n",
    "\n",
    "#pw 입력\n",
    "element = driver.find_element(By.ID, \"pw\")\n",
    "element.clear()\n",
    "element.send_keys(\"\")\n",
    "\n",
    "#enter 키(로그인 버튼) 누르기\n",
    "element.send_keys(Keys.ENTER)"
   ]
  },
  {
   "cell_type": "code",
   "execution_count": 11,
   "id": "6aa53e85-3288-413d-8e27-3b5f3776bbf6",
   "metadata": {},
   "outputs": [],
   "source": [
    "#3. 네이버 홈페이지에서 '메일'로 들어가기\n",
    "driver.find_element(By.CLASS_NAME, 'nav').click()"
   ]
  },
  {
   "cell_type": "code",
   "execution_count": 13,
   "id": "146ba321-6a09-412b-8a1b-5ffa0311b56d",
   "metadata": {},
   "outputs": [],
   "source": [
    "#4. '매일 쓰기' 버튼 클릭\n",
    "#driver.find_element(By.CLASS_NAME, 'skin_corp_bg.skin_corp_txt').click()\n",
    "driver.find_element(By.CSS_SELECTOR, '#nav_snb > div.btn_workset > a.btn_quickwrite._c1\\(mfCore\\|popupWrite\\|new\\)._ccr\\(lfw\\.write\\)._stopDefault > strong > span').click()"
   ]
  },
  {
   "cell_type": "code",
   "execution_count": 14,
   "id": "503ef6da-51ea-442d-a704-1083d89a25b1",
   "metadata": {},
   "outputs": [],
   "source": [
    "#5. 받는 사람 메일 주소 입력\n",
    "driver.find_element(By.ID, 'toInput').send_keys('princessria@naver.com')"
   ]
  },
  {
   "cell_type": "code",
   "execution_count": 30,
   "id": "959624db-b50f-4e52-99b5-55d09eea6fd7",
   "metadata": {},
   "outputs": [
    {
     "data": {
      "text/plain": [
       "'2022-10-31'"
      ]
     },
     "execution_count": 30,
     "metadata": {},
     "output_type": "execute_result"
    }
   ],
   "source": [
    "#6. 제목 입력\n",
    "from datetime import datetime\n",
    "date = datetime.now()\n",
    "\n",
    "f\"{date.year}-{date.month}-{date.day}\""
   ]
  },
  {
   "cell_type": "code",
   "execution_count": 38,
   "id": "a9063fd8-9914-432e-9eee-9f64b122a599",
   "metadata": {},
   "outputs": [],
   "source": [
    "driver.find_element(By.ID, 'subject').send_keys(f\"{date.year}-{date.month}-{date.day} 홍길동 문제 제출 입니다\")"
   ]
  },
  {
   "cell_type": "code",
   "execution_count": null,
   "id": "aff73547-9dd9-44ff-887d-c7a8f3e9e082",
   "metadata": {},
   "outputs": [],
   "source": [
    "now = datetime.now().strftime('%Y-%m-%d')\n",
    "e = driver.find_element(By.ID, 'subject')\n",
    "e.clear()\n",
    "e.send_keys(f\"{now} 홍길동 문제 제출 입니다\")"
   ]
  },
  {
   "cell_type": "code",
   "execution_count": 36,
   "id": "8f9a8ee0-8485-4f04-adf5-bc356643923b",
   "metadata": {},
   "outputs": [],
   "source": [
    "#7. 내용란에 '문제와 정답입니다' 입력\n",
    "contents = driver.find_element(By.ID, 'subject')\n",
    "contents.send_keys(Keys.TAB, '문제와 정답입니다')   #제목 입력칸에서 'tab'키를 눌러 내용칸으로 커서 이동\n",
    "\n",
    "contents.clear()\n",
    "contents.send_keys(Keys.TAB, '문제와 정답입니다', '123')"
   ]
  },
  {
   "cell_type": "code",
   "execution_count": null,
   "id": "8d7c9ba0-b262-4a6c-b0ec-f12ca35dfcc3",
   "metadata": {
    "tags": []
   },
   "outputs": [],
   "source": [
    "driver.find_element(By.CLASS_NAME, 'se2_inputarea').click()"
   ]
  },
  {
   "cell_type": "code",
   "execution_count": 37,
   "id": "e1a6dde7-7321-4669-a144-cc20f7ddec8d",
   "metadata": {},
   "outputs": [],
   "source": [
    "content = '''\n",
    "문제1 ~~~~\n",
    "정답 ~~~~~\n",
    "'''\n",
    "\n",
    "driver.find_element(By.ID, 'subject').send_keys(Keys.TAB, content)"
   ]
  },
  {
   "cell_type": "code",
   "execution_count": 39,
   "id": "30389687-3110-4342-8f02-24bdc1bc8bb9",
   "metadata": {},
   "outputs": [],
   "source": [
    "#8. '보내기' 클릭\n",
    "driver.find_element(By.ID, 'sendBtn').click()"
   ]
  },
  {
   "cell_type": "code",
   "execution_count": null,
   "id": "adb5f8fa-7d3b-4dde-830f-ffed80306455",
   "metadata": {},
   "outputs": [],
   "source": []
  }
 ],
 "metadata": {
  "kernelspec": {
   "display_name": "Python 3 (ipykernel)",
   "language": "python",
   "name": "python3"
  },
  "language_info": {
   "codemirror_mode": {
    "name": "ipython",
    "version": 3
   },
   "file_extension": ".py",
   "mimetype": "text/x-python",
   "name": "python",
   "nbconvert_exporter": "python",
   "pygments_lexer": "ipython3",
   "version": "3.9.12"
  }
 },
 "nbformat": 4,
 "nbformat_minor": 5
}
