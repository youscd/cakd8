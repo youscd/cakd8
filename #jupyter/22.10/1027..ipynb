{
 "cells": [
  {
   "cell_type": "markdown",
   "id": "998e4013-f16a-43a6-bb81-f9fc6744a8dd",
   "metadata": {},
   "source": [
    "## 크롤링 (2)\n",
    "https://wikidocs.net/6660<br>\n",
    "파이썬에서는 requests 모듈을 이용해 HTML 코드를 다운로드하고, BeautifulSoup 모듈로 원하는 데이터를 파싱한다"
   ]
  },
  {
   "cell_type": "markdown",
   "id": "fd1a5cc1-8407-4887-9d5a-aa1b51478500",
   "metadata": {
    "tags": []
   },
   "source": [
    "#### * requests 모듈\n",
    "https://wikidocs.net/85737<br>\n",
    "https://brownbears.tistory.com/198"
   ]
  },
  {
   "cell_type": "markdown",
   "id": "3eb9592a-3d23-4bd4-84fe-ebf455a6b7ea",
   "metadata": {},
   "source": [
    "- requests.get( ) : url 요청하기  (출력값 <Response [200]> : 정상적으로 잘 가져왔다는 의미)\n",
    "- response.status_code : 응답 코드\n",
    "- response.text : 응답을 text형식으로 출력"
   ]
  },
  {
   "cell_type": "markdown",
   "id": "fb1849bf-a39c-4deb-a7ed-2410a81879a2",
   "metadata": {},
   "source": [
    "- response.raise_for_status() : 200 OK 코드가 아닌 경우 에러 발동\n",
    "- response.json() : json response일 경우 딕셔너리 타입으로 바로 변환\n",
    "- response.url : 요청 url 확인\n",
    "- response.request : 내가 보낸 request 객체에 접근 가능"
   ]
  },
  {
   "cell_type": "code",
   "execution_count": null,
   "id": "e6d258d3-30f0-44e7-a78a-de2ff8b03964",
   "metadata": {},
   "outputs": [],
   "source": [
    "res = requests.get(url)"
   ]
  },
  {
   "cell_type": "code",
   "execution_count": null,
   "id": "e782cda2-4148-4fed-81ae-16d8ec262f9f",
   "metadata": {},
   "outputs": [],
   "source": [
    "res.status_code"
   ]
  },
  {
   "cell_type": "markdown",
   "id": "2c7ce6e9-b913-451b-8cfb-fb59a1b6aca4",
   "metadata": {},
   "source": [
    "#### * BeautifulSoup 모듈\n",
    "https://defineall.tistory.com/640<br>\n",
    "https://jennana.tistory.com/160"
   ]
  },
  {
   "cell_type": "markdown",
   "id": "8eaf6e31-c18e-4670-870d-2d89521e9520",
   "metadata": {},
   "source": [
    "request.text 를 이용해 가져온 데이터는 텍스트 형태의 html 이다<br>\n",
    "BeautifulSoup 모듈 은 이러한 텍스트 형태의 데이터에서 원하는 html 태그를 쉽게 추출할 수 있게 도와준다<br>\n",
    "즉, html을 'soup 객체' 로 만들어서 추출하기 쉽게 만들어 준다<br>\n",
    "\n",
    "'soup 객체' 로 만들 데이터를 주고 'lxml' 또는 'html.parser' 형식으로 저장한다"
   ]
  },
  {
   "cell_type": "code",
   "execution_count": 1,
   "id": "e472caff-fc51-46b1-9c23-a90fb1e4b9a5",
   "metadata": {},
   "outputs": [],
   "source": [
    "import pandas as pd\n",
    "import numpy as np"
   ]
  },
  {
   "cell_type": "code",
   "execution_count": 2,
   "id": "140defaa-ec21-48b6-a800-80c51e8268e6",
   "metadata": {},
   "outputs": [],
   "source": [
    "from urllib import request\n",
    "from bs4 import BeautifulSoup\n",
    "import requests"
   ]
  },
  {
   "cell_type": "code",
   "execution_count": 3,
   "id": "83b82bbe-c32c-44d6-a66a-a18b72b30660",
   "metadata": {},
   "outputs": [],
   "source": [
    "#Daum 검색 url\n",
    "url = 'https://search.daum.net/search?nil_suggest=btn&w=news&DA=SBC&q=%ED%95%9C%EA%B5%AD'"
   ]
  },
  {
   "cell_type": "markdown",
   "id": "76b987a0-7f46-45db-a426-c952f3b68c4e",
   "metadata": {},
   "source": [
    "#### * User-Agent : 접속하는 사람/프로그램에 대한 정보, 딕셔너리 형태\n",
    "requests.get( ) 으로 url을 가져올 때, 가져올 url에서 기계가 홈페이지에 접속하지 못하게 막아 두는 경우가 있다. 이럴 때 기계가 아님을 증명하기 위해 'User-Agent' 를 사용한다<br>\n",
    "\n",
    "user-agent (유저정보) : http://m.avalon.co.kr/check.html 사이트 접속하여 확인<br>\n",
    "\n",
    "딕셔너리 { \"User-Agent\" : } 형태로 입력<br>\n",
    "\n",
    "항상 일정한 형식으로 크롤링을 해오기 위해서 User-Agent 값을 정해두고 크롤링을 수행해야 한다"
   ]
  },
  {
   "cell_type": "code",
   "execution_count": 4,
   "id": "cda6913d-319c-4abb-9073-099dbad43dc8",
   "metadata": {},
   "outputs": [],
   "source": [
    "#Daum 사이트는 url 코드를 사용하는데에 제한을 주므로 'User-Agent' 를 사용한다\n",
    "header = {'User-Agent' : \"Mozilla/5.0 (Windows NT 10.0; Win64; x64) AppleWebKit/537.36 (KHTML, like Gecko) Chrome/107.0.0.0 Safari/537.36\"}"
   ]
  },
  {
   "cell_type": "code",
   "execution_count": 5,
   "id": "7a3d3f45-630b-4739-95a0-e1bc11e6d2dc",
   "metadata": {},
   "outputs": [
    {
     "data": {
      "text/plain": [
       "b'<script type=\"text/javascript\">\\nlocation.replace( \"https://ncaptcha.search.daum.net/captcha/show?redirect=http%3A%2F%2Fsearch.daum.net%2Fsearch%3Fw%3Dnews%26nil_search%3Dbtn%26DA%3DNTB%26enc%3Dutf8%26cluster%3Dy%26cluster_page%3D1%26q%3D%25ED%2595%259C%25EA%25B5%25AD\" );\\n</script>\\n'"
      ]
     },
     "execution_count": 5,
     "metadata": {},
     "output_type": "execute_result"
    }
   ],
   "source": [
    "request.urlopen(url).read()"
   ]
  },
  {
   "cell_type": "code",
   "execution_count": 7,
   "id": "7011b758-5b6a-4e5e-9d95-ef36f790b44d",
   "metadata": {},
   "outputs": [],
   "source": [
    "html = requests.get(url, headers = header).text"
   ]
  },
  {
   "cell_type": "code",
   "execution_count": 9,
   "id": "b72c0599-44a6-4f8b-8270-dd4583aa9ff0",
   "metadata": {
    "tags": []
   },
   "outputs": [
    {
     "data": {
      "text/plain": [
       "bs4.BeautifulSoup"
      ]
     },
     "execution_count": 9,
     "metadata": {},
     "output_type": "execute_result"
    }
   ],
   "source": [
    "soup = BeautifulSoup(html, 'html.parser')\n",
    "type(soup)"
   ]
  },
  {
   "cell_type": "code",
   "execution_count": null,
   "id": "9c00e43d-15f1-4542-b42e-edbdf96788cb",
   "metadata": {},
   "outputs": [],
   "source": []
  },
  {
   "cell_type": "markdown",
   "id": "e6647040-184d-4397-8afa-82201d38cbc6",
   "metadata": {},
   "source": [
    "### ① 뉴스 기사의 제목만 10개 추출"
   ]
  },
  {
   "cell_type": "code",
   "execution_count": 10,
   "id": "e9ab18aa-9031-4298-9908-99c641d7d979",
   "metadata": {
    "collapsed": true,
    "jupyter": {
     "outputs_hidden": true
    },
    "tags": []
   },
   "outputs": [
    {
     "data": {
      "text/plain": [
       "\n",
       "<!DOCTYPE html>\n",
       "\n",
       "<html class=\"win chrome\" lang=\"ko\" xmlns=\"http://www.w3.org/1999/xhtml\">\n",
       "<head profile=\"http://a9.com/-/spec/opensearch/1.1/\">\n",
       "<meta content=\"text/html;charset=utf-8\" http-equiv=\"content-Type\"/>\n",
       "<meta content=\"IE=edge\" http-equiv=\"X-UA-Compatible\"/>\n",
       "<meta content=\"off\" name=\"autocomplete\"/>\n",
       "<meta content=\"always\" name=\"referrer\"/>\n",
       "<meta content=\"telephone=no\" name=\"format-detection\">\n",
       "<meta content=\"한국 – Daum 검색\" property=\"og:title\"/>\n",
       "<meta content=\"https://search.daum.net/search?w=news&amp;q=%ED%95%9C%EA%B5%AD\" property=\"og:url\"/>\n",
       "<meta content=\"Daum 검색에서 한국에 대한 최신정보를 찾아보세요.\" property=\"og:description\"/>\n",
       "<meta content=\"https://search1.daumcdn.net/search/statics/common/img/og_search.png\" property=\"og:image\"/>\n",
       "<meta content=\"다음검색\" property=\"og:site_name\"/>\n",
       "<title>한국 – Daum 검색</title>\n",
       "<link href=\"//search.daum.net/OpenSearch.xml\" rel=\"search\" title=\"Daum\" type=\"application/opensearchdescription+xml\"/>\n",
       "<link charset=\"utf-8\" href=\"//search1.daumcdn.net/search/statics/common/css/2022/p_common.1024105159.css\" rel=\"stylesheet\" type=\"text/css\"/>\n",
       "<link charset=\"utf-8\" href=\"//search1.daumcdn.net/search/statics/common/css/2022/p_component.0323101719.css\" rel=\"stylesheet\" type=\"text/css\"/>\n",
       "<link charset=\"utf-8\" href=\"//search1.daumcdn.net/search/statics/common/css/2022/p_collection.1024105159.css\" rel=\"stylesheet\" type=\"text/css\"/>\n",
       "<link charset=\"utf-8\" href=\"//search1.daumcdn.net/search/statics/common/css/2022/p_collection2.1024105159.css\" rel=\"stylesheet\" type=\"text/css\"/>\n",
       "<link charset=\"utf-8\" href=\"//search1.daumcdn.net/search/statics/common/css/2022/p_coll_tab.1024105159.css\" rel=\"stylesheet\" type=\"text/css\"/>\n",
       "<script type=\"text/javascript\">\n",
       "var SF, C, T;\n",
       "var uk = \"Y1pDi_mxUEmdJVz_lzC2pwAAAEY\";\n",
       "var mk = \"Y1pDi_mxUEmdJVz_lzC2pwAAAEY\";\n",
       "var ud = \"\";\n",
       "var uuid = \"\";\n",
       "var adid = \"\";\n",
       "var adid_enabled = \"N\";\n",
       "var viewio = \"i\";\n",
       "var viewsite = \"\";\n",
       "var ServerTime = \"20221027173836\";\n",
       "var EnQuery = \"%C7%D1%B1%B9\";\n",
       "var utf8Query = \"%ED%95%9C%EA%B5%AD\";\n",
       "var topQuery = \"한국\";\n",
       "var backQuery = \"%ED%95%9C%EA%B5%AD\";\n",
       "var login_yn = \"N\";\n",
       "var encodeType = \"2\";\n",
       "var refCode = \"\";\n",
       "var bucketType = \"\";\n",
       "var name_check = \"0\";\n",
       "var mobileDevice = \"N\";\n",
       "var param_w=\"news\";\n",
       "var param_da = \"NTB\";\n",
       "var paramCfg = \"\";\n",
       "var param_cnucc = \"\"; \n",
       "var tpl_cfg = \"\"; \n",
       "var cnucc = \"\";\n",
       "var usrIp = \"210.178.108.186\";\n",
       "var isDetailTab = \"N\"; \n",
       "var schSort = \"\";\n",
       "var width_over_620 = \"N\";\n",
       "\n",
       "var isReleaseMode = \"\";\n",
       "\n",
       "var KAKAO_ACCOUNT_ID_CONNECTED = \"N\";\n",
       "\n",
       "var displayInfo = {\"SER\":[{\"code\":\"NNS\",\"doc_count\":10}],\"SGR\":[{\"code\":\"1MV\",\"doc_count\":0},{\"code\":\"TOG\",\"doc_count\":0}],\"SUI\":[]}\n",
       ";\n",
       "var slCallType = \"sync\";\n",
       "var pageLoadedTime = 0;\n",
       "var startTime = new Date().getTime();\n",
       "var sugLocCode = \"\";\n",
       "var searchLog = {\n",
       "uc: 0,\n",
       "clickCount: 0,\n",
       "dl: \"\"\n",
       "};\n",
       "var SEARCHLOGDOMAIN = \"//sl.search.daum.net\"; \n",
       "\n",
       "var CNUCC_URL = \"//harm.search.daum.net/api/harmRegister\";\n",
       "</script>\n",
       "<script id=\"answer-korea-weather-template\" type=\"text/html\">\n",
       "<span class=\"weather_comp\">\n",
       "<span class=\"txt_exact ico_suggest\" data-bind=\"css: icon40\">\n",
       "<span class=\"tit\" data-bind=\"text: areaname\"></span>\n",
       "<span class=\"cont\"><span class=\"txt_cont\" data-bind=\"text: wtext5s\"></span> <span class=\"txt_num1 ico_suggest2 ico_celsius\" data-bind=\"text: temp\"></span><span class=\"txt_unit\">℃</span></span>\n",
       "</span>\n",
       "<span class=\"txt_time\" data-bind=\"text: (announce + ' 기준') \"></span>\n",
       "</span>\n",
       "</script>\n",
       "<script charset=\"utf-8\" src=\"//search1.daumcdn.net/search/statics/common/js/fe/tot-search/polyfill/p/polyfill.p.common.20200707150840.min.js\" type=\"text/javascript\"></script>\n",
       "<script charset=\"utf-8\" src=\"//search1.daumcdn.net/search/statics/common/js/fe/tot-search/vendor/p/common/vendor.p.common.20220913151535.min.js\" type=\"text/javascript\"></script>\n",
       "<script charset=\"utf-8\" src=\"//search1.daumcdn.net/search/statics/common/js/log/p_log.min.20221025104845.js\" type=\"text/javascript\"></script>\n",
       "<script charset=\"utf-8\" src=\"//search1.daumcdn.net/search/statics/common/js/fe/tot-search/module/p/common/module.p.common.20221024093831.min.js\" type=\"text/javascript\"></script>\n",
       "<script charset=\"utf-8\" src=\"//search1.daumcdn.net/search/statics/common/js/fe/tot-search/module/p/search/module.p.search.20220711150506.min.js\" type=\"text/javascript\"></script>\n",
       "<script>\n",
       "(function(SF, $, SL) {\n",
       "Object.assign(SF, {\n",
       "logStaticErrors: {\n",
       "isArgonUrl: function(url) {\n",
       "return url.indexOf('argon') !== -1;\n",
       "},\n",
       "extractArgonId: function(url) {\n",
       "return url.split('/').pop();\n",
       "},\n",
       "createFreeLogParams: function(ids) {\n",
       "return {\n",
       "timg: ids.join(',')\n",
       "};\n",
       "},\n",
       "chunkCall: function (fn, options) {\n",
       "var chunk = [];\n",
       "var debounced = $.debounce(function() {\n",
       "if (chunk.length > 0) {\n",
       "fn(chunk);\n",
       "chunk = [];\n",
       "}\n",
       "}, options.timeout);\n",
       "return function (arg) {\n",
       "chunk.push(arg);\n",
       "if (chunk.length >= options.chunkSize) {\n",
       "fn(chunk);\n",
       "chunk = [];\n",
       "}\n",
       "debounced();\n",
       "};\n",
       "},\n",
       "init: function() {\n",
       "this.subscribe();\n",
       "},\n",
       "subscribe: function() {\n",
       "if (!('addEventListener' in document)) {\n",
       "return;\n",
       "}\n",
       "var sendLog = this.chunkCall(this.sendLog.bind(this), {\n",
       "timeout: 1000,\n",
       "chunkSize: 50\n",
       "});\n",
       "var onError = this.onError.bind(this, sendLog);\n",
       "this.unsubscribe = function () {\n",
       "window.removeEventListener('error', onError);\n",
       "};\n",
       "window.addEventListener('error', onError, true);\n",
       "},\n",
       "onError: function (callback, event) {\n",
       "var src = event.target.src;\n",
       "if (typeof src === 'string' && this.isArgonUrl(src)) {\n",
       "callback(this.extractArgonId(src));\n",
       "}\n",
       "},\n",
       "sendLog: function(argonIds) {\n",
       "var params = this.createFreeLogParams(argonIds);\n",
       "SL.freelog.send(params);\n",
       "},\n",
       "unsubscribe: $.noop\n",
       "}\n",
       "});\n",
       "})(window.SF || {}, window.jQuery, window.SL || {});\n",
       "SF.logStaticErrors.init();\n",
       "</script>\n",
       "<script type=\"text/javascript\">\n",
       "SF.loadModuleList = {\n",
       "\"amcharts\":\"//search1.daumcdn.net/search/statics/common/js/fe/tot-search/library/p/amcharts.20190321202015.min.js\",\n",
       "\"calendar\":\"//search1.daumcdn.net/search/statics/common/js/fe/tot-search/module/p/calendar/module.p.calendar.20210312112039.min.js\",\n",
       "\"chart\":\"//search1.daumcdn.net/search/statics/common/js/fe/tot-search/library/p/chart.20200602182334.min.js\",\n",
       "\"kakaosdk\":\"//search1.daumcdn.net/search/statics/common/js/fe/tot-search/library/p/kakaosdk.20190321202015.min.js\",\n",
       "\"kakaotv\":\"//tv.kakao.com/player/script/sdk/player_api.min.js\",\n",
       "\"ks\":\"//search1.daumcdn.net/search/statics/common/js/fe/tot-search/module/p/ks/module.p.ks.20220926130928.min.js\",\n",
       "\"pagenavigation\":\"//search1.daumcdn.net/search/statics/common/js/fe/tot-search/module/p/pagenavigation/module.p.pagenavigation.20220705092744.min.js\",\n",
       "\"youtube\":\"//www.youtube.com/player_api\"\n",
       "};\n",
       "</script>\n",
       "<script type=\"text/javascript\">\n",
       "(function(SF) {\n",
       "Object.assign(SF, {\n",
       "phase: 'prod'\n",
       "});\n",
       "})(window.SF);\n",
       "</script>\n",
       "<!--[if IE]>\n",
       "<script src=\"//search1.daumcdn.net/search/statics/common/js/g/html5.min.js\"></script>\n",
       "<![endif]-->\n",
       "<script src=\"//t1.daumcdn.net/tiara/js/v1/tiara.min.js\" type=\"text/javascript\"></script>\n",
       "<script type=\"text/javascript\">\n",
       "(function(SF){\n",
       "SF.tiaraTracker.setDefaultConfig();\n",
       "})(window.SF || {});\n",
       "</script>\n",
       "</meta></head>\n",
       "<body class=\"daum\">\n",
       "<script type=\"text/javascript\">\n",
       "SL.mkeyLog();\n",
       "</script>\n",
       "<nav class=\"d_direct\" id=\"daumIndex\">\n",
       "<a class=\"link_direct\" href=\"#daumBody\">본문 바로가기</a>\n",
       "<a class=\"link_direct\" href=\"#daumGnb\">메뉴 바로가기</a>\n",
       "</nav>\n",
       "<div id=\"saq\" style=\"display:none\">한국</div>\n",
       "<article class=\"sch_tab_news\" id=\"daumWrap\">\n",
       "<header id=\"daumHead\">\n",
       "<div class=\"d_head\">\n",
       "<div class=\"inner_header\" id=\"innerHeader\">\n",
       "<h1>\n",
       "<a href=\"https://www.daum.net/\" id=\"daumLogo\" onclick='smartLog(this, \"e=1&amp;dc=MLC\", event);' target=\"_top\" title=\"Daum 메인페이지로 가기\">\n",
       "<img alt=\"Daum\" height=\"34\" src=\"//search1.daumcdn.net/search/statics/common/pi/logo/daumlogo_170324.png\" width=\"84\"/>\n",
       "</a>\n",
       "<span class=\"screen_out\" id=\"daumServiceLogo\">검색</span>\n",
       "</h1>\n",
       "<form class=\"d_sch\" id=\"daumSearch\" method=\"get\" name=\"search\">\n",
       "<fieldset class=\"fld_total\">\n",
       "<legend class=\"screen_out\">검색폼</legend>\n",
       "<input id=\"nil_suggest\" name=\"nil_suggest\" type=\"hidden\" value=\"btn\"/>\n",
       "<input id=\"nil_ch\" name=\"nil_ch\" type=\"hidden\" value=\"\"/>\n",
       "<input name=\"rtupcoll\" type=\"hidden\" value=\"\"/>\n",
       "<input name=\"w\" type=\"hidden\" value=\"news\"/>\n",
       "<input name=\"m\" type=\"hidden\" value=\"\"/>\n",
       "<input id=\"f\" name=\"f\" type=\"hidden\" value=\"\"/>\n",
       "<input name=\"lpp\" type=\"hidden\" value=\"\"/>\n",
       "<input name=\"DA\" type=\"hidden\" value=\"SBC\"/>\n",
       "<input name=\"sug\" type=\"hidden\" value=\"\"/>\n",
       "<input name=\"sq\" type=\"hidden\" value=\"\"/>\n",
       "<input name=\"o\" type=\"hidden\" value=\"\"/>\n",
       "<input name=\"sugo\" type=\"hidden\" value=\"\"/>\n",
       "<input name=\"cluster\" type=\"hidden\" value=\"y\"/>\n",
       "<div class=\"box_searchbar\">\n",
       "<div class=\"inner_searchbar\">\n",
       "<input autocomplete=\"off\" class=\"tf_keyword\" id=\"q\" maxlength=\"255\" name=\"q\" spellcheck=\"false\" title=\"검색어 입력\" type=\"text\" value=\"한국\"/>\n",
       "<button class=\"btn_reset\" id=\"btnResetHeader\" onclick=\"smartLog(this, 'pg=1&amp;p=2&amp;r=1&amp;rc=1&amp;dc=SBC&amp;at=func',event);\" type=\"button\">\n",
       "<span class=\"ico_ksearch\">입력삭제</span>\n",
       "</button>\n",
       "<button class=\"img_keyboard btn_key\" id=\"VKIBtn\" onclick=\"SF.virtualKeyboardHandler.call();smartLog(this, 'pg=1&amp;p=1&amp;r=1&amp;rc=1&amp;dc=BFJ&amp;at=func',event);return false;\" type=\"button\"><span class=\"ir_wa\">한글입력기</span></button>\n",
       "<button class=\"ico_ksearch btn_ksearch\" id=\"daumBtnSearch\" type=\"submit\"><span class=\"ir_wa\">검색</span></button>\n",
       "</div>\n",
       "</div>\n",
       "<div class=\"wrap_suggestBox\" id=\"wrap_suggestBox\"><div class=\"suggestBox box_sub\" id=\"suggestBox\"></div></div>\n",
       "</fieldset>\n",
       "</form>\n",
       "<script type=\"text/javascript\">\n",
       "(function(){\n",
       "var headerSearchModule = new SF.HeaderSearchForm({\n",
       "suggestOption: {\n",
       "AnswerAPIServer: \"https://ninstant.search.daum.net/suggest/index.daum\"\n",
       "}\n",
       "});\n",
       "headerSearchModule.init();\n",
       "})();\n",
       "</script>\n",
       "<div id=\"wrapMinidaum\"></div>\n",
       "<div class=\"keyboard_layer\" id=\"VKILayout\" style=\"display:none;\"></div>\n",
       "<div class=\"cl_b\"></div>\n",
       "</div>\n",
       "</div>\n",
       "<div id=\"daumGnb\">\n",
       "<div class=\"wrap_gnb\">\n",
       "<ul class=\"gnb_search\">\n",
       "<li class=\"\">\n",
       "<a class=\"tab tab_total\" href=\"?w=tot&amp;q=%ED%95%9C%EA%B5%AD&amp;DA=NTB\" onclick='smartLog(this, \"pg=1&amp;r=1&amp;p=1&amp;rc=1&amp;dc=NTB&amp;at=more\", event);'><span class=\"inner_tab\"><span class=\"txt_tab\">통합검색</span></span></a>\n",
       "</li>\n",
       "<li class=\"\">\n",
       "<a class=\"tab tab_img\" href=\"?w=img&amp;nil_search=btn&amp;DA=NTB&amp;enc=utf8&amp;q=%ED%95%9C%EA%B5%AD\" onclick='smartLog(this, \"pg=1&amp;r=2&amp;p=1&amp;rc=1&amp;dc=NTB&amp;at=more\", event);'>\n",
       "<span class=\"inner_tab\"><span class=\"txt_tab\">이미지</span></span>\n",
       "</a>\n",
       "</li>\n",
       "<li class=\"\">\n",
       "<a class=\"tab tab_vclip\" href=\"?w=vclip&amp;nil_search=btn&amp;DA=NTB&amp;enc=utf8&amp;q=%ED%95%9C%EA%B5%AD\" onclick='smartLog(this, \"pg=1&amp;r=3&amp;p=1&amp;rc=1&amp;dc=NTB&amp;at=more\", event);'>\n",
       "<span class=\"inner_tab\"><span class=\"txt_tab\">동영상</span></span>\n",
       "</a>\n",
       "</li>\n",
       "<li class=\"on\">\n",
       "<span class=\"screen_out\">선택된 항목</span>\n",
       "<a class=\"tab tab_news\" href=\"?w=news&amp;nil_search=btn&amp;DA=NTB&amp;enc=utf8&amp;cluster=y&amp;cluster_page=1&amp;q=%ED%95%9C%EA%B5%AD\" onclick='smartLog(this, \"pg=1&amp;r=4&amp;p=1&amp;rc=1&amp;dc=NTB&amp;at=more\", event);'>\n",
       "<span class=\"inner_tab\"><span class=\"txt_tab\">뉴스</span></span>\n",
       "</a>\n",
       "</li>\n",
       "<li class=\"\">\n",
       "<a class=\"tab tab_fusion\" href=\"?w=fusion&amp;nil_search=btn&amp;DA=NTB&amp;enc=utf8&amp;q=%ED%95%9C%EA%B5%AD\" onclick='smartLog(this, \"pg=1&amp;r=5&amp;p=1&amp;rc=1&amp;dc=NTB&amp;at=more\", event);'>\n",
       "<span class=\"inner_tab\"><span class=\"txt_tab\">통합웹</span></span>\n",
       "</a>\n",
       "</li>\n",
       "<li class=\"\">\n",
       "<a class=\"tab tab_blog\" href=\"?w=blog&amp;nil_search=btn&amp;DA=NTB&amp;enc=utf8&amp;q=%ED%95%9C%EA%B5%AD\" onclick='smartLog(this, \"pg=1&amp;r=6&amp;p=1&amp;rc=1&amp;dc=NTB&amp;at=more\", event);'>\n",
       "<span class=\"inner_tab\"><span class=\"txt_tab\">블로그</span></span>\n",
       "</a>\n",
       "</li>\n",
       "<li class=\"\">\n",
       "<a class=\"tab tab_cafe\" href=\"?w=cafe&amp;nil_search=btn&amp;DA=NTB&amp;enc=utf8&amp;ASearchType=1&amp;lpp=10&amp;rlang=0&amp;q=%ED%95%9C%EA%B5%AD\" onclick='smartLog(this, \"pg=1&amp;r=7&amp;p=1&amp;rc=1&amp;dc=NTB&amp;at=more\", event);'>\n",
       "<span class=\"inner_tab\"><span class=\"txt_tab\">카페</span></span>\n",
       "</a>\n",
       "</li>\n",
       "<li class=\"\">\n",
       "<a class=\"tab tab_webdoc\" href=\"?w=web&amp;nil_search=btn&amp;DA=NTB&amp;enc=utf8&amp;lpp=10&amp;q=%ED%95%9C%EA%B5%AD\" onclick='smartLog(this, \"pg=1&amp;r=8&amp;p=1&amp;rc=1&amp;dc=NTB&amp;at=more\", event);'>\n",
       "<span class=\"inner_tab\"><span class=\"txt_tab\">웹문서</span></span>\n",
       "</a>\n",
       "</li>\n",
       "</ul>\n",
       "<div class=\"more_search\">\n",
       "<a class=\"btn_tab\" href=\"javascript:;\" id=\"gnbToggleBtn\">\n",
       "<span class=\"txt_btn\">더보기/접기</span>\n",
       "</a>\n",
       "<ul class=\"list_more\">\n",
       "<li class=\"\">\n",
       "<a class=\"link_more tab_site\" href=\"?w=site&amp;nil_search=btn&amp;DA=NTB&amp;enc=utf8&amp;lpp=10&amp;q=%ED%95%9C%EA%B5%AD\" onclick='smartLog(this, \"pg=1&amp;r=9&amp;p=2&amp;rc=1&amp;e1=NS&amp;e2=IVRZ&amp;dc=NTB&amp;at=more\", event);'>\n",
       "<span class=\"inner_tab\"><span class=\"txt_tab\">사이트</span></span>\n",
       "</a>\n",
       "</li>\n",
       "<li class=\"\">\n",
       "<a class=\"link_more tab_dic\" href=\"http://dic.daum.net/search.do?q=%ED%95%9C%EA%B5%AD\" onclick='smartLog(this, \"pg=1&amp;r=10&amp;p=2&amp;rc=1&amp;e1=NS&amp;e2=DICZ&amp;dc=NTB&amp;at=more\", event);' target=\"_blank\">\n",
       "<span class=\"inner_tab\">\n",
       "<span class=\"txt_tab\">어학사전</span>\n",
       "<span class=\"ico_ksearch ico_outlink\">새창</span>\n",
       "</span>\n",
       "</a>\n",
       "</li>\n",
       "<li class=\"\">\n",
       "<a class=\"link_more tab_map\" href=\"http://map.daum.net/?from=total&amp;nil_suggest=btn&amp;tab=place&amp;q=%ED%95%9C%EA%B5%AD\" onclick='smartLog(this, \"pg=1&amp;r=11&amp;p=2&amp;rc=1&amp;e1=NS&amp;e2=GG1Z&amp;dc=NTB&amp;at=more\", event);' target=\"_blank\">\n",
       "<span class=\"inner_tab\">\n",
       "<span class=\"txt_tab\">지도</span>\n",
       "<span class=\"ico_ksearch ico_outlink\">새창</span>\n",
       "</span>\n",
       "</a>\n",
       "</li>\n",
       "<li class=\"\">\n",
       "<a class=\"link_more tab_dic100\" href=\"http://100.daum.net/search/entry?q=%ED%95%9C%EA%B5%AD\" onclick='smartLog(this, \"pg=1&amp;r=12&amp;p=2&amp;rc=1&amp;e1=NS&amp;e2=1DVZ&amp;dc=NTB&amp;at=more\", event);' target=\"_blank\">\n",
       "<span class=\"inner_tab\">\n",
       "<span class=\"txt_tab\">백과사전</span>\n",
       "<span class=\"ico_ksearch ico_outlink\">새창</span>\n",
       "</span>\n",
       "</a>\n",
       "</li>\n",
       "<li class=\"\">\n",
       "<a class=\"link_more tab_shop\" href=\"https://shoppinghow.kakao.com/search/%ED%95%9C%EA%B5%AD/&amp;srchhow=Cexpo\" onclick='smartLog(this, \"pg=1&amp;r=13&amp;p=2&amp;rc=1&amp;e1=NS&amp;e2=SNPZ&amp;dc=NTB&amp;at=more\", event);' target=\"_blank\">\n",
       "<span class=\"inner_tab\">\n",
       "<span class=\"txt_tab\">쇼핑</span>\n",
       "<span class=\"ico_ksearch ico_outlink\">새창</span>\n",
       "</span>\n",
       "</a>\n",
       "</li>\n",
       "<li class=\"\">\n",
       "<a class=\"link_more tab_book\" href=\"?w=book&amp;nil_search=btn&amp;DA=NTB&amp;enc=utf8&amp;q=%ED%95%9C%EA%B5%AD\" onclick='smartLog(this, \"pg=1&amp;r=14&amp;p=2&amp;rc=1&amp;e1=NS&amp;e2=LB0Z&amp;dc=NTB&amp;at=more\", event);'>\n",
       "<span class=\"inner_tab\"><span class=\"txt_tab\">책</span></span>\n",
       "</a>\n",
       "</li>\n",
       "<li class=\"\">\n",
       "<a class=\"link_more tab_music\" href=\"?w=music&amp;m=song&amp;nil_search=btn&amp;DA=NTB&amp;q=%ED%95%9C%EA%B5%AD\" onclick='smartLog(this, \"pg=1&amp;r=15&amp;p=2&amp;rc=1&amp;e1=NS&amp;e2=MS2Z&amp;dc=NTB&amp;at=more\", event);'>\n",
       "<span class=\"inner_tab\"><span class=\"txt_tab\">멜론뮤직</span></span>\n",
       "</a>\n",
       "</li>\n",
       "<li class=\"\">\n",
       "<a class=\"link_more tab_brunch\" href=\"?w=brunch&amp;nil_search=btn&amp;DA=NTB&amp;enc=utf8&amp;q=%ED%95%9C%EA%B5%AD\" onclick='smartLog(this, \"pg=1&amp;r=16&amp;p=2&amp;rc=1&amp;e1=NS&amp;e2=BRCZ&amp;dc=NTB&amp;at=more\", event);'>\n",
       "<span class=\"inner_tab\"><span class=\"txt_tab\">브런치</span></span>\n",
       "</a>\n",
       "</li>\n",
       "<li class=\"\">\n",
       "<a class=\"link_more tab_kstory\" href=\"?w=kstory&amp;nil_search=btn&amp;DA=NTB&amp;q=%ED%95%9C%EA%B5%AD\" onclick='smartLog(this, \"pg=1&amp;r=17&amp;p=2&amp;rc=1&amp;e1=NS&amp;e2=KASZ&amp;dc=NTB&amp;at=more\", event);'>\n",
       "<span class=\"inner_tab\"><span class=\"txt_tab\">카카오스토리</span></span>\n",
       "</a>\n",
       "</li>\n",
       "</ul>\n",
       "</div>\n",
       "</div>\n",
       "</div>\n",
       "<script type=\"text/javascript\">\n",
       "\n",
       "_jsSetCookieNonEscape = function(name,value){\n",
       "document.cookie = name+\"=\"+value+\"; path=/;\";\n",
       "};\n",
       "_jsSetCookieNonEscape(\"ODT\", \"IIMZ_VO2Z_NNSZ_TWAZ_BR1Z_CCBZ_WSAZ_\");\n",
       "_jsSetCookieNonEscape(\"DDT\", \"IVRZ_DICZ_GG1Z_1DVZ_SNPZ_LB0Z_MS2Z_BRCZ_KASZ_\");\n",
       "_jsSetCookieNonEscape(\"DTQUERY\", \"%ED%95%9C%EA%B5%AD\" );\n",
       "\n",
       "\n",
       "</script>\n",
       "<form method=\"get\" name=\"cUccForm\">\n",
       "<input name=\"kword\" type=\"hidden\"/>\n",
       "<input name=\"colid\" type=\"hidden\"/>\n",
       "<input name=\"docid\" type=\"hidden\"/>\n",
       "<input name=\"backurl\" type=\"hidden\"/>\n",
       "</form>\n",
       "<form method=\"get\" name=\"urForm\">\n",
       "<input name=\"q\" type=\"hidden\"/>\n",
       "</form>\n",
       "<div class=\"clr\"></div>\n",
       "<!-- // daumGnb -->\n",
       "<div class=\"skiptonavi\" id=\"searchData\" name=\"searchData\"></div>\n",
       "<!-- End Header -->\n",
       "</header>\n",
       "<script id=\"suggest-footer-template\" type=\"text/html\">\n",
       "<div>\n",
       "<span>\n",
       "<div class=\"fr\">\n",
       "<a href=\"http://cs.daum.net/faq/15/14957.html#28978\" class=\"isSuggest\" target=\"_blank\" onclick=\"smartLog(this, 'dc=SUG&p=5&r=1', event);\">서제스트란?</a>\n",
       "</div>\n",
       "</span>\n",
       "</div>\n",
       "</script>\n",
       "<article id=\"daumContent\">\n",
       "<div id=\"cMain\">\n",
       "<script type=\"text/javascript\">\n",
       "searchLog.dl = '1MV0_TOG0_NNS10_PGD1_RNN1_MNN1_RSN1';\t/* ISM DISPLAY_RESULT */\n",
       "var smDisCode = \"\";\n",
       "var smClickCode = \"\";\n",
       "var smCateCode = \"\";\n",
       "var totCollCount = \"1\";\n",
       "var sPageLoadedmsTime = 398;\n",
       "var requestTime = \"1666859915615\";\n",
       "</script>\n",
       "<article id=\"mArticle\">\n",
       "<div class=\"inner_article\">\n",
       "<span class=\"screen_out\" id=\"daumBody\">검색 본문</span>\n",
       "<div class=\"g_comp\" disp-attr=\"(TAB)news\" style=\"position: relative;\">\n",
       "<div id=\"newsColl\"> <div class=\"cont_divider\"> <div class=\"coll_tit\"> <h2 class=\"tit\">뉴스</h2> <div class=\"sort_comm\" data-option-type=\"sort\"> <a class=\"btn_sort\" data-log=\"dc=STC&amp;pg=1&amp;r=1&amp;p=1&amp;rc=1&amp;at=func\" data-sort=\"accuracy\" href=\"javascript:;\">정확도순</a> <span class=\"ico_dot\"></span> <a class=\"btn_sort\" data-log=\"dc=STC&amp;pg=1&amp;r=1&amp;p=2&amp;rc=1&amp;at=func\" data-sort=\"recency\" href=\"javascript:;\">최신순</a> <span class=\"ico_dot\"></span> <a class=\"btn_sort\" data-log=\"dc=STC&amp;pg=1&amp;r=1&amp;p=17&amp;rc=1&amp;at=func\" data-sort=\"old\" href=\"javascript:;\">오래된순</a> </div> <div class=\"sub_expander\"> <span class=\"txt_info\" id=\"resultCntArea\">1-10 / 약 14,700,000건</span> <div class=\"wrap_btn\"> <a href=\"?w=news&amp;req=tab&amp;q=%ED%95%9C%EA%B5%AD&amp;cluster=n&amp;viewio=i&amp;repno=0&amp;n=10&amp;p=1&amp;pattern_yn=n&amp;DA=STC\" id=\"linkClusterClose\" onclick='smartLog(this, \"dc=STC&amp;pg=1&amp;r=1&amp;p=11&amp;rc=1&amp;sd=&amp;ed=\", event);'><button class=\"btn_flex\"><span class=\"inner\">관련뉴스 닫기</span></button></a> <button class=\"btn_flex btn_search_option btn_fold\"> <span class=\"inner\">검색옵션<span class=\"ico_tabopt ico_arr\">닫기</span></span> </button> </div> </div> </div> <div class=\"compo-tabopt\"> <div class=\"box_opt\"> <div class=\"menu_opt\" data-option-type=\"period\"> <a class=\"tit_menu\" href=\"javascript:;\"> <span class=\"label\">기간</span><span class=\"ico_more\">옵션더보기</span> </a> <div class=\"layer_opt\"> <ul class=\"list_opt\"> <li> <a class=\"tit_item\" data-label=\"전체\" data-log=\"dc=STC&amp;pg=1&amp;r=1&amp;p=3&amp;rc=1&amp;at=func\" data-period=\"\" href=\"javascript:;\"> 전체 </a> </li> <li> <a class=\"tit_item\" data-label=\"최근 1일\" data-log=\"dc=STC&amp;pg=1&amp;r=1&amp;p=4&amp;rc=1&amp;at=func\" data-period=\"d\" href=\"javascript:;\"> 최근 1일 </a> </li> <li> <a class=\"tit_item\" data-label=\"최근 1주\" data-log=\"dc=STC&amp;pg=1&amp;r=1&amp;p=5&amp;rc=1&amp;at=func\" data-period=\"w\" href=\"javascript:;\"> 최근 1주 </a> </li> <li> <a class=\"tit_item\" data-label=\"최근 1개월\" data-log=\"dc=STC&amp;pg=1&amp;r=1&amp;p=6&amp;rc=1&amp;at=func\" data-period=\"m\" href=\"javascript:;\"> 최근 1개월 </a> </li> <li> <a class=\"tit_item\" data-label=\"최근 6개월\" data-log=\"dc=STC&amp;pg=1&amp;r=1&amp;p=13&amp;rc=1&amp;at=func\" data-period=\"6m\" href=\"javascript:;\"> 최근 6개월 </a> </li> <li> <a class=\"tit_item\" data-label=\"최근 1년\" data-log=\"dc=STC&amp;pg=1&amp;r=1&amp;p=14&amp;rc=1&amp;at=func\" data-period=\"y\" href=\"javascript:;\"> 최근 1년 </a> </li> </ul> <div class=\"box_sub box_date\" data-period=\"u\"> <strong class=\"tit_other\">직접입력</strong> <div class=\"item_date\"> <input class=\"tf_txt\" id=\"datepicker\" title=\"검색기간 시작일\" type=\"text\" value=\"2016.01.01\"> <a class=\"btn_date\" href=\"javascript:;\"> <img alt=\"Select date\" class=\"ui-datepicker-trigger\" src=\"https://search1.daumcdn.net/search/statics/common/pi/ico/ico_calendar.gif\" title=\"Select date\"> </img></a> </input></div> <div class=\"item_date\"> <input class=\"tf_txt\" id=\"\" title=\"검색기간 종료일\" type=\"text\" value=\"2016.01.01\"> <a class=\"btn_date\" href=\"javascript:;\"> <img alt=\"Select date\" class=\"ui-datepicker-trigger\" src=\"https://search1.daumcdn.net/search/statics/common/pi/ico/ico_calendar.gif\" title=\"Select date\"/> </a> </input></div> <button class=\"btn_confirm\" data-log=\"dc=STC&amp;pg=1&amp;r=1&amp;p=7&amp;rc=1&amp;at=func\" type=\"submit\">적용</button> </div> </div> </div> <div class=\"menu_opt\" data-option-type=\"cpname\"> <a class=\"tit_menu\" href=\"javascript:;\"> <span class=\"label\">언론사</span><span class=\"ico_more\">옵션더보기</span> </a> <div class=\"layer_opt ty_news\"> <div class=\"area_head\"> <strong class=\"tit ff_dot\">언론사</strong> <span class=\"info_select\">총<em class=\"f_blue fw_b\">0</em>개 선택(최대 5개)</span> <button class=\"btn_flex btn_cp\"> <span class=\"inner\">언론사 직접입력 <span class=\"ico_tabopt ico_arr\">펼침</span></span> </button> <div class=\"layer_opt ty_findcp\"> <label class=\"lab_item\" for=\"newsCollCpInp\">언론사 직접입력</label> <div class=\"box_sub list_opt\"> <input autocomplete=\"off\" class=\"tf_txt\" id=\"newsCollCpInp\" title=\"언론사입력\" type=\"text\" value=\"\"> <div class=\"d_sgt simple_suggest\" style=\"display: none;\"></div> <button class=\"btn_confirm\" data-log=\"dc=STC&amp;pg=1&amp;r=1&amp;p=9&amp;rc=1&amp;at=func\" type=\"submit\">적용</button> </input></div> </div> </div> <div class=\"area_tab\"> <strong class=\"screen_out\">초성별 언론사 목록</strong> <ul class=\"list_tab7\"> <li class=\"on\"><a data-cp-category=\"ㄱ\" href=\"javascript:\">ㄱ</a></li> <li><a data-cp-category=\"ㄴ\" href=\"javascript:\">ㄴ</a></li> <li><a data-cp-category=\"ㄷ\" href=\"javascript:\">ㄷ</a></li> <li><a data-cp-category=\"ㄹ\" href=\"javascript:\">ㄹ</a></li> <li><a data-cp-category=\"ㅁ\" href=\"javascript:\">ㅁ</a></li> <li><a data-cp-category=\"ㅂ\" href=\"javascript:\">ㅂ</a></li> <li><a data-cp-category=\"ㅅ\" href=\"javascript:\">ㅅ</a></li> <li><a data-cp-category=\"ㅇ\" href=\"javascript:\">ㅇ</a></li> <li><a data-cp-category=\"ㅈ\" href=\"javascript:\">ㅈ</a></li> <li><a data-cp-category=\"ㅊ\" href=\"javascript:\">ㅊ</a></li> <li><a data-cp-category=\"ㅋ\" href=\"javascript:\">ㅋ</a></li> <li><a data-cp-category=\"ㅌ\" href=\"javascript:\">ㅌ</a></li> <li><a data-cp-category=\"ㅍ\" href=\"javascript:\">ㅍ</a></li> <li><a data-cp-category=\"ㅎ\" href=\"javascript:\">ㅎ</a></li> <li><a data-cp-category=\"기타\" href=\"javascript:\">기타</a></li> </ul> </div> <div class=\"area_choice\"> <strong class=\"screen_out\">언론사 선택목록</strong> </div> <div class=\"area_submit\"> <button class=\"btn_confirm\" type=\"submit\">적용</button> <button class=\"btn_cancle\" type=\"button\">취소</button> </div> </div> </div> <div class=\"menu_opt\" data-option-type=\"article_type\"> <a class=\"tit_menu\" href=\"javascript:;\"> <span class=\"label\">유형</span><span class=\"ico_more\">옵션더보기</span> </a> <div class=\"layer_opt\"> <ul class=\"list_opt\"> <li> <a class=\"tit_item\" data-article_type=\"\" data-label=\"전체\" data-log=\"dc=STC&amp;pg=1&amp;r=1&amp;p=20&amp;rc=1&amp;at=func\" href=\"javascript:;\"> 전체 </a> </li> <li> <a class=\"tit_item\" data-article_type=\"photo\" data-label=\"포토\" data-log=\"dc=STC&amp;pg=1&amp;r=1&amp;p=21&amp;rc=1&amp;at=func\" href=\"javascript:;\"> 포토 </a> </li> <li> <a class=\"tit_item\" data-article_type=\"video\" data-label=\"동영상\" data-log=\"dc=STC&amp;pg=1&amp;r=1&amp;p=22&amp;rc=1&amp;at=func\" href=\"javascript:;\"> 동영상 </a> </li> <li> <a class=\"tit_item\" data-article_type=\"infographic\" data-label=\"인포그래픽\" data-log=\"dc=STC&amp;pg=1&amp;r=1&amp;p=23&amp;rc=1&amp;at=func\" href=\"javascript:;\"> 인포그래픽 </a> </li> <li> <a class=\"tit_item\" data-article_type=\"robot\" data-label=\"자동생성기사\" data-log=\"dc=STC&amp;pg=1&amp;r=1&amp;p=24&amp;rc=1&amp;at=func\" href=\"javascript:;\"> 자동생성기사 </a> </li> <li> <a class=\"tit_item\" data-article_type=\"report\" data-label=\"보도자료\" data-log=\"dc=STC&amp;pg=1&amp;r=1&amp;p=25&amp;rc=1&amp;at=func\" href=\"javascript:;\"> 보도자료 </a> </li> </ul> </div> </div> <label class=\"menu_opt opt_keep\"> <input class=\"inp_g\" data-log=\"dc=STC&amp;pg=1&amp;e=1\" type=\"checkbox\"><span class=\"tit_menu\"><span class=\"txt_data\">옵션유지</span></span> </input></label> <button class=\"btn_opt btn_reset\" type=\"button\">초기화<span class=\"ico_tabopt\"></span></button> <button class=\"btn_opt btn_close\" type=\"button\"><span class=\"ico_tabopt\">검색옵션 닫기</span></button> </div> <label class=\"screen_out\" for=\"selectSamename\">관련인물 선택</label> <div class=\"select_comp\"> <select class=\"opt_select\" id=\"selectSamename\"> <option disable=\"\" hidden=\"\" selected=\"\" value=\"0\">관련인물 선택</option> <option value='{\"ppkey\":\"\",\"DA\":\"NTB\"}'>전체</option> <option value='{\"ppkey\":\"2264548\",\"DA\":\"NTB\"}'>한국・가수</option> </select> </div> </div> <ul class=\"list_news\"> <li> <div class=\"wrap_thumb\" id=\"news_img_0\"> <a class=\"thumb_bf\" href=\"http://v.media.daum.net/v/20221027030701102?f=o\" onclick='smartLog(this, \"dc=NNS&amp;d=2621uJ6aLY2j43mVQX&amp;pg=1&amp;r=1&amp;p=1&amp;rc=10&amp;e1=16bOiOx4gG2S18EPLj&amp;e3=0&amp;ext=dsid=2621uJ6aLY2j43mVQX\", event, {\"cpid\": {\"value\": \"16bOiOx4gG2S18EPLj\"}});' target=\"_blank\"> <img alt=\"\" data-size=\"116x80\" height=\"80\" onerror=\"SF.errorImage(this)\" src=\"https://search4.kakaocdn.net/argon/232x160_85_c/K5aumQzAwFq0\" width=\"116\"/> </a> </div> <div class=\"wrap_cont\"> <a class=\"tit_main fn_tit_u\" href=\"http://v.media.daum.net/v/20221027030701102?f=o\" onclick='smartLog(this, \"dc=NNS&amp;d=2621uJ6aLY2j43mVQX&amp;pg=1&amp;r=1&amp;p=4&amp;rc=10&amp;e1=16bOiOx4gG2S18EPLj&amp;e3=0&amp;ext=dsid=2621uJ6aLY2j43mVQX\", event, {\"cpid\": {\"value\": \"16bOiOx4gG2S18EPLj\"}});' target=\"_blank\">“<b>한국</b>에서 미국 주립대 학위 받아요.”</a> <p class=\"tit_sub f_nb\">유타대 아시아캠퍼스 학생 제이미 클락</p> <p class=\"desc\">런던 킹스 칼리지로부터 입학 허가를 받았지만 그녀의 선택은 유타대였다. 입학할 당시 신종 코로나바이러스 감염증이 유행하였고 <b>한국</b>에서도 미국 명문 주립대 학위를 받을 수 있다는 사실을 알고 <b>한국</b>에 남았다. 그녀는 다중인격장애와 관련한 영상을 우연히 접한...</p> <span class=\"cont_info\"> <span class=\"f_nb\">동아일보</span> <span class=\"f_nb\">14시간전</span> <a class=\"f_nb\" href=\"http://v.media.daum.net/v/20221027030701102\" onclick='smartLog(this, \"dc=NNS&amp;d=2621uJ6aLY2j43mVQX&amp;pg=1&amp;r=1&amp;p=3&amp;rc=10&amp;e1=16bOiOx4gG2S18EPLj&amp;e3=0&amp;ext=dsid=2621uJ6aLY2j43mVQX\", event, {\"cpid\": {\"value\": \"16bOiOx4gG2S18EPLj\"}});' target=\"_blank\">다음뉴스</a> </span> <span id=\"newsSQC_t1_0\" style=\"display:none;\">10301^http://v.media.daum.net/v/20221027030701102?f=o^2621uJ6aLY2j43mVQX^news^mediaArticle^%ED%95%9C%EA%B5%AD^2621uJ6aLY2j43mVQX</span> </div> </li> <li> <div class=\"wrap_thumb\" id=\"news_img_1\"> <a class=\"thumb_bf\" href=\"http://v.media.daum.net/v/20221027143509201?f=o\" onclick='smartLog(this, \"dc=NNS&amp;d=26Y4LqKJiTRpVn5ey4&amp;pg=1&amp;r=2&amp;p=1&amp;rc=10&amp;e1=16X5KwQDDYGM_ae2Qi&amp;e3=0&amp;ext=dsid=26Y4LqKJiTRpVn5ey4\", event, {\"cpid\": {\"value\": \"16X5KwQDDYGM_ae2Qi\"}});' target=\"_blank\"> <img alt=\"\" data-size=\"116x80\" height=\"80\" onerror=\"SF.errorImage(this)\" src=\"https://search4.kakaocdn.net/argon/232x160_85_c/HWVU1N1LH880\" width=\"116\"/> </a> </div> <div class=\"wrap_cont\"> <a class=\"tit_main fn_tit_u\" href=\"http://v.media.daum.net/v/20221027143509201?f=o\" onclick='smartLog(this, \"dc=NNS&amp;d=26Y4LqKJiTRpVn5ey4&amp;pg=1&amp;r=2&amp;p=4&amp;rc=10&amp;e1=16X5KwQDDYGM_ae2Qi&amp;e3=0&amp;ext=dsid=26Y4LqKJiTRpVn5ey4\", event, {\"cpid\": {\"value\": \"16X5KwQDDYGM_ae2Qi\"}});' target=\"_blank\"><b>한국</b> 언론의 국제뉴스 보도, 이래서 문제다</a> <p class=\"desc\">힌츠페터국제보도상 토론회서 <b>한국</b> 내 국제뉴스 한계 꼽아 \"선진국 편향·내셔널리즘 국제보도, 기후위기 등 공동대응 막아\" \"국민들은 관심 많지만 언론사는 경제논리로 투자 안 해\" [미디어오늘 김예리 기자] <b>한국</b> 언론의 국제뉴스에서 나타나는 지정학적 편향과...</p> <span class=\"cont_info\"> <span class=\"f_nb\">미디어오늘</span> <span class=\"f_nb\">3시간전</span> <a class=\"f_nb\" href=\"http://v.media.daum.net/v/20221027143509201\" onclick='smartLog(this, \"dc=NNS&amp;d=26Y4LqKJiTRpVn5ey4&amp;pg=1&amp;r=2&amp;p=3&amp;rc=10&amp;e1=16X5KwQDDYGM_ae2Qi&amp;e3=0&amp;ext=dsid=26Y4LqKJiTRpVn5ey4\", event, {\"cpid\": {\"value\": \"16X5KwQDDYGM_ae2Qi\"}});' target=\"_blank\">다음뉴스</a> </span> <span id=\"newsSQC_t1_1\" style=\"display:none;\">10301^http://v.media.daum.net/v/20221027143509201?f=o^26Y4LqKJiTRpVn5ey4^news^mediaArticle^%ED%95%9C%EA%B5%AD^26Y4LqKJiTRpVn5ey4</span> </div> </li> <li> <div class=\"wrap_thumb\" id=\"news_img_2\"> <a class=\"thumb_bf\" href=\"http://v.media.daum.net/v/20221027140023647?f=o\" onclick='smartLog(this, \"dc=NNS&amp;d=26NOdHBOR3tmojP8zP&amp;pg=1&amp;r=3&amp;p=1&amp;rc=10&amp;e1=16X5Xh1MWS7Qt1sMrW&amp;e3=0&amp;ext=dsid=26NOdHBOR3tmojP8zP\", event, {\"cpid\": {\"value\": \"16X5Xh1MWS7Qt1sMrW\"}});' target=\"_blank\"> <img alt=\"\" data-size=\"116x80\" height=\"80\" onerror=\"SF.errorImage(this)\" src=\"https://search1.kakaocdn.net/argon/232x160_85_c/4YFYqVEk4LI0\" width=\"116\"/> </a> </div> <div class=\"wrap_cont\"> <a class=\"tit_main fn_tit_u\" href=\"http://v.media.daum.net/v/20221027140023647?f=o\" onclick='smartLog(this, \"dc=NNS&amp;d=26NOdHBOR3tmojP8zP&amp;pg=1&amp;r=3&amp;p=4&amp;rc=10&amp;e1=16X5Xh1MWS7Qt1sMrW&amp;e3=0&amp;ext=dsid=26NOdHBOR3tmojP8zP\", event, {\"cpid\": {\"value\": \"16X5Xh1MWS7Qt1sMrW\"}});' target=\"_blank\">\"<b>한국</b>, 마약청정국 지위 7년전 이미 잃었다\"</a> <p class=\"tit_sub f_nb\">마약퇴치운동본부 30주년 김필여 신임 이사장 인터뷰\"마약사범 45만명 추산…예방·재활 중심 정책전환해야\"</p> <p class=\"desc\">김필여 <b>한국</b>마약퇴치운동본부 신임 이사장 [촬영=박보람] (서울=연합뉴스) 임순현 기자 = \"<b>한국</b>은 이미 7년 전에 '마약 청정국' 지위를 잃었어요. 최근에 잃은 게 아닙니다.\" 민간단체 <b>한국</b>마약퇴치운동본부의 김필여(57) 이사장은 이런 '경고'로 인터뷰를 시작했다...</p> <span class=\"cont_info\"> <span class=\"f_nb\">연합뉴스</span> <span class=\"f_nb\">3시간전</span> <a class=\"f_nb\" href=\"http://v.media.daum.net/v/20221027140023647\" onclick='smartLog(this, \"dc=NNS&amp;d=26NOdHBOR3tmojP8zP&amp;pg=1&amp;r=3&amp;p=3&amp;rc=10&amp;e1=16X5Xh1MWS7Qt1sMrW&amp;e3=0&amp;ext=dsid=26NOdHBOR3tmojP8zP\", event, {\"cpid\": {\"value\": \"16X5Xh1MWS7Qt1sMrW\"}});' target=\"_blank\">다음뉴스</a> </span> <span id=\"newsSQC_t1_2\" style=\"display:none;\">10301^http://v.media.daum.net/v/20221027140023647?f=o^26NOdHBOR3tmojP8zP^news^mediaArticle^%ED%95%9C%EA%B5%AD^26NOdHBOR3tmojP8zP</span> </div> </li> <li> <div class=\"wrap_thumb\" id=\"news_img_3\"> <a class=\"thumb_bf\" href=\"http://v.media.daum.net/v/20221027173011503?f=o\" onclick='smartLog(this, \"dc=NNS&amp;d=263wgWH5D99U6qeTdU&amp;pg=1&amp;r=4&amp;p=1&amp;rc=10&amp;e1=16O8sbGdUflWYlfqu4&amp;e3=0&amp;ext=dsid=263wgWH5D99U6qeTdU\", event, {\"cpid\": {\"value\": \"16O8sbGdUflWYlfqu4\"}});' target=\"_blank\"> <img alt=\"\" data-size=\"116x80\" height=\"80\" onerror=\"SF.errorImage(this)\" src=\"https://search3.kakaocdn.net/argon/232x160_85_c/DorvBAvQLN0\" width=\"116\"/> </a> </div> <div class=\"wrap_cont\"> <a class=\"tit_main fn_tit_u\" href=\"http://v.media.daum.net/v/20221027173011503?f=o\" onclick='smartLog(this, \"dc=NNS&amp;d=263wgWH5D99U6qeTdU&amp;pg=1&amp;r=4&amp;p=4&amp;rc=10&amp;e1=16O8sbGdUflWYlfqu4&amp;e3=0&amp;ext=dsid=263wgWH5D99U6qeTdU\", event, {\"cpid\": {\"value\": \"16O8sbGdUflWYlfqu4\"}});' target=\"_blank\"><b>한국</b>, 7년만에 日관함식 참석한다</a> <p class=\"tit_sub f_nb\">국방부 \"과거사례, 국제관례 고려해 결정해\"尹정부 한일관계 조기개선·北위협 등 감안해군, 최신예 군수지원함 '소양함' 파견키로日해상자위대 '욱일기' 논란 재점화 불가피</p> <p class=\"desc\">함대와 장병을 검열하는 해상사열 의식으로, 중요한 군사외교 무대로도 활용된다. 일본이 이번 관함식에 맞춰 개최하는 WPNS에는 <b>한국</b>과 일본을 비롯해 미국, 중국, 호주 등의 해군참모총장 등이 참여한다. 일본은 WPNS 회원국 가운데 우크라이나를 침공한 러시아를...</p> <span class=\"cont_info\"> <span class=\"f_nb\">매일경제</span> <span class=\"f_nb\">8분전</span> <a class=\"f_nb\" href=\"http://v.media.daum.net/v/20221027173011503\" onclick='smartLog(this, \"dc=NNS&amp;d=263wgWH5D99U6qeTdU&amp;pg=1&amp;r=4&amp;p=3&amp;rc=10&amp;e1=16O8sbGdUflWYlfqu4&amp;e3=0&amp;ext=dsid=263wgWH5D99U6qeTdU\", event, {\"cpid\": {\"value\": \"16O8sbGdUflWYlfqu4\"}});' target=\"_blank\">다음뉴스</a> </span> <span id=\"newsSQC_t1_3\" style=\"display:none;\">10301^http://v.media.daum.net/v/20221027173011503?f=o^263wgWH5D99U6qeTdU^news^mediaArticle^%ED%95%9C%EA%B5%AD^263wgWH5D99U6qeTdU</span> </div> </li> <li> <div class=\"wrap_thumb\" id=\"news_img_4\"> <a class=\"thumb_bf\" href=\"http://v.media.daum.net/v/20221027135221387?f=o\" onclick='smartLog(this, \"dc=NNS&amp;d=269OR90o2KYI6ioiZ-&amp;pg=1&amp;r=5&amp;p=1&amp;rc=10&amp;e1=16X5Xh1MWS7Qt1sMrW&amp;e3=0&amp;ext=dsid=269OR90o2KYI6ioiZ-\", event, {\"cpid\": {\"value\": \"16X5Xh1MWS7Qt1sMrW\"}});' target=\"_blank\"> <img alt=\"\" data-size=\"116x80\" height=\"80\" onerror=\"SF.errorImage(this)\" src=\"https://search4.kakaocdn.net/argon/232x160_85_c/GOw7X9vQf6z0\" width=\"116\"/> </a> </div> <div class=\"wrap_cont\"> <a class=\"tit_main fn_tit_u\" href=\"http://v.media.daum.net/v/20221027135221387?f=o\" onclick='smartLog(this, \"dc=NNS&amp;d=269OR90o2KYI6ioiZ-&amp;pg=1&amp;r=5&amp;p=4&amp;rc=10&amp;e1=16X5Xh1MWS7Qt1sMrW&amp;e3=0&amp;ext=dsid=269OR90o2KYI6ioiZ-\", event, {\"cpid\": {\"value\": \"16X5Xh1MWS7Qt1sMrW\"}});' target=\"_blank\">뉴델리서 선보인 <b>한국</b>전통 혼인잔치…한식페스타 개막</a> <p class=\"tit_sub f_nb\">한식 셰프, 조리법 전수·호텔 메뉴로도 소개</p> <p class=\"desc\">26일 인도 뉴델리 '한식 페스타'에서 선보인 <b>한국</b> 전통 혼례식. [주인도<b>한국</b>문화원 제공ㆍ연합뉴스 자료사진. 재판매 및 DB 금지] (뉴델리=연합뉴스) 김영현 특파원 = 최근 <b>한국</b> 문화에 대한 관심이 크게 고조되고 있는 인도의 수도 뉴델리에서 <b>한국</b> 전통 혼인 잔치...</p> <span class=\"cont_info\"> <span class=\"f_nb\">연합뉴스</span> <span class=\"f_nb\">3시간전</span> <a class=\"f_nb\" href=\"http://v.media.daum.net/v/20221027135221387\" onclick='smartLog(this, \"dc=NNS&amp;d=269OR90o2KYI6ioiZ-&amp;pg=1&amp;r=5&amp;p=3&amp;rc=10&amp;e1=16X5Xh1MWS7Qt1sMrW&amp;e3=0&amp;ext=dsid=269OR90o2KYI6ioiZ-\", event, {\"cpid\": {\"value\": \"16X5Xh1MWS7Qt1sMrW\"}});' target=\"_blank\">다음뉴스</a> </span> <span id=\"newsSQC_t1_4\" style=\"display:none;\">10301^http://v.media.daum.net/v/20221027135221387?f=o^269OR90o2KYI6ioiZ-^news^mediaArticle^%ED%95%9C%EA%B5%AD^269OR90o2KYI6ioiZ-</span> </div> </li> <li> <div class=\"wrap_thumb\" id=\"news_img_5\"> <a class=\"thumb_bf\" href=\"http://v.media.daum.net/v/20221027102915396?f=o\" onclick='smartLog(this, \"dc=NNS&amp;d=26lkGpLoXu0R1S60XJ&amp;pg=1&amp;r=6&amp;p=1&amp;rc=10&amp;e1=16X5Xh1MWS7Qt1sMrW&amp;e3=0&amp;ext=dsid=26lkGpLoXu0R1S60XJ\", event, {\"cpid\": {\"value\": \"16X5Xh1MWS7Qt1sMrW\"}});' target=\"_blank\"> <img alt=\"\" data-size=\"116x80\" height=\"80\" onerror=\"SF.errorImage(this)\" src=\"https://search4.kakaocdn.net/argon/232x160_85_c/99ckrqqV9UL0\" width=\"116\"/> </a> </div> <div class=\"wrap_cont\"> <a class=\"tit_main fn_tit_u\" href=\"http://v.media.daum.net/v/20221027102915396?f=o\" onclick='smartLog(this, \"dc=NNS&amp;d=26lkGpLoXu0R1S60XJ&amp;pg=1&amp;r=6&amp;p=4&amp;rc=10&amp;e1=16X5Xh1MWS7Qt1sMrW&amp;e3=0&amp;ext=dsid=26lkGpLoXu0R1S60XJ\", event, {\"cpid\": {\"value\": \"16X5Xh1MWS7Qt1sMrW\"}});' target=\"_blank\">수출감소에 고물가·어닝쇼크…<b>한국</b>경제 성장 '빨간불'</a> <p class=\"tit_sub f_nb\">3분기 GDP 0.3% 증가 그쳐…\"4분기 전망 어둡다\"고물가에 기업 체감경기도 악화…스태그플레이션 우려 커져</p> <p class=\"desc\"><b>한국</b> 경제 성장 '빨간불' [연합뉴스 자료사진] (서울=연합뉴스) 민선희 기자 = 올해 3분기(7∼9월) <b>한국</b> 경제 성장세가 둔화한 것으로 나타나면서 스태그플레이션(경제 불황 속 물가 상승) 진입 우려가 커지고 있다. <b>한국</b>은행이 5%를 웃도는 물가상승률이 계속될...</p> <span class=\"cont_info\"> <span class=\"f_nb\">연합뉴스</span> <span class=\"f_nb\">7시간전</span> <a class=\"f_nb\" href=\"http://v.media.daum.net/v/20221027102915396\" onclick='smartLog(this, \"dc=NNS&amp;d=26lkGpLoXu0R1S60XJ&amp;pg=1&amp;r=6&amp;p=3&amp;rc=10&amp;e1=16X5Xh1MWS7Qt1sMrW&amp;e3=0&amp;ext=dsid=26lkGpLoXu0R1S60XJ\", event, {\"cpid\": {\"value\": \"16X5Xh1MWS7Qt1sMrW\"}});' target=\"_blank\">다음뉴스</a> </span> <span id=\"newsSQC_t1_5\" style=\"display:none;\">10301^http://v.media.daum.net/v/20221027102915396?f=o^26lkGpLoXu0R1S60XJ^news^mediaArticle^%ED%95%9C%EA%B5%AD^26lkGpLoXu0R1S60XJ</span> </div> </li> <li> <div class=\"wrap_thumb\" id=\"news_img_6\"> <a class=\"thumb_bf\" href=\"http://v.media.daum.net/v/20221027172102090?f=o\" onclick='smartLog(this, \"dc=NNS&amp;d=26ANeQ-3hIbKHbCRYB&amp;pg=1&amp;r=7&amp;p=1&amp;rc=10&amp;e1=16O8sbGdUflWYlfqu4&amp;e3=0&amp;ext=dsid=26ANeQ-3hIbKHbCRYB\", event, {\"cpid\": {\"value\": \"16O8sbGdUflWYlfqu4\"}});' target=\"_blank\"> <img alt=\"\" data-size=\"116x80\" height=\"80\" onerror=\"SF.errorImage(this)\" src=\"https://search4.kakaocdn.net/argon/232x160_85_c/DY35EMT8Ri00\" width=\"116\"/> </a> </div> <div class=\"wrap_cont\"> <a class=\"tit_main fn_tit_u\" href=\"http://v.media.daum.net/v/20221027172102090?f=o\" onclick='smartLog(this, \"dc=NNS&amp;d=26ANeQ-3hIbKHbCRYB&amp;pg=1&amp;r=7&amp;p=4&amp;rc=10&amp;e1=16O8sbGdUflWYlfqu4&amp;e3=0&amp;ext=dsid=26ANeQ-3hIbKHbCRYB\", event, {\"cpid\": {\"value\": \"16O8sbGdUflWYlfqu4\"}});' target=\"_blank\">\"세계공급망 재편은 기회…기업에 인센티브 줘야 <b>한국</b> 온다\"</a> <p class=\"tit_sub f_nb\">김진표 국회의장 취임 100일 매경 단독 인터뷰대담 / 이진명 정치부장美中 갈등에 미국·유럽·일본기업 중국서 이탈국내에 유치해 제조업 부흥의 발판으로 삼아야기업들 해외 투자할 땐 5년 수익 철저히 비교대만과 유치 경쟁하는 한국, 더 좋은 조건 필요소수의 극단에 끌려다니면 국민과 사이 멀어져팬덤정치와 결별 위해 정치인 개개인이 결단을개헌은 국민 목소리 담아 합의할수 있는 것부터정부조직 개편은 대선공약, 큰 틀에서 협력해야</p> <p class=\"desc\">첨단기업들이 새로운 투자처를 찾아 나섰다. 이 기회에 세계 첨단기업을 국내에 대거 유치해 재도약 발판으로 삼아야 한다. 이것이 <b>한국</b> 경제가 살 길이고, 우리 제조업이 부흥할 수 있는 길이다. ―그렇다면 세계 첨단기업들의 해외 투자를 국내에 유치할 해법이...</p> <span class=\"cont_info\"> <span class=\"f_nb\">매일경제</span> <span class=\"f_nb\">17분전</span> <a class=\"f_nb\" href=\"http://v.media.daum.net/v/20221027172102090\" onclick='smartLog(this, \"dc=NNS&amp;d=26ANeQ-3hIbKHbCRYB&amp;pg=1&amp;r=7&amp;p=3&amp;rc=10&amp;e1=16O8sbGdUflWYlfqu4&amp;e3=0&amp;ext=dsid=26ANeQ-3hIbKHbCRYB\", event, {\"cpid\": {\"value\": \"16O8sbGdUflWYlfqu4\"}});' target=\"_blank\">다음뉴스</a> </span> <span id=\"newsSQC_t1_6\" style=\"display:none;\">10301^http://v.media.daum.net/v/20221027172102090?f=o^26ANeQ-3hIbKHbCRYB^news^mediaArticle^%ED%95%9C%EA%B5%AD^26ANeQ-3hIbKHbCRYB</span> </div> </li> <li> <div class=\"wrap_thumb\" id=\"news_img_7\"> <a class=\"thumb_bf\" href=\"http://v.media.daum.net/v/20221027160754692?f=o\" onclick='smartLog(this, \"dc=NNS&amp;d=26Bhqx7Fd4VNA2qL4G&amp;pg=1&amp;r=8&amp;p=1&amp;rc=10&amp;e1=16EYSMhnbuylgdbAfU&amp;e3=0&amp;ext=dsid=26Bhqx7Fd4VNA2qL4G\", event, {\"cpid\": {\"value\": \"16EYSMhnbuylgdbAfU\"}});' target=\"_blank\"> <img alt=\"\" data-size=\"116x80\" height=\"80\" onerror=\"SF.errorImage(this)\" src=\"https://search1.kakaocdn.net/argon/232x160_85_c/AFZkrU0vMRw0\" width=\"116\"/> </a> </div> <div class=\"wrap_cont\"> <a class=\"tit_main fn_tit_u\" href=\"http://v.media.daum.net/v/20221027160754692?f=o\" onclick='smartLog(this, \"dc=NNS&amp;d=26Bhqx7Fd4VNA2qL4G&amp;pg=1&amp;r=8&amp;p=4&amp;rc=10&amp;e1=16EYSMhnbuylgdbAfU&amp;e3=0&amp;ext=dsid=26Bhqx7Fd4VNA2qL4G\", event, {\"cpid\": {\"value\": \"16EYSMhnbuylgdbAfU\"}});' target=\"_blank\">프랑스 매체 “<b>한국</b>-일본, 카타르 WC 조별리그 탈락 예상”</a> <p class=\"desc\">벤투 <b>한국</b> 감독(왼쪽)-모리야스 하지메 일본 감독. 게티이미지코리아 프랑스 매체가 2022 카타르월드컵에서 <b>한국</b>과 일본 모두 조별리그에서 탈락할 것으로 예측했다.카타르월드컵은 다음달 20일(<b>한국</b>시간) 시작된다.<b>한국</b>은 우루과이, 포르투갈, 가나와 함께 H조에...</p> <span class=\"cont_info\"> <span class=\"f_nb\">스포츠경향</span> <span class=\"f_nb\">1시간전</span> <a class=\"f_nb\" href=\"http://v.media.daum.net/v/20221027160754692\" onclick='smartLog(this, \"dc=NNS&amp;d=26Bhqx7Fd4VNA2qL4G&amp;pg=1&amp;r=8&amp;p=3&amp;rc=10&amp;e1=16EYSMhnbuylgdbAfU&amp;e3=0&amp;ext=dsid=26Bhqx7Fd4VNA2qL4G\", event, {\"cpid\": {\"value\": \"16EYSMhnbuylgdbAfU\"}});' target=\"_blank\">다음뉴스</a> </span> <span id=\"newsSQC_t1_7\" style=\"display:none;\">10301^http://v.media.daum.net/v/20221027160754692?f=o^26Bhqx7Fd4VNA2qL4G^news^mediaArticle^%ED%95%9C%EA%B5%AD^26Bhqx7Fd4VNA2qL4G</span> </div> </li> <li> <div class=\"wrap_thumb\" id=\"news_img_8\"> <a class=\"thumb_bf\" href=\"http://v.media.daum.net/v/20221027132010374?f=o\" onclick='smartLog(this, \"dc=NNS&amp;d=26986UPw-19DqILjRs&amp;pg=1&amp;r=9&amp;p=1&amp;rc=10&amp;e1=16D_CSGigLDafrbBvU&amp;e3=0&amp;ext=dsid=26986UPw-19DqILjRs\", event, {\"cpid\": {\"value\": \"16D_CSGigLDafrbBvU\"}});' target=\"_blank\"> <img alt=\"\" data-size=\"116x80\" height=\"80\" onerror=\"SF.errorImage(this)\" src=\"https://search2.kakaocdn.net/argon/232x160_85_c/JTdA0DG2Rxy0\" width=\"116\"/> <span class=\"wrap_badge ty_br\"><span class=\"ico_rwdt badge-nplay\">동영상</span></span> </a> </div> <div class=\"wrap_cont\"> <a class=\"tit_main fn_tit_u\" href=\"http://v.media.daum.net/v/20221027132010374?f=o\" onclick='smartLog(this, \"dc=NNS&amp;d=26986UPw-19DqILjRs&amp;pg=1&amp;r=9&amp;p=4&amp;rc=10&amp;e1=16D_CSGigLDafrbBvU&amp;e3=0&amp;ext=dsid=26986UPw-19DqILjRs\", event, {\"cpid\": {\"value\": \"16D_CSGigLDafrbBvU\"}});' target=\"_blank\">한류의 모든 것, 지구촌 함께한 '<b>한국</b>문화축제'</a> <p class=\"desc\">김채원 앵커&gt; 드라마와 케이팝 등 한류의 모든 것을 만날 수 있는 <b>한국</b>문화축제가 서울에서 열렸습니다. K-콘텐츠의 저력과 매력을 알리는 글로벌 한류 축제는 현장 공연과 온라인으로 생중계돼 지구촌 한류팬의 마음을 사로잡았는데요. 유정순 국민기자가...</p> <span class=\"cont_info\"> <span class=\"f_nb\">KTV</span> <span class=\"f_nb\">4시간전</span> <a class=\"f_nb\" href=\"http://v.media.daum.net/v/20221027132010374\" onclick='smartLog(this, \"dc=NNS&amp;d=26986UPw-19DqILjRs&amp;pg=1&amp;r=9&amp;p=3&amp;rc=10&amp;e1=16D_CSGigLDafrbBvU&amp;e3=0&amp;ext=dsid=26986UPw-19DqILjRs\", event, {\"cpid\": {\"value\": \"16D_CSGigLDafrbBvU\"}});' target=\"_blank\">다음뉴스</a> </span> <span id=\"newsSQC_t1_8\" style=\"display:none;\">10301^http://v.media.daum.net/v/20221027132010374?f=o^26986UPw-19DqILjRs^news^mediaArticle^%ED%95%9C%EA%B5%AD^26986UPw-19DqILjRs</span> </div> </li> <li> <div class=\"wrap_thumb\" id=\"news_img_9\"> <a class=\"thumb_bf\" href=\"http://v.media.daum.net/v/20221027161959275?f=o\" onclick='smartLog(this, \"dc=NNS&amp;d=26al4Ni0ikF_KR1dXG&amp;pg=1&amp;r=10&amp;p=1&amp;rc=10&amp;e1=16X5Xh1MWS7Qt1sMrW&amp;e3=0&amp;ext=dsid=26al4Ni0ikF_KR1dXG\", event, {\"cpid\": {\"value\": \"16X5Xh1MWS7Qt1sMrW\"}});' target=\"_blank\"> <img alt=\"\" data-size=\"116x80\" height=\"80\" onerror=\"SF.errorImage(this)\" src=\"https://search4.kakaocdn.net/argon/232x160_85_c/INRPlzIrQHq0\" width=\"116\"/> </a> </div> <div class=\"wrap_cont\"> <a class=\"tit_main fn_tit_u\" href=\"http://v.media.daum.net/v/20221027161959275?f=o\" onclick='smartLog(this, \"dc=NNS&amp;d=26al4Ni0ikF_KR1dXG&amp;pg=1&amp;r=10&amp;p=4&amp;rc=10&amp;e1=16X5Xh1MWS7Qt1sMrW&amp;e3=0&amp;ext=dsid=26al4Ni0ikF_KR1dXG\", event, {\"cpid\": {\"value\": \"16X5Xh1MWS7Qt1sMrW\"}});' target=\"_blank\">'근로자 사망 사고' <b>한국</b>타이어 측 \"비정상적 방식 작업 이뤄져\"</a> <p class=\"tit_sub f_nb\">고용노동청 관계자 \"표준 작업만 설정하는 것은 사측 책임 회피\"</p> <p class=\"desc\">대전 법원 [연합뉴스 자료사진] (대전=연합뉴스) 박주영 기자 = 2년 전 근로자가 기계 설비에 옷이 끼여 숨진 사고로 기소된 <b>한국</b>타이어 측이 법정에서 당시 사망자의 작업이 비정상적인 방식으로 이뤄졌다고 주장했다. 대전지법 형사7단독(김도연 부장판사) 심리로...</p> <span class=\"cont_info\"> <span class=\"f_nb\">연합뉴스</span> <span class=\"f_nb\">1시간전</span> <a class=\"f_nb\" href=\"http://v.media.daum.net/v/20221027161959275\" onclick='smartLog(this, \"dc=NNS&amp;d=26al4Ni0ikF_KR1dXG&amp;pg=1&amp;r=10&amp;p=3&amp;rc=10&amp;e1=16X5Xh1MWS7Qt1sMrW&amp;e3=0&amp;ext=dsid=26al4Ni0ikF_KR1dXG\", event, {\"cpid\": {\"value\": \"16X5Xh1MWS7Qt1sMrW\"}});' target=\"_blank\">다음뉴스</a> </span> <span id=\"newsSQC_t1_9\" style=\"display:none;\">10301^http://v.media.daum.net/v/20221027161959275?f=o^26al4Ni0ikF_KR1dXG^news^mediaArticle^%ED%95%9C%EA%B5%AD^26al4Ni0ikF_KR1dXG</span> </div> </li> </ul> </div> <div class=\"result_message mg_cont hide\"> <p class=\"f_eb message\"> 다음 검색은 효과적으로 검색결과를 확인하실 수 있도록, 유사한 기사를 묶은 검색결과를 제공하고 있습니다. 이 때문에 페이지 수에 변화가 있을 수 있습니다. 원하시면 관련 뉴스 닫기 결과를 확인하실 수 있습니다.   <a class=\"f_link\" href=\"?w=news&amp;req=tab&amp;q=%ED%95%9C%EA%B5%AD&amp;cluster=n&amp;viewio=i&amp;repno=0&amp;n=10&amp;p=1&amp;pattern_yn=n&amp;DA=NNS\">관련뉴스 닫기</a> </p> </div> <div class=\"paging_comm\"></div> <div class=\"coll_etc\"> <div class=\"refer_comm\"> <span class=\"ico_refer\">다음뉴스 안내 및 문의는 <a href=\"https://cs.daum.net/faq/63.html\" target=\"_blank\">다음뉴스 고객센터</a>를 이용해 주세요.</span> </div> </div> </div> <div class=\"hide\" id=\"tabNoResultArea\"></div> <script> /** 탭 */ window.T.NNS = { selector: { wrapperId: \"newsColl\", sameNameSelectBox: \"#selectSamename\", searchOption: { container: \".box_opt\", button: \".sub_expander .btn_search_option\", periodContainer: 'div[data-option-type=\"period\"]', keepOptionButton: \".opt_keep input.inp_g\", closeButton: \".box_opt .btn_close\", resetButton: \".box_opt .btn_reset\", optionButton: \".menu_opt .tit_menu\", selectOptionLabel: \".tit_menu .label\", }, cpSuggest: { cpButton: \".btn_cp\", container: 'div[data-option-type=\"cpname\"]', input: \"#newsCollCpInp\", layerSuggest: \".simple_suggest\", confirmButton: \".list_opt .btn_confirm\", label: \".tit_menu .label\", }, cpCategory: { container: 'div[data-option-type=\"cpname\"]', categoryButton: \"a[data-cp-category]\", itemContainer: \".area_choice\", submitButton: \".area_submit .btn_confirm\", resetButton: \".area_submit .btn_cancle\", countLabel: '.info_select .fw_b', }, }, api: { cpSuggest: 'https://dapi.kakao.com/suggest-hub/v1/search.json?service=news-cpinfo&format=json&cate=', cpCategory: { qsearch: { cpinfo_req: 'y', cp_initial: '', w: 'news' } } }, data: { searchOption: { resetParam: { sd: \"\", ed: \"\", cp: \"\", sort: \"\", period: \"\", p: \"\", cpname: \"\", cluster: \"\", cluster_docid: \"\", article_type: \"\", }, }, paging: { displayCount: 10, totalCount: 772, currentPage: 1, wrapper: \".paging_comm\", pageName: \"p\", code: {}, }, }, logs: { suggestUserInput: \"dc=STC&pg=1&r=1&p=9&rc=1&at=func\", samenameSelTotal: \"dc=NNS&pg=1&r=1&p=20&rc=1&at=func\", samenameSelPerson: \"dc=NNS&pg=1&r=1&p=21&rc=1&at=func\", cpSelect: \"dc=STC&pg=1&r=1&p=16&rc=1&at=func\", }, }; </script> <script src=\"//search1.daumcdn.net/search/statics/common/js/fe/tot-search-collection/nns/p/news.nns.20220927150258.min.js\"></script>\n",
       "</div>\n",
       "<div class=\"line\"></div><hr/>\n",
       "</div> <!-- // inner_article -->\n",
       "</article> <!-- // mArticle -->\n",
       "<aside id=\"mAside\">\n",
       "<div class=\"g_comp_s\" disp-attr=\"1MV\">\n",
       "<div class=\"content_realtime\" id=\"ratThemeColl\"> <div class=\"coll_tit\"> <h2 class=\"tit\">영화 종합 검색어</h2> <div class=\"mg_expander\"><span class=\"f_nb\">10.27. 17:38</span></div> </div> <div class=\"coll_cont\"> <div class=\"wrap_rank\"> <ol class=\"list_rank\"> <li> <div class=\"inner_item\"> <span class=\"num_rank\">1</span> <span class=\"keyword_rank\"> <a class=\"link_txt\" href=\"?w=tot&amp;rtupcate=38&amp;f=38&amp;rtmaxcoll=1MV,EM1&amp;DA=1MV&amp;q=%EB%A6%AC%EB%A9%A4%EB%B2%84&amp;scckey=MV||138864\" onclick=\"smartLog(this,'a=RMTO&amp;dc=1MV&amp;pg=1&amp;at=link&amp;rc=10&amp;p=1&amp;r=1',event);\">리멤버</a></span> </div> </li> <li> <div class=\"inner_item\"> <span class=\"num_rank\">2</span> <span class=\"keyword_rank\"> <a class=\"link_txt\" href=\"?w=tot&amp;rtupcate=38&amp;f=38&amp;rtmaxcoll=1MV,EM1&amp;DA=1MV&amp;q=%EC%9E%90%EB%B0%B1&amp;scckey=MV||78417\" onclick=\"smartLog(this,'a=RMTO&amp;dc=1MV&amp;pg=1&amp;at=link&amp;rc=10&amp;p=1&amp;r=2',event);\">자백</a></span> </div> </li> <li> <div class=\"inner_item\"> <span class=\"num_rank\">3</span> <span class=\"keyword_rank\"> <a class=\"link_txt\" href=\"?w=tot&amp;rtupcate=38&amp;f=38&amp;rtmaxcoll=1MV,EM1&amp;DA=1MV&amp;q=%EB%8A%91%EB%8C%80%EC%82%AC%EB%83%A5&amp;scckey=MV||155115\" onclick=\"smartLog(this,'a=RMTO&amp;dc=1MV&amp;pg=1&amp;at=link&amp;rc=10&amp;p=1&amp;r=3',event);\">늑대사냥</a></span> </div> </li> <li> <div class=\"inner_item\"> <span class=\"num_rank\">4</span> <span class=\"keyword_rank\"> <a class=\"link_txt\" href=\"?w=tot&amp;rtupcate=38&amp;f=38&amp;rtmaxcoll=1MV,EM1&amp;DA=1MV&amp;q=20%EC%84%B8%EA%B8%B0%20%EC%86%8C%EB%85%80&amp;scckey=MV||153419\" onclick=\"smartLog(this,'a=RMTO&amp;dc=1MV&amp;pg=1&amp;at=link&amp;rc=10&amp;p=1&amp;r=4',event);\">20세기 소녀</a></span> </div> </li> <li> <div class=\"inner_item\"> <span class=\"num_rank\">5</span> <span class=\"keyword_rank\"> <a class=\"link_txt\" href=\"?w=tot&amp;rtupcate=38&amp;f=38&amp;rtmaxcoll=1MV,EM1&amp;DA=1MV&amp;q=%EB%B8%94%EB%9E%99%20%EC%95%84%EB%8B%B4&amp;scckey=MV||136859\" onclick=\"smartLog(this,'a=RMTO&amp;dc=1MV&amp;pg=1&amp;at=link&amp;rc=10&amp;p=1&amp;r=5',event);\">블랙 아담</a></span> </div> </li> </ol> <ol class=\"list_rank\"> <li> <div class=\"inner_item\"> <span class=\"num_rank\">6</span> <span class=\"keyword_rank\"> <a class=\"link_txt\" href=\"?w=tot&amp;rtupcate=38&amp;f=38&amp;rtmaxcoll=1MV,EM1&amp;DA=1MV&amp;q=%EC%9D%B8%EC%83%9D%EC%9D%80%20%EC%95%84%EB%A6%84%EB%8B%A4%EC%9B%8C&amp;scckey=MV||133709\" onclick=\"smartLog(this,'a=RMTO&amp;dc=1MV&amp;pg=1&amp;at=link&amp;rc=10&amp;p=1&amp;r=6',event);\">인생은 아름다워</a></span> </div> </li> <li> <div class=\"inner_item\"> <span class=\"num_rank\">7</span> <span class=\"keyword_rank\"> <a class=\"link_txt\" href=\"?w=tot&amp;rtupcate=38&amp;f=38&amp;rtmaxcoll=1MV,EM1&amp;DA=1MV&amp;q=%EA%B3%A0%EC%86%8D%EB%8F%84%EB%A1%9C%20%EA%B0%80%EC%A1%B1&amp;scckey=MV||154851\" onclick=\"smartLog(this,'a=RMTO&amp;dc=1MV&amp;pg=1&amp;at=link&amp;rc=10&amp;p=1&amp;r=7',event);\">고속도로 가족</a></span> </div> </li> <li> <div class=\"inner_item\"> <span class=\"num_rank\">8</span> <span class=\"keyword_rank\"> <a class=\"link_txt\" href=\"?w=tot&amp;rtupcate=38&amp;f=38&amp;rtmaxcoll=1MV,EM1&amp;DA=1MV&amp;q=%EA%B3%B5%EC%A1%B02%3A%20%EC%9D%B8%ED%84%B0%EB%82%B4%EC%85%94%EB%82%A0&amp;scckey=MV||147615\" onclick=\"smartLog(this,'a=RMTO&amp;dc=1MV&amp;pg=1&amp;at=link&amp;rc=10&amp;p=1&amp;r=8',event);\">공조2: 인터내셔날</a></span> </div> </li> <li> <div class=\"inner_item\"> <span class=\"num_rank\">9</span> <span class=\"keyword_rank\"> <a class=\"link_txt\" href=\"?w=tot&amp;rtupcate=38&amp;f=38&amp;rtmaxcoll=1MV,EM1&amp;DA=1MV&amp;q=%EA%B7%B8%20%EB%82%A8%EC%9E%90%2C%20%EC%A2%8B%EC%9D%80%20%EA%B0%84%ED%98%B8%EC%82%AC&amp;scckey=MV||139370\" onclick=\"smartLog(this,'a=RMTO&amp;dc=1MV&amp;pg=1&amp;at=link&amp;rc=10&amp;p=1&amp;r=9',event);\">그 남자, 좋은 간호사</a></span> </div> </li> <li> <div class=\"inner_item\"> <span class=\"num_rank\">10</span> <span class=\"keyword_rank\"> <a class=\"link_txt\" href=\"?w=tot&amp;rtupcate=38&amp;f=38&amp;rtmaxcoll=1MV,EM1&amp;DA=1MV&amp;q=%EB%B0%94%EC%9D%B4%EC%84%BC%ED%85%8C%EB%8B%88%EC%96%BC%20%EB%A7%A8&amp;scckey=MV||1903\" onclick=\"smartLog(this,'a=RMTO&amp;dc=1MV&amp;pg=1&amp;at=link&amp;rc=10&amp;p=1&amp;r=10',event);\">바이센테니얼 맨</a></span> </div> </li> </ol> </div> </div> </div>\n",
       "</div>\n",
       "<div class=\"g_comp_s\" disp-attr=\"TOG\">\n",
       "<div class=\"content_commend\"> <div class=\"coll_tit\"> <h2 class=\"tit\">같이가치 추천글</h2> </div> <div class=\"coll_cont\"> <ul class=\"list_major\"> <li> <a class=\"link_major\" href=\"https://together.kakao.com/fundraisings/96921/news?content_id=110914\" onclick=\"smartLog(this,'dc=TOG&amp;d=toget-fundraising_project_news-110914&amp;rc=10&amp;at=link&amp;pg=1&amp;p=1&amp;r=1',event);\" target=\"_blank\">마음 치유 나만의 꽃바구니 만들기</a> </li> <li> <a class=\"link_major\" href=\"https://together.kakao.com/fundraisings/100596/story\" onclick=\"smartLog(this,'dc=TOG&amp;d=toget-fundraising_project-100596&amp;rc=10&amp;at=link&amp;pg=1&amp;p=1&amp;r=2',event);\" target=\"_blank\">우리 이웃에게 편안한 주거 환경을 선물해주세요!</a> </li> <li> <a class=\"link_major\" href=\"https://together.kakao.com/fundraisings/100898/story\" onclick=\"smartLog(this,'dc=TOG&amp;d=toget-fundraising_project-100898&amp;rc=10&amp;at=link&amp;pg=1&amp;p=1&amp;r=3',event);\" target=\"_blank\">우리 손주를 위해 다시 학부모가 됩니다</a> </li> <li> <a class=\"link_major\" href=\"https://together.kakao.com/fundraisings/100438/story\" onclick=\"smartLog(this,'dc=TOG&amp;d=toget-fundraising_project-100438&amp;rc=10&amp;at=link&amp;pg=1&amp;p=1&amp;r=4',event);\" target=\"_blank\">모두가 김-치할 수 있는 따뜻한 겨울을 선물해요</a> </li> <li> <a class=\"link_major\" href=\"https://together.kakao.com/fundraisings/100563/story\" onclick=\"smartLog(this,'dc=TOG&amp;d=toget-fundraising_project-100563&amp;rc=10&amp;at=link&amp;pg=1&amp;p=1&amp;r=5',event);\" target=\"_blank\">설날 愛 함께하겠소!</a> </li> <li> <a class=\"link_major\" href=\"https://together.kakao.com/fundraisings/100613/story\" onclick=\"smartLog(this,'dc=TOG&amp;d=toget-fundraising_project-100613&amp;rc=10&amp;at=link&amp;pg=1&amp;p=1&amp;r=6',event);\" target=\"_blank\">연탄은 '생존' 에너지입니다</a> </li> <li> <a class=\"link_major\" href=\"https://together.kakao.com/fundraisings/100682/story\" onclick=\"smartLog(this,'dc=TOG&amp;d=toget-fundraising_project-100682&amp;rc=10&amp;at=link&amp;pg=1&amp;p=1&amp;r=7',event);\" target=\"_blank\">따뜻한 이불 한 장은 어르신의 한파를 이겨내는 힘입니다</a> </li> <li> <a class=\"link_major\" href=\"https://together.kakao.com/fundraisings/100761/story\" onclick=\"smartLog(this,'dc=TOG&amp;d=toget-fundraising_project-100761&amp;rc=10&amp;at=link&amp;pg=1&amp;p=1&amp;r=8',event);\" target=\"_blank\">양심의 호루라기를 기록하다</a> </li> <li> <a class=\"link_major\" href=\"https://together.kakao.com/fundraisings/100553/story\" onclick=\"smartLog(this,'dc=TOG&amp;d=toget-fundraising_project-100553&amp;rc=10&amp;at=link&amp;pg=1&amp;p=1&amp;r=9',event);\" target=\"_blank\">한 쪽 눈을 실명한 늦깎이 탈북학생을 응원해 주세요</a> </li> <li> <a class=\"link_major\" href=\"https://together.kakao.com/fundraisings/100446/story\" onclick=\"smartLog(this,'dc=TOG&amp;d=toget-fundraising_project-100446&amp;rc=10&amp;at=link&amp;pg=1&amp;p=1&amp;r=10',event);\" target=\"_blank\">홀몸 어르신의 밥상에는 김치마저 진수성찬입니다</a> </li> </ul> </div> </div>\n",
       "</div>\n",
       "<div style=\"display:block;overflow:hidden;height:0;clear:both;font-size:0;line-height:0;visibility:hidden;\">\\00f0</div>\n",
       "</aside>\n",
       "</div>\n",
       "<a class=\"aside_quick\" href=\"javascript:;\">맨위로<span class=\"ico_rwd\"></span></a>\n",
       "</article>\n",
       "<footer id=\"daumFoot\">\n",
       "<div class=\"inner_footer\" id=\"innerFooter\">\n",
       "<div id=\"suggestFooter\">\n",
       "<form class=\"d_sch\" id=\"daumSearchFoot\" method=\"get\" name=\"search1\">\n",
       "<fieldset class=\"fld_total\">\n",
       "<legend class=\"screen_out\">검색폼</legend>\n",
       "<input name=\"nil_ch\" type=\"hidden\" value=\"\"/>\n",
       "<input name=\"rtupcoll\" type=\"hidden\" value=\"\"/>\n",
       "<input name=\"nil_suggest\" type=\"hidden\" value=\"btn\"/>\n",
       "<input name=\"DA\" type=\"hidden\" value=\"MEK\"/>\n",
       "<input name=\"w\" type=\"hidden\" value=\"news\"/>\n",
       "<input name=\"sq\" type=\"hidden\" value=\"\"/>\n",
       "<input name=\"o\" type=\"hidden\" value=\"\"/>\n",
       "<input name=\"sugo\" type=\"hidden\" value=\"\"/>\n",
       "<input name=\"m\" type=\"hidden\" value=\"\"/>\n",
       "<div class=\"box_searchbar\">\n",
       "<div class=\"inner_searchbar\">\n",
       "<input autocomplete=\"off\" class=\"tf_keyword\" id=\"q1\" name=\"q\" title=\"검색어 입력\" type=\"text\" value=\"한국\"/>\n",
       "<button class=\"btn_reset\" id=\"btnResetFooter\" onclick=\"smartLog(this, 'pg=1&amp;p=2&amp;r=1&amp;rc=1&amp;dc=MEK&amp;at=func',event);\" type=\"button\">\n",
       "<span class=\"ico_ksearch\">입력삭제</span>\n",
       "</button>\n",
       "<button class=\"ico_ksearch btn_ksearch\" id=\"schFooterSubmitBtn\" type=\"submit\"><span class=\"ir_wa\">검색</span></button>\n",
       "</div>\n",
       "</div>\n",
       "</fieldset>\n",
       "</form>\n",
       "<div class=\"wrap_suggestBox\"><div class=\"suggestBox box_sub reverseType\" id=\"schFooterSuggestBox\"></div></div>\n",
       "</div>\n",
       "<script type=\"text/javascript\">\n",
       "(function(){\n",
       "var footerSearchModule = new SF.FooterSearchForm();\n",
       "footerSearchModule.init();\n",
       "})();\n",
       "</script>\n",
       "<div class=\"footer_comm\">\n",
       "<a class=\"link_info\" href=\"http://daumsearch.tistory.com\" onclick=\"smartLog(this, 'pg=1&amp;p=10&amp;dc=CCC&amp;r=1', event);\" target=\"_blank\">검색블로그</a><span class=\"txt_bar\">|</span>\n",
       "<a class=\"link_info\" href=\"https://cs.daum.net/faq/15/15649.html\" onclick=\"smartLog(this, 'pg=1&amp;p=15&amp;dc=CCC&amp;r=1', event);\" target=\"_blank\">검색원칙</a><span class=\"txt_bar\">|</span>\n",
       "<a class=\"link_info\" href=\"https://register.search.daum.net/\" onclick=\"smartLog(this, 'pg=1&amp;p=9&amp;dc=CCC&amp;r=1', event);\" target=\"_blank\">사이트 등록 신청</a><span class=\"txt_bar\">|</span>\n",
       "<a class=\"link_info\" href=\"https://mystore.kakao.com/m/?t_src=pc_daumsearch&amp;t_ch=pc_footer\" onclick=\"smartLog(this, 'pg=1&amp;p=14&amp;dc=CCC&amp;r=1', event);\" target=\"_blank\">카카오맵 매장관리</a><span class=\"txt_bar\">|</span>\n",
       "<a class=\"link_info\" href=\"https://with.kakao.com/search\" onclick=\"smartLog(this, 'pg=1&amp;p=12&amp;dc=CCC&amp;r=1', event);\" target=\"_blank\">검색제휴</a><span class=\"txt_bar\">|</span>\n",
       "<a class=\"link_info\" href=\"https://business.kakao.com/info/keywordad\" onclick=\"smartLog(this, 'pg=1&amp;p=2&amp;dc=CCC&amp;r=1', event);\" target=\"_blank\">키워드광고</a><span class=\"txt_bar\">|</span>\n",
       "<a class=\"link_info\" href=\"http://local.biz.daum.net/\" onclick=\"smartLog(this, 'pg=1&amp;p=3&amp;dc=CCC&amp;r=1', event);\" target=\"_blank\">로컬광고</a><span class=\"txt_bar\">|</span>\n",
       "<a class=\"link_info\" href=\"https://business.kakao.com/info/crossmedia\" onclick=\"smartLog(this, 'pg=1&amp;p=8&amp;dc=CCC&amp;r=1', event);\" target=\"_blank\">크로스미디어</a><span class=\"txt_bar\">|</span>\n",
       "<a class=\"link_info\" href=\"http://cs.daum.net/faq/15.html\" onclick=\"smartLog(this, 'pg=1&amp;p=6&amp;dc=CCC&amp;r=1', event);\" target=\"_blank\">고객센터</a>\n",
       "<address class=\"copyright\">   ⓒ <a class=\"link_daum\" href=\"http://kakaocorp.com\" onclick=\"smartLog(this, 'pg=1&amp;p=11&amp;dc=CCC&amp;r=1', event);\" target=\"_blank\">Kakao Corp.</a></address>\n",
       "</div>\n",
       "</div>\n",
       "</footer>\n",
       "</article>\n",
       "<script type=\"text/javascript\">\n",
       "var __MiniDaumObj = null;\n",
       "var minidaum_options = null;\n",
       "(function() {\n",
       "minidaum_options = {\n",
       "bgType: \"\",\n",
       "enableLogoutRetun: true,\n",
       "disableHotissue: true,\n",
       "disableLogo: true,\n",
       "disableTracker: true,\n",
       "enableShield: false,\n",
       "returnUrl: [\n",
       "'https://',\n",
       "location.host,\n",
       "location.pathname,\n",
       "SF.changeUrlParam({DA: 'CDE'})\n",
       "].join('')\n",
       "};\n",
       "})();\n",
       "</script>\n",
       "<script async=\"\" charset=\"utf-8\" defer=\"\" src=\"//go.daum.net/minidaum_pc.daum\" type=\"text/javascript\"></script>\n",
       "<script type=\"text/javascript\">\n",
       "SF.CommonModule && SF.CommonModule.init && SF.CommonModule.init();\n",
       "</script>\n",
       "<script type=\"text/javascript\">\n",
       "(function(SF) {\n",
       "SF.tiaraTracker.trackPage();\n",
       "})(window.SF || {});\n",
       "</script>\n",
       "<script type=\"text/javascript\">\n",
       "window.roosevelt_params_queue = window.roosevelt_params_queue || [];\n",
       "window.roosevelt_params_queue.push({\n",
       "channel_id: \"dk\", channel_label: \"search\", keyword: window.topQuery\n",
       "});\n",
       "</script>\n",
       "<script async=\"\" src=\"//t1.daumcdn.net/midas/rt/dk_se/roosevelt_dk_se.js\" type=\"text/javascript\"></script>\n",
       "<script>\n",
       "(function(SF) {\n",
       "if (SF.compLogger && SF.compLogger.sendAllFromPage) {\n",
       "SF.compLogger.sendAllFromPage({\n",
       "ref: 'search'\n",
       "});\n",
       "}\n",
       "})(window.SF || {});\n",
       "</script>\n",
       "<!-- SA 삭제 -->\n",
       "<!-- end SA 삭제 -->\n",
       "</body>\n",
       "</html>"
      ]
     },
     "execution_count": 10,
     "metadata": {},
     "output_type": "execute_result"
    }
   ],
   "source": [
    "soup"
   ]
  },
  {
   "cell_type": "code",
   "execution_count": 12,
   "id": "997db958-7b3d-4e41-840d-64f5766f389f",
   "metadata": {},
   "outputs": [],
   "source": [
    "news_tit = soup.find_all(class_ = \"tit_main fn_tit_u\")"
   ]
  },
  {
   "cell_type": "code",
   "execution_count": 18,
   "id": "1aca8587-3fb9-470a-b837-71cd68e85185",
   "metadata": {},
   "outputs": [
    {
     "ename": "AttributeError",
     "evalue": "ResultSet object has no attribute 'text'. You're probably treating a list of elements like a single element. Did you call find_all() when you meant to call find()?",
     "output_type": "error",
     "traceback": [
      "\u001b[1;31m---------------------------------------------------------------------------\u001b[0m",
      "\u001b[1;31mAttributeError\u001b[0m                            Traceback (most recent call last)",
      "Input \u001b[1;32mIn [18]\u001b[0m, in \u001b[0;36m<cell line: 2>\u001b[1;34m()\u001b[0m\n\u001b[0;32m      1\u001b[0m news_tit[\u001b[38;5;241m0\u001b[39m]\u001b[38;5;241m.\u001b[39mtext\n\u001b[1;32m----> 2\u001b[0m \u001b[43mnews_tit\u001b[49m\u001b[38;5;241;43m.\u001b[39;49m\u001b[43mtext\u001b[49m()\n",
      "File \u001b[1;32m~\\anaconda3\\lib\\site-packages\\bs4\\element.py:2289\u001b[0m, in \u001b[0;36mResultSet.__getattr__\u001b[1;34m(self, key)\u001b[0m\n\u001b[0;32m   2287\u001b[0m \u001b[38;5;28;01mdef\u001b[39;00m \u001b[38;5;21m__getattr__\u001b[39m(\u001b[38;5;28mself\u001b[39m, key):\n\u001b[0;32m   2288\u001b[0m     \u001b[38;5;124;03m\"\"\"Raise a helpful exception to explain a common code fix.\"\"\"\u001b[39;00m\n\u001b[1;32m-> 2289\u001b[0m     \u001b[38;5;28;01mraise\u001b[39;00m \u001b[38;5;167;01mAttributeError\u001b[39;00m(\n\u001b[0;32m   2290\u001b[0m         \u001b[38;5;124m\"\u001b[39m\u001b[38;5;124mResultSet object has no attribute \u001b[39m\u001b[38;5;124m'\u001b[39m\u001b[38;5;132;01m%s\u001b[39;00m\u001b[38;5;124m'\u001b[39m\u001b[38;5;124m. You\u001b[39m\u001b[38;5;124m'\u001b[39m\u001b[38;5;124mre probably treating a list of elements like a single element. Did you call find_all() when you meant to call find()?\u001b[39m\u001b[38;5;124m\"\u001b[39m \u001b[38;5;241m%\u001b[39m key\n\u001b[0;32m   2291\u001b[0m     )\n",
      "\u001b[1;31mAttributeError\u001b[0m: ResultSet object has no attribute 'text'. You're probably treating a list of elements like a single element. Did you call find_all() when you meant to call find()?"
     ]
    }
   ],
   "source": [
    "news_tit[0].text\n",
    "news_tit.text()"
   ]
  },
  {
   "cell_type": "code",
   "execution_count": 19,
   "id": "16de65f0-7d6f-4458-990b-0b8ffd8110f9",
   "metadata": {},
   "outputs": [
    {
     "data": {
      "text/plain": [
       "['“한국에서 미국 주립대 학위 받아요.”',\n",
       " '한국 언론의 국제뉴스 보도, 이래서 문제다',\n",
       " '\"한국, 마약청정국 지위 7년전 이미 잃었다\"',\n",
       " '한국, 7년만에 日관함식 참석한다',\n",
       " '뉴델리서 선보인 한국전통 혼인잔치…한식페스타 개막',\n",
       " \"수출감소에 고물가·어닝쇼크…한국경제 성장 '빨간불'\",\n",
       " '\"세계공급망 재편은 기회…기업에 인센티브 줘야 한국 온다\"',\n",
       " '프랑스 매체 “한국-일본, 카타르 WC 조별리그 탈락 예상”',\n",
       " \"한류의 모든 것, 지구촌 함께한 '한국문화축제'\",\n",
       " '\\'근로자 사망 사고\\' 한국타이어 측 \"비정상적 방식 작업 이뤄져\"']"
      ]
     },
     "execution_count": 19,
     "metadata": {},
     "output_type": "execute_result"
    }
   ],
   "source": [
    "#[news_tit[i].text for i in range(len(news_tit))]\n",
    "[tit.text for tit in news_tit]"
   ]
  },
  {
   "cell_type": "code",
   "execution_count": 23,
   "id": "a038f73e-5d5c-4411-9cbd-e5f9a1d1febe",
   "metadata": {},
   "outputs": [
    {
     "data": {
      "text/plain": [
       "'http://v.media.daum.net/v/20221027030701102?f=o'"
      ]
     },
     "execution_count": 23,
     "metadata": {},
     "output_type": "execute_result"
    }
   ],
   "source": [
    "news_tit[0]\n",
    "news_tit[0]['href']"
   ]
  },
  {
   "cell_type": "code",
   "execution_count": 24,
   "id": "8f9379f8-8647-40a0-a2df-34f3e7367921",
   "metadata": {},
   "outputs": [
    {
     "name": "stdout",
     "output_type": "stream",
     "text": [
      "“한국에서 미국 주립대 학위 받아요.” : http://v.media.daum.net/v/20221027030701102?f=o\n",
      "한국 언론의 국제뉴스 보도, 이래서 문제다 : http://v.media.daum.net/v/20221027143509201?f=o\n",
      "\"한국, 마약청정국 지위 7년전 이미 잃었다\" : http://v.media.daum.net/v/20221027140023647?f=o\n",
      "한국, 7년만에 日관함식 참석한다 : http://v.media.daum.net/v/20221027173011503?f=o\n",
      "뉴델리서 선보인 한국전통 혼인잔치…한식페스타 개막 : http://v.media.daum.net/v/20221027135221387?f=o\n",
      "수출감소에 고물가·어닝쇼크…한국경제 성장 '빨간불' : http://v.media.daum.net/v/20221027102915396?f=o\n",
      "\"세계공급망 재편은 기회…기업에 인센티브 줘야 한국 온다\" : http://v.media.daum.net/v/20221027172102090?f=o\n",
      "프랑스 매체 “한국-일본, 카타르 WC 조별리그 탈락 예상” : http://v.media.daum.net/v/20221027160754692?f=o\n",
      "한류의 모든 것, 지구촌 함께한 '한국문화축제' : http://v.media.daum.net/v/20221027132010374?f=o\n",
      "'근로자 사망 사고' 한국타이어 측 \"비정상적 방식 작업 이뤄져\" : http://v.media.daum.net/v/20221027161959275?f=o\n"
     ]
    }
   ],
   "source": [
    "for tit in news_tit:\n",
    "    print(tit.text, ':', tit['href'])"
   ]
  },
  {
   "cell_type": "code",
   "execution_count": null,
   "id": "fb6ed327-47c5-4038-9f94-8403f8d416b0",
   "metadata": {},
   "outputs": [],
   "source": []
  },
  {
   "cell_type": "markdown",
   "id": "c11a5f1c-5dfe-40fc-978a-6e0b36855f06",
   "metadata": {},
   "source": [
    "#### find(class_ = ), find_all(class_ = )\n",
    "#### select_one(selector = ), select(selector = )\n",
    "'select_one' 은 찾은 html 중 '가장 첫번째 html' 을 가져오고, 'select' 는 '찾은 모든 html' 을 '리스트 형태' 로 반환한다<br>\n",
    "\n",
    "https://velog.io/@jisu0807/%EC%9B%B9%ED%81%AC%EB%A1%A4%EB%A7%81-BeautifulSoup%EC%97%90%EC%84%9C-find%EC%99%80-select-%EC%82%AC%EC%9A%A9%ED%95%98%EA%B8%B0"
   ]
  },
  {
   "cell_type": "code",
   "execution_count": 25,
   "id": "319bbf7c-f4b0-433f-b5dd-5be28499491c",
   "metadata": {},
   "outputs": [
    {
     "data": {
      "text/plain": [
       "<a class=\"tit_main fn_tit_u\" href=\"http://v.media.daum.net/v/20221027030701102?f=o\" onclick='smartLog(this, \"dc=NNS&amp;d=2621uJ6aLY2j43mVQX&amp;pg=1&amp;r=1&amp;p=4&amp;rc=10&amp;e1=16bOiOx4gG2S18EPLj&amp;e3=0&amp;ext=dsid=2621uJ6aLY2j43mVQX\", event, {\"cpid\": {\"value\": \"16bOiOx4gG2S18EPLj\"}});' target=\"_blank\">“<b>한국</b>에서 미국 주립대 학위 받아요.”</a>"
      ]
     },
     "execution_count": 25,
     "metadata": {},
     "output_type": "execute_result"
    }
   ],
   "source": [
    "soup.find(class_ = \"tit_main fn_tit_u\")"
   ]
  },
  {
   "cell_type": "code",
   "execution_count": 28,
   "id": "7e1e3239-8d70-41f9-a59f-4fe2f51fea20",
   "metadata": {},
   "outputs": [
    {
     "data": {
      "text/plain": [
       "<a class=\"tit_main fn_tit_u\" href=\"http://v.media.daum.net/v/20221027030701102?f=o\" onclick='smartLog(this, \"dc=NNS&amp;d=2621uJ6aLY2j43mVQX&amp;pg=1&amp;r=1&amp;p=4&amp;rc=10&amp;e1=16bOiOx4gG2S18EPLj&amp;e3=0&amp;ext=dsid=2621uJ6aLY2j43mVQX\", event, {\"cpid\": {\"value\": \"16bOiOx4gG2S18EPLj\"}});' target=\"_blank\">“<b>한국</b>에서 미국 주립대 학위 받아요.”</a>"
      ]
     },
     "execution_count": 28,
     "metadata": {},
     "output_type": "execute_result"
    }
   ],
   "source": [
    "soup.select_one(selector = \".tit_main.fn_tit_u\")"
   ]
  },
  {
   "cell_type": "code",
   "execution_count": 29,
   "id": "21cd295f-bc00-470e-8777-7fc45a9ff13e",
   "metadata": {
    "collapsed": true,
    "jupyter": {
     "outputs_hidden": true
    },
    "tags": []
   },
   "outputs": [
    {
     "data": {
      "text/plain": [
       "[<a class=\"tit_main fn_tit_u\" href=\"http://v.media.daum.net/v/20221027030701102?f=o\" onclick='smartLog(this, \"dc=NNS&amp;d=2621uJ6aLY2j43mVQX&amp;pg=1&amp;r=1&amp;p=4&amp;rc=10&amp;e1=16bOiOx4gG2S18EPLj&amp;e3=0&amp;ext=dsid=2621uJ6aLY2j43mVQX\", event, {\"cpid\": {\"value\": \"16bOiOx4gG2S18EPLj\"}});' target=\"_blank\">“<b>한국</b>에서 미국 주립대 학위 받아요.”</a>,\n",
       " <a class=\"tit_main fn_tit_u\" href=\"http://v.media.daum.net/v/20221027143509201?f=o\" onclick='smartLog(this, \"dc=NNS&amp;d=26Y4LqKJiTRpVn5ey4&amp;pg=1&amp;r=2&amp;p=4&amp;rc=10&amp;e1=16X5KwQDDYGM_ae2Qi&amp;e3=0&amp;ext=dsid=26Y4LqKJiTRpVn5ey4\", event, {\"cpid\": {\"value\": \"16X5KwQDDYGM_ae2Qi\"}});' target=\"_blank\"><b>한국</b> 언론의 국제뉴스 보도, 이래서 문제다</a>,\n",
       " <a class=\"tit_main fn_tit_u\" href=\"http://v.media.daum.net/v/20221027140023647?f=o\" onclick='smartLog(this, \"dc=NNS&amp;d=26NOdHBOR3tmojP8zP&amp;pg=1&amp;r=3&amp;p=4&amp;rc=10&amp;e1=16X5Xh1MWS7Qt1sMrW&amp;e3=0&amp;ext=dsid=26NOdHBOR3tmojP8zP\", event, {\"cpid\": {\"value\": \"16X5Xh1MWS7Qt1sMrW\"}});' target=\"_blank\">\"<b>한국</b>, 마약청정국 지위 7년전 이미 잃었다\"</a>,\n",
       " <a class=\"tit_main fn_tit_u\" href=\"http://v.media.daum.net/v/20221027173011503?f=o\" onclick='smartLog(this, \"dc=NNS&amp;d=263wgWH5D99U6qeTdU&amp;pg=1&amp;r=4&amp;p=4&amp;rc=10&amp;e1=16O8sbGdUflWYlfqu4&amp;e3=0&amp;ext=dsid=263wgWH5D99U6qeTdU\", event, {\"cpid\": {\"value\": \"16O8sbGdUflWYlfqu4\"}});' target=\"_blank\"><b>한국</b>, 7년만에 日관함식 참석한다</a>,\n",
       " <a class=\"tit_main fn_tit_u\" href=\"http://v.media.daum.net/v/20221027135221387?f=o\" onclick='smartLog(this, \"dc=NNS&amp;d=269OR90o2KYI6ioiZ-&amp;pg=1&amp;r=5&amp;p=4&amp;rc=10&amp;e1=16X5Xh1MWS7Qt1sMrW&amp;e3=0&amp;ext=dsid=269OR90o2KYI6ioiZ-\", event, {\"cpid\": {\"value\": \"16X5Xh1MWS7Qt1sMrW\"}});' target=\"_blank\">뉴델리서 선보인 <b>한국</b>전통 혼인잔치…한식페스타 개막</a>,\n",
       " <a class=\"tit_main fn_tit_u\" href=\"http://v.media.daum.net/v/20221027102915396?f=o\" onclick='smartLog(this, \"dc=NNS&amp;d=26lkGpLoXu0R1S60XJ&amp;pg=1&amp;r=6&amp;p=4&amp;rc=10&amp;e1=16X5Xh1MWS7Qt1sMrW&amp;e3=0&amp;ext=dsid=26lkGpLoXu0R1S60XJ\", event, {\"cpid\": {\"value\": \"16X5Xh1MWS7Qt1sMrW\"}});' target=\"_blank\">수출감소에 고물가·어닝쇼크…<b>한국</b>경제 성장 '빨간불'</a>,\n",
       " <a class=\"tit_main fn_tit_u\" href=\"http://v.media.daum.net/v/20221027172102090?f=o\" onclick='smartLog(this, \"dc=NNS&amp;d=26ANeQ-3hIbKHbCRYB&amp;pg=1&amp;r=7&amp;p=4&amp;rc=10&amp;e1=16O8sbGdUflWYlfqu4&amp;e3=0&amp;ext=dsid=26ANeQ-3hIbKHbCRYB\", event, {\"cpid\": {\"value\": \"16O8sbGdUflWYlfqu4\"}});' target=\"_blank\">\"세계공급망 재편은 기회…기업에 인센티브 줘야 <b>한국</b> 온다\"</a>,\n",
       " <a class=\"tit_main fn_tit_u\" href=\"http://v.media.daum.net/v/20221027160754692?f=o\" onclick='smartLog(this, \"dc=NNS&amp;d=26Bhqx7Fd4VNA2qL4G&amp;pg=1&amp;r=8&amp;p=4&amp;rc=10&amp;e1=16EYSMhnbuylgdbAfU&amp;e3=0&amp;ext=dsid=26Bhqx7Fd4VNA2qL4G\", event, {\"cpid\": {\"value\": \"16EYSMhnbuylgdbAfU\"}});' target=\"_blank\">프랑스 매체 “<b>한국</b>-일본, 카타르 WC 조별리그 탈락 예상”</a>,\n",
       " <a class=\"tit_main fn_tit_u\" href=\"http://v.media.daum.net/v/20221027132010374?f=o\" onclick='smartLog(this, \"dc=NNS&amp;d=26986UPw-19DqILjRs&amp;pg=1&amp;r=9&amp;p=4&amp;rc=10&amp;e1=16D_CSGigLDafrbBvU&amp;e3=0&amp;ext=dsid=26986UPw-19DqILjRs\", event, {\"cpid\": {\"value\": \"16D_CSGigLDafrbBvU\"}});' target=\"_blank\">한류의 모든 것, 지구촌 함께한 '<b>한국</b>문화축제'</a>,\n",
       " <a class=\"tit_main fn_tit_u\" href=\"http://v.media.daum.net/v/20221027161959275?f=o\" onclick='smartLog(this, \"dc=NNS&amp;d=26al4Ni0ikF_KR1dXG&amp;pg=1&amp;r=10&amp;p=4&amp;rc=10&amp;e1=16X5Xh1MWS7Qt1sMrW&amp;e3=0&amp;ext=dsid=26al4Ni0ikF_KR1dXG\", event, {\"cpid\": {\"value\": \"16X5Xh1MWS7Qt1sMrW\"}});' target=\"_blank\">'근로자 사망 사고' <b>한국</b>타이어 측 \"비정상적 방식 작업 이뤄져\"</a>]"
      ]
     },
     "execution_count": 29,
     "metadata": {},
     "output_type": "execute_result"
    }
   ],
   "source": [
    "soup.select(selector = \".tit_main.fn_tit_u\")"
   ]
  },
  {
   "cell_type": "code",
   "execution_count": null,
   "id": "affc09cc-6995-43a9-983f-0bd269a7833f",
   "metadata": {},
   "outputs": [],
   "source": []
  },
  {
   "cell_type": "markdown",
   "id": "4ab28c28-6db9-4b35-97fc-f4871ed35dd3",
   "metadata": {},
   "source": [
    "#### * copy selector\n",
    "![image.png](attachment:7a32243c-6b92-48f0-bfdd-3521facc9df0.png)\n",
    "1. 뉴스 검색한 창에서 마우스 오른쪽 버튼 -> '검사'<br>\n",
    "2. 뉴스 제목 하나 클릭 -> 블럭 표시 되는 부분 아무곳이나 마우스 커서 두고 오른쪽 버튼<br>\n",
    "3. copy -> copy selector<br>\n",
    "\n",
    "특정 경로의 태그를 객체로 반환하고 싶을 때, find의 경우 반복적으로 코드를 작성해야 하는 반면, select는 직접 하위 경로를 지정할 수 있다"
   ]
  },
  {
   "cell_type": "code",
   "execution_count": 30,
   "id": "c771c778-c73f-46c4-9aac-259f8a58122e",
   "metadata": {},
   "outputs": [
    {
     "data": {
      "text/plain": [
       "[<a class=\"tit_main fn_tit_u\" href=\"http://v.media.daum.net/v/20221027030701102?f=o\" onclick='smartLog(this, \"dc=NNS&amp;d=2621uJ6aLY2j43mVQX&amp;pg=1&amp;r=1&amp;p=4&amp;rc=10&amp;e1=16bOiOx4gG2S18EPLj&amp;e3=0&amp;ext=dsid=2621uJ6aLY2j43mVQX\", event, {\"cpid\": {\"value\": \"16bOiOx4gG2S18EPLj\"}});' target=\"_blank\">“<b>한국</b>에서 미국 주립대 학위 받아요.”</a>]"
      ]
     },
     "execution_count": 30,
     "metadata": {},
     "output_type": "execute_result"
    }
   ],
   "source": [
    "soup.select(selector = \"#newsColl > div.cont_divider > ul > li:nth-child(1) > div.wrap_cont > a\")"
   ]
  },
  {
   "cell_type": "code",
   "execution_count": 32,
   "id": "be52394c-baa6-4cba-8874-7a620f84196b",
   "metadata": {},
   "outputs": [
    {
     "data": {
      "text/plain": [
       "[<li> <div class=\"wrap_thumb\" id=\"news_img_0\"> <a class=\"thumb_bf\" href=\"http://v.media.daum.net/v/20221027030701102?f=o\" onclick='smartLog(this, \"dc=NNS&amp;d=2621uJ6aLY2j43mVQX&amp;pg=1&amp;r=1&amp;p=1&amp;rc=10&amp;e1=16bOiOx4gG2S18EPLj&amp;e3=0&amp;ext=dsid=2621uJ6aLY2j43mVQX\", event, {\"cpid\": {\"value\": \"16bOiOx4gG2S18EPLj\"}});' target=\"_blank\"> <img alt=\"\" data-size=\"116x80\" height=\"80\" onerror=\"SF.errorImage(this)\" src=\"https://search4.kakaocdn.net/argon/232x160_85_c/K5aumQzAwFq0\" width=\"116\"/> </a> </div> <div class=\"wrap_cont\"> <a class=\"tit_main fn_tit_u\" href=\"http://v.media.daum.net/v/20221027030701102?f=o\" onclick='smartLog(this, \"dc=NNS&amp;d=2621uJ6aLY2j43mVQX&amp;pg=1&amp;r=1&amp;p=4&amp;rc=10&amp;e1=16bOiOx4gG2S18EPLj&amp;e3=0&amp;ext=dsid=2621uJ6aLY2j43mVQX\", event, {\"cpid\": {\"value\": \"16bOiOx4gG2S18EPLj\"}});' target=\"_blank\">“<b>한국</b>에서 미국 주립대 학위 받아요.”</a> <p class=\"tit_sub f_nb\">유타대 아시아캠퍼스 학생 제이미 클락</p> <p class=\"desc\">런던 킹스 칼리지로부터 입학 허가를 받았지만 그녀의 선택은 유타대였다. 입학할 당시 신종 코로나바이러스 감염증이 유행하였고 <b>한국</b>에서도 미국 명문 주립대 학위를 받을 수 있다는 사실을 알고 <b>한국</b>에 남았다. 그녀는 다중인격장애와 관련한 영상을 우연히 접한...</p> <span class=\"cont_info\"> <span class=\"f_nb\">동아일보</span> <span class=\"f_nb\">14시간전</span> <a class=\"f_nb\" href=\"http://v.media.daum.net/v/20221027030701102\" onclick='smartLog(this, \"dc=NNS&amp;d=2621uJ6aLY2j43mVQX&amp;pg=1&amp;r=1&amp;p=3&amp;rc=10&amp;e1=16bOiOx4gG2S18EPLj&amp;e3=0&amp;ext=dsid=2621uJ6aLY2j43mVQX\", event, {\"cpid\": {\"value\": \"16bOiOx4gG2S18EPLj\"}});' target=\"_blank\">다음뉴스</a> </span> <span id=\"newsSQC_t1_0\" style=\"display:none;\">10301^http://v.media.daum.net/v/20221027030701102?f=o^2621uJ6aLY2j43mVQX^news^mediaArticle^%ED%95%9C%EA%B5%AD^2621uJ6aLY2j43mVQX</span> </div> </li>]"
      ]
     },
     "execution_count": 32,
     "metadata": {},
     "output_type": "execute_result"
    }
   ],
   "source": [
    "soup.select(selector = \"#newsColl > div.cont_divider > ul > li:nth-child(1) > div.wrap_cont\")\n",
    "soup.select(selector = \"#newsColl > div.cont_divider > ul > li:nth-child(1)\")"
   ]
  },
  {
   "cell_type": "markdown",
   "id": "eae35d26-8365-4a02-aea7-9838fd812448",
   "metadata": {},
   "source": [
    "하지만 여러 개의 제목을 가져오기 위해서는 copy selector 기능만으로는 구현하기 힘들다<br>\n",
    "copy selector 기능은 하나의 특정한 요소를 찾을 때나, 선택자를 잘 모르겠을 때 사용하는 것이 좋다"
   ]
  },
  {
   "cell_type": "code",
   "execution_count": null,
   "id": "bd5a99d1-c9aa-4b92-890d-bc6744e8ba77",
   "metadata": {},
   "outputs": [],
   "source": []
  },
  {
   "cell_type": "markdown",
   "id": "52e8fbad-d377-46cf-b66e-3037b2e954f6",
   "metadata": {},
   "source": [
    "### ② 2페이지도 출력"
   ]
  },
  {
   "cell_type": "code",
   "execution_count": null,
   "id": "73f98ac9-8370-4d84-9610-1744ba044158",
   "metadata": {},
   "outputs": [],
   "source": [
    "#'첫 폐이지' 의 뉴스들의 제목과 링크를 추출하는 코드\n",
    "url = 'https://search.daum.net/search?nil_suggest=btn&w=news&DA=SBC&q=%ED%95%9C%EA%B5%AD'\n",
    "header = {'User-Agent' : \"Mozilla/5.0 (Windows NT 10.0; Win64; x64) AppleWebKit/537.36 (KHTML, like Gecko) Chrome/107.0.0.0 Safari/537.36\"}\n",
    "\n",
    "html = requests.get(url, headers = header).text\n",
    "soup = BeautifulSoup(html, 'lxml')\n",
    "news_tit = soup.find_all(class_ = \"tit_main fn_tit_u\")\n",
    "\n",
    "for tit in news_tit:\n",
    "    print(tit.text, ':', tit['href'])"
   ]
  },
  {
   "cell_type": "code",
   "execution_count": 42,
   "id": "e8c31bc3-b32d-40d2-8bf6-7a622d79cc6b",
   "metadata": {
    "tags": []
   },
   "outputs": [
    {
     "name": "stdout",
     "output_type": "stream",
     "text": [
      "https://search.daum.net/search?nil_suggest=btn&w=news&DA=SBC&q=%ED%95%9C%EA%B5%AD&p=1\n",
      "https://search.daum.net/search?nil_suggest=btn&w=news&DA=SBC&q=%ED%95%9C%EA%B5%AD&p=2\n",
      "https://search.daum.net/search?nil_suggest=btn&w=news&DA=SBC&q=%ED%95%9C%EA%B5%AD&p=3\n",
      "https://search.daum.net/search?nil_suggest=btn&w=news&DA=SBC&q=%ED%95%9C%EA%B5%AD&p=4\n",
      "https://search.daum.net/search?nil_suggest=btn&w=news&DA=SBC&q=%ED%95%9C%EA%B5%AD&p=5\n",
      "https://search.daum.net/search?nil_suggest=btn&w=news&DA=SBC&q=%ED%95%9C%EA%B5%AD&p=6\n",
      "https://search.daum.net/search?nil_suggest=btn&w=news&DA=SBC&q=%ED%95%9C%EA%B5%AD&p=7\n",
      "https://search.daum.net/search?nil_suggest=btn&w=news&DA=SBC&q=%ED%95%9C%EA%B5%AD&p=8\n",
      "https://search.daum.net/search?nil_suggest=btn&w=news&DA=SBC&q=%ED%95%9C%EA%B5%AD&p=9\n",
      "https://search.daum.net/search?nil_suggest=btn&w=news&DA=SBC&q=%ED%95%9C%EA%B5%AD&p=10\n"
     ]
    }
   ],
   "source": [
    "#페이지 숫자를 지정하여 출력해보자 -> url 끝에 '&p=' 를 붙여주자\n",
    "url1 = 'https://search.daum.net/search?nil_suggest=btn&w=news&DA=SBC&q=%ED%95%9C%EA%B5%AD&p='\n",
    "\n",
    "for i in range(1, 11):\n",
    "    url = url1 + str(i)\n",
    "    print(url)"
   ]
  },
  {
   "cell_type": "code",
   "execution_count": 43,
   "id": "32d040b9-50b6-41e5-b612-fe6743ee7a33",
   "metadata": {
    "collapsed": true,
    "jupyter": {
     "outputs_hidden": true
    },
    "tags": []
   },
   "outputs": [
    {
     "name": "stdout",
     "output_type": "stream",
     "text": [
      "“한국에서 미국 주립대 학위 받아요.” : http://v.media.daum.net/v/20221027030701102?f=o\n",
      "한국 언론의 국제뉴스 보도, 이래서 문제다 : http://v.media.daum.net/v/20221027143509201?f=o\n",
      "\"한국, 마약청정국 지위 7년전 이미 잃었다\" : http://v.media.daum.net/v/20221027140023647?f=o\n",
      "한국, 7년만에 日관함식 참석한다 : http://v.media.daum.net/v/20221027173011503?f=o\n",
      "뉴델리서 선보인 한국전통 혼인잔치…한식페스타 개막 : http://v.media.daum.net/v/20221027135221387?f=o\n",
      "수출감소에 고물가·어닝쇼크…한국경제 성장 '빨간불' : http://v.media.daum.net/v/20221027102915396?f=o\n",
      "\"세계공급망 재편은 기회…기업에 인센티브 줘야 한국 온다\" : http://v.media.daum.net/v/20221027172102090?f=o\n",
      "프랑스 매체 “한국-일본, 카타르 WC 조별리그 탈락 예상” : http://v.media.daum.net/v/20221027160754692?f=o\n",
      "한류의 모든 것, 지구촌 함께한 '한국문화축제' : http://v.media.daum.net/v/20221027132010374?f=o\n",
      "'근로자 사망 사고' 한국타이어 측 \"비정상적 방식 작업 이뤄져\" : http://v.media.daum.net/v/20221027161959275?f=o\n",
      "1page 입니다\n",
      "----------------------------------------------------------------------------------------------------\n",
      "\n",
      "손흥민이 카타르서 입을 수트, \"히어로-K11\" 한국축구 단복 공개 : http://v.media.daum.net/v/20221027115427402?f=o\n",
      "‘현대 한국’ 원년 1968년을 만나다…젊은 3김도 : http://v.media.daum.net/v/20221027112526107?f=o\n",
      "한국조선해양, 1년 만에 흑자전환…수주개선·환율상승 효과(종합) : http://v.media.daum.net/v/20221027160729679?f=o\n",
      "\"미, 러 원유 가격상한 계획 더 느슨하게 재검토…한국 동참\" : http://v.media.daum.net/v/20221027153602157?f=o\n",
      "한국마사회 ‘건전경마 주간’ 최초 운영 : http://v.media.daum.net/v/20221027163233931?f=o\n",
      "윤 정부 또 최하위권... 한국, 눈 떠보니 후진국 [소셜 코리아] : http://v.media.daum.net/v/20221027051800228?f=o\n",
      "외환·유동성 경고음...커지는 한국판 금융위기 공포감 : http://v.media.daum.net/v/20221026191150586?f=o\n",
      "일본판 '고등래퍼'가 낳은 스타 챤미나의 다음 목적지는 한국[플랫] : http://v.media.daum.net/v/20221026104914839?f=o\n",
      "3년만에 한국 감독들과 함께 막 올린 파리한국영화제 : http://v.media.daum.net/v/20221026053859993?f=o\n",
      "부산항만공사, 한국선박관리포럼 온라인 개최 : http://v.media.daum.net/v/20221027154155406?f=o\n",
      "2page 입니다\n",
      "----------------------------------------------------------------------------------------------------\n",
      "\n",
      "英 언론 \"손흥민 있는 한국, 카타르월드컵서 8강 가능\"…장밋빛 전망 : http://v.media.daum.net/v/20221027151220986?f=o\n",
      "히딩크도 찾아온 ‘한국의 닥터K’ : http://v.media.daum.net/v/20221027030437000?f=o\n",
      "동남아 ‘황제투어’ 즐긴 한국 남성…‘수억’ 뜯기고 망신[사건파일] : http://v.media.daum.net/v/20221027085402358?f=o\n",
      "전경련, 한국 법인세 제도 G5 국가 비해 경쟁력 ‘취약’ : https://cp.news.search.daum.net/p/124973797\n",
      "한국마사회, 국민의 스포츠 '한국마사회장배 승마대회' 성대한 마무리 : https://cp.news.search.daum.net/p/124992076\n",
      "한국 진단기기 고품질·저렴 평가…FIND \"5년간 한국에 수백억 투자\" : http://v.media.daum.net/v/20221026163620735?f=o\n",
      "조선대, 한국버섯학회 추계학술대회 개최 : http://v.media.daum.net/v/20221027155811157?f=o\n",
      "수영 은퇴 후 '코소보 차관'으로…\"한국에서 쌓은 전문성 큰 힘 됐죠\" : http://v.media.daum.net/v/20221027125127811?f=o\n",
      "한국노총, 특별연장근로 확대 비판…\"주 60시간 합법화\" : http://v.media.daum.net/v/20221027181011054?f=o\n",
      "[논담] \"한국형 3축 체계 한계... 우리 최종 목표는 나토식 핵 공유 돼야\" : http://v.media.daum.net/v/20221027160049338?f=o\n",
      "3page 입니다\n",
      "----------------------------------------------------------------------------------------------------\n",
      "\n",
      "“한국의 ‘산티아고 순례길’ 만드는 게 목표입니다” : http://v.media.daum.net/v/20221027030331939?f=o\n",
      "'겨우 흑자 전환했더니' 한국조선해양, 노조 파업 임박 : http://v.media.daum.net/v/20221027163739182?f=o\n",
      "[더 특별한 고등학교] 농업에 새로운 가치를 불어넣다. 한국미래농업고등학교 : http://v.media.daum.net/v/20221027105009277?f=o\n",
      "\"한국, 여행하기 좋아요\"...활기 찾는 거리, 상인들 기대감도 : http://v.media.daum.net/v/20221027061610976?f=o\n",
      "\"OECD 한국NCP, '크레인 충돌사고' 삼성중공업에 면죄부\" : http://v.media.daum.net/v/20221027154501527?f=o\n",
      "\"인니, 전자상거래 급성장에도 물류산업 낙후…한국 기술 필요\" : http://v.media.daum.net/v/20221026160049035?f=o\n",
      "\"한국 패션 강점은 기술력·이노베이션.. 디자이너 김민주·이상봉에 관심\" : http://v.media.daum.net/v/20221026100116872?f=o\n",
      "한국NFT공인인증원, 한국YMCA와 60만 불 기술수주 계약체결 : https://cp.news.search.daum.net/p/124971064\n",
      "한국타이어, 안전한 등하굣길 지원 나선다 : http://v.media.daum.net/v/20221027101540843?f=o\n",
      "민주당 \"김진태發 금융위기\" 맹폭…'한국은행 역할론' 강조 : http://v.media.daum.net/v/20221026171711420?f=o\n",
      "4page 입니다\n",
      "----------------------------------------------------------------------------------------------------\n",
      "\n",
      "정부, ‘2023 한국방문의 해’ 추진...K-컬처와 융합한 K-관광 기대 : http://v.media.daum.net/v/20221027171934036?f=o\n",
      "한국시리즈에서도 ‘SSG 신구조화’ 빛날까 : http://v.media.daum.net/v/20221026170542908?f=o\n",
      "2022 한국의 맛, 룩셈부르크에 퍼지다 : https://cp.news.search.daum.net/p/124972640\n",
      "한국제약바이오협회, '바이오 유럽 2022' 참가 : http://v.media.daum.net/v/20221027111220461?f=o\n",
      "베를린서 한국독립영화제…개막작 <최선의 삶> : http://v.media.daum.net/v/20221027155007784?f=o\n",
      "이정후·고우석·김하성에 놀란 日 수장, \"예전 한국이 아니야\" : http://v.media.daum.net/v/20221027170005188?f=o\n",
      "정성장 센터장 \"한국 독자적 핵무장, 미국 설득할 논리 개발해야\" : https://cp.news.search.daum.net/p/124978447\n",
      "2022 세계축제협회 한국지부 연차총회 진주서 성황리 개최 : http://v.media.daum.net/v/20221027174200982?f=o\n",
      "주영창 과기부 혁신본부장 \"몽골 ICT 발전, 한국이 돕겠다\" : http://v.media.daum.net/v/20221027160016271?f=o\n",
      "주튀르키예 한국문화원, K- 뷰티 행사로 한류 콘텐츠 매력 확산 이어가 : http://v.media.daum.net/v/20221027173548727?f=o\n",
      "5page 입니다\n",
      "----------------------------------------------------------------------------------------------------\n",
      "\n",
      "한국로봇산업협회, 한국전지산업협회와 협력체계 구축 : https://cp.news.search.daum.net/p/124980370\n",
      "한국필립모리스 ‘아이코스 일루마 시리즈’ 출시 : http://v.media.daum.net/v/20221027174921220?f=o\n",
      "한국갯벌 절반만 세계자연유산…“등재 늘려 생태계 보호” : http://v.media.daum.net/v/20221027070517582?f=o\n",
      "한수원 원전 수출 제동 건 웨스팅하우스...과기부 1차관 \"한국 핵심 기술 자립\" : http://v.media.daum.net/v/20221027080328353?f=o\n",
      "한국마사회, ‘2022 대한민국 농업박람회’에서 ‘말산업관’ 선보여 : http://v.media.daum.net/v/20221027145543184?f=o\n",
      "문체부 ‘독서경영 우수직장’ 대상에 한국콜마 : http://v.media.daum.net/v/20221027103910831?f=o\n",
      "조폐공사, 한국의 대표 화가 ‘박수근’기념메달 출시 : http://v.media.daum.net/v/20221027091712219?f=o\n",
      "한국제약바이오협회 “채용박람회, 구직자-기업 모두 만족” 外 : https://cp.news.search.daum.net/p/124995873\n",
      "알리바바 클라우드, 한국인디게임협회와 게임 개발사 지원 : http://v.media.daum.net/v/20221027114231966?f=o\n",
      "베트남 떠나는 박항서 \"한국에서 감독할 생각 없다\" : http://v.media.daum.net/v/20221026133044578?f=o\n",
      "6page 입니다\n",
      "----------------------------------------------------------------------------------------------------\n",
      "\n",
      "혁신진단기기재단 CEO \"한국 진단기술 세계 확장에 자금지원\" : http://v.media.daum.net/v/20221026163149525?f=o\n",
      "2022 한국소비자만족지수 1위(3) : http://v.media.daum.net/v/20221025110139855?f=o\n",
      "[독서경영 대상-한국콜마]독후감 안 쓰면 승진 누락···\"이제는 사내 핵심 가치\" : http://v.media.daum.net/v/20221027170114278?f=o\n",
      "한국자동차기자협회, 자율주행차 상용화 주제로 심포지엄 개최 : http://v.media.daum.net/v/20221027141132108?f=o\n",
      "20년 만에 한국 돌아온 Y2K 코지 \"형 유이치와는 각자의 길\" [일문일답] : http://v.media.daum.net/v/20221026150601523?f=o\n",
      "'원챔피언십' 한국 격투기 전설 함서희, 日 리얼리티 프로그램 스타와 대결 : http://v.media.daum.net/v/20221027145801287?f=o\n",
      "[D:방송 뷰] \"한류 스타의 로맨스 없어도 괜찮아\"…달라진 한국드라마 흥행 공식 : http://v.media.daum.net/v/20221027124722763?f=o\n",
      "‘한국 선교’ 대 이은 도지 아펜젤러, 근대교육 헌신하며 사회복지 초석 : http://v.media.daum.net/v/20221027030712115?f=o\n",
      "방콕 달군 K-게임... 태국게임쇼 2022, 한국공동관 이목 집중 : http://v.media.daum.net/v/20221027092704591?f=o\n",
      "한국천주교회, 난민 문제 논의 본격화..\"공론화 장 필요한 때\" : http://v.media.daum.net/v/20221026104810795?f=o\n",
      "7page 입니다\n",
      "----------------------------------------------------------------------------------------------------\n",
      "\n",
      "세계 최고 화이트 해커들, 한국서 실력 겨눈다 : http://v.media.daum.net/v/20221027172715382?f=o\n",
      "뉴질랜드 삼형제, 한국 놀이공원 탐방(어서와 한국은 처음이지) : http://v.media.daum.net/v/20221027102701325?f=o\n",
      "3분기 한국 경제 0.3% 성장···민간소비 덕봤지만 ‘앞으로가 걱정’ : http://v.media.daum.net/v/20221027160459547?f=o\n",
      "\"감염병, 현 세대 제1 과제…한국은 글로벌 파트너 핵심\" : http://v.media.daum.net/v/20221026161839926?f=o\n",
      "한국반도체산업협회 '제13회 반도체의 날' 개최 : http://v.media.daum.net/v/20221027180016678?f=o\n",
      "독일 내 울려 퍼지는 한류 [세계 속 한국] : http://v.media.daum.net/v/20221027181014055?f=o\n",
      "한국화웨이, 국내 엔터프라이즈 파트너사와 ‘화웨이 IP 클럽·IT 데이’ 개최 : http://v.media.daum.net/v/20221027103536710?f=o\n",
      "한국타이어, 2022 어린이 교통안전 캠페인 마련 : http://v.media.daum.net/v/20221027124306712?f=o\n",
      "IMF \"한국 경제 펀더멘탈 튼튼..커진 공공부채는 아킬레스건\" : http://v.media.daum.net/v/20221025173007587?f=o\n",
      "한국IDC \"국내 프린터·복합기 올 상반기 92만 대 출하\" : http://v.media.daum.net/v/20221027110154890?f=o\n",
      "8page 입니다\n",
      "----------------------------------------------------------------------------------------------------\n",
      "\n",
      "원전 생태계 복원 본격 추진한다…·한국형 100대 기술 집중육성 : http://v.media.daum.net/v/20221026163007432?f=o\n",
      "[단독] '고든 램지' 한국 온다…피자 국내 마케팅 '총력' [한경제의 신선한 경제] : http://v.media.daum.net/v/20221027145501146?f=o\n",
      "'노동운동 원로' 김금수 한국노동사회연구소 명예이사장 별세 : http://v.media.daum.net/v/20221025153342948?f=o\n",
      "한국노총 위원장 \"김문수, 또 분란 일으키면 대통령 책임\" : http://v.media.daum.net/v/20221025103023305?f=o\n",
      "\"국학은 골동품이 아닙니다\"…한국국학진흥원 'K-유교문화' 산실로 : http://v.media.daum.net/v/20221026174541352?f=o\n",
      "한국외대, 2022 아세안 청년 커리어 멘토쉽 공동 개최 : http://v.media.daum.net/v/20221027142714842?f=o\n",
      "구례군-한국 해비타트 저소득가구 새집 선물 : http://v.media.daum.net/v/20221027090939925?f=o\n",
      "한국TOEIC위원회, TOEIC 한국 시행 40주년 기념 세미나 성료 : https://cp.news.search.daum.net/p/124995594\n",
      "첫 가을야구가 한국시리즈···SSG 오원석 “긴장 반, 설렘 반이죠” : http://v.media.daum.net/v/20221027085924474?f=o\n",
      "한국남부발전 반부패 청렴문화 확산 나서 : http://v.media.daum.net/v/20221027164153397?f=o\n",
      "9page 입니다\n",
      "----------------------------------------------------------------------------------------------------\n",
      "\n",
      "IB 프로그램 도입, 한국교육 혁신 해법으로 주목 : http://v.media.daum.net/v/20221027030747133?f=o\n",
      "한국JC, 대통령실 국민통합비서관과 환담 : http://v.media.daum.net/v/20221026182516604?f=o\n",
      "IAEA 회의 참석 과기 차관 “한국, 원전 적극 활용 계획” : http://v.media.daum.net/v/20221027103847811?f=o\n",
      "노동계 빠진 탄소녹색위…한국노총 \"전면 재구성하라\" : http://v.media.daum.net/v/20221026170733998?f=o\n",
      "한국농수산식품유통공사, 연말 김 수출확대 총력 대응 : http://v.media.daum.net/v/20221027010738590?f=o\n",
      "中 관영지 \"한국 사이버 방어훈련 참가, 북한 자극해 긴장 고조\" : http://v.media.daum.net/v/20221026105244011?f=o\n",
      "[인터뷰]세계를 호령한 韓 핸드볼, 김진순 감독 \"이게 바로 한국의 핸드볼\" : http://v.media.daum.net/v/20221027081702595?f=o\n",
      "박항서 “1년만 버티자던게 5년… 한국 감독 안 해” : http://v.media.daum.net/v/20221027040412263?f=o\n",
      "[과학게시판] 한국전기연구원(KERI) 창립 46주년 기념식 개최 外 : http://v.media.daum.net/v/20221027173022518?f=o\n",
      "대기업 R&D 세액공제율, G5 평균 17.6%… 한국은 최대 2% : http://v.media.daum.net/v/20221027060117726?f=o\n",
      "10page 입니다\n",
      "----------------------------------------------------------------------------------------------------\n",
      "\n"
     ]
    }
   ],
   "source": [
    "#10페이지의 뉴스 제목과 링크를 추출하는 코드\n",
    "url1 = 'https://search.daum.net/search?nil_suggest=btn&w=news&DA=SBC&q=%ED%95%9C%EA%B5%AD&p='\n",
    "header = {'User-Agent' : \"Mozilla/5.0 (Windows NT 10.0; Win64; x64) AppleWebKit/537.36 (KHTML, like Gecko) Chrome/107.0.0.0 Safari/537.36\"}\n",
    "\n",
    "for i in range(1, 11):\n",
    "    url = url1 + str(i)\n",
    "    html = requests.get(url, headers = header).text\n",
    "    soup = BeautifulSoup(html, 'lxml')\n",
    "    news_tit = soup.find_all(class_ = \"tit_main fn_tit_u\")\n",
    "    \n",
    "    for tit in news_tit:\n",
    "        print(tit.text, ':', tit['href'])\n",
    "    print(f\"{i}page 입니다\")\n",
    "    print('-' * 100)\n",
    "    print()"
   ]
  },
  {
   "cell_type": "code",
   "execution_count": 47,
   "id": "ee1561b4-4a7b-4255-bdf6-2afcd67625a2",
   "metadata": {},
   "outputs": [
    {
     "name": "stdin",
     "output_type": "stream",
     "text": [
      "검색어를 입력하세요: 손흥민\n"
     ]
    },
    {
     "name": "stdout",
     "output_type": "stream",
     "text": [
      "https://search.daum.net/search?nil_suggest=btn&w=news&DA=SBC&q=손흥민&p=3\n"
     ]
    }
   ],
   "source": [
    "#검색어를 직접 받아서 해당 검색어에 대한 링크를 추출한다면\n",
    "url1 = 'https://search.daum.net/search?nil_suggest=btn&w=news&DA=SBC&q='\n",
    "url2 = input('검색어를 입력하세요:')\n",
    "url3 = '&p='\n",
    "\n",
    "url = url1 + url2 + url3 + str(3)\n",
    "print(url)"
   ]
  },
  {
   "cell_type": "code",
   "execution_count": 48,
   "id": "00f392fb-4da4-4d20-a3bc-b34698d63cf2",
   "metadata": {
    "collapsed": true,
    "jupyter": {
     "outputs_hidden": true
    },
    "tags": []
   },
   "outputs": [
    {
     "name": "stdin",
     "output_type": "stream",
     "text": [
      "검색어를 입력하세요: 손흥민\n"
     ]
    },
    {
     "name": "stdout",
     "output_type": "stream",
     "text": [
      "‘손흥민 침묵+콘테 퇴장’ 토트넘 16강행 불투명 : http://v.media.daum.net/v/20221027080430365?f=o\n",
      "[단독] 편의점 CU, 손흥민 모델 발탁 : http://v.media.daum.net/v/20221027142945964?f=o\n",
      "한국산 ‘월클’의 희비… 김민재 잘 막고, 손흥민 못 넣고 : https://cp.news.search.daum.net/p/124996331\n",
      "'쏜살(SON+살라) 듀오' 탄생하나? 리버풀 손흥민 영입 추진 : http://v.media.daum.net/v/20221027121610262?f=o\n",
      "\"손흥민 있는 한국, 카타르 월드컵 8강 진출도 가능\" : https://cp.news.search.daum.net/p/124990731\n",
      "손흥민 고군분투했지만…”마무리와 드리블 능력 부족” : http://v.media.daum.net/v/20221027104355019?f=o\n",
      "김민재 웃고, 손흥민 울고…나폴리 챔스 5연승, 토트넘은 무승부 : http://v.media.daum.net/v/20221027133255720?f=o\n",
      "손흥민, 레알 이적 불가...이유는 레비 회장 : http://v.media.daum.net/v/20221027082504735?f=o\n",
      "손흥민 따로, 케인 따로...토트넘 패스맵 또 문제투성이 : http://v.media.daum.net/v/20221027100013044?f=o\n",
      "'연패는 끊었는데…' 손흥민과 토트넘, 아쉬웠던 무승부 : http://v.media.daum.net/v/20221027060001560?f=o\n",
      "1page 입니다\n",
      "----------------------------------------------------------------------------------------------------\n",
      "\n",
      "英 매체, \"손흥민 이적설? 토트넘은 걱정할 필요 없어\" : http://v.media.daum.net/v/20221027095008628?f=o\n",
      "손흥민의 토트넘, 스포르팅과 1-1...나폴리 김민재는 또 철기둥 : http://v.media.daum.net/v/20221027061203916?f=o\n",
      "손흥민이 카타르서 입을 수트, \"히어로-K11\" 한국축구 단복 공개 : http://v.media.daum.net/v/20221027115427402?f=o\n",
      "손흥민 이적? 케인 봤잖아!...포브스 \"SON은 토트넘을 떠나는 것을 잊어야\" : http://v.media.daum.net/v/20221027091656208?f=o\n",
      "'손흥민 침묵' 토트넘, 유럽챔스서 스포르팅과 1-1 무승부 : http://v.media.daum.net/v/20221027073832924?f=o\n",
      "김민재 앞세운 나폴리 레인저스에 3-0 승리…손흥민 토트넘 무승부 : http://v.media.daum.net/v/20221027102019056?f=o\n",
      "손흥민 4G 연속 골 침묵, 토트넘 스포르팅과 1대1 무승부 : http://v.media.daum.net/v/20221027055752541?f=o\n",
      "달리고 슈팅하고 ‘종횡무진’ 손흥민, 스포르팅전 평점 7.4점 : http://v.media.daum.net/v/20221027061451946?f=o\n",
      "처참한 토트넘...손흥민, 전반전 페널티박스 터치 '1회' : http://v.media.daum.net/v/20221027044656592?f=o\n",
      "‘슈팅 4차례 쏟아낸’ 손흥민, 스포르팅전 평점 6~7점대 : https://cp.news.search.daum.net/p/124972005\n",
      "2page 입니다\n",
      "----------------------------------------------------------------------------------------------------\n",
      "\n",
      "‘골 침묵’ 손흥민, 의외의 호평→‘평점 팀 내 3위 7.1점’ : http://v.media.daum.net/v/20221027082535752?f=o\n",
      "손흥민, 골키퍼로 향한 슈팅 4회…공격진 유일하게 활발했지만 : http://v.media.daum.net/v/20221027060843865?f=o\n",
      "'들어나 보자'...英 매체, 손흥민 레알 갈 경우 '대체자 5인 소개' : http://v.media.daum.net/v/20221027051506183?f=o\n",
      "[UCL D조] '손흥민 풀타임·벤탄쿠르 골' 토트넘, 스포르팅과 진땀 무승부 : http://v.media.daum.net/v/20221027055705536?f=o\n",
      "손흥민 이적 가능성 없는데도 언론들 “때가 됐다” : https://cp.news.search.daum.net/p/124974029\n",
      "[UCL REVIEW] '죽다 살아난' 토트넘, 스포르팅과 1-1 무... '손흥민 풀타임' : http://v.media.daum.net/v/20221027055705534?f=o\n",
      "‘슈퍼스타’ 손흥민, ‘뛰어난 재능’ 김민재…”16강 유력, 조 1위 가능” : http://v.media.daum.net/v/20221027062010000?f=o\n",
      "韓 WC 상대 우루과이 벤탄쿠르 골, 벤투호 수비 경계령... 손흥민은 침묵 : http://v.media.daum.net/v/20221027072329738?f=o\n",
      "손흥민 슛 선방에 막혔다…토트넘 무승부, 챔스 16강 확정 못해 : http://v.media.daum.net/v/20221027074300994?f=o\n",
      "골은 없었지만...역시 '공격의 선봉장' 손흥민, 평점 7.12→팀 3위 : http://v.media.daum.net/v/20221027060933876?f=o\n",
      "3page 입니다\n",
      "----------------------------------------------------------------------------------------------------\n",
      "\n",
      "손흥민 풀타임, '폭풍 드리블' : https://cp.news.search.daum.net/p/124979092\n",
      "英언론의 대흥분 “손흥민 리버풀 온다면 엄청난 활약 펼칠 것” : http://v.media.daum.net/v/20221027175605517?f=o\n",
      "손흥민, 토트넘 스포르팅과 1-1 무승부...UCL 16강 마지막까지 : https://cp.news.search.daum.net/p/124966467\n",
      "손흥민, 스포르팅 상대 침묵…팀은 무승부 : http://v.media.daum.net/v/20221027082505736?f=o\n",
      "'손흥민 풀타임' 토트넘, 스포르팅과 무승부 : http://v.media.daum.net/v/20221027082701773?f=o\n",
      "마네 보낸 리버풀, EPL 득점왕 손흥민 영입 준비 : http://v.media.daum.net/v/20221027000255109?f=o\n",
      "[전반 REVIEW] ‘손흥민 선발’ 토트넘, 스포르팅에 0-1 끌려가 (전반 종료) : http://v.media.daum.net/v/20221027044650589?f=o\n",
      "'레알 이적설' 손흥민, 이번엔 '리버풀행 가능성'까지 거론 : http://v.media.daum.net/v/20221026225205718?f=o\n",
      "'히샬리송 부상' 토트넘 경기일정·중계, 손흥민 예상선발라인업 : https://cp.news.search.daum.net/p/124952994\n",
      "'케인 이어 손흥민도' 계속되는 이적설, 토트넘 흔들린다는 증거 : http://v.media.daum.net/v/20221027001504263?f=o\n",
      "4page 입니다\n",
      "----------------------------------------------------------------------------------------------------\n",
      "\n",
      "토트넘, 손흥민 남기고 케인도 잡는다? : http://v.media.daum.net/v/20221027121500222?f=o\n",
      "'토트넘, 최소 2년 동안 손흥민 이적 고려 없다' : http://v.media.daum.net/v/20221027140800952?f=o\n",
      "[토트넘 경기일정] '손흥민 선발출전' 스포르팅 무승부...조 순위는? : https://cp.news.search.daum.net/p/124956432\n",
      "'나폴리 UCL 5연승, 압도적 활약' 김민재 평점 8점…손흥민은 7.12점 : https://cp.news.search.daum.net/p/124954347\n",
      "[라인업] 손흥민, 스포르팅전 선발 출격... 케인-모우라와 호흡 : http://v.media.daum.net/v/20221027030635078?f=o\n",
      "[UCL현장라인업]손흥민 스포르팅전 선발 출전! 토트넘 3-4-3 전형 + 페리시치 선발 : http://v.media.daum.net/v/20221027030024802?f=o\n",
      "'레알 이적설'에 이어...리버풀도 손흥민 원한다 : http://v.media.daum.net/v/20221026202009701?f=o\n",
      "'손흥민-케인-모우라' 3톱 가동...토트넘, 스포르팅전 선발 명단 공개 : http://v.media.daum.net/v/20221027031229158?f=o\n",
      "터키 매체 \"양현준, 페네르바체 경영진이 접촉 시도할 것\" : http://v.media.daum.net/v/20221027180906018?f=o\n",
      "UCL 앞둔 손흥민, 위기의 토트넘 구할까 : http://v.media.daum.net/v/20221026182233524?f=o\n",
      "5page 입니다\n",
      "----------------------------------------------------------------------------------------------------\n",
      "\n",
      "위기의 토트넘, 손흥민-케인 투톱+페리시치 윙백 전망 : http://v.media.daum.net/v/20221026193100841?f=o\n",
      "우울한 슈퍼컴퓨터 예측, 손흥민 UCL 탈락-황희찬 강등 : http://v.media.daum.net/v/20221027090450715?f=o\n",
      "토트넘 스포르팅 상대로 챔스 16강 진출 도전, 손흥민 두 경기 연속골 기대 : https://cp.news.search.daum.net/p/124952818\n",
      "‘제2의 손흥민 키운다’ 마포구, 어린이축구교실 선수 모집 : https://cp.news.search.daum.net/p/124972641\n",
      "오늘도 증명된 공식...페리시치 선발➞손흥민 침묵 : http://v.media.daum.net/v/20221027072558770?f=o\n",
      "[UCL 경기 중계] 토트넘 VS 스포르팅, 손흥민 챔스 통산 20호골 도전 : https://cp.news.search.daum.net/p/124952130\n",
      "PSG, B 뮌헨, R 마드리드의 손흥민 러브콜. 안첼로티의 감탄, 레알 마드리드의 급부상 : http://v.media.daum.net/v/20221026163230564?f=o\n",
      "[오피셜] '손흥민 다음은 메시 or 타레미?' 챔스 이주의 선수 후보 공개 : http://v.media.daum.net/v/20221027110931299?f=o\n",
      "[스포츠타임] UCL 16강 결정짓고 쉬어가자, 손흥민에게 떨어진 숙제 : http://v.media.daum.net/v/20221026180007793?f=o\n",
      "본머스-토트넘전 대상 축구토토 승무패 59회차 발매 : http://v.media.daum.net/v/20221027142048503?f=o\n",
      "6page 입니다\n",
      "----------------------------------------------------------------------------------------------------\n",
      "\n",
      "\"관심 충분해\".. 맨유-뮌헨-PSG-레알, 손흥민에게 적합한 4곳 : http://v.media.daum.net/v/20221027064018213?f=o\n",
      "‘손흥민 침묵+극장골 취소’ 토트넘, UCL 스포르팅과 무승부 : http://v.media.daum.net/v/20221027083251886?f=o\n",
      "도르트문트 시절 꿈 이루나...클롭, 손흥민 영입 고려 왜? : http://v.media.daum.net/v/20221027044932630?f=o\n",
      "SON 레벨 이거 맞아? '레알행 대비' 대체자 명단, 듣보 투성이 : http://v.media.daum.net/v/20221027111041365?f=o\n",
      "'SON 킥을 왜 그렇게…' 골 넣을 줄 알고 기뻐하던 콘테, 좌절감에 고개 '푹' : http://v.media.daum.net/v/20221027144702796?f=o\n",
      "준수한 활약 보인 손흥민, 팀내 평점 3위 : http://v.media.daum.net/v/20221027065355348?f=o\n",
      "英언론 ‘무득점’ 손흥민에 무난한 평가 “골키퍼 시험했어” : http://v.media.daum.net/v/20221027062236022?f=o\n",
      "토트넘 손흥민 포함 선발 라인업 공개, 김민재도 토트넘과 같은 시간 경기 나폴리-리버풀전 선발 출전 : https://cp.news.search.daum.net/p/124953311\n",
      "'김민재 풀타임 무실점' 나폴리, UCL 5전 전승…토트넘은 무승부 : http://v.media.daum.net/v/20221027103447671?f=o\n",
      "맥 끊고 길 뚫고…빈틈 없는 김민재, 챔스 16강 주역 : http://v.media.daum.net/v/20221027131622288?f=o\n",
      "7page 입니다\n",
      "----------------------------------------------------------------------------------------------------\n",
      "\n",
      "“빨리 SON 데려와라” 리버풀 팬들 아우성 : http://v.media.daum.net/v/20221027104610123?f=o\n",
      "“1,067억 손흥민, 레알과 연결... 다음 스텝 밟나” 계속 나온다 : http://v.media.daum.net/v/20221026122042266?f=o\n",
      "존재감 사라진 손흥민… 변명하긴 부진이 너무 길다[토트넘-스포르팅] : http://v.media.daum.net/v/20221027055644526?f=o\n",
      "'손흥민 침묵' 토트넘, 스포르팅에 1-1 무승부...조 1위 유지 : http://v.media.daum.net/v/20221027055729540?f=o\n",
      "‘손흥민 풀타임+4연속 무득점’ 토트넘, 스포르팅과 진땀 1-1 無 : http://v.media.daum.net/v/20221027055702532?f=o\n",
      "'伊 전설 수비수' 키엘리니 \"김민재 잘 몰랐는데 놀라워\" 극찬 : http://v.media.daum.net/v/20221027155114839?f=o\n",
      "나폴리, UCL 파죽의 5연승 질주… 토트넘, 16강 여부는 최종전에서 : http://v.media.daum.net/v/20221027111615676?f=o\n",
      "“손흥민, 결정력-드리블 아쉬웠지만 상대 괴롭혔다”...英 매체의 긍정적 평가 : http://v.media.daum.net/v/20221027062047005?f=o\n",
      "\"끝까지 노력했다\"…팀 내 최다 슈팅 손흥민, 평점 6점 : http://v.media.daum.net/v/20221027063048144?f=o\n",
      "‘유효슈팅 3회’ 손흥민, 스포르팅전 준수한 평가...평점 2위 : http://v.media.daum.net/v/20221027060848867?f=o\n",
      "8page 입니다\n",
      "----------------------------------------------------------------------------------------------------\n",
      "\n",
      "이승우 논산훈련소 입소…“더 성숙해져 돌아올게요” : http://v.media.daum.net/v/20221027125933967?f=o\n",
      "'내가 간다 카타르!' 벤투호 국내파 28일 마지막 소집 : http://v.media.daum.net/v/20221027103605728?f=o\n",
      "강기정 광주시장, 하남중앙초 방문 ‘정책소풍’ 펼쳐 : http://v.media.daum.net/v/20221027160900734?f=o\n",
      "[공식발표] 벤투호, 28일 파주 NFC 소집...승강 PO+FA컵 선수단 추후 입소 : http://v.media.daum.net/v/20221027141907430?f=o\n",
      "손흥민, 우승컵 위해 R 마드리드행? : http://v.media.daum.net/v/20221026040516816?f=o\n",
      "‘손흥민 출격+4경기만 득점 조준’ 토트넘, 스포르팅전 선발 공개 : http://v.media.daum.net/v/20221027030615061?f=o\n",
      "\"슈팅, 골키퍼가 편안하게 잡아냈다\"...英 매체, '풀타임' 손흥민에게 평점 6점 부여 : http://v.media.daum.net/v/20221027063527182?f=o\n",
      "\"왜! 왜! 공은 앞에서 뒤로 갔잖아!\"...다이어, 경기 종료 후 주심과 설전 : http://v.media.daum.net/v/20221027133504815?f=o\n",
      "나폴리 전성기 이끌고 있는 철벽 수비 '김민재' : http://v.media.daum.net/v/20221027123000516?f=o\n",
      "토트넘 스포르팅 CP 생중계 경기, 손흥민 토트넘 중계 방송 어디서 보나? : https://cp.news.search.daum.net/p/124951050\n",
      "9page 입니다\n",
      "----------------------------------------------------------------------------------------------------\n",
      "\n",
      "손흥민 인기 재확인, 9천만 유로 가치 : http://v.media.daum.net/v/20221026043006068?f=o\n",
      "'손흥민 선발' 토트넘, 스포르팅 전 선발 명단 발표 [토트넘-스포르팅] : http://v.media.daum.net/v/20221027030105805?f=o\n",
      "초록우산어린이재단, ‘제16회 이홍렬의 락락페스티벌’ 개최 : https://cp.news.search.daum.net/p/124990691\n",
      "\"손흥민, 내년 리버풀행 의향\" 볼라VIP \"토트넘 떠나면 충격적 '배신'될 것\" : http://v.media.daum.net/v/20221026091902083?f=o\n",
      "[UCL 리뷰] '콘테 퇴장' 토트넘, 스포르팅과 1-1 무...16강 확정 실패 : http://v.media.daum.net/v/20221027055704533?f=o\n",
      "[ucl.review] '통한의 골 취소' 토트넘, 스포르팅과 1-1 무...6차전 '진흙탕 싸움' 예고 : http://v.media.daum.net/v/20221027055656528?f=o\n",
      "[GOAL 리뷰] 'SON 풀타임' 토트넘, 스포르팅과 1-1 무…16강은 최종전서 결정 : http://v.media.daum.net/v/20221027060106714?f=o\n",
      "손흥민과 김민재, 챔피언스리그 동시 선발 출전 : http://v.media.daum.net/v/20221027025958788?f=o\n",
      "[리뷰] 'SON 풀타임' 토트넘, 스포르팅과 1-1 무... '케인 극장 역전골 취소' : http://v.media.daum.net/v/20221027055906550?f=o\n",
      "UCL 2경기 연속골·통산 20호골 도전 손흥민, 스포르팅전 선발 출전 : http://v.media.daum.net/v/20221027031535163?f=o\n",
      "10page 입니다\n",
      "----------------------------------------------------------------------------------------------------\n",
      "\n"
     ]
    }
   ],
   "source": [
    "#위의 코드를 이용해 10페이지를 추출해보자\n",
    "url1 = 'https://search.daum.net/search?nil_suggest=btn&w=news&DA=SBC&q='\n",
    "url2 = input('검색어를 입력하세요:')\n",
    "url3 = '&p='\n",
    "header = {'User-Agent' : \"Mozilla/5.0 (Windows NT 10.0; Win64; x64) AppleWebKit/537.36 (KHTML, like Gecko) Chrome/107.0.0.0 Safari/537.36\"}\n",
    "\n",
    "for i in range(1, 11):\n",
    "    url = url1 + url2 + url3 + str(i)\n",
    "    #print(url)\n",
    "    \n",
    "    html = requests.get(url, headers = header).text\n",
    "    soup = BeautifulSoup(html, 'lxml')    \n",
    "    news_tit = soup.find_all(class_ = \"tit_main fn_tit_u\")\n",
    "    #news_tit[0]\n",
    "    \n",
    "    for tit in news_tit:\n",
    "        print(tit.text, ':', tit['href'])\n",
    "    print(f\"{i}page 입니다\")\n",
    "    print('-' * 100)\n",
    "    print()"
   ]
  },
  {
   "cell_type": "code",
   "execution_count": null,
   "id": "76ed0a04-4d50-4867-9605-78e5582ff88c",
   "metadata": {},
   "outputs": [],
   "source": []
  },
  {
   "cell_type": "markdown",
   "id": "d0031e9f-ba64-4d22-ab97-8931ec93390e",
   "metadata": {},
   "source": [
    "### ③ 출력 함수 생성\n",
    "naver 검색 사이트 이용"
   ]
  },
  {
   "cell_type": "code",
   "execution_count": 67,
   "id": "2fb47447-c3fc-4ca4-8639-af7b4a5b9016",
   "metadata": {},
   "outputs": [],
   "source": [
    "def search_news(keyword, page=10):\n",
    "    main_url = 'https://search.naver.com/search.naver?where=news&sm=tab_jum&query='\n",
    "    keyword = keyword\n",
    "    \n",
    "    for i in range(1, page+1):\n",
    "        sub_url = f'&sort=0&photo=0&field=0&pd=0&ds=&de=&cluster_rank=136&mynews=0&office_type=0&office_section_code=0&news_office_checked=&nso=so:r,p:all,a:all&start={1+(i-1)*10}'\n",
    "        #print(sub_url)\n",
    "        \n",
    "        url = main_url + keyword + sub_url\n",
    "        html = requests.get(url).text\n",
    "        soup = BeautifulSoup(html, 'lxml')\n",
    "        news_tit = soup.find_all(class_ = \"news_tit\")\n",
    "        \n",
    "        for tit in news_tit:\n",
    "            print(tit.text, ':', tit.attrs['href'])\n",
    "        print(f\"{i}page 입니다\")\n",
    "        print(\"-\" * 100)\n",
    "        print()"
   ]
  },
  {
   "cell_type": "code",
   "execution_count": 68,
   "id": "5560773a-2f4d-432b-8549-fc70e21c1f15",
   "metadata": {
    "collapsed": true,
    "jupyter": {
     "outputs_hidden": true
    },
    "tags": []
   },
   "outputs": [
    {
     "name": "stdout",
     "output_type": "stream",
     "text": [
      "김민재 웃고, 손흥민 울고…나폴리 챔스 5연승, 토트넘은 무승부 : https://www.donga.com/news/article/all/20221027/116182769/1\n",
      "'토트넘, 최소 2년 동안 손흥민 이적 고려 없다' : http://www.mydaily.co.kr/new_yk/html/read.php?newsid=202210271356576447&ext=na&utm_campaign=naver_news&utm_source=naver&utm_medium=related_news\n",
      "'손흥민 골?'...본머스-토트넘전 대상 축구토토 승무패 59회차 발매 : http://news.tf.co.kr/read/toto/1974696.htm\n",
      "[단독] 편의점 CU, 손흥민 모델 발탁 : http://www.edaily.co.kr/news/newspath.asp?newsid=03070086632497184\n",
      "'슈팅 4차례 쏟아낸' 손흥민, 스포르팅전 평점 6~7점대 : http://www.newsis.com/view/?id=NISX20221027_0002062985&cID=10523&pID=10500\n",
      "'손흥민 풀타임'토트넘, 스포르팅과 무승부 : https://imnews.imbc.com/replay/2022/nwtoday/article/6421033_35752.html\n",
      "토트넘, 스포르팅과 1대1 무승부... 손흥민 4G연속 골 침묵 : https://www.sisamagazine.co.kr/news/articleView.html?idxno=471585\n",
      "'쏜살(SON+살라) 듀오' 탄생하나? 리버풀 손흥민 영입 추진 : http://sports.chosun.com/news/ntype.htm?id=202210270100186920013233&servicedate=20221027\n",
      "손흥민, ‘골 침묵’ 길어도 믿고 기다려…토트넘 챔스 16강은? : https://www.hani.co.kr/arti/sports/soccer/1064443.html\n",
      "'슈팅 4개' 손흥민 4G 연속 침묵에도 평점 7.1점, 팀 내 3위 : http://sports.chosun.com/news/ntype.htm?id=202210280100184140012634&servicedate=20221027\n",
      "1page 입니다\n",
      "----------------------------------------------------------------------------------------------------\n",
      "\n",
      "준수한 활약 보인 손흥민, 팀내 평점 3위 : http://sports.khan.co.kr/news/sk_index.html?art_id=202210270653003&sec_id=520401&pt=nv\n",
      "김민재 웃고, 손흥민 울고…나폴리 챔스 5연승, 토트넘은 무승부 : https://www.donga.com/news/article/all/20221027/116182769/1\n",
      "'쏜살(SON+살라) 듀오' 탄생하나? 리버풀 손흥민 영입 추진 : http://sports.chosun.com/news/ntype.htm?id=202210270100186920013233&servicedate=20221027\n",
      "\"손흥민, 레알마드리드 안첼로티 감독이 주시\" 獨 매체 : http://www.newsis.com/view/?id=NISX20221025_0002059793&cID=10523&pID=10500\n",
      "레알-PSG-뮌헨뿐 아냐.. \"손흥민, 리버풀로 충격 이적 가능\" : http://www.osen.co.kr/article/G1111975425\n",
      "'손흥민 골?'...본머스-토트넘전 대상 축구토토 승무패 59회차 발매 : http://news.tf.co.kr/read/toto/1974696.htm\n",
      "'철벽수비+패스 성공99%' 김민재 승리 견인…손흥민은 무승부 : http://news.mt.co.kr/mtview.php?no=2022102708173784889\n",
      "‘유효슈팅 3회’ 손흥민, 스포르팅전 준수한 평가...평점 2위 : http://sports.khan.co.kr/news/sk_index.html?art_id=202210270608003&sec_id=520401&pt=nv\n",
      "‘골 침묵’ 손흥민, 의외의 호평→‘평점 팀 내 3위 7.1점’ : https://sports.donga.com/article/all/20221027/116176507/1\n",
      "UCL 2경기 연속골·통산 20호골 도전 손흥민, 스포르팅전 선발 출전 : https://www.news1.kr/articles/4845277\n",
      "2page 입니다\n",
      "----------------------------------------------------------------------------------------------------\n",
      "\n",
      "英언론의 대흥분 “손흥민 리버풀 온다면 엄청난 활약 펼칠 것” : http://www.osen.co.kr/article/G1111976123\n",
      "오늘도 증명된 공식...페리시치 선발➞손흥민 침묵 : https://www.xportsnews.com/article/1647189\n",
      "‘이적설 솔솔’ 손흥민-케인, 다음 시즌에도 볼 수 있을까 : http://sports.khan.co.kr/news/sk_index.html?art_id=202210261759003&sec_id=520401&pt=nv\n",
      "손흥민, 풀타임 '침묵'...'극장골 취소' 토트넘, UCL 16강 확정 무산 : http://www.sportsseoul.com/news/read/1171919?ref=naver\n",
      "'제2의 손흥민 키운다' 마포구 어린이 축구교실 선수 모집 : https://www.news1.kr/articles/4845757\n",
      "손흥민 풀타임, '폭풍 드리블' : https://www.gukjenews.com/news/articleView.html?idxno=2580055\n",
      "손흥민이 카타르서 입을 수트, \"히어로-K11\" 한국축구 단복 공개 : https://www.joongang.co.kr/article/25112651\n",
      "英 언론의 장밋빛 예상 \"손흥민 있는 한국, 카타르 월드컵서 8강 가능\" : https://www.news1.kr/articles/4846022\n",
      "도르트문트 시절 꿈 이루나...클롭, 손흥민 영입 고려 왜? : https://www.xportsnews.com/article/1647170\n",
      "“손흥민, 결정력-드리블 아쉬웠지만 상대 괴롭혔다”...英 매체의 긍정적 평... : http://sports.khan.co.kr/news/sk_index.html?art_id=202210270620003&sec_id=520401&pt=nv\n",
      "3page 입니다\n",
      "----------------------------------------------------------------------------------------------------\n",
      "\n",
      "손흥민, 레알 이적 불가...이유는 레비 회장 : http://www.interfootball.co.kr/news/articleView.html?idxno=587184\n",
      "레알, 손흥민 IN-아자르·아센시오·디아스 OUT? : http://mksports.co.kr/view/2022/950506/\n",
      "손흥민, 우승컵 위해 R 마드리드행? : https://news.kmib.co.kr/article/view.asp?arcid=0924270097&code=12120000&cp=nv\n",
      "‘손흥민 침묵+콘테 퇴장’ 토트넘 16강행 불투명 : https://www.dailian.co.kr/news/view/1166652/?sc=Naver\n",
      "달리고 슈팅하고 '종횡무진' 손흥민, 스포르팅전 평점 7.4점 : https://www.spotvnews.co.kr/news/articleView.html?idxno=559180\n",
      "손흥민 고군분투했지만…”마무리와 드리블 능력 부족” : http://www.sportalkorea.com/news/view.php?gisa_uniq=2022102710013228&section_code=20&cp=se&sp=A\n",
      "'손흥민 침묵→졸전' 토트넘, 스포르팅에 0-1 열세 (전반 종료) : http://www.mydaily.co.kr/new_yk/html/read.php?newsid=202210270443169185&ext=na&utm_campaign=naver_news&utm_source=naver&utm_medium=related_news\n",
      "유로스포르트, 손흥민 레알 마드리드 이적 가능성은 30% : http://www.mydaily.co.kr/new_yk/html/read.php?newsid=202210252258676574&ext=na&utm_campaign=naver_news&utm_source=naver&utm_medium=related_news\n",
      "\"슈팅, 골키퍼가 편안하게 잡아냈다\"...英 매체, '풀타임' 손흥민에게 평점 6... : http://www.osen.co.kr/article/G1111975603\n",
      "손흥민 등 '세상을 밝게 만든 사람들' 선정 : https://www.yna.co.kr/view/AKR20221025149800004?input=1195m\n",
      "4page 입니다\n",
      "----------------------------------------------------------------------------------------------------\n",
      "\n",
      "슛 시도하는 손흥민 : http://www.newsis.com/view/?id=NISI20221024_0001112556\n",
      "손흥민 UCL 통해 골감각 찾나… 김민재는 레인저스 상대 출격 : http://moneys.mt.co.kr/news/mwView.php?no=2022102614220542856\n",
      "'들어나 보자'...英 매체, 손흥민 레알 갈 경우 '대체자 5인 소개' : http://www.interfootball.co.kr/news/articleView.html?idxno=587166\n",
      "'손흥민 침묵' 토트넘, 스포르팅에 1-1 무승부...조 1위 유지 : http://www.osen.co.kr/article/G1111975589\n",
      "손흥민, 골키퍼로 향한 슈팅 4회…공격진 유일하게 활발했지만 : http://www.sportalkorea.com/news/view.php?gisa_uniq=2022102706082155&section_code=20&cp=se&sp=A\n",
      "'슈팅 4개' 손흥민, 팀 내 3위 평점 7.1점…김민재 7.5점 : https://www.nocutnews.co.kr/news/5839420\n",
      "처참한 토트넘...손흥민, 전반전 페널티박스 터치 '1회' : http://www.interfootball.co.kr/news/articleView.html?idxno=587170\n",
      "앨리스 소희 \"축구 너무 좋아한다..손흥민 응원\" : http://biz.heraldcorp.com/view.php?ud=202210271547196418865_1\n",
      "'손흥민 분전-콘테 퇴장' 토트넘, '진땀' 무승부...모우라 '역부족' : http://news.tf.co.kr/read/soccer/1974607.htm\n",
      "'손흥민 선발' 토트넘, 스포르팅 전 선발 명단 발표 [토트넘-스포르팅] : https://www.xportsnews.com/article/1647169\n",
      "5page 입니다\n",
      "----------------------------------------------------------------------------------------------------\n",
      "\n",
      "'슈팅 5개' 손흥민, 6점대 평점…\"기회 한 번은 살렸어야\" : https://www.yna.co.kr/view/AKR20221024014000007?input=1195m\n",
      "손흥민과 김민재, 챔피언스리그 동시 선발 출전 : http://sports.hankooki.com/news/articleView.html?idxno=6810858\n",
      "'손흥민 풀타임' 토트넘, 스포르팅에 1-1 무승부... 16강 확정은 실패[챔피언... : http://sports.hankooki.com/news/articleView.html?idxno=6810861\n",
      "'손흥민 풀타임 침묵' 토트넘, 뉴캐슬에 1-2로 져 …첫 연패 : http://www.newsis.com/view/?id=NISX20221024_0002058133&cID=10523&pID=10500\n",
      "골은 없었지만...역시 '공격의 선봉장' 손흥민, 평점 7.12→팀 3위 : http://www.fourfourtwo.co.kr/news/articleView.html?idxno=22227\n",
      "FIFA도 주목한 김민재…레알 마드리드 이적설 제기된 손흥민 : https://sports.donga.com/article/all/20221025/116145377/2\n",
      "UCL 앞둔 손흥민, 위기의 토트넘 구할까 : https://www.dailian.co.kr/news/view/1166417/?sc=Naver\n",
      "손흥민 인기 재확인, 9천만 유로 가치 : https://www.spotvnews.co.kr/news/articleView.html?idxno=558962\n",
      "'슈퍼스타' 손흥민, '뛰어난 재능' 김민재…\"16강 유력, 조 1위 가능\" : http://www.fourfourtwo.co.kr/news/articleView.html?idxno=22211\n",
      "[스포츠타임] UCL 16강 결정짓고 쉬어가자, 손흥민에게 떨어진 숙제 : https://www.spotvnews.co.kr/news/articleView.html?idxno=559019\n",
      "6page 입니다\n",
      "----------------------------------------------------------------------------------------------------\n",
      "\n",
      "“쿠보, 손흥민에게 견줄 재능” IOC 극찬 : http://www.sportalkorea.com/news/view.php?gisa_uniq=2022102710010002&section_code=20&cp=se&sp=A\n",
      "손흥민 이전에 구자철? 천연덕스러운 '구글거림' 과시 : https://tenasia.hankyung.com/tv/article/2022102780384\n",
      "[오피셜] '손흥민 다음은 메시 or 타레미?' 챔스 이주의 선수 후보 공개 : http://www.mydaily.co.kr/new_yk/html/read.php?newsid=202210271109612723&ext=na&utm_campaign=naver_news&utm_source=naver&utm_medium=related_news\n",
      "‘스텝 업’ 손흥민·이강인, 다음 스텝이 궁금하다 : http://www.kookje.co.kr/news2011/asp/newsbody.asp?code=0600&key=20221026.22017006889\n",
      "\"손흥민과 케인도 떠난다\".. 콘테와 작별하면 일어날 수 있는 일 : http://www.osen.co.kr/article/G1111973662\n",
      "[라인업] 손흥민, 스포르팅전 선발 출격... 케인-모우라와 호흡 : http://www.footballist.co.kr/news/articleView.html?idxno=157524\n",
      "손흥민의 토트넘, 스포르팅과 1-1...나폴리 김민재는 또 철기둥 : https://www.joongang.co.kr/article/25112604\n",
      "日 확신 \"구보, 손흥민에 맞설 아시아 공격수\" : https://www.spotvnews.co.kr/news/articleView.html?idxno=559166\n",
      "'안방 강자' 손흥민, 스포르팅 상대로 UCL 2경기 연속골 도전 : http://www.stnsports.co.kr/news/articleView.html?idxno=155825\n",
      "존재감 사라진 손흥민… 변명하긴 부진이 너무 길다[토트넘-스포르팅] : http://sports.hankooki.com/news/articleView.html?idxno=6810862\n",
      "7page 입니다\n",
      "----------------------------------------------------------------------------------------------------\n",
      "\n",
      "'침묵' 손흥민, 저조한 평점 6.6점 '팀내 여섯번째' : http://sports.chosun.com/news/ntype.htm?id=202210240100156490010034&servicedate=20221024\n",
      "'손흥민 풀타임' 토트넘, 스포르팅 전 1-1 무승부...16강 확정 실패 [토트넘-... : https://www.xportsnews.com/article/1647180\n",
      "“1,067억 손흥민, 레알과 연결... 다음 스텝 밟나” 계속 나온다 : http://www.sportalkorea.com/news/view.php?gisa_uniq=2022102609525902&section_code=20&cp=se&sp=A\n",
      "'손흥민 김민재 나란히 풀타임'...토트넘은 무승부, 나폴리는 5연승 : https://www.ytn.co.kr/_ln/0107_202210270916589156\n",
      "손흥민 또 침묵, 토트넘 리그 2연패…황희찬 교체 출전 : https://news.kbs.co.kr/news/view.do?ncd=5584819&ref=A\n",
      "박상욱 JTBC 기자 '세상을 밝게 만든 사람들' 선정…손흥민도 수상 : https://news.jtbc.co.kr/article/article.aspx?news_id=NB12089319\n",
      "딘딘, '손흥민의 국대' 비판…소신과 무례 사이[TEN피플] : https://tenasia.hankyung.com/topic/article/2022102517284\n",
      "'히샬리송 부상' 토트넘 경기일정·중계, 손흥민 예상선발라인업 : https://www.gukjenews.com/news/articleView.html?idxno=2579527\n",
      "손흥민 위로한 뉴캐슬 수비수…알고 보니 옛 절친 : https://www.spotvnews.co.kr/news/articleView.html?idxno=558722\n",
      "찬스 놓치고 '침묵' 손흥민, 팀 내 평점도 '글쎄' : http://www.sportsseoul.com/news/read/1170813?ref=naver\n",
      "8page 입니다\n",
      "----------------------------------------------------------------------------------------------------\n",
      "\n",
      "'英슈퍼컴 예측' 다음시즌 손흥민 UCL 못가… 황희찬은? : http://moneys.mt.co.kr/news/mwView.php?no=2022102611050189498\n",
      "손흥민 따로, 케인 따로...토트넘 패스맵 또 문제투성이 : http://www.interfootball.co.kr/news/articleView.html?idxno=587193\n",
      "스페인 2부 이상혁 “라리가 진출 목표…손흥민 우상” : http://mksports.co.kr/view/2022/949308/\n",
      "위기의 토트넘, 손흥민-케인 투톱+페리시치 윙백 전망 : http://www.sportalkorea.com/news/view.php?gisa_uniq=2022102618415328&section_code=20&cp=se&sp=A\n",
      "손흥민, 뉴캐슬전에 케인과 '투 톱'으로 선발 출전…페리시치 후보 : https://www.news1.kr/articles/4841261\n",
      "김민재 '11연승 질주'…손흥민·황희찬은 무득점 : http://news.mk.co.kr/newsRead.php?no=942673&year=2022\n",
      "KBS '축구해설' 도전 구자철 \"담주 기성용, 손흥민과 여행\" : http://www.fnnews.com/news/202210251636146618\n",
      "[UCL 경기 중계] 토트넘 VS 스포르팅, 손흥민 챔스 통산 20호골 도전 : http://www.cbci.co.kr/news/articleView.html?idxno=434576\n",
      "이천수의 예측, \"벤투호 2승 1패로 16강행...첫 골은 손흥민\" : http://www.mydaily.co.kr/new_yk/html/read.php?newsid=202210260041528228&ext=na&utm_campaign=naver_news&utm_source=naver&utm_medium=related_news\n",
      "우울한 슈퍼컴퓨터 예측, 손흥민 UCL 탈락-황희찬 강등 : http://www.sportalkorea.com/news/view.php?gisa_uniq=2022102619440228&section_code=20&cp=se&sp=A\n",
      "9page 입니다\n",
      "----------------------------------------------------------------------------------------------------\n",
      "\n",
      "슈팅 1회 손흥민, 평점 4 혹평…\"보이지 않아\" : http://www.newsis.com/view/?id=NISX20221020_0002054399&cID=10523&pID=10500\n",
      "'손흥민 외딴섬' 토트넘, 무려 3명 고립...충격 패스맵 공개 : http://www.interfootball.co.kr/news/articleView.html?idxno=586898\n",
      "제2의 손흥민 중학 유망주 6명 독일 연수 : http://www.namdonews.com/news/articleView.html?idxno=699917\n",
      "[UCL현장라인업]손흥민 스포르팅전 선발 출전! 토트넘 3-4-3 전형 + 페리시치... : http://sports.chosun.com/news/ntype.htm?id=202210280100184050012627&servicedate=20221027\n",
      "토트넘 vs 뉴캐슬, 홈에서 강한 손흥민이라면? : https://www.dailian.co.kr/news/view/1165124/?sc=Naver\n",
      "몸싸움하는 손흥민 : http://www.newsis.com/view/?id=NISI20221020_0001110239\n",
      "5경기째 무득점과 팀 연패 아쉬워하는 손흥민 : https://www.news1.kr/photos/view/?5644239\n",
      "'보급형 손흥민' 강칠구, '카바디계 손흥민' 김동우 등장에 견제 (뭉찬2)[포인... : https://www.xportsnews.com/article/1645537\n",
      "토트넘 맨유에 0-2패, 손흥민 사용법 안 보인다 : http://www.munhwa.com/news/view.html?no=2022102001032339044001\n",
      "손흥민, 24일 뉴캐슬전서 EPL 4호골·시즌 6호골 도전 : http://www.newsis.com/view/?id=NISX20221021_0002056680&cID=10523&pID=10500\n",
      "10page 입니다\n",
      "----------------------------------------------------------------------------------------------------\n",
      "\n"
     ]
    }
   ],
   "source": [
    "search_news('손흥민')"
   ]
  },
  {
   "cell_type": "markdown",
   "id": "d351f57b-0afa-4c01-b72d-28f2161b55f2",
   "metadata": {},
   "source": [
    "#### * 출력 내용을 DataFrame 으로 저장하는 함수 생성"
   ]
  },
  {
   "cell_type": "code",
   "execution_count": 69,
   "id": "d5ca3015-b9b8-44e0-afee-56cb680751db",
   "metadata": {},
   "outputs": [],
   "source": [
    "def search_news(keyword, page=10):\n",
    "    main_url = 'https://search.naver.com/search.naver?where=news&sm=tab_jum&query='\n",
    "    keyword = keyword\n",
    "    \n",
    "    lst_title = []\n",
    "    lst_url = []\n",
    "    \n",
    "    for i in range(1, page+1):\n",
    "        sub_url = f'&sort=0&photo=0&field=0&pd=0&ds=&de=&cluster_rank=136&mynews=0&office_type=0&office_section_code=0&news_office_checked=&nso=so:r,p:all,a:all&start={1+(i-1)*10}'\n",
    "        #print(sub_url)\n",
    "        \n",
    "        url = main_url + keyword + sub_url\n",
    "        html = requests.get(url).text\n",
    "        soup = BeautifulSoup(html, 'lxml')\n",
    "        news_tit = soup.find_all(class_ = \"news_tit\")\n",
    "        \n",
    "        for tit in news_tit:\n",
    "            lst_title.append(tit.text)\n",
    "            lst_url.append(tit.attrs['href'])\n",
    "        data = pd.DataFrame({'제목' : lst_title, '링크' : lst_url})\n",
    "        \n",
    "    return data"
   ]
  },
  {
   "cell_type": "code",
   "execution_count": 70,
   "id": "d6b937c9-281d-4537-98d9-0df0bf67beeb",
   "metadata": {},
   "outputs": [
    {
     "data": {
      "text/html": [
       "<div>\n",
       "<style scoped>\n",
       "    .dataframe tbody tr th:only-of-type {\n",
       "        vertical-align: middle;\n",
       "    }\n",
       "\n",
       "    .dataframe tbody tr th {\n",
       "        vertical-align: top;\n",
       "    }\n",
       "\n",
       "    .dataframe thead th {\n",
       "        text-align: right;\n",
       "    }\n",
       "</style>\n",
       "<table border=\"1\" class=\"dataframe\">\n",
       "  <thead>\n",
       "    <tr style=\"text-align: right;\">\n",
       "      <th></th>\n",
       "      <th>제목</th>\n",
       "      <th>링크</th>\n",
       "    </tr>\n",
       "  </thead>\n",
       "  <tbody>\n",
       "    <tr>\n",
       "      <th>0</th>\n",
       "      <td>왜 ‘올빼미’인가</td>\n",
       "      <td>http://sports.khan.co.kr/news/sk_index.html?ar...</td>\n",
       "    </tr>\n",
       "    <tr>\n",
       "      <th>1</th>\n",
       "      <td>운명 같은 인연 '올빼미' 각별한 재회</td>\n",
       "      <td>https://news.jtbc.co.kr/article/article.aspx?n...</td>\n",
       "    </tr>\n",
       "    <tr>\n",
       "      <th>2</th>\n",
       "      <td>'올빼미' 배우·감독의 특별한 인연 \"17년 만 조우\"</td>\n",
       "      <td>https://star.ytn.co.kr/_sn/0117_20221025083531...</td>\n",
       "    </tr>\n",
       "    <tr>\n",
       "      <th>3</th>\n",
       "      <td>‘올빼미’ 스틸, 유해진X류준열의 극과 극 ‘반전’</td>\n",
       "      <td>http://star.mbn.co.kr/view.php?year=2022&amp;no=93...</td>\n",
       "    </tr>\n",
       "    <tr>\n",
       "      <th>4</th>\n",
       "      <td>'올빼미' 유해진 \"살다 살다 왕까지 연기, 곤룡포에 마음 달라져\" [N현장]</td>\n",
       "      <td>https://www.news1.kr/articles/4835746</td>\n",
       "    </tr>\n",
       "    <tr>\n",
       "      <th>...</th>\n",
       "      <td>...</td>\n",
       "      <td>...</td>\n",
       "    </tr>\n",
       "    <tr>\n",
       "      <th>95</th>\n",
       "      <td>안은진, 영화 올빼미 잘 부탁드립니다</td>\n",
       "      <td>http://www.newspim.com/news/view/20221018000708</td>\n",
       "    </tr>\n",
       "    <tr>\n",
       "      <th>96</th>\n",
       "      <td>[사진]즐거운 '올빼미' 제작보고회</td>\n",
       "      <td>http://www.osen.co.kr/article/G1111968374</td>\n",
       "    </tr>\n",
       "    <tr>\n",
       "      <th>97</th>\n",
       "      <td>'올빼미' 최무성 \"극중 류준열과 손잡는 장면, 아들 손 잡는 느낌\"</td>\n",
       "      <td>http://enews.imbc.com/News/RetrieveNewsInfo/36...</td>\n",
       "    </tr>\n",
       "    <tr>\n",
       "      <th>98</th>\n",
       "      <td>'왕이 된 남자' 유해진 VS '주맹증' 류준열의 세 번째 만남...일낼까 [SS현...</td>\n",
       "      <td>http://www.sportsseoul.com/news/read/1169225?r...</td>\n",
       "    </tr>\n",
       "    <tr>\n",
       "      <th>99</th>\n",
       "      <td>[머니S포토] 올빼미 조성하 '신인의 자세로'</td>\n",
       "      <td>http://moneys.mt.co.kr/news/mwView.php?no=2022...</td>\n",
       "    </tr>\n",
       "  </tbody>\n",
       "</table>\n",
       "<p>100 rows × 2 columns</p>\n",
       "</div>"
      ],
      "text/plain": [
       "                                                   제목  \\\n",
       "0                                           왜 ‘올빼미’인가   \n",
       "1                               운명 같은 인연 '올빼미' 각별한 재회   \n",
       "2                      '올빼미' 배우·감독의 특별한 인연 \"17년 만 조우\"   \n",
       "3                        ‘올빼미’ 스틸, 유해진X류준열의 극과 극 ‘반전’   \n",
       "4         '올빼미' 유해진 \"살다 살다 왕까지 연기, 곤룡포에 마음 달라져\" [N현장]   \n",
       "..                                                ...   \n",
       "95                               안은진, 영화 올빼미 잘 부탁드립니다   \n",
       "96                                [사진]즐거운 '올빼미' 제작보고회   \n",
       "97             '올빼미' 최무성 \"극중 류준열과 손잡는 장면, 아들 손 잡는 느낌\"   \n",
       "98  '왕이 된 남자' 유해진 VS '주맹증' 류준열의 세 번째 만남...일낼까 [SS현...   \n",
       "99                          [머니S포토] 올빼미 조성하 '신인의 자세로'   \n",
       "\n",
       "                                                   링크  \n",
       "0   http://sports.khan.co.kr/news/sk_index.html?ar...  \n",
       "1   https://news.jtbc.co.kr/article/article.aspx?n...  \n",
       "2   https://star.ytn.co.kr/_sn/0117_20221025083531...  \n",
       "3   http://star.mbn.co.kr/view.php?year=2022&no=93...  \n",
       "4               https://www.news1.kr/articles/4835746  \n",
       "..                                                ...  \n",
       "95    http://www.newspim.com/news/view/20221018000708  \n",
       "96          http://www.osen.co.kr/article/G1111968374  \n",
       "97  http://enews.imbc.com/News/RetrieveNewsInfo/36...  \n",
       "98  http://www.sportsseoul.com/news/read/1169225?r...  \n",
       "99  http://moneys.mt.co.kr/news/mwView.php?no=2022...  \n",
       "\n",
       "[100 rows x 2 columns]"
      ]
     },
     "execution_count": 70,
     "metadata": {},
     "output_type": "execute_result"
    }
   ],
   "source": [
    "search_news('영화 올빼미')"
   ]
  },
  {
   "cell_type": "markdown",
   "id": "00d516a5-0ecb-4237-8578-f38020dc5e0a",
   "metadata": {},
   "source": [
    "#### * csv 파일로 저장하기"
   ]
  },
  {
   "cell_type": "code",
   "execution_count": 71,
   "id": "05b10be1-2c8a-4786-9ef6-0ac8f34ca18a",
   "metadata": {},
   "outputs": [],
   "source": [
    "def search_news(keyword, page=10):\n",
    "    main_url = 'https://search.naver.com/search.naver?where=news&sm=tab_jum&query='\n",
    "    keyword = keyword\n",
    "    \n",
    "    lst_title = []\n",
    "    lst_url = []\n",
    "    \n",
    "    for i in range(1, page+1):\n",
    "        sub_url = f'&sort=0&photo=0&field=0&pd=0&ds=&de=&cluster_rank=136&mynews=0&office_type=0&office_section_code=0&news_office_checked=&nso=so:r,p:all,a:all&start={1+(i-1)*10}'\n",
    "        #print(sub_url)\n",
    "        \n",
    "        url = main_url + keyword + sub_url\n",
    "        html = requests.get(url).text\n",
    "        soup = BeautifulSoup(html, 'lxml')\n",
    "        news_tit = soup.find_all(class_ = \"news_tit\")\n",
    "        \n",
    "        for tit in news_tit:\n",
    "            lst_title.append(tit.text)\n",
    "            lst_url.append(tit.attrs['href'])\n",
    "        data = pd.DataFrame({'제목' : lst_title, '링크' : lst_url})\n",
    "        data.to_csv(f\"{keyword}.csv\")\n",
    "        \n",
    "    return data"
   ]
  },
  {
   "cell_type": "code",
   "execution_count": 72,
   "id": "ae8e4c5e-dfcc-4d8a-ad2a-c7f42ea83b14",
   "metadata": {},
   "outputs": [
    {
     "data": {
      "text/html": [
       "<div>\n",
       "<style scoped>\n",
       "    .dataframe tbody tr th:only-of-type {\n",
       "        vertical-align: middle;\n",
       "    }\n",
       "\n",
       "    .dataframe tbody tr th {\n",
       "        vertical-align: top;\n",
       "    }\n",
       "\n",
       "    .dataframe thead th {\n",
       "        text-align: right;\n",
       "    }\n",
       "</style>\n",
       "<table border=\"1\" class=\"dataframe\">\n",
       "  <thead>\n",
       "    <tr style=\"text-align: right;\">\n",
       "      <th></th>\n",
       "      <th>제목</th>\n",
       "      <th>링크</th>\n",
       "    </tr>\n",
       "  </thead>\n",
       "  <tbody>\n",
       "    <tr>\n",
       "      <th>0</th>\n",
       "      <td>왜 ‘올빼미’인가</td>\n",
       "      <td>http://sports.khan.co.kr/news/sk_index.html?ar...</td>\n",
       "    </tr>\n",
       "    <tr>\n",
       "      <th>1</th>\n",
       "      <td>운명 같은 인연 '올빼미' 각별한 재회</td>\n",
       "      <td>https://news.jtbc.co.kr/article/article.aspx?n...</td>\n",
       "    </tr>\n",
       "    <tr>\n",
       "      <th>2</th>\n",
       "      <td>'올빼미' 배우·감독의 특별한 인연 \"17년 만 조우\"</td>\n",
       "      <td>https://star.ytn.co.kr/_sn/0117_20221025083531...</td>\n",
       "    </tr>\n",
       "    <tr>\n",
       "      <th>3</th>\n",
       "      <td>‘올빼미’ 스틸, 유해진X류준열의 극과 극 ‘반전’</td>\n",
       "      <td>http://star.mbn.co.kr/view.php?year=2022&amp;no=93...</td>\n",
       "    </tr>\n",
       "    <tr>\n",
       "      <th>4</th>\n",
       "      <td>'올빼미' 유해진 \"살다 살다 왕까지 연기, 곤룡포에 마음 달라져\" [N현장]</td>\n",
       "      <td>https://www.news1.kr/articles/4835746</td>\n",
       "    </tr>\n",
       "    <tr>\n",
       "      <th>...</th>\n",
       "      <td>...</td>\n",
       "      <td>...</td>\n",
       "    </tr>\n",
       "    <tr>\n",
       "      <th>95</th>\n",
       "      <td>안은진, 영화 올빼미 잘 부탁드립니다</td>\n",
       "      <td>http://www.newspim.com/news/view/20221018000708</td>\n",
       "    </tr>\n",
       "    <tr>\n",
       "      <th>96</th>\n",
       "      <td>[사진]즐거운 '올빼미' 제작보고회</td>\n",
       "      <td>http://www.osen.co.kr/article/G1111968374</td>\n",
       "    </tr>\n",
       "    <tr>\n",
       "      <th>97</th>\n",
       "      <td>'올빼미' 최무성 \"극중 류준열과 손잡는 장면, 아들 손 잡는 느낌\"</td>\n",
       "      <td>http://enews.imbc.com/News/RetrieveNewsInfo/36...</td>\n",
       "    </tr>\n",
       "    <tr>\n",
       "      <th>98</th>\n",
       "      <td>'왕이 된 남자' 유해진 VS '주맹증' 류준열의 세 번째 만남...일낼까 [SS현...</td>\n",
       "      <td>http://www.sportsseoul.com/news/read/1169225?r...</td>\n",
       "    </tr>\n",
       "    <tr>\n",
       "      <th>99</th>\n",
       "      <td>[머니S포토] 올빼미 조성하 '신인의 자세로'</td>\n",
       "      <td>http://moneys.mt.co.kr/news/mwView.php?no=2022...</td>\n",
       "    </tr>\n",
       "  </tbody>\n",
       "</table>\n",
       "<p>100 rows × 2 columns</p>\n",
       "</div>"
      ],
      "text/plain": [
       "                                                   제목  \\\n",
       "0                                           왜 ‘올빼미’인가   \n",
       "1                               운명 같은 인연 '올빼미' 각별한 재회   \n",
       "2                      '올빼미' 배우·감독의 특별한 인연 \"17년 만 조우\"   \n",
       "3                        ‘올빼미’ 스틸, 유해진X류준열의 극과 극 ‘반전’   \n",
       "4         '올빼미' 유해진 \"살다 살다 왕까지 연기, 곤룡포에 마음 달라져\" [N현장]   \n",
       "..                                                ...   \n",
       "95                               안은진, 영화 올빼미 잘 부탁드립니다   \n",
       "96                                [사진]즐거운 '올빼미' 제작보고회   \n",
       "97             '올빼미' 최무성 \"극중 류준열과 손잡는 장면, 아들 손 잡는 느낌\"   \n",
       "98  '왕이 된 남자' 유해진 VS '주맹증' 류준열의 세 번째 만남...일낼까 [SS현...   \n",
       "99                          [머니S포토] 올빼미 조성하 '신인의 자세로'   \n",
       "\n",
       "                                                   링크  \n",
       "0   http://sports.khan.co.kr/news/sk_index.html?ar...  \n",
       "1   https://news.jtbc.co.kr/article/article.aspx?n...  \n",
       "2   https://star.ytn.co.kr/_sn/0117_20221025083531...  \n",
       "3   http://star.mbn.co.kr/view.php?year=2022&no=93...  \n",
       "4               https://www.news1.kr/articles/4835746  \n",
       "..                                                ...  \n",
       "95    http://www.newspim.com/news/view/20221018000708  \n",
       "96          http://www.osen.co.kr/article/G1111968374  \n",
       "97  http://enews.imbc.com/News/RetrieveNewsInfo/36...  \n",
       "98  http://www.sportsseoul.com/news/read/1169225?r...  \n",
       "99  http://moneys.mt.co.kr/news/mwView.php?no=2022...  \n",
       "\n",
       "[100 rows x 2 columns]"
      ]
     },
     "execution_count": 72,
     "metadata": {},
     "output_type": "execute_result"
    }
   ],
   "source": [
    "search_news('영화 올빼미')"
   ]
  },
  {
   "cell_type": "markdown",
   "id": "8affd7b0-f306-4fc8-9a86-81dd1fbe7f48",
   "metadata": {},
   "source": [
    "### ④ 이미지 검색 저장하기"
   ]
  },
  {
   "cell_type": "code",
   "execution_count": 73,
   "id": "4ed2c000-7af6-4b05-be62-4537cffae3aa",
   "metadata": {
    "collapsed": true,
    "jupyter": {
     "outputs_hidden": true
    },
    "tags": []
   },
   "outputs": [
    {
     "data": {
      "text/plain": [
       "<!DOCTYPE html>\n",
       " <html lang=\"ko\"> <head> <meta charset=\"utf-8\"/> <meta content=\"always\" name=\"referrer\"/> <meta content=\"telephone=no,address=no,email=no\" name=\"format-detection\"/> <meta content=\"width=device-width,initial-scale=1.0,maximum-scale=2.0\" name=\"viewport\"/> <meta content=\"류준열 : 네이버 이미지검색\" property=\"og:title\"> <meta content=\"https://ssl.pstatic.net/sstatic/search/common/og_v3.png\" property=\"og:image\"/> <meta content=\"'류준열'의 네이버 이미지검색 결과입니다.\" property=\"og:description\"/> <meta content=\"'류준열'의 네이버 이미지검색 결과입니다.\" lang=\"ko\" name=\"description\"/> <title>류준열 : 네이버 이미지검색</title> <link href=\"https://ssl.pstatic.net/sstatic/search/favicon/favicon_191118_pc.ico\" rel=\"shortcut icon\"/> <link href=\"https://ssl.pstatic.net/sstatic/search/opensearch-description.https.xml\" rel=\"search\" title=\"Naver\" type=\"application/opensearchdescription+xml\"><link href=\"https://ssl.pstatic.net/sstatic/search/pc/css/search1_221027.css\" rel=\"stylesheet\" type=\"text/css\"/> <link href=\"https://ssl.pstatic.net/sstatic/search/pc/css/search2_221027.css\" rel=\"stylesheet\" type=\"text/css\"/> <link href=\"https://ssl.pstatic.net/sstatic/search/pc/css/sp_autocomplete_220526.css\" rel=\"stylesheet\" type=\"text/css\"/><script type=\"text/javascript\"> if (!String.prototype.trim) { String.prototype.trim = function () { return this.replace(/^[\\s\\uFEFF\\xA0]+|[\\s\\uFEFF\\xA0]+$/g, ''); }; } if (!Array.prototype.indexOf) { Array.prototype.indexOf = function(searchElement, fromIndex) { var k; if (this == null) { throw new TypeError('\"this\" is null or not defined'); } var o = Object(this); var len = o.length >>> 0; if (len === 0) { return -1; } var n = fromIndex | 0; if (n >= len) { return -1; } k = Math.max(n >= 0 ? n : len - Math.abs(n), 0); while (k < len) { if (k in o && o[k] === searchElement) { return k; } k++; } return -1; }; } if (!Array.prototype.filter) { Array.prototype.filter = function(func, thisArg) { 'use strict'; if (!((typeof func === 'Function' || typeof func === 'function') && this)) throw new TypeError(); var len = this.length >>> 0, res = new Array(len), t = this, c = 0, i = -1; var kValue; if (thisArg === undefined) { while (++i !== len) { if (i in this) { kValue = t[i]; if (func(t[i], i, t)) { res[c++] = kValue; } } } } else { while (++i !== len) { if (i in this) { kValue = t[i]; if (func.call(thisArg, t[i], i, t)) { res[c++] = kValue; } } } } res.length = c; return res; }; } if (typeof(encodeURIComponent) != \"function\") { encodeURIComponent = function (s) { function toHex (n) { var hexchars = \"0123456789ABCDEF\" ; return \"%%\" + hexchars.charAt(n>>4) + hexchars.charAt(n&0xF) ; } var es = \"\" ; for (var i = 0; i < s.length;) { var c = s.charCodeAt(i++) ; if ((c&0xF800) == 0xD800) { var sc = s.charCodeAt(i++) ; c = ((c-0xD800)<<10) + (sc-0xDC00) + 0x10000 ; } if (!(c&~0x7F)) { if ((c>=65&&c<=90) || (c>=97&&c<=122) || (c>=48&&c<=57) || (c>=45&&c<=46) || c==95 || c==33 || c==126 || (c>=39&&c<=42)) es += String.fromCharCode(c) ; else es += toHex(c) ; } else if (!(c&~0x7FF)) es += toHex(0xC0+(c>>6)) + toHex(c&0x3F) ; else if (!(c&~0xFFFF)) es += toHex(0xE0+(c>>12)) + toHex(0x80+(c>>6&0x3F)) + toHex(0x80+(c&0x3F)) ; else es += toHex(0xF0+(c>>18)) + toHex(0x80+(c>>12&0x3F)) + toHex(0x80+(c>>6&0x3F)) + toHex(0x80+(c&0x3F)) ; } return es ; } } naver = window.naver || {}; naver.search = naver.search || {}; naver.search.abt_param = \"\"; var g_D = 0 ; naver.search.error = (function () { var errorList = Array() ; return { add : function (s) { errorList.push(s) ; }, clear : function () { delete errorList ; }, get : function (s) { return errorList ; }, getString : function (d) { if (typeof d === 'undefined') d = '|' ; return errorList.join(d) ; } } })(); naver.search.cookie = (function () { return { set : function (key, value, expire, domain) { var cookie = key + \"=\" + escape(value); if (typeof expire !== 'undefined') { if (expire instanceof Date) { cookie = cookie + \"; expires=\" + expire.toUTCString(); } else { var exdate = new Date((new Date()).getTime() + expire*1000); cookie = cookie + \"; expires=\" + exdate.toUTCString(); } } cookie = cookie + \"; path=/\"; if (domain != null) { cookie = cookie + \"; domain=\" + domain; } document.cookie = cookie; }, get : function (key) { var cookie_list = document.cookie.split(/\\s*;\\s*/); for (var i = 0; i < cookie_list.length; i++) { var tmp_list = cookie_list[i].split(\"=\"); var c_key = tmp_list[0].trim(); var c_value = tmp_list[1]; if (key == c_key) { return unescape(c_value); } } return null; } } })(); naver.search.https = window.location.protocol == \"https:\"; naver.search.meta_referrer = 0; var _nx_js_load = (function () { var scrs = {} ; return function (script, callback) { scrs[script] = {} ; scrs[script].domscript = document.createElement('script'); scrs[script].domscript.src = script ; if (callback) scrs[script].callback = (callback instanceof Array) ? callback : [callback]; scrs[script].domscript.onloadDone = false; scrs[script].domscript.onload = function() { scrs[script].domscript.onloadDone = true; if (scrs[script].callback) { for (var i = 0; i < scrs[script].callback.length; i++) { scrs[script].callback[i]() ; } } scrs[script].domscript.onload = scrs[script].domscript.onreadystatechange = null; } ; scrs[script].domscript.onreadystatechange = function() { if ( (\"loaded\" === scrs[script].domscript.readyState || \"complete\" === scrs[script].domscript.readyState) && !scrs[script].domscript.onloadDone ) { scrs[script].domscript.onload(); } } ; document.getElementsByTagName('head')[0].appendChild(scrs[script].domscript); }; })() ; var nx_js_defer_load = (function() { var info = {} ; return function(scrname, callback, t) { var nx_load_once = (function() { return function(scrname) { if (info[scrname].t > 0) setTimeout(function() { _nx_js_load(scrname, info[scrname].callback) ; }, t) ; else _nx_js_load(scrname, info[scrname].callback) ; } ; })(); if (t < 0) t = 0 ; if (info[scrname]) { n = info[scrname].length; for (var i = 0; i < n; i++) { if (info[scrname][i] == callback) return ; } if (t < info[scrname].t) info[scrname].t = t ; } else { info[scrname] = {} ; info[scrname].callback = [] ; info[scrname].t = t ; jindo.$Fn(function() { nx_load_once(scrname) ; }).attach(window, \"load\") ; } info[scrname].callback.push(callback) ; }; })(); function nx_js_lazyload(scripts, onload, is_serial) { if (!(scripts instanceof Array)) { scripts = [scripts]; } if (is_serial) { function load_next() { if (scripts.length == 0) { onload(); return; } _nx_js_load( scripts.shift(), load_next ) ; } load_next(); } else { var load_check = function() { var num_js = scripts.length; return function() { num_js--; if (num_js <= 0) { onload(); } } }(); for (var i = 0; i < scripts.length; i++) { _nx_js_load( scripts[i], load_check ) ; } } } function nx_defer_eval (id) { var codeElement = document.getElementById(id), code = codeElement.innerHTML; eval(code.replace(/\\/\\*/, '').replace(/\\*\\//, '')); } </script><script> try { document.execCommand('BackgroundImageCache', false, true); } catch(e) {} if (top.frames.length!=0 || window!=top) window.open(location, \"_top\") ; naver = window.naver || {}; naver.search = naver.search || {}; naver.search.ext = naver.search.ext || {}; naver.search.map_api = { v2 : \"https://ssl.pstatic.net/sstatic.map/openapi/openapi_v23.js\", v3 : \"https://ssl.pstatic.net/sstatic.map/openapi/maps3.js\" } ; var nx_au_cookie_domain = \"search.naver.com\" ; var nx_mobile_agent = 0 ; var headerfooter_query = \"류준열\" ; var headerfooter_query_encoded = \"%EB%A5%98%EC%A4%80%EC%97%B4\" ; var headerfooter_time_year = 2022 ; var headerfooter_time_month = 10 ; var headerfooter_time_day = 27 ; var headerfooter_time_hour = 19 ; var headerfooter_time_minute = 8 ; var headerfooter_time_second = 11 ; var headerfooter_time_wday = 4 ; var headerfooter_time_year_s = \"2022\" ; var headerfooter_time_month_s = \"10\" ; var headerfooter_time_day_s = \"27\" ; var headerfooter_time_hour_s = \"19\" ; var headerfooter_time_minute_s = \"08\" ; var headerfooter_time_second_s = \"11\" ; var headerfooter_time_wday_s = \"4\" ; var g_ssc = \"tab.image.all\" ; var g_query = \"류준열\" ; var g_puid = \"h1phAwprvmZss6aIn+hssssssaK-327015\" ; var g_suid = \"IDKqO16pEAjqlCiXYE2q6g==\" ; var g_tab = \"image\" ; var g_stab = \"image\" ; var g_crt = naver.search.abt_param; var g_nx_splugin ; document.documentElement.setAttribute('data-useragent', window.navigator.userAgent.toLowerCase()) ; document.documentElement.setAttribute('data-platform', window.navigator.platform.toLowerCase()) ; var g_er_image, g_er_count = 0 ; function g_er (msg) { if (g_er_count++ > 0) return ; g_er_image = new Image() ; g_er_image.src = \"http://er.search.naver.com/er?f=\"+g_tab+\"&w=\"+g_stab+\"&q=%EB%A5%98%EC%A4%80%EC%97%B4&u=\"+encodeURIComponent(document.location)+\"&m=\"+encodeURIComponent(msg) ; } function trim_space (q) { var head_re = /^ */; var tail_re = / *$/; q = q.replace(head_re, \"\"); q = q.replace(tail_re, \"\"); return q; } function trim_crlf (q) { var crlf = /[\\r|\\n]/ ; q = q.replace(crlf, \"\") ; return q ; } function include_script (type, defer, src, charset) { var script = document.createElement(\"script\") ; script.type = type, script.defer = defer ; script.src = src ; if (charset) script.charset = charset ; else script.charset = 'utf-8' ; document.getElementsByTagName('head')[0].appendChild(script) ; return script ; } function include_style (src, charset) { var h = document.getElementsByTagName(\"head\")[0] ; var l = document.createElement('link') ; l.type = 'text/css' ; l.rel = 'stylesheet' ; if (charset) l.charset = charset ; else l.charset = 'utf-8' ; l.media = 'screen' ; l.href = src ; h.appendChild(l) ; } function bt (id, after) { document.getElementById(id).src = after ; } function urlencode (q) { return encodeURIComponent(q).replace(/%20/g, \"+\").replace(/[!~'()]/g, function(c) { return '%' + c.charCodeAt(0).toString(16).toUpperCase() ; }); } function urldecode (q) { return decodeURIComponent(q.replace(/\\+/g, \" \")); } function urlexpand (url) { var href = document.location.href ; if (url == \"\") return href ; if (url.match(/^[-.A-Za-z]+:/)) return url ; if (url.charAt(0) == '#') return href.split(\"#\")[0] + url ; if (url.charAt(0) == '?') return href.split(\"?\")[0] + url ; if (url.charAt(0) == '/') return href.replace(/([^:\\/])\\/.*$/, \"$1\") + url ; return href.substring(0, href.lastIndexOf(\"/\")+1) + url ; } function tt_sub_disable (o) { if (typeof(o.tt_sub) == \"undefined\") return false ; if ((typeof(o.tt_sub) == \"object\") && (o.tt_sub.length)) { var i ; for (var i=0; i<o.tt_sub.length; i++) o.tt_sub[i].disabled = true ; } else o.tt_sub.disabled = true ; return true ; } function cpip () { var evt, sx = sy = px = py = -1 ; try { evt = window.event ; } catch (e) {} try { sx=evt.clientX-document.body.clientLeft, sy=evt.clientY-document.body.clientTop ; } catch (e) {} try { px=document.body.scrollLeft+(sx<0?0:sx), py=document.documentElement.scrollTop+(sy<0?0:sy) ; } catch (e) {} try { if (evt.pageX) px=evt.pageX ; if (evt.pageY) py=evt.pageY ; } catch (e) {} return \"px=\"+px+\"&py=\"+py+\"&sx=\"+sx+\"&sy=\"+sy ; } function nxGetCommonCRParam () { return \"p=\"+urlencode(g_puid)+\"&q=\"+urlencode(g_query)+\"&ie=utf8&rev=1&ssc=\"+urlencode(g_ssc)+\"&f=\"+urlencode(g_tab)+\"&w=\"+urlencode(g_stab)+\"&s=\"+urlencode(g_suid)+\"&time=\"+urlencode((new Date()).getTime())+g_crt ; } function getCRRankingByParam (p, info) { if (typeof info == 'undefined' || info == null) return 0 ; var cr = 0 ; try { var y, z ; var y = p.split('&') ; for (var i = 0; i < y.length; i++) { if (z = y[i].split('=')) { if (z[0] == 'a') { for (var j = 0; j < info.length; j++) { var a = info[j].area.split(/[*.]/)[0]; if (z[1].substr(0, a.length) == a) { cr = j + 1 ; break ; } } break ; } } } } catch (e) { } return cr ; } function getCRRanking (p) { var cr = 0 ; if (typeof naver.search.section == 'undefined') return cr ; if (typeof naver.search.section.main != 'undefined') cr = getCRRankingByParam(p, naver.search.section.main) ; if (cr) return cr ; if (typeof naver.search.section.main2 != 'undefined') cr = getCRRankingByParam(p, naver.search.section.main2) ; return cr ; } function isOutlink (u) { if (!u || u.indexOf(\"://\") < 0) return false; var b = (u.search(/^\\w*:\\/\\/([^:/?]*\\.|)*(?!(ad)?cr\\.)[^.:/?]+\\.+naver\\.com(:\\d*)?(\\/|$)/) < 0);  return b; } function nxGetCRURL (m, a, b, c, d, e) { var p = \"\" ; var u ; if (c==undefined && d==undefined && e==undefined) { p = (a==undefined?\"\":\"&\"+a) + (b==undefined || a.indexOf(\"u=\")==0 || a.indexOf(\"&u=\") > 0 ?\"\":\"&u=\"+urlencode(b)) ; u = b ; } else { p = (a==undefined ? \"\" : \"&a=\"+urlencode(a)) + (b==undefined ? \"\" : \"&r=\"+urlencode(b)) + (c==undefined ? \"\" : \"&i=\"+urlencode(c)) + (d==undefined ? \"\" : \"&u=\"+urlencode(d)) + (e==undefined ? \"\" : \"&\"+e) ; u = d ; } if (! p) return null ; if (0 && u && u.indexOf(\"/search.naver?\") >= 0) { var str = \"\" ;  p = p.replace(/((?:(?:^|&)u=)[^&]*%2Fsearch.naver%3F(?:[^%&]|%[^2]|%2[^3])*)/, '$1' + str); } var url ; if (naver.search.https) { url = (naver.search.meta_referrer ? \"/p/crd\" : \"/p/cr\") + \"/rd\"; if (m != 0) m = 1; } else { out = isOutlink(u); url = \"http://cr.naver.com\" + (g_D && out ? \"/nr\" : \"/rd\"); if (m != 0) m = g_D && out ? 2 : 1; } url += \"?m=\" + m + \"&\" + cpip() + \"&\" + nxGetCommonCRParam() + p; return url; } function tCR (a, b, c, d, e) { var l = nxGetCRURL(0, a, b, c, d, e) ; var cr = getCRRanking(l) ; if (cr > 0) l = l + \"&cr=\" + cr ; if (document.images) (new Image()).src = l ; else document.location = l ; return false ; } function gCR (u, a, r, i, e, t) { if (u) u = urlexpand(u) ; var l = nxGetCRURL(1, a, r, i, u, e) ; var o = document.createElement(\"a\") ; var cr = getCRRanking(l) ; if (cr > 0) l = l + \"&cr=\" + cr ; if (o.click) { o.href = l ; o.style.display = \"none\" ; document.body.appendChild(o) ; o.click() ; } else document.location = l ; } function goCR (o, p, t) { var p0 = o.getAttribute && o.getAttribute(\"crp\"), u = o.href, u0 = u ; if (p0 && u.indexOf(p0)>0 && u.match(/\\/(rd|nr)\\?/)) { u = u0 = o.getAttribute && o.getAttribute(\"cru\") || u ; p = p0 ; } p0 = p ; tt_sub_disable(o) ; if (p.indexOf(\"u=javascript\") >= 0) t = true ; /* no frame/iframe but new window */ var n = (o.ownerDocument==document && o.target && o.target!=\"_self\" && o.target!=\"_parent\" && o.target!=\"_top\") && !(window.location.protocol&&window.location.protocol.indexOf(\"https:\")==0) ; var cr = getCRRanking(p) ; if (cr > 0) p = p + \"&cr=\" + cr ;  u = nxGetCRURL(t?0:(n?-1:1), p, u) ; if (u && !u.match(/m=0&/)) { if (o.setAttribute) { if (p0) o.setAttribute(\"crp\", p0) ; if (u0) o.setAttribute(\"cru\", u0) ; if (g_D && naver.search.https && naver.search.meta_referrer && o.href && isOutlink(o.href)) o.setAttribute(\"rel\", \"noreferrer\"); } var a = o.innerHTML ; o.href = u ; if (o.innerHTML != a) o.innerHTML = a ; } else if (document.images) (new Image()).src = u ; return true ; } function goOtherCR (o, p) { return goCR(o, p, false) ; } function goOtherTCR (o, p) { return goCR(o, p, true) ; } function get_form_url (o) { var url = o.getAttribute(\"action\") ; if (url == null) url = \"\" ; var e, n = 0 ; for (var i=0; i<o.elements.length; i++) { e = o.elements[i] ; if (e.disabled || !e.name) continue ; url += (n++>0?\"&\":url.indexOf(\"?\")<0?\"?\":url.indexOf(\"?\")<url.length-1?\"&\":\"\") + encodeURIComponent(e.name) + \"=\" + encodeURIComponent(e.value) ; } return url ; } function formCR (o, area, rank, id) { if (typeof o == 'string') o = document.getElementById(o) ; var target = o.getAttribute(\"target\") ; if (target && target!=\"_self\" && target!=\"_parent\" && target!=\"_top\" || /^post$/i.test(o.getAttribute(\"method\"))) { tCR(area, rank, id) ; o.submit() ; return false ; } var url = get_form_url(o) ; var a = document.createElement(\"a\") ; a.href = url ; var p = area != undefined ? \"a=\" + area : \"\" ; if (rank != undefined) p += (p?\"&\":\"\") + \"r=\" + encodeURIComponent(rank) ; if (id != undefined) p += (p?\"&\":\"\") + \"i=\" + encodeURIComponent(id) ; if (url != undefined) p += (p?\"&\":\"\") + \"u=\" + encodeURIComponent(urlexpand(url)) ; goCR(a, p) ; if (navigator.userAgent.indexOf('MSIE') > 0) { a.style.display = 'none' ; o.appendChild(a) ; a.click() ; } else document.location = a.href ; return false ; } function rank_val (rank, name, sign, number, ad_onair) { this.rank = rank ; this.name = name ; this.sign = sign ; this.number = number ; this.ad_onair = ad_onair ; } function rr_hotquery_val (titleImg, totalLink, ad_onair) { this.titleImg = titleImg ; this.totalLink = totalLink ; this.ad_onair = ad_onair ; } function rr_append () { for (var i=0; i<rr_list.length; i++) if (rr_list[i].qname==hotqry_Name && rr_list[i].dir==hotqry_Dir) return 0 ; var o = { order:hotqry_Order, contid:hotqry_ContID, qname:hotqry_Name, dir:hotqry_Dir, toprank:hotqry_TopRank, rankdown:hotqry_RankDown, clicklog:hotqry_ClickLog, toprank_idx:toprank_idx, lowrank_idx:lowrank_idx, topranklist:toprank, lowranklist:lowrank_idx>=0?lowrank:null } ; rr_list = rr_list.concat(o) ; return 1 ; } var msg_hidden_idle=null; function msg (id) { if(msg_hidden_idle) clearInterval(msg_hidden_idle); if(id) { var mid=document.getElementById(id); mid.style.display=''; mid.style.visibility='visible'; } } function msg_hidden (id, f) { if(f) hidden(id); else msg_hidden_idle=setInterval(\"hidden('\"+id+\"')\",100); } function hidden (id) { var mid=document.getElementById(id); mid.style.display='none'; mid.style.visibility='hidden'; } function nx_check_basic () { return ; } function nx_set_cookie (name, value, expire, domain) { var cookie = name + \"=\" + escape(value); if (expire != null) { if (expire instanceof Date) { cookie = cookie + \"; expires=\" + expire.toUTCString(); } else { var exdate = new Date((new Date()).getTime() + expire*1000); cookie = cookie + \"; expires=\" + exdate.toUTCString(); } } cookie = cookie + \"; path=/\"; if (domain != null) { cookie = cookie + \"; domain=\" + domain; } document.cookie = cookie; } function nx_get_cookie (name) { var cookie_list = document.cookie.split(/\\s*;\\s*/); for (var i = 0; i < cookie_list.length; i++) { var tmp_list = cookie_list[i].split(\"=\"); var c_name = trim_space(tmp_list[0]); var c_value = tmp_list[1]; if (name == c_name) { return unescape(c_value); } } return null; } var nx_default_charset = document.charset ; function nx_form_emul_charset (form) { if (/msie/i.test(navigator.userAgent) && !/opera/i.test(navigator.userAgent)) { document.charset = form.acceptCharset ; window.onbeforeunload = function () { document.charset = nx_default_charset ; } ; } return true; } (function() { function ignore(e) { var tagName = e.target.tagName.toUpperCase(); var ignoreTargets = [\"INPUT\", \"SELECT\", \"TEXTAREA\", \"EMBED\", \"OBJECT\"]; var isKeyV = e.key.toLowerCase() === \"v\"; if (ignoreTargets.indexOf(tagName) !== -1 || isContentEditable(e)) return true; else if (e.altKey) return true; else if (e.ctrlKey && !isKeyV) return true; else if (e.metaKey && !isKeyV) return true; else if (isSpaceKey(e)) return true; return false; } function isContentEditable(e) { return e.target.contentEditable === 'true'; } function stop(e) { e.preventDefault(); e.stopPropagation(); } function focus(reset) { var query = document.getElementById(\"nx_query\"); scrollTo(0, 0); if (reset) query.value = \"\"; query.focus(); query.select(); } function isSpaceKey(e) { return e.code === \"Space\" || e.key === \"Spacebar\" || e.key === \" \"; } function isShiftKeyAndSpaceKey(e) { return e.shiftKey && isSpaceKey(e); } function isF2Key(e) { return e.key === \"F2\"; } function isInsertKey(e) { return e.key === \"Insert\" || e.code === \"Insert\"; } function isSingleCharKey(e) { return e.key.length === 1; } document.addEventListener(\"keydown\", function onKeydown(e) { try { if (ignore(e)) return; if (isShiftKeyAndSpaceKey(e) || isF2Key(e) || isInsertKey(e)) { stop(e); focus(); } else if (isSingleCharKey(e)) { focus(true); } } catch (err) {} }); })(); (function(exportTarget) { var lcs_options = { nnb: true }; var lcs_version = \"v0.8.3\"; var lcs_add = {}; var lcs_bc = {}; var lcs_perf = {}; var lcs_do_count = 0; var lcs_do_retry_count = 0; var lcs_waiting_pageshow = false; function lcs_do(optional_etc) { var etc = optional_etc || {}; if (lcs_waiting_pageshow) { return; } var retry = function(__etc) { return function() { window.setTimeout(function() { lcs_waiting_pageshow = false; lcs_do(__etc); }, 10); } }(etc); if (document.readyState !== \"complete\") { var eventName = \"onpageshow\" in window ? \"pageshow\" : \"load\"; if (document.addEventListener) { window.addEventListener(eventName, retry, false); } else { window.attachEvent(\"on\"+ eventName, retry); } lcs_do_retry_count++; lcs_waiting_pageshow = true; return; } if (!window.lcs_SerName) { window.lcs_SerName = \"lcs.naver.com\"; } var rs = \"\"; var index; var itarVal; var doc = document; var wlt = window.location; var lcsServerAddr; try { lcsServerAddr = \"https://\" + window.lcs_SerName + \"/m?\"; } catch (e) { return; } try { rs = lcsServerAddr + \"u=\" + encodeURIComponent(wlt.href) + \"&e=\" + (doc.referrer ? encodeURIComponent(doc.referrer) : \"\"); } catch (e) {} try { if (typeof lcs_add.i == \"undefined\") lcs_add.i = \"\"; if (lcs_do_count < 1) { lcs_setBrowserCapa(); if (lcs_options.nnb) { lcs_setNNB(); } lcs_setConnectionType(); lcs_setNavigationTiming(); var loadEventStart = lcs_perf[\"loadEventStart\"] || 0; var loadEventEnd = lcs_perf[\"loadEventEnd\"] || 0; if (loadEventEnd < loadEventStart && lcs_do_retry_count < 3) { lcs_do_retry_count++; lcs_waiting_pageshow = true; retry(); return; } lcs_setPaintTiming(); lcs_setNavigationType(); } for (index in lcs_bc) { if (typeof lcs_bc[index] !== \"function\") rs += \"&\" + index + \"=\" + encodeURIComponent(lcs_bc[index]); } for (index in lcs_add) { itarVal = lcs_add[index]; if (itarVal !== undefined && typeof itarVal !== \"function\") { rs += \"&\" + index + \"=\" + encodeURIComponent(itarVal); } } if (lcs_do_count < 1) { for (index in lcs_perf) { itarVal = lcs_perf[index]; if (itarVal) { rs += \"&\" + index + \"=\" + encodeURIComponent(itarVal); } } } var dni = !!etc.dni ? etc.dni : getCookie(\"NAPP_DI\"); if (!!dni) { etc.dni = dni; } else { delete etc.dni; } for (index in etc) { if ( (index.length >= 3 && typeof etc[index] !== \"function\") || index === \"qy\" ) { rs += \"&\" + index + \"=\" + encodeURIComponent(etc[index]); } } if (!!etc === false || !!etc.pid === false) { var pidFallback; if (window.g_pid) { pidFallback = g_pid; } else { pidFallback = lcs_get_lpid(); } rs += \"&pid=\" + encodeURIComponent(pidFallback); } var timeStr = new Date().getTime(); rs += \"&ts=\" + timeStr; rs += \"&EOU\"; var obj = document.createElement(\"img\"); obj.src = rs; obj.onload = function() { obj.onload = null; return; }; lcs_do_count++; } catch (e) { return; } } function getCookie(name) { var value = document.cookie.match('(^|;) ?' + name + '=([^;]*)(;|$)'); return value? value[2] : \"\"; } function lcs_do_gdid(gdid, etc) { try { if (gdid) { lcs_add[\"i\"] = gdid; if (etc) { lcs_do(etc); } else { lcs_do(); } } } catch (e) {} } function getLocalStorage() { var localStorage = null; try { localStorage = window.localStorage; } catch (e) {} try { if (!localStorage) localStorage = window.sessionStorage; } catch (e) {} return localStorage || null; } function lcs_setNNB() { try { var lsg = getLocalStorage(); if (lsg) { if (lsg.ls) { var lc = lsg.ls; if (lc.length == 13) { lcs_add[\"ls\"] = lc; return; } } var nnb = lcs_getNNBfromCookie(); if (nnb != null && nnb != \"\") { lsg.ls = nnb; lcs_add[\"ls\"] = nnb; } } } catch (e) {} } function lcs_setBrowserCapa() { lcs_bc[\"os\"] = lcs_getOS(); lcs_bc[\"ln\"] = lcs_getlanguage(); lcs_bc[\"sr\"] = lcs_getScreen(); lcs_bc[\"pr\"] = window.devicePixelRatio || 1; var windowSize = lcs_getWindowSize(); lcs_bc[\"bw\"] = windowSize[\"bw\"]; lcs_bc[\"bh\"] = windowSize[\"bh\"]; lcs_bc[\"c\"] = lcs_getColorDepth(); lcs_bc[\"j\"] = lcs_getJavaEnabled(); lcs_bc[\"k\"] = lcs_getCookieEnabled(); } function lcs_getOS() { var lcs_os = \"\"; try { navigator.platform ? (lcs_os = navigator.platform) : \"\"; } catch (e) {} return lcs_os; } function lcs_getlanguage() { var lcs_ln = \"\"; try { navigator.userLanguage ? (lcs_ln = navigator.userLanguage) : navigator.language ? (lcs_ln = navigator.language) : \"\"; } catch (e) {} return lcs_ln; } function lcs_getScreen() { var lcs_sr = \"\"; try { if (window.screen && screen.width && screen.height) { lcs_sr = screen.width + \"x\" + screen.height; } else if (window.java || self.java) { var sr = java.awt.Toolkit.getDefaultToolkit().getScreenSize(); lcs_sr = sr.width + \"x\" + sr.height; } } catch (e) { lcs_sr = \"\"; } return lcs_sr; } function lcs_getWindowSize() { var doc = document; var size = { bw: \"\", bh: \"\" }; try { size[\"bw\"] = doc.documentElement.clientWidth ? doc.documentElement.clientWidth : doc.body.clientWidth; size[\"bh\"] = doc.documentElement.clientHeight ? doc.documentElement.clientHeight : doc.body.clientHeight; } catch (e) {} return size; } function lcs_getColorDepth() { var colorDepth = \"\"; try { if (window.screen) { colorDepth = screen.colorDepth ? screen.colorDepth : screen.pixelDepth; } else if (window.java || self.java) { var c = java.awt.Toolkit.getDefaultToolkit() .getColorModel() .getPixelSize(); colorDepth = c; } } catch (e) { colorDepth = \"\"; } return colorDepth; } function lcs_getJavaEnabled() { var jsEnable = \"\"; try { jsEnable = navigator.javaEnabled() ? \"Y\" : \"N\"; } catch (e) {} return jsEnable; } function lcs_getCookieEnabled() { var cookieEnable = \"\"; try { cookieEnable = navigator.cookieEnabled ? \"Y\" : \"N\"; } catch (e) {} return cookieEnable; } function lcs_getNNBfromCookie() { try { var ck = document.cookie; var k, v, i, ArrCookies = ck.split(\";\"); for (i = 0; i < ArrCookies.length; i++) { k = ArrCookies[i].substr(0, ArrCookies[i].indexOf(\"=\")); v = ArrCookies[i].substr(ArrCookies[i].indexOf(\"=\") + 1); k = k.replace(/^\\s+|\\s+$/g, \"\"); if (k == \"NNB\") { return unescape(v); } } } catch (e) {} } function lcs_setConnectionType() { var connection = navigator.connection; if (connection) { if (connection.type && connection.type.length > 1) { lcs_add[\"ct\"] = connection.type; } if (connection.effectiveType) { lcs_add[\"ect\"] = connection.effectiveType; } } } function lcs_setNavigationTiming() { var performance = window.performance || {}; if (performance.timing) { var pt = performance.timing; for (var key in pt) { var value = pt[key]; if (typeof value === \"number\") { lcs_perf[key] = value; } } } } function lcs_setPaintTiming() { var performance = window.performance || {}; try { if (performance.getEntriesByType) { var performanceEntries = performance.getEntriesByType(\"paint\"); performanceEntries.forEach(function(performanceEntry, i, entries) { var name = performanceEntry.name; switch (name) { case \"first-paint\": case \"first-contentful-paint\": lcs_perf[name] = performanceEntry.startTime; break; default: break; } }); } else { } } catch (e) { console.warn(e); } } function lcs_setNavigationType() { var ngt = getNavigationType(); if (ngt !== undefined) { lcs_perf[\"ngt\"] = ngt; } } function getNavigationType() { var performance = window.performance || {}; if (performance.navigation) { return performance.navigation.type; } return; } var lpid = null; function lcs_create_lpid() { var uaID; var lsg = getLocalStorage(); var nnb = lsg ? lsg.ls : null; if (nnb) { uaID = nnb; } else { var nnbFallback; nnbFallback = navigator.userAgent + Math.random(); uaID = nnbFallback; } var performance = window.performance || {}; var pageURL = location.href; var currentTime; if (performance.now) { currentTime = performance.now(); } else { currentTime = new Date().getTime(); } lpid = hashFunction.md5(uaID + pageURL + currentTime); return lpid; } function lcs_get_lpid() { if (lpid === null) { lpid = lcs_create_lpid(); } return lpid; } function lcs_update_lpid() { lpid = lcs_create_lpid(); return lpid; } var hashFunction = {}; (function(exportTarget) { function safeAdd(x, y) { var lsw = (x & 0xffff) + (y & 0xffff); var msw = (x >> 16) + (y >> 16) + (lsw >> 16); return (msw << 16) | (lsw & 0xffff); } function bitRotateLeft(num, cnt) { return (num << cnt) | (num >>> (32 - cnt)); } function md5cmn(q, a, b, x, s, t) { return safeAdd( bitRotateLeft(safeAdd(safeAdd(a, q), safeAdd(x, t)), s), b ); } function md5ff(a, b, c, d, x, s, t) { return md5cmn((b & c) | (~b & d), a, b, x, s, t); } function md5gg(a, b, c, d, x, s, t) { return md5cmn((b & d) | (c & ~d), a, b, x, s, t); } function md5hh(a, b, c, d, x, s, t) { return md5cmn(b ^ c ^ d, a, b, x, s, t); } function md5ii(a, b, c, d, x, s, t) { return md5cmn(c ^ (b | ~d), a, b, x, s, t); } function binlMD5(x, len) { x[len >> 5] |= 0x80 << len % 32; x[(((len + 64) >>> 9) << 4) + 14] = len; var i; var olda; var oldb; var oldc; var oldd; var a = 1732584193; var b = -271733879; var c = -1732584194; var d = 271733878; for (i = 0; i < x.length; i += 16) { olda = a; oldb = b; oldc = c; oldd = d; a = md5ff(a, b, c, d, x[i], 7, -680876936); d = md5ff(d, a, b, c, x[i + 1], 12, -389564586); c = md5ff(c, d, a, b, x[i + 2], 17, 606105819); b = md5ff(b, c, d, a, x[i + 3], 22, -1044525330); a = md5ff(a, b, c, d, x[i + 4], 7, -176418897); d = md5ff(d, a, b, c, x[i + 5], 12, 1200080426); c = md5ff(c, d, a, b, x[i + 6], 17, -1473231341); b = md5ff(b, c, d, a, x[i + 7], 22, -45705983); a = md5ff(a, b, c, d, x[i + 8], 7, 1770035416); d = md5ff(d, a, b, c, x[i + 9], 12, -1958414417); c = md5ff(c, d, a, b, x[i + 10], 17, -42063); b = md5ff(b, c, d, a, x[i + 11], 22, -1990404162); a = md5ff(a, b, c, d, x[i + 12], 7, 1804603682); d = md5ff(d, a, b, c, x[i + 13], 12, -40341101); c = md5ff(c, d, a, b, x[i + 14], 17, -1502002290); b = md5ff(b, c, d, a, x[i + 15], 22, 1236535329); a = md5gg(a, b, c, d, x[i + 1], 5, -165796510); d = md5gg(d, a, b, c, x[i + 6], 9, -1069501632); c = md5gg(c, d, a, b, x[i + 11], 14, 643717713); b = md5gg(b, c, d, a, x[i], 20, -373897302); a = md5gg(a, b, c, d, x[i + 5], 5, -701558691); d = md5gg(d, a, b, c, x[i + 10], 9, 38016083); c = md5gg(c, d, a, b, x[i + 15], 14, -660478335); b = md5gg(b, c, d, a, x[i + 4], 20, -405537848); a = md5gg(a, b, c, d, x[i + 9], 5, 568446438); d = md5gg(d, a, b, c, x[i + 14], 9, -1019803690); c = md5gg(c, d, a, b, x[i + 3], 14, -187363961); b = md5gg(b, c, d, a, x[i + 8], 20, 1163531501); a = md5gg(a, b, c, d, x[i + 13], 5, -1444681467); d = md5gg(d, a, b, c, x[i + 2], 9, -51403784); c = md5gg(c, d, a, b, x[i + 7], 14, 1735328473); b = md5gg(b, c, d, a, x[i + 12], 20, -1926607734); a = md5hh(a, b, c, d, x[i + 5], 4, -378558); d = md5hh(d, a, b, c, x[i + 8], 11, -2022574463); c = md5hh(c, d, a, b, x[i + 11], 16, 1839030562); b = md5hh(b, c, d, a, x[i + 14], 23, -35309556); a = md5hh(a, b, c, d, x[i + 1], 4, -1530992060); d = md5hh(d, a, b, c, x[i + 4], 11, 1272893353); c = md5hh(c, d, a, b, x[i + 7], 16, -155497632); b = md5hh(b, c, d, a, x[i + 10], 23, -1094730640); a = md5hh(a, b, c, d, x[i + 13], 4, 681279174); d = md5hh(d, a, b, c, x[i], 11, -358537222); c = md5hh(c, d, a, b, x[i + 3], 16, -722521979); b = md5hh(b, c, d, a, x[i + 6], 23, 76029189); a = md5hh(a, b, c, d, x[i + 9], 4, -640364487); d = md5hh(d, a, b, c, x[i + 12], 11, -421815835); c = md5hh(c, d, a, b, x[i + 15], 16, 530742520); b = md5hh(b, c, d, a, x[i + 2], 23, -995338651); a = md5ii(a, b, c, d, x[i], 6, -198630844); d = md5ii(d, a, b, c, x[i + 7], 10, 1126891415); c = md5ii(c, d, a, b, x[i + 14], 15, -1416354905); b = md5ii(b, c, d, a, x[i + 5], 21, -57434055); a = md5ii(a, b, c, d, x[i + 12], 6, 1700485571); d = md5ii(d, a, b, c, x[i + 3], 10, -1894986606); c = md5ii(c, d, a, b, x[i + 10], 15, -1051523); b = md5ii(b, c, d, a, x[i + 1], 21, -2054922799); a = md5ii(a, b, c, d, x[i + 8], 6, 1873313359); d = md5ii(d, a, b, c, x[i + 15], 10, -30611744); c = md5ii(c, d, a, b, x[i + 6], 15, -1560198380); b = md5ii(b, c, d, a, x[i + 13], 21, 1309151649); a = md5ii(a, b, c, d, x[i + 4], 6, -145523070); d = md5ii(d, a, b, c, x[i + 11], 10, -1120210379); c = md5ii(c, d, a, b, x[i + 2], 15, 718787259); b = md5ii(b, c, d, a, x[i + 9], 21, -343485551); a = safeAdd(a, olda); b = safeAdd(b, oldb); c = safeAdd(c, oldc); d = safeAdd(d, oldd); } return [a, b, c, d]; } function binl2rstr(input) { var i; var output = \"\"; var length32 = input.length * 32; for (i = 0; i < length32; i += 8) { output += String.fromCharCode((input[i >> 5] >>> i % 32) & 0xff); } return output; } function rstr2binl(input) { var i; var output = []; output[(input.length >> 2) - 1] = undefined; for (i = 0; i < output.length; i += 1) { output[i] = 0; } var length8 = input.length * 8; for (i = 0; i < length8; i += 8) { output[i >> 5] |= (input.charCodeAt(i / 8) & 0xff) << i % 32; } return output; } function rstrMD5(s) { return binl2rstr(binlMD5(rstr2binl(s), s.length * 8)); } function rstrHMACMD5(key, data) { var i; var bkey = rstr2binl(key); var ipad = []; var opad = []; var hash; ipad[15] = opad[15] = undefined; if (bkey.length > 16) { bkey = binlMD5(bkey, key.length * 8); } for (i = 0; i < 16; i += 1) { ipad[i] = bkey[i] ^ 0x36363636; opad[i] = bkey[i] ^ 0x5c5c5c5c; } hash = binlMD5(ipad.concat(rstr2binl(data)), 512 + data.length * 8); return binl2rstr(binlMD5(opad.concat(hash), 512 + 128)); } function rstr2hex(input) { var hexTab = \"0123456789abcdef\"; var output = \"\"; var x; var i; for (i = 0; i < input.length; i += 1) { x = input.charCodeAt(i); output += hexTab.charAt((x >>> 4) & 0x0f) + hexTab.charAt(x & 0x0f); } return output; } function str2rstrUTF8(input) { return unescape(encodeURIComponent(input)); } function rawMD5(s) { return rstrMD5(str2rstrUTF8(s)); } function hexMD5(s) { return rstr2hex(rawMD5(s)); } function rawHMACMD5(k, d) { return rstrHMACMD5(str2rstrUTF8(k), str2rstrUTF8(d)); } function hexHMACMD5(k, d) { return rstr2hex(rawHMACMD5(k, d)); } function md5(string, key, raw) { if (!key) { if (!raw) { return hexMD5(string); } return rawMD5(string); } if (!raw) { return hexHMACMD5(key, string); } return rawHMACMD5(key, string); } exportTarget.md5 = md5; })(hashFunction); exportTarget.lcs_do = lcs_do; exportTarget.lcs_do_gdid = lcs_do_gdid; exportTarget.lcs_get_lpid = lcs_get_lpid; exportTarget.lcs_update_lpid = lcs_update_lpid; exportTarget.lcs_version = lcs_version; })(window); if (window.addEventListener) window.addEventListener(\"load\", function() { lcs_do({\"pid\": \"h1phAwprvmZss6aIn+hssssssaK-327015\", \"ssc\":\"tab.image.all\"}) }, false) ; else lcs_do({\"pid\": \"h1phAwprvmZss6aIn+hssssssaK-327015\", \"ssc\":\"tab.image.all\"}) ; </script> <script crossorigin=\"anonymous\" src=\"https://ssl.pstatic.net/sstatic/sdyn.js?f=/au/pc/_nx/jindo_1.5.3_171116.js+/search/js/nhn.Component.js+/search/js/jindo.Component.1.1.0.js+/search/js/jindo.component.library_120927.js+/au/s/pc/_common/jindo/jindo.Rolling_140526.js+/fe/sfe/_common/pc/nhn.common_211014_a.js+/fe/sfe/nx_jquery/pc/nx_jquery_221027.js+/fe/meerkat/logger/sfe/naver.common.meerkat.logger.sfePc_221027.js+/fe/sfe/naver_autocomplete/pc/naver.common.atcmp.naver_web_221027.js+/fe/sfe/web-vitals/web-vitals_221014.js+/fe/sfe/scrollLog/Controller_220714.js+/fe/sfe/image-search/ImageSearchPCInitializer_220825.js&amp;o=search\" type=\"text/javascript\"></script> <script> 0 && naver.common.meerkat.logger.observe(); function nx_add_event_handler (event, func) { $Fn(func).attach(document, event) ; } </script><script type=\"text/javascript\"> function nx_form_submit (f) { if (g_D || 0) f.action = \"\" ; if (typeof naver.search.option !== 'undefined') naver.search.option.append_params(f, ['qdt', 'qvt']); return true ; } </script><script type=\"text/javascript\"> var g_site = \"\" ; function document_write (s) { document.write(s) ; } nhn.jsLazyLoad = { include: function(a, b, c) { nx_js_lazyload(a, b, 0) ; } } ; nx_js_defer_load(\"https://ssl.pstatic.net/sstatic/au/s/pc/_others/nxtt/search_om.js\", function() {NXTT.div=document.getElementById(\"nxtt_div\");}, 50); </script></link></meta></head> <body class=\"wrap-new api_animation tabsch tabsch_image\"> <div id=\"nxtt_div\" style=\"display:none;position:absolute;border-width:0;z-index:11000\"></div> <div id=\"u_skip\"> <a href=\"#lnb\"><span>메뉴 영역으로 바로가기</span></a> <a href=\"#content\"><span>본문 영역으로 바로가기</span></a> </div> <div id=\"wrap\"> <div id=\"header_wrap\" role=\"heading\"> <div class=\"api_floating_header\"> <div class=\"gnb_wrap\"> <div class=\"header_group\"> <div class=\"search_area\"> <h1 class=\"logo\"><a class=\"link\" href=\"https://www.naver.com\" onclick=\"return goOtherCR(this, 'a=sta.naver&amp;r=&amp;i=&amp;u='+urlencode(this.href));\"><i class=\"spnew ico_logo\">NAVER</i></a></h1> <form action=\"?\" id=\"nx_search_form\" method=\"get\" name=\"search\" onsubmit=\"return nx_form_submit(this)\" role=\"search\"> <fieldset class=\"greenwindow\"> <legend>검색</legend> <input name=\"sm\" type=\"hidden\" value=\"tab_hty.top\"/> <input name=\"where\" type=\"hidden\" value=\"image\"/> <div class=\"greenbox\"> <input accesskey=\"s\" autocomplete=\"off\" class=\"box_window\" data-atcmp-element=\"\" id=\"nx_query\" maxlength=\"255\" name=\"query\" placeholder=\"검색어를 입력해 주세요.\" type=\"text\" value=\"류준열\"/> </div> <input name=\"oquery\" type=\"hidden\" value=\"류준열\"/> <input name=\"tqi\" type=\"hidden\" value=\"h1phAwprvmZss6aIn+hssssssaK-327015\"/> <input disabled=\"\" name=\"acq\" type=\"hidden\" value=\"\"/> <input disabled=\"\" name=\"acr\" type=\"hidden\" value=\"\"/> <input disabled=\"\" name=\"qdt\" type=\"hidden\" value=\"\"/> <input disabled=\"\" name=\"acir\" type=\"hidden\" value=\"\"/> <input disabled=\"\" name=\"os\" type=\"hidden\" value=\"\"/> <input disabled=\"\" name=\"bid\" type=\"hidden\" value=\"\"/> <input disabled=\"\" name=\"pkid\" type=\"hidden\" value=\"\"/> <input disabled=\"\" name=\"eid\" type=\"hidden\" value=\"\"/> <input disabled=\"\" name=\"mra\" type=\"hidden\" value=\"\"/> <div class=\"setkr_area\"> <a aria-pressed=\"false\" class=\"bt_setkr\" href=\"#\" id=\"ke_kbd_btn\" onclick=\"return tCR('a=sch.ime');\" role=\"button\"><i class=\"spnew ico_keyboard\">한글 입력기</i></a> <div id=\"_nx_kbd\" style=\"display:none;\"></div> </div> <script> (function() { var startApplication = function() { var jsUrl = \"https://ssl.pstatic.net/sstatic/au/pc/ime/ime_201105.js\"; var ime; jQuery(\"#ke_kbd_btn\").on(\"click\", function(){ require([jsUrl], function(IMEKeyboard) { if (ime) { ime.toggle(); return; } ime = new IMEKeyboard({selector: { TOGGLE_BTN: \"#ke_kbd_btn\", CONTENTS_AREA: \"#_nx_kbd\", INPUT: \"#nx_query\" }}).toggle(); }, function () { alert(\"네트워크 상태가 안 좋아 한영입력기를 불러오지 못했습니다.\\n잠시 후 다시 시도해 주세요.\"); }); }); }; naver.common.load_js(window.require ? null : naver.common.gv.REQUIRE_JS, startApplication, true, 150); })(); </script> <div class=\"autocomplete\"> <a aria-pressed=\"false\" class=\"bt_atcp _btn_arw\" data-atcmp-element=\"\" href=\"#\" id=\"nautocomplete\" role=\"button\"><i class=\"spnew ico_arrow\">자동완성 레이어</i></a> <div class=\"ly_atcmp\" data-atcmp-element=\"\" id=\"nx_autoframe_top\" style=\"display:none\"> <div class=\"api_atcmp_wrap\"> <div class=\"atcmp_fixer _recent_layer\" style=\"display:none;\"> <div class=\"atcmp_header _recent_header\"> <strong class=\"tit\">최근검색어</strong> <div class=\"option\"> <a aria-pressed=\"false\" class=\"item _delAll\" href=\"#\" role=\"button\">전체삭제</a> </div> </div> <div class=\"atcmp_container\"> <ul class=\"kwd_lst _recent\"> <li class=\"item _item\" data-keyword=\"@in_txt@\" data-rank=\"@rank@\" data-template-type=\"history\"> <a class=\"kwd\" href=\"#\"> <span class=\"fix\"><span class=\"common_ico_kwd\"><i class=\"imsc ico_search\"></i></span><span>@txt@</span></span> </a> <span class=\"etc\"> <em class=\"date\">@date@.</em> <a aria-pressed=\"false\" class=\"bt_item _del\" href=\"#\" role=\"button\"><i class=\"imsc ico_del\">삭제</i></a> </span> </li> </ul> <div class=\"kwd_info kwd_off _offMsg\" style=\"display: none;\">검색어 저장 기능이 꺼져 있습니다.<br/><span class=\"kwd_dsc\">설정이 초기화 된다면 <a class=\"kwd_help\" href=\"https://help.naver.com/support/alias/search/word/word_29.naver\" onclick=\"return goOtherCR(this,'a=sly.help&amp;r=&amp;i=&amp;u='+urlencode(this.href));\" target=\"_blank\">도움말</a>을 확인해주세요.</span></div> <div class=\"kwd_info kwd_none _recentNone\" style=\"display: none;\">최근 검색어 내역이 없습니다.<br/><span class=\"kwd_dsc\">설정이 초기화 된다면 <a class=\"kwd_help\" href=\"https://help.naver.com/support/alias/search/word/word_29.naver\" onclick=\"return goOtherCR(this,'a=sly.help&amp;r=&amp;i=&amp;u='+urlencode(this.href));\" target=\"_blank\">도움말</a>을 확인해주세요.</span></div> </div> <div class=\"atcmp_footer\"> <span class=\"side_opt_area\"> <span class=\"opt_item\"><a href=\"https://help.naver.com/support/alias/search/word/word_29.naver\" onclick=\"return goOtherCR(this,'a=sly.help&amp;r=&amp;i=&amp;u='+urlencode(this.href));\" target=\"_blank\">도움말</a></span> </span> <span class=\"rside_opt_area\"> <span class=\"opt_item\"> <a class=\"close _keywordOnOff\" href=\"#\">자동저장 끄기</a> </span> </span> </div> </div> <div class=\"atcmp_fixer _atcmp_layer\" style=\"display:none;\"> <div class=\"atcmp_container _words\"> <div class=\"atcmp_correct type_lotto _answer\" data-code=\"@code@\" data-keyword=\"@1@\" data-template-type=\"answer_3\"> <a class=\"link_item\" href=\"#\"> <span class=\"common_ico_kwd\"><i class=\"imsc ico_search\"></i></span> <div class=\"dsc_area\"> <span class=\"tit\">@5@회차 당첨번호</span> <span class=\"dsc\"> <span class=\"item\">추첨 @13@.</span><span class=\"item\">지급기한 1년</span> </span> </div> <span class=\"etc_area\"> <span class=\"etc lotto\"> <em class=\"n@6@\">@6@</em><em class=\"n@7@\">@7@</em><em class=\"n@8@\">@8@</em><em class=\"n@9@\">@9@</em><em class=\"n@10@\">@10@</em><em class=\"n@11@\">@11@</em><em class=\"imsc_bf bonus n@12@\">@12@</em> </span> </span> </a> </div> <div class=\"atcmp_correct type_exchange _answer\" data-code=\"@code@\" data-keyword=\"@1@\" data-template-type=\"answer_9\"> <a class=\"link_item @11@\" href=\"#\"> <span class=\"common_ico_kwd\"><i class=\"imsc ico @12@\">@14@</i></span> <div class=\"dsc_area\"> <span class=\"tit\">@txt@<span class=\"sub\">@currency@</span></span> <span class=\"dsc\"> <span class=\"item\"><i class=\"imsc ico_arr\"></i>@8@(@9@%)</span> </span> </div> <span class=\"etc_area\"> <span class=\"etc\"><em class=\"num\">@6@</em>원</span> </span> </a> </div> <div class=\"atcmp_correct type_weather _answer\" data-code=\"@code@\" data-keyword=\"@1@\" data-template-type=\"answer_11\"> <a class=\"link_item @12@\" href=\"#\"> <span class=\"common_ico_kwd\"><i class=\"imsc ico_search\"></i></span> <div class=\"dsc_area\"> <span class=\"tit\">@txt@</span> <span class=\"dsc\"> <span class=\"item\">@7@, @message@</span> </span> </div> <span class=\"etc_area\"> <span class=\"etc\"> <span class=\"ico_weather\"><i class=\"imsc ico ico@iconNo@\">@7@</i></span> <em class=\"degree\">@8@<sup class=\"celsius\">°</sup></em> </span> </span> </a> </div> <div class=\"atcmp_correct type_site _answer\" data-code=\"@code@\" data-keyword=\"@1@\" data-template-type=\"answer_17\"> <a class=\"link_item\" href=\"@5@\" target=\"_blank\"> <span class=\"common_ico_kwd\"><i class=\"imsc ico_url\"></i></span> <div class=\"dsc_area\"> <span class=\"tit\">@txt@</span> <span class=\"dsc\"> <span class=\"item\">@5@</span> </span> </div> <span class=\"etc_area\"> <span class=\"etc\">바로가기</span> </span> </a> </div> <ul class=\"kwd_lst _kwd_list\"> <li class=\"item _item\" data-keyword=\"@in_txt@\" data-rank=\"@rank@\" data-template-type=\"suggestion\"> <a class=\"kwd\" href=\"#\"> <span class=\"fix\"><span class=\"common_ico_kwd\"><i class=\"imsc ico_search\"></i></span>@txt@</span> </a> <span class=\"etc\"> <a aria-pressed=\"false\" class=\"bt_item _add\" href=\"#\" role=\"button\"><i class=\"imsc ico_insert\">추가</i></a> </span> </li> <li class=\"item has_correct _item\" data-keyword=\"@in_txt@\" data-rank=\"@rank@\" data-template-type=\"history\"> <a class=\"kwd\" href=\"#\"> <span class=\"fix\"><span class=\"common_ico_kwd\"><i class=\"imsc ico_search\"></i></span>@txt@</span> </a> <span class=\"etc\"> <em class=\"date\">@date@.</em> <a aria-pressed=\"false\" class=\"bt_item _add\" href=\"#\" role=\"button\"><i class=\"imsc ico_insert\">추가</i></a> </span> </li> </ul> <li class=\"item has_correct _item\" data-intend-rank=\"@intendRank@\" data-keyword=\"@transQuery@\" data-rank=\"@rank@\" data-template-type=\"intend\"> <a class=\"kwd\" href=\"#\"> <span class=\"fix\"><span class=\"common_ico_kwd\"><i class=\"imsc ico_search\"></i></span>@query@ <span class=\"context\">@intend@</span></span> </a> <span class=\"etc\"> <a aria-pressed=\"false\" class=\"bt_item _add\" href=\"#\" role=\"button\"><i class=\"imsc ico_insert\">추가</i></a> </span> </li> <div class=\"atcmp_alert _alert\"> <div class=\"dsc_election\"> <p class=\"dsc\"> <i class=\"imsc ico_election\"></i><span class=\"_alert_passage\"></span> </p> <span class=\"dsc_inner\"> <span class=\"_alert_passage2\"></span> <a class=\"link _alert_link\" href=\"#\" onclick=\"return goOtherCR(this,'a=sug.vote&amp;r=&amp;i=&amp;u='+urlencode(this.href));\" target=\"_blank\">자세히보기</a> </span> </div> </div> <div class=\"atcmp_plus _plus\"> <div class=\"dsc_plus\"> <a class=\"link_dsc\" href=\"https://help.naver.com/support/alias/search/word/word_16.naver\" onclick=\"return goOtherCR(this,'a=sug.cxhelp&amp;r=&amp;i=&amp;u='+urlencode(this.href));\" target=\"_blank\">관심사를 반영한 컨텍스트 자동완성<i class=\"imsc ico_help\">도움말</i></a> </div> <div class=\"switch\"> <a aria-pressed=\"false\" class=\"bt_switch active _plus_btn\" href=\"#\" role=\"button\"><i class=\"imsc ico_option\">컨텍스트 자동완성</i></a> </div> <div class=\"layer_plus _plus_layer\"> <strong class=\"tit\">컨텍스트 자동완성</strong> <div class=\"_plus_layer_isloggedin\" style=\"display:none\"> <p class=\"dsc\">ON/OFF 설정은<br/>해당기기(브라우저)에 저장됩니다.</p> <div class=\"btn_area\"> <a class=\"btn btn_view\" href=\"https://help.naver.com/support/alias/search/word/word_16.naver\" onclick=\"return goOtherCR(this,'a=sug.cxhelp&amp;r=&amp;i=&amp;u='+urlencode(this.href));\" target=\"_blank\">자세히</a> </div> </div> <div class=\"_plus_layer_isnotloggedin\" style=\"display:none\"> <p class=\"dsc\"><em class=\"txt\">동일한 시간대/연령/남녀별</em> 사용자 그룹의<br/>관심사에 맞춰 자동완성을 제공합니다.</p> <div class=\"btn_area\"> <a class=\"btn btn_login\" href=\"https://nid.naver.com/nidlogin.login?url=https%3A%2F%2Fsearch.naver.com%2Fsearch.naver%3Fwhere%3Dimage%26sm%3Dtab_jum%26query%3D%25EB%25A5%2598%25EC%25A4%2580%25EC%2597%25B4\" onclick=\"return goOtherCR(this,'a=sug.cxlogin&amp;r=&amp;i=&amp;u='+urlencode(this.href));\">로그인</a> <a class=\"btn btn_view\" href=\"https://help.naver.com/support/alias/search/word/word_16.naver\" onclick=\"return goOtherCR(this,'a=sug.cxhelp&amp;r=&amp;i=&amp;u='+urlencode(this.href));\" target=\"_blank\">자세히</a> </div> </div> <a class=\"btn_close _plus_layer_close\" href=\"#\" onclick=\"return tCR('a=sug.cxhide');\" role=\"button\"><i class=\"imsc ico_close\">컨텍스트 자동완성 레이어 닫기</i></a> </div> </div> </div> <div class=\"atcmp_footer\"> <span class=\"side_opt_area\"> <span class=\"opt_item\"><a href=\"https://help.naver.com/alias/search/word/word_17.naver\" onclick=\"return goOtherCR(this,'a=sug.help&amp;r=&amp;i=&amp;u='+urlencode(this.href));\" target=\"_blank\">도움말</a></span> <span class=\"opt_item\"><a class=\"report\" href=\"https://help.naver.com/support/alias/search/word/word_18.naver\" onclick=\"return goOtherCR(this,'a=sug.report&amp;r=&amp;i=&amp;u='+urlencode(this.href));\" target=\"_blank\">신고</a></span> </span> <span class=\"rside_opt_area\"> <span class=\"opt_item\"> <a class=\"close _suggestOnOff\" href=\"#\">자동완성 끄기</a> </span> </span> </div> </div> </div> </div> </div> <button class=\"bt_search\" type=\"submit\"><i class=\"spnew ico_search\">검색</i></button> </fieldset> </form> </div></div> <div id=\"gnb\"> <script type=\"text/javascript\"> var gnb_option = { gnb_service : \"search\", gnb_template : \"gnb_utf8\", gnb_logout : encodeURIComponent(location.href), gnb_login : encodeURIComponent(location.href), gnb_brightness : 1 , gnb_item_hide_option : 0 } ; var gnb_url = \"https://ssl.pstatic.net/static.gn/templates/gnb_utf8.nhn\" ; nx_js_defer_load(gnb_url + \"?\" + headerfooter_time_year_s + headerfooter_time_month_s + headerfooter_time_day_s + headerfooter_time_hour_s, function() { getGNB() ; $Fn(function(we) { if (typeof gnbAllLayerClose == \"function\") { var bShowLayer = gnbUserLayer.show || gnbNaverMeLayer.show || gnbMoreLayer.show; var bClickGNBArea = $Element($$.getSingle(\"ul.gnb_lst\")).isEqual(we.element) || $Element($$.getSingle(\"ul.gnb_lst\")).isParentOf(we.element); if (bShowLayer && !bClickGNBArea) { gnbAllLayerClose(); } } }, this).attach(document, \"click\"); }, 0) ; </script> </div> </div><script> var nx_usain_beacon = function($) { var sent = 0; var tags = []; var usain_obj = { send: function() { if (sent > 0) { return; } sent = 1; setTimeout(function() { var perf = \"\"; perf = (function() { function _(t) { return (t?(t-window.performance.timing.navigationStart):0); }; if (typeof(window.performance) == \"undefined\") { return \"\" } if (typeof(window.performance.timing) == \"undefined\") { return \"\" } if (typeof(window.performance.navigation) == \"undefined\") { return \"\" } if (typeof(window.g_puid) == \"undefined\") { return \"\" } if (typeof(window.g_ssc) == \"undefined\") { return \"\" } var t = window.performance.timing; var n = window.performance.navigation; return \"navt=\" + [_(t.navigationStart), _(t.unloadEventStart), _(t.unloadEventEnd), _(t.redirectStart), _(t.redirectEnd), _(t.fetchStart), _(t.domainLookupStart), _(t.domainLookupEnd), _(t.connectStart), _(t.connectEnd), _(t.requestStart), _(t.responseStart), _(t.responseEnd), _(t.domLoading), _(t.domInteractive), _(t.domContentLoadedEventStart), _(t.domContentLoadedEventEnd), _(t.domComplete), _(t.loadEventStart), _(t.loadEventEnd), n.type, n.redirectCount].join(\":\") + \"&page_id=\" + encodeURIComponent(window.g_puid) + \"&ssc=\" + encodeURIComponent(window.g_ssc); }) (); if (document.location.protocol === 'https:') { tags.push('_ssl'); } else { tags.push('_nossl'); } var agent = eg.agent(); if (agent.browser.version) { var version = \"\"; var vers = (agent.browser.version + \"\").split('.'); version = vers[0]; if (version > 0) { tags.push('ua.' + agent.browser.name + '.' + version); } } if (naver.search.csdark) { tags.push(\"csdark.1\"); } else { tags.push(\"csdark.0\"); } var queries = []; if (perf) { queries.push(perf); } queries.push(\"tags=\" + tags.join(\":\") ); var u = new Image(); u.src = \"https://er.search.naver.com/er?v=2&\" + queries.join(\"&\"); u.onload = function() { u.onload = null; } }, 250); }, add_tag: function(tag) { tags.push(tag); } }; return usain_obj; }(jQuery); </script> <div id=\"lnb\" tabindex=\"0\"><div class=\"lnb_group\"> <div class=\"lnb_menu\"> <ul class=\"base\" role=\"tablist\"> <li class=\"menu\" role=\"presentation\"><a aria-selected=\"false\" class=\"tab\" href=\"?where=nexearch&amp;sm=tab_jum&amp;query=%EB%A5%98%EC%A4%80%EC%97%B4\" onclick=\"return goOtherCR(this,'a=tab*N.jmp&amp;r=1&amp;i=&amp;u='+urlencode(this.href));\" role=\"tab\">통합</a></li><li class=\"menu\" role=\"presentation\"><a aria-selected=\"true\" class=\"tab\" href=\"?where=image&amp;sm=tab_jum&amp;query=%EB%A5%98%EC%A4%80%EC%97%B4\" onclick=\"return goOtherCR(this,'a=tab*i.now&amp;r=2&amp;i=&amp;u='+urlencode(this.href));\" role=\"tab\">이미지</a></li><li class=\"menu\" role=\"presentation\"><a aria-selected=\"false\" class=\"tab\" href=\"?where=view&amp;sm=tab_jum&amp;query=%EB%A5%98%EC%A4%80%EC%97%B4\" onclick=\"return goOtherCR(this,'a=tab*e.jmp&amp;r=3&amp;i=&amp;u='+urlencode(this.href))\" role=\"tab\">VIEW</a></li><li class=\"menu\" role=\"presentation\"><a aria-selected=\"false\" class=\"tab\" href=\"?where=kin&amp;sm=tab_jum&amp;query=%EB%A5%98%EC%A4%80%EC%97%B4\" onclick=\"return goOtherCR(this,'a=tab*k.jmp&amp;r=4&amp;i=&amp;u='+urlencode(this.href));\" role=\"tab\">지식iN</a></li><li class=\"menu\" role=\"presentation\"><a aria-selected=\"false\" class=\"tab\" href=\"?where=influencer&amp;sm=tab_jum&amp;query=%EB%A5%98%EC%A4%80%EC%97%B4\" onclick=\"return goOtherCR(this,'a=tab*F.jmp&amp;r=5&amp;i=&amp;u='+urlencode(this.href));\" role=\"tab\">인플루언서</a></li><li class=\"menu\" role=\"presentation\"><a aria-selected=\"false\" class=\"tab\" href=\"?where=video&amp;sm=tab_jum&amp;query=%EB%A5%98%EC%A4%80%EC%97%B4\" onclick=\"return goOtherCR(this,'a=tab*v.jmp&amp;r=6&amp;i=&amp;u='+urlencode(this.href));\" role=\"tab\">동영상</a></li><li class=\"menu\" role=\"presentation\"><a aria-selected=\"false\" class=\"tab\" href=\"https://search.shopping.naver.com/search/all?where=all&amp;frm=NVSCTAB&amp;query=%EB%A5%98%EC%A4%80%EC%97%B4\" onclick=\"return goOtherCR(this,'a=tab*S.jmp&amp;r=7&amp;i=&amp;u='+urlencode(this.href));\" role=\"tab\" target=\"_blank\">쇼핑</a></li><li class=\"menu\" role=\"presentation\"><a aria-selected=\"false\" class=\"tab\" href=\"?where=news&amp;sm=tab_jum&amp;query=%EB%A5%98%EC%A4%80%EC%97%B4\" onclick=\"return goOtherCR(this,'a=tab*n.jmp&amp;r=8&amp;i=&amp;u='+urlencode(this.href));\" role=\"tab\">뉴스</a></li><li class=\"menu\" role=\"presentation\"><a aria-selected=\"false\" class=\"tab\" href=\"https://dict.naver.com/search.nhn?dicQuery=%EB%A5%98%EC%A4%80%EC%97%B4&amp;query=%EB%A5%98%EC%A4%80%EC%97%B4&amp;target=dic&amp;query_utf=&amp;isOnlyViewEE=\" onclick=\"return goOtherCR(this,'a=tab*L.jmp&amp;r=9&amp;i=&amp;u='+urlencode(this.href));\" role=\"tab\" target=\"_blank\">어학사전</a></li><li class=\"menu\" role=\"presentation\"><a aria-selected=\"false\" class=\"tab\" href=\"https://map.naver.com/v5/search/%EB%A5%98%EC%A4%80%EC%97%B4\" onclick=\"return goOtherCR(this,'a=tab*M.jmp&amp;r=10&amp;i=&amp;u='+urlencode(this.href));\" role=\"tab\" target=\"_blank\">지도</a></li> </ul> <div class=\"group_more\"> <div class=\"more_area\" id=\"_nx_lnb_more\"> <a aria-pressed=\"false\" class=\"lnb_more _more_btn\" href=\"#\" onclick=\"tCR(jQuery(this).attr('aria-pressed') === 'false' ? 'a=tab.more' : 'a=tmr.less');\" role=\"button\"> <i class=\"spnew ico_lnb_more\">더보기</i> </a> <div class=\"addon\"> <ul> <li class=\"menu\" role=\"presentation\"><a aria-selected=\"false\" class=\"tab\" href=\"https://search.shopping.naver.com/book/search?query=%EB%A5%98%EC%A4%80%EC%97%B4\" onclick=\"return goOtherCR(this,'a=tmr*B.jmp&amp;r=1&amp;i=&amp;u='+urlencode(this.href));\" role=\"tab\" target=\"_blank\">도서</a></li><li class=\"menu\" role=\"presentation\"><a aria-selected=\"false\" class=\"tab\" href=\"https://vibe.naver.com/search?query=%EB%A5%98%EC%A4%80%EC%97%B4\" onclick=\"return goOtherCR(this,'a=tmr*m.jmp&amp;r=2&amp;i=&amp;u='+urlencode(this.href));\" role=\"tab\" target=\"_blank\">뮤직</a></li><li class=\"menu\" role=\"presentation\"><a aria-selected=\"false\" class=\"tab\" href=\"?where=kdic&amp;sm=tab_jum&amp;query=%EB%A5%98%EC%A4%80%EC%97%B4\" onclick=\"return goOtherCR(this,'a=tmr*K.jmp&amp;r=3&amp;i=&amp;u='+urlencode(this.href));\" role=\"tab\">지식백과</a></li><li class=\"menu\" role=\"presentation\"><a aria-selected=\"false\" class=\"tab\" href=\"https://audioclip.naver.com/search/all?keyword=%EB%A5%98%EC%A4%80%EC%97%B4\" onclick=\"return goOtherCR(this,'a=tmr*A.jmp&amp;r=4&amp;i=&amp;u='+urlencode(this.href));\" role=\"tab\" target=\"_blank\">오디오클립</a></li><li class=\"menu\" role=\"presentation\"><a aria-selected=\"false\" class=\"tab\" href=\"https://academic.naver.com/search.naver?field=0&amp;query=%EB%A5%98%EC%A4%80%EC%97%B4\" onclick=\"return goOtherCR(this,'a=tmr*a.jmp&amp;r=5&amp;i=&amp;u='+urlencode(this.href));\" role=\"tab\" target=\"_blank\">학술정보</a></li> </ul> <a aria-pressed=\"false\" class=\"btn_option _option_btn\" href=\"#\" onclick=\"return tCR('a=tmr.optn');\" role=\"button\" style=\"display:none\">검색옵션</a> </div> </div> </div> </div> </div><div class=\"lnb_util\"> <ul class=\"list_util\"> <li> <a class=\"spnew_bf bt_share naver-splugin\" data-band-url=\"https://search.naver.com/search.naver?query=%EB%A5%98%EC%A4%80%EC%97%B4&amp;sm=bdp_pin&amp;where=image\" data-blog-url=\"https://search.naver.com/search.naver?query=%EB%A5%98%EC%A4%80%EC%97%B4&amp;sm=svc_pin.blog&amp;where=image\" data-cafe-source-form=\"2\" data-cafe-url=\"https://search.naver.com/search.naver?query=%EB%A5%98%EC%A4%80%EC%97%B4&amp;sm=svc_pin.cafe&amp;where=image\" data-calendar-url=\"https://search.naver.com/search.naver?query=%EB%A5%98%EC%A4%80%EC%97%B4&amp;sm=svc_pin.cal&amp;where=image\" data-evkey=\"search\" data-facebook-url=\"https://search.naver.com/search.naver?query=%EB%A5%98%EC%A4%80%EC%97%B4&amp;sm=fbp_pin&amp;where=image\" data-mail-display=\"off\" data-me-display=\"off\" data-memo-url=\"https://search.naver.com/search.naver?query=%EB%A5%98%EC%A4%80%EC%97%B4&amp;sm=svc_pin.memo&amp;where=image\" data-option=\"{baseElement:'spiButton2', layerPosition:'outside-bottom', align:'right', top:4, left:0, marginLeft:8, marginTop:10}\" data-service-name=\"통합검색\" data-style=\"unity-v2\" data-twitter-url=\"https://search.naver.com/search.naver?query=%EB%A5%98%EC%A4%80%EC%97%B4&amp;sm=twp_pin&amp;where=image\" data-use-short-url=\"on\" href=\"#\" id=\"spiButton2\" onclick=\"return tCR('a=lnb.shr');\" role=\"button\">공유</a> </li> </ul> </div><script type=\"text/javascript\"> nx_js_defer_load(\"https://ssl.pstatic.net/spi/js/release/ko_KR/splugin.js?\" + headerfooter_time_year_s + headerfooter_time_month_s + headerfooter_time_day_s, function() { g_nx_splugin = SocialPlugIn_Core({ \"evKey\" : \"search\", \"serviceName\" : \"이미지검색\" }) ; }, 150) ; function splugin_oninitialize(sTargetId) { var elTarget = document.getElementById(sTargetId) ; var sUrl = $$.getSingle('a._sp_each_url', elTarget ).href ; var sTitle = $Element($$.getSingle('._sp_each_title', elTarget)).text() ; var sSource = $Element($$.getSingle('._sp_each_source', elTarget)) ; if (sSource) sSource = sSource.text() ; return { \"url\" : sUrl, \"title\" : sTitle, \"option\" : {baseElement:sTargetId + '_base', layerPosition:'outside-bottom', align:'right', top:18, left:-28, marginLeft:8, marginTop:10}, \"me\" : { display : \"off\" }, \"mail\" : { display : \"off\" }, \"sourceName\" : sSource } ; } </script><script> nx_js_defer_load(\"//search.like.naver.com/static/js/likeIt.list.js?\" + headerfooter_time_year_s + headerfooter_time_month_s + headerfooter_time_day_s, function() { nhn.LikeIt.list.util.init({ sId : \"SEARCH\", sDomain : \"//search.like.naver.com\", bMobile : false }) ; }, 150) ; </script></div></div><script> (function() { var startApplication = function() { var jsFileURL = \"https://ssl.pstatic.net/sstatic/au/pc/tab/SearchTab_210504.js\"; var require = window.require.config({ \"context\": \"search_tab_module\", \"paths\": { \"SearchTab\": jsFileURL.replace(/\\.js$/, \"\"), } }); define(\"jquery\", [], function() { return jQuery; }); require([\"SearchTab\"], function(SearchTab) { var BASE_FLOATING_WIDTH = 1181; var $window = jQuery(window); var $lnb = jQuery(\"#lnb\"); var $headerWrap = jQuery(\"#header_wrap\"); var tab = new SearchTab($window, $lnb) .on(\"checkWindowWidth\", function(e){ if (e.windowWidth >= BASE_FLOATING_WIDTH) { $headerWrap.addClass(\"type_fixed\"); tab.activateFloating(); } else { tab.deactivateFloating(); $headerWrap .removeClass(\"type_fixed\") .removeClass(\"type_hide\"); } }) .on(\"hideTab\", function(){ if (window.g_nx_splugin && typeof window.g_nx_splugin.hide === \"function\") { window.g_nx_splugin.hide(); } }) .on(\"changeState\", function(e){ $headerWrap.toggleClass(\"type_hide\", e.isUnderBaseline); if (e.isUnderBaseline) { $headerWrap.addClass(\"type_animation\"); } }); window.naver = window.naver || {}; window.naver.pc = window.naver.pc || {}; window.naver.pc.search_tab = tab; }); }; naver.common.load_js(window.require ? null : naver.common.gv.REQUIRE_JS, startApplication, true, 150); })(); </script><script type=\"text/javascript\"> naver.search.section = { \"main\": [{\"area\": \"tab\", \"rank\": 1}],   \"find_section_list\": function(column, area) { if (!this[column]) return []; return this[column].filter(function(a) { return a.area.indexOf(area) === 0; }); } }; </script></div><div id=\"container\" role=\"main\"> <div class=\"pack_group\" id=\"content\"> <h1 class=\"blind\">류준열 이미지검색 결과</h1> <div class=\"main_pack\" id=\"main_pack\"><script type=\"text/javascript\"> var nx_cr_area_info = [{\"n\": \"tab\", \"r\": 1}]; </script><script type=\"text/javascript\"> naver.search.option = {} ; naver.search.option.params = {} ; naver.search.option.append_params = (function () { return function (f, exclude) { if (exclude == undefined) exclude = []; for (var k in naver.search.option.params) { if (exclude.indexOf(k) >= 0) continue; var v = naver.search.option.params[k] ; var input = document.createElement(\"input\"); input.type = \"hidden\"; input.name = k ; input.value = v ; f.appendChild(input); } return true ; } ; })() ; naver.search.option.get_params = (function () { return function () { var option_params = \"\" ; for (var k in naver.search.option.params) { var v = naver.search.option.params[k]; option_params = option_params.concat(\"&\" + k + \"=\" + urlencode(v)); } return option_params ; } ; })() ; </script><form action=\"\" id=\"image_form\" method=\"get\" name=\"image_form\"> <input id=\"where\" name=\"where\" type=\"hidden\" value=\"image\"/> <input id=\"section\" name=\"section\" type=\"hidden\" value=\"image\"/> <input id=\"img_query\" name=\"query\" type=\"hidden\" value=\"류준열\"/> <input id=\"res_fr\" name=\"res_fr\" type=\"hidden\" value=\"0\"/> <input id=\"res_to\" name=\"res_to\" type=\"hidden\" value=\"0\"/> <input id=\"img_sm_id\" name=\"sm\" type=\"hidden\" value=\"tab_opt\"/> <input id=\"color\" name=\"color\" type=\"hidden\" value=\"\"/> <input id=\"ccl\" name=\"ccl\" type=\"hidden\" value=\"0\"/> <input id=\"img_nso\" name=\"nso\" type=\"hidden\" value=\"so:r,a:all,p:all\"/> <input id=\"recent\" name=\"recent\" type=\"hidden\" value=\"0\"/> <input id=\"img_datetype\" name=\"datetype\" type=\"hidden\" value=\"0\"/> <input id=\"img_startdate\" name=\"startdate\" type=\"hidden\" value=\"0\"/> <input id=\"img_enddate\" name=\"enddate\" type=\"hidden\" value=\"0\"/> <input id=\"img_gif\" name=\"gif\" type=\"hidden\" value=\"0\"/> <input id=\"img_optStr\" name=\"optStr\" type=\"hidden\" value=\"\"/> <input id=\"nso_open\" name=\"nso_open\" type=\"hidden\" value=\"0\"/> <input id=\"pq\" name=\"pq\" type=\"hidden\" value=\"\"/> </form> <script type=\"text/javascript\"> function img_form_init() { document.forms[\"image_form\"][\"section\"].value = decodeURIComponent(\"image\"); document.forms[\"image_form\"][\"query\"].value = decodeURIComponent(\"%EB%A5%98%EC%A4%80%EC%97%B4\"); document.forms[\"image_form\"][\"res_fr\"].value = \"0\"; document.forms[\"image_form\"][\"res_to\"].value = \"0\"; document.forms[\"image_form\"][\"color\"].value = decodeURIComponent(\"\"); document.forms[\"image_form\"][\"ccl\"].value = \"0\"; document.forms[\"image_form\"][\"nso\"].value = \"so:r,a:all,p:all\"; document.forms[\"image_form\"][\"recent\"].value = \"0\"; document.forms[\"image_form\"][\"datetype\"].value = \"0\"; document.forms[\"image_form\"][\"startdate\"].value = \"0\"; document.forms[\"image_form\"][\"enddate\"].value = \"0\"; document.forms[\"image_form\"][\"gif\"].value = \"0\"; document.forms[\"image_form\"][\"optStr\"].value = decodeURIComponent(\"\"); document.forms[\"image_form\"][\"nso_open\"].value = \"0\"; document.forms[\"image_form\"][\"pq\"].value = decodeURIComponent(\"\"); } function submit_size_option(res_fr, res_to, optStr, cr_area, nso_open) { img_form_init(); document.forms[\"image_form\"][\"res_fr\"].value = res_fr; document.forms[\"image_form\"][\"res_to\"].value = res_to; document.forms[\"image_form\"][\"optStr\"].value = optStr; document.forms[\"image_form\"][\"nso_open\"].value = nso_open; formCR(\"image_form\", cr_area); } function submit_gif_option(gif, optStr, cr_area) { img_form_init(); document.forms[\"image_form\"][\"gif\"].value = gif; document.forms[\"image_form\"][\"optStr\"].value = optStr; document.forms[\"image_form\"][\"nso_open\"].value = 0; formCR(\"image_form\", cr_area); } function img_submit_date_option(p, sStartDate, sEndDate, nso_open) { img_form_init(); var cr_area = \"periodall\"; document.getElementById(\"image_form\")[\"datetype\"].value = p; document.forms[\"image_form\"][\"nso_open\"].value = nso_open; document.forms[\"image_form\"][\"recent\"].value = 0; if( sStartDate == \"recent\" ){ cr_area = \"recent\"; if( p == 2){ document.forms[\"image_form\"][\"recent\"].value = 1; document.getElementById(\"image_form\")[\"nso\"].value = \"so:r,p:1w,a:\"; } else{ document.getElementById(\"image_form\")[\"nso\"].value = \"so:r,p:all,a:\"; } } else if (p == 6){ document.getElementById(\"image_form\")[\"startdate\"].value = sStartDate; document.getElementById(\"image_form\")[\"enddate\"].value = sEndDate; var nso_startdate = sStartDate.replace(/\\./gi, \"\"); var nso_enddate = sEndDate.replace(/\\./gi, \"\"); document.getElementById(\"image_form\")[\"nso\"].value = \"so:r,p:from\" +nso_startdate+ \"to\" + nso_enddate ; cr_area = \"calendarapply\"; } else if (p == 1){ cr_area = \"day\"; document.getElementById(\"image_form\")[\"nso\"].value = \"so:r,p:1d,a:\"; } else if (p == 2){ cr_area = \"week\"; document.getElementById(\"image_form\")[\"nso\"].value = \"so:r,p:1w,a:\"; } else if (p == 3){ cr_area = \"month\"; document.getElementById(\"image_form\")[\"nso\"].value = \"so:r,p:1m,a:\"; } else if (p == 8){ cr_area = \"3months\"; document.getElementById(\"image_form\")[\"nso\"].value = \"so:r,p:3m,a:\"; } else if (p == 4){ cr_area = \"6months\"; document.getElementById(\"image_form\")[\"nso\"].value = \"so:r,p:6m,a:\"; } else if (p == 5){ cr_area = \"year\"; document.getElementById(\"image_form\")[\"nso\"].value = \"so:r,p:1y,a:\"; } else{ cr_area = \"periodall\"; document.getElementById(\"image_form\")[\"nso\"].value = \"so:r,p:all,a:\"; } if( p != 6 ){ document.getElementById(\"image_form\")[\"startdate\"].value = \"\"; document.getElementById(\"image_form\")[\"enddate\"].value = \"\"; } if(sStartDate == \"recent\"){ document.getElementById(\"image_form\")[\"optStr\"].value = \"d\"; } else if(p != 0){ document.getElementById(\"image_form\")[\"optStr\"].value = \"d\"; } formCR(\"image_form\", \"opt.\"+cr_area); } function submit_ccl_option(ccl, cr_area) { img_form_init(); document.forms[\"image_form\"][\"nso_open\"].value = 1; document.getElementById(\"image_form\")[\"ccl\"].value = ccl; formCR(\"image_form\", cr_area); } function submit_color_option(color, open) { img_form_init(); var cr_area = \"opt.color\"; document.forms[\"image_form\"][\"nso_open\"].value = 0; if( open == 1 ){ cr_area = \"opt.opncolor\"; document.forms[\"image_form\"][\"nso_open\"].value = 1; } document.getElementById(\"image_form\")[\"color\"].value = color; formCR(\"image_form\", cr_area); } function submit_nq_option(nq) { img_form_init(); document.getElementById(\"image_form\")[\"color\"].value = \"\"; document.forms[\"image_form\"][\"sm\"].value = \"tab_itg\"; document.getElementById(\"image_form\")[\"query\"].value = decodeURIComponent(nq); document.forms[\"image_form\"][\"pq\"].value = decodeURIComponent(\"%EB%A5%98%EC%A4%80%EC%97%B4\"); formCR(\"image_form\", \"tag*n.select\"); } function submit_dq_option(dq) { img_form_init(); document.getElementById(\"image_form\")[\"color\"].value = \"\"; document.forms[\"image_form\"][\"sm\"].value = \"tab_itg\"; document.getElementById(\"image_form\")[\"query\"].value = decodeURIComponent(dq); document.forms[\"image_form\"][\"pq\"].value = decodeURIComponent(\"%EB%A5%98%EC%A4%80%EC%97%B4\"); formCR(\"image_form\", \"tag*d.select\"); } function submit_suggest_keyword_option(query, sm, prefix) { img_form_init(); document.getElementById(\"image_form\")[\"color\"].value = \"\"; document.forms[\"image_form\"][\"sm\"].value = sm; document.getElementById(\"image_form\")[\"query\"].value = decodeURIComponent(query); formCR(\"image_form\", prefix + \".kwd\"); } function submit_section_option(section, open) { img_form_init(); var cr_area = \"\"; if(open == 0){ cr_area = \"shopping\"; } else{ if(section == \"image\"){ cr_area = \"srcall\"; } else if(section == \"cafe\"){ cr_area = \"srccafe\"; } else if(section == \"blog\"){ cr_area = \"srcblog\"; } else if(section == \"news\"){ cr_area = \"srcnews\"; } else if(section == \"dic\"){ cr_area = \"srcenc\"; } else if(section == \"post\"){ cr_area = \"srcpost\"; } else if(section == \"abdb\"){ cr_area = \"srcweb\"; } else if(section == \"nshopping\"){ cr_area = \"srcshp\"; } else{ cr_area = \"srcetc\"; } } document.forms[\"image_form\"][\"nso_open\"].value = 1; document.getElementById(\"image_form\")[\"section\"].value = section; formCR(\"image_form\", \"opt.\"+cr_area); } </script> <div class=\"_imageSearchOption\" id=\"snb\"> <div class=\"api_group_option_filter _search_option_simple_wrap\" style=\"\"> <div class=\"list_option_filter\"> <div aria-label=\"정렬 필터를 선택하세요\" class=\"option_area type_filter\" role=\"listbox\"> <a aria-selected=\"false\" class=\"item\" href=\"#\" onclick=\"img_submit_date_option(2, 'recent', '', 0); return false;\" role=\"option\">최근</a> <a aria-selected=\"false\" class=\"item\" href=\"#\" onclick=\"submit_size_option('786432','100000000', 'r', 'opt.hd', 0); return false;\" role=\"option\">고화질</a> <a aria-selected=\"false\" class=\"item\" href=\"#\" onclick=\"submit_gif_option('1', 'g', 'opt.gif'); return false;\" role=\"option\">GIF</a> </div><div aria-label=\"색상 필터를 선택하세요\" class=\"option_area type_color\" role=\"listbox\"> <div class=\"option_color type_default\" role=\"presentation\"> <label aria-label=\"Red\" class=\"choice0\" for=\"ch0\" onclick=\"submit_color_option('red', 0); return false;\"><input id=\"ch0\" type=\"checkbox\"/><span class=\"spnew ic_check\"></span></label> <label aria-label=\"Orange\" class=\"choice1\" for=\"ch1\" onclick=\"submit_color_option('orange', 0); return false;\"><input id=\"ch1\" type=\"checkbox\"/><span class=\"spnew ic_check\"></span></label> <label aria-label=\"Yellow\" class=\"choice2\" for=\"ch2\" onclick=\"submit_color_option('yellow', 0); return false;\"><input id=\"ch2\" type=\"checkbox\"/><span class=\"spnew ic_check\"></span></label> <label aria-label=\"Green\" class=\"choice4\" for=\"ch4\" onclick=\"submit_color_option('green', 0); return false;\"><input id=\"ch4\" type=\"checkbox\"/><span class=\"spnew ic_check\"></span></label> <label aria-label=\"Blue\" class=\"choice6\" for=\"ch6\" onclick=\"submit_color_option('blue', 0); return false;\"><input id=\"ch6\" type=\"checkbox\"/><span class=\"spnew ic_check\"></span></label> <label aria-label=\"Black\" class=\"choice12\" for=\"ch12\" onclick=\"submit_color_option('black', 0); return false;\"><input id=\"ch12\" type=\"checkbox\"/><span class=\"spnew ic_check\"></span></label> <label aria-label=\"White\" class=\"choice14\" for=\"ch14\" onclick=\"submit_color_option('white', 0); return false;\"><input id=\"ch14\" type=\"checkbox\"/><span class=\"spnew ic_check\"></span></label> </div></div><div class=\"option_filter\"> <a aria-expanded=\"false\" aria-haspopup=\"listbox\" aria-label=\"검색옵션 열기\" class=\"btn_option _search_option_open_btn\" href=\"javascript:;\" role=\"button\"><i class=\"spnew ico_filter\"></i>옵션</a> </div></div></div><div class=\"api_group_option_sort _search_option_detail_wrap\" role=\"listbox\" style=\"display: none;\"> <button class=\"spnew_bf bt_close _search_option_close_btn\" type=\"button\">검색옵션 닫기</button> <ul class=\"lst_option\"> <li class=\"bx size\"> <div class=\"bx_inner\"> <strong class=\"tit\">크기</strong> <div class=\"option\" role=\"tablist\"> <a aria-selected=\"true\" class=\"txt\" href=\"#\" onclick=\"submit_size_option('','', '', 'opt.sizeall', 1); return false;\" role=\"tab\">전체</a> <a aria-selected=\"false\" class=\"txt\" href=\"#\" onclick=\"submit_size_option('786432','100000000', 'r', 'opt.sizehd', 1); return false;\" role=\"tab\">고화질</a> </div> </div> </li> <li class=\"bx term\"> <div class=\"bx_inner\"> <strong class=\"tit\">기간</strong> <div class=\"option\" role=\"tablist\"> <a aria-selected=\"true\" class=\"txt\" href=\"#\" onclick=\"img_submit_date_option(0, '', '', 1); return false;\" role=\"tab\">전체</a> <a aria-selected=\"false\" class=\"txt\" href=\"#\" onclick=\"img_submit_date_option(1, '', '', 1); return false;\" role=\"tab\">1일</a> <a aria-selected=\"false\" class=\"txt\" href=\"#\" onclick=\"img_submit_date_option(2, '', '', 1); return false;\" role=\"tab\">1주</a> <a aria-selected=\"false\" class=\"txt\" href=\"#\" onclick=\"img_submit_date_option(3, '', '', 1); return false;\" role=\"tab\">1개월</a> <a aria-selected=\"false\" class=\"txt\" href=\"#\" onclick=\"img_submit_date_option(8, '', '', 1); return false;\" role=\"tab\">3개월</a> <a aria-selected=\"false\" class=\"txt\" href=\"#\" onclick=\"img_submit_date_option(4, '', '', 1); return false;\" role=\"tab\">6개월</a> <a aria-selected=\"false\" class=\"txt\" href=\"#\" onclick=\"img_submit_date_option(5, '', '', 1); return false;\" role=\"tab\">1년</a> <a aria-selected=\"false\" class=\"txt txt_option _calendar_select_trigger\" data-select-trigger=\"\" href=\"#\" onclick=\"tCR('a=opt.calendar');\" role=\"tab\">직접입력<i class=\"spnew ico_check\">옵션<em class=\"open\">펼치기</em><em class=\"close\">접기</em></i></a> </div> <div class=\"api_select_option type_calendar _calendar_select_layer\" data-select-layer=\"\" style=\"display:none\"> <div class=\"set_calendar\" role=\"tablist\"> <span class=\"set\"> <span class=\"blind\">기간 설정시작</span> <a aria-selected=\"true\" class=\"spnew_bf ico_calendar _start_trigger selected\" href=\"#\" onclick=\"tCR('a=opt.startdate');\" role=\"tab\"></a> </span> <span class=\"set etc\"> <span class=\"spnew ico_since\"></span> </span> <span class=\"set\"> <span class=\"blind\">기간 설정끝</span> <a class=\"spnew_bf ico_calendar _end_trigger\" href=\"#\" onclick=\"tCR('a=opt.enddate');\" role=\"tab\"></a> </span> </div> <div class=\"select_wrap _root\"> <div class=\"group_select _list_root\"> <strong class=\"blind\">년(Year)</strong> <div class=\"select_cont\"> <div class=\"select_area _scroll_wrapper\"> <div> <ul class=\"lst_item _ul\" role=\"tablist\"></ul> </div> </div> </div> </div><div class=\"group_select _list_root\"> <strong class=\"blind\">월(Month)</strong> <div class=\"select_cont\"> <div class=\"select_area _scroll_wrapper\"> <div> <ul class=\"lst_item _ul\" role=\"tablist\"></ul> </div> </div> </div> </div><div class=\"group_select _list_root\"> <strong class=\"blind\">일(Day)</strong> <div class=\"select_cont\"> <div class=\"select_area _scroll_wrapper\"> <div> <ul class=\"lst_item _ul\" role=\"tablist\"></ul> </div> </div> </div> </div></div><div class=\"btn_area\"><button class=\"btn_apply _apply_btn\" type=\"button\">적용</button></div> </div></div></li> <li class=\"bx color\"> <div class=\"bx_inner\"> <strong class=\"tit\">색상</strong> <div class=\"option\"> <div class=\"option_color type_default\"> <label aria-label=\"전체\" class=\"spnew choice_all selected\" for=\"ch_all\" onclick=\"submit_color_option('', 1); return false;\"><input checked=\"\" id=\"ch_all\" type=\"checkbox\"/><span class=\"spnew ic_check\"></span></label> <label aria-label=\"Red\" class=\"choice0\" for=\"ch0\" onclick=\"submit_color_option('red', 1); return false;\"><input id=\"ch0\" type=\"checkbox\"/><span class=\"spnew ic_check\"></span></label> <label aria-label=\"Orange\" class=\"choice1\" for=\"ch1\" onclick=\"submit_color_option('orange', 1); return false;\"><input id=\"ch1\" type=\"checkbox\"/><span class=\"spnew ic_check\"></span></label> <label aria-label=\"Yellow\" class=\"choice2\" for=\"ch2\" onclick=\"submit_color_option('yellow', 1); return false;\"><input id=\"ch2\" type=\"checkbox\"/><span class=\"spnew ic_check\"></span></label> <label aria-label=\"Lime\" class=\"choice3\" for=\"ch3\" onclick=\"submit_color_option('lime', 1); return false;\"><input id=\"ch3\" type=\"checkbox\"/><span class=\"spnew ic_check\"></span></label> <label aria-label=\"Green\" class=\"choice4\" for=\"ch4\" onclick=\"submit_color_option('green', 1); return false;\"><input id=\"ch4\" type=\"checkbox\"/><span class=\"spnew ic_check\"></span></label> <label aria-label=\"Cyan\" class=\"choice5\" for=\"ch5\" onclick=\"submit_color_option('cyan', 1); return false;\"><input id=\"ch5\" type=\"checkbox\"/><span class=\"spnew ic_check\"></span></label> <label aria-label=\"Blue\" class=\"choice6\" for=\"ch6\" onclick=\"submit_color_option('blue', 1); return false;\"><input id=\"ch6\" type=\"checkbox\"/><span class=\"spnew ic_check\"></span></label> <label aria-label=\"Purple\" class=\"choice7\" for=\"ch7\" onclick=\"submit_color_option('purple', 1); return false;\"><input id=\"ch7\" type=\"checkbox\"/><span class=\"spnew ic_check\"></span></label> <label aria-label=\"Pink\" class=\"choice8\" for=\"ch8\" onclick=\"submit_color_option('pink', 1); return false;\"><input id=\"ch8\" type=\"checkbox\"/><span class=\"spnew ic_check\"></span></label> <label aria-label=\"Apricot\" class=\"choice9\" for=\"ch9\" onclick=\"submit_color_option('apricot', 1); return false;\"><input id=\"ch9\" type=\"checkbox\"/><span class=\"spnew ic_check\"></span></label> <label aria-label=\"Ocher\" class=\"choice10\" for=\"ch10\" onclick=\"submit_color_option('ocher', 1); return false;\"><input id=\"ch10\" type=\"checkbox\"/><span class=\"spnew ic_check\"></span></label> <label aria-label=\"Sepia\" class=\"choice11\" for=\"ch11\" onclick=\"submit_color_option('sepia', 1); return false;\"><input id=\"ch11\" type=\"checkbox\"/><span class=\"spnew ic_check\"></span></label> <label aria-label=\"Black\" class=\"choice12\" for=\"ch12\" onclick=\"submit_color_option('black', 1); return false;\"><input id=\"ch12\" type=\"checkbox\"/><span class=\"spnew ic_check\"></span></label> <label aria-label=\"Gray\" class=\"choice13\" for=\"ch13\" onclick=\"submit_color_option('gray', 1); return false;\"><input id=\"ch13\" type=\"checkbox\"/><span class=\"spnew ic_check\"></span></label> <label aria-label=\"White\" class=\"choice14\" for=\"ch14\" onclick=\"submit_color_option('white', 1); return false;\"><input id=\"ch14\" type=\"checkbox\"/><span class=\"spnew ic_check\"></span></label> </div></div></div></li><li class=\"bx source\"> <div class=\"bx_inner\"> <strong class=\"tit\">출처</strong> <div class=\"option\" role=\"tablist\"> <a aria-selected=\"true\" class=\"txt\" href=\"#\" onclick=\"submit_section_option('image', 1); return false;\" role=\"tab\">전체</a> <a aria-selected=\"false\" class=\"txt\" href=\"#\" onclick=\"submit_section_option('blog', 1); return false;\" role=\"tab\">블로그</a> <a aria-selected=\"false\" class=\"txt\" href=\"#\" onclick=\"submit_section_option('news', 1); return false;\" role=\"tab\">포토뉴스</a> <a aria-selected=\"false\" class=\"txt\" href=\"#\" onclick=\"submit_section_option('abdb', 1); return false;\" role=\"tab\">웹</a> <a aria-selected=\"false\" class=\"txt\" href=\"#\" onclick=\"submit_section_option('cafe', 1); return false;\" role=\"tab\">카페</a> <a aria-selected=\"false\" class=\"txt\" href=\"#\" onclick=\"submit_section_option('post', 1); return false;\" role=\"tab\">포스트</a> <a aria-selected=\"false\" class=\"txt\" href=\"#\" onclick=\"submit_section_option('nshopping', 1); return false;\" role=\"tab\">쇼핑</a> <a aria-selected=\"false\" class=\"txt\" href=\"#\" onclick=\"submit_section_option('movie', 1); return false;\" role=\"tab\">영화</a> </div></div></li><li class=\"bx ccl clear\"> <div class=\"bx_inner\"> <strong class=\"tit\">CCL</strong> <div class=\"option\" role=\"tablist\"> <a aria-selected=\"true\" class=\"txt\" href=\"#\" onclick=\"submit_ccl_option(0, 'opt.cclnone'); return false;\" role=\"tab\">선택 안함</a> <a aria-selected=\"false\" class=\"txt\" href=\"#\" onclick=\"submit_ccl_option(1, 'opt.cclall'); return false;\" role=\"tab\">CCL 전체</a> <a aria-selected=\"false\" class=\"txt\" href=\"#\" onclick=\"submit_ccl_option(2, 'opt.commercial'); return false;\" role=\"tab\">상업적 이용 가능</a> <a aria-selected=\"false\" class=\"txt\" href=\"#\" onclick=\"submit_ccl_option(4, 'opt.modifiable'); return false;\" role=\"tab\">원본 수정 가능</a> <a class=\"link_help\" href=\"https://help.naver.com/support/alias/search/integration/intergration_86.naver\" onclick=\"return goOtherCR(this, 'a=opt.help&amp;u='+urlencode(this.href));\" target=\"_blank\">검색옵션 가이드<i class=\"spnew api_ico_help\"></i></a> </div> </div> </li> </ul></div></div><script type=\"text/javascript\"> (function () { var startApplication = function () { var require = window.require.config({ \"context\": \"_pc_image_search_option\", \"paths\": { \"ImageSearchPCTag\": \"https://ssl.pstatic.net/sstatic/fe/sfe/image-search/ImageSearchPCTag_220922\", \"SearchOption\": \"https://ssl.pstatic.net/sstatic/fe/sfe/searchOption/Controller_220519\" } }); define(\"jquery\", [], function () { return jQuery; }); require([\"SearchOption\"], function (SearchOption) { var searchOption = new SearchOption({ \"$form\": jQuery(\"#image_form\"), \"direct\": { min: { year: 1990, month: 1, date: 1 }, max: { year: new Date().getFullYear(), month: new Date().getMonth() + 1, date: new Date().getDate() } } }); searchOption.on({ \"openOption\": function () { if (window.imageSearchController) { window.imageSearchController.refresh(); } tCR(\"a=opt.open\"); }, \"closeOption\": function () { if (window.imageSearchController) { window.imageSearchController.refresh(); } tCR(\"a=opt.close\"); }, \"selectCalendar\": function (e) { var param = e.param; var startDate = e.startDate; var endDate = e.endDate; var start = startDate.year + \".\" + startDate.month + \".\" + startDate.date; var end = endDate.year + \".\" + endDate.month + \".\" + endDate.date; img_submit_date_option(6, start, end, 1); } }); }) }; var requirejs = naver.common.gv.REQUIRE_JS; naver.common.load_js(window.require ? null : requirejs, startApplication, true, 150); })(); </script> <link href=\"https://ssl.pstatic.net/sstatic/search/pc/css/sp_nimage_220825.css\" rel=\"stylesheet\" type=\"text/css\"/> <section class=\"sc_new sp_nimage _shopAdRoot\" style=\"display:none;\"></section> <section class=\"sc_new sp_nimage _prs_img _imageSearchPC\" data-use-initializer=\"true\" style=\"overflow-anchor:none\"> <div class=\"_contentRoot image_wrap\"> <div class=\"photo_group _listGrid\"> <div class=\"photo_tile _grid\"></div> <div class=\"photo_loading _spinner\"> <div class=\"api_error_wrap\"> <div class=\"api_loading\"> <img alt=\"로딩중\" class=\"bg_loading\" height=\"10\" src=\"https://ssl.pstatic.net/sstatic/search/pc/2016/img/blank.gif\" width=\"100%\"/> </div></div></div></div><div class=\"viewer_group _viewerRoot\"></div> </div></section><script type=\"text/javascript\"> var isRealMode = window.g_D === 0; var isDevMode = !(isRealMode); var needRefreshHash; if(isDevMode){ var htBfr = $S(document.referrer.split('?')[1] || \"\").parseString(); var htCur = $S(document.location.search.replace('?', '') || \"\").parseString(); needRefreshHash = htBfr.where == htCur.where && htCur.where == 'image'; needRefreshHash = needRefreshHash && location.hash.indexOf(\"imgId\") === -1; needRefreshHash = needRefreshHash || (htBfr.query && htBfr.query !== htCur.query); } if(needRefreshHash && location.hash){ location.replace(location.href.replace(location.hash, \"\")); } (function() { var startApplication = function() { var require = window.require.config({ \"context\": \"pc_image_tab_viewer\", \"paths\": { \"ImageSearchPC\": \"https://ssl.pstatic.net/sstatic/fe/sfe/image-search/ImageSearchPC_221013\", \"ImageSearchKeep\": \"https://ssl.pstatic.net/sstatic/fe/sfe/image-search/ImageSearchKeep_220922\", \"ImageSearchLogger\": \"https://ssl.pstatic.net/sstatic/fe/sfe/image_tab/ImageSearchLogger_220106\", \"ImageSearchPCTag\": \"https://ssl.pstatic.net/sstatic/fe/sfe/image-search/ImageSearchPCTag_220922\" } }); define(\"jquery\", [], function() { return jQuery; }); require([\"ImageSearchPC\", \"ImageSearchKeep\", \"ImageSearchLogger\", \"ImageSearchPCTag\"], function (ImageSearchPC, ImageSearchKeep, ImageSearchLogger, ImageSearchPCTag) { var keep = new ImageSearchKeep({ api: { token: \"https://apis.naver.com/naverSearchFe/naver_keep/naver_keep\", check: \"https://apis.naver.com/naverSearchFe/naver_keep/v1_web_keep_check?type=bookmark&key={=url}\", create: \"https://apis.naver.com/naverSearchFe/naver_keep/v1_web_bookmark_create\", delete: \"https://apis.naver.com/naverSearchFe/naver_keep/v1_web_keep_delete\" }, shoppingAPI: { check: \"https://s.search.naver.com/p/image/search.naver?where=zzim&zzim_type=zzimcheck&zzim_info={=info}\", create: \"https://s.search.naver.com/p/image/search.naver?where=zzim&zzim_type=zzimadd&zzim_info={=info}\", delete: \"https://s.search.naver.com/p/image/search.naver?where=zzim&zzim_type=zzimdel&zzim_info={=info}\", }, loginUrl: \"https://nid.naver.com/nidlogin.login?url={=location}\" }); var logger = new ImageSearchLogger({ sendLogFunction: tCR, sendLogAndRedirectFunction: gCR, maxLogStore: 50, lcsLogger: {send_lp: lcs_do}, defaultLogParams: {g_puid: g_puid}, }); var tag = new ImageSearchPCTag( jQuery(\"._tagRoot\"), { useFixMode: true, } ).on({ \"openDropdown\": function (e) { tCR(\"a=tag*d.open\"); }, \"closeDropdown\": function (e) { tCR(\"a=tag*d.close\"); } }); var controller = new ImageSearchPC( logger, tag, jQuery(\"._shopAdRoot\"), jQuery(\"._imageSearchPC\"), jQuery(\"._searchFooter\"), { shopAd: { keyword : \"류준열\", onlyImage: 0, exposureLogUrl: \"\", items: [] }, viewOptions: { keep: \"https://search.naver.com/search.naver?where=image&query=%EB%A5%98%EC%A4%80%EC%97%B4#imgId=\", listClickArea: \"img\" }, context: { isAdultQuery: false }, relatedAPI: { url: \"https://s.search.naver.com/p/image/search.naver?where=image&mode=&rev=44&json_type=11&query=%EB%A5%98%EC%A4%80%EC%97%B4&ac=0&aq=0&nx_search_query=%EB%A5%98%EC%A4%80%EC%97%B4&nx_and_query=&nx_sub_query=&nx_search_hlquery=&nx_search_fasquery=&nlu_query=%7B%22r_category%22%3A%226%22%7D&nqx_theme=%7B%22theme%22%3A%7B%22main%22%3A%7B%22name%22%3A%22person%22%2C%22score%22%3A%220.998646%22%7D%7D%7D&x_image=&img_id={=imgId}&p_signature={=signature}&p_nvmid={=nvmid}&articleid={=articleid}&orgPath={=originalUrl}&querySource={=querySource}&start={=start}\", max: 200, }, photoAPI: { url: \"https://s.search.naver.com/p/c/image/search.naver?where=image&mode=&rev=44&section=image&query=%EB%A5%98%EC%A4%80%EC%97%B4&ac=0&aq=0&spq=1&nx_search_query=%EB%A5%98%EC%A4%80%EC%97%B4&nx_and_query=&nx_sub_query=&nx_search_hlquery=&nx_search_fasquery=&res_fr=0&res_to=0&color=&datetype=0&startdate=0&enddate=0&nso=so%3Ar%2Ca%3Aall%2Cp%3Aall&json_type=6&nlu_query=%7B%22r_category%22%3A%226%22%7D&nqx_theme=%7B%22theme%22%3A%7B%22main%22%3A%7B%22name%22%3A%22person%22%2C%22score%22%3A%220.998646%22%7D%7D%7D&gif=0&optStr=&ccl=0&x_image=&display=100&abt=&pq=&start={=start}\", max: 500, }, singlePhotoAPI: { url: \"https://s.search.naver.com/p/c/image/search.naver?where=image&rev=44&ac=0&json_type=10&img_id={=imgId}\", }, lensAPI: { url: \"https://s.search.naver.com/p/image/search.naver?where=image&mode=&rev=44&json_type=16&query=%EB%A5%98%EC%A4%80%EC%97%B4&x_image=&p_nvmid={=nvmid}&articleid={=articleid}&parentid={=parentid}&lensThumb={=lensThumb}&querySource={=querySource}\", end: false, sbiid: \"\", resultlog: \"\", from: \"\" }, reportAPI: { url: \"https://s.search.naver.com/p/c/image/search.naver?rev=44&json_type=2&query=%EB%A5%98%EC%A4%80%EC%97%B4&img_id={=imgId}\", reportUrl : \"https://s.search.naver.com/n/srm/report\", jsonpCallback: \"reportCallback\" }, }); window.imageSearchController = controller; controller.start([ { \"type\":\"image\", \"crArea\": \"N\", \"rank\":\"1\", \"gdid\": \"news_bbeebbcd1378accdf39225c5553759ce\", \"link\":\"https%3A%2F%2Fwww.wikitree.co.kr%2Farticles%2F789078\", \"source\":\"%ED%8F%AC%ED%86%A0%EB%89%B4%EC%8A%A4\", \"viewerThumb\": \"https%3A%2F%2Fsearch.pstatic.net%2Fcommon%2F%3Fsrc%3Dhttp%253A%252F%252Fimgnews.naver.net%252Fimage%252F5239%252F2022%252F09%252F14%252F789078_image_1_20220914140805693.jpg%26type%3Dsc960_832\", \"lensThumb\": \"https%3A%2F%2Fsearch.pstatic.net%2Fcommon%2F%3Fsrc%3Dhttp%253A%252F%252Fimgnews.naver.net%252Fimage%252F5239%252F2022%252F09%252F14%252F789078_image_1_20220914140805693.jpg%26type%3Dsc960_832\", \"imgId\":\"image_sas%3Anews52390000533029_1141982259\", \"orgWidth\":\"540\", \"orgHeight\":\"283\", \"thumbWidth\" : \"340\", \"thumbHeight\" : \"165\", \"thumb\":\"https%3A%2F%2Fsearch.pstatic.net%2Fcommon%2F%3Fsrc%3Dhttp%253A%252F%252Fimgnews.naver.net%252Fimage%252F5239%252F2022%252F09%252F14%252F789078_image_1_20220914140805693.jpg%26type%3Dl340_165\", \"originalUrl\":\"http%3A%2F%2Fimgnews.naver.net%2Fimage%2F5239%2F2022%2F09%2F14%2F789078_image_1_20220914140805693.jpg\", \"title\":\"%EB%A5%98%EC%A4%80%EC%97%B4-%EC%A0%84%EC%97%AC%EB%B9%88%2C%20%EC%A0%9C27%ED%9A%8C%20%EB%B6%80%EC%82%B0%EC%98%81%ED%99%94%EC%A0%9C%20%EA%B0%9C%EB%A7%89%EC%8B%9D%20%EB%82%98%EB%9E%80%ED%9E%88%20%EC%82%AC%ED%9A%8C%20%EB%A7%A1%EB%8A%94%EB%8B%A4%20%28%EA%B3%B5%EC%8B%9D%29\", \"signature\": \"912528236950985\", \"color\" : \"%23DB9D8F\", \"profileImg\" : \"\", \"alphabet\" : \"W\", \"writerTitle\" : \"wikitree.co.kr\", \"sid\" :\"\", \"nvmid\" : \"\", \"is_gif\":\"0\", \"articleid\":\"news52390000533029\", \"zzim_info\":\"\", \"payType\":\"0\", \"displayPrice\":\"\", \"reviewCount\":\"\", \"keepCnt\":\"\", \"favicon\":\"\", \"cclType\": \"0\", \"time_str\": \"\", \"dateInfo\": \"2022.09.14.\", \"iconInfo\": \"\", \"parentid\":\"\", \"tld\":\"wikitree.co.kr\", \"querySource\":\"%EB%A5%98%EC%A4%80%EC%97%B4\", \"sttData\": \"\", \"isReport\": \"0\" } , { \"type\":\"image\", \"crArea\": \"N\", \"rank\":\"2\", \"gdid\": \"news_86cc436d12b83ba3aeffda2b8fb4e82c\", \"link\":\"http%3A%2F%2Fnews.naver.com%2Fmain%2Fread.naver%3Foid%3D109%26aid%3D0004721657\", \"source\":\"%ED%8F%AC%ED%86%A0%EB%89%B4%EC%8A%A4\", \"viewerThumb\": \"https%3A%2F%2Fsearch.pstatic.net%2Fcommon%2F%3Fsrc%3Dhttp%253A%252F%252Fimgnews.naver.net%252Fimage%252F109%252F2022%252F10%252F18%252F0004721657_001_20221018130905078.jpg%26type%3Dsc960_832\", \"lensThumb\": \"https%3A%2F%2Fsearch.pstatic.net%2Fcommon%2F%3Fsrc%3Dhttp%253A%252F%252Fimgnews.naver.net%252Fimage%252F109%252F2022%252F10%252F18%252F0004721657_001_20221018130905078.jpg%26type%3Dsc960_832\", \"imgId\":\"image_sas%3Anews1090004721657_2033433747\", \"orgWidth\":\"1024\", \"orgHeight\":\"1539\", \"thumbWidth\" : \"340\", \"thumbHeight\" : \"511\", \"thumb\":\"https%3A%2F%2Fsearch.pstatic.net%2Fcommon%2F%3Fsrc%3Dhttp%253A%252F%252Fimgnews.naver.net%252Fimage%252F109%252F2022%252F10%252F18%252F0004721657_001_20221018130905078.jpg%26type%3Da340\", \"originalUrl\":\"http%3A%2F%2Fimgnews.naver.net%2Fimage%2F109%2F2022%2F10%2F18%2F0004721657_001_20221018130905078.jpg\", \"title\":\"%5B%EC%82%AC%EC%A7%84%5D%EB%A5%98%EC%A4%80%EC%97%B4%2C%27%EB%8B%AC%EB%8B%AC%ED%95%9C%20%EC%86%90%EC%9D%B8%EC%82%AC%27\", \"signature\": \"917293589596555\", \"color\" : \"%23DB9D8F\", \"profileImg\" : \"\", \"alphabet\" : \"N\", \"writerTitle\" : \"news.naver.com\", \"sid\" :\"\", \"nvmid\" : \"\", \"is_gif\":\"0\", \"articleid\":\"news1090004721657\", \"zzim_info\":\"\", \"payType\":\"0\", \"displayPrice\":\"\", \"reviewCount\":\"\", \"keepCnt\":\"\", \"favicon\":\"\", \"cclType\": \"0\", \"time_str\": \"\", \"dateInfo\": \"2022.10.18.\", \"iconInfo\": \"\", \"parentid\":\"\", \"tld\":\"news.naver.com\", \"querySource\":\"%EB%A5%98%EC%A4%80%EC%97%B4\", \"sttData\": \"\", \"isReport\": \"0\" } , { \"type\":\"image\", \"crArea\": \"N\", \"rank\":\"3\", \"gdid\": \"news_17291771f34b1642706cc17d9ebe27fd\", \"link\":\"http%3A%2F%2Fnews.naver.com%2Fmain%2Fread.naver%3Foid%3D609%26aid%3D0000637438\", \"source\":\"%ED%8F%AC%ED%86%A0%EB%89%B4%EC%8A%A4\", \"viewerThumb\": \"https%3A%2F%2Fsearch.pstatic.net%2Fcommon%2F%3Fsrc%3Dhttp%253A%252F%252Fimgnews.naver.net%252Fimage%252F609%252F2022%252F10%252F05%252F202210052045411810_1_20221005204606312.jpg%26type%3Dsc960_832\", \"lensThumb\": \"https%3A%2F%2Fsearch.pstatic.net%2Fcommon%2F%3Fsrc%3Dhttp%253A%252F%252Fimgnews.naver.net%252Fimage%252F609%252F2022%252F10%252F05%252F202210052045411810_1_20221005204606312.jpg%26type%3Dsc960_832\", \"imgId\":\"image_sas%3Anews6090000637438_388568945\", \"orgWidth\":\"650\", \"orgHeight\":\"933\", \"thumbWidth\" : \"340\", \"thumbHeight\" : \"488\", \"thumb\":\"https%3A%2F%2Fsearch.pstatic.net%2Fcommon%2F%3Fsrc%3Dhttp%253A%252F%252Fimgnews.naver.net%252Fimage%252F609%252F2022%252F10%252F05%252F202210052045411810_1_20221005204606312.jpg%26type%3Da340\", \"originalUrl\":\"http%3A%2F%2Fimgnews.naver.net%2Fimage%2F609%2F2022%2F10%2F05%2F202210052045411810_1_20221005204606312.jpg\", \"title\":\"%EB%A5%98%EC%A4%80%EC%97%B4%2C%20%EB%B6%80%EC%82%B0%20%EC%97%AC%EC%8B%AC%20%EB%85%B9%EC%9D%B8%20%EB%B9%84%EC%A3%BC%EC%96%BC%5B%ED%8F%AC%ED%86%A0%EC%97%94HD%5D\", \"signature\": \"966733172058601\", \"color\" : \"%23C2C7CC\", \"profileImg\" : \"\", \"alphabet\" : \"N\", \"writerTitle\" : \"news.naver.com\", \"sid\" :\"\", \"nvmid\" : \"\", \"is_gif\":\"0\", \"articleid\":\"news6090000637438\", \"zzim_info\":\"\", \"payType\":\"0\", \"displayPrice\":\"\", \"reviewCount\":\"\", \"keepCnt\":\"\", \"favicon\":\"\", \"cclType\": \"0\", \"time_str\": \"\", \"dateInfo\": \"2022.10.05.\", \"iconInfo\": \"\", \"parentid\":\"\", \"tld\":\"news.naver.com\", \"querySource\":\"%EB%A5%98%EC%A4%80%EC%97%B4\", \"sttData\": \"\", \"isReport\": \"0\" } , { \"type\":\"image\", \"crArea\": \"N\", \"rank\":\"4\", \"gdid\": \"news_92c05cd5a72b5e22a0375fb234271491\", \"link\":\"http%3A%2F%2Fnews.naver.com%2Fmain%2Fread.naver%3Foid%3D416%26aid%3D0000287817\", \"source\":\"%ED%8F%AC%ED%86%A0%EB%89%B4%EC%8A%A4\", \"viewerThumb\": \"https%3A%2F%2Fsearch.pstatic.net%2Fcommon%2F%3Fsrc%3Dhttp%253A%252F%252Fimgnews.naver.net%252Fimage%252F416%252F2022%252F09%252F25%252F0000287817_002_20220925073601827.jpg%26type%3Dsc960_832\", \"lensThumb\": \"https%3A%2F%2Fsearch.pstatic.net%2Fcommon%2F%3Fsrc%3Dhttp%253A%252F%252Fimgnews.naver.net%252Fimage%252F416%252F2022%252F09%252F25%252F0000287817_002_20220925073601827.jpg%26type%3Dsc960_832\", \"imgId\":\"image_sas%3Anews4160000287817_1832887083\", \"orgWidth\":\"700\", \"orgHeight\":\"518\", \"thumbWidth\" : \"340\", \"thumbHeight\" : \"252\", \"thumb\":\"https%3A%2F%2Fsearch.pstatic.net%2Fcommon%2F%3Fsrc%3Dhttp%253A%252F%252Fimgnews.naver.net%252Fimage%252F416%252F2022%252F09%252F25%252F0000287817_002_20220925073601827.jpg%26type%3Da340\", \"originalUrl\":\"http%3A%2F%2Fimgnews.naver.net%2Fimage%2F416%2F2022%2F09%2F25%2F0000287817_002_20220925073601827.jpg\", \"title\":\"%26quot%3B%EC%82%AC%EB%9E%91%ED%95%98%EB%8A%94%20%EB%A5%98%EC%A4%80%EC%97%B4%EC%9D%98%201%ED%98%B8%ED%8C%AC%26quot%3B...%ED%98%9C%EB%A6%AC%2C%20%EC%B4%AC%EC%98%81%EC%9E%A5%EC%97%90%20%EC%BB%A4%ED%94%BC%EC%B0%A8%20%EC%9D%91%EC%9B%90\", \"signature\": \"843092041186709\", \"color\" : \"%23C2C7CC\", \"profileImg\" : \"\", \"alphabet\" : \"N\", \"writerTitle\" : \"news.naver.com\", \"sid\" :\"\", \"nvmid\" : \"\", \"is_gif\":\"0\", \"articleid\":\"news4160000287817\", \"zzim_info\":\"\", \"payType\":\"0\", \"displayPrice\":\"\", \"reviewCount\":\"\", \"keepCnt\":\"\", \"favicon\":\"\", \"cclType\": \"0\", \"time_str\": \"\", \"dateInfo\": \"2022.09.25.\", \"iconInfo\": \"\", \"parentid\":\"\", \"tld\":\"news.naver.com\", \"querySource\":\"%EB%A5%98%EC%A4%80%EC%97%B4\", \"sttData\": \"\", \"isReport\": \"0\" } , { \"type\":\"image\", \"crArea\": \"N\", \"rank\":\"5\", \"gdid\": \"news_0890bf029a7e875e553a7cea6af55b69\", \"link\":\"http%3A%2F%2Fnews.naver.com%2Fmain%2Fread.naver%3Foid%3D076%26aid%3D0003928207\", \"source\":\"%ED%8F%AC%ED%86%A0%EB%89%B4%EC%8A%A4\", \"viewerThumb\": \"https%3A%2F%2Fsearch.pstatic.net%2Fcommon%2F%3Fsrc%3Dhttp%253A%252F%252Fimgnews.naver.net%252Fimage%252F076%252F2022%252F10%252F18%252F2022101801001159900073941_20221018115503491.jpg%26type%3Dsc960_832\", \"lensThumb\": \"https%3A%2F%2Fsearch.pstatic.net%2Fcommon%2F%3Fsrc%3Dhttp%253A%252F%252Fimgnews.naver.net%252Fimage%252F076%252F2022%252F10%252F18%252F2022101801001159900073941_20221018115503491.jpg%26type%3Dsc960_832\", \"imgId\":\"image_sas%3Anews0760003928207_143703810\", \"orgWidth\":\"1200\", \"orgHeight\":\"956\", \"thumbWidth\" : \"340\", \"thumbHeight\" : \"271\", \"thumb\":\"https%3A%2F%2Fsearch.pstatic.net%2Fcommon%2F%3Fsrc%3Dhttp%253A%252F%252Fimgnews.naver.net%252Fimage%252F076%252F2022%252F10%252F18%252F2022101801001159900073941_20221018115503491.jpg%26type%3Da340\", \"originalUrl\":\"http%3A%2F%2Fimgnews.naver.net%2Fimage%2F076%2F2022%2F10%2F18%2F2022101801001159900073941_20221018115503491.jpg\", \"title\":\"%5B%ED%8F%AC%ED%86%A0%5D%20%EC%9C%A0%ED%95%B4%EC%A7%84-%EB%A5%98%EC%A4%80%EC%97%B4%2C%20%EC%A0%95%EB%A7%90%20%EC%B9%9C%ED%95%B4%EC%A7%84%20%EC%82%AC%EC%9D%B4\", \"signature\": \"898252791193721\", \"color\" : \"%23C2C7CC\", \"profileImg\" : \"\", \"alphabet\" : \"N\", \"writerTitle\" : \"news.naver.com\", \"sid\" :\"\", \"nvmid\" : \"\", \"is_gif\":\"0\", \"articleid\":\"news0760003928207\", \"zzim_info\":\"\", \"payType\":\"0\", \"displayPrice\":\"\", \"reviewCount\":\"\", \"keepCnt\":\"\", \"favicon\":\"\", \"cclType\": \"0\", \"time_str\": \"\", \"dateInfo\": \"2022.10.18.\", \"iconInfo\": \"\", \"parentid\":\"\", \"tld\":\"news.naver.com\", \"querySource\":\"%EB%A5%98%EC%A4%80%EC%97%B4\", \"sttData\": \"\", \"isReport\": \"0\" } , { \"type\":\"image\", \"crArea\": \"N\", \"rank\":\"6\", \"gdid\": \"news_cdd381407c6b7eef2a0d941e2dd284f1\", \"link\":\"http%3A%2F%2Fnews.naver.com%2Fmain%2Fread.naver%3Foid%3D112%26aid%3D0003499817\", \"source\":\"%ED%8F%AC%ED%86%A0%EB%89%B4%EC%8A%A4\", \"viewerThumb\": \"https%3A%2F%2Fsearch.pstatic.net%2Fcommon%2F%3Fsrc%3Dhttp%253A%252F%252Fimgnews.naver.net%252Fimage%252F112%252F2021%252F11%252F18%252F202111181048234735197_20211118111515_01_20211118111602365.jpg%26type%3Dsc960_832\", \"lensThumb\": \"https%3A%2F%2Fsearch.pstatic.net%2Fcommon%2F%3Fsrc%3Dhttp%253A%252F%252Fimgnews.naver.net%252Fimage%252F112%252F2021%252F11%252F18%252F202111181048234735197_20211118111515_01_20211118111602365.jpg%26type%3Dsc960_832\", \"imgId\":\"image_sas%3Anews1120003499817_841776832\", \"orgWidth\":\"550\", \"orgHeight\":\"711\", \"thumbWidth\" : \"340\", \"thumbHeight\" : \"440\", \"thumb\":\"https%3A%2F%2Fsearch.pstatic.net%2Fcommon%2F%3Fsrc%3Dhttp%253A%252F%252Fimgnews.naver.net%252Fimage%252F112%252F2021%252F11%252F18%252F202111181048234735197_20211118111515_01_20211118111602365.jpg%26type%3Da340\", \"originalUrl\":\"http%3A%2F%2Fimgnews.naver.net%2Fimage%2F112%2F2021%2F11%2F18%2F202111181048234735197_20211118111515_01_20211118111602365.jpg\", \"title\":\"%5B%ED%8F%AC%ED%86%A0%5D%EB%A5%98%EC%A4%80%EC%97%B4%2C%20%EC%9E%90%EC%8B%A0%EA%B0%90%20%EB%84%98%EC%B9%98%EB%8A%94%20%ED%91%9C%EC%A0%95\", \"signature\": \"984326719241251\", \"color\" : \"%23B5B68F\", \"profileImg\" : \"\", \"alphabet\" : \"N\", \"writerTitle\" : \"news.naver.com\", \"sid\" :\"\", \"nvmid\" : \"\", \"is_gif\":\"0\", \"articleid\":\"news1120003499817\", \"zzim_info\":\"\", \"payType\":\"0\", \"displayPrice\":\"\", \"reviewCount\":\"\", \"keepCnt\":\"\", \"favicon\":\"\", \"cclType\": \"0\", \"time_str\": \"\", \"dateInfo\": \"2021.11.18.\", \"iconInfo\": \"\", \"parentid\":\"\", \"tld\":\"news.naver.com\", \"querySource\":\"%EB%A5%98%EC%A4%80%EC%97%B4\", \"sttData\": \"\", \"isReport\": \"0\" } , { \"type\":\"image\", \"crArea\": \"N\", \"rank\":\"7\", \"gdid\": \"news_fe78d5970ce0df71f73212f65020fe8f\", \"link\":\"http%3A%2F%2Fnews.naver.com%2Fmain%2Fread.naver%3Foid%3D022%26aid%3D0003722361\", \"source\":\"%ED%8F%AC%ED%86%A0%EB%89%B4%EC%8A%A4\", \"viewerThumb\": \"https%3A%2F%2Fsearch.pstatic.net%2Fcommon%2F%3Fsrc%3Dhttp%253A%252F%252Fimgnews.naver.net%252Fimage%252F022%252F2022%252F08%252F05%252F20220805505502_20220805111003326.png%26type%3Dsc960_832\", \"lensThumb\": \"https%3A%2F%2Fsearch.pstatic.net%2Fcommon%2F%3Fsrc%3Dhttp%253A%252F%252Fimgnews.naver.net%252Fimage%252F022%252F2022%252F08%252F05%252F20220805505502_20220805111003326.png%26type%3Dsc960_832\", \"imgId\":\"image_sas%3Anews0220003722361_25635433\", \"orgWidth\":\"764\", \"orgHeight\":\"461\", \"thumbWidth\" : \"340\", \"thumbHeight\" : \"205\", \"thumb\":\"https%3A%2F%2Fsearch.pstatic.net%2Fcommon%2F%3Fsrc%3Dhttp%253A%252F%252Fimgnews.naver.net%252Fimage%252F022%252F2022%252F08%252F05%252F20220805505502_20220805111003326.png%26type%3Da340\", \"originalUrl\":\"http%3A%2F%2Fimgnews.naver.net%2Fimage%2F022%2F2022%2F08%2F05%2F20220805505502_20220805111003326.png\", \"title\":\"%E2%80%9C%EB%8F%88%20%EA%B4%80%EC%8B%AC%20%EC%97%86%EB%8B%A4%E2%80%9D%EB%8D%98%20%EB%A5%98%EC%A4%80%EC%97%B4%2C%2040%EC%96%B5%20%EC%B0%A8%EC%9D%B5%EC%97%90%20%EC%9E%85%20%EC%97%B4%EC%97%88%EB%8B%A4%E2%80%A6%E2%80%9C%EC%9D%98%EB%A5%98%20%EC%82%AC%EC%97%85%2C%20%EC%BD%94%EB%A1%9C%EB%82%98%EB%A1%9C%20%EB%B3%B4%EB%A5%98%E2%80%9D\", \"signature\": \"795516930072009\", \"color\" : \"%23DB9D8F\", \"profileImg\" : \"\", \"alphabet\" : \"N\", \"writerTitle\" : \"news.naver.com\", \"sid\" :\"\", \"nvmid\" : \"\", \"is_gif\":\"0\", \"articleid\":\"news0220003722361\", \"zzim_info\":\"\", \"payType\":\"0\", \"displayPrice\":\"\", \"reviewCount\":\"\", \"keepCnt\":\"\", \"favicon\":\"\", \"cclType\": \"0\", \"time_str\": \"\", \"dateInfo\": \"2022.08.05.\", \"iconInfo\": \"\", \"parentid\":\"\", \"tld\":\"news.naver.com\", \"querySource\":\"%EB%A5%98%EC%A4%80%EC%97%B4\", \"sttData\": \"\", \"isReport\": \"0\" } , { \"type\":\"image\", \"crArea\": \"W\", \"rank\":\"8\", \"gdid\": \"web_c9b517572a7e7a03ba1785f21a067f21\", \"link\":\"https%3A%2F%2Ftheqoo.net%2Fryujunyeol%2F2244484586\", \"source\":\"%EC%9B%B9\", \"viewerThumb\": \"https%3A%2F%2Fsearch.pstatic.net%2Fsunny%2F%3Fsrc%3Dhttps%253A%252F%252Fimg.theqoo.net%252Fimg%252FwNXPh.jpg%26type%3Dsc960_832\", \"lensThumb\": \"https%3A%2F%2Fsearch.pstatic.net%2Fsunny%2F%3Fsrc%3Dhttps%253A%252F%252Fimg.theqoo.net%252Fimg%252FwNXPh.jpg%26type%3Dsc960_832\", \"imgId\":\"image_sas%3Awebhttps%3A%2F%2Ftheqoo.net%2Fryujunyeol%2F2244484586_910878889\", \"orgWidth\":\"800\", \"orgHeight\":\"1000\", \"thumbWidth\" : \"340\", \"thumbHeight\" : \"425\", \"thumb\":\"https%3A%2F%2Fsearch.pstatic.net%2Fsunny%2F%3Fsrc%3Dhttps%253A%252F%252Fimg.theqoo.net%252Fimg%252FwNXPh.jpg%26type%3Da340\", \"originalUrl\":\"https%3A%2F%2Fimg.theqoo.net%2Fimg%2FwNXPh.jpg\", \"title\":\"%EB%AA%A9%EA%B1%B8%EC%9D%B4%20%EB%91%90%EA%B0%9C%ED%96%88%EC%96%B4%21%21%21%20-%20%EB%A5%98%EC%A4%80%EC%97%B4%20%EC%B9%B4%ED%85%8C%EA%B3%A0%EB%A6%AC\", \"signature\": \"913893219806357\", \"color\" : \"%23AAbDD0\", \"profileImg\" : \"\", \"alphabet\" : \"T\", \"writerTitle\" : \"theqoo.net\", \"sid\" :\"\", \"nvmid\" : \"\", \"is_gif\":\"0\", \"articleid\":\"webhttps%3A%2F%2Ftheqoo.net%2Fryujunyeol%2F2244484586\", \"zzim_info\":\"\", \"payType\":\"0\", \"displayPrice\":\"\", \"reviewCount\":\"\", \"keepCnt\":\"\", \"favicon\":\"\", \"cclType\": \"0\", \"time_str\": \"\", \"dateInfo\": \"2021.11.18.\", \"iconInfo\": \"\", \"parentid\":\"\", \"tld\":\"theqoo.net\", \"querySource\":\"%EB%A5%98%EC%A4%80%EC%97%B4\", \"sttData\": \"\", \"isReport\": \"1\" } , { \"type\":\"image\", \"crArea\": \"N\", \"rank\":\"9\", \"gdid\": \"news_033f0e61bccde6e2ca1160f49b0d2482\", \"link\":\"http%3A%2F%2Fnews.naver.com%2Fmain%2Fread.naver%3Foid%3D241%26aid%3D0003235103\", \"source\":\"%ED%8F%AC%ED%86%A0%EB%89%B4%EC%8A%A4\", \"viewerThumb\": \"https%3A%2F%2Fsearch.pstatic.net%2Fcommon%2F%3Fsrc%3Dhttp%253A%252F%252Fimgnews.naver.net%252Fimage%252F241%252F2022%252F10%252F18%252F0003235103_001_20221018113801402.jpg%26type%3Dsc960_832\", \"lensThumb\": \"https%3A%2F%2Fsearch.pstatic.net%2Fcommon%2F%3Fsrc%3Dhttp%253A%252F%252Fimgnews.naver.net%252Fimage%252F241%252F2022%252F10%252F18%252F0003235103_001_20221018113801402.jpg%26type%3Dsc960_832\", \"imgId\":\"image_sas%3Anews2410003235103_54464097\", \"orgWidth\":\"560\", \"orgHeight\":\"420\", \"thumbWidth\" : \"340\", \"thumbHeight\" : \"255\", \"thumb\":\"https%3A%2F%2Fsearch.pstatic.net%2Fcommon%2F%3Fsrc%3Dhttp%253A%252F%252Fimgnews.naver.net%252Fimage%252F241%252F2022%252F10%252F18%252F0003235103_001_20221018113801402.jpg%26type%3Da340\", \"originalUrl\":\"http%3A%2F%2Fimgnews.naver.net%2Fimage%2F241%2F2022%2F10%2F18%2F0003235103_001_20221018113801402.jpg\", \"title\":\"%5B%ED%8F%AC%ED%86%A0%5D%20%EC%9C%A0%ED%95%B4%EC%A7%84-%EB%A5%98%EC%A4%80%EC%97%B4%2C%20%E2%80%98%ED%83%9D%EC%8B%9C%EC%9A%B4%EC%A0%84%EC%82%AC%2C%20%EB%B4%89%EC%98%A4%EB%8F%99%20%EC%A0%84%ED%88%AC%E2%80%98%EC%97%90%20%EC%9D%B4%EC%96%B4%20%EC%84%B8%20%EB%B2%88%EC%A7%B8%20%EB%A7%8C%EB%82%A8\", \"signature\": \"914176124773251\", \"color\" : \"%23AAbDD0\", \"profileImg\" : \"\", \"alphabet\" : \"N\", \"writerTitle\" : \"news.naver.com\", \"sid\" :\"\", \"nvmid\" : \"\", \"is_gif\":\"0\", \"articleid\":\"news2410003235103\", \"zzim_info\":\"\", \"payType\":\"0\", \"displayPrice\":\"\", \"reviewCount\":\"\", \"keepCnt\":\"\", \"favicon\":\"\", \"cclType\": \"0\", \"time_str\": \"\", \"dateInfo\": \"2022.10.18.\", \"iconInfo\": \"\", \"parentid\":\"\", \"tld\":\"news.naver.com\", \"querySource\":\"%EB%A5%98%EC%A4%80%EC%97%B4\", \"sttData\": \"\", \"isReport\": \"0\" } , { \"type\":\"image\", \"crArea\": \"N\", \"rank\":\"10\", \"gdid\": \"news_b6129201852ee2f24693d7260d862227\", \"link\":\"http%3A%2F%2Fnews.naver.com%2Fmain%2Fread.naver%3Foid%3D015%26aid%3D0004630089\", \"source\":\"%ED%8F%AC%ED%86%A0%EB%89%B4%EC%8A%A4\", \"viewerThumb\": \"https%3A%2F%2Fsearch.pstatic.net%2Fcommon%2F%3Fsrc%3Dhttp%253A%252F%252Fimgnews.naver.net%252Fimage%252F015%252F2021%252F11%252F18%252F0004630089_001_20211118112601128.jpg%26type%3Dsc960_832\", \"lensThumb\": \"https%3A%2F%2Fsearch.pstatic.net%2Fcommon%2F%3Fsrc%3Dhttp%253A%252F%252Fimgnews.naver.net%252Fimage%252F015%252F2021%252F11%252F18%252F0004630089_001_20211118112601128.jpg%26type%3Dsc960_832\", \"imgId\":\"image_sas%3Anews0150004630089_1240296959\", \"orgWidth\":\"630\", \"orgHeight\":\"944\", \"thumbWidth\" : \"340\", \"thumbHeight\" : \"509\", \"thumb\":\"https%3A%2F%2Fsearch.pstatic.net%2Fcommon%2F%3Fsrc%3Dhttp%253A%252F%252Fimgnews.naver.net%252Fimage%252F015%252F2021%252F11%252F18%252F0004630089_001_20211118112601128.jpg%26type%3Da340\", \"originalUrl\":\"http%3A%2F%2Fimgnews.naver.net%2Fimage%2F015%2F2021%2F11%2F18%2F0004630089_001_20211118112601128.jpg\", \"title\":\"%5B%ED%8F%AC%ED%86%A0%5D%20%EB%A5%98%EC%A4%80%EC%97%B4%2C%20%27%EC%97%AC%EC%8B%AC%20%EC%A0%80%EA%B2%A9%20%EC%98%86%20%EC%84%A0%27\", \"signature\": \"912512703379243\", \"color\" : \"%23E1B785\", \"profileImg\" : \"\", \"alphabet\" : \"N\", \"writerTitle\" : \"news.naver.com\", \"sid\" :\"\", \"nvmid\" : \"\", \"is_gif\":\"0\", \"articleid\":\"news0150004630089\", \"zzim_info\":\"\", \"payType\":\"0\", \"displayPrice\":\"\", \"reviewCount\":\"\", \"keepCnt\":\"\", \"favicon\":\"\", \"cclType\": \"0\", \"time_str\": \"\", \"dateInfo\": \"2021.11.18.\", \"iconInfo\": \"\", \"parentid\":\"\", \"tld\":\"news.naver.com\", \"querySource\":\"%EB%A5%98%EC%A4%80%EC%97%B4\", \"sttData\": \"\", \"isReport\": \"0\" } , { \"type\":\"image\", \"crArea\": \"N\", \"rank\":\"11\", \"gdid\": \"blog_1fe91831a251c313a34cc130fc3c7103\", \"link\":\"https%3A%2F%2Fblog.naver.com%2Fmaxlovely90%2F222841252376\", \"source\":\"%EB%B8%94%EB%A1%9C%EA%B7%B8\", \"viewerThumb\": \"https%3A%2F%2Fsearch.pstatic.net%2Fcommon%2F%3Fsrc%3Dhttp%253A%252F%252Fblogfiles.naver.net%252FMjAyMjA4MDZfMjIy%252FMDAxNjU5Nzc0NzM5ODE0.pv8Nh6XnAKJJYql5aQx1-Pjuuc82CAeTBsStBiyuuzgg.1l9i1txcRmXT47TAMTslVLkdxszlJ2Or4kavgHx0-o4g.JPEG.maxlovely90%252F%2525B7%2525F93.jpg%26type%3Dsc960_832\", \"lensThumb\": \"https%3A%2F%2Fsearch.pstatic.net%2Fcommon%2F%3Fsrc%3Dhttp%253A%252F%252Fblogfiles.naver.net%252FMjAyMjA4MDZfMjIy%252FMDAxNjU5Nzc0NzM5ODE0.pv8Nh6XnAKJJYql5aQx1-Pjuuc82CAeTBsStBiyuuzgg.1l9i1txcRmXT47TAMTslVLkdxszlJ2Or4kavgHx0-o4g.JPEG.maxlovely90%252F%2525B7%2525F93.jpg%26type%3Dsc960_832\", \"imgId\":\"image_sas%3Ablog15474509%7C382%7C222841252376_535369777\", \"orgWidth\":\"536\", \"orgHeight\":\"786\", \"thumbWidth\" : \"340\", \"thumbHeight\" : \"499\", \"thumb\":\"https%3A%2F%2Fsearch.pstatic.net%2Fcommon%2F%3Fsrc%3Dhttp%253A%252F%252Fblogfiles.naver.net%252FMjAyMjA4MDZfMjIy%252FMDAxNjU5Nzc0NzM5ODE0.pv8Nh6XnAKJJYql5aQx1-Pjuuc82CAeTBsStBiyuuzgg.1l9i1txcRmXT47TAMTslVLkdxszlJ2Or4kavgHx0-o4g.JPEG.maxlovely90%252F%2525B7%2525F93.jpg%26type%3Da340\", \"originalUrl\":\"http%3A%2F%2Fblogfiles.naver.net%2FMjAyMjA4MDZfMjIy%2FMDAxNjU5Nzc0NzM5ODE0.pv8Nh6XnAKJJYql5aQx1-Pjuuc82CAeTBsStBiyuuzgg.1l9i1txcRmXT47TAMTslVLkdxszlJ2Or4kavgHx0-o4g.JPEG.maxlovely90%2F%25B7%25F93.jpg\", \"title\":\"%EB%A5%98%EC%A4%80%EC%97%B4\", \"signature\": \"581588146023460\", \"color\" : \"%23B5B68F\", \"profileImg\" : \"https%3A%2F%2Fsearch.pstatic.net%2Fcommon%2F%3Fsrc%3Dhttp%253A%252F%252Fblogpfthumb.phinf.naver.net%252FMjAyMjA4MDZfMjY5%252FMDAxNjU5Nzc1NzUyNDMy.yxSluEu39dgJhlWX4i7i99omLT-LNEtsWfS2YAeIysUg.08cr4geeaCLx6qN0gK4hifAo8GNRD7FZvSrfFBF84Lcg.JPEG.maxlovely90%252F%2525ED%252595%25259C.jpg%252F%2525ED%252595%25259C.jpg%26type%3Df80_80\", \"alphabet\" : \"B\", \"writerTitle\" : \"%EB%B9%84%EC%AD%81%EC%9D%B4%EC%9D%98%20Blog\", \"sid\" :\"\", \"nvmid\" : \"\", \"is_gif\":\"0\", \"articleid\":\"blog15474509%7C382%7C222841252376\", \"zzim_info\":\"\", \"payType\":\"0\", \"displayPrice\":\"\", \"reviewCount\":\"\", \"keepCnt\":\"\", \"favicon\":\"\", \"cclType\": \"0\", \"time_str\": \"\", \"dateInfo\": \"2022.08.06.\", \"iconInfo\": \"\", \"parentid\":\"\", \"tld\":\"blog.naver.com\", \"querySource\":\"%EB%A5%98%EC%A4%80%EC%97%B4\", \"sttData\": \"\", \"isReport\": \"1\" } , { \"type\":\"image\", \"crArea\": \"N\", \"rank\":\"12\", \"gdid\": \"blog_99c1a68751c4bbd250f9c806cf56b9f8\", \"link\":\"https%3A%2F%2Fblog.naver.com%2Fj600410%2F222883560368\", \"source\":\"%EB%B8%94%EB%A1%9C%EA%B7%B8\", \"viewerThumb\": \"https%3A%2F%2Fsearch.pstatic.net%2Fcommon%2F%3Fsrc%3Dhttp%253A%252F%252Fblogfiles.naver.net%252FMjAyMjA5MjVfMjk1%252FMDAxNjY0MDc1MzMxNjQ3.RMZGMvCuQ8BGhGtxPe4qfrU8tQaa2Ir1S8G7gmR3vyMg.ZkxLv9qHDUIyNpoSiKbNDhxQ0LQc3_-yLv6s395Y4zgg.JPEG.j600410%252FScreenshot_2022-09-25_at_12.07.57.JPG%26type%3Dsc960_832\", \"lensThumb\": \"https%3A%2F%2Fsearch.pstatic.net%2Fcommon%2F%3Fsrc%3Dhttp%253A%252F%252Fblogfiles.naver.net%252FMjAyMjA5MjVfMjk1%252FMDAxNjY0MDc1MzMxNjQ3.RMZGMvCuQ8BGhGtxPe4qfrU8tQaa2Ir1S8G7gmR3vyMg.ZkxLv9qHDUIyNpoSiKbNDhxQ0LQc3_-yLv6s395Y4zgg.JPEG.j600410%252FScreenshot_2022-09-25_at_12.07.57.JPG%26type%3Dsc960_832\", \"imgId\":\"image_sas%3Ablog128062266%7C26%7C222883560368_1715362169\", \"orgWidth\":\"512\", \"orgHeight\":\"439\", \"thumbWidth\" : \"340\", \"thumbHeight\" : \"292\", \"thumb\":\"https%3A%2F%2Fsearch.pstatic.net%2Fcommon%2F%3Fsrc%3Dhttp%253A%252F%252Fblogfiles.naver.net%252FMjAyMjA5MjVfMjk1%252FMDAxNjY0MDc1MzMxNjQ3.RMZGMvCuQ8BGhGtxPe4qfrU8tQaa2Ir1S8G7gmR3vyMg.ZkxLv9qHDUIyNpoSiKbNDhxQ0LQc3_-yLv6s395Y4zgg.JPEG.j600410%252FScreenshot_2022-09-25_at_12.07.57.JPG%26type%3Da340\", \"originalUrl\":\"http%3A%2F%2Fblogfiles.naver.net%2FMjAyMjA5MjVfMjk1%2FMDAxNjY0MDc1MzMxNjQ3.RMZGMvCuQ8BGhGtxPe4qfrU8tQaa2Ir1S8G7gmR3vyMg.ZkxLv9qHDUIyNpoSiKbNDhxQ0LQc3_-yLv6s395Y4zgg.JPEG.j600410%2FScreenshot_2022-09-25_at_12.07.57.JPG\", \"title\":\"%EB%B0%B0%EC%9A%B0%20%ED%98%9C%EB%A6%AC%20%26quot%3B%EC%82%AC%EB%9E%91%ED%95%98%EB%8A%94%20%E2%99%A5%EB%A5%98%EC%A4%80%EC%97%B4%26quot%3B%E2%80%A6%EB%82%A8%EC%9E%90%EC%B9%9C%EA%B5%AC%20%EC%B4%AC%EC%98%81%EC%9E%A5%20%EC%A7%81%EC%A0%91%20%EA%B0%84%20%EC%82%AC%EB%9E%91%EA%BE%BC\", \"signature\": \"1071569337448244\", \"color\" : \"%23B5B68F\", \"profileImg\" : \"https%3A%2F%2Fsearch.pstatic.net%2Fcommon%2F%3Fsrc%3Dhttp%253A%252F%252Fblogpfthumb.phinf.naver.net%252FMjAyMjA5MTJfMjkz%252FMDAxNjYyOTg1MDEwODAx.2JUjgos26kiNd9Do_Vb1rmqrPGYpheDZeTeM_1tFiP8g.ZuDlpp-mvkI3BCvp78oQZwq5ubgFPdyT3EWtG8cwfi8g.JPEG.j600410%252Fpp.jpg%252Fpp.jpg%26type%3Df80_80\", \"alphabet\" : \"B\", \"writerTitle\" : \"%EC%A0%88%EC%A0%9C%ED%95%98%EA%B3%A0%20%EA%B0%90%EC%82%AC%ED%95%98%EB%9D%BC\", \"sid\" :\"\", \"nvmid\" : \"\", \"is_gif\":\"0\", \"articleid\":\"blog128062266%7C26%7C222883560368\", \"zzim_info\":\"\", \"payType\":\"0\", \"displayPrice\":\"\", \"reviewCount\":\"\", \"keepCnt\":\"\", \"favicon\":\"\", \"cclType\": \"0\", \"time_str\": \"\", \"dateInfo\": \"2022.09.25.\", \"iconInfo\": \"\", \"parentid\":\"\", \"tld\":\"blog.naver.com\", \"querySource\":\"%EB%A5%98%EC%A4%80%EC%97%B4\", \"sttData\": \"\", \"isReport\": \"1\" } , { \"type\":\"image\", \"crArea\": \"N\", \"rank\":\"13\", \"gdid\": \"news_7a5bd601f624c32b1719541abe50968d\", \"link\":\"http%3A%2F%2Fwww.tvdaily.co.kr%2Fread.php3%3Faid%3D16660639321657748017\", \"source\":\"%ED%8F%AC%ED%86%A0%EB%89%B4%EC%8A%A4\", \"viewerThumb\": \"https%3A%2F%2Fsearch.pstatic.net%2Fcommon%2F%3Fsrc%3Dhttp%253A%252F%252Fimgnews.naver.net%252Fimage%252F5129%252F2022%252F10%252F18%252F1666063932_1657748_20221018123602679.jpg%26type%3Dsc960_832\", \"lensThumb\": \"https%3A%2F%2Fsearch.pstatic.net%2Fcommon%2F%3Fsrc%3Dhttp%253A%252F%252Fimgnews.naver.net%252Fimage%252F5129%252F2022%252F10%252F18%252F1666063932_1657748_20221018123602679.jpg%26type%3Dsc960_832\", \"imgId\":\"image_sas%3Anews51290001231156_2052838913\", \"orgWidth\":\"658\", \"orgHeight\":\"920\", \"thumbWidth\" : \"340\", \"thumbHeight\" : \"475\", \"thumb\":\"https%3A%2F%2Fsearch.pstatic.net%2Fcommon%2F%3Fsrc%3Dhttp%253A%252F%252Fimgnews.naver.net%252Fimage%252F5129%252F2022%252F10%252F18%252F1666063932_1657748_20221018123602679.jpg%26type%3Da340\", \"originalUrl\":\"http%3A%2F%2Fimgnews.naver.net%2Fimage%2F5129%2F2022%2F10%2F18%2F1666063932_1657748_20221018123602679.jpg\", \"title\":\"%5BTD%ED%8F%AC%ED%86%A0%5D%20%EB%A5%98%EC%A4%80%EC%97%B4%20%27%EC%9E%98%EC%83%9D%EA%B9%80%20%ED%8F%AD%EB%B0%9C%27\", \"signature\": \"334157582982780\", \"color\" : \"%23B5B68F\", \"profileImg\" : \"\", \"alphabet\" : \"T\", \"writerTitle\" : \"tvdaily.co.kr\", \"sid\" :\"\", \"nvmid\" : \"\", \"is_gif\":\"0\", \"articleid\":\"news51290001231156\", \"zzim_info\":\"\", \"payType\":\"0\", \"displayPrice\":\"\", \"reviewCount\":\"\", \"keepCnt\":\"\", \"favicon\":\"\", \"cclType\": \"0\", \"time_str\": \"\", \"dateInfo\": \"2022.10.18.\", \"iconInfo\": \"\", \"parentid\":\"\", \"tld\":\"tvdaily.co.kr\", \"querySource\":\"%EB%A5%98%EC%A4%80%EC%97%B4\", \"sttData\": \"\", \"isReport\": \"0\" } , { \"type\":\"image\", \"crArea\": \"W\", \"rank\":\"14\", \"gdid\": \"web_0af2d376b7c1cac319d45a0269bd5ee3\", \"link\":\"https%3A%2F%2Fstar.mt.co.kr%2Fstview.php%3Fno%3D2015120820124384927\", \"source\":\"%EC%9B%B9\", \"viewerThumb\": \"https%3A%2F%2Fsearch.pstatic.net%2Fsunny%2F%3Fsrc%3Dhttps%253A%252F%252Fthumb.mtstarnews.com%252F21%252F2015%252F12%252F2015120820124384927_1.jpg%252Fdims%252Fresize%252F1200%252Fcrop%252F1200x630%2521%252Foptimize%26type%3Dsc960_832\", \"lensThumb\": \"https%3A%2F%2Fsearch.pstatic.net%2Fsunny%2F%3Fsrc%3Dhttps%253A%252F%252Fthumb.mtstarnews.com%252F21%252F2015%252F12%252F2015120820124384927_1.jpg%252Fdims%252Fresize%252F1200%252Fcrop%252F1200x630%2521%252Foptimize%26type%3Dsc960_832\", \"imgId\":\"image_sas%3Awebhttps%3A%2F%2Fstar.mt.co.kr%2Fstview.php%3Fno%3D2015120820124384927_183686006\", \"orgWidth\":\"1200\", \"orgHeight\":\"630\", \"thumbWidth\" : \"340\", \"thumbHeight\" : \"165\", \"thumb\":\"https%3A%2F%2Fsearch.pstatic.net%2Fsunny%2F%3Fsrc%3Dhttps%253A%252F%252Fthumb.mtstarnews.com%252F21%252F2015%252F12%252F2015120820124384927_1.jpg%252Fdims%252Fresize%252F1200%252Fcrop%252F1200x630%2521%252Foptimize%26type%3Dl340_165\", \"originalUrl\":\"https%3A%2F%2Fthumb.mtstarnews.com%2F21%2F2015%2F12%2F2015120820124384927_1.jpg%2Fdims%2Fresize%2F1200%2Fcrop%2F1200x630%21%2Foptimize\", \"title\":\"%5B%E2%98%85%ED%8F%AC%ED%86%A0%5D%EB%A5%98%EC%A4%80%EC%97%B4%2C%20%27%EC%A0%95%ED%99%98%EC%9D%B4%20%EC%99%94%EC%96%B4%EC%9A%94%27%20-%20%EC%8A%A4%ED%83%80%EB%89%B4%EC%8A%A4\", \"signature\": \"611778095239499\", \"color\" : \"%23E1B785\", \"profileImg\" : \"\", \"alphabet\" : \"S\", \"writerTitle\" : \"star.mt.co.kr\", \"sid\" :\"\", \"nvmid\" : \"\", \"is_gif\":\"0\", \"articleid\":\"webhttps%3A%2F%2Fstar.mt.co.kr%2Fstview.php%3Fno%3D2015120820124384927\", \"zzim_info\":\"\", \"payType\":\"0\", \"displayPrice\":\"\", \"reviewCount\":\"\", \"keepCnt\":\"\", \"favicon\":\"\", \"cclType\": \"0\", \"time_str\": \"\", \"dateInfo\": \"2022.10.14.\", \"iconInfo\": \"\", \"parentid\":\"\", \"tld\":\"star.mt.co.kr\", \"querySource\":\"%EB%A5%98%EC%A4%80%EC%97%B4\", \"sttData\": \"\", \"isReport\": \"1\" } , { \"type\":\"image\", \"crArea\": \"N\", \"rank\":\"15\", \"gdid\": \"news_3f5a9b243916b55cc84917ebe9041246\", \"link\":\"http%3A%2F%2Fnews.naver.com%2Fmain%2Fread.naver%3Foid%3D408%26aid%3D0000169964\", \"source\":\"%ED%8F%AC%ED%86%A0%EB%89%B4%EC%8A%A4\", \"viewerThumb\": \"https%3A%2F%2Fsearch.pstatic.net%2Fcommon%2F%3Fsrc%3Dhttp%253A%252F%252Fimgnews.naver.net%252Fimage%252F408%252F2022%252F10%252F18%252F0000169964_001_20221018115501477.jpg%26type%3Dsc960_832\", \"lensThumb\": \"https%3A%2F%2Fsearch.pstatic.net%2Fcommon%2F%3Fsrc%3Dhttp%253A%252F%252Fimgnews.naver.net%252Fimage%252F408%252F2022%252F10%252F18%252F0000169964_001_20221018115501477.jpg%26type%3Dsc960_832\", \"imgId\":\"image_sas%3Anews4080000169964_1062902564\", \"orgWidth\":\"800\", \"orgHeight\":\"1120\", \"thumbWidth\" : \"340\", \"thumbHeight\" : \"476\", \"thumb\":\"https%3A%2F%2Fsearch.pstatic.net%2Fcommon%2F%3Fsrc%3Dhttp%253A%252F%252Fimgnews.naver.net%252Fimage%252F408%252F2022%252F10%252F18%252F0000169964_001_20221018115501477.jpg%26type%3Da340\", \"originalUrl\":\"http%3A%2F%2Fimgnews.naver.net%2Fimage%2F408%2F2022%2F10%2F18%2F0000169964_001_20221018115501477.jpg\", \"title\":\"%5B%ED%8F%AC%ED%86%A0%5D%20%EB%A5%98%EC%A4%80%EC%97%B4%2C%20%EC%A3%BC%EB%A7%B9%EC%A6%9D%20%EC%8B%A4%EC%A0%9C%EC%B2%98%EB%9F%BC%20%EC%97%B0%EA%B8%B0\", \"signature\": \"597083140852978\", \"color\" : \"%23DB9D8F\", \"profileImg\" : \"\", \"alphabet\" : \"N\", \"writerTitle\" : \"news.naver.com\", \"sid\" :\"\", \"nvmid\" : \"\", \"is_gif\":\"0\", \"articleid\":\"news4080000169964\", \"zzim_info\":\"\", \"payType\":\"0\", \"displayPrice\":\"\", \"reviewCount\":\"\", \"keepCnt\":\"\", \"favicon\":\"\", \"cclType\": \"0\", \"time_str\": \"\", \"dateInfo\": \"2022.10.18.\", \"iconInfo\": \"\", \"parentid\":\"\", \"tld\":\"news.naver.com\", \"querySource\":\"%EB%A5%98%EC%A4%80%EC%97%B4\", \"sttData\": \"\", \"isReport\": \"0\" } , { \"type\":\"image\", \"crArea\": \"N\", \"rank\":\"16\", \"gdid\": \"news_d43c3b9298a3af3280d6b9517774ec70\", \"link\":\"http%3A%2F%2Fnews.naver.com%2Fmain%2Fread.naver%3Foid%3D408%26aid%3D0000138882\", \"source\":\"%ED%8F%AC%ED%86%A0%EB%89%B4%EC%8A%A4\", \"viewerThumb\": \"https%3A%2F%2Fsearch.pstatic.net%2Fcommon%2F%3Fsrc%3Dhttp%253A%252F%252Fimgnews.naver.net%252Fimage%252F408%252F2021%252F11%252F18%252F0000138882_001_20211118111401673.jpg%26type%3Dsc960_832\", \"lensThumb\": \"https%3A%2F%2Fsearch.pstatic.net%2Fcommon%2F%3Fsrc%3Dhttp%253A%252F%252Fimgnews.naver.net%252Fimage%252F408%252F2021%252F11%252F18%252F0000138882_001_20211118111401673.jpg%26type%3Dsc960_832\", \"imgId\":\"image_sas%3Anews4080000138882_734250094\", \"orgWidth\":\"800\", \"orgHeight\":\"1120\", \"thumbWidth\" : \"340\", \"thumbHeight\" : \"476\", \"thumb\":\"https%3A%2F%2Fsearch.pstatic.net%2Fcommon%2F%3Fsrc%3Dhttp%253A%252F%252Fimgnews.naver.net%252Fimage%252F408%252F2021%252F11%252F18%252F0000138882_001_20211118111401673.jpg%26type%3Da340\", \"originalUrl\":\"http%3A%2F%2Fimgnews.naver.net%2Fimage%2F408%2F2021%2F11%2F18%2F0000138882_001_20211118111401673.jpg\", \"title\":\"%5B%ED%8F%AC%ED%86%A0%5D%20%EB%A5%98%EC%A4%80%EC%97%B4%2C%20%27%EC%84%B9%EC%8B%9C%20%EB%88%88%EB%B9%9B%27\", \"signature\": \"877729593859223\", \"color\" : \"%23C2C7CC\", \"profileImg\" : \"\", \"alphabet\" : \"N\", \"writerTitle\" : \"news.naver.com\", \"sid\" :\"\", \"nvmid\" : \"\", \"is_gif\":\"0\", \"articleid\":\"news4080000138882\", \"zzim_info\":\"\", \"payType\":\"0\", \"displayPrice\":\"\", \"reviewCount\":\"\", \"keepCnt\":\"\", \"favicon\":\"\", \"cclType\": \"0\", \"time_str\": \"\", \"dateInfo\": \"2021.11.18.\", \"iconInfo\": \"\", \"parentid\":\"\", \"tld\":\"news.naver.com\", \"querySource\":\"%EB%A5%98%EC%A4%80%EC%97%B4\", \"sttData\": \"\", \"isReport\": \"0\" } , { \"type\":\"image\", \"crArea\": \"N\", \"rank\":\"17\", \"gdid\": \"blog_8136b23bfadda217cf64dbf3390eb297\", \"link\":\"https%3A%2F%2Fblog.naver.com%2Fgold44999%2F222657826912\", \"source\":\"%EB%B8%94%EB%A1%9C%EA%B7%B8\", \"viewerThumb\": \"https%3A%2F%2Fsearch.pstatic.net%2Fcommon%2F%3Fsrc%3Dhttp%253A%252F%252Fblogfiles.naver.net%252FMjAyMjAyMjVfMTk0%252FMDAxNjQ1NzgzNDU0NDYx.vxCw8WGzSrtLy54B14jBDIMWD_YMi_GAjEq-5RgOgB8g.OppCrfKtn6-f4Ippdn_3vohJ_qRGFzBb26vxq9Br0qQg.JPEG.gold44999%252FcommonLIYKFLZ7.jpg%26type%3Dsc960_832\", \"lensThumb\": \"https%3A%2F%2Fsearch.pstatic.net%2Fcommon%2F%3Fsrc%3Dhttp%253A%252F%252Fblogfiles.naver.net%252FMjAyMjAyMjVfMTk0%252FMDAxNjQ1NzgzNDU0NDYx.vxCw8WGzSrtLy54B14jBDIMWD_YMi_GAjEq-5RgOgB8g.OppCrfKtn6-f4Ippdn_3vohJ_qRGFzBb26vxq9Br0qQg.JPEG.gold44999%252FcommonLIYKFLZ7.jpg%26type%3Dsc960_832\", \"imgId\":\"image_sas%3Ablog142016871%7C10%7C222657826912_2127121861\", \"orgWidth\":\"384\", \"orgHeight\":\"832\", \"thumbWidth\" : \"340\", \"thumbHeight\" : \"600\", \"thumb\":\"https%3A%2F%2Fsearch.pstatic.net%2Fcommon%2F%3Fsrc%3Dhttp%253A%252F%252Fblogfiles.naver.net%252FMjAyMjAyMjVfMTk0%252FMDAxNjQ1NzgzNDU0NDYx.vxCw8WGzSrtLy54B14jBDIMWD_YMi_GAjEq-5RgOgB8g.OppCrfKtn6-f4Ippdn_3vohJ_qRGFzBb26vxq9Br0qQg.JPEG.gold44999%252FcommonLIYKFLZ7.jpg%26type%3Dofullfill340_600_png\", \"originalUrl\":\"http%3A%2F%2Fblogfiles.naver.net%2FMjAyMjAyMjVfMTk0%2FMDAxNjQ1NzgzNDU0NDYx.vxCw8WGzSrtLy54B14jBDIMWD_YMi_GAjEq-5RgOgB8g.OppCrfKtn6-f4Ippdn_3vohJ_qRGFzBb26vxq9Br0qQg.JPEG.gold44999%2FcommonLIYKFLZ7.jpg\", \"title\":\"%EB%A5%98%EC%A4%80%EC%97%B4%EC%82%AC%EC%A3%BC%20%EC%9E%AC%EA%B7%B9%EC%9D%B8%EC%82%AC%EC%A3%BC\", \"signature\": \"318063299957548\", \"color\" : \"%23E1B785\", \"profileImg\" : \"https%3A%2F%2Fsearch.pstatic.net%2Fcommon%2F%3Fsrc%3Dhttp%253A%252F%252Fblogpfthumb.phinf.naver.net%252FMjAyMTA0MDhfMTg2%252FMDAxNjE3ODY4NDIwNjYy.QIZq6dJcBP3ibl-V8YjBiOvkH7cWIWqFSXlwgwTZ8qUg.BrkcIEelymoE5VQEDZcvVi7Ljo71LdCjzXV2asrq0fAg.PNG.gold44999%252F%2525EA%2525BD%252583%2525EA%2525B8%2525B8_001.png%26type%3Df80_80\", \"alphabet\" : \"B\", \"writerTitle\" : \"%EC%88%98%EC%97%B0%EC%9E%91%EB%AA%85%EC%B2%A0%ED%95%99%EA%B4%80%20%EA%B3%B5%EC%8B%9D%EB%B8%94%EB%A1%9C%EA%B7%B8\", \"sid\" :\"\", \"nvmid\" : \"\", \"is_gif\":\"0\", \"articleid\":\"blog142016871%7C10%7C222657826912\", \"zzim_info\":\"\", \"payType\":\"0\", \"displayPrice\":\"\", \"reviewCount\":\"\", \"keepCnt\":\"\", \"favicon\":\"\", \"cclType\": \"0\", \"time_str\": \"\", \"dateInfo\": \"2022.02.25.\", \"iconInfo\": \"\", \"parentid\":\"\", \"tld\":\"blog.naver.com\", \"querySource\":\"%EB%A5%98%EC%A4%80%EC%97%B4\", \"sttData\": \"\", \"isReport\": \"1\" } , { \"type\":\"image\", \"crArea\": \"N\", \"rank\":\"18\", \"gdid\": \"news_12f27e916563cb50d68d6fe54ebd30dc\", \"link\":\"http%3A%2F%2Fnews.naver.com%2Fmain%2Fread.naver%3Foid%3D477%26aid%3D0000388284\", \"source\":\"%ED%8F%AC%ED%86%A0%EB%89%B4%EC%8A%A4\", \"viewerThumb\": \"https%3A%2F%2Fsearch.pstatic.net%2Fcommon%2F%3Fsrc%3Dhttp%253A%252F%252Fimgnews.naver.net%252Fimage%252F477%252F2022%252F10%252F18%252F0000388284_001_20221018110602948.jpg%26type%3Dsc960_832\", \"lensThumb\": \"https%3A%2F%2Fsearch.pstatic.net%2Fcommon%2F%3Fsrc%3Dhttp%253A%252F%252Fimgnews.naver.net%252Fimage%252F477%252F2022%252F10%252F18%252F0000388284_001_20221018110602948.jpg%26type%3Dsc960_832\", \"imgId\":\"image_sas%3Anews4770000388284_317882001\", \"orgWidth\":\"900\", \"orgHeight\":\"1260\", \"thumbWidth\" : \"340\", \"thumbHeight\" : \"476\", \"thumb\":\"https%3A%2F%2Fsearch.pstatic.net%2Fcommon%2F%3Fsrc%3Dhttp%253A%252F%252Fimgnews.naver.net%252Fimage%252F477%252F2022%252F10%252F18%252F0000388284_001_20221018110602948.jpg%26type%3Da340\", \"originalUrl\":\"http%3A%2F%2Fimgnews.naver.net%2Fimage%2F477%2F2022%2F10%2F18%2F0000388284_001_20221018110602948.jpg\", \"title\":\"%5B%ED%8F%AC%ED%86%A0S%5D%20%EB%A5%98%EC%A4%80%EC%97%B4%2C%20%EB%A7%A4%EB%A0%A5%20%EC%9E%88%EB%8A%94%20%EB%B0%B0%EC%9A%B0\", \"signature\": \"579769869413954\", \"color\" : \"%23AAbDD0\", \"profileImg\" : \"\", \"alphabet\" : \"N\", \"writerTitle\" : \"news.naver.com\", \"sid\" :\"\", \"nvmid\" : \"\", \"is_gif\":\"0\", \"articleid\":\"news4770000388284\", \"zzim_info\":\"\", \"payType\":\"0\", \"displayPrice\":\"\", \"reviewCount\":\"\", \"keepCnt\":\"\", \"favicon\":\"\", \"cclType\": \"0\", \"time_str\": \"\", \"dateInfo\": \"2022.10.18.\", \"iconInfo\": \"\", \"parentid\":\"\", \"tld\":\"news.naver.com\", \"querySource\":\"%EB%A5%98%EC%A4%80%EC%97%B4\", \"sttData\": \"\", \"isReport\": \"0\" } , { \"type\":\"image\", \"crArea\": \"N\", \"rank\":\"19\", \"gdid\": \"blog_86891768f477e205b4445c05506d8439\", \"link\":\"https%3A%2F%2Fblog.naver.com%2Fprincess02%2F222656918284\", \"source\":\"%EB%B8%94%EB%A1%9C%EA%B7%B8\", \"viewerThumb\": \"https%3A%2F%2Fsearch.pstatic.net%2Fcommon%2F%3Fsrc%3Dhttp%253A%252F%252Fblogfiles.naver.net%252FMjAyMjAyMjRfMjEg%252FMDAxNjQ1Njk5MjEzMzQw.QMzrUE8uKa1fLB5L-D03SbJ4wPZ1TSs8I_ksiBqA43cg.99fHyy8Wv1-EQMZXJ1ADC0rLjFTM1SRHgJXR2wGMJsMg.JPEG.princess02%252F%2525B7%2525F9%2525C1%2525D8%2525BF%2525AD2.jpg%26type%3Dsc960_832\", \"lensThumb\": \"https%3A%2F%2Fsearch.pstatic.net%2Fcommon%2F%3Fsrc%3Dhttp%253A%252F%252Fblogfiles.naver.net%252FMjAyMjAyMjRfMjEg%252FMDAxNjQ1Njk5MjEzMzQw.QMzrUE8uKa1fLB5L-D03SbJ4wPZ1TSs8I_ksiBqA43cg.99fHyy8Wv1-EQMZXJ1ADC0rLjFTM1SRHgJXR2wGMJsMg.JPEG.princess02%252F%2525B7%2525F9%2525C1%2525D8%2525BF%2525AD2.jpg%26type%3Dsc960_832\", \"imgId\":\"image_sas%3Ablog1250830%7C42%7C222656918284_2037835928\", \"orgWidth\":\"700\", \"orgHeight\":\"405\", \"thumbWidth\" : \"340\", \"thumbHeight\" : \"197\", \"thumb\":\"https%3A%2F%2Fsearch.pstatic.net%2Fcommon%2F%3Fsrc%3Dhttp%253A%252F%252Fblogfiles.naver.net%252FMjAyMjAyMjRfMjEg%252FMDAxNjQ1Njk5MjEzMzQw.QMzrUE8uKa1fLB5L-D03SbJ4wPZ1TSs8I_ksiBqA43cg.99fHyy8Wv1-EQMZXJ1ADC0rLjFTM1SRHgJXR2wGMJsMg.JPEG.princess02%252F%2525B7%2525F9%2525C1%2525D8%2525BF%2525AD2.jpg%26type%3Da340\", \"originalUrl\":\"http%3A%2F%2Fblogfiles.naver.net%2FMjAyMjAyMjRfMjEg%2FMDAxNjQ1Njk5MjEzMzQw.QMzrUE8uKa1fLB5L-D03SbJ4wPZ1TSs8I_ksiBqA43cg.99fHyy8Wv1-EQMZXJ1ADC0rLjFTM1SRHgJXR2wGMJsMg.JPEG.princess02%2F%25B7%25F9%25C1%25D8%25BF%25AD2.jpg\", \"title\":\"%EB%A5%98%EC%A4%80%EC%97%B4%20%EA%B1%B4%EB%AC%BC%EC%A3%BC%20%EA%B0%95%EB%82%A8%20%EC%97%AD%EC%82%BC%EB%8F%99%20%EB%B9%8C%EB%94%A9%20%EC%9E%AC%ED%85%8C%ED%81%AC%EB%A1%9C%2040%EC%96%B5%20%EC%8B%9C%EC%84%B8%EC%B0%A8%EC%9D%B5%20%EA%B1%B4%EB%AC%BC%20%EB%8C%80%EC%B6%9C%2090%25%EB%B0%9B%EA%B3%A0%20%EC%8B%A0%EC%B6%95%20%EC%A7%80%EC%96%B4%20%EB%A7%A4%EB%8F%84%20%EB%B2%95%EC%9D%B8%20%EB%94%A5%EB%B8%8C%EB%A6%AC%EB%94%A9%20%EB%AA%85%EC%9D%98%20%2F%20%EB%82%98%EC%9D%B4%20mbti%20%ED%94%84%EB%A1%9C%ED%95%84%20%EB%8F%88%20%EC%97%AC%EC%9E%90%EC%B9%9C%EA%B5%AC%20%ED%98%9C%EB%A6%AC\", \"signature\": \"348395744839643\", \"color\" : \"%23BDB8CE\", \"profileImg\" : \"https%3A%2F%2Fsearch.pstatic.net%2Fcommon%2F%3Fsrc%3Dhttp%253A%252F%252Fblogpfthumb.phinf.naver.net%252FMjAyMDExMTBfMjY4%252FMDAxNjA0OTU0OTU1Nzgz.hNvT1ob9QVyTAO-PWgGEnF-2YQJi-xWFtf_kHZj4Ua4g.hUwvEirknYGe5xh97w3eW0wvUP7axBvRXTyR-pGjwMIg.PNG.princess02%252Fprofileheart2.png%26type%3Df80_80\", \"alphabet\" : \"B\", \"writerTitle\" : \"%ED%95%AB%ED%94%8C%EB%A6%AC%EB%B8%8C%E2%9C%94%EF%B8%8F\", \"sid\" :\"\", \"nvmid\" : \"\", \"is_gif\":\"0\", \"articleid\":\"blog1250830%7C42%7C222656918284\", \"zzim_info\":\"\", \"payType\":\"0\", \"displayPrice\":\"\", \"reviewCount\":\"\", \"keepCnt\":\"\", \"favicon\":\"\", \"cclType\": \"5\", \"time_str\": \"\", \"dateInfo\": \"2022.02.24.\", \"iconInfo\": \"\", \"parentid\":\"\", \"tld\":\"blog.naver.com\", \"querySource\":\"%EB%A5%98%EC%A4%80%EC%97%B4\", \"sttData\": \"\", \"isReport\": \"1\" } , { \"type\":\"image\", \"crArea\": \"N\", \"rank\":\"20\", \"gdid\": \"news_87cada22846826dfe2277e0e5aa53048\", \"link\":\"https%3A%2F%2Fwww.wkorea.com%2F2021%2F09%2F01%2F%25eb%25a5%2598%25ec%25a4%2580%25ec%2597%25b4-%25ec%258b%259c%25ea%25b0%2584%25ec%259d%2584-%25ea%25b1%25b0%25ec%258a%25a4%25eb%25a5%25b4%25eb%258a%2594-%25ec%259e%2590%2F%3Futm_source%3Dnaver%26utm_medium%3Dpartnership\", \"source\":\"%ED%8F%AC%ED%86%A0%EB%89%B4%EC%8A%A4\", \"viewerThumb\": \"https%3A%2F%2Fsearch.pstatic.net%2Fcommon%2F%3Fsrc%3Dhttp%253A%252F%252Fimgnews.naver.net%252Fimage%252F5305%252F2021%252F09%252F01%252F0000012360_001_20210902115621898.png%26type%3Dsc960_832\", \"lensThumb\": \"https%3A%2F%2Fsearch.pstatic.net%2Fcommon%2F%3Fsrc%3Dhttp%253A%252F%252Fimgnews.naver.net%252Fimage%252F5305%252F2021%252F09%252F01%252F0000012360_001_20210902115621898.png%26type%3Dsc960_832\", \"imgId\":\"image_sas%3Anews53050000012360_2016749022\", \"orgWidth\":\"700\", \"orgHeight\":\"540\", \"thumbWidth\" : \"340\", \"thumbHeight\" : \"262\", \"thumb\":\"https%3A%2F%2Fsearch.pstatic.net%2Fcommon%2F%3Fsrc%3Dhttp%253A%252F%252Fimgnews.naver.net%252Fimage%252F5305%252F2021%252F09%252F01%252F0000012360_001_20210902115621898.png%26type%3Da340\", \"originalUrl\":\"http%3A%2F%2Fimgnews.naver.net%2Fimage%2F5305%2F2021%2F09%2F01%2F0000012360_001_20210902115621898.png\", \"title\":\"%EB%A5%98%EC%A4%80%EC%97%B4%2C%20%EC%8B%9C%EA%B0%84%EC%9D%84%20%EA%B1%B0%EC%8A%A4%EB%A5%B4%EB%8A%94%20%EC%9E%90\", \"signature\": \"260666647853076\", \"color\" : \"%23B5B68F\", \"profileImg\" : \"\", \"alphabet\" : \"W\", \"writerTitle\" : \"wkorea.com\", \"sid\" :\"\", \"nvmid\" : \"\", \"is_gif\":\"0\", \"articleid\":\"news53050000012360\", \"zzim_info\":\"\", \"payType\":\"0\", \"displayPrice\":\"\", \"reviewCount\":\"\", \"keepCnt\":\"\", \"favicon\":\"\", \"cclType\": \"0\", \"time_str\": \"\", \"dateInfo\": \"2021.09.01.\", \"iconInfo\": \"\", \"parentid\":\"\", \"tld\":\"wkorea.com\", \"querySource\":\"%EB%A5%98%EC%A4%80%EC%97%B4\", \"sttData\": \"\", \"isReport\": \"0\" } , { \"type\":\"image\", \"crArea\": \"N\", \"rank\":\"21\", \"gdid\": \"blog_d5413cd0fb83b2713061db98aacde878\", \"link\":\"https%3A%2F%2Fblog.naver.com%2Fdbstmfrlek%2F222656775907\", \"source\":\"%EB%B8%94%EB%A1%9C%EA%B7%B8\", \"viewerThumb\": \"https%3A%2F%2Fsearch.pstatic.net%2Fcommon%2F%3Fsrc%3Dhttp%253A%252F%252Fblogfiles.naver.net%252FMjAyMjAyMjRfMjI4%252FMDAxNjQ1NjkwMTYzNDQ1.QQ-hPvAP35mHd9nvhffmQwoR_2nt6IgRXcVIAWo30Fkg.wfijrNH8sWgyMrSsyqiFtNffXrrEp8ZXiTAtbVHnMH4g.PNG.dbstmfrlek%252F%2525C1%2525A6%2525B8%2525F1_%2525BE%2525F8%2525C0%2525BD.png%26type%3Dsc960_832\", \"lensThumb\": \"https%3A%2F%2Fsearch.pstatic.net%2Fcommon%2F%3Fsrc%3Dhttp%253A%252F%252Fblogfiles.naver.net%252FMjAyMjAyMjRfMjI4%252FMDAxNjQ1NjkwMTYzNDQ1.QQ-hPvAP35mHd9nvhffmQwoR_2nt6IgRXcVIAWo30Fkg.wfijrNH8sWgyMrSsyqiFtNffXrrEp8ZXiTAtbVHnMH4g.PNG.dbstmfrlek%252F%2525C1%2525A6%2525B8%2525F1_%2525BE%2525F8%2525C0%2525BD.png%26type%3Dsc960_832\", \"imgId\":\"image_sas%3Ablog43706724%7C21%7C222656775907_717144880\", \"orgWidth\":\"446\", \"orgHeight\":\"574\", \"thumbWidth\" : \"340\", \"thumbHeight\" : \"438\", \"thumb\":\"https%3A%2F%2Fsearch.pstatic.net%2Fcommon%2F%3Fsrc%3Dhttp%253A%252F%252Fblogfiles.naver.net%252FMjAyMjAyMjRfMjI4%252FMDAxNjQ1NjkwMTYzNDQ1.QQ-hPvAP35mHd9nvhffmQwoR_2nt6IgRXcVIAWo30Fkg.wfijrNH8sWgyMrSsyqiFtNffXrrEp8ZXiTAtbVHnMH4g.PNG.dbstmfrlek%252F%2525C1%2525A6%2525B8%2525F1_%2525BE%2525F8%2525C0%2525BD.png%26type%3Da340\", \"originalUrl\":\"http%3A%2F%2Fblogfiles.naver.net%2FMjAyMjAyMjRfMjI4%2FMDAxNjQ1NjkwMTYzNDQ1.QQ-hPvAP35mHd9nvhffmQwoR_2nt6IgRXcVIAWo30Fkg.wfijrNH8sWgyMrSsyqiFtNffXrrEp8ZXiTAtbVHnMH4g.PNG.dbstmfrlek%2F%25C1%25A6%25B8%25F1_%25BE%25F8%25C0%25BD.png\", \"title\":\"%EB%A5%98%EC%A4%80%EC%97%B4%2C%2090%25%20%EB%8C%80%EC%B6%9C%EB%B0%9B%EC%95%84%20%EC%8B%A0%EC%B6%95%ED%95%9C%20%20%20%20%20%20%20%20%20%20%EA%B0%95%EB%82%A8%20%EB%B9%8C%EB%94%A9%20150%EC%96%B5%EC%97%90%20%EB%A7%A4%EB%8F%84%E2%86%92%20%20%20%20%20%20%20%20%20%20%20%20%20%20%20%20%20%20%20%20%20%20%2040%EC%96%B5%20%EC%8B%9C%EC%84%B8%EC%B0%A8%EC%9D%B5\", \"signature\": \"632693007333333\", \"color\" : \"%23DB9D8F\", \"profileImg\" : \"https%3A%2F%2Fsearch.pstatic.net%2Fcommon%2F%3Fsrc%3Dhttp%253A%252F%252Fblogpfthumb.phinf.naver.net%252FMjAyMjAxMjlfMjUx%252FMDAxNjQzNDQ0OTI1MTI2.DcRwmsOevM-eZHQb3Q19vjKG_Wumnau7S2XaarNGFKYg.xmmh3GdoAFotu748q1lCE6rf2jh9jYtCi1_uwZ63lJMg.JPEG.dbstmfrlek%252F00.jpg%252F00.jpg%26type%3Df80_80\", \"alphabet\" : \"B\", \"writerTitle\" : \"%EC%8B%A0%EC%9D%98%EA%B1%B4%EC%B6%95\", \"sid\" :\"\", \"nvmid\" : \"\", \"is_gif\":\"0\", \"articleid\":\"blog43706724%7C21%7C222656775907\", \"zzim_info\":\"\", \"payType\":\"0\", \"displayPrice\":\"\", \"reviewCount\":\"\", \"keepCnt\":\"\", \"favicon\":\"\", \"cclType\": \"0\", \"time_str\": \"\", \"dateInfo\": \"2022.02.24.\", \"iconInfo\": \"\", \"parentid\":\"\", \"tld\":\"blog.naver.com\", \"querySource\":\"%EB%A5%98%EC%A4%80%EC%97%B4\", \"sttData\": \"\", \"isReport\": \"1\" } , { \"type\":\"image\", \"crArea\": \"N\", \"rank\":\"22\", \"gdid\": \"news_be3c8d9309f7ad9a845d335cd9153d71\", \"link\":\"http%3A%2F%2Fnews.naver.com%2Fmain%2Fread.naver%3Foid%3D469%26aid%3D0000210428\", \"source\":\"%ED%8F%AC%ED%86%A0%EB%89%B4%EC%8A%A4\", \"viewerThumb\": \"https%3A%2F%2Fsearch.pstatic.net%2Fcommon%2F%3Fsrc%3Dhttp%253A%252F%252Fimgnews.naver.net%252Fimage%252F469%252F2017%252F06%252F20%252F0000210428_001_20170620162752710.jpg%26type%3Dsc960_832\", \"lensThumb\": \"https%3A%2F%2Fsearch.pstatic.net%2Fcommon%2F%3Fsrc%3Dhttp%253A%252F%252Fimgnews.naver.net%252Fimage%252F469%252F2017%252F06%252F20%252F0000210428_001_20170620162752710.jpg%26type%3Dsc960_832\", \"imgId\":\"image_sas%3Anews4690000210428_1103327853\", \"orgWidth\":\"800\", \"orgHeight\":\"1076\", \"thumbWidth\" : \"340\", \"thumbHeight\" : \"457\", \"thumb\":\"https%3A%2F%2Fsearch.pstatic.net%2Fcommon%2F%3Fsrc%3Dhttp%253A%252F%252Fimgnews.naver.net%252Fimage%252F469%252F2017%252F06%252F20%252F0000210428_001_20170620162752710.jpg%26type%3Da340\", \"originalUrl\":\"http%3A%2F%2Fimgnews.naver.net%2Fimage%2F469%2F2017%2F06%2F20%2F0000210428_001_20170620162752710.jpg\", \"title\":\"%5B%ED%8F%AC%ED%86%A0%5D%EB%A5%98%EC%A4%80%EC%97%B4%20%271980%EB%85%84%EB%8C%80%20%EB%8C%80%ED%95%99%EC%83%9D%EC%9C%BC%EB%A1%9C%20%EB%B3%80%EC%8B%A0%27\", \"signature\": \"982960406403548\", \"color\" : \"%23DB9D8F\", \"profileImg\" : \"\", \"alphabet\" : \"N\", \"writerTitle\" : \"news.naver.com\", \"sid\" :\"\", \"nvmid\" : \"\", \"is_gif\":\"0\", \"articleid\":\"news4690000210428\", \"zzim_info\":\"\", \"payType\":\"0\", \"displayPrice\":\"\", \"reviewCount\":\"\", \"keepCnt\":\"\", \"favicon\":\"\", \"cclType\": \"0\", \"time_str\": \"\", \"dateInfo\": \"2017.06.20.\", \"iconInfo\": \"\", \"parentid\":\"\", \"tld\":\"news.naver.com\", \"querySource\":\"%EB%A5%98%EC%A4%80%EC%97%B4\", \"sttData\": \"\", \"isReport\": \"0\" } , { \"type\":\"image\", \"crArea\": \"N\", \"rank\":\"23\", \"gdid\": \"blog_16d8b4a6b26c448715c6e46368379377\", \"link\":\"https%3A%2F%2Fblog.naver.com%2Fkahala2004%2F222656834200\", \"source\":\"%EB%B8%94%EB%A1%9C%EA%B7%B8\", \"viewerThumb\": \"https%3A%2F%2Fsearch.pstatic.net%2Fcommon%2F%3Fsrc%3Dhttp%253A%252F%252Fblogfiles.naver.net%252FMjAyMjAyMjRfMjMg%252FMDAxNjQ1NjkyOTQ3Mjk4.H5EmDZq24x4dgugLaFgZ0iF9NDam5k0u7dLBbyL9J1Ig.gEiSXTd7LoUo17ZMPvBh_EGEd62o2Z7VoayT2yV7Llsg.JPEG.kahala2004%252FIMG_2584.jpg%26type%3Dsc960_832\", \"lensThumb\": \"https%3A%2F%2Fsearch.pstatic.net%2Fcommon%2F%3Fsrc%3Dhttp%253A%252F%252Fblogfiles.naver.net%252FMjAyMjAyMjRfMjMg%252FMDAxNjQ1NjkyOTQ3Mjk4.H5EmDZq24x4dgugLaFgZ0iF9NDam5k0u7dLBbyL9J1Ig.gEiSXTd7LoUo17ZMPvBh_EGEd62o2Z7VoayT2yV7Llsg.JPEG.kahala2004%252FIMG_2584.jpg%26type%3Dsc960_832\", \"imgId\":\"image_sas%3Ablog635509%7C2%7C222656834200_383300774\", \"orgWidth\":\"828\", \"orgHeight\":\"919\", \"thumbWidth\" : \"340\", \"thumbHeight\" : \"377\", \"thumb\":\"https%3A%2F%2Fsearch.pstatic.net%2Fcommon%2F%3Fsrc%3Dhttp%253A%252F%252Fblogfiles.naver.net%252FMjAyMjAyMjRfMjMg%252FMDAxNjQ1NjkyOTQ3Mjk4.H5EmDZq24x4dgugLaFgZ0iF9NDam5k0u7dLBbyL9J1Ig.gEiSXTd7LoUo17ZMPvBh_EGEd62o2Z7VoayT2yV7Llsg.JPEG.kahala2004%252FIMG_2584.jpg%26type%3Da340\", \"originalUrl\":\"http%3A%2F%2Fblogfiles.naver.net%2FMjAyMjAyMjRfMjMg%2FMDAxNjQ1NjkyOTQ3Mjk4.H5EmDZq24x4dgugLaFgZ0iF9NDam5k0u7dLBbyL9J1Ig.gEiSXTd7LoUo17ZMPvBh_EGEd62o2Z7VoayT2yV7Llsg.JPEG.kahala2004%2FIMG_2584.jpg\", \"title\":\"%EB%A5%98%EC%A4%80%EC%97%B4%EB%B9%9A%ED%85%8C%ED%81%AC%20%EB%A5%98%EC%A4%80%EC%97%B4%EC%9D%80%20%EB%B9%9A%ED%85%8C%ED%81%AC%EC%9D%98%20%EA%B7%80%EC%9E%AC%EC%98%80%EB%8B%A4.\", \"signature\": \"914224024043493\", \"color\" : \"%23BDB8CE\", \"profileImg\" : \"\", \"alphabet\" : \"B\", \"writerTitle\" : \"%EC%86%8C%EC%86%8C%ED%95%9C%20%EC%9D%BC%EC%83%81\", \"sid\" :\"\", \"nvmid\" : \"\", \"is_gif\":\"0\", \"articleid\":\"blog635509%7C2%7C222656834200\", \"zzim_info\":\"\", \"payType\":\"0\", \"displayPrice\":\"\", \"reviewCount\":\"\", \"keepCnt\":\"\", \"favicon\":\"\", \"cclType\": \"0\", \"time_str\": \"\", \"dateInfo\": \"2022.02.24.\", \"iconInfo\": \"\", \"parentid\":\"\", \"tld\":\"blog.naver.com\", \"querySource\":\"%EB%A5%98%EC%A4%80%EC%97%B4\", \"sttData\": \"\", \"isReport\": \"1\" } , { \"type\":\"image\", \"crArea\": \"N\", \"rank\":\"24\", \"gdid\": \"news_95fae64ea089bebc559e69e043725f75\", \"link\":\"http%3A%2F%2Fnews.naver.com%2Fmain%2Fread.naver%3Foid%3D057%26aid%3D0000910224\", \"source\":\"%ED%8F%AC%ED%86%A0%EB%89%B4%EC%8A%A4\", \"viewerThumb\": \"https%3A%2F%2Fsearch.pstatic.net%2Fcommon%2F%3Fsrc%3Dhttp%253A%252F%252Fimgnews.naver.net%252Fimage%252F057%252F2016%252F02%252F13%252F361612116160_99_20160213100317.jpg%26type%3Dsc960_832\", \"lensThumb\": \"https%3A%2F%2Fsearch.pstatic.net%2Fcommon%2F%3Fsrc%3Dhttp%253A%252F%252Fimgnews.naver.net%252Fimage%252F057%252F2016%252F02%252F13%252F361612116160_99_20160213100317.jpg%26type%3Dsc960_832\", \"imgId\":\"image_sas%3Anews0570000910224_1778719154\", \"orgWidth\":\"500\", \"orgHeight\":\"687\", \"thumbWidth\" : \"340\", \"thumbHeight\" : \"467\", \"thumb\":\"https%3A%2F%2Fsearch.pstatic.net%2Fcommon%2F%3Fsrc%3Dhttp%253A%252F%252Fimgnews.naver.net%252Fimage%252F057%252F2016%252F02%252F13%252F361612116160_99_20160213100317.jpg%26type%3Da340\", \"originalUrl\":\"http%3A%2F%2Fimgnews.naver.net%2Fimage%2F057%2F2016%2F02%2F13%2F361612116160_99_20160213100317.jpg\", \"title\":\"%EB%A5%98%EC%A4%80%EC%97%B4%20%60%EB%A0%88%EC%9D%B4%EC%A0%80%20%EB%82%98%EC%98%AC%EB%93%AF%ED%95%9C%20%EB%88%88%EB%B9%9B%60%20%5BMBN%ED%8F%AC%ED%86%A0%5D\", \"signature\": \"332576779814959\", \"color\" : \"%23BDB8CE\", \"profileImg\" : \"\", \"alphabet\" : \"N\", \"writerTitle\" : \"news.naver.com\", \"sid\" :\"\", \"nvmid\" : \"\", \"is_gif\":\"0\", \"articleid\":\"news0570000910224\", \"zzim_info\":\"\", \"payType\":\"0\", \"displayPrice\":\"\", \"reviewCount\":\"\", \"keepCnt\":\"\", \"favicon\":\"\", \"cclType\": \"0\", \"time_str\": \"\", \"dateInfo\": \"2016.02.13.\", \"iconInfo\": \"\", \"parentid\":\"\", \"tld\":\"news.naver.com\", \"querySource\":\"%EB%A5%98%EC%A4%80%EC%97%B4\", \"sttData\": \"\", \"isReport\": \"0\" } , { \"type\":\"image\", \"crArea\": \"W\", \"rank\":\"25\", \"gdid\": \"web_d3a548508517f94cd40603d32b9a7a60\", \"link\":\"https%3A%2F%2Ftheqoo.net%2Fryujunyeol%2F2605613134\", \"source\":\"%EC%9B%B9\", \"viewerThumb\": \"https%3A%2F%2Fsearch.pstatic.net%2Fsunny%2F%3Fsrc%3Dhttps%253A%252F%252Fimg.theqoo.net%252Fimg%252FujwdJ.jpg%26type%3Dsc960_832\", \"lensThumb\": \"https%3A%2F%2Fsearch.pstatic.net%2Fsunny%2F%3Fsrc%3Dhttps%253A%252F%252Fimg.theqoo.net%252Fimg%252FujwdJ.jpg%26type%3Dsc960_832\", \"imgId\":\"image_sas%3Awebhttps%3A%2F%2Ftheqoo.net%2Fryujunyeol%2F2605613134_744142768\", \"orgWidth\":\"1080\", \"orgHeight\":\"1441\", \"thumbWidth\" : \"340\", \"thumbHeight\" : \"454\", \"thumb\":\"https%3A%2F%2Fsearch.pstatic.net%2Fsunny%2F%3Fsrc%3Dhttps%253A%252F%252Fimg.theqoo.net%252Fimg%252FujwdJ.jpg%26type%3Da340\", \"originalUrl\":\"https%3A%2F%2Fimg.theqoo.net%2Fimg%2FujwdJ.jpg\", \"title\":\"%EC%96%B4%EB%96%A4%20%EC%B0%A9%EC%9E%A5%20%EC%A0%9C%EC%9D%BC%20%EC%A2%8B%EC%95%84%ED%95%B4%3F%20-%20%EB%A5%98%EC%A4%80%EC%97%B4%20%EC%B9%B4%ED%85%8C%EA%B3%A0%EB%A6%AC\", \"signature\": \"1052267231941728\", \"color\" : \"%23BDB8CE\", \"profileImg\" : \"\", \"alphabet\" : \"T\", \"writerTitle\" : \"theqoo.net\", \"sid\" :\"\", \"nvmid\" : \"\", \"is_gif\":\"0\", \"articleid\":\"webhttps%3A%2F%2Ftheqoo.net%2Fryujunyeol%2F2605613134\", \"zzim_info\":\"\", \"payType\":\"0\", \"displayPrice\":\"\", \"reviewCount\":\"\", \"keepCnt\":\"\", \"favicon\":\"\", \"cclType\": \"0\", \"time_str\": \"\", \"dateInfo\": \"2022.10.11.\", \"iconInfo\": \"\", \"parentid\":\"\", \"tld\":\"theqoo.net\", \"querySource\":\"%EB%A5%98%EC%A4%80%EC%97%B4\", \"sttData\": \"\", \"isReport\": \"1\" } , { \"type\":\"image\", \"crArea\": \"N\", \"rank\":\"26\", \"gdid\": \"news_db3c347fb79707ff94430f91b6d7b0ce\", \"link\":\"http%3A%2F%2Fnews.naver.com%2Fmain%2Fread.naver%3Foid%3D108%26aid%3D0003097202\", \"source\":\"%ED%8F%AC%ED%86%A0%EB%89%B4%EC%8A%A4\", \"viewerThumb\": \"https%3A%2F%2Fsearch.pstatic.net%2Fcommon%2F%3Fsrc%3Dhttp%253A%252F%252Fimgnews.naver.net%252Fimage%252F108%252F2022%252F10%252F18%252F0003097202_001_20221018111401286.jpg%26type%3Dsc960_832\", \"lensThumb\": \"https%3A%2F%2Fsearch.pstatic.net%2Fcommon%2F%3Fsrc%3Dhttp%253A%252F%252Fimgnews.naver.net%252Fimage%252F108%252F2022%252F10%252F18%252F0003097202_001_20221018111401286.jpg%26type%3Dsc960_832\", \"imgId\":\"image_sas%3Anews1080003097202_616811393\", \"orgWidth\":\"1024\", \"orgHeight\":\"1383\", \"thumbWidth\" : \"340\", \"thumbHeight\" : \"459\", \"thumb\":\"https%3A%2F%2Fsearch.pstatic.net%2Fcommon%2F%3Fsrc%3Dhttp%253A%252F%252Fimgnews.naver.net%252Fimage%252F108%252F2022%252F10%252F18%252F0003097202_001_20221018111401286.jpg%26type%3Da340\", \"originalUrl\":\"http%3A%2F%2Fimgnews.naver.net%2Fimage%2F108%2F2022%2F10%2F18%2F0003097202_001_20221018111401286.jpg\", \"title\":\"%EB%A5%98%EC%A4%80%EC%97%B4%20%27%EC%A3%BC%EB%A7%B9%EC%A6%9D%20%EC%B9%A8%EC%88%A0%EC%82%AC%27%5B%E2%98%85%ED%8F%AC%ED%86%A0%5D\", \"signature\": \"867623281798360\", \"color\" : \"%23C2C7CC\", \"profileImg\" : \"\", \"alphabet\" : \"N\", \"writerTitle\" : \"news.naver.com\", \"sid\" :\"\", \"nvmid\" : \"\", \"is_gif\":\"0\", \"articleid\":\"news1080003097202\", \"zzim_info\":\"\", \"payType\":\"0\", \"displayPrice\":\"\", \"reviewCount\":\"\", \"keepCnt\":\"\", \"favicon\":\"\", \"cclType\": \"0\", \"time_str\": \"\", \"dateInfo\": \"2022.10.18.\", \"iconInfo\": \"\", \"parentid\":\"\", \"tld\":\"news.naver.com\", \"querySource\":\"%EB%A5%98%EC%A4%80%EC%97%B4\", \"sttData\": \"\", \"isReport\": \"0\" } , { \"type\":\"image\", \"crArea\": \"N\", \"rank\":\"27\", \"gdid\": \"blog_73ba8673adf9fbb0200a0ba3ac101dd4\", \"link\":\"https%3A%2F%2Fblog.naver.com%2Famelblue%2F222642990232\", \"source\":\"%EB%B8%94%EB%A1%9C%EA%B7%B8\", \"viewerThumb\": \"https%3A%2F%2Fsearch.pstatic.net%2Fcommon%2F%3Fsrc%3Dhttp%253A%252F%252Fblogfiles.naver.net%252FMjAyMjAyMDlfMjMg%252FMDAxNjQ0Mzc5ODM1NzY0.h9MP25XbFzWEbFhWx-9K_qFGG5LnJSSUNp9Vajc6fKgg.PvOfy_NgQloIjW4O-yYyKhFXOF2clyQxt9cTYDmoW4og.JPEG.amelblue%252F03.28092486.1.jpg%26type%3Dsc960_832\", \"lensThumb\": \"https%3A%2F%2Fsearch.pstatic.net%2Fcommon%2F%3Fsrc%3Dhttp%253A%252F%252Fblogfiles.naver.net%252FMjAyMjAyMDlfMjMg%252FMDAxNjQ0Mzc5ODM1NzY0.h9MP25XbFzWEbFhWx-9K_qFGG5LnJSSUNp9Vajc6fKgg.PvOfy_NgQloIjW4O-yYyKhFXOF2clyQxt9cTYDmoW4og.JPEG.amelblue%252F03.28092486.1.jpg%26type%3Dsc960_832\", \"imgId\":\"image_sas%3Ablog45476075%7C6%7C222642990232_1941603955\", \"orgWidth\":\"630\", \"orgHeight\":\"944\", \"thumbWidth\" : \"340\", \"thumbHeight\" : \"509\", \"thumb\":\"https%3A%2F%2Fsearch.pstatic.net%2Fcommon%2F%3Fsrc%3Dhttp%253A%252F%252Fblogfiles.naver.net%252FMjAyMjAyMDlfMjMg%252FMDAxNjQ0Mzc5ODM1NzY0.h9MP25XbFzWEbFhWx-9K_qFGG5LnJSSUNp9Vajc6fKgg.PvOfy_NgQloIjW4O-yYyKhFXOF2clyQxt9cTYDmoW4og.JPEG.amelblue%252F03.28092486.1.jpg%26type%3Da340\", \"originalUrl\":\"http%3A%2F%2Fblogfiles.naver.net%2FMjAyMjAyMDlfMjMg%2FMDAxNjQ0Mzc5ODM1NzY0.h9MP25XbFzWEbFhWx-9K_qFGG5LnJSSUNp9Vajc6fKgg.PvOfy_NgQloIjW4O-yYyKhFXOF2clyQxt9cTYDmoW4og.JPEG.amelblue%2F03.28092486.1.jpg\", \"title\":\"%5B%EC%97%AC%EC%8B%AC%5D%20%EB%82%A8%EC%9E%90%EC%9D%98%20%EC%99%B8%EB%AA%A8%EB%8A%94..%20%EC%96%BC%EB%A7%88%EB%82%98%20%EC%A4%91%EC%9A%94%ED%95%A0%EA%B9%8C%3F%3F%3F\", \"signature\": \"1044298456020921\", \"color\" : \"%23E1B785\", \"profileImg\" : \"https%3A%2F%2Fsearch.pstatic.net%2Fcommon%2F%3Fsrc%3Dhttp%253A%252F%252Fblogpfthumb.phinf.naver.net%252FMjAyMjAyMDhfMjg3%252FMDAxNjQ0MzI1Mzc0Mjc0.N7VnHCjlry15nMQ4Cg8P-Yo73lSLupdIKPXd-GdmS1Mg.hBqTQGLOu1eJtFVun-OyQPascBAMPoSiqa8J_kkI_24g.JPEG.amelblue%252FIMG_8872.JPG%252FIMG_8872.JPG%26type%3Df80_80\", \"alphabet\" : \"B\", \"writerTitle\" : \"Blue%20Diary%20%26%20Philosophy\", \"sid\" :\"\", \"nvmid\" : \"\", \"is_gif\":\"0\", \"articleid\":\"blog45476075%7C6%7C222642990232\", \"zzim_info\":\"\", \"payType\":\"0\", \"displayPrice\":\"\", \"reviewCount\":\"\", \"keepCnt\":\"\", \"favicon\":\"\", \"cclType\": \"5\", \"time_str\": \"\", \"dateInfo\": \"2022.02.09.\", \"iconInfo\": \"\", \"parentid\":\"\", \"tld\":\"blog.naver.com\", \"querySource\":\"%EB%A5%98%EC%A4%80%EC%97%B4\", \"sttData\": \"\", \"isReport\": \"1\" } , { \"type\":\"image\", \"crArea\": \"N\", \"rank\":\"28\", \"gdid\": \"news_49b053356959f76f6d930853a92e6753\", \"link\":\"http%3A%2F%2Fnews.naver.com%2Fmain%2Fread.naver%3Foid%3D003%26aid%3D0011438742\", \"source\":\"%ED%8F%AC%ED%86%A0%EB%89%B4%EC%8A%A4\", \"viewerThumb\": \"https%3A%2F%2Fsearch.pstatic.net%2Fcommon%2F%3Fsrc%3Dhttp%253A%252F%252Fimgnews.naver.net%252Fimage%252F003%252F2022%252F09%252F25%252FNISI20220925_0001092869_web_20220925162333_20220925162805968.jpg%26type%3Dsc960_832\", \"lensThumb\": \"https%3A%2F%2Fsearch.pstatic.net%2Fcommon%2F%3Fsrc%3Dhttp%253A%252F%252Fimgnews.naver.net%252Fimage%252F003%252F2022%252F09%252F25%252FNISI20220925_0001092869_web_20220925162333_20220925162805968.jpg%26type%3Dsc960_832\", \"imgId\":\"image_sas%3Anews0030011438742_1236292405\", \"orgWidth\":\"720\", \"orgHeight\":\"1081\", \"thumbWidth\" : \"340\", \"thumbHeight\" : \"510\", \"thumb\":\"https%3A%2F%2Fsearch.pstatic.net%2Fcommon%2F%3Fsrc%3Dhttp%253A%252F%252Fimgnews.naver.net%252Fimage%252F003%252F2022%252F09%252F25%252FNISI20220925_0001092869_web_20220925162333_20220925162805968.jpg%26type%3Da340\", \"originalUrl\":\"http%3A%2F%2Fimgnews.naver.net%2Fimage%2F003%2F2022%2F09%2F25%2FNISI20220925_0001092869_web_20220925162333_20220925162805968.jpg\", \"title\":\"%ED%98%9C%EB%A6%AC%2C%20%EC%97%B0%EC%9D%B8%20%EB%A5%98%EC%A4%80%EC%97%B4%20%EC%BB%A4%ED%94%BC%EC%B0%A8%20%EC%9D%91%EC%9B%90%E2%80%A6%26quot%3B%EC%82%AC%EB%9E%91%ED%95%98%EB%8A%94%201%ED%98%B8%20%ED%8C%AC%26quot%3B\", \"signature\": \"829120260212911\", \"color\" : \"%23C2C7CC\", \"profileImg\" : \"\", \"alphabet\" : \"N\", \"writerTitle\" : \"news.naver.com\", \"sid\" :\"\", \"nvmid\" : \"\", \"is_gif\":\"0\", \"articleid\":\"news0030011438742\", \"zzim_info\":\"\", \"payType\":\"0\", \"displayPrice\":\"\", \"reviewCount\":\"\", \"keepCnt\":\"\", \"favicon\":\"\", \"cclType\": \"0\", \"time_str\": \"\", \"dateInfo\": \"2022.09.25.\", \"iconInfo\": \"\", \"parentid\":\"\", \"tld\":\"news.naver.com\", \"querySource\":\"%EB%A5%98%EC%A4%80%EC%97%B4\", \"sttData\": \"\", \"isReport\": \"0\" } , { \"type\":\"image\", \"crArea\": \"N\", \"rank\":\"29\", \"gdid\": \"blog_cf4a31a8e9cbb3a7b309e71df9ed3576\", \"link\":\"https%3A%2F%2Fblog.naver.com%2Ffallinhosuk%2F222759686871\", \"source\":\"%EB%B8%94%EB%A1%9C%EA%B7%B8\", \"viewerThumb\": \"https%3A%2F%2Fsearch.pstatic.net%2Fcommon%2F%3Fsrc%3Dhttp%253A%252F%252Fblogfiles.naver.net%252FMjAyMjA2MDRfMTU4%252FMDAxNjU0MzUzOTMyOTU1.Y2uW0XsDoFrZ0XgDe4ZTDuR2zCXnqTBTwvAitZFCQWMg.-2inBwTaoGP7WltUYQYwQxdA0_m84pUi4Iq9BjLS5Esg.PNG.fallinhosuk%252F%2525BF%2525EE%2525BB%2525A1_%2525B7%2525CE%2525B8%2525C7%2525BD%2525BA.E04.720p.HDTV.x264.Film.iVTC.AAC-SODiHD.mp4_003640553.png%26type%3Dsc960_832\", \"lensThumb\": \"https%3A%2F%2Fsearch.pstatic.net%2Fcommon%2F%3Fsrc%3Dhttp%253A%252F%252Fblogfiles.naver.net%252FMjAyMjA2MDRfMTU4%252FMDAxNjU0MzUzOTMyOTU1.Y2uW0XsDoFrZ0XgDe4ZTDuR2zCXnqTBTwvAitZFCQWMg.-2inBwTaoGP7WltUYQYwQxdA0_m84pUi4Iq9BjLS5Esg.PNG.fallinhosuk%252F%2525BF%2525EE%2525BB%2525A1_%2525B7%2525CE%2525B8%2525C7%2525BD%2525BA.E04.720p.HDTV.x264.Film.iVTC.AAC-SODiHD.mp4_003640553.png%26type%3Dsc960_832\", \"imgId\":\"image_sas%3Ablog3405031%7C76%7C222759686871_817221208\", \"orgWidth\":\"1280\", \"orgHeight\":\"720\", \"thumbWidth\" : \"340\", \"thumbHeight\" : \"191\", \"thumb\":\"https%3A%2F%2Fsearch.pstatic.net%2Fcommon%2F%3Fsrc%3Dhttp%253A%252F%252Fblogfiles.naver.net%252FMjAyMjA2MDRfMTU4%252FMDAxNjU0MzUzOTMyOTU1.Y2uW0XsDoFrZ0XgDe4ZTDuR2zCXnqTBTwvAitZFCQWMg.-2inBwTaoGP7WltUYQYwQxdA0_m84pUi4Iq9BjLS5Esg.PNG.fallinhosuk%252F%2525BF%2525EE%2525BB%2525A1_%2525B7%2525CE%2525B8%2525C7%2525BD%2525BA.E04.720p.HDTV.x264.Film.iVTC.AAC-SODiHD.mp4_003640553.png%26type%3Da340\", \"originalUrl\":\"http%3A%2F%2Fblogfiles.naver.net%2FMjAyMjA2MDRfMTU4%2FMDAxNjU0MzUzOTMyOTU1.Y2uW0XsDoFrZ0XgDe4ZTDuR2zCXnqTBTwvAitZFCQWMg.-2inBwTaoGP7WltUYQYwQxdA0_m84pUi4Iq9BjLS5Esg.PNG.fallinhosuk%2F%25BF%25EE%25BB%25A1_%25B7%25CE%25B8%25C7%25BD%25BA.E04.720p.HDTV.x264.Film.iVTC.AAC-SODiHD.mp4_003640553.png\", \"title\":\"%EC%9A%B4%EB%B9%A8%EB%A1%9C%EB%A7%A8%EC%8A%A4%20%EB%AA%85%EC%9E%A5%EB%A9%B4%2C%EB%AA%85%EB%8C%80%EC%82%AC%201%ED%83%84%20%2F%EB%A5%98%EC%A4%80%EC%97%B4%2F%ED%99%A9%EC%A0%95%EC%9D%8C%2F%EC%9D%B4%EC%88%98%ED%98%81%2F%EC%9D%B4%EC%B2%AD%EC%95%84%2F%EB%93%9C%EB%9D%BC%EB%A7%88%EC%B6%94%EC%B2%9C%2F%EB%93%9C%EB%9D%BC%EB%A7%88%EC%A0%95%EC%A3%BC%ED%96%89\", \"signature\": \"910559883341637\", \"color\" : \"%23AAbDD0\", \"profileImg\" : \"https%3A%2F%2Fsearch.pstatic.net%2Fcommon%2F%3Fsrc%3Dhttp%253A%252F%252Fblogpfthumb.phinf.naver.net%252Fdata35%252F2008%252F6%252F15%252F235%252Fcc13_128918529_028773529_music222_andra12-fallinhosuk.jpg%26type%3Df80_80\", \"alphabet\" : \"B\", \"writerTitle\" : \"%EB%A7%8C%EB%93%A4%EA%B3%A0%2C%20%EC%97%AC%ED%96%89%ED%95%98%EA%B3%A0%2C%20%EC%A6%90%EA%B8%B0%EA%B3%A0\", \"sid\" :\"\", \"nvmid\" : \"\", \"is_gif\":\"0\", \"articleid\":\"blog3405031%7C76%7C222759686871\", \"zzim_info\":\"\", \"payType\":\"0\", \"displayPrice\":\"\", \"reviewCount\":\"\", \"keepCnt\":\"\", \"favicon\":\"\", \"cclType\": \"5\", \"time_str\": \"\", \"dateInfo\": \"2022.06.04.\", \"iconInfo\": \"\", \"parentid\":\"\", \"tld\":\"blog.naver.com\", \"querySource\":\"%EB%A5%98%EC%A4%80%EC%97%B4\", \"sttData\": \"\", \"isReport\": \"1\" } , { \"type\":\"image\", \"crArea\": \"N\", \"rank\":\"30\", \"gdid\": \"news_c8172ccf3a68e9722269688ebbc216d9\", \"link\":\"http%3A%2F%2Fnews.naver.com%2Fmain%2Fread.naver%3Foid%3D112%26aid%3D0003129600\", \"source\":\"%ED%8F%AC%ED%86%A0%EB%89%B4%EC%8A%A4\", \"viewerThumb\": \"https%3A%2F%2Fsearch.pstatic.net%2Fcommon%2F%3Fsrc%3Dhttp%253A%252F%252Fimgnews.naver.net%252Fimage%252F112%252F2019%252F02%252F11%252F201902111117264491881_20190211112012_01_20190211112122040.jpg%26type%3Dsc960_832\", \"lensThumb\": \"https%3A%2F%2Fsearch.pstatic.net%2Fcommon%2F%3Fsrc%3Dhttp%253A%252F%252Fimgnews.naver.net%252Fimage%252F112%252F2019%252F02%252F11%252F201902111117264491881_20190211112012_01_20190211112122040.jpg%26type%3Dsc960_832\", \"imgId\":\"image_sas%3Anews1120003129600_938005297\", \"orgWidth\":\"550\", \"orgHeight\":\"809\", \"thumbWidth\" : \"340\", \"thumbHeight\" : \"500\", \"thumb\":\"https%3A%2F%2Fsearch.pstatic.net%2Fcommon%2F%3Fsrc%3Dhttp%253A%252F%252Fimgnews.naver.net%252Fimage%252F112%252F2019%252F02%252F11%252F201902111117264491881_20190211112012_01_20190211112122040.jpg%26type%3Da340\", \"originalUrl\":\"http%3A%2F%2Fimgnews.naver.net%2Fimage%2F112%2F2019%2F02%2F11%2F201902111117264491881_20190211112012_01_20190211112122040.jpg\", \"title\":\"%5B%ED%8F%AC%ED%86%A0%5D%EB%A5%98%EC%A4%80%EC%97%B4%2C%20%EC%84%B8%EC%83%81%EC%88%9C%EC%A7%84%ED%95%9C%20%EB%AF%B8%EC%86%8C\", \"signature\": \"982392875663341\", \"color\" : \"%23DB9D8F\", \"profileImg\" : \"\", \"alphabet\" : \"N\", \"writerTitle\" : \"news.naver.com\", \"sid\" :\"\", \"nvmid\" : \"\", \"is_gif\":\"0\", \"articleid\":\"news1120003129600\", \"zzim_info\":\"\", \"payType\":\"0\", \"displayPrice\":\"\", \"reviewCount\":\"\", \"keepCnt\":\"\", \"favicon\":\"\", \"cclType\": \"0\", \"time_str\": \"\", \"dateInfo\": \"2019.02.11.\", \"iconInfo\": \"\", \"parentid\":\"\", \"tld\":\"news.naver.com\", \"querySource\":\"%EB%A5%98%EC%A4%80%EC%97%B4\", \"sttData\": \"\", \"isReport\": \"0\" } , { \"type\":\"image\", \"crArea\": \"W\", \"rank\":\"31\", \"gdid\": \"web_602446b27593eb81804a071d47676d30\", \"link\":\"https%3A%2F%2Ftheqoo.net%2Fdyb%2F2543704788\", \"source\":\"%EC%9B%B9\", \"viewerThumb\": \"https%3A%2F%2Fsearch.pstatic.net%2Fsunny%2F%3Fsrc%3Dhttps%253A%252F%252Fimg.theqoo.net%252Fimg%252FxTVSj.jpg%26type%3Dsc960_832\", \"lensThumb\": \"https%3A%2F%2Fsearch.pstatic.net%2Fsunny%2F%3Fsrc%3Dhttps%253A%252F%252Fimg.theqoo.net%252Fimg%252FxTVSj.jpg%26type%3Dsc960_832\", \"imgId\":\"image_sas%3Awebhttps%3A%2F%2Ftheqoo.net%2Fdyb%2F2543704788_1612990130\", \"orgWidth\":\"1080\", \"orgHeight\":\"2056\", \"thumbWidth\" : \"340\", \"thumbHeight\" : \"600\", \"thumb\":\"https%3A%2F%2Fsearch.pstatic.net%2Fsunny%2F%3Fsrc%3Dhttps%253A%252F%252Fimg.theqoo.net%252Fimg%252FxTVSj.jpg%26type%3Dofullfill340_600_png\", \"originalUrl\":\"https%3A%2F%2Fimg.theqoo.net%2Fimg%2FxTVSj.jpg\", \"title\":\"%EB%A5%98%EC%A4%80%EC%97%B4%20%EB%B0%B0%EC%97%AD%EC%9D%B4%EB%A6%84%20%EC%A7%84%EC%88%98%EC%9D%B8%EA%B0%80%EB%B4%90%20-%20%EB%93%9C%EC%98%81%EB%B0%B0%20%EC%B9%B4%ED%85%8C%EA%B3%A0%EB%A6%AC\", \"signature\": \"157632461772450\", \"color\" : \"%23AAbDD0\", \"profileImg\" : \"\", \"alphabet\" : \"T\", \"writerTitle\" : \"theqoo.net\", \"sid\" :\"\", \"nvmid\" : \"\", \"is_gif\":\"0\", \"articleid\":\"webhttps%3A%2F%2Ftheqoo.net%2Fdyb%2F2543704788\", \"zzim_info\":\"\", \"payType\":\"0\", \"displayPrice\":\"\", \"reviewCount\":\"\", \"keepCnt\":\"\", \"favicon\":\"\", \"cclType\": \"0\", \"time_str\": \"\", \"dateInfo\": \"2022.08.09.\", \"iconInfo\": \"\", \"parentid\":\"\", \"tld\":\"theqoo.net\", \"querySource\":\"%EB%A5%98%EC%A4%80%EC%97%B4\", \"sttData\": \"\", \"isReport\": \"1\" } , { \"type\":\"image\", \"crArea\": \"W\", \"rank\":\"32\", \"gdid\": \"web_7d40944ca9661566628a830cd0e75d9e\", \"link\":\"https%3A%2F%2Fstar.mt.co.kr%2Fstview.php%3Fno%3D2018122012230071280\", \"source\":\"%EC%9B%B9\", \"viewerThumb\": \"https%3A%2F%2Fsearch.pstatic.net%2Fsunny%2F%3Fsrc%3Dhttps%253A%252F%252Fthumb.mtstarnews.com%252F21%252F2018%252F12%252F2018122012230071280_1.jpg%252Fdims%252Fresize%252F1200%252Fcrop%252F1200x630%2521%252Foptimize%26type%3Dsc960_832\", \"lensThumb\": \"https%3A%2F%2Fsearch.pstatic.net%2Fsunny%2F%3Fsrc%3Dhttps%253A%252F%252Fthumb.mtstarnews.com%252F21%252F2018%252F12%252F2018122012230071280_1.jpg%252Fdims%252Fresize%252F1200%252Fcrop%252F1200x630%2521%252Foptimize%26type%3Dsc960_832\", \"imgId\":\"image_sas%3Awebhttps%3A%2F%2Fstar.mt.co.kr%2Fstview.php%3Fno%3D2018122012230071280_2101384268\", \"orgWidth\":\"1200\", \"orgHeight\":\"630\", \"thumbWidth\" : \"340\", \"thumbHeight\" : \"165\", \"thumb\":\"https%3A%2F%2Fsearch.pstatic.net%2Fsunny%2F%3Fsrc%3Dhttps%253A%252F%252Fthumb.mtstarnews.com%252F21%252F2018%252F12%252F2018122012230071280_1.jpg%252Fdims%252Fresize%252F1200%252Fcrop%252F1200x630%2521%252Foptimize%26type%3Dl340_165\", \"originalUrl\":\"https%3A%2F%2Fthumb.mtstarnews.com%2F21%2F2018%2F12%2F2018122012230071280_1.jpg%2Fdims%2Fresize%2F1200%2Fcrop%2F1200x630%21%2Foptimize\", \"title\":\"%5B%E2%98%85%ED%8F%AC%ED%86%A0%5D%EB%A5%98%EC%A4%80%EC%97%B4%2C%20%27%EC%96%B4%EB%94%94%EC%84%9C%EB%82%98%20%EB%AA%A8%EB%8D%B8%ED%8F%AC%EC%8A%A4%27%20-%20%EC%8A%A4%ED%83%80%EB%89%B4%EC%8A%A4\", \"signature\": \"196346821239628\", \"color\" : \"%23BDB8CE\", \"profileImg\" : \"\", \"alphabet\" : \"S\", \"writerTitle\" : \"star.mt.co.kr\", \"sid\" :\"\", \"nvmid\" : \"\", \"is_gif\":\"0\", \"articleid\":\"webhttps%3A%2F%2Fstar.mt.co.kr%2Fstview.php%3Fno%3D2018122012230071280\", \"zzim_info\":\"\", \"payType\":\"0\", \"displayPrice\":\"\", \"reviewCount\":\"\", \"keepCnt\":\"\", \"favicon\":\"\", \"cclType\": \"0\", \"time_str\": \"\", \"dateInfo\": \"2022.09.19.\", \"iconInfo\": \"\", \"parentid\":\"\", \"tld\":\"star.mt.co.kr\", \"querySource\":\"%EB%A5%98%EC%A4%80%EC%97%B4\", \"sttData\": \"\", \"isReport\": \"1\" } , { \"type\":\"image\", \"crArea\": \"N\", \"rank\":\"33\", \"gdid\": \"news_299323ec499af6882fe6b20874c7795b\", \"link\":\"http%3A%2F%2Fnews.naver.com%2Fmain%2Fread.naver%3Foid%3D117%26aid%3D0003624490\", \"source\":\"%ED%8F%AC%ED%86%A0%EB%89%B4%EC%8A%A4\", \"viewerThumb\": \"https%3A%2F%2Fsearch.pstatic.net%2Fcommon%2F%3Fsrc%3Dhttp%253A%252F%252Fimgnews.naver.net%252Fimage%252F117%252F2022%252F07%252F13%252F202207131750534077_3_20220713185603293.jpg%26type%3Dsc960_832\", \"lensThumb\": \"https%3A%2F%2Fsearch.pstatic.net%2Fcommon%2F%3Fsrc%3Dhttp%253A%252F%252Fimgnews.naver.net%252Fimage%252F117%252F2022%252F07%252F13%252F202207131750534077_3_20220713185603293.jpg%26type%3Dsc960_832\", \"imgId\":\"image_sas%3Anews1170003624490_697508844\", \"orgWidth\":\"500\", \"orgHeight\":\"804\", \"thumbWidth\" : \"340\", \"thumbHeight\" : \"547\", \"thumb\":\"https%3A%2F%2Fsearch.pstatic.net%2Fcommon%2F%3Fsrc%3Dhttp%253A%252F%252Fimgnews.naver.net%252Fimage%252F117%252F2022%252F07%252F13%252F202207131750534077_3_20220713185603293.jpg%26type%3Da340\", \"originalUrl\":\"http%3A%2F%2Fimgnews.naver.net%2Fimage%2F117%2F2022%2F07%2F13%2F202207131750534077_3_20220713185603293.jpg\", \"title\":\"%26quot%3B%27%EC%96%B4%EB%B2%A4%EC%A0%B8%EC%8A%A4%27%20%EA%B0%99%EC%9D%80%20%EC%9E%AC%EB%AF%B8%20%EC%A3%BC%EA%B3%A0%ED%8C%A0%EB%8B%A4%26quot%3B%E2%80%A6%27%EC%99%B8%EA%B3%84%2B%EC%9D%B8%27%20%EB%A5%98%EC%A4%80%EC%97%B4X%EA%B9%80%EC%9A%B0%EB%B9%88X%EA%B9%80%ED%83%9C%EB%A6%AC%2C%20%EB%8C%80%EC%84%B8%20%E2%98%85%EB%93%A4%20%EC%A1%B0%ED%95%A9%20%ED%86%B5%ED%95%A0%EA%B9%8C%20%5B%EC%A2%85%ED%95%A9%5D\", \"signature\": \"535578121714881\", \"color\" : \"%23C2C7CC\", \"profileImg\" : \"\", \"alphabet\" : \"N\", \"writerTitle\" : \"news.naver.com\", \"sid\" :\"\", \"nvmid\" : \"\", \"is_gif\":\"0\", \"articleid\":\"news1170003624490\", \"zzim_info\":\"\", \"payType\":\"0\", \"displayPrice\":\"\", \"reviewCount\":\"\", \"keepCnt\":\"\", \"favicon\":\"\", \"cclType\": \"0\", \"time_str\": \"\", \"dateInfo\": \"2022.07.13.\", \"iconInfo\": \"\", \"parentid\":\"\", \"tld\":\"news.naver.com\", \"querySource\":\"%EB%A5%98%EC%A4%80%EC%97%B4\", \"sttData\": \"\", \"isReport\": \"0\" } , { \"type\":\"image\", \"crArea\": \"N\", \"rank\":\"34\", \"gdid\": \"news_b8ecc577be66de2a5a7015c284f4514d\", \"link\":\"http%3A%2F%2Fnews.naver.com%2Fmain%2Fread.naver%3Foid%3D011%26aid%3D0004111420\", \"source\":\"%ED%8F%AC%ED%86%A0%EB%89%B4%EC%8A%A4\", \"viewerThumb\": \"https%3A%2F%2Fsearch.pstatic.net%2Fcommon%2F%3Fsrc%3Dhttp%253A%252F%252Fimgnews.naver.net%252Fimage%252F011%252F2022%252F10%252F18%252F0004111420_001_20221018112205793.jpg%26type%3Dsc960_832\", \"lensThumb\": \"https%3A%2F%2Fsearch.pstatic.net%2Fcommon%2F%3Fsrc%3Dhttp%253A%252F%252Fimgnews.naver.net%252Fimage%252F011%252F2022%252F10%252F18%252F0004111420_001_20221018112205793.jpg%26type%3Dsc960_832\", \"imgId\":\"image_sas%3Anews0110004111420_1192442505\", \"orgWidth\":\"640\", \"orgHeight\":\"960\", \"thumbWidth\" : \"340\", \"thumbHeight\" : \"510\", \"thumb\":\"https%3A%2F%2Fsearch.pstatic.net%2Fcommon%2F%3Fsrc%3Dhttp%253A%252F%252Fimgnews.naver.net%252Fimage%252F011%252F2022%252F10%252F18%252F0004111420_001_20221018112205793.jpg%26type%3Da340\", \"originalUrl\":\"http%3A%2F%2Fimgnews.naver.net%2Fimage%2F011%2F2022%2F10%2F18%2F0004111420_001_20221018112205793.jpg\", \"title\":\"%EB%A5%98%EC%A4%80%EC%97%B4%2C%20%EB%8B%A4%EC%8B%9C%20%EB%B3%B4%EB%8B%88%20%EB%8D%94%20%EB%B0%98%EA%B0%80%EC%9A%B4%20%EC%96%BC%EA%B5%B4%20%5BSE%E2%98%85%ED%8F%AC%ED%86%A0%5D\", \"signature\": \"597083140884216\", \"color\" : \"%23DB9D8F\", \"profileImg\" : \"\", \"alphabet\" : \"N\", \"writerTitle\" : \"news.naver.com\", \"sid\" :\"\", \"nvmid\" : \"\", \"is_gif\":\"0\", \"articleid\":\"news0110004111420\", \"zzim_info\":\"\", \"payType\":\"0\", \"displayPrice\":\"\", \"reviewCount\":\"\", \"keepCnt\":\"\", \"favicon\":\"\", \"cclType\": \"0\", \"time_str\": \"\", \"dateInfo\": \"2022.10.18.\", \"iconInfo\": \"\", \"parentid\":\"\", \"tld\":\"news.naver.com\", \"querySource\":\"%EB%A5%98%EC%A4%80%EC%97%B4\", \"sttData\": \"\", \"isReport\": \"0\" } , { \"type\":\"image\", \"crArea\": \"W\", \"rank\":\"35\", \"gdid\": \"web_29301df73406c83bab1b11ec4e1e4126\", \"link\":\"https%3A%2F%2Fstar.mt.co.kr%2Fstview.php%3Fno%3D2019022114435277724\", \"source\":\"%EC%9B%B9\", \"viewerThumb\": \"https%3A%2F%2Fsearch.pstatic.net%2Fsunny%2F%3Fsrc%3Dhttps%253A%252F%252Fthumb.mtstarnews.com%252F21%252F2019%252F02%252F2019022114435277724_1.jpg%252Fdims%252Fresize%252F1200%252Fcrop%252F1200x630%2521%252Foptimize%26type%3Dsc960_832\", \"lensThumb\": \"https%3A%2F%2Fsearch.pstatic.net%2Fsunny%2F%3Fsrc%3Dhttps%253A%252F%252Fthumb.mtstarnews.com%252F21%252F2019%252F02%252F2019022114435277724_1.jpg%252Fdims%252Fresize%252F1200%252Fcrop%252F1200x630%2521%252Foptimize%26type%3Dsc960_832\", \"imgId\":\"image_sas%3Awebhttps%3A%2F%2Fstar.mt.co.kr%2Fstview.php%3Fno%3D2019022114435277724_691019255\", \"orgWidth\":\"1200\", \"orgHeight\":\"630\", \"thumbWidth\" : \"340\", \"thumbHeight\" : \"165\", \"thumb\":\"https%3A%2F%2Fsearch.pstatic.net%2Fsunny%2F%3Fsrc%3Dhttps%253A%252F%252Fthumb.mtstarnews.com%252F21%252F2019%252F02%252F2019022114435277724_1.jpg%252Fdims%252Fresize%252F1200%252Fcrop%252F1200x630%2521%252Foptimize%26type%3Dl340_165\", \"originalUrl\":\"https%3A%2F%2Fthumb.mtstarnews.com%2F21%2F2019%2F02%2F2019022114435277724_1.jpg%2Fdims%2Fresize%2F1200%2Fcrop%2F1200x630%21%2Foptimize\", \"title\":\"%5B%E2%98%85%ED%8F%AC%ED%86%A0%5D%EB%A5%98%EC%A4%80%EC%97%B4-%EC%9D%B4%EC%A0%9C%ED%9B%88%2C%20%27%ED%8F%AC%EC%A6%88%EB%A7%8C%20%EB%B4%90%EB%8F%84%20%EB%8A%90%EA%BB%B4%EC%A7%80%EB%8A%94%20%EC%84%B1%EA%B2%A9%EC%B0%A8%27%20-%20%EC%8A%A4%ED%83%80%EB%89%B4%EC%8A%A4\", \"signature\": \"711457868277577\", \"color\" : \"%23B5B68F\", \"profileImg\" : \"\", \"alphabet\" : \"S\", \"writerTitle\" : \"star.mt.co.kr\", \"sid\" :\"\", \"nvmid\" : \"\", \"is_gif\":\"0\", \"articleid\":\"webhttps%3A%2F%2Fstar.mt.co.kr%2Fstview.php%3Fno%3D2019022114435277724\", \"zzim_info\":\"\", \"payType\":\"0\", \"displayPrice\":\"\", \"reviewCount\":\"\", \"keepCnt\":\"\", \"favicon\":\"\", \"cclType\": \"0\", \"time_str\": \"\", \"dateInfo\": \"2022.09.29.\", \"iconInfo\": \"\", \"parentid\":\"\", \"tld\":\"star.mt.co.kr\", \"querySource\":\"%EB%A5%98%EC%A4%80%EC%97%B4\", \"sttData\": \"\", \"isReport\": \"1\" } , { \"type\":\"image\", \"crArea\": \"N\", \"rank\":\"36\", \"gdid\": \"blog_6923d3b51f4c6a4219eabb005ccdc996\", \"link\":\"https%3A%2F%2Fblog.naver.com%2Fdeckard00%2F222810874244\", \"source\":\"%EB%B8%94%EB%A1%9C%EA%B7%B8\", \"viewerThumb\": \"https%3A%2F%2Fsearch.pstatic.net%2Fcommon%2F%3Fsrc%3Dhttp%253A%252F%252Fblogfiles.naver.net%252FMjAyMjA3MTRfMTI5%252FMDAxNjU3NzUxNDc4MDkx.kVHtyKI-60hlwj_-F0U0IZSMS0opg6JCuTdMDE22HxEg.mZ_8KLxbPmxU7Zc8w2pVmMzLwn9HiqHs7j-mhZ9-kvEg.JPEG.deckard00%252FIMG_2306.jpg%26type%3Dsc960_832\", \"lensThumb\": \"https%3A%2F%2Fsearch.pstatic.net%2Fcommon%2F%3Fsrc%3Dhttp%253A%252F%252Fblogfiles.naver.net%252FMjAyMjA3MTRfMTI5%252FMDAxNjU3NzUxNDc4MDkx.kVHtyKI-60hlwj_-F0U0IZSMS0opg6JCuTdMDE22HxEg.mZ_8KLxbPmxU7Zc8w2pVmMzLwn9HiqHs7j-mhZ9-kvEg.JPEG.deckard00%252FIMG_2306.jpg%26type%3Dsc960_832\", \"imgId\":\"image_sas%3Ablog18946368%7C37%7C222810874244_1763955637\", \"orgWidth\":\"900\", \"orgHeight\":\"1350\", \"thumbWidth\" : \"340\", \"thumbHeight\" : \"510\", \"thumb\":\"https%3A%2F%2Fsearch.pstatic.net%2Fcommon%2F%3Fsrc%3Dhttp%253A%252F%252Fblogfiles.naver.net%252FMjAyMjA3MTRfMTI5%252FMDAxNjU3NzUxNDc4MDkx.kVHtyKI-60hlwj_-F0U0IZSMS0opg6JCuTdMDE22HxEg.mZ_8KLxbPmxU7Zc8w2pVmMzLwn9HiqHs7j-mhZ9-kvEg.JPEG.deckard00%252FIMG_2306.jpg%26type%3Da340\", \"originalUrl\":\"http%3A%2F%2Fblogfiles.naver.net%2FMjAyMjA3MTRfMTI5%2FMDAxNjU3NzUxNDc4MDkx.kVHtyKI-60hlwj_-F0U0IZSMS0opg6JCuTdMDE22HxEg.mZ_8KLxbPmxU7Zc8w2pVmMzLwn9HiqHs7j-mhZ9-kvEg.JPEG.deckard00%2FIMG_2306.jpg\", \"title\":\"%EB%A5%98%EC%A4%80%EC%97%B4%20%EA%B9%80%ED%83%9C%EB%A6%AC%20%EA%B9%80%EC%9A%B0%EB%B9%88%20%EC%86%8C%EC%A7%80%EC%84%AD%20%26lt%3B%EC%99%B8%EA%B3%84%2B%EC%9D%B8%26gt%3B%20%EC%96%B8%EB%A1%A0%EC%8B%9C%EC%82%AC%ED%9A%8C%20%EC%82%AC%EC%A7%84\", \"signature\": \"914354948173776\", \"color\" : \"%23B5B68F\", \"profileImg\" : \"https%3A%2F%2Fsearch.pstatic.net%2Fcommon%2F%3Fsrc%3Dhttp%253A%252F%252Fblogpfthumb.phinf.naver.net%252FMjAyMjA2MTFfODkg%252FMDAxNjU0ODg4NDA2MzMz.Uud_LSQqSy3-LhxCIYHtWQbuEiZ2ZflLtkoJWrV2gOAg.1VTU3g2z1gUzOxcCIwCwaYBue8r2NrQvoR-41BNTJG8g.PNG.deckard00%252FprofileImage.png%26type%3Df80_80\", \"alphabet\" : \"B\", \"writerTitle\" : \"%EB%8D%B0%EC%BB%A4%EB%93%9C%EC%94%A8%EB%84%A4\", \"sid\" :\"\", \"nvmid\" : \"\", \"is_gif\":\"0\", \"articleid\":\"blog18946368%7C37%7C222810874244\", \"zzim_info\":\"\", \"payType\":\"0\", \"displayPrice\":\"\", \"reviewCount\":\"\", \"keepCnt\":\"\", \"favicon\":\"\", \"cclType\": \"0\", \"time_str\": \"\", \"dateInfo\": \"2022.07.14.\", \"iconInfo\": \"\", \"parentid\":\"\", \"tld\":\"blog.naver.com\", \"querySource\":\"%EB%A5%98%EC%A4%80%EC%97%B4\", \"sttData\": \"\", \"isReport\": \"1\" } , { \"type\":\"image\", \"crArea\": \"N\", \"rank\":\"37\", \"gdid\": \"news_2b0650283a6a0acfec41263cbc682dbe\", \"link\":\"http%3A%2F%2Fenter.etoday.co.kr%2Fview%2Fnews_view.php%3FvarAtcId%3D162617\", \"source\":\"%ED%8F%AC%ED%86%A0%EB%89%B4%EC%8A%A4\", \"viewerThumb\": \"https%3A%2F%2Fsearch.pstatic.net%2Fcommon%2F%3Fsrc%3Dhttp%253A%252F%252Fimgnews.naver.net%252Fimage%252F5352%252F2019%252F02%252F11%252F20190211114202_1299600_664_905_20190211114346850.jpg%26type%3Dsc960_832\", \"lensThumb\": \"https%3A%2F%2Fsearch.pstatic.net%2Fcommon%2F%3Fsrc%3Dhttp%253A%252F%252Fimgnews.naver.net%252Fimage%252F5352%252F2019%252F02%252F11%252F20190211114202_1299600_664_905_20190211114346850.jpg%26type%3Dsc960_832\", \"imgId\":\"image_sas%3Anews53520000143266_721834024\", \"orgWidth\":\"540\", \"orgHeight\":\"736\", \"thumbWidth\" : \"340\", \"thumbHeight\" : \"463\", \"thumb\":\"https%3A%2F%2Fsearch.pstatic.net%2Fcommon%2F%3Fsrc%3Dhttp%253A%252F%252Fimgnews.naver.net%252Fimage%252F5352%252F2019%252F02%252F11%252F20190211114202_1299600_664_905_20190211114346850.jpg%26type%3Da340\", \"originalUrl\":\"http%3A%2F%2Fimgnews.naver.net%2Fimage%2F5352%2F2019%2F02%2F11%2F20190211114202_1299600_664_905_20190211114346850.jpg\", \"title\":\"%5BBZ%ED%8F%AC%ED%86%A0%5D%20%EB%A5%98%EC%A4%80%EC%97%B4%2C%20%EC%B9%98%EB%AA%85%EC%A0%81%EC%9D%B8%20%EB%B6%84%EC%9C%84%EA%B8%B0\", \"signature\": \"980055105335075\", \"color\" : \"%23BDB8CE\", \"profileImg\" : \"\", \"alphabet\" : \"E\", \"writerTitle\" : \"enter.etoday.co.kr\", \"sid\" :\"\", \"nvmid\" : \"\", \"is_gif\":\"0\", \"articleid\":\"news53520000143266\", \"zzim_info\":\"\", \"payType\":\"0\", \"displayPrice\":\"\", \"reviewCount\":\"\", \"keepCnt\":\"\", \"favicon\":\"\", \"cclType\": \"0\", \"time_str\": \"\", \"dateInfo\": \"2019.02.11.\", \"iconInfo\": \"\", \"parentid\":\"\", \"tld\":\"enter.etoday.co.kr\", \"querySource\":\"%EB%A5%98%EC%A4%80%EC%97%B4\", \"sttData\": \"\", \"isReport\": \"0\" } , { \"type\":\"image\", \"crArea\": \"N\", \"rank\":\"38\", \"gdid\": \"news_2401e3ce9d8b51a3be471b63cc083d23\", \"link\":\"http%3A%2F%2Fnews.naver.com%2Fmain%2Fread.naver%3Foid%3D408%26aid%3D0000138889\", \"source\":\"%ED%8F%AC%ED%86%A0%EB%89%B4%EC%8A%A4\", \"viewerThumb\": \"https%3A%2F%2Fsearch.pstatic.net%2Fcommon%2F%3Fsrc%3Dhttp%253A%252F%252Fimgnews.naver.net%252Fimage%252F408%252F2021%252F11%252F18%252F0000138889_001_20211118113401657.jpg%26type%3Dsc960_832\", \"lensThumb\": \"https%3A%2F%2Fsearch.pstatic.net%2Fcommon%2F%3Fsrc%3Dhttp%253A%252F%252Fimgnews.naver.net%252Fimage%252F408%252F2021%252F11%252F18%252F0000138889_001_20211118113401657.jpg%26type%3Dsc960_832\", \"imgId\":\"image_sas%3Anews4080000138889_604103630\", \"orgWidth\":\"800\", \"orgHeight\":\"1000\", \"thumbWidth\" : \"340\", \"thumbHeight\" : \"425\", \"thumb\":\"https%3A%2F%2Fsearch.pstatic.net%2Fcommon%2F%3Fsrc%3Dhttp%253A%252F%252Fimgnews.naver.net%252Fimage%252F408%252F2021%252F11%252F18%252F0000138889_001_20211118113401657.jpg%26type%3Da340\", \"originalUrl\":\"http%3A%2F%2Fimgnews.naver.net%2Fimage%2F408%2F2021%2F11%2F18%2F0000138889_001_20211118113401657.jpg\", \"title\":\"%5B%ED%8F%AC%ED%86%A0%5D%20%EB%A5%98%EC%A4%80%EC%97%B4%2C%20%27%ED%84%B1%EC%84%A0%EC%9C%BC%EB%A1%9C%20%EC%9D%91%EB%8B%B5%27\", \"signature\": \"910439587359714\", \"color\" : \"%23C2C7CC\", \"profileImg\" : \"\", \"alphabet\" : \"N\", \"writerTitle\" : \"news.naver.com\", \"sid\" :\"\", \"nvmid\" : \"\", \"is_gif\":\"0\", \"articleid\":\"news4080000138889\", \"zzim_info\":\"\", \"payType\":\"0\", \"displayPrice\":\"\", \"reviewCount\":\"\", \"keepCnt\":\"\", \"favicon\":\"\", \"cclType\": \"0\", \"time_str\": \"\", \"dateInfo\": \"2021.11.18.\", \"iconInfo\": \"\", \"parentid\":\"\", \"tld\":\"news.naver.com\", \"querySource\":\"%EB%A5%98%EC%A4%80%EC%97%B4\", \"sttData\": \"\", \"isReport\": \"0\" } , { \"type\":\"image\", \"crArea\": \"N\", \"rank\":\"39\", \"gdid\": \"news_4433af16189581781ec9c19888d3f38a\", \"link\":\"http%3A%2F%2Fnews.naver.com%2Fmain%2Fread.naver%3Foid%3D112%26aid%3D0002793947\", \"source\":\"%ED%8F%AC%ED%86%A0%EB%89%B4%EC%8A%A4\", \"viewerThumb\": \"https%3A%2F%2Fsearch.pstatic.net%2Fcommon%2F%3Fsrc%3Dhttp%253A%252F%252Fimgnews.naver.net%252Fimage%252F112%252F2016%252F03%252F15%252F201603150234514790296_20160315023544_01_99_20160315023703.jpg%26type%3Dsc960_832\", \"lensThumb\": \"https%3A%2F%2Fsearch.pstatic.net%2Fcommon%2F%3Fsrc%3Dhttp%253A%252F%252Fimgnews.naver.net%252Fimage%252F112%252F2016%252F03%252F15%252F201603150234514790296_20160315023544_01_99_20160315023703.jpg%26type%3Dsc960_832\", \"imgId\":\"image_sas%3Anews1120002793947_1144237846\", \"orgWidth\":\"500\", \"orgHeight\":\"750\", \"thumbWidth\" : \"340\", \"thumbHeight\" : \"510\", \"thumb\":\"https%3A%2F%2Fsearch.pstatic.net%2Fcommon%2F%3Fsrc%3Dhttp%253A%252F%252Fimgnews.naver.net%252Fimage%252F112%252F2016%252F03%252F15%252F201603150234514790296_20160315023544_01_99_20160315023703.jpg%26type%3Da340\", \"originalUrl\":\"http%3A%2F%2Fimgnews.naver.net%2Fimage%2F112%2F2016%2F03%2F15%2F201603150234514790296_20160315023544_01_99_20160315023703.jpg\", \"title\":\"%5B%ED%8F%AC%ED%86%A0%5D%20%EB%A5%98%EC%A4%80%EC%97%B4%2C%20%EB%A7%88%EC%A7%80%EB%A7%89%EC%9C%BC%EB%A1%9C%20%EC%9B%83%EC%9D%84%EA%B2%8C%EC%9A%94%20%27%ED%95%B4%EB%A7%91%EC%9D%80%20%EA%B1%B4%EC%B9%98%20%EB%AF%B8%EC%86%8C%27\", \"signature\": \"912862792931298\", \"color\" : \"%23C2C7CC\", \"profileImg\" : \"\", \"alphabet\" : \"N\", \"writerTitle\" : \"news.naver.com\", \"sid\" :\"\", \"nvmid\" : \"\", \"is_gif\":\"0\", \"articleid\":\"news1120002793947\", \"zzim_info\":\"\", \"payType\":\"0\", \"displayPrice\":\"\", \"reviewCount\":\"\", \"keepCnt\":\"\", \"favicon\":\"\", \"cclType\": \"0\", \"time_str\": \"\", \"dateInfo\": \"2016.03.15.\", \"iconInfo\": \"\", \"parentid\":\"\", \"tld\":\"news.naver.com\", \"querySource\":\"%EB%A5%98%EC%A4%80%EC%97%B4\", \"sttData\": \"\", \"isReport\": \"0\" } , { \"type\":\"image\", \"crArea\": \"N\", \"rank\":\"40\", \"gdid\": \"news_0a0a45b61f177434803ef0bef71d35ed\", \"link\":\"http%3A%2F%2Ftvdaily.co.kr%2Fread.php3%3Faid%3D15498521191434438017\", \"source\":\"%ED%8F%AC%ED%86%A0%EB%89%B4%EC%8A%A4\", \"viewerThumb\": \"https%3A%2F%2Fsearch.pstatic.net%2Fcommon%2F%3Fsrc%3Dhttp%253A%252F%252Fimgnews.naver.net%252Fimage%252F5129%252F2019%252F02%252F11%252F1549852119_1434438_20190211113038889.jpg%26type%3Dsc960_832\", \"lensThumb\": \"https%3A%2F%2Fsearch.pstatic.net%2Fcommon%2F%3Fsrc%3Dhttp%253A%252F%252Fimgnews.naver.net%252Fimage%252F5129%252F2019%252F02%252F11%252F1549852119_1434438_20190211113038889.jpg%26type%3Dsc960_832\", \"imgId\":\"image_sas%3Anews51290001032162_168445366\", \"orgWidth\":\"658\", \"orgHeight\":\"899\", \"thumbWidth\" : \"340\", \"thumbHeight\" : \"465\", \"thumb\":\"https%3A%2F%2Fsearch.pstatic.net%2Fcommon%2F%3Fsrc%3Dhttp%253A%252F%252Fimgnews.naver.net%252Fimage%252F5129%252F2019%252F02%252F11%252F1549852119_1434438_20190211113038889.jpg%26type%3Da340\", \"originalUrl\":\"http%3A%2F%2Fimgnews.naver.net%2Fimage%2F5129%2F2019%2F02%2F11%2F1549852119_1434438_20190211113038889.jpg\", \"title\":\"%5BTD%ED%8F%AC%ED%86%A0%5D%20%EB%A5%98%EC%A4%80%EC%97%B4%20%27%EF%A6%81%E5%BF%83%20%EB%85%B9%EC%9D%B4%EB%8A%94%20%EB%AF%B8%EC%86%8C%20%ED%99%9C%EC%A7%9D%7E%27\", \"signature\": \"912590443892746\", \"color\" : \"%23DB9D8F\", \"profileImg\" : \"\", \"alphabet\" : \"T\", \"writerTitle\" : \"tvdaily.co.kr\", \"sid\" :\"\", \"nvmid\" : \"\", \"is_gif\":\"0\", \"articleid\":\"news51290001032162\", \"zzim_info\":\"\", \"payType\":\"0\", \"displayPrice\":\"\", \"reviewCount\":\"\", \"keepCnt\":\"\", \"favicon\":\"\", \"cclType\": \"0\", \"time_str\": \"\", \"dateInfo\": \"2019.02.11.\", \"iconInfo\": \"\", \"parentid\":\"\", \"tld\":\"tvdaily.co.kr\", \"querySource\":\"%EB%A5%98%EC%A4%80%EC%97%B4\", \"sttData\": \"\", \"isReport\": \"0\" } , { \"type\":\"image\", \"crArea\": \"W\", \"rank\":\"41\", \"gdid\": \"web_c1c97c90d9ac2453cee27c375f106c6f\", \"link\":\"https%3A%2F%2Ftv.kakao.com%2Fchannel%2F2653837%2Fcliplink%2F300101812\", \"source\":\"%EC%9B%B9\", \"viewerThumb\": \"https%3A%2F%2Fsearch.pstatic.net%2Fsunny%2F%3Fsrc%3Dhttp%253A%252F%252Ft1.daumcdn.net%252Ftvpot%252Fthumb%252Fs68bdGxLI8t8ZZzc6tI6tWG%252Fthumb.png%253Fts%253D1541833493%26type%3Dsc960_832\", \"lensThumb\": \"https%3A%2F%2Fsearch.pstatic.net%2Fsunny%2F%3Fsrc%3Dhttp%253A%252F%252Ft1.daumcdn.net%252Ftvpot%252Fthumb%252Fs68bdGxLI8t8ZZzc6tI6tWG%252Fthumb.png%253Fts%253D1541833493%26type%3Dsc960_832\", \"imgId\":\"image_sas%3Awebhttps%3A%2F%2Ftv.kakao.com%2Fchannel%2F2653837%2Fcliplink%2F300101812_1043759984\", \"orgWidth\":\"1270\", \"orgHeight\":\"720\", \"thumbWidth\" : \"340\", \"thumbHeight\" : \"193\", \"thumb\":\"https%3A%2F%2Fsearch.pstatic.net%2Fsunny%2F%3Fsrc%3Dhttp%253A%252F%252Ft1.daumcdn.net%252Ftvpot%252Fthumb%252Fs68bdGxLI8t8ZZzc6tI6tWG%252Fthumb.png%253Fts%253D1541833493%26type%3Da340\", \"originalUrl\":\"http%3A%2F%2Ft1.daumcdn.net%2Ftvpot%2Fthumb%2Fs68bdGxLI8t8ZZzc6tI6tWG%2Fthumb.png%3Fts%3D1541833493\", \"title\":\"%ED%99%A9%EC%A0%95%EC%9D%8C%20%EB%92%A4%EB%A5%BC%20%EC%AB%93%EB%8A%94%20%EB%A5%98%EC%A4%80%EC%97%B4%2C%20%ED%96%89%EC%84%A0%EC%A7%80%EB%8A%94%20%EB%AA%A8%ED%85%94%3F%20-%20kakaoTV%20%ED%99%A9%EC%A0%95%EC%9D%8C%20%EB%92%A4%EB%A5%BC%20%EC%AB%93%EB%8A%94%20%EB%A5%98%EC%A4%80%EC%97%B4%2C%20%ED%96%89%EC%84%A0%EC%A7%80%EB%8A%94%20%EB%AA%A8%ED%85%94%3F\", \"signature\": \"711905563562939\", \"color\" : \"%23C2C7CC\", \"profileImg\" : \"\", \"alphabet\" : \"T\", \"writerTitle\" : \"tv.kakao.com\", \"sid\" :\"\", \"nvmid\" : \"\", \"is_gif\":\"0\", \"articleid\":\"webhttps%3A%2F%2Ftv.kakao.com%2Fchannel%2F2653837%2Fcliplink%2F300101812\", \"zzim_info\":\"\", \"payType\":\"0\", \"displayPrice\":\"\", \"reviewCount\":\"\", \"keepCnt\":\"\", \"favicon\":\"\", \"cclType\": \"0\", \"time_str\": \"\", \"dateInfo\": \"2022.06.01.\", \"iconInfo\": \"\", \"parentid\":\"\", \"tld\":\"tv.kakao.com\", \"querySource\":\"%EB%A5%98%EC%A4%80%EC%97%B4\", \"sttData\": \"\", \"isReport\": \"1\" } , { \"type\":\"image\", \"crArea\": \"N\", \"rank\":\"42\", \"gdid\": \"news_2b6f1153a6e4d0bbaaed1e86c52f923f\", \"link\":\"http%3A%2F%2Fnews.naver.com%2Fmain%2Fread.naver%3Foid%3D109%26aid%3D0003963960\", \"source\":\"%ED%8F%AC%ED%86%A0%EB%89%B4%EC%8A%A4\", \"viewerThumb\": \"https%3A%2F%2Fsearch.pstatic.net%2Fcommon%2F%3Fsrc%3Dhttp%253A%252F%252Fimgnews.naver.net%252Fimage%252F109%252F2019%252F03%252F06%252F0003963960_001_20190306162906896.jpg%26type%3Dsc960_832\", \"lensThumb\": \"https%3A%2F%2Fsearch.pstatic.net%2Fcommon%2F%3Fsrc%3Dhttp%253A%252F%252Fimgnews.naver.net%252Fimage%252F109%252F2019%252F03%252F06%252F0003963960_001_20190306162906896.jpg%26type%3Dsc960_832\", \"imgId\":\"image_sas%3Anews1090003963960_728699219\", \"orgWidth\":\"1024\", \"orgHeight\":\"1378\", \"thumbWidth\" : \"340\", \"thumbHeight\" : \"458\", \"thumb\":\"https%3A%2F%2Fsearch.pstatic.net%2Fcommon%2F%3Fsrc%3Dhttp%253A%252F%252Fimgnews.naver.net%252Fimage%252F109%252F2019%252F03%252F06%252F0003963960_001_20190306162906896.jpg%26type%3Da340\", \"originalUrl\":\"http%3A%2F%2Fimgnews.naver.net%2Fimage%2F109%2F2019%2F03%2F06%2F0003963960_001_20190306162906896.jpg\", \"title\":\"%5B%EC%82%AC%EC%A7%84%5D%EB%8F%88%20%EB%A5%98%EC%A4%80%EC%97%B4%2C%27%EC%8B%B1%EC%BF%B5%20%EB%AF%B8%EC%86%8C%27\", \"signature\": \"560605865278419\", \"color\" : \"%23BDB8CE\", \"profileImg\" : \"\", \"alphabet\" : \"N\", \"writerTitle\" : \"news.naver.com\", \"sid\" :\"\", \"nvmid\" : \"\", \"is_gif\":\"0\", \"articleid\":\"news1090003963960\", \"zzim_info\":\"\", \"payType\":\"0\", \"displayPrice\":\"\", \"reviewCount\":\"\", \"keepCnt\":\"\", \"favicon\":\"\", \"cclType\": \"0\", \"time_str\": \"\", \"dateInfo\": \"2019.03.06.\", \"iconInfo\": \"\", \"parentid\":\"\", \"tld\":\"news.naver.com\", \"querySource\":\"%EB%A5%98%EC%A4%80%EC%97%B4\", \"sttData\": \"\", \"isReport\": \"0\" } , { \"type\":\"image\", \"crArea\": \"N\", \"rank\":\"43\", \"gdid\": \"news_9cd918276048258c571eee2bfff8608a\", \"link\":\"http%3A%2F%2Fnews.naver.com%2Fmain%2Fread.naver%3Foid%3D112%26aid%3D0002879966\", \"source\":\"%ED%8F%AC%ED%86%A0%EB%89%B4%EC%8A%A4\", \"viewerThumb\": \"https%3A%2F%2Fsearch.pstatic.net%2Fcommon%2F%3Fsrc%3Dhttp%253A%252F%252Fimgnews.naver.net%252Fimage%252F112%252F2016%252F12%252F30%252F201612302208039701654_20161230220846_01_20161230221027552.jpg%26type%3Dsc960_832\", \"lensThumb\": \"https%3A%2F%2Fsearch.pstatic.net%2Fcommon%2F%3Fsrc%3Dhttp%253A%252F%252Fimgnews.naver.net%252Fimage%252F112%252F2016%252F12%252F30%252F201612302208039701654_20161230220846_01_20161230221027552.jpg%26type%3Dsc960_832\", \"imgId\":\"image_sas%3Anews1120002879966_1663494105\", \"orgWidth\":\"540\", \"orgHeight\":\"810\", \"thumbWidth\" : \"340\", \"thumbHeight\" : \"510\", \"thumb\":\"https%3A%2F%2Fsearch.pstatic.net%2Fcommon%2F%3Fsrc%3Dhttp%253A%252F%252Fimgnews.naver.net%252Fimage%252F112%252F2016%252F12%252F30%252F201612302208039701654_20161230220846_01_20161230221027552.jpg%26type%3Da340\", \"originalUrl\":\"http%3A%2F%2Fimgnews.naver.net%2Fimage%2F112%2F2016%2F12%2F30%2F201612302208039701654_20161230220846_01_20161230221027552.jpg\", \"title\":\"%5B%ED%8F%AC%ED%86%A0%5D%EB%A5%98%EC%A4%80%EC%97%B4%20%27%EA%B0%95%EB%A0%AC%ED%95%9C%20%EB%88%88%EB%B9%9B%27\", \"signature\": \"650284663339664\", \"color\" : \"%23E1B785\", \"profileImg\" : \"\", \"alphabet\" : \"N\", \"writerTitle\" : \"news.naver.com\", \"sid\" :\"\", \"nvmid\" : \"\", \"is_gif\":\"0\", \"articleid\":\"news1120002879966\", \"zzim_info\":\"\", \"payType\":\"0\", \"displayPrice\":\"\", \"reviewCount\":\"\", \"keepCnt\":\"\", \"favicon\":\"\", \"cclType\": \"0\", \"time_str\": \"\", \"dateInfo\": \"2016.12.30.\", \"iconInfo\": \"\", \"parentid\":\"\", \"tld\":\"news.naver.com\", \"querySource\":\"%EB%A5%98%EC%A4%80%EC%97%B4\", \"sttData\": \"\", \"isReport\": \"0\" } , { \"type\":\"image\", \"crArea\": \"N\", \"rank\":\"44\", \"gdid\": \"news_a9f0f5ae722c829a9b67c2f95ca52b06\", \"link\":\"http%3A%2F%2Fwww.stardailynews.co.kr%2Fnews%2FarticleView.html%3Fidxno%3D151792\", \"source\":\"%ED%8F%AC%ED%86%A0%EB%89%B4%EC%8A%A4\", \"viewerThumb\": \"https%3A%2F%2Fsearch.pstatic.net%2Fcommon%2F%3Fsrc%3Dhttp%253A%252F%252Fimgnews.naver.net%252Fimage%252F5401%252F2017%252F06%252F20%252F0000092985_001_20170620151345059.jpg%26type%3Dsc960_832\", \"lensThumb\": \"https%3A%2F%2Fsearch.pstatic.net%2Fcommon%2F%3Fsrc%3Dhttp%253A%252F%252Fimgnews.naver.net%252Fimage%252F5401%252F2017%252F06%252F20%252F0000092985_001_20170620151345059.jpg%26type%3Dsc960_832\", \"imgId\":\"image_sas%3Anews54010000092985_1443826258\", \"orgWidth\":\"1200\", \"orgHeight\":\"1800\", \"thumbWidth\" : \"340\", \"thumbHeight\" : \"510\", \"thumb\":\"https%3A%2F%2Fsearch.pstatic.net%2Fcommon%2F%3Fsrc%3Dhttp%253A%252F%252Fimgnews.naver.net%252Fimage%252F5401%252F2017%252F06%252F20%252F0000092985_001_20170620151345059.jpg%26type%3Da340\", \"originalUrl\":\"http%3A%2F%2Fimgnews.naver.net%2Fimage%2F5401%2F2017%2F06%2F20%2F0000092985_001_20170620151345059.jpg\", \"title\":\"%5BS%ED%8F%AC%ED%86%A0%2B%5D%20%EB%A5%98%EC%A4%80%EC%97%B4%2C%20%27%EC%8B%AC%EC%BF%B5%20%EC%95%84%EC%9D%B4%EC%BB%A8%ED%83%9D%27%20%28%ED%83%9D%EC%8B%9C%EC%9A%B4%EC%A0%84%EC%82%AC%20%EC%A0%9C%EC%9E%91%EB%B3%B4%EA%B3%A0%ED%9A%8C%29\", \"signature\": \"893946316860170\", \"color\" : \"%23B5B68F\", \"profileImg\" : \"\", \"alphabet\" : \"S\", \"writerTitle\" : \"stardailynews.co.kr\", \"sid\" :\"\", \"nvmid\" : \"\", \"is_gif\":\"0\", \"articleid\":\"news54010000092985\", \"zzim_info\":\"\", \"payType\":\"0\", \"displayPrice\":\"\", \"reviewCount\":\"\", \"keepCnt\":\"\", \"favicon\":\"\", \"cclType\": \"0\", \"time_str\": \"\", \"dateInfo\": \"2017.06.20.\", \"iconInfo\": \"\", \"parentid\":\"\", \"tld\":\"stardailynews.co.kr\", \"querySource\":\"%EB%A5%98%EC%A4%80%EC%97%B4\", \"sttData\": \"\", \"isReport\": \"0\" } , { \"type\":\"image\", \"crArea\": \"N\", \"rank\":\"45\", \"gdid\": \"blog_1df568d32705914b591dedd09bd01c3c\", \"link\":\"https%3A%2F%2Fblog.naver.com%2Frureddie%2F222535633417\", \"source\":\"%EB%B8%94%EB%A1%9C%EA%B7%B8\", \"viewerThumb\": \"https%3A%2F%2Fsearch.pstatic.net%2Fcommon%2F%3Fsrc%3Dhttp%253A%252F%252Fblogfiles.naver.net%252FMjAyMTEwMTNfODUg%252FMDAxNjM0MDk4OTc3OTQ4.n8GDrPhN7W4T2yq63Wv4WFy70pEoiGig36bICuGe62cg.2lToPDkhSzJrmS3WNbmYDL9Sg0RLZBzpt0CQuyp4ZEwg.JPEG.rureddie%252FLost.S01E05.1080p.WEB-DL.H264.AAC-AppleTor.mp4_000772505.jpg%26type%3Dsc960_832\", \"lensThumb\": \"https%3A%2F%2Fsearch.pstatic.net%2Fcommon%2F%3Fsrc%3Dhttp%253A%252F%252Fblogfiles.naver.net%252FMjAyMTEwMTNfODUg%252FMDAxNjM0MDk4OTc3OTQ4.n8GDrPhN7W4T2yq63Wv4WFy70pEoiGig36bICuGe62cg.2lToPDkhSzJrmS3WNbmYDL9Sg0RLZBzpt0CQuyp4ZEwg.JPEG.rureddie%252FLost.S01E05.1080p.WEB-DL.H264.AAC-AppleTor.mp4_000772505.jpg%26type%3Dsc960_832\", \"imgId\":\"image_sas%3Ablog58213291%7C23%7C222535633417_502622419\", \"orgWidth\":\"1920\", \"orgHeight\":\"1080\", \"thumbWidth\" : \"340\", \"thumbHeight\" : \"191\", \"thumb\":\"https%3A%2F%2Fsearch.pstatic.net%2Fcommon%2F%3Fsrc%3Dhttp%253A%252F%252Fblogfiles.naver.net%252FMjAyMTEwMTNfODUg%252FMDAxNjM0MDk4OTc3OTQ4.n8GDrPhN7W4T2yq63Wv4WFy70pEoiGig36bICuGe62cg.2lToPDkhSzJrmS3WNbmYDL9Sg0RLZBzpt0CQuyp4ZEwg.JPEG.rureddie%252FLost.S01E05.1080p.WEB-DL.H264.AAC-AppleTor.mp4_000772505.jpg%26type%3Da340\", \"originalUrl\":\"http%3A%2F%2Fblogfiles.naver.net%2FMjAyMTEwMTNfODUg%2FMDAxNjM0MDk4OTc3OTQ4.n8GDrPhN7W4T2yq63Wv4WFy70pEoiGig36bICuGe62cg.2lToPDkhSzJrmS3WNbmYDL9Sg0RLZBzpt0CQuyp4ZEwg.JPEG.rureddie%2FLost.S01E05.1080p.WEB-DL.H264.AAC-AppleTor.mp4_000772505.jpg\", \"title\":\"%EB%A5%98%EC%A4%80%EC%97%B4%EC%9D%B4%EB%9E%91%20%EA%B2%B0%ED%98%BC%ED%95%98%EA%B3%A0%20%EC%8B%B6%EB%8B%A4.\", \"signature\": \"962143814834232\", \"color\" : \"%23B5B68F\", \"profileImg\" : \"https%3A%2F%2Fsearch.pstatic.net%2Fcommon%2F%3Fsrc%3Dhttp%253A%252F%252Fblogpfthumb.phinf.naver.net%252FMjAxOTEyMjJfMTA2%252FMDAxNTc2OTk0NjI4Mzg2.386zoOkrU2X8Rj6_8ApayQ9g5YreUIcVA9YJ4SvPyg4g.rNZQpvdX63rcEQVM6uvAqxP-bgzfcVvHjEoWe8oSaEEg.JPEG.rureddie%252FKakaoTalk_20191222_150138334.jpg%26type%3Df80_80\", \"alphabet\" : \"B\", \"writerTitle\" : \"%EC%8B%A0%EB%B9%84%EC%8A%A4%EB%9F%AC%EC%9A%B4%20%EC%96%B4%EB%8A%90%20%ED%95%9C%20%EC%82%AC%EB%9E%8C%EB%A7%8C%EC%9D%84%20%ED%96%A5%ED%95%B4%EC%84%9C%2C\", \"sid\" :\"\", \"nvmid\" : \"\", \"is_gif\":\"0\", \"articleid\":\"blog58213291%7C23%7C222535633417\", \"zzim_info\":\"\", \"payType\":\"0\", \"displayPrice\":\"\", \"reviewCount\":\"\", \"keepCnt\":\"\", \"favicon\":\"\", \"cclType\": \"0\", \"time_str\": \"\", \"dateInfo\": \"2021.10.13.\", \"iconInfo\": \"\", \"parentid\":\"\", \"tld\":\"blog.naver.com\", \"querySource\":\"%EB%A5%98%EC%A4%80%EC%97%B4\", \"sttData\": \"\", \"isReport\": \"1\" } , { \"type\":\"image\", \"crArea\": \"W\", \"rank\":\"46\", \"gdid\": \"web_918674ca464ce3f6c2340711aad8493c\", \"link\":\"https%3A%2F%2Fwww.pinterest.com%2Fpin%2F547468898463794682%2F\", \"source\":\"%EC%9B%B9\", \"viewerThumb\": \"https%3A%2F%2Fsearch.pstatic.net%2Fsunny%2F%3Fsrc%3Dhttps%253A%252F%252Fi.pinimg.com%252Foriginals%252Fbc%252F43%252F07%252Fbc4307a7ee84a14d686b5fc44845d500.jpg%26type%3Dsc960_832\", \"lensThumb\": \"https%3A%2F%2Fsearch.pstatic.net%2Fsunny%2F%3Fsrc%3Dhttps%253A%252F%252Fi.pinimg.com%252Foriginals%252Fbc%252F43%252F07%252Fbc4307a7ee84a14d686b5fc44845d500.jpg%26type%3Dsc960_832\", \"imgId\":\"image_sas%3Awebhttps%3A%2F%2Fwww.pinterest.com%2Fpin%2F547468898463794682%2F_1853459254\", \"orgWidth\":\"1500\", \"orgHeight\":\"1000\", \"thumbWidth\" : \"340\", \"thumbHeight\" : \"227\", \"thumb\":\"https%3A%2F%2Fsearch.pstatic.net%2Fsunny%2F%3Fsrc%3Dhttps%253A%252F%252Fi.pinimg.com%252Foriginals%252Fbc%252F43%252F07%252Fbc4307a7ee84a14d686b5fc44845d500.jpg%26type%3Da340\", \"originalUrl\":\"https%3A%2F%2Fi.pinimg.com%2Foriginals%2Fbc%2F43%2F07%2Fbc4307a7ee84a14d686b5fc44845d500.jpg\", \"title\":\"Pin%20von%20WE%20ARE%20K-POP%20auf%20Actor%20%EB%A5%98%EC%A4%80%EC%97%B4\", \"signature\": \"597573821551489\", \"color\" : \"%23DB9D8F\", \"profileImg\" : \"\", \"alphabet\" : \"P\", \"writerTitle\" : \"pinterest.com\", \"sid\" :\"\", \"nvmid\" : \"\", \"is_gif\":\"0\", \"articleid\":\"webhttps%3A%2F%2Fwww.pinterest.com%2Fpin%2F547468898463794682%2F\", \"zzim_info\":\"\", \"payType\":\"0\", \"displayPrice\":\"\", \"reviewCount\":\"\", \"keepCnt\":\"\", \"favicon\":\"\", \"cclType\": \"0\", \"time_str\": \"\", \"dateInfo\": \"2022.10.03.\", \"iconInfo\": \"\", \"parentid\":\"\", \"tld\":\"pinterest.com\", \"querySource\":\"%EB%A5%98%EC%A4%80%EC%97%B4\", \"sttData\": \"\", \"isReport\": \"1\" } , { \"type\":\"image\", \"crArea\": \"N\", \"rank\":\"47\", \"gdid\": \"news_c4cee7a3392dc8c650fa100d8219d688\", \"link\":\"http%3A%2F%2Fnews.naver.com%2Fmain%2Fread.naver%3Foid%3D609%26aid%3D0000603906\", \"source\":\"%ED%8F%AC%ED%86%A0%EB%89%B4%EC%8A%A4\", \"viewerThumb\": \"https%3A%2F%2Fsearch.pstatic.net%2Fcommon%2F%3Fsrc%3Dhttp%253A%252F%252Fimgnews.naver.net%252Fimage%252F609%252F2022%252F07%252F18%252F202207181954141810_1_20220718195502904.jpg%26type%3Dsc960_832\", \"lensThumb\": \"https%3A%2F%2Fsearch.pstatic.net%2Fcommon%2F%3Fsrc%3Dhttp%253A%252F%252Fimgnews.naver.net%252Fimage%252F609%252F2022%252F07%252F18%252F202207181954141810_1_20220718195502904.jpg%26type%3Dsc960_832\", \"imgId\":\"image_sas%3Anews6090000603906_993073245\", \"orgWidth\":\"650\", \"orgHeight\":\"946\", \"thumbWidth\" : \"340\", \"thumbHeight\" : \"495\", \"thumb\":\"https%3A%2F%2Fsearch.pstatic.net%2Fcommon%2F%3Fsrc%3Dhttp%253A%252F%252Fimgnews.naver.net%252Fimage%252F609%252F2022%252F07%252F18%252F202207181954141810_1_20220718195502904.jpg%26type%3Da340\", \"originalUrl\":\"http%3A%2F%2Fimgnews.naver.net%2Fimage%2F609%2F2022%2F07%2F18%2F202207181954141810_1_20220718195502904.jpg\", \"title\":\"%EB%A5%98%EC%A4%80%EC%97%B4%2C%20%E2%80%98%EC%99%B8%EA%B3%84%2B%EC%9D%B8%E2%80%99%20%ED%8C%8C%EC%9D%B4%ED%8C%85%21%5B%ED%8F%AC%ED%86%A0%EC%97%94HD%5D\", \"signature\": \"678462024617161\", \"color\" : \"%23DB9D8F\", \"profileImg\" : \"\", \"alphabet\" : \"N\", \"writerTitle\" : \"news.naver.com\", \"sid\" :\"\", \"nvmid\" : \"\", \"is_gif\":\"0\", \"articleid\":\"news6090000603906\", \"zzim_info\":\"\", \"payType\":\"0\", \"displayPrice\":\"\", \"reviewCount\":\"\", \"keepCnt\":\"\", \"favicon\":\"\", \"cclType\": \"0\", \"time_str\": \"\", \"dateInfo\": \"2022.07.18.\", \"iconInfo\": \"\", \"parentid\":\"\", \"tld\":\"news.naver.com\", \"querySource\":\"%EB%A5%98%EC%A4%80%EC%97%B4\", \"sttData\": \"\", \"isReport\": \"0\" } , { \"type\":\"image\", \"crArea\": \"N\", \"rank\":\"48\", \"gdid\": \"news_5bc445d74a3b4e3986572e1952d73100\", \"link\":\"http%3A%2F%2Fnews.naver.com%2Fmain%2Fread.naver%3Foid%3D382%26aid%3D0000951949\", \"source\":\"%ED%8F%AC%ED%86%A0%EB%89%B4%EC%8A%A4\", \"viewerThumb\": \"https%3A%2F%2Fsearch.pstatic.net%2Fcommon%2F%3Fsrc%3Dhttp%253A%252F%252Fimgnews.naver.net%252Fimage%252F382%252F2021%252F12%252F20%252F0000951949_003_20211220093701577.jpg%26type%3Dsc960_832\", \"lensThumb\": \"https%3A%2F%2Fsearch.pstatic.net%2Fcommon%2F%3Fsrc%3Dhttp%253A%252F%252Fimgnews.naver.net%252Fimage%252F382%252F2021%252F12%252F20%252F0000951949_003_20211220093701577.jpg%26type%3Dsc960_832\", \"imgId\":\"image_sas%3Anews3820000951949_1539589591\", \"orgWidth\":\"600\", \"orgHeight\":\"899\", \"thumbWidth\" : \"340\", \"thumbHeight\" : \"509\", \"thumb\":\"https%3A%2F%2Fsearch.pstatic.net%2Fcommon%2F%3Fsrc%3Dhttp%253A%252F%252Fimgnews.naver.net%252Fimage%252F382%252F2021%252F12%252F20%252F0000951949_003_20211220093701577.jpg%26type%3Da340\", \"originalUrl\":\"http%3A%2F%2Fimgnews.naver.net%2Fimage%2F382%2F2021%2F12%2F20%2F0000951949_003_20211220093701577.jpg\", \"title\":\"%EB%A5%98%EC%A4%80%EC%97%B4%20%EB%B0%B0%EC%9A%B0%E2%86%92%EC%82%AC%EC%A7%84%EA%B0%80%20%E2%80%9C%EC%A0%84%EC%8B%9C%20%EA%B3%A0%EB%A5%B4%EB%8A%94%20%EC%9D%BC%2C%20%EC%A6%90%EA%B2%81%EA%B3%A0%EB%8F%84%20%ED%9E%98%EB%93%A4%EC%96%B4%E2%80%9D%20%5B%ED%99%94%EB%B3%B4%5D\", \"signature\": \"966176486803951\", \"color\" : \"%23AAbDD0\", \"profileImg\" : \"\", \"alphabet\" : \"N\", \"writerTitle\" : \"news.naver.com\", \"sid\" :\"\", \"nvmid\" : \"\", \"is_gif\":\"0\", \"articleid\":\"news3820000951949\", \"zzim_info\":\"\", \"payType\":\"0\", \"displayPrice\":\"\", \"reviewCount\":\"\", \"keepCnt\":\"\", \"favicon\":\"\", \"cclType\": \"0\", \"time_str\": \"\", \"dateInfo\": \"2021.12.20.\", \"iconInfo\": \"\", \"parentid\":\"\", \"tld\":\"news.naver.com\", \"querySource\":\"%EB%A5%98%EC%A4%80%EC%97%B4\", \"sttData\": \"\", \"isReport\": \"0\" } , { \"type\":\"image\", \"crArea\": \"W\", \"rank\":\"49\", \"gdid\": \"web_513bfb376c3a634496a8fa84dcb5b11b\", \"link\":\"https%3A%2F%2Ftheqoo.net%2Fryujunyeol%2F2539103367\", \"source\":\"%EC%9B%B9\", \"viewerThumb\": \"https%3A%2F%2Fsearch.pstatic.net%2Fsunny%2F%3Fsrc%3Dhttps%253A%252F%252Fimg.theqoo.net%252Fimg%252FmfvoN.jpg%26type%3Dsc960_832\", \"lensThumb\": \"https%3A%2F%2Fsearch.pstatic.net%2Fsunny%2F%3Fsrc%3Dhttps%253A%252F%252Fimg.theqoo.net%252Fimg%252FmfvoN.jpg%26type%3Dsc960_832\", \"imgId\":\"image_sas%3Awebhttps%3A%2F%2Ftheqoo.net%2Fryujunyeol%2F2539103367_1362885431\", \"orgWidth\":\"1364\", \"orgHeight\":\"1819\", \"thumbWidth\" : \"340\", \"thumbHeight\" : \"453\", \"thumb\":\"https%3A%2F%2Fsearch.pstatic.net%2Fsunny%2F%3Fsrc%3Dhttps%253A%252F%252Fimg.theqoo.net%252Fimg%252FmfvoN.jpg%26type%3Da340\", \"originalUrl\":\"https%3A%2F%2Fimg.theqoo.net%2Fimg%2FmfvoN.jpg\", \"title\":\"%ED%99%94%EB%B3%B4%EB%B6%80%ED%84%B0%20%EC%B0%A8%EA%B7%BC%EC%B0%A8%EA%B7%BC%20%ED%95%98%EB%82%98%EC%94%A9%20%EC%A4%8D%EB%8A%94%20%EC%A4%91%EC%9D%B8%EB%8D%B0%20-%20%EB%A5%98%EC%A4%80%EC%97%B4%20%EC%B9%B4%ED%85%8C%EA%B3%A0%EB%A6%AC\", \"signature\": \"914381230096311\", \"color\" : \"%23BDB8CE\", \"profileImg\" : \"\", \"alphabet\" : \"T\", \"writerTitle\" : \"theqoo.net\", \"sid\" :\"\", \"nvmid\" : \"\", \"is_gif\":\"0\", \"articleid\":\"webhttps%3A%2F%2Ftheqoo.net%2Fryujunyeol%2F2539103367\", \"zzim_info\":\"\", \"payType\":\"0\", \"displayPrice\":\"\", \"reviewCount\":\"\", \"keepCnt\":\"\", \"favicon\":\"\", \"cclType\": \"0\", \"time_str\": \"\", \"dateInfo\": \"2022.08.04.\", \"iconInfo\": \"\", \"parentid\":\"\", \"tld\":\"theqoo.net\", \"querySource\":\"%EB%A5%98%EC%A4%80%EC%97%B4\", \"sttData\": \"\", \"isReport\": \"1\" } , { \"type\":\"image\", \"crArea\": \"N\", \"rank\":\"50\", \"gdid\": \"blog_cc762f75c0c7f20be75682e86bd4569f\", \"link\":\"https%3A%2F%2Fblog.naver.com%2Fniceguy00%2F222539417013\", \"source\":\"%EB%B8%94%EB%A1%9C%EA%B7%B8\", \"viewerThumb\": \"https%3A%2F%2Fsearch.pstatic.net%2Fcommon%2F%3Fsrc%3Dhttp%253A%252F%252Fblogfiles.naver.net%252FMjAyMjA2MjdfNTkg%252FMDAxNjU2MzM2NzE4NTgx.TG1KRp_MS7gxzSKAnYTh0aSOh9uC1nBOrWs3R6s525Ig.PMiMq1OYm9OW-86nkHZTVGnR_ao-F0zKBWoXwtlfcrkg.JPEG.niceguy00%252FSeul%2525C4%2525C4_%2525C4%2525DA%2525BD%2525BA%2525B8%2525F0BH_%2525B7%2525F9%2525C1%2525D8%2525BF%2525AD18.jpg%26type%3Dsc960_832\", \"lensThumb\": \"https%3A%2F%2Fsearch.pstatic.net%2Fcommon%2F%3Fsrc%3Dhttp%253A%252F%252Fblogfiles.naver.net%252FMjAyMjA2MjdfNTkg%252FMDAxNjU2MzM2NzE4NTgx.TG1KRp_MS7gxzSKAnYTh0aSOh9uC1nBOrWs3R6s525Ig.PMiMq1OYm9OW-86nkHZTVGnR_ao-F0zKBWoXwtlfcrkg.JPEG.niceguy00%252FSeul%2525C4%2525C4_%2525C4%2525DA%2525BD%2525BA%2525B8%2525F0BH_%2525B7%2525F9%2525C1%2525D8%2525BF%2525AD18.jpg%26type%3Dsc960_832\", \"imgId\":\"image_sas%3Ablog14589971%7C55%7C222539417013_864669835\", \"orgWidth\":\"1920\", \"orgHeight\":\"1080\", \"thumbWidth\" : \"340\", \"thumbHeight\" : \"191\", \"thumb\":\"https%3A%2F%2Fsearch.pstatic.net%2Fcommon%2F%3Fsrc%3Dhttp%253A%252F%252Fblogfiles.naver.net%252FMjAyMjA2MjdfNTkg%252FMDAxNjU2MzM2NzE4NTgx.TG1KRp_MS7gxzSKAnYTh0aSOh9uC1nBOrWs3R6s525Ig.PMiMq1OYm9OW-86nkHZTVGnR_ao-F0zKBWoXwtlfcrkg.JPEG.niceguy00%252FSeul%2525C4%2525C4_%2525C4%2525DA%2525BD%2525BA%2525B8%2525F0BH_%2525B7%2525F9%2525C1%2525D8%2525BF%2525AD18.jpg%26type%3Da340\", \"originalUrl\":\"http%3A%2F%2Fblogfiles.naver.net%2FMjAyMjA2MjdfNTkg%2FMDAxNjU2MzM2NzE4NTgx.TG1KRp_MS7gxzSKAnYTh0aSOh9uC1nBOrWs3R6s525Ig.PMiMq1OYm9OW-86nkHZTVGnR_ao-F0zKBWoXwtlfcrkg.JPEG.niceguy00%2FSeul%25C4%25C4_%25C4%25DA%25BD%25BA%25B8%25F0BH_%25B7%25F9%25C1%25D8%25BF%25AD18.jpg\", \"title\":\"%26lt%3B%EC%BB%B4%ED%93%A8%ED%84%B0%EB%B0%B0%EA%B2%BD%ED%99%94%EB%A9%B4%26gt%3B%20%EB%A5%98%EC%A4%80%EC%97%B4%20%EC%BD%94%EC%8A%A4%EB%AA%A8%ED%8F%B4%EB%A6%AC%ED%83%84%20%ED%99%94%EB%B3%B4%20%EB%B9%84%ED%95%98%EC%9D%B8%EB%93%9C%20%EC%BB%B4%ED%93%A8%ED%84%B0%EB%B0%94%ED%83%95%ED%99%94%EB%A9%B4_by.%EC%8A%AC%EC%A7%B1\", \"signature\": \"469412881159608\", \"color\" : \"%23B5B68F\", \"profileImg\" : \"https%3A%2F%2Fsearch.pstatic.net%2Fcommon%2F%3Fsrc%3Dhttp%253A%252F%252Fblogpfthumb.phinf.naver.net%252FMjAyMTA0MThfMTEx%252FMDAxNjE4NzM2NzQ2NTk5.cKkXIxtPuwPfZED2-Ya9hlZeVVf4koXA1FTt5u8TUkog.UAnSYydDzNuRYIVxCPj-iik6M0cGAF4NDFbuzF4vCeUg.PNG.niceguy00%252FprofileImage.png%26type%3Df80_80\", \"alphabet\" : \"B\", \"writerTitle\" : \"%EC%9D%B4%ED%8C%94%EC%B2%AD%EC%B6%98%20%ED%95%B4%ED%94%BC%EB%AA%A8%EB%93%9C%20SSeul%E2%99%A1%20%3AD\", \"sid\" :\"\", \"nvmid\" : \"\", \"is_gif\":\"0\", \"articleid\":\"blog14589971%7C55%7C222539417013\", \"zzim_info\":\"\", \"payType\":\"0\", \"displayPrice\":\"\", \"reviewCount\":\"\", \"keepCnt\":\"\", \"favicon\":\"\", \"cclType\": \"0\", \"time_str\": \"\", \"dateInfo\": \"2021.10.22.\", \"iconInfo\": \"\", \"parentid\":\"\", \"tld\":\"blog.naver.com\", \"querySource\":\"%EB%A5%98%EC%A4%80%EC%97%B4\", \"sttData\": \"\", \"isReport\": \"1\" } ]); keep.on({ \"create\": function($save){ var area = $save.data().area; tCR('a='+area+'.keep'); }, \"delete\": function($save){ var area = $save.data().area; tCR('a='+area+'.keepcncl'); }, \"shoppingCreate\": function($save){ var area = $save.data().area; tCR('a='+area+'.zzim'); }, \"shoppingDelete\": function($save){ var area = $save.data().area; tCR('a='+area+'.zzimcncl'); } }); controller.on({ \"viewerOpened\": function(e) { keep.check({btn: e.keep}); }, \"viewerChanged\": function(e) { keep.check({btn: e.keep}); }, \"viewerClosed\": function () { } }); }); }; var requirejs = naver.common.gv.REQUIRE_JS; naver.common.load_js(window.require ? null : requirejs, startApplication, true, 150); })(); </script> </div><div class=\"ly_dimmed\"></div> </div> </div><div class=\"_searchFooter\" id=\"footer\"> <div class=\"sub_pack_btm\"> <a class=\"top\" href=\"#\" onclick=\"window.scrollTo(0,0); document.querySelector('#wrap a').focus(); return false;\"><i class=\"spnew ico_top\">맨위로</i></a> </div> <div class=\"footer_group\"> <div class=\"footer_menu\"> <span class=\"inner\"><a class=\"link\" href=\"https://www.naver.com/more.html\" onclick=\"return goOtherCR(this, 'u='+urlencode(this.href)+'&amp;a=fot.sitemap&amp;r=&amp;i=');\" target=\"_blank\">전체서비스</a></span> <span class=\"inner\"><a class=\"link\" href=\"https://policy.naver.com/policy/service.html\" onclick=\"return goOtherCR(this, 'u='+urlencode(this.href)+'&amp;a=fot.policy&amp;r=&amp;i=');\" target=\"_blank\">이용약관</a></span> <span class=\"inner\"><a class=\"link\" href=\"https://policy.naver.com/policy/privacy.html\" onclick=\"return goOtherCR(this, 'u='+urlencode(this.href)+'&amp;a=fot.privacy&amp;r=&amp;i=');\" target=\"_blank\"><strong>개인정보처리방침</strong></a></span> <span class=\"inner\"><a class=\"link\" href=\"https://help.naver.com/support/alias/search/integration/integration_1.naver\" onclick=\"return goOtherCR(this, 'u='+urlencode(this.href)+'&amp;a=fot.help&amp;r=&amp;i=');\" target=\"_blank\">통합검색 고객센터</a></span> <span class=\"inner\"><a class=\"link\" href=\"https://www.navercorp.com/\" onclick=\"return goOtherCR(this, 'u='+urlencode(this.href)+'&amp;a=fot.nhn&amp;r=&amp;i=');\" target=\"_blank\"><i class=\"ico_footer_logo\">© NAVER Corp.</i></a></span> </div> </div> </div> <script type=\"text/javascript\"> /* [PR] 서비스에서 사용하는 클릭로그함수 설정 */ window.__atcmpCR = function(we, el, name, order, areaCode, rank) { var htAreaCode = __ghtAutoCompleteConfig[\"htAreaCode\"]; if (typeof htAreaCode[name] !== \"undefined\") { var areaCode = htAreaCode[name][0]; var rank = htAreaCode[name][1]; if (areaCode !== \"\") { tCR(\"a=\"+areaCode+\"&u=\"+urlencode(el.href)); /* clickcr(el, areaCode, rank, '', we); */ /* console.log(areaCode + rank); */ } } return false; }; /* [PR] 서비스별로 form submit 전에 처리해야하는 내용은 이곳에 작성해주세요. */ window.__atcmpSubmitBefore = function(elForm) { try { top.nx_form_submit(elForm); } catch (e) { try { nx_form_submit(elForm); } catch (e) {} } }; /* [PR] 각 서비스별 옵션 : 로그인여부는 pr에서 정의필요합니다. */ window.__ghtAutoCompleteConfig = { /* 자동완성 설정 (Top&Bottom) */ \"bLogin\" : false, /* 로그인 여부 */ \"sFromWhere\" : \"nx\", /* 검색 출처 (폼전송시 함께 전송) */ \"htApiUrl\" : { /* 자동완성 API 정보 */ \"sMyKeyword\" : 'https://s.search.naver.com/n/mykeyword/search', \"sAcKeyword\" : \"//ac.search.naver.com/nx/ac\", \"sAcAnsType\" : \"2\" /* 1 : 기존정답형만 lookup (탭검인 경우 1로 설정) */ }, \"ahtOption\": [ { \"sOrder\": \"asc\", /* 정렬방식 (asc/desc) */ \"sFormId\": \"nx_search_form\", /* 폼엘리먼트 ID */ \"sInputId\": \"nx_query\", /* 입력창 엘리먼트 ID */ \"sViewId\": \"nx_autoframe_top\", /* 자동완성 레이어 ID */ \"sViewToggleButtonId\": \"nautocomplete\" /* 레이어토글 버튼 ID */ } ], /* 서비스별 클릭영역코드 매핑정보 (sch.xxx: 검색창영역, sug.xxx: 자동완성 영역, sly.xxx: 최근 검색어 영역)*/ \"htAreaCode\": { \"expand\": ['sch.expand', '0'], /* 우측 역삼각형 펼침 */ \"close\": ['sch.close', '0'], /* 우측 역삼각형 접힘 */ \"ansdirect\": ['sug.ansdirect', ''], /* 정답형 바로가기 (엔터/클릭) */ \"sugoff\": ['sug.sugoff', ''], /* 자동완성 끄기 클릭 */ \"sugon\": ['sug.sugon', ''], /* 자동완성 켜기 클릭 */ \"plus.use\": ['sug.cxon', ''], /* 자동완성 플러스 사용 */ \"plus.unuse\": ['sug.cxoff', ''], /* 자동완성 플러스 사용안함 */ \"saveoff\": ['sug.saveoff', ''], /* 검색어저장 끄기 클릭 */ \"saveon\": ['sug.saveon', ''], /* 검색어저장 켜기 클릭 */ \"rx\": ['sly.rx', ''], /* 최근검색어 개별삭제 클릭 */ \"ralldel\": ['sly.ralldel', ''], /* 최근검색어 전체삭제 클릭 */ \"kwd.expand\": ['sug.plus', ''] /* ↖︎ 버튼 클릭 */ }, /* 서비스별 SM파라미터 매핑정보 * sm파라미터 추가시 https://oss.navercorp.com/sau-pc/naver_autocomplete/issues/19 확인 필요 */ \"htSmParam\" : { \"hty\" : 'tab_hty.top', /* sm 파라미터 초기값 */ \"htyb\" : 'tab_hty.btm', /* sm 파라미터 초기값(검색창 하단) */ \"hst\" : 'tab_sly.hst', /* 최근검색키워드 */ \"prefix\" : 'tab_sug', /* sm 파라미터 서비스별 prefix */ \"top\" : 'tab_sug.top', /* 자동완성키워드 */ \"btm\" : 'tab_sug.btm', /* 자동완성키워드 (역순) */ \"pat\" : 'tab_sug.pat', /* 자동완성키워드 (부분자동완성) */ \"mbk\" : 'tab_sug.mbk', /* 자동완성키워드 (오타교정자동완성) */ \"nlq\" : 'tab_sug.nlq', /* 자연어검색 */ \"asgl\" : 'tab_sug.asgl', /* 1국가번호 (한국 국가번호) */ \"asga\" : 'tab_sug.asga', /* 1국가번호 다른중복지역 */ \"aslt\" : 'tab_sug.aslt', /* 3로또당첨번호 */ \"aspl\" : 'tab_sug.aspl', /* 6연금복권당첨번호 */ \"astm\" : 'tab_sug.astm', /* 7영업시간 (신한은행 영업시간) */ \"ast\" : 'tab_sug.ast', /* 8전화번호 (국세청 전화번호) */ \"ase\" : 'tab_sug.ase', /* 9환율 (엔화환율) */ \"aswt\" : 'tab_sug.aswt', /* 10해외날씨 (일본날씨) */ \"asiw\" : \"tab_sug.asiw\", /* 11국내날씨 (서울날씨) */ \"asis\" : 'tab_sug.asis', /* 12올림픽순위 */ \"extension\" : 'tab_sug.search', /* 검색기반 자동완성 */ \"asct\" : \"tab_sug.asct\" /* 문맥검색키워드 */ } }; </script> <script type=\"text/javascript\"> /* 자동완성 객체 생성 (Top) */ new naver.common.atcmp.naver_web.Controller(__ghtAutoCompleteConfig).attach({ \"onOpen\": function(){ jQuery(\"#header_wrap .search_area\").addClass(\"type_write\"); }, \"onClose\": function(){ jQuery(\"#header_wrap .search_area\").removeClass(\"type_write\"); }, \"onSelect\": function(oCustomEvent) { __atcmpSubmitBefore(oCustomEvent.elForm); }, \"onClickLog\": function(oCustomEvent) { __atcmpCR(oCustomEvent.event, oCustomEvent.element, oCustomEvent.name, oCustomEvent.order, \"\", \"\"); } }); </script> <script> (function () { var startApplication = function () { var url = \"https://s.search.naver.com/n/responsive/v1?u=\" + encodeURIComponent(location.href) + \"&q=\" + window.headerfooter_query_encoded + \"&p=\" + encodeURIComponent(window.g_puid) + \"&sscode=\" + encodeURIComponent(window.g_ssc); naver.common.responsiveLog = new window.naver.common.ResponsiveLog(); naver.common.responsiveLog.init(url); }; startApplication(); })(); </script> <script> (function() { var startApplication = function () { var jsFile = \"https://ssl.pstatic.net/sstatic/au/module/keep/Controller_210512.js\"; var require = window.require.config({ \"context\": \"search_common_module\", \"paths\": { \"Keep\": jsFile.replace(/\\.js$/, \"\") } }); define(\"jquery\", [], function () { return jQuery; }); require([\"Keep\"], function (Controller) { var oSearchKeep = new Controller({ \"api\": { \"token\": \"https://apis.naver.com/naverSearchFe/naver_keep/naver_keep\", \"check\": \"https://apis.naver.com/naverSearchFe/naver_keep/v1_web_keep_check?type=bookmark&key={=url}\", \"create\": \"https://apis.naver.com/naverSearchFe/naver_keep/v1_web_bookmark_create\", \"delete\": \"https://apis.naver.com/naverSearchFe/naver_keep/v1_web_keep_delete\" }, \"loginUrl\": \"https://nid.naver.com/nidlogin.login?url={=location}\" }); oSearchKeep.on({ \"create\": function (we) { var crLog = we.data(\"cr-on\"); if (crLog) tCR(crLog); }, \"delete\": function (we) { var crLog = we.data(\"cr-off\"); if (crLog) tCR(crLog); }, \"showLayer\": function (we) { var crLog = we.data(\"cr-on\"); if (crLog) tCR(crLog); }, \"hideLayer\": function (we) { var crLog = we.data(\"cr-off\"); if (crLog) tCR(crLog); } }); window.naver.common.gv.searchKeep = oSearchKeep; }); }; naver.common.load_js(window.require ? null : naver.common.gv.REQUIRE_JS, startApplication, true, 150); })(); </script> <script> (function() { var jsFileURL = \"https://ssl.pstatic.net/sstatic/fe/sfe/search_video_player2/PcVideoPlayer2_220727.js\"; var jsLoadCallback = function() { var require = window.require.config({ \"context\": \"search_common_modules\", \"paths\": { \"VideoPlayer2\": jsFileURL.replace(/\\.js$/, \"\") } }); require([\"VideoPlayer2\"], function() { naver.common.VideoPlayer2.AD_SDK_JS = \"https://ssl.pstatic.net/tveta/libs/ssp-video/prod/ssp.web.sdk_2.3.0.js\"; }); }; var requirejs = naver.common.gv.REQUIRE_JS; naver.common.load_js(window.require ? null : requirejs, jsLoadCallback, true, 50); })(); </script> <script> (function() { var requirejs = naver.common.gv.REQUIRE_JS; var jsFileURL = \"https://ssl.pstatic.net/sstatic/fe/sfe/search_audio_player2/AudioPlayer2_220208.js\"; var jsLoadCallback = function() { var require = window.require.config({ \"context\": \"search_common_modules\", \"paths\": { \"AudioPlayer2\": jsFileURL.replace(/\\.js$/, \"\") } }); require([\"AudioPlayer2\"], function() { naver.common.AudioPlayer2.WEB_PLAYER_JS = \"https://static-audiop.pstatic.net/audiocloud-webplayercore/1.1.7.0/js/audiocloud_webplayer_core.js\"; }); }; naver.common.load_js(window.require ? null : requirejs, jsLoadCallback, true, 50); })(); </script> </div> <script type=\"text/javascript\"> (function() { var needFix = navigator.userAgent.toLowerCase().indexOf('webkit') > -1; d = document; if (!needFix || !d.querySelectorAll) return; var toArray = function(list){ var armap=[]; i=0; for(;i<list.length;++i){ armap.push(list[i]); } return Array.prototype.slice.call(armap, 0); } ; window.addEventListener('load', function() { toArray(d.querySelectorAll('#u_skip a')).forEach(function(el) { el.addEventListener('click', function() { var target = d.getElementById(this.href.split('#')[1]); oldTabIndex = target.getAttribute('tabindex'); oldOutlineWidth = d.defaultView.getComputedStyle(target, null).getPropertyValue('outline-width'); target.setAttribute('tabindex', 0); target.style.outlineWidth = 0; target.focus(); if (oldTabIndex === null) target.removeAttribute('tabindex'); else target.setAttribute('tabindex', oldTabIndex); }, false); }); }, false); })(); </script><script type=\"text/javascript\"> if(typeof nx_usain_beacon !== 'undefined') { nx_usain_beacon.add_tag(\"conn_._TLSv1.3_.:alpn.http/1.1\") ; $Fn(function () { nx_usain_beacon.send(); }).attach(window, \"load\") ; } </script></body> </html>"
      ]
     },
     "execution_count": 73,
     "metadata": {},
     "output_type": "execute_result"
    }
   ],
   "source": [
    "url = 'https://search.naver.com/search.naver?where=image&sm=tab_jum&query=류준열'\n",
    "\n",
    "html = requests.get(url).text\n",
    "soup = BeautifulSoup(html, 'html.parser')\n",
    "soup"
   ]
  },
  {
   "cell_type": "code",
   "execution_count": 74,
   "id": "78abe57f-6ea4-4472-974e-7d54ea00b318",
   "metadata": {},
   "outputs": [
    {
     "data": {
      "text/plain": [
       "[]"
      ]
     },
     "execution_count": 74,
     "metadata": {},
     "output_type": "execute_result"
    }
   ],
   "source": [
    "images = soup.find_all(class_ = '_image_listImage')\n",
    "images"
   ]
  },
  {
   "cell_type": "markdown",
   "id": "c4bff61c-55f2-4896-8526-af4cfcd72b8d",
   "metadata": {},
   "source": [
    "#### * selenium\n",
    "https://wikidocs.net/91474<br>\n",
    "\n",
    "* Selenium 라이브러리를 사용하는 이유\n",
    "1. 자바스크립트가 동적으로 만든 데이터를 크롤링 하기 위해\n",
    "2. 사이트의 다양한 HTML 요소에 클릭, 키보드 입력 등 이벤트를 주기 위해\n",
    "\n",
    "Selenium을 잘 활용하면, 평소에 반복적으로 하고 있는 웹상의 업무를 자동화할 수도 있다"
   ]
  },
  {
   "cell_type": "code",
   "execution_count": 75,
   "id": "201bfcc1-d725-494e-86e7-2e1bff4e77b1",
   "metadata": {
    "collapsed": true,
    "jupyter": {
     "outputs_hidden": true
    },
    "tags": []
   },
   "outputs": [
    {
     "name": "stdout",
     "output_type": "stream",
     "text": [
      "Requirement already satisfied: selenium in c:\\users\\admin\\anaconda3\\lib\\site-packages (4.5.0)\n",
      "Requirement already satisfied: trio-websocket~=0.9 in c:\\users\\admin\\anaconda3\\lib\\site-packages (from selenium) (0.9.2)\n",
      "Requirement already satisfied: urllib3[socks]~=1.26 in c:\\users\\admin\\anaconda3\\lib\\site-packages (from selenium) (1.26.9)\n",
      "Requirement already satisfied: trio~=0.17 in c:\\users\\admin\\anaconda3\\lib\\site-packages (from selenium) (0.22.0)\n",
      "Requirement already satisfied: certifi>=2021.10.8 in c:\\users\\admin\\anaconda3\\lib\\site-packages (from selenium) (2021.10.8)\n",
      "Requirement already satisfied: outcome in c:\\users\\admin\\anaconda3\\lib\\site-packages (from trio~=0.17->selenium) (1.2.0)\n",
      "Requirement already satisfied: async-generator>=1.9 in c:\\users\\admin\\anaconda3\\lib\\site-packages (from trio~=0.17->selenium) (1.10)\n",
      "Requirement already satisfied: attrs>=19.2.0 in c:\\users\\admin\\anaconda3\\lib\\site-packages (from trio~=0.17->selenium) (21.4.0)\n",
      "Requirement already satisfied: idna in c:\\users\\admin\\anaconda3\\lib\\site-packages (from trio~=0.17->selenium) (3.3)\n",
      "Requirement already satisfied: sortedcontainers in c:\\users\\admin\\anaconda3\\lib\\site-packages (from trio~=0.17->selenium) (2.4.0)\n",
      "Requirement already satisfied: exceptiongroup>=1.0.0rc9 in c:\\users\\admin\\anaconda3\\lib\\site-packages (from trio~=0.17->selenium) (1.0.0rc9)\n",
      "Requirement already satisfied: sniffio in c:\\users\\admin\\anaconda3\\lib\\site-packages (from trio~=0.17->selenium) (1.2.0)\n",
      "Requirement already satisfied: cffi>=1.14 in c:\\users\\admin\\anaconda3\\lib\\site-packages (from trio~=0.17->selenium) (1.15.0)\n",
      "Requirement already satisfied: pycparser in c:\\users\\admin\\anaconda3\\lib\\site-packages (from cffi>=1.14->trio~=0.17->selenium) (2.21)\n",
      "Requirement already satisfied: wsproto>=0.14 in c:\\users\\admin\\anaconda3\\lib\\site-packages (from trio-websocket~=0.9->selenium) (1.2.0)\n",
      "Requirement already satisfied: PySocks!=1.5.7,<2.0,>=1.5.6 in c:\\users\\admin\\anaconda3\\lib\\site-packages (from urllib3[socks]~=1.26->selenium) (1.7.1)\n",
      "Requirement already satisfied: h11<1,>=0.9.0 in c:\\users\\admin\\anaconda3\\lib\\site-packages (from wsproto>=0.14->trio-websocket~=0.9->selenium) (0.14.0)\n",
      "Note: you may need to restart the kernel to use updated packages.\n"
     ]
    }
   ],
   "source": [
    "pip install selenium"
   ]
  },
  {
   "cell_type": "code",
   "execution_count": 76,
   "id": "e6b49751-7c52-4678-9252-8502a4495a21",
   "metadata": {},
   "outputs": [],
   "source": [
    "import selenium"
   ]
  },
  {
   "cell_type": "code",
   "execution_count": 77,
   "id": "89888a78-bc64-4261-b991-d4c299cec1ed",
   "metadata": {},
   "outputs": [],
   "source": [
    "from selenium import webdriver"
   ]
  },
  {
   "cell_type": "code",
   "execution_count": 80,
   "id": "9e9d5527-debd-4fb4-aed4-b3f7658ceb00",
   "metadata": {},
   "outputs": [],
   "source": [
    "from urllib.request import urlopen, urlretrieve\n",
    "from urllib.parse import quote_plus"
   ]
  },
  {
   "cell_type": "markdown",
   "id": "77a5ca8c-3241-4733-b2f5-db82177e6b88",
   "metadata": {},
   "source": [
    "* Chrome driver 설치 : https://chromedriver.chromium.org/downloads<br>\n",
    "크롬 드라이버란 크롬 브라우저를 제어하기 위한 드라이버 이다.<br>\n",
    "크롬 외에도 IE, 파이어폭스등 다양한 브라우저도 가능하다"
   ]
  },
  {
   "cell_type": "code",
   "execution_count": 82,
   "id": "513dd773-883b-447d-8897-3c88f002a8cc",
   "metadata": {},
   "outputs": [
    {
     "name": "stderr",
     "output_type": "stream",
     "text": [
      "C:\\Users\\admin\\AppData\\Local\\Temp\\ipykernel_8484\\1887998922.py:1: DeprecationWarning: executable_path has been deprecated, please pass in a Service object\n",
      "  webdriver.Chrome(\"C:/Users/admin/chromedriver_win32/chromedriver.exe\")\n"
     ]
    },
    {
     "data": {
      "text/plain": [
       "<selenium.webdriver.chrome.webdriver.WebDriver (session=\"823338839f68350e3ff38abb7b661e16\")>"
      ]
     },
     "execution_count": 82,
     "metadata": {},
     "output_type": "execute_result"
    }
   ],
   "source": [
    "webdriver.Chrome(\"C:/Users/admin/chromedriver_win32/chromedriver.exe\")"
   ]
  },
  {
   "cell_type": "code",
   "execution_count": 83,
   "id": "80af2945-7f57-4c0e-8a7e-8b43e8d6eedb",
   "metadata": {},
   "outputs": [
    {
     "name": "stderr",
     "output_type": "stream",
     "text": [
      "C:\\Users\\admin\\AppData\\Local\\Temp\\ipykernel_8484\\169105465.py:1: DeprecationWarning: executable_path has been deprecated, please pass in a Service object\n",
      "  driver = webdriver.Chrome(\"C:/Users/admin/chromedriver_win32/chromedriver.exe\")\n"
     ]
    }
   ],
   "source": [
    "driver = webdriver.Chrome(\"C:/Users/admin/chromedriver_win32/chromedriver.exe\")\n",
    "driver.close()"
   ]
  },
  {
   "cell_type": "code",
   "execution_count": 85,
   "id": "9836e7af-f6ae-407e-bdad-8d471395c6e6",
   "metadata": {},
   "outputs": [
    {
     "data": {
      "text/plain": [
       "'https://search.naver.com/search.naver?where=image&sm=tab_jum&query=%EC%98%81%ED%99%94+%EC%98%AC%EB%B9%BC%EB%AF%B8'"
      ]
     },
     "execution_count": 85,
     "metadata": {},
     "output_type": "execute_result"
    }
   ],
   "source": [
    "url1 = 'https://search.naver.com/search.naver?where=image&sm=tab_jum&query='\n",
    "url2 = quote_plus(\"영화 올빼미\")     #quote_plus( ) : 한글을 처리해주는 함수\n",
    "url = url1 + url2\n",
    "url"
   ]
  },
  {
   "cell_type": "code",
   "execution_count": 87,
   "id": "ad495da7-4315-4c5d-b0df-233445cb9982",
   "metadata": {},
   "outputs": [
    {
     "name": "stderr",
     "output_type": "stream",
     "text": [
      "C:\\Users\\admin\\AppData\\Local\\Temp\\ipykernel_8484\\1231667478.py:1: DeprecationWarning: executable_path has been deprecated, please pass in a Service object\n",
      "  driver = webdriver.Chrome(\"C:/Users/admin/chromedriver_win32/chromedriver.exe\")\n"
     ]
    }
   ],
   "source": [
    "driver = webdriver.Chrome(\"C:/Users/admin/chromedriver_win32/chromedriver.exe\")\n",
    "driver.get(url)"
   ]
  },
  {
   "cell_type": "code",
   "execution_count": 89,
   "id": "092d628d-033c-4b69-8ad9-fd0bc22e2ae4",
   "metadata": {},
   "outputs": [
    {
     "name": "stderr",
     "output_type": "stream",
     "text": [
      "C:\\Users\\admin\\AppData\\Local\\Temp\\ipykernel_8484\\3691249772.py:1: DeprecationWarning: executable_path has been deprecated, please pass in a Service object\n",
      "  driver = webdriver.Chrome(\"C:/Users/admin/chromedriver_win32/chromedriver.exe\")\n"
     ]
    },
    {
     "data": {
      "text/plain": [
       "'<html><head></head><body></body></html>'"
      ]
     },
     "execution_count": 89,
     "metadata": {},
     "output_type": "execute_result"
    }
   ],
   "source": [
    "driver = webdriver.Chrome(\"C:/Users/admin/chromedriver_win32/chromedriver.exe\")\n",
    "html = driver.page_source\n",
    "html"
   ]
  },
  {
   "cell_type": "markdown",
   "id": "f3b0e494-8ebd-426e-a96a-6d76161bb3d0",
   "metadata": {},
   "source": [
    "driver.get(url) 과 driver.page_source 는 한 셀 안에 입력하지 않는다<br>\n",
    "driver.get(url)이 url을 다 받아오기 전에 driver.page_source 이 먼저 실행이 다 되어 버릴 수 있다"
   ]
  },
  {
   "cell_type": "code",
   "execution_count": 92,
   "id": "67cff241-16f2-49d7-9430-4391588010e8",
   "metadata": {},
   "outputs": [
    {
     "name": "stderr",
     "output_type": "stream",
     "text": [
      "C:\\Users\\admin\\AppData\\Local\\Temp\\ipykernel_8484\\71269676.py:1: DeprecationWarning: executable_path has been deprecated, please pass in a Service object\n",
      "  driver = webdriver.Chrome(\"C:/Users/admin/chromedriver_win32/chromedriver.exe\")\n"
     ]
    },
    {
     "data": {
      "text/plain": [
       "<html><head></head><body></body></html>"
      ]
     },
     "execution_count": 92,
     "metadata": {},
     "output_type": "execute_result"
    }
   ],
   "source": [
    "driver = webdriver.Chrome(\"C:/Users/admin/chromedriver_win32/chromedriver.exe\")\n",
    "soup = BeautifulSoup(html, 'html.parser')\n",
    "soup"
   ]
  },
  {
   "cell_type": "code",
   "execution_count": 94,
   "id": "e31865f0-7337-41fb-937b-f1faa21f2c07",
   "metadata": {},
   "outputs": [
    {
     "data": {
      "text/plain": [
       "[]"
      ]
     },
     "execution_count": 94,
     "metadata": {},
     "output_type": "execute_result"
    }
   ],
   "source": [
    "images = soup.find_all(class_ = '_image _listImage')\n",
    "images"
   ]
  },
  {
   "cell_type": "code",
   "execution_count": 96,
   "id": "cf03fd68-ccc2-4638-a409-2957d8d13f77",
   "metadata": {},
   "outputs": [],
   "source": [
    "for image in images:\n",
    "    #print(image.text, ':', image.attrs['src'])\n",
    "    print(image['src'])"
   ]
  },
  {
   "cell_type": "code",
   "execution_count": 97,
   "id": "72e66624-7522-4856-8771-3384132af9d3",
   "metadata": {},
   "outputs": [],
   "source": [
    "count = 0\n",
    "\n",
    "for image in images:\n",
    "    #print(image.text, ':', image.attrs['src'])\n",
    "    with urlopen(image['src']) as f:\n",
    "        with open(f\"./#images/{count}.jpg\", 'wb') as h:\n",
    "            image_data = f.read()    #데이터 저장\n",
    "            h.write(image_data)\n",
    "            \n",
    "            count += 1"
   ]
  },
  {
   "cell_type": "markdown",
   "id": "d49a18e5-831a-4aef-a9ea-02339b312784",
   "metadata": {},
   "source": [
    "#### * 이미지 저장에 특화된 함수 - urlretrieve\n",
    "urllib.request.urlopen( ),  이미지를 받아오는 함수"
   ]
  },
  {
   "cell_type": "code",
   "execution_count": null,
   "id": "810769d3-1071-4a92-9176-05a349f0e308",
   "metadata": {},
   "outputs": [],
   "source": [
    "count = 0\n",
    "\n",
    "for image in images:\n",
    "    urlretrieve(image['src'], f\"./#images/{count}.jpg\")\n",
    "    count += 1\n"
   ]
  },
  {
   "cell_type": "markdown",
   "id": "e74c5d98-a951-4ac6-b246-775a4b066bdd",
   "metadata": {},
   "source": [
    "### * 최소 코드\n",
    "driver.get(url) 과 driver.page_source 는 한 셀 안에 입력하지 않는다<br>\n",
    "driver.get(url)이 url을 다 받아오기 전에 driver.page_source 이 먼저 실행이 다 되어 버릴 수 있다<br>\n",
    "--> time.sleep() 을 이용하여 실행될 시간을 준다"
   ]
  },
  {
   "cell_type": "code",
   "execution_count": null,
   "id": "2b12833d-0b8c-492f-ac4b-3ee6feb98c34",
   "metadata": {},
   "outputs": [],
   "source": [
    "import time"
   ]
  },
  {
   "cell_type": "code",
   "execution_count": null,
   "id": "f9d71c04-4636-4882-a842-45915ffc820b",
   "metadata": {},
   "outputs": [],
   "source": [
    "driver = webdriver.Chrome(\"C:/Users/admin/chromedriver_win32/chromedriver.exe\")\n",
    "\n",
    "url1 = 'https://search.naver.com/search.naver?where=image&sm=tab_jum&query='\n",
    "url2 = quote_plus(\"블랙핑크\")    #quote_plus( ) : 한글을 처리해주는 함수\n",
    "url = url1 + url2\n",
    "\n",
    "driver.get(url)\n",
    "time.sleep(5)     #무조건 5초는 기다리기\n",
    "#tiem.implicitly_wait(10)    #최대 10초까지 기다리기\n",
    "\n",
    "html = driver.page_source\n",
    "driver.close()    #driver 끄기\n",
    "\n",
    "soup = BeautifulSoup(html, 'html.parser')\n",
    "images = soup.find_all(class_ = '_image _listImage')\n",
    "\n",
    "count = 0\n",
    "for image in images:\n",
    "    urlretrieve(image['src'], f\"./#images/{count}.jpg\")\n",
    "    count += 1\n"
   ]
  }
 ],
 "metadata": {
  "kernelspec": {
   "display_name": "Python 3 (ipykernel)",
   "language": "python",
   "name": "python3"
  },
  "language_info": {
   "codemirror_mode": {
    "name": "ipython",
    "version": 3
   },
   "file_extension": ".py",
   "mimetype": "text/x-python",
   "name": "python",
   "nbconvert_exporter": "python",
   "pygments_lexer": "ipython3",
   "version": "3.9.12"
  }
 },
 "nbformat": 4,
 "nbformat_minor": 5
}
