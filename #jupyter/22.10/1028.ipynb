{
 "cells": [
  {
   "cell_type": "markdown",
   "id": "d4f5769a-d2ce-45d0-a9f9-702eb5a1ecd4",
   "metadata": {
    "tags": []
   },
   "source": [
    "### 1027"
   ]
  },
  {
   "cell_type": "code",
   "execution_count": null,
   "id": "24f45f32-04ad-467f-a80b-13bec41be659",
   "metadata": {},
   "outputs": [],
   "source": [
    "( requests , urllib.request ) 는 HTTP 요청을 보낼 수 있도록 기능을 제공하는 라이브러리 이다\n",
    "\n",
    "( BeautifulSoup ) 은 페이지의 정보를 쉽게 스크랩할 수 있도록 기능을 제공하는 라이브러리 이다\n",
    "\n",
    "( selenium ) 은 동적으로 변하는 웹 페이지의 데이터들까지 설정하여 크롤링할 수 있다"
   ]
  },
  {
   "cell_type": "code",
   "execution_count": null,
   "id": "5672af1b-b2ac-4dfb-83fb-545a372a9179",
   "metadata": {},
   "outputs": [],
   "source": [
    "URL 처리 시 한글이 포함되어 있는 경우, 한글 깨짐 현상을 방지해주는 함수는?\n",
    "--> quote_plus() / from urllib.parse import quote_plus"
   ]
  },
  {
   "cell_type": "code",
   "execution_count": null,
   "id": "c990ba90-2008-4f7d-9951-a8dbd73ea6c2",
   "metadata": {},
   "outputs": [],
   "source": [
    "로봇으로 요청했을 경우, 정보를 주지 않는 사이트도 있다\n",
    "웹브라우저 정보를 header 에 담아 보낼때 사용되는 정보는?\n",
    "--> { 'User-Agent' : }"
   ]
  },
  {
   "cell_type": "code",
   "execution_count": null,
   "id": "9aac5857-1e4b-40a0-bf6d-68bfb2f22073",
   "metadata": {},
   "outputs": [],
   "source": [
    "request.urlopen(url).read()\n",
    "requests.get(url).text"
   ]
  },
  {
   "cell_type": "code",
   "execution_count": null,
   "id": "99bc056d-8c4e-48aa-a7c2-e4be85ee084a",
   "metadata": {},
   "outputs": [],
   "source": [
    "html : HyperText Markup Language"
   ]
  },
  {
   "cell_type": "code",
   "execution_count": null,
   "id": "850a7b55-45ec-459e-8a2e-e723cad5121b",
   "metadata": {},
   "outputs": [],
   "source": [
    "HTML 에서 페이지 이동 시 url(또는 uri) 에 데이터를 포함하여 전달해서 쓰는 방식을 ( get ) 방식이라 한다"
   ]
  },
  {
   "cell_type": "code",
   "execution_count": null,
   "id": "ee467b3a-de9e-4865-8844-e83128360308",
   "metadata": {},
   "outputs": [],
   "source": [
    "soup.find_all(class_ = \"tit_main fn_tit_u\") 와 같은 의미의 다른 함수는?\n",
    "--> soup.select(\".tit_main.fn_tit_u\")"
   ]
  },
  {
   "cell_type": "markdown",
   "id": "0fbfab25-5b83-4f90-adf6-dd9328e06197",
   "metadata": {},
   "source": [
    "### 1028"
   ]
  },
  {
   "cell_type": "markdown",
   "id": "cbbbe585-a061-4d3f-8697-e57d654046e2",
   "metadata": {},
   "source": [
    "## 크롤링 (3)"
   ]
  },
  {
   "cell_type": "markdown",
   "id": "18422756-70f8-4ed6-803a-9dd8327c38fc",
   "metadata": {},
   "source": [
    "### < 대한민국의 역대 대통령 목록 >"
   ]
  },
  {
   "cell_type": "markdown",
   "id": "637325ba-e522-4616-863a-ef69c481ea5c",
   "metadata": {},
   "source": [
    "#### * 역대 대통령 목록에서 이름만 추출"
   ]
  },
  {
   "cell_type": "code",
   "execution_count": 1,
   "id": "bd6ebfbe-a918-49d7-8056-308932817c4d",
   "metadata": {},
   "outputs": [],
   "source": [
    "import pandas as pd\n",
    "import numpy as np\n",
    "\n",
    "from urllib import request\n",
    "from bs4 import BeautifulSoup\n",
    "import requests"
   ]
  },
  {
   "cell_type": "code",
   "execution_count": 3,
   "id": "7f39f712-68b8-407c-ab33-65124bdf09b2",
   "metadata": {},
   "outputs": [],
   "source": [
    "url = 'https://ko.wikipedia.org/wiki/%EB%8C%80%ED%95%9C%EB%AF%BC%EA%B5%AD%EC%9D%98_%EB%8C%80%ED%86%B5%EB%A0%B9_%EB%AA%A9%EB%A1%9D'"
   ]
  },
  {
   "cell_type": "code",
   "execution_count": 7,
   "id": "24d21914-6ddf-450a-bd2a-df28ae5f1205",
   "metadata": {
    "tags": []
   },
   "outputs": [],
   "source": [
    "#requests.get(url).text\n",
    "res = request.urlopen(url).read()\n",
    "soup = BeautifulSoup(res, 'html.parser')"
   ]
  },
  {
   "cell_type": "code",
   "execution_count": 28,
   "id": "758cb0da-7c06-414a-b2bb-1a9fe1d60208",
   "metadata": {},
   "outputs": [
    {
     "data": {
      "text/plain": [
       "[<a href=\"/wiki/%EC%9D%B4%EC%8A%B9%EB%A7%8C\" title=\"이승만\">이승만</a>,\n",
       " <a href=\"/wiki/%EC%9C%A4%EB%B3%B4%EC%84%A0\" title=\"윤보선\">윤보선</a>,\n",
       " <a href=\"/wiki/%EB%B0%95%EC%A0%95%ED%9D%AC\" title=\"박정희\">박정희</a>,\n",
       " <a href=\"/wiki/%EC%B5%9C%EA%B7%9C%ED%95%98\" title=\"최규하\">최규하</a>,\n",
       " <a href=\"/wiki/%EC%A0%84%EB%91%90%ED%99%98\" title=\"전두환\">전두환</a>,\n",
       " <a href=\"/wiki/%EB%85%B8%ED%83%9C%EC%9A%B0\" title=\"노태우\">노태우</a>,\n",
       " <a href=\"/wiki/%EA%B9%80%EC%98%81%EC%82%BC\" title=\"김영삼\">김영삼</a>,\n",
       " <a href=\"/wiki/%EA%B9%80%EB%8C%80%EC%A4%91\" title=\"김대중\">김대중</a>,\n",
       " <a href=\"/wiki/%EB%85%B8%EB%AC%B4%ED%98%84\" title=\"노무현\">노무현</a>,\n",
       " <a href=\"/wiki/%EC%9D%B4%EB%AA%85%EB%B0%95\" title=\"이명박\">이명박</a>,\n",
       " <a href=\"/wiki/%EB%B0%95%EA%B7%BC%ED%98%9C\" title=\"박근혜\">박근혜</a>,\n",
       " <a href=\"/wiki/%EB%AC%B8%EC%9E%AC%EC%9D%B8\" title=\"문재인\">문재인</a>,\n",
       " <a href=\"/wiki/%EC%9C%A4%EC%84%9D%EC%97%B4\" title=\"윤석열\">윤석열</a>]"
      ]
     },
     "execution_count": 28,
     "metadata": {},
     "output_type": "execute_result"
    }
   ],
   "source": [
    "#soup.find_all(class_ = \"wikitable\").find_all('b')\n",
    "soup.select(selector = \"#mw-content-text > div.mw-parser-output > table:nth-child(6) > tbody > tr:nth-child(3) > td:nth-child(3) > b > a\")\n",
    "soup.select(selector = \"td > b > a\")"
   ]
  },
  {
   "cell_type": "code",
   "execution_count": 29,
   "id": "b0036ed9-4be7-42fd-a277-f5fd10b115c0",
   "metadata": {},
   "outputs": [
    {
     "data": {
      "text/plain": [
       "['이승만',\n",
       " '윤보선',\n",
       " '박정희',\n",
       " '최규하',\n",
       " '전두환',\n",
       " '노태우',\n",
       " '김영삼',\n",
       " '김대중',\n",
       " '노무현',\n",
       " '이명박',\n",
       " '박근혜',\n",
       " '문재인',\n",
       " '윤석열']"
      ]
     },
     "execution_count": 29,
     "metadata": {},
     "output_type": "execute_result"
    }
   ],
   "source": [
    "names = soup.select(selector = \"td > b > a\")\n",
    "[name.attrs['title'] for name in names]"
   ]
  },
  {
   "cell_type": "markdown",
   "id": "37240296-22c4-442b-b334-80096f537699",
   "metadata": {},
   "source": [
    "### < 온라인 사이트에 로그인 하기 >"
   ]
  },
  {
   "cell_type": "code",
   "execution_count": 2,
   "id": "ba148f8a-c467-4056-b891-ebd7bb6e4b8a",
   "metadata": {},
   "outputs": [],
   "source": [
    "import requests\n",
    "from bs4 import BeautifulSoup\n",
    "from selenium import webdriver\n",
    "from urllib.request import urlopen\n",
    "from urllib.parse import quote_plus"
   ]
  },
  {
   "cell_type": "code",
   "execution_count": 5,
   "id": "89e2bd91-5276-43ba-be85-4d5a034e0353",
   "metadata": {
    "tags": []
   },
   "outputs": [],
   "source": [
    "from selenium.webdriver.common.by import By"
   ]
  },
  {
   "cell_type": "markdown",
   "id": "0dcbe5e9-d220-400d-a913-0a99f1b18d2c",
   "metadata": {},
   "source": [
    "* find_element By 사용<br>\n",
    "https://pythonblog.co.kr/coding/23/"
   ]
  },
  {
   "cell_type": "markdown",
   "id": "d8116ae7-c802-48a2-a132-ae95e6883628",
   "metadata": {
    "tags": []
   },
   "source": [
    "#### * Naver\n",
    "find_element : https://selenium-python.readthedocs.io/locating-elements.html"
   ]
  },
  {
   "cell_type": "code",
   "execution_count": 3,
   "id": "62921d3e-c8ee-46b3-8c28-b3442e99f119",
   "metadata": {},
   "outputs": [
    {
     "name": "stderr",
     "output_type": "stream",
     "text": [
      "C:\\Users\\admin\\AppData\\Local\\Temp\\ipykernel_8988\\2422535029.py:1: DeprecationWarning: executable_path has been deprecated, please pass in a Service object\n",
      "  driver = webdriver.Chrome(\"C:/Users/admin/#jupyter/1027/chromedriver.exe\")\n"
     ]
    }
   ],
   "source": [
    "driver = webdriver.Chrome(\"C:/Users/admin/#jupyter/1027/chromedriver.exe\")\n",
    "#driver.get(\"https://www.daum.net\")"
   ]
  },
  {
   "cell_type": "code",
   "execution_count": 4,
   "id": "8cb6f8e3-15ae-4e8a-9319-e50f31f53561",
   "metadata": {},
   "outputs": [],
   "source": [
    "login_url = 'https://nid.naver.com/nidlogin.login?mode=form&url=https%3A%2F%2Fwww.naver.com'\n",
    "driver.get(login_url)"
   ]
  },
  {
   "cell_type": "code",
   "execution_count": 6,
   "id": "bfb2808d-911e-4baf-88df-386ecae02e7d",
   "metadata": {},
   "outputs": [],
   "source": [
    "#id 입력\n",
    "element = driver.find_element(By.ID, \"id\")    #id 입력칸 찾아가기\n",
    "element.clear()    #id 입력칸 지우기(깨끗하게 하기)\n",
    "element.send_keys(\"ghen125\")    #id 입력"
   ]
  },
  {
   "cell_type": "code",
   "execution_count": 7,
   "id": "00d10634-dd8e-4bee-aa1b-3bcac83949b3",
   "metadata": {},
   "outputs": [],
   "source": [
    "#pw 입력\n",
    "element = driver.find_element(By.ID, \"pw\")\n",
    "element.clear()\n",
    "element.send_keys(\"aaa\")"
   ]
  },
  {
   "cell_type": "code",
   "execution_count": 9,
   "id": "f2f970f4-2d0a-4ceb-bd20-cdbd75d84b0e",
   "metadata": {},
   "outputs": [],
   "source": [
    "from selenium.webdriver.common.keys import Keys"
   ]
  },
  {
   "cell_type": "code",
   "execution_count": 10,
   "id": "b6ed2e31-1620-405e-8bd3-e1980960a9b2",
   "metadata": {},
   "outputs": [],
   "source": [
    "#엔터 키 누르기 (find_elements 에는 적용되지 않는다)\n",
    "element.send_keys(Keys.ENTER)"
   ]
  },
  {
   "cell_type": "code",
   "execution_count": 11,
   "id": "35625ced-c9fa-4b5e-a5ac-fc9fc0c8f6ef",
   "metadata": {},
   "outputs": [],
   "source": [
    "#클래스로 접근하여 id, pw 입력하기\n",
    "elements = driver.find_elements(By.CLASS_NAME, \"input_text\")\n",
    "elements[0].clear()\n",
    "elements[0].send_keys(\"ghen125\")\n",
    "\n",
    "elements[1].clear()\n",
    "elements[1].send_keys(\"asDFG\")"
   ]
  },
  {
   "cell_type": "code",
   "execution_count": 12,
   "id": "9edf7365-c956-4138-adef-c9bba851ffee",
   "metadata": {},
   "outputs": [
    {
     "data": {
      "text/plain": [
       "list"
      ]
     },
     "execution_count": 12,
     "metadata": {},
     "output_type": "execute_result"
    }
   ],
   "source": [
    "type(elements)"
   ]
  },
  {
   "cell_type": "code",
   "execution_count": 13,
   "id": "989fe8fb-4492-41e0-a635-4b7da73c7c57",
   "metadata": {},
   "outputs": [
    {
     "data": {
      "text/plain": [
       "[<selenium.webdriver.remote.webelement.WebElement (session=\"e9220dbbf191b47f76add0f3f5a2e1d5\", element=\"0bbadb6a-66b8-43ed-a79e-b2a0c12711bc\")>,\n",
       " <selenium.webdriver.remote.webelement.WebElement (session=\"e9220dbbf191b47f76add0f3f5a2e1d5\", element=\"52075951-395f-4b1e-a371-02a95c7f3bc4\")>,\n",
       " <selenium.webdriver.remote.webelement.WebElement (session=\"e9220dbbf191b47f76add0f3f5a2e1d5\", element=\"3e492cf8-9b92-4cf7-adf5-8c96d0583d89\")>,\n",
       " <selenium.webdriver.remote.webelement.WebElement (session=\"e9220dbbf191b47f76add0f3f5a2e1d5\", element=\"c48f5709-807d-42be-a572-8298e268f423\")>]"
      ]
     },
     "execution_count": 13,
     "metadata": {},
     "output_type": "execute_result"
    }
   ],
   "source": [
    "elements"
   ]
  },
  {
   "cell_type": "code",
   "execution_count": 15,
   "id": "45fc4c4f-02ba-4e9f-8377-23668c89aeda",
   "metadata": {},
   "outputs": [],
   "source": [
    "elements[0]\n",
    "elements[0].send_keys()"
   ]
  },
  {
   "cell_type": "code",
   "execution_count": 18,
   "id": "07124dc7-cbd5-48ec-808a-ccbad91dbb0b",
   "metadata": {},
   "outputs": [],
   "source": [
    "#클래스로 접근하여 id, pw 입력하기\n",
    "login_url = 'https://nid.naver.com/nidlogin.login?mode=form&url=https%3A%2F%2Fwww.naver.com'\n",
    "driver.get(login_url)\n",
    "\n",
    "elements = driver.find_elements(By.CLASS_NAME, \"input_text\")\n",
    "elements[0].clear()\n",
    "elements[0].send_keys(\"ghen125\")\n",
    "\n",
    "elements[1].clear()\n",
    "elements[1].send_keys(\"asDFG\")\n",
    "\n",
    "#새로 객체를 만들어 실행\n",
    "new_e = driver.find_element(By.CLASS_NAME, \"input_text\")\n",
    "new_e.send_keys(Keys.ENTER)"
   ]
  },
  {
   "cell_type": "markdown",
   "id": "03b6fc20-20a2-4369-957d-486869581e7e",
   "metadata": {
    "tags": []
   },
   "source": [
    "#### * Daum"
   ]
  },
  {
   "cell_type": "code",
   "execution_count": 38,
   "id": "1f9d0fe6-e2f4-409f-985a-161d8db1bc1c",
   "metadata": {},
   "outputs": [
    {
     "name": "stderr",
     "output_type": "stream",
     "text": [
      "C:\\Users\\admin\\AppData\\Local\\Temp\\ipykernel_7832\\2422535029.py:1: DeprecationWarning: executable_path has been deprecated, please pass in a Service object\n",
      "  driver = webdriver.Chrome(\"C:/Users/admin/#jupyter/1027/chromedriver.exe\")\n"
     ]
    }
   ],
   "source": [
    "driver = webdriver.Chrome(\"C:/Users/admin/#jupyter/1027/chromedriver.exe\")\n",
    "#driver.get(\"https://www.daum.net\")"
   ]
  },
  {
   "cell_type": "code",
   "execution_count": 11,
   "id": "0034ed44-a698-4824-a918-73ccefa49edd",
   "metadata": {},
   "outputs": [],
   "source": [
    "login_url = 'https://accounts.kakao.com/login?continue=https%3A%2F%2Flogins.daum.net%2Faccounts%2Fksso.do%3Frescue%3Dtrue%26url%3Dhttps%253A%252F%252Fwww.daum.net'\n",
    "driver.get(login_url)"
   ]
  },
  {
   "cell_type": "code",
   "execution_count": 14,
   "id": "5c791a2a-b5b3-4620-945b-ba0c0e3d3fed",
   "metadata": {
    "tags": []
   },
   "outputs": [],
   "source": [
    "#id 입력\n",
    "element = driver.find_element(By.ID, \"input-loginKey\")    #id 입력칸 찾아가기\n",
    "element.clear()    #id 입력칸 지우기(깨끗하게 하기)\n",
    "element.send_keys(\"ghen125@naver.com\")    #id 입력"
   ]
  },
  {
   "cell_type": "code",
   "execution_count": 15,
   "id": "0912be02-000a-4d4a-a555-80cc73120f3c",
   "metadata": {},
   "outputs": [],
   "source": [
    "#pw 입력\n",
    "element = driver.find_element(By.ID, \"input-password\")\n",
    "element.clear()\n",
    "element.send_keys(\"aaa\")"
   ]
  },
  {
   "cell_type": "code",
   "execution_count": 16,
   "id": "753b8337-ca92-4abd-9012-6327c0edce01",
   "metadata": {},
   "outputs": [],
   "source": [
    "#엔터 키 누르기\n",
    "element.send_keys(Keys.ENTER)"
   ]
  },
  {
   "cell_type": "code",
   "execution_count": null,
   "id": "9ae41a0d-be5e-4f64-b509-90679181a827",
   "metadata": {
    "tags": []
   },
   "outputs": [],
   "source": [
    "#클래스로 접근하여 id, pw 입력하기\n",
    "elements = driver.find_elements(By.CLASS_NAME, \"tf_g\")\n",
    "elements[0].clear()\n",
    "elements[0].send_keys(\"ghen125@naver.com\")\n",
    "\n",
    "elements[1].clear()\n",
    "elements[1].send_keys(\"asDFG\")"
   ]
  },
  {
   "cell_type": "markdown",
   "id": "6b9c29f3-c98c-4842-a20d-de426c3d76b1",
   "metadata": {
    "tags": []
   },
   "source": [
    "#### * Google\n",
    "https://velog.io/@bluejoyq/selenium%EC%9C%BC%EB%A1%9C-%EA%B5%AC%EA%B8%80-%EB%A1%9C%EA%B7%B8%EC%9D%B8%ED%95%98%EA%B8%B0"
   ]
  },
  {
   "cell_type": "code",
   "execution_count": 38,
   "id": "137dfff8-5720-4779-b39a-ecb826626e11",
   "metadata": {},
   "outputs": [
    {
     "name": "stderr",
     "output_type": "stream",
     "text": [
      "C:\\Users\\admin\\AppData\\Local\\Temp\\ipykernel_7832\\2422535029.py:1: DeprecationWarning: executable_path has been deprecated, please pass in a Service object\n",
      "  driver = webdriver.Chrome(\"C:/Users/admin/#jupyter/1027/chromedriver.exe\")\n"
     ]
    }
   ],
   "source": [
    "driver = webdriver.Chrome(\"C:/Users/admin/#jupyter/1027/chromedriver.exe\")\n",
    "#driver.get(\"https://www.daum.net\")"
   ]
  },
  {
   "cell_type": "code",
   "execution_count": 17,
   "id": "753e8c46-8bd5-479b-928d-609a3749a1e4",
   "metadata": {},
   "outputs": [],
   "source": [
    "login_url = 'https://accounts.google.com/ServiceLogin/signinchooser?ec=hpp_signin_001&flowName=GlifWebSignIn&flowEntry=ServiceLogin'\n",
    "driver.get(login_url)"
   ]
  },
  {
   "cell_type": "code",
   "execution_count": 20,
   "id": "cede320c-e31d-4d79-b62f-ecfa40593a08",
   "metadata": {
    "tags": []
   },
   "outputs": [],
   "source": [
    "#id 입력\n",
    "element = driver.find_element(By.ID, \"identifierId\")    #id 입력칸 찾아가기\n",
    "element.clear()    #id 입력칸 지우기(깨끗하게 하기)\n",
    "element.send_keys(\"yejiyu95@gmail.com\")    #id 입력"
   ]
  },
  {
   "cell_type": "code",
   "execution_count": 22,
   "id": "29b4367a-6bba-4c1b-9857-59c424a6e574",
   "metadata": {
    "collapsed": true,
    "jupyter": {
     "outputs_hidden": true
    },
    "tags": []
   },
   "outputs": [
    {
     "ename": "StaleElementReferenceException",
     "evalue": "Message: stale element reference: element is not attached to the page document\n  (Session info: chrome=107.0.5304.63)\nStacktrace:\nBacktrace:\n\tOrdinal0 [0x00C3ACD3+2075859]\n\tOrdinal0 [0x00BCEE61+1633889]\n\tOrdinal0 [0x00ACB7BD+571325]\n\tOrdinal0 [0x00ACE374+582516]\n\tOrdinal0 [0x00ACE225+582181]\n\tOrdinal0 [0x00ACE4C0+582848]\n\tOrdinal0 [0x00AFB673+767603]\n\tOrdinal0 [0x00AFB741+767809]\n\tOrdinal0 [0x00AF419E+737694]\n\tOrdinal0 [0x00B1731C+881436]\n\tOrdinal0 [0x00AF15BF+726463]\n\tOrdinal0 [0x00B17534+881972]\n\tOrdinal0 [0x00B2B56A+963946]\n\tOrdinal0 [0x00B17136+880950]\n\tOrdinal0 [0x00AEFEFD+720637]\n\tOrdinal0 [0x00AF0F3F+724799]\n\tGetHandleVerifier [0x00EEEED2+2769538]\n\tGetHandleVerifier [0x00EE0D95+2711877]\n\tGetHandleVerifier [0x00CCA03A+521194]\n\tGetHandleVerifier [0x00CC8DA0+516432]\n\tOrdinal0 [0x00BD682C+1665068]\n\tOrdinal0 [0x00BDB128+1683752]\n\tOrdinal0 [0x00BDB215+1683989]\n\tOrdinal0 [0x00BE6484+1729668]\n\tBaseThreadInitThunk [0x763DFA29+25]\n\tRtlGetAppContainerNamedObjectPath [0x775B7BBE+286]\n\tRtlGetAppContainerNamedObjectPath [0x775B7B8E+238]\n",
     "output_type": "error",
     "traceback": [
      "\u001b[1;31m---------------------------------------------------------------------------\u001b[0m",
      "\u001b[1;31mStaleElementReferenceException\u001b[0m            Traceback (most recent call last)",
      "Input \u001b[1;32mIn [22]\u001b[0m, in \u001b[0;36m<cell line: 2>\u001b[1;34m()\u001b[0m\n\u001b[0;32m      1\u001b[0m \u001b[38;5;66;03m#엔터 키 누르기\u001b[39;00m\n\u001b[1;32m----> 2\u001b[0m \u001b[43melement\u001b[49m\u001b[38;5;241;43m.\u001b[39;49m\u001b[43msend_keys\u001b[49m\u001b[43m(\u001b[49m\u001b[43mKeys\u001b[49m\u001b[38;5;241;43m.\u001b[39;49m\u001b[43mENTER\u001b[49m\u001b[43m)\u001b[49m\n",
      "File \u001b[1;32m~\\anaconda3\\lib\\site-packages\\selenium\\webdriver\\remote\\webelement.py:223\u001b[0m, in \u001b[0;36mWebElement.send_keys\u001b[1;34m(self, *value)\u001b[0m\n\u001b[0;32m    220\u001b[0m             remote_files\u001b[38;5;241m.\u001b[39mappend(\u001b[38;5;28mself\u001b[39m\u001b[38;5;241m.\u001b[39m_upload(file))\n\u001b[0;32m    221\u001b[0m         value \u001b[38;5;241m=\u001b[39m \u001b[38;5;124m'\u001b[39m\u001b[38;5;130;01m\\n\u001b[39;00m\u001b[38;5;124m'\u001b[39m\u001b[38;5;241m.\u001b[39mjoin(remote_files)\n\u001b[1;32m--> 223\u001b[0m \u001b[38;5;28;43mself\u001b[39;49m\u001b[38;5;241;43m.\u001b[39;49m\u001b[43m_execute\u001b[49m\u001b[43m(\u001b[49m\u001b[43mCommand\u001b[49m\u001b[38;5;241;43m.\u001b[39;49m\u001b[43mSEND_KEYS_TO_ELEMENT\u001b[49m\u001b[43m,\u001b[49m\n\u001b[0;32m    224\u001b[0m \u001b[43m              \u001b[49m\u001b[43m{\u001b[49m\u001b[38;5;124;43m'\u001b[39;49m\u001b[38;5;124;43mtext\u001b[39;49m\u001b[38;5;124;43m'\u001b[39;49m\u001b[43m:\u001b[49m\u001b[43m \u001b[49m\u001b[38;5;124;43m\"\u001b[39;49m\u001b[38;5;124;43m\"\u001b[39;49m\u001b[38;5;241;43m.\u001b[39;49m\u001b[43mjoin\u001b[49m\u001b[43m(\u001b[49m\u001b[43mkeys_to_typing\u001b[49m\u001b[43m(\u001b[49m\u001b[43mvalue\u001b[49m\u001b[43m)\u001b[49m\u001b[43m)\u001b[49m\u001b[43m,\u001b[49m\n\u001b[0;32m    225\u001b[0m \u001b[43m               \u001b[49m\u001b[38;5;124;43m'\u001b[39;49m\u001b[38;5;124;43mvalue\u001b[39;49m\u001b[38;5;124;43m'\u001b[39;49m\u001b[43m:\u001b[49m\u001b[43m \u001b[49m\u001b[43mkeys_to_typing\u001b[49m\u001b[43m(\u001b[49m\u001b[43mvalue\u001b[49m\u001b[43m)\u001b[49m\u001b[43m}\u001b[49m\u001b[43m)\u001b[49m\n",
      "File \u001b[1;32m~\\anaconda3\\lib\\site-packages\\selenium\\webdriver\\remote\\webelement.py:396\u001b[0m, in \u001b[0;36mWebElement._execute\u001b[1;34m(self, command, params)\u001b[0m\n\u001b[0;32m    394\u001b[0m     params \u001b[38;5;241m=\u001b[39m {}\n\u001b[0;32m    395\u001b[0m params[\u001b[38;5;124m'\u001b[39m\u001b[38;5;124mid\u001b[39m\u001b[38;5;124m'\u001b[39m] \u001b[38;5;241m=\u001b[39m \u001b[38;5;28mself\u001b[39m\u001b[38;5;241m.\u001b[39m_id\n\u001b[1;32m--> 396\u001b[0m \u001b[38;5;28;01mreturn\u001b[39;00m \u001b[38;5;28;43mself\u001b[39;49m\u001b[38;5;241;43m.\u001b[39;49m\u001b[43m_parent\u001b[49m\u001b[38;5;241;43m.\u001b[39;49m\u001b[43mexecute\u001b[49m\u001b[43m(\u001b[49m\u001b[43mcommand\u001b[49m\u001b[43m,\u001b[49m\u001b[43m \u001b[49m\u001b[43mparams\u001b[49m\u001b[43m)\u001b[49m\n",
      "File \u001b[1;32m~\\anaconda3\\lib\\site-packages\\selenium\\webdriver\\remote\\webdriver.py:429\u001b[0m, in \u001b[0;36mWebDriver.execute\u001b[1;34m(self, driver_command, params)\u001b[0m\n\u001b[0;32m    427\u001b[0m response \u001b[38;5;241m=\u001b[39m \u001b[38;5;28mself\u001b[39m\u001b[38;5;241m.\u001b[39mcommand_executor\u001b[38;5;241m.\u001b[39mexecute(driver_command, params)\n\u001b[0;32m    428\u001b[0m \u001b[38;5;28;01mif\u001b[39;00m response:\n\u001b[1;32m--> 429\u001b[0m     \u001b[38;5;28;43mself\u001b[39;49m\u001b[38;5;241;43m.\u001b[39;49m\u001b[43merror_handler\u001b[49m\u001b[38;5;241;43m.\u001b[39;49m\u001b[43mcheck_response\u001b[49m\u001b[43m(\u001b[49m\u001b[43mresponse\u001b[49m\u001b[43m)\u001b[49m\n\u001b[0;32m    430\u001b[0m     response[\u001b[38;5;124m'\u001b[39m\u001b[38;5;124mvalue\u001b[39m\u001b[38;5;124m'\u001b[39m] \u001b[38;5;241m=\u001b[39m \u001b[38;5;28mself\u001b[39m\u001b[38;5;241m.\u001b[39m_unwrap_value(\n\u001b[0;32m    431\u001b[0m         response\u001b[38;5;241m.\u001b[39mget(\u001b[38;5;124m'\u001b[39m\u001b[38;5;124mvalue\u001b[39m\u001b[38;5;124m'\u001b[39m, \u001b[38;5;28;01mNone\u001b[39;00m))\n\u001b[0;32m    432\u001b[0m     \u001b[38;5;28;01mreturn\u001b[39;00m response\n",
      "File \u001b[1;32m~\\anaconda3\\lib\\site-packages\\selenium\\webdriver\\remote\\errorhandler.py:243\u001b[0m, in \u001b[0;36mErrorHandler.check_response\u001b[1;34m(self, response)\u001b[0m\n\u001b[0;32m    241\u001b[0m         alert_text \u001b[38;5;241m=\u001b[39m value[\u001b[38;5;124m'\u001b[39m\u001b[38;5;124malert\u001b[39m\u001b[38;5;124m'\u001b[39m]\u001b[38;5;241m.\u001b[39mget(\u001b[38;5;124m'\u001b[39m\u001b[38;5;124mtext\u001b[39m\u001b[38;5;124m'\u001b[39m)\n\u001b[0;32m    242\u001b[0m     \u001b[38;5;28;01mraise\u001b[39;00m exception_class(message, screen, stacktrace, alert_text)  \u001b[38;5;66;03m# type: ignore[call-arg]  # mypy is not smart enough here\u001b[39;00m\n\u001b[1;32m--> 243\u001b[0m \u001b[38;5;28;01mraise\u001b[39;00m exception_class(message, screen, stacktrace)\n",
      "\u001b[1;31mStaleElementReferenceException\u001b[0m: Message: stale element reference: element is not attached to the page document\n  (Session info: chrome=107.0.5304.63)\nStacktrace:\nBacktrace:\n\tOrdinal0 [0x00C3ACD3+2075859]\n\tOrdinal0 [0x00BCEE61+1633889]\n\tOrdinal0 [0x00ACB7BD+571325]\n\tOrdinal0 [0x00ACE374+582516]\n\tOrdinal0 [0x00ACE225+582181]\n\tOrdinal0 [0x00ACE4C0+582848]\n\tOrdinal0 [0x00AFB673+767603]\n\tOrdinal0 [0x00AFB741+767809]\n\tOrdinal0 [0x00AF419E+737694]\n\tOrdinal0 [0x00B1731C+881436]\n\tOrdinal0 [0x00AF15BF+726463]\n\tOrdinal0 [0x00B17534+881972]\n\tOrdinal0 [0x00B2B56A+963946]\n\tOrdinal0 [0x00B17136+880950]\n\tOrdinal0 [0x00AEFEFD+720637]\n\tOrdinal0 [0x00AF0F3F+724799]\n\tGetHandleVerifier [0x00EEEED2+2769538]\n\tGetHandleVerifier [0x00EE0D95+2711877]\n\tGetHandleVerifier [0x00CCA03A+521194]\n\tGetHandleVerifier [0x00CC8DA0+516432]\n\tOrdinal0 [0x00BD682C+1665068]\n\tOrdinal0 [0x00BDB128+1683752]\n\tOrdinal0 [0x00BDB215+1683989]\n\tOrdinal0 [0x00BE6484+1729668]\n\tBaseThreadInitThunk [0x763DFA29+25]\n\tRtlGetAppContainerNamedObjectPath [0x775B7BBE+286]\n\tRtlGetAppContainerNamedObjectPath [0x775B7B8E+238]\n"
     ]
    }
   ],
   "source": [
    "#엔터 키 누르기\n",
    "element.send_keys(Keys.ENTER)"
   ]
  },
  {
   "cell_type": "code",
   "execution_count": 24,
   "id": "10d62fc5-a3ad-47b9-a80d-f97a922c76e5",
   "metadata": {},
   "outputs": [
    {
     "ename": "ModuleNotFoundError",
     "evalue": "No module named 'undetected_chromedriver'",
     "output_type": "error",
     "traceback": [
      "\u001b[1;31m---------------------------------------------------------------------------\u001b[0m",
      "\u001b[1;31mModuleNotFoundError\u001b[0m                       Traceback (most recent call last)",
      "Input \u001b[1;32mIn [24]\u001b[0m, in \u001b[0;36m<cell line: 3>\u001b[1;34m()\u001b[0m\n\u001b[0;32m      1\u001b[0m \u001b[38;5;28;01mfrom\u001b[39;00m \u001b[38;5;21;01mselenium\u001b[39;00m\u001b[38;5;21;01m.\u001b[39;00m\u001b[38;5;21;01mwebdriver\u001b[39;00m\u001b[38;5;21;01m.\u001b[39;00m\u001b[38;5;21;01msupport\u001b[39;00m\u001b[38;5;21;01m.\u001b[39;00m\u001b[38;5;21;01mui\u001b[39;00m \u001b[38;5;28;01mimport\u001b[39;00m WebDriverWait\n\u001b[0;32m      2\u001b[0m \u001b[38;5;28;01mfrom\u001b[39;00m \u001b[38;5;21;01mselenium\u001b[39;00m\u001b[38;5;21;01m.\u001b[39;00m\u001b[38;5;21;01mwebdriver\u001b[39;00m\u001b[38;5;21;01m.\u001b[39;00m\u001b[38;5;21;01msupport\u001b[39;00m \u001b[38;5;28;01mimport\u001b[39;00m expected_conditions \u001b[38;5;28;01mas\u001b[39;00m EC\n\u001b[1;32m----> 3\u001b[0m \u001b[38;5;28;01mimport\u001b[39;00m \u001b[38;5;21;01mundetected_chromedriver\u001b[39;00m \u001b[38;5;28;01mas\u001b[39;00m \u001b[38;5;21;01muc\u001b[39;00m\n",
      "\u001b[1;31mModuleNotFoundError\u001b[0m: No module named 'undetected_chromedriver'"
     ]
    }
   ],
   "source": [
    "from selenium.webdriver.support.ui import WebDriverWait\n",
    "from selenium.webdriver.support import expected_conditions as EC\n",
    "import undetected_chromedriver as uc"
   ]
  },
  {
   "cell_type": "code",
   "execution_count": 15,
   "id": "2ba61bee-d948-4c83-ae4e-25cdea89e1f7",
   "metadata": {},
   "outputs": [],
   "source": [
    "#pw 입력\n",
    "element = driver.find_element(By.ID, \"input-password\")\n",
    "element.clear()\n",
    "element.send_keys(\"aaa\")"
   ]
  },
  {
   "cell_type": "code",
   "execution_count": null,
   "id": "157b05c9-0e9b-4c9b-9069-04148a8ebd90",
   "metadata": {
    "tags": []
   },
   "outputs": [],
   "source": [
    "#클래스로 접근하여 id, pw 입력하기\n",
    "elements = driver.find_elements(By.CLASS_NAME, \"whsOnd zHQkBf\")\n",
    "elements[0].clear()\n",
    "elements[0].send_keys(\"yejiyu95@gmail.com\")\n",
    "\n",
    "elements[1].clear()\n",
    "elements[1].send_keys(\"asDFG\")"
   ]
  },
  {
   "cell_type": "markdown",
   "id": "e90ef3f3-a2a9-4b44-abbd-5d95e84b2a44",
   "metadata": {},
   "source": [
    "### < 쇼핑 목록 조회하기 (네이버 쇼핑) >"
   ]
  },
  {
   "cell_type": "code",
   "execution_count": 26,
   "id": "5145e86a-2baa-4533-95d4-8ce78c41fd19",
   "metadata": {},
   "outputs": [
    {
     "name": "stderr",
     "output_type": "stream",
     "text": [
      "C:\\Users\\admin\\AppData\\Local\\Temp\\ipykernel_8988\\245400418.py:2: DeprecationWarning: executable_path has been deprecated, please pass in a Service object\n",
      "  driver = webdriver.Chrome(\"C:/Users/admin/#jupyter/1027/chromedriver.exe\")\n"
     ]
    }
   ],
   "source": [
    "#클래스로 접근하여 id, pw 입력하기\n",
    "driver = webdriver.Chrome(\"C:/Users/admin/#jupyter/1027/chromedriver.exe\")\n",
    "login_url = 'https://nid.naver.com/nidlogin.login?mode=form&url=https%3A%2F%2Fwww.naver.com'\n",
    "driver.get(login_url)\n",
    "\n",
    "elements = driver.find_elements(By.CLASS_NAME, \"input_text\")\n",
    "elements[0].clear()\n",
    "elements[0].send_keys(\"ghen125\")\n",
    "\n",
    "elements[1].clear()\n",
    "elements[1].send_keys(\"asDFG\")\n",
    "\n",
    "#새로 객체를 만들어 실행\n",
    "new_e = driver.find_element(By.CLASS_NAME, \"input_text\")\n",
    "new_e.send_keys(Keys.ENTER)"
   ]
  },
  {
   "cell_type": "code",
   "execution_count": 27,
   "id": "34284448-ddcf-4c22-8151-27815ae222a6",
   "metadata": {},
   "outputs": [],
   "source": [
    "driver.get('https://order.pay.naver.com/home?tabMenu=SHOPPING')"
   ]
  },
  {
   "cell_type": "code",
   "execution_count": 28,
   "id": "85bc6a2f-65d6-40dc-8a6e-4ff0ee69e799",
   "metadata": {},
   "outputs": [
    {
     "data": {
      "text/plain": [
       "[<selenium.webdriver.remote.webelement.WebElement (session=\"6dec89d31ca11b9be003a26ea6a05c24\", element=\"ccfaeedb-a8dc-4dba-b3ae-e30904ac7277\")>,\n",
       " <selenium.webdriver.remote.webelement.WebElement (session=\"6dec89d31ca11b9be003a26ea6a05c24\", element=\"53c7a5ed-c4e0-49c8-9949-20d21147406c\")>,\n",
       " <selenium.webdriver.remote.webelement.WebElement (session=\"6dec89d31ca11b9be003a26ea6a05c24\", element=\"1de90283-3d06-4e8a-a865-ea5560e2dd9c\")>,\n",
       " <selenium.webdriver.remote.webelement.WebElement (session=\"6dec89d31ca11b9be003a26ea6a05c24\", element=\"a8e95797-edd0-466d-93df-74bcf3392d15\")>,\n",
       " <selenium.webdriver.remote.webelement.WebElement (session=\"6dec89d31ca11b9be003a26ea6a05c24\", element=\"427f3aee-4efe-427c-ade2-dd744bbdb59b\")>,\n",
       " <selenium.webdriver.remote.webelement.WebElement (session=\"6dec89d31ca11b9be003a26ea6a05c24\", element=\"88c39933-8793-4caa-b38f-d739f2d41a09\")>,\n",
       " <selenium.webdriver.remote.webelement.WebElement (session=\"6dec89d31ca11b9be003a26ea6a05c24\", element=\"49432115-3a78-459a-92ca-dd34c4030d34\")>,\n",
       " <selenium.webdriver.remote.webelement.WebElement (session=\"6dec89d31ca11b9be003a26ea6a05c24\", element=\"501c57e3-285f-4153-ae60-062856b078b1\")>,\n",
       " <selenium.webdriver.remote.webelement.WebElement (session=\"6dec89d31ca11b9be003a26ea6a05c24\", element=\"accda941-c210-49f0-a802-e48d7088954a\")>,\n",
       " <selenium.webdriver.remote.webelement.WebElement (session=\"6dec89d31ca11b9be003a26ea6a05c24\", element=\"808a810c-e3f5-449b-970e-06ffbd79dded\")>,\n",
       " <selenium.webdriver.remote.webelement.WebElement (session=\"6dec89d31ca11b9be003a26ea6a05c24\", element=\"9a934c3d-0992-438b-9895-11ba52da9b9e\")>,\n",
       " <selenium.webdriver.remote.webelement.WebElement (session=\"6dec89d31ca11b9be003a26ea6a05c24\", element=\"46e84dcd-420f-4ddd-8bdf-d5ad5f90127b\")>,\n",
       " <selenium.webdriver.remote.webelement.WebElement (session=\"6dec89d31ca11b9be003a26ea6a05c24\", element=\"d6fa017b-ca27-458c-a34f-e73294223fac\")>,\n",
       " <selenium.webdriver.remote.webelement.WebElement (session=\"6dec89d31ca11b9be003a26ea6a05c24\", element=\"e2f559a8-12c7-48c8-bdb0-d387344dd57b\")>,\n",
       " <selenium.webdriver.remote.webelement.WebElement (session=\"6dec89d31ca11b9be003a26ea6a05c24\", element=\"3f16f3bc-fcab-4b9d-8736-d2dbcc9a882e\")>,\n",
       " <selenium.webdriver.remote.webelement.WebElement (session=\"6dec89d31ca11b9be003a26ea6a05c24\", element=\"70957ff8-f689-4f15-a8c7-204504311db5\")>]"
      ]
     },
     "execution_count": 28,
     "metadata": {},
     "output_type": "execute_result"
    }
   ],
   "source": [
    "e = driver.find_elements(By.CLASS_NAME, \"name\")\n",
    "e"
   ]
  },
  {
   "cell_type": "code",
   "execution_count": 29,
   "id": "040b994d-785b-4459-9a2e-b884b6c70fc3",
   "metadata": {},
   "outputs": [
    {
     "name": "stdout",
     "output_type": "stream",
     "text": [
      "쇼퍼 자켓 ( 2colors )\n",
      "핸드워머 목폴라 티 ( 4colors )\n"
     ]
    }
   ],
   "source": [
    "for i in range(1, 3):\n",
    "    print(e[i].text)"
   ]
  },
  {
   "cell_type": "code",
   "execution_count": 30,
   "id": "98738d5c-6e41-45a8-bc67-fe9e424a9562",
   "metadata": {},
   "outputs": [],
   "source": [
    "e = driver.find_element(By.CSS_SELECTOR, \"#_rowLi20221026101617CHK2022102662425101 > div.goods_item > div > a.goods > p\")"
   ]
  },
  {
   "cell_type": "code",
   "execution_count": 31,
   "id": "aa4dbb2e-855b-4bce-8543-6f656f29f90d",
   "metadata": {},
   "outputs": [
    {
     "data": {
      "text/plain": [
       "'쇼퍼 자켓 ( 2colors )'"
      ]
     },
     "execution_count": 31,
     "metadata": {},
     "output_type": "execute_result"
    }
   ],
   "source": [
    "e.text"
   ]
  },
  {
   "cell_type": "code",
   "execution_count": 33,
   "id": "7e9aca53-7b4e-47e2-a80c-8977504faf07",
   "metadata": {
    "tags": []
   },
   "outputs": [
    {
     "data": {
      "text/plain": [
       "[<selenium.webdriver.remote.webelement.WebElement (session=\"6dec89d31ca11b9be003a26ea6a05c24\", element=\"53c7a5ed-c4e0-49c8-9949-20d21147406c\")>,\n",
       " <selenium.webdriver.remote.webelement.WebElement (session=\"6dec89d31ca11b9be003a26ea6a05c24\", element=\"1de90283-3d06-4e8a-a865-ea5560e2dd9c\")>,\n",
       " <selenium.webdriver.remote.webelement.WebElement (session=\"6dec89d31ca11b9be003a26ea6a05c24\", element=\"a8e95797-edd0-466d-93df-74bcf3392d15\")>,\n",
       " <selenium.webdriver.remote.webelement.WebElement (session=\"6dec89d31ca11b9be003a26ea6a05c24\", element=\"427f3aee-4efe-427c-ade2-dd744bbdb59b\")>,\n",
       " <selenium.webdriver.remote.webelement.WebElement (session=\"6dec89d31ca11b9be003a26ea6a05c24\", element=\"88c39933-8793-4caa-b38f-d739f2d41a09\")>,\n",
       " <selenium.webdriver.remote.webelement.WebElement (session=\"6dec89d31ca11b9be003a26ea6a05c24\", element=\"49432115-3a78-459a-92ca-dd34c4030d34\")>,\n",
       " <selenium.webdriver.remote.webelement.WebElement (session=\"6dec89d31ca11b9be003a26ea6a05c24\", element=\"501c57e3-285f-4153-ae60-062856b078b1\")>,\n",
       " <selenium.webdriver.remote.webelement.WebElement (session=\"6dec89d31ca11b9be003a26ea6a05c24\", element=\"accda941-c210-49f0-a802-e48d7088954a\")>,\n",
       " <selenium.webdriver.remote.webelement.WebElement (session=\"6dec89d31ca11b9be003a26ea6a05c24\", element=\"808a810c-e3f5-449b-970e-06ffbd79dded\")>,\n",
       " <selenium.webdriver.remote.webelement.WebElement (session=\"6dec89d31ca11b9be003a26ea6a05c24\", element=\"9a934c3d-0992-438b-9895-11ba52da9b9e\")>,\n",
       " <selenium.webdriver.remote.webelement.WebElement (session=\"6dec89d31ca11b9be003a26ea6a05c24\", element=\"46e84dcd-420f-4ddd-8bdf-d5ad5f90127b\")>,\n",
       " <selenium.webdriver.remote.webelement.WebElement (session=\"6dec89d31ca11b9be003a26ea6a05c24\", element=\"d6fa017b-ca27-458c-a34f-e73294223fac\")>,\n",
       " <selenium.webdriver.remote.webelement.WebElement (session=\"6dec89d31ca11b9be003a26ea6a05c24\", element=\"e2f559a8-12c7-48c8-bdb0-d387344dd57b\")>,\n",
       " <selenium.webdriver.remote.webelement.WebElement (session=\"6dec89d31ca11b9be003a26ea6a05c24\", element=\"3f16f3bc-fcab-4b9d-8736-d2dbcc9a882e\")>,\n",
       " <selenium.webdriver.remote.webelement.WebElement (session=\"6dec89d31ca11b9be003a26ea6a05c24\", element=\"70957ff8-f689-4f15-a8c7-204504311db5\")>]"
      ]
     },
     "execution_count": 33,
     "metadata": {},
     "output_type": "execute_result"
    }
   ],
   "source": [
    "e = driver.find_elements(By.CSS_SELECTOR, \"div > a.goods > p\")\n",
    "e"
   ]
  },
  {
   "cell_type": "code",
   "execution_count": 35,
   "id": "8177268c-a415-4aa0-96c8-da1b07436f8a",
   "metadata": {},
   "outputs": [
    {
     "name": "stdout",
     "output_type": "stream",
     "text": [
      "쇼퍼 자켓 ( 2colors )\n",
      "핸드워머 목폴라 티 ( 4colors )\n",
      "바게트 코듀로이 밴딩 롱 스커트 ( 3colors )\n",
      "핸드워머 목폴라 티 ( 4colors )\n",
      "핸드워머 목폴라 티 ( 4colors )\n",
      "핸드워머 목폴라 티 ( 4colors )\n",
      "핸드워머 목폴라 티 ( 4colors )\n",
      "[에바X슈레피] 심플 벗 밸런스드 크림 4차 마켓 OPEN !\n",
      "치히로 주름 밴딩 롱 스커트 ( 2colors )\n",
      "바이오워싱 컬러 긴팔 셔츠 ( 5colors )\n",
      "바이오워싱 컬러 긴팔 셔츠 ( 5colors )\n",
      "바이오워싱 컬러 긴팔 셔츠 ( 5colors )\n",
      "심플레트로 동그리 남녀공용 블루라이트차단 안경테\n",
      "펜슬마크 트위치 로고 티셔츠 아이보리 외 2건\n",
      "에바X슈레피 3차 마켓 OPEN !\n"
     ]
    }
   ],
   "source": [
    "for i in range(len(e)):\n",
    "    print(e[i].text)"
   ]
  },
  {
   "cell_type": "markdown",
   "id": "0972660d-74f2-4cc9-a60f-04aeef8ad383",
   "metadata": {},
   "source": [
    "### < 한빛 출판 로그인 후, 마일리지 확인하기 >"
   ]
  },
  {
   "cell_type": "code",
   "execution_count": 1,
   "id": "575305ce-ef71-4393-87d9-f1633eab7bdb",
   "metadata": {},
   "outputs": [],
   "source": [
    "import requests\n",
    "from bs4 import BeautifulSoup"
   ]
  },
  {
   "cell_type": "code",
   "execution_count": null,
   "id": "6e8c6420-82cb-4d8d-8880-102e69c853af",
   "metadata": {},
   "outputs": [],
   "source": [
    "#requests.get(\"https://www.hanbit.co.kr/member/login.html\")"
   ]
  },
  {
   "cell_type": "markdown",
   "id": "fdceaf27-4d71-47c5-a65c-e2d43b3961e8",
   "metadata": {},
   "source": [
    "#### ① 로그인\n",
    "* session() : 서브에 보관된 정보, 입력한 로그인 정보가 맞는지 확인할 때(?)<br>\n",
    "https://onaeonae1.tistory.com/m/67"
   ]
  },
  {
   "cell_type": "code",
   "execution_count": 3,
   "id": "ebea76e1-22d9-4966-8b46-21f7ad48f996",
   "metadata": {},
   "outputs": [
    {
     "name": "stdout",
     "output_type": "stream",
     "text": [
      "<class 'requests.sessions.Session'>\n"
     ]
    }
   ],
   "source": [
    "session = requests.session()\n",
    "print(type(session))"
   ]
  },
  {
   "cell_type": "code",
   "execution_count": 4,
   "id": "92b2f5f5-8aea-4188-b8f1-2a49537ed170",
   "metadata": {},
   "outputs": [
    {
     "data": {
      "text/plain": [
       "<Response [200]>"
      ]
     },
     "execution_count": 4,
     "metadata": {},
     "output_type": "execute_result"
    }
   ],
   "source": [
    "#아이디, 패스워드 입력 후 '로그인' 버튼을 누르면 입력한 아이디와 패스워드가 맞는지 확인하는 사이트\n",
    "url = \"https://www.hanbit.co.kr/member/login_proc.php\"\n",
    "session.post(url, {'m_id' : \"yejiyu95\", 'm_passwd' : \"aaaaa\"})    #id와 passwd 입력"
   ]
  },
  {
   "cell_type": "code",
   "execution_count": 5,
   "id": "24e4fd9e-993f-4f6c-8931-c4d3817f9026",
   "metadata": {},
   "outputs": [
    {
     "data": {
      "text/plain": [
       "<Response [200]>"
      ]
     },
     "execution_count": 5,
     "metadata": {},
     "output_type": "execute_result"
    }
   ],
   "source": [
    "session.get(\"https://www.hanbit.co.kr/myhanbit/myhanbit.html\")"
   ]
  },
  {
   "cell_type": "code",
   "execution_count": 6,
   "id": "22219dcf-8bfc-4aa6-b48c-c792f775586b",
   "metadata": {},
   "outputs": [
    {
     "data": {
      "text/plain": [
       "<bound method Response.raise_for_status of <Response [200]>>"
      ]
     },
     "execution_count": 6,
     "metadata": {},
     "output_type": "execute_result"
    }
   ],
   "source": [
    "resp = session.get(\"https://www.hanbit.co.kr/myhanbit/myhanbit.html\")\n",
    "resp.raise_for_status"
   ]
  },
  {
   "cell_type": "code",
   "execution_count": 7,
   "id": "03026e52-27dd-4e20-b668-729e4427e28c",
   "metadata": {
    "collapsed": true,
    "jupyter": {
     "outputs_hidden": true
    },
    "tags": []
   },
   "outputs": [
    {
     "data": {
      "text/plain": [
       "'<!DOCTYPE html>\\r\\n<html lang=\"ko\">\\r\\n<head>\\r\\n<!--[if lte IE 8]>\\r\\n<script>\\r\\n  location.replace(\\'/support/explorer_upgrade.html\\');\\r\\n</script>\\r\\n<![endif]-->\\r\\n<meta charset=\"utf-8\"/>\\r\\n<title>한빛출판네트워크</title>\\r\\n<link rel=\"shortcut icon\" href=\"https://www.hanbit.co.kr/images/common/hanbit.ico\"> \\r\\n<meta http-equiv=\"X-UA-Compatible\" content=\"IE=Edge\" />\\r\\n<meta property=\"og:type\" content=\"website\"/>\\r\\n<meta property=\"og:title\" content=\"한빛출판네트워크\"/>\\r\\n<meta property=\"og:description\" content=\"더 넓은 세상, 더 나은 미래를 위한 아시아 출판 네트워크 :: 한빛미디어, 한빛아카데미, 한빛비즈, 한빛라이프, 한빛에듀\"/>\\r\\n<meta property=\"og:image\" content=\"https://www.hanbit.co.kr/images/hanbitpubnet_logo.jpg\" />\\r\\n<meta property=\"og:url\" content=\"https://www.hanbit.co.kr/myhanbit/myhanbit.html\"/>\\r\\n<link rel=\"canonical\" href=\"https://www.hanbit.co.kr/myhanbit/myhanbit.html\" />\\r\\n<meta name=\"keywords\" content=\"한빛미디어,한빛아카데미,한빛비즈,한빛라이프,한빛에듀,리얼타임,대관서비스,책,출판사,IT전문서,IT활용서,대학교재,경제경영,어린이/유아,실용/여행,전자책,자격증,교육,세미나,강의,ebook,정보교과서\" />\\r\\n<meta name=\"description\" content=\"더 넓은 세상, 더 나은 미래를 위한 아시아 출판 네트워크 :: 한빛미디어, 한빛아카데미, 한빛비즈, 한빛라이프, 한빛에듀\" />\\r\\n<meta name=\"viewport\" content=\"width=device-width,initial-scale=1.0,minimum-scale=1.0,maximum-scale=1.0\">\\r\\n<meta name=\"viewport\" content=\"width=1260\">\\r\\n<meta name=\"apple-mobile-web-app-capable\" content=\"yes\" />\\r\\n<meta name=\"naver-site-verification\" content=\"01c29ed1852aecca7a48ac0c3e0869627bc512d8\"/>\\r\\n<link rel=\"stylesheet\" href=\"/css/common.css?20210603093421\" />\\r\\n<link href=\"/css/hover.css\" rel=\"stylesheet\" media=\"all\">\\r\\n<link rel=\"stylesheet\" href=\"/js/jquery.raty.css\" />\\r\\n<script type=\"text/javascript\" src=\"/js/jquery-latest.js\"></script>\\r\\n<script type=\"text/javascript\" src=\"/js/jquery-ui.js\"></script>\\r\\n<script type=\"text/javascript\" src=\"/js/jquery.event.drag-1.5.min.js\"></script>\\r\\n<script type=\"text/javascript\" src=\"/js/jquery.touchSlider.js\"></script>\\r\\n<script type=\"text/javascript\" src=\"/js/jquery.raty.js\"></script>\\r\\n<script type=\"text/javascript\" src=\"/js/main.js\"></script>\\r\\n<script type=\"text/javascript\" src=\"/lib/cheditor/cheditor.js\"></script>\\r\\n<script type=\"text/javascript\" src=\"/js/jquery.ui.datepicker-ko.js\"></script>\\r\\n<script type=\"text/javascript\" src=\"/js/engine.js\"></script>\\r\\n<script type=\"text/javascript\" src=\"/js/vue.js\"></script>\\r\\n\\r\\n<!-- Google Analytics -->\\r\\n<script>\\r\\n(function(i,s,o,g,r,a,m){i[\\'GoogleAnalyticsObject\\']=r;i[r]=i[r]||function(){\\r\\n(i[r].q=i[r].q||[]).push(arguments)},i[r].l=1*new Date();a=s.createElement(o),\\r\\nm=s.getElementsByTagName(o)[0];a.async=1;a.src=g;m.parentNode.insertBefore(a,m)\\r\\n})(window,document,\\'script\\',\\'//www.google-analytics.com/analytics.js\\',\\'ga\\');\\r\\nga(\\'create\\', \\'UA-47080738-1\\', \\'hanbit.co.kr\\');\\r\\nga(\\'require\\', \\'linkid\\', \\'linkid.js\\');\\r\\nga(\\'send\\', \\'pageview\\');\\r\\n</script>\\r\\n<!-- Google Analytics -->\\r\\n\\r\\n<!-- Facebook Pixel Code -->\\r\\n<script>\\r\\n  !function(f,b,e,v,n,t,s)\\r\\n  {if(f.fbq)return;n=f.fbq=function(){n.callMethod?\\r\\n  n.callMethod.apply(n,arguments):n.queue.push(arguments)};\\r\\n  if(!f._fbq)f._fbq=n;n.push=n;n.loaded=!0;n.version=\\'2.0\\';\\r\\n  n.queue=[];t=b.createElement(e);t.async=!0;\\r\\n  t.src=v;s=b.getElementsByTagName(e)[0];\\r\\n  s.parentNode.insertBefore(t,s)}(window, document,\\'script\\',\\r\\n  \\'https://connect.facebook.net/en_US/fbevents.js\\');\\r\\n  fbq(\\'init\\', \\'406459623338891\\');\\r\\n  fbq(\\'track\\', \\'PageView\\');\\r\\n</script>\\r\\n<noscript><img height=\"1\" width=\"1\" style=\"display:none\"\\r\\n  src=\"https://www.facebook.com/tr?id=406459623338891&ev=PageView&noscript=1\"\\r\\n/></noscript>\\r\\n<!-- End Facebook Pixel Code -->\\r\\n\\r\\n<!-- Google Tag Manager -->\\r\\n<script>(function(w,d,s,l,i){w[l]=w[l]||[];w[l].push({\\'gtm.start\\':\\r\\nnew Date().getTime(),event:\\'gtm.js\\'});var f=d.getElementsByTagName(s)[0],\\r\\nj=d.createElement(s),dl=l!=\\'dataLayer\\'?\\'&l=\\'+l:\\'\\';j.async=true;j.src=\\r\\n\\'https://www.googletagmanager.com/gtm.js?id=\\'+i+dl;f.parentNode.insertBefore(j,f);\\r\\n})(window,document,\\'script\\',\\'dataLayer\\',\\'GTM-W9D5PM3\\');</script>\\r\\n<!-- End Google Tag Manager -->\\r\\n\\r\\n<!-- Kakao Pixel Code -->\\r\\n<script type=\"text/javascript\" charset=\"UTF-8\" src=\"//t1.daumcdn.net/adfit/static/kp.js\"></script>\\r\\n<script type=\"text/javascript\">\\r\\n  kakaoPixel(\\'3011392806152551233\\').pageView();\\r\\n</script>\\r\\n<!-- //Kakao Pixel Code -->\\r\\n</head>\\r\\n<body>\\r\\n<!-- Google Tag Manager (noscript) -->\\r\\n<noscript><iframe src=\"https://www.googletagmanager.com/ns.html?id=GTM-W9D5PM3\"\\r\\nheight=\"0\" width=\"0\" style=\"display:none;visibility:hidden\"></iframe></noscript>\\r\\n<!-- End Google Tag Manager (noscript) -->\\r\\n<link rel=\"stylesheet\" href=\"/css/layout-hanbit.css?202206030909\" />\\r\\n<link rel=\"stylesheet\" href=\"/css/layout-member.css\" />\\r\\n<link rel=\"stylesheet\" href=\"/css/layout-network.css\" />\\r\\n<link rel=\"stylesheet\" href=\"/css/layout-store.css\" />\\r\\n<link rel=\"stylesheet\" href=\"/css/layout-myhanbit.css\" />\\r\\n<link rel=\"stylesheet\" href=\"/css/layout-event.css\" />\\r\\n<!-- 메뉴 바로가기 -->\\r\\n<div id=\"quick_skip_menu\">\\r\\n  <a href=\"#gnb\" onclick=\"document.getElementById(\\'gnb\\').tabIndex = -1;document.getElementById(\\'gnb\\').focus();return false;\"><span>메뉴 바로가기</span></a>\\r\\n  <a href=\"#top_search\" onclick=\"view_hover(\\'main_search_area\\',\\'\\',\\'show\\'), document.getElementById(\\'top_search\\').tabIndex = -1;document.getElementById(\\'top_search\\').focus();return false;\"><span>검색 및 카테고리 바로가기</span></a>\\r\\n    <a href=\"#container\" onclick=\"document.getElementById(\\'container\\').tabIndex = -1;document.getElementById(\\'container\\').focus();return false;\"><span>본문 바로가기</span></a>\\r\\n  </div>\\r\\n<!-- //메뉴 바로가기 -->\\r\\n\\r\\n<!-- header -->\\r\\n<header>\\r\\n  <!-- top menu -->\\r\\n    <nav>\\r\\n    <div id=\"wrap_nav\">\\r\\n      <ul class=\"top_brand\">\\r\\n        <li><a href=\"https://www.hanbit.co.kr/index.html\" name=\"hanbit_network\"><span>HOME</span></a></li>\\r\\n        <li><a href=\"https://www.hanbit.co.kr/media/\">한빛미디어</a></li>\\r\\n        <li><a href=\"https://www.hanbit.co.kr/academy/\">한빛아카데미</a></li>\\r\\n        <li><a href=\"https://www.hanbit.co.kr/biz/\">한빛비즈</a></li>\\r\\n        <li><a href=\"https://www.hanbit.co.kr/life/\">한빛라이프</a></li>\\r\\n        <li><a href=\"https://www.hanbit.co.kr/edu/\">한빛에듀</a></li>\\r\\n        <li><a href=\"https://www.hanbit.co.kr/realtime/\">리얼타임</a></li>\\r\\n        <li><a href=\"https://www.hanbit.co.kr/textbook/\" target=\"_blank\">한빛정보교과서</a></li>\\r\\n        <li><a href=\"https://www.hanbit.co.kr/rent/\" target=\"_blank\">한빛대관서비스</a></li>\\r\\n      </ul>\\r\\n      \\r\\n      <ul class=\"top_menu\">\\r\\n                <li><a href=\"https://www.hanbit.co.kr/member/login.html\" class=\"login\">로그인</a></li>\\r\\n        <li><a href=\"https://www.hanbit.co.kr/member/member_agree.html\" class=\"join\">회원가입</a></li>\\r\\n        <li><a href=\"https://www.hanbit.co.kr/myhanbit/myhanbit.html\" class=\"myhanbit\">마이한빛</a></li>\\r\\n        <li><a href=\"https://www.hanbit.co.kr/myhanbit/cart.html\" class=\"cart\">장바구니</a></li>\\r\\n                    <li class=\"top_menu_store\"><a href=\"https://www.hanbit.co.kr/publisher/foreignrights.html?lang=e\" target=\"_blank\">ENGLISH</a></li>\\r\\n      </ul>\\r\\n    </div>\\r\\n  </nav>\\r\\n  <!-- //top menu -->\\r\\n\\r\\n  <div id=\"wrap_gnb\">\\r\\n    <!-- logo -->\\r\\n    <h1><a href=\"https://www.hanbit.co.kr/index.html\">한빛출판네트워크</a></h1>\\r\\n    <!-- //logo -->\\r\\n\\r\\n    <!-- Menu -->\\r\\n    <div id=\"gnb\" name=\"gnb\">\\r\\n      <ul>\\r\\n        <li><a href=\"https://www.hanbit.co.kr/brand/brand_submain.html\" class=\"\">BRAND</a></li>\\r\\n        <li><a href=\"https://www.hanbit.co.kr/channel/channel_submain.html\" class=\"\">Channel.H</a></li>\\r\\n        <li><a href=\"https://www.hanbit.co.kr/store/store_submain.html\" class=\"\">STORE</a></li>\\r\\n        <li><a href=\"https://www.hanbit.co.kr/support/help_info.html\" class=\"\">SUPPORT</a></li>\\r\\n        <li><a href=\"https://www.hanbit.co.kr/event/current/current_event_list.html\" class=\"\">EVENT</a></li>\\r\\n        \\r\\n        <li><a href=\"https://www.hanbit.co.kr/publisher/foreignrights.html?lang=e\" class=\"\" target=\"_blank\">RIGHTS</a></li>\\r\\n        \\r\\n        <li id=\"top_search\" class=\"search\"><a href=\"javascript:;\" onClick=\"view_hover(\\'main_search_area\\',\\'\\',\\'show\\'); $(\\'#keyword_str\\').focus();\"><span>SEARCH</span></a></li>\\r\\n      </ul>\\r\\n    </div>\\r\\n    <!-- //Menu -->\\r\\n    \\r\\n    <!-- lnb -->\\r\\n    <div class=\"lnb\" style=\"top:92px;\">\\r\\n      <div class=\"lnb_area\">\\r\\n      <!-- BRAND -->\\r\\n                      </div>\\r\\n    </div>\\r\\n    <!--// lnb -->\\r\\n  </div>\\r\\n</header>\\r\\n<!-- //header -->\\r\\n\\r\\n<!-- 메인 검색 및 카테고리 영역 -->\\r\\n<div id=\"main_search_area\" class=\"fixed\" style=\"display:none;\">\\n  <div class=\"msa_wrap\">\\n\\n    <!-- 검색 -->\\n    <div class=\"msa_srch_wrap\">\\n      <form onsubmit=\"return false;\">\\n      <fieldset class=\"msa_srch_field\">\\n        <legend>한빛출판네트워크 검색</legend>\\n        <input title=\"검색어\" autocomplete=\"off\" class=\"srch_keyword\" accesskey=\"s\" type=\"text\" name=\"keyword_str\" id=\"keyword_str\" v-model=\"keyword\" @input=\"typeKeyword\">\\n        <input type=\"submit\" class=\"srch_btn\" style=\"cursor:pointer;\" @click=\"clickSearch\">\\n      </fieldset>\\n      </form>\\n    </div>\\n    <!-- //검색 -->\\n\\n    <!-- ① 인기검색어 -->\\n    <div class=\"msa_srch_polular\" v-if=\"showPopularKeyword === true\">\\n      <h2 class=\"tit\">인기 검색어 <span>(최근 1개월간)</span></h2>\\n        <div class=\"popula_box\">\\n          <ul class=\"left\">\\n            <li v-for=\"keyword in leftPopularKeywordList\">\\n              <a :class=\"keyword.bold\" @click=\"clickPopularKeyword(keyword)\">\\n                  {{ keyword.number }} {{ keyword.bookName }}\\n              </a>\\n            </li>\\n          </ul>\\n          <ul class=\"right\">\\n            <li v-for=\"keyword in rightPopularKeywordList\">\\n              <a :class=\"keyword.bold\" @click=\"clickPopularKeyword(keyword)\">\\n                  {{ keyword.number }} {{ keyword.bookName }}\\n              </a>\\n            </li>\\n          </ul>\\n        </div>\\n    </div>\\n    <!-- ① 인기검색어 -->\\n\\n    <!-- ② 검색결과/검색서제스쳔 -->\\n    <div class=\"msa_srch_suggestion\" v-if=\"showPopularKeyword === false\">\\n      <div class=\"sugg_left\" v-if=\"bookList.length !== 0\">\\n        <h3 class=\"tit\">BOOK</h3>\\n        <ul class=\"books_list\">\\n          <li v-for=\"book in bookList\" @mouseover=\"mouseOverBook(book.id)\"><a @click=\"clickBookKeyword(book)\"><p v-html=\"book.name\"></p></a></li>\\n        </ul>\\n      </div>\\n\\n      <div class=\"sugg_right\">\\n        <div class=\"sugg_book\" v-if=\"bookList.length !== 0\">\\n          <table class=\"sugg_book_detail\">\\n            <tr>\\n              <td class=\"cover\">\\n                <a @click=\"clickBookKeyword(bookSummary)\">\\n                  <img :src=\"bookSummary.imgUrl\" class=\"b_cover\">\\n                </a>\\n              </td>\\n              <td class=\"draft\">\\n                <a @click=\"clickBookKeyword(bookSummary)\" class=\"b_title\"><strong v-html=\"bookSummary.originName\"></strong></a>\\n                <p class=\"b_int\">\\n                {{ bookSummary.author }} 지음<br />\\n                {{ bookSummary.publishingCompany }} | {{ bookSummary.date }}\\n                </p>\\n                <p class=\"b_type\">\\n                <span>{{ bookSummary.bookType }}</span>\\n                </p>\\n              </td>\\n            </tr>\\n          </table>\\n        </div>\\n\\n        <!--\\n        <div class=\"sugg_edu\" v-if=\"educationList.length !== 0\">\\n          <h3 class=\"tit\">EDUCATION</h3>\\n          <ul class=\"edu_list\">\\n            <li v-for=\"education in educationList\">&#149; <a @click=\"clickEducationKeyword(education)\"><span v-html=\"education.title\"></span></a></li>\\n          </ul>\\n        </div>\\n        -->\\n        \\n        <div class=\"sugg_cont\" v-if=\"contentList.length !== 0\">\\n          <h3 class=\"tit\">CONTENTS</h3>\\n          <ul class=\"cont_list\">\\n            <li v-for=\"content in contentList\">&#149; <a @click=\"clickContentKeyword(content)\"><span v-html=\"content.title\"></span></a></li>\\n          </ul>\\n        </div>\\n      </div>\\n    </div>\\n    <!-- //② 검색결과/검색서제스쳔 -->\\n\\n  <!-- 닫기 -->\\n  <div class=\"msa_wrap_close\">\\n    <a href=\"javascript:;\" onclick=\"view_hover(\\'main_search_area\\',\\'\\',\\'hide\\')\">닫기</a>\\n  </div>\\n  <!-- //닫기 -->\\n\\n  </div>\\n</div>\\n\\n<script type=\"text/javascript\">\\n    \"use strict\";\\n\\n    var common_top_search_vue = new Vue({\\n        el: \\'#main_search_area\\',\\n        data: {\\n            //검색엔진 URL\\n            searchProxyURL: \"https://search.hanbit.co.kr\",\\n            //인기 검색어 show 여부\\n            showPopularKeyword: true,\\n            //사용자 검색 키워드\\n            keyword: \\'\\',\\n            //인기 검색어 리스트\\n            popularKeywordList: [],\\n            // 인기 검색어 리스트 (왼쪽)\\n            leftPopularKeywordList: [],\\n            // 인기 검색어 리스트 (오른쪽)\\n            rightPopularKeywordList: [],\\n            // 자동완성에서의 책 리스트\\n            bookList: [],\\n            // 자동완성에서의 책 정보\\n            bookSummary: {\\n                \\'imgUrl\\': \\'\\',\\n                \\'link\\': \\'\\',\\n                \\'name\\': \\'\\',\\n                \\'author\\': \\'\\',\\n                \\'publishingCompany\\': \\'\\',\\n                \\'date\\': \\'\\',\\n                \\'bookType\\': \\'\\'\\n            },\\n            //에듀케이션 리스트\\n            educationList: [],\\n            //컨텐츠 리스트\\n            contentList: []\\n        },\\n        created: function created() {\\n            // 인기 검색어 조회\\n            this.getPopularKeyword();\\n        },\\n        methods: {\\n            /**\\n             * 사용자가 검색 키워드를 입력할때 발생하는 이벤트\\n             */\\n            typeKeyword: function typeKeyword() {\\n                var self = this;\\n                var keyword = $(\"#keyword_str\").val();\\n\\n                if (keyword.length !== 0) {\\n                    //자동완성어\\n                    this.findAutocompleteResult(keyword);\\n                } else {\\n                    //인기검색어\\n                    self.showPopularKeyword = true;\\n                }\\n            },\\n\\n            /**\\n             * 인기검색어 조회\\n             */\\n            getPopularKeyword: function getPopularKeyword() {\\n                var self = this;\\n                this.popularKeywordList = [];\\n                $.get(this.searchProxyURL + \"/querylog/popularKeyword\").done(function (data) {\\n                    if (data != null) {\\n                        self.drawPopularKeyword(data);\\n                    }\\n                });\\n            },\\n\\n            /**\\n             * 인기 검색어 그리기\\n             */\\n            drawPopularKeyword: function drawPopularKeyword(popularBooks) {\\n                var self = this;\\n                popularBooks.forEach(function (item) {\\n                    var popularBook = {\\n                        bookName: item.keyword\\n                    };\\n                    self.popularKeywordList.push(popularBook);\\n                });\\n                var number = 0;\\n\\n                for (var _iterator = this.popularKeywordList, _isArray = Array.isArray(_iterator), _i = 0, _iterator = _isArray ? _iterator : _iterator[Symbol.iterator]();;) {\\n                    var _ref;\\n\\n                    if (_isArray) {\\n                        if (_i >= _iterator.length) break;\\n                        _ref = _iterator[_i++];\\n                    } else {\\n                        _i = _iterator.next();\\n                        if (_i.done) break;\\n                        _ref = _i.value;\\n                    }\\n\\n                    var keyword = _ref;\\n                    number = number + 1;\\n                    keyword.number = number.toString().length < 2 ? \"0\" + number : number;\\n\\n                    if (number > 5) {\\n                        keyword.direction = \"right\";\\n                        self.rightPopularKeywordList.push(keyword);\\n                    } else {\\n                        keyword.direction = \"left\";\\n\\n                        if (number < 4) {\\n                            keyword.bold = \\'active\\';\\n                        }\\n\\n                        self.leftPopularKeywordList.push(keyword);\\n                    }\\n                }\\n            },\\n\\n            /**\\n             * 자동완성 검색 결과\\n             */\\n            findAutocompleteResult: function findAutocompleteResult(keyword) {\\n                var self = this;\\n                var param = {\\n                    q: keyword,\\n                    types: \"education,book,contents\",\\n                    fq: keyword\\n                };\\n                $.post(this.searchProxyURL + \"/autocomplete/search\", param).done(function (data) {\\n                    if (data != null) {\\n                        var bookResult = data.booksResults;\\n                        self.changeBookList(keyword, bookResult);\\n                        var contentResult = data.contentsResults;\\n                        self.changeContentList(keyword, contentResult);\\n                        var educationResult = data.educationResults;\\n                        self.changeEducationList(keyword, educationResult);\\n                    }\\n                });\\n                this.showPopularKeyword = false;\\n            },\\n\\n            /**\\n             * 자동완성어에서 BOOK 부분에서 마우스를 올렸을 시에 발생하는 이벤트\\n             * @param bookId\\n             */\\n            mouseOverBook: function mouseOverBook(bookId) {\\n                var currentBook = this.bookList.filter(function (book) {\\n                    return book.id === bookId;\\n                });\\n                this.changeBookSummary(currentBook[0]);\\n            },\\n\\n            /**\\n             * 책 소개 변경\\n             * @param book\\n             */\\n            changeBookSummary: function changeBookSummary(book) {\\n                if (book !== {}) {\\n                    this.bookSummary.name = book.name;\\n                    this.bookSummary.originName = book.originName;\\n                    this.bookSummary.author = book.author;\\n                    this.bookSummary.bookType = book.bookType;\\n                    this.bookSummary.imgUrl = book.imgUrl;\\n                    this.bookSummary.link = book.link;\\n                    this.bookSummary.publishingCompany = book.publishingCompany;\\n                    this.bookSummary.date = book.date;\\n                    this.bookSummary.bookType = book.bookType;\\n                }\\n            },\\n\\n            /**\\n             * BOOK 리스트 변경\\n             */\\n            changeBookList: function changeBookList(keyword, bookResultList) {\\n                var self = this;\\n                self.bookList = [];\\n                var index = 0;\\n\\n                if (bookResultList != null) {\\n                    for (var _iterator2 = bookResultList, _isArray2 = Array.isArray(_iterator2), _i2 = 0, _iterator2 = _isArray2 ? _iterator2 : _iterator2[Symbol.iterator]();;) {\\n                        var _ref2;\\n\\n                        if (_isArray2) {\\n                            if (_i2 >= _iterator2.length) break;\\n                            _ref2 = _iterator2[_i2++];\\n                        } else {\\n                            _i2 = _iterator2.next();\\n                            if (_i2.done) break;\\n                            _ref2 = _i2.value;\\n                        }\\n\\n                        var result = _ref2;\\n\\n                        if (index < 10) {\\n                            var book = {};\\n                            book.id = result.code;\\n                            book.originName = result.title;\\n                            book.name = JSON.parse(JSON.stringify(self.replaceHighlightWord(result.title, keyword)));\\n                            book.link = result.code;\\n                            book.imgUrl = self.getBookImageURL(result.code);\\n                            book.author = result.author;\\n                            book.publishingCompany = result.brand;\\n                            book.date = result.pubDate;\\n                            book.bookType = result.bookType;\\n                            self.bookList.push(book); //책 미리보기 변경\\n\\n                            self.changeBookSummary(self.bookList[0]);\\n                        }\\n                    }\\n                } else {\\n                    self.initBookSummary();\\n                }\\n            },\\n\\n            /**\\n             * 책 이미지 주소 가져오기\\n             */\\n            getBookImageURL: function getBookImageURL(bookCode) {\\n                var imgURL;\\n\\n                if (bookCode.substr(0, 1) === \"E\") {\\n                    imgURL = \\'/data/ebook/\\' + bookCode + \\'_m.jpg\\';\\n                } else {\\n                    imgURL = \\'/data/books/\\' + bookCode + \"_m.jpg\";\\n                }\\n\\n                return imgURL;\\n            },\\n\\n            /**\\n             * 검색 결과가 없을 경우 책 미리보기 초기화\\n             */\\n            initBookSummary: function initBookSummary() {\\n                this.bookSummary = {\\n                    \\'imgUrl\\': \\'\\',\\n                    \\'link\\': \\'\\',\\n                    \\'name\\': \\'\\',\\n                    \\'author\\': \\'\\',\\n                    \\'publishingCompany\\': \\'\\',\\n                    \\'date\\': \\'\\',\\n                    \\'bookType\\': \\'\\'\\n                };\\n            },\\n\\n            /**\\n             * education 리스트 변경\\n             */\\n            changeEducationList: function changeEducationList(keyword, educationResultList) {\\n                var self = this;\\n                self.educationList = [];\\n                var index = 0;\\n\\n                if (educationResultList != null) {\\n                    for (var _iterator3 = educationResultList, _isArray3 = Array.isArray(_iterator3), _i3 = 0, _iterator3 = _isArray3 ? _iterator3 : _iterator3[Symbol.iterator]();;) {\\n                        var _ref3;\\n\\n                        if (_isArray3) {\\n                            if (_i3 >= _iterator3.length) break;\\n                            _ref3 = _iterator3[_i3++];\\n                        } else {\\n                            _i3 = _iterator3.next();\\n                            if (_i3.done) break;\\n                            _ref3 = _i3.value;\\n                        }\\n\\n                        var result = _ref3;\\n\\n                        if (index < 3) {\\n                            var content = {};\\n                            content.title = JSON.parse(JSON.stringify(self.replaceHighlightWord(result.title, keyword)));\\n                            content.link = result.code;\\n                            self.educationList.push(content);\\n                            index = index + 1;\\n                        }\\n                    }\\n                }\\n            },\\n\\n            /**\\n             * contents 리스트 변경\\n             */\\n            changeContentList: function changeContentList(keyword, contentResult) {\\n                var self = this;\\n                self.contentList = [];\\n                var index = 0;\\n\\n                if (contentResult != null) {\\n                    for (var _iterator4 = contentResult, _isArray4 = Array.isArray(_iterator4), _i4 = 0, _iterator4 = _isArray4 ? _iterator4 : _iterator4[Symbol.iterator]();;) {\\n                        var _ref4;\\n\\n                        if (_isArray4) {\\n                            if (_i4 >= _iterator4.length) break;\\n                            _ref4 = _iterator4[_i4++];\\n                        } else {\\n                            _i4 = _iterator4.next();\\n                            if (_i4.done) break;\\n                            _ref4 = _i4.value;\\n                        }\\n\\n                        var result = _ref4;\\n\\n                        if (index < 7) {\\n                            var content = {};\\n                            content.title = JSON.parse(JSON.stringify(self.replaceHighlightWord(result.title, keyword)));\\n                            content.link = result.code;\\n                            self.contentList.push(content);\\n                            index = index + 1;\\n                        }\\n                    }\\n                }\\n            },\\n\\n            /**\\n             * 하이라이트 표시\\n             */\\n            replaceHighlightWord: function replaceHighlightWord(str, highlightKeyword) {\\n                var replaceHighlightKeyword = highlightKeyword.replace(/[^a-z0-9가-힣_ ]/gi, \\'\\');\\n                var regEx = new RegExp(replaceHighlightKeyword, \"gi\");\\n                str = str.replace(regEx, function (a) {\\n                    return \\'<span class=\"keysel\">\\' + a + \\'</span>\\';\\n                });\\n                return str;\\n            },\\n\\n            /**\\n             * 검색 버튼 클릭 시\\n             * @param e\\n             */\\n            clickSearch: function clickSearch(e) {\\n                if (!this.keyword || this.keyword.length === 0) {\\n                    alert(\"검색어를 입력하세요\");\\n                    $(\"#keyword_str\").focus();\\n                    e.preventDefault();\\n                } else {\\n                    location.href = \"/search/search_list.html?keyword=\" + this.keyword;\\n                }\\n            },\\n\\n            /**\\n             * 인기 검색어 클릭시\\n             * @param book\\n             */\\n            clickPopularKeyword: function clickPopularKeyword(book) {\\n                var searchKeyword = book.bookName;\\n                location.href = \"/search/search_list.html?keyword=\" + searchKeyword;\\n            },\\n\\n            /**\\n             * 책 검색어 클릭시 책 상세로 이동\\n             * @param book\\n             */\\n            clickBookKeyword: function clickBookKeyword(book) {\\n                location.href = \"/store/books/look.php?p_code=\" + book.link;\\n            },\\n\\n            /**\\n             * 교육 클릭시 교육 상세로 이동\\n             * @param education\\n             */\\n            clickEducationKeyword: function clickEducationKeyword(education) {\\n                location.href = \"/store/education/edu_view.html?p_code=\" + education.link;\\n            },\\n\\n            /**\\n             * 컨텐츠 클릭시 컨텐츠 상세로 이동\\n             * @param contents\\n             */\\n            clickContentKeyword: function clickContentKeyword(content) {\\n                location.href = \"/channel/category/category_view.html?cms_code=\" + content.link;\\n            }\\n        }\\n    });\\n</script>\\n<!-- //메인 검색 및 카테고리 영역 -->\\r\\n<meta http-equiv=\"Content-Type\" content=\"text/html; charset=utf-8\"><script>alert(\\'로그인이 필요한 서비스입니다.\\');location.href=\\'/member/login.html\\';</script>'"
      ]
     },
     "execution_count": 7,
     "metadata": {},
     "output_type": "execute_result"
    }
   ],
   "source": [
    "resp.text"
   ]
  },
  {
   "cell_type": "code",
   "execution_count": 8,
   "id": "80a0ae0b-7162-4e75-80b2-7378f349c47a",
   "metadata": {
    "tags": []
   },
   "outputs": [],
   "source": [
    "html = resp.text"
   ]
  },
  {
   "cell_type": "code",
   "execution_count": 9,
   "id": "e251e5c5-ac27-4b6b-817c-24229701bd6b",
   "metadata": {
    "collapsed": true,
    "jupyter": {
     "outputs_hidden": true
    },
    "tags": []
   },
   "outputs": [
    {
     "data": {
      "text/plain": [
       "<!DOCTYPE html>\n",
       "<html lang=\"ko\">\n",
       "<head>\n",
       "<!--[if lte IE 8]>\n",
       "<script>\n",
       "  location.replace('/support/explorer_upgrade.html');\n",
       "</script>\n",
       "<![endif]-->\n",
       "<meta charset=\"utf-8\"/>\n",
       "<title>한빛출판네트워크</title>\n",
       "<link href=\"https://www.hanbit.co.kr/images/common/hanbit.ico\" rel=\"shortcut icon\"/>\n",
       "<meta content=\"IE=Edge\" http-equiv=\"X-UA-Compatible\"/>\n",
       "<meta content=\"website\" property=\"og:type\"/>\n",
       "<meta content=\"한빛출판네트워크\" property=\"og:title\"/>\n",
       "<meta content=\"더 넓은 세상, 더 나은 미래를 위한 아시아 출판 네트워크 :: 한빛미디어, 한빛아카데미, 한빛비즈, 한빛라이프, 한빛에듀\" property=\"og:description\"/>\n",
       "<meta content=\"https://www.hanbit.co.kr/images/hanbitpubnet_logo.jpg\" property=\"og:image\"/>\n",
       "<meta content=\"https://www.hanbit.co.kr/myhanbit/myhanbit.html\" property=\"og:url\"/>\n",
       "<link href=\"https://www.hanbit.co.kr/myhanbit/myhanbit.html\" rel=\"canonical\"/>\n",
       "<meta content=\"한빛미디어,한빛아카데미,한빛비즈,한빛라이프,한빛에듀,리얼타임,대관서비스,책,출판사,IT전문서,IT활용서,대학교재,경제경영,어린이/유아,실용/여행,전자책,자격증,교육,세미나,강의,ebook,정보교과서\" name=\"keywords\"/>\n",
       "<meta content=\"더 넓은 세상, 더 나은 미래를 위한 아시아 출판 네트워크 :: 한빛미디어, 한빛아카데미, 한빛비즈, 한빛라이프, 한빛에듀\" name=\"description\"/>\n",
       "<meta content=\"width=device-width,initial-scale=1.0,minimum-scale=1.0,maximum-scale=1.0\" name=\"viewport\"/>\n",
       "<meta content=\"width=1260\" name=\"viewport\"/>\n",
       "<meta content=\"yes\" name=\"apple-mobile-web-app-capable\"/>\n",
       "<meta content=\"01c29ed1852aecca7a48ac0c3e0869627bc512d8\" name=\"naver-site-verification\"/>\n",
       "<link href=\"/css/common.css?20210603093421\" rel=\"stylesheet\"/>\n",
       "<link href=\"/css/hover.css\" media=\"all\" rel=\"stylesheet\"/>\n",
       "<link href=\"/js/jquery.raty.css\" rel=\"stylesheet\"/>\n",
       "<script src=\"/js/jquery-latest.js\" type=\"text/javascript\"></script>\n",
       "<script src=\"/js/jquery-ui.js\" type=\"text/javascript\"></script>\n",
       "<script src=\"/js/jquery.event.drag-1.5.min.js\" type=\"text/javascript\"></script>\n",
       "<script src=\"/js/jquery.touchSlider.js\" type=\"text/javascript\"></script>\n",
       "<script src=\"/js/jquery.raty.js\" type=\"text/javascript\"></script>\n",
       "<script src=\"/js/main.js\" type=\"text/javascript\"></script>\n",
       "<script src=\"/lib/cheditor/cheditor.js\" type=\"text/javascript\"></script>\n",
       "<script src=\"/js/jquery.ui.datepicker-ko.js\" type=\"text/javascript\"></script>\n",
       "<script src=\"/js/engine.js\" type=\"text/javascript\"></script>\n",
       "<script src=\"/js/vue.js\" type=\"text/javascript\"></script>\n",
       "<!-- Google Analytics -->\n",
       "<script>\n",
       "(function(i,s,o,g,r,a,m){i['GoogleAnalyticsObject']=r;i[r]=i[r]||function(){\n",
       "(i[r].q=i[r].q||[]).push(arguments)},i[r].l=1*new Date();a=s.createElement(o),\n",
       "m=s.getElementsByTagName(o)[0];a.async=1;a.src=g;m.parentNode.insertBefore(a,m)\n",
       "})(window,document,'script','//www.google-analytics.com/analytics.js','ga');\n",
       "ga('create', 'UA-47080738-1', 'hanbit.co.kr');\n",
       "ga('require', 'linkid', 'linkid.js');\n",
       "ga('send', 'pageview');\n",
       "</script>\n",
       "<!-- Google Analytics -->\n",
       "<!-- Facebook Pixel Code -->\n",
       "<script>\n",
       "  !function(f,b,e,v,n,t,s)\n",
       "  {if(f.fbq)return;n=f.fbq=function(){n.callMethod?\n",
       "  n.callMethod.apply(n,arguments):n.queue.push(arguments)};\n",
       "  if(!f._fbq)f._fbq=n;n.push=n;n.loaded=!0;n.version='2.0';\n",
       "  n.queue=[];t=b.createElement(e);t.async=!0;\n",
       "  t.src=v;s=b.getElementsByTagName(e)[0];\n",
       "  s.parentNode.insertBefore(t,s)}(window, document,'script',\n",
       "  'https://connect.facebook.net/en_US/fbevents.js');\n",
       "  fbq('init', '406459623338891');\n",
       "  fbq('track', 'PageView');\n",
       "</script>\n",
       "<noscript><img height=\"1\" src=\"https://www.facebook.com/tr?id=406459623338891&amp;ev=PageView&amp;noscript=1\" style=\"display:none\" width=\"1\"/></noscript>\n",
       "<!-- End Facebook Pixel Code -->\n",
       "<!-- Google Tag Manager -->\n",
       "<script>(function(w,d,s,l,i){w[l]=w[l]||[];w[l].push({'gtm.start':\n",
       "new Date().getTime(),event:'gtm.js'});var f=d.getElementsByTagName(s)[0],\n",
       "j=d.createElement(s),dl=l!='dataLayer'?'&l='+l:'';j.async=true;j.src=\n",
       "'https://www.googletagmanager.com/gtm.js?id='+i+dl;f.parentNode.insertBefore(j,f);\n",
       "})(window,document,'script','dataLayer','GTM-W9D5PM3');</script>\n",
       "<!-- End Google Tag Manager -->\n",
       "<!-- Kakao Pixel Code -->\n",
       "<script charset=\"UTF-8\" src=\"//t1.daumcdn.net/adfit/static/kp.js\" type=\"text/javascript\"></script>\n",
       "<script type=\"text/javascript\">\n",
       "  kakaoPixel('3011392806152551233').pageView();\n",
       "</script>\n",
       "<!-- //Kakao Pixel Code -->\n",
       "</head>\n",
       "<body>\n",
       "<!-- Google Tag Manager (noscript) -->\n",
       "<noscript><iframe height=\"0\" src=\"https://www.googletagmanager.com/ns.html?id=GTM-W9D5PM3\" style=\"display:none;visibility:hidden\" width=\"0\"></iframe></noscript>\n",
       "<!-- End Google Tag Manager (noscript) -->\n",
       "<link href=\"/css/layout-hanbit.css?202206030909\" rel=\"stylesheet\"/>\n",
       "<link href=\"/css/layout-member.css\" rel=\"stylesheet\"/>\n",
       "<link href=\"/css/layout-network.css\" rel=\"stylesheet\"/>\n",
       "<link href=\"/css/layout-store.css\" rel=\"stylesheet\"/>\n",
       "<link href=\"/css/layout-myhanbit.css\" rel=\"stylesheet\"/>\n",
       "<link href=\"/css/layout-event.css\" rel=\"stylesheet\"/>\n",
       "<!-- 메뉴 바로가기 -->\n",
       "<div id=\"quick_skip_menu\">\n",
       "<a href=\"#gnb\" onclick=\"document.getElementById('gnb').tabIndex = -1;document.getElementById('gnb').focus();return false;\"><span>메뉴 바로가기</span></a>\n",
       "<a href=\"#top_search\" onclick=\"view_hover('main_search_area','','show'), document.getElementById('top_search').tabIndex = -1;document.getElementById('top_search').focus();return false;\"><span>검색 및 카테고리 바로가기</span></a>\n",
       "<a href=\"#container\" onclick=\"document.getElementById('container').tabIndex = -1;document.getElementById('container').focus();return false;\"><span>본문 바로가기</span></a>\n",
       "</div>\n",
       "<!-- //메뉴 바로가기 -->\n",
       "<!-- header -->\n",
       "<header>\n",
       "<!-- top menu -->\n",
       "<nav>\n",
       "<div id=\"wrap_nav\">\n",
       "<ul class=\"top_brand\">\n",
       "<li><a href=\"https://www.hanbit.co.kr/index.html\" name=\"hanbit_network\"><span>HOME</span></a></li>\n",
       "<li><a href=\"https://www.hanbit.co.kr/media/\">한빛미디어</a></li>\n",
       "<li><a href=\"https://www.hanbit.co.kr/academy/\">한빛아카데미</a></li>\n",
       "<li><a href=\"https://www.hanbit.co.kr/biz/\">한빛비즈</a></li>\n",
       "<li><a href=\"https://www.hanbit.co.kr/life/\">한빛라이프</a></li>\n",
       "<li><a href=\"https://www.hanbit.co.kr/edu/\">한빛에듀</a></li>\n",
       "<li><a href=\"https://www.hanbit.co.kr/realtime/\">리얼타임</a></li>\n",
       "<li><a href=\"https://www.hanbit.co.kr/textbook/\" target=\"_blank\">한빛정보교과서</a></li>\n",
       "<li><a href=\"https://www.hanbit.co.kr/rent/\" target=\"_blank\">한빛대관서비스</a></li>\n",
       "</ul>\n",
       "<ul class=\"top_menu\">\n",
       "<li><a class=\"login\" href=\"https://www.hanbit.co.kr/member/login.html\">로그인</a></li>\n",
       "<li><a class=\"join\" href=\"https://www.hanbit.co.kr/member/member_agree.html\">회원가입</a></li>\n",
       "<li><a class=\"myhanbit\" href=\"https://www.hanbit.co.kr/myhanbit/myhanbit.html\">마이한빛</a></li>\n",
       "<li><a class=\"cart\" href=\"https://www.hanbit.co.kr/myhanbit/cart.html\">장바구니</a></li>\n",
       "<li class=\"top_menu_store\"><a href=\"https://www.hanbit.co.kr/publisher/foreignrights.html?lang=e\" target=\"_blank\">ENGLISH</a></li>\n",
       "</ul>\n",
       "</div>\n",
       "</nav>\n",
       "<!-- //top menu -->\n",
       "<div id=\"wrap_gnb\">\n",
       "<!-- logo -->\n",
       "<h1><a href=\"https://www.hanbit.co.kr/index.html\">한빛출판네트워크</a></h1>\n",
       "<!-- //logo -->\n",
       "<!-- Menu -->\n",
       "<div id=\"gnb\" name=\"gnb\">\n",
       "<ul>\n",
       "<li><a class=\"\" href=\"https://www.hanbit.co.kr/brand/brand_submain.html\">BRAND</a></li>\n",
       "<li><a class=\"\" href=\"https://www.hanbit.co.kr/channel/channel_submain.html\">Channel.H</a></li>\n",
       "<li><a class=\"\" href=\"https://www.hanbit.co.kr/store/store_submain.html\">STORE</a></li>\n",
       "<li><a class=\"\" href=\"https://www.hanbit.co.kr/support/help_info.html\">SUPPORT</a></li>\n",
       "<li><a class=\"\" href=\"https://www.hanbit.co.kr/event/current/current_event_list.html\">EVENT</a></li>\n",
       "<li><a class=\"\" href=\"https://www.hanbit.co.kr/publisher/foreignrights.html?lang=e\" target=\"_blank\">RIGHTS</a></li>\n",
       "<li class=\"search\" id=\"top_search\"><a href=\"javascript:;\" onclick=\"view_hover('main_search_area','','show'); $('#keyword_str').focus();\"><span>SEARCH</span></a></li>\n",
       "</ul>\n",
       "</div>\n",
       "<!-- //Menu -->\n",
       "<!-- lnb -->\n",
       "<div class=\"lnb\" style=\"top:92px;\">\n",
       "<div class=\"lnb_area\">\n",
       "<!-- BRAND -->\n",
       "</div>\n",
       "</div>\n",
       "<!--// lnb -->\n",
       "</div>\n",
       "</header>\n",
       "<!-- //header -->\n",
       "<!-- 메인 검색 및 카테고리 영역 -->\n",
       "<div class=\"fixed\" id=\"main_search_area\" style=\"display:none;\">\n",
       "<div class=\"msa_wrap\">\n",
       "<!-- 검색 -->\n",
       "<div class=\"msa_srch_wrap\">\n",
       "<form onsubmit=\"return false;\">\n",
       "<fieldset class=\"msa_srch_field\">\n",
       "<legend>한빛출판네트워크 검색</legend>\n",
       "<input accesskey=\"s\" autocomplete=\"off\" class=\"srch_keyword\" id=\"keyword_str\" name=\"keyword_str\" title=\"검색어\" type=\"text\" v-model=\"keyword\"/>\n",
       "<input class=\"srch_btn\" style=\"cursor:pointer;\" type=\"submit\"/>\n",
       "</fieldset>\n",
       "</form>\n",
       "</div>\n",
       "<!-- //검색 -->\n",
       "<!-- ① 인기검색어 -->\n",
       "<div class=\"msa_srch_polular\" v-if=\"showPopularKeyword === true\">\n",
       "<h2 class=\"tit\">인기 검색어 <span>(최근 1개월간)</span></h2>\n",
       "<div class=\"popula_box\">\n",
       "<ul class=\"left\">\n",
       "<li v-for=\"keyword in leftPopularKeywordList\">\n",
       "<a :class=\"keyword.bold\">\n",
       "                  {{ keyword.number }} {{ keyword.bookName }}\n",
       "              </a>\n",
       "</li>\n",
       "</ul>\n",
       "<ul class=\"right\">\n",
       "<li v-for=\"keyword in rightPopularKeywordList\">\n",
       "<a :class=\"keyword.bold\">\n",
       "                  {{ keyword.number }} {{ keyword.bookName }}\n",
       "              </a>\n",
       "</li>\n",
       "</ul>\n",
       "</div>\n",
       "</div>\n",
       "<!-- ① 인기검색어 -->\n",
       "<!-- ② 검색결과/검색서제스쳔 -->\n",
       "<div class=\"msa_srch_suggestion\" v-if=\"showPopularKeyword === false\">\n",
       "<div class=\"sugg_left\" v-if=\"bookList.length !== 0\">\n",
       "<h3 class=\"tit\">BOOK</h3>\n",
       "<ul class=\"books_list\">\n",
       "<li v-for=\"book in bookList\"><a><p v-html=\"book.name\"></p></a></li>\n",
       "</ul>\n",
       "</div>\n",
       "<div class=\"sugg_right\">\n",
       "<div class=\"sugg_book\" v-if=\"bookList.length !== 0\">\n",
       "<table class=\"sugg_book_detail\">\n",
       "<tr>\n",
       "<td class=\"cover\">\n",
       "<a>\n",
       "<img :src=\"bookSummary.imgUrl\" class=\"b_cover\"/>\n",
       "</a>\n",
       "</td>\n",
       "<td class=\"draft\">\n",
       "<a class=\"b_title\"><strong v-html=\"bookSummary.originName\"></strong></a>\n",
       "<p class=\"b_int\">\n",
       "                {{ bookSummary.author }} 지음<br/>\n",
       "                {{ bookSummary.publishingCompany }} | {{ bookSummary.date }}\n",
       "                </p>\n",
       "<p class=\"b_type\">\n",
       "<span>{{ bookSummary.bookType }}</span>\n",
       "</p>\n",
       "</td>\n",
       "</tr>\n",
       "</table>\n",
       "</div>\n",
       "<!--\n",
       "        <div class=\"sugg_edu\" v-if=\"educationList.length !== 0\">\n",
       "          <h3 class=\"tit\">EDUCATION</h3>\n",
       "          <ul class=\"edu_list\">\n",
       "            <li v-for=\"education in educationList\">&#149; <a @click=\"clickEducationKeyword(education)\"><span v-html=\"education.title\"></span></a></li>\n",
       "          </ul>\n",
       "        </div>\n",
       "        -->\n",
       "<div class=\"sugg_cont\" v-if=\"contentList.length !== 0\">\n",
       "<h3 class=\"tit\">CONTENTS</h3>\n",
       "<ul class=\"cont_list\">\n",
       "<li v-for=\"content in contentList\"> <a><span v-html=\"content.title\"></span></a></li>\n",
       "</ul>\n",
       "</div>\n",
       "</div>\n",
       "</div>\n",
       "<!-- //② 검색결과/검색서제스쳔 -->\n",
       "<!-- 닫기 -->\n",
       "<div class=\"msa_wrap_close\">\n",
       "<a href=\"javascript:;\" onclick=\"view_hover('main_search_area','','hide')\">닫기</a>\n",
       "</div>\n",
       "<!-- //닫기 -->\n",
       "</div>\n",
       "</div>\n",
       "<script type=\"text/javascript\">\n",
       "    \"use strict\";\n",
       "\n",
       "    var common_top_search_vue = new Vue({\n",
       "        el: '#main_search_area',\n",
       "        data: {\n",
       "            //검색엔진 URL\n",
       "            searchProxyURL: \"https://search.hanbit.co.kr\",\n",
       "            //인기 검색어 show 여부\n",
       "            showPopularKeyword: true,\n",
       "            //사용자 검색 키워드\n",
       "            keyword: '',\n",
       "            //인기 검색어 리스트\n",
       "            popularKeywordList: [],\n",
       "            // 인기 검색어 리스트 (왼쪽)\n",
       "            leftPopularKeywordList: [],\n",
       "            // 인기 검색어 리스트 (오른쪽)\n",
       "            rightPopularKeywordList: [],\n",
       "            // 자동완성에서의 책 리스트\n",
       "            bookList: [],\n",
       "            // 자동완성에서의 책 정보\n",
       "            bookSummary: {\n",
       "                'imgUrl': '',\n",
       "                'link': '',\n",
       "                'name': '',\n",
       "                'author': '',\n",
       "                'publishingCompany': '',\n",
       "                'date': '',\n",
       "                'bookType': ''\n",
       "            },\n",
       "            //에듀케이션 리스트\n",
       "            educationList: [],\n",
       "            //컨텐츠 리스트\n",
       "            contentList: []\n",
       "        },\n",
       "        created: function created() {\n",
       "            // 인기 검색어 조회\n",
       "            this.getPopularKeyword();\n",
       "        },\n",
       "        methods: {\n",
       "            /**\n",
       "             * 사용자가 검색 키워드를 입력할때 발생하는 이벤트\n",
       "             */\n",
       "            typeKeyword: function typeKeyword() {\n",
       "                var self = this;\n",
       "                var keyword = $(\"#keyword_str\").val();\n",
       "\n",
       "                if (keyword.length !== 0) {\n",
       "                    //자동완성어\n",
       "                    this.findAutocompleteResult(keyword);\n",
       "                } else {\n",
       "                    //인기검색어\n",
       "                    self.showPopularKeyword = true;\n",
       "                }\n",
       "            },\n",
       "\n",
       "            /**\n",
       "             * 인기검색어 조회\n",
       "             */\n",
       "            getPopularKeyword: function getPopularKeyword() {\n",
       "                var self = this;\n",
       "                this.popularKeywordList = [];\n",
       "                $.get(this.searchProxyURL + \"/querylog/popularKeyword\").done(function (data) {\n",
       "                    if (data != null) {\n",
       "                        self.drawPopularKeyword(data);\n",
       "                    }\n",
       "                });\n",
       "            },\n",
       "\n",
       "            /**\n",
       "             * 인기 검색어 그리기\n",
       "             */\n",
       "            drawPopularKeyword: function drawPopularKeyword(popularBooks) {\n",
       "                var self = this;\n",
       "                popularBooks.forEach(function (item) {\n",
       "                    var popularBook = {\n",
       "                        bookName: item.keyword\n",
       "                    };\n",
       "                    self.popularKeywordList.push(popularBook);\n",
       "                });\n",
       "                var number = 0;\n",
       "\n",
       "                for (var _iterator = this.popularKeywordList, _isArray = Array.isArray(_iterator), _i = 0, _iterator = _isArray ? _iterator : _iterator[Symbol.iterator]();;) {\n",
       "                    var _ref;\n",
       "\n",
       "                    if (_isArray) {\n",
       "                        if (_i >= _iterator.length) break;\n",
       "                        _ref = _iterator[_i++];\n",
       "                    } else {\n",
       "                        _i = _iterator.next();\n",
       "                        if (_i.done) break;\n",
       "                        _ref = _i.value;\n",
       "                    }\n",
       "\n",
       "                    var keyword = _ref;\n",
       "                    number = number + 1;\n",
       "                    keyword.number = number.toString().length < 2 ? \"0\" + number : number;\n",
       "\n",
       "                    if (number > 5) {\n",
       "                        keyword.direction = \"right\";\n",
       "                        self.rightPopularKeywordList.push(keyword);\n",
       "                    } else {\n",
       "                        keyword.direction = \"left\";\n",
       "\n",
       "                        if (number < 4) {\n",
       "                            keyword.bold = 'active';\n",
       "                        }\n",
       "\n",
       "                        self.leftPopularKeywordList.push(keyword);\n",
       "                    }\n",
       "                }\n",
       "            },\n",
       "\n",
       "            /**\n",
       "             * 자동완성 검색 결과\n",
       "             */\n",
       "            findAutocompleteResult: function findAutocompleteResult(keyword) {\n",
       "                var self = this;\n",
       "                var param = {\n",
       "                    q: keyword,\n",
       "                    types: \"education,book,contents\",\n",
       "                    fq: keyword\n",
       "                };\n",
       "                $.post(this.searchProxyURL + \"/autocomplete/search\", param).done(function (data) {\n",
       "                    if (data != null) {\n",
       "                        var bookResult = data.booksResults;\n",
       "                        self.changeBookList(keyword, bookResult);\n",
       "                        var contentResult = data.contentsResults;\n",
       "                        self.changeContentList(keyword, contentResult);\n",
       "                        var educationResult = data.educationResults;\n",
       "                        self.changeEducationList(keyword, educationResult);\n",
       "                    }\n",
       "                });\n",
       "                this.showPopularKeyword = false;\n",
       "            },\n",
       "\n",
       "            /**\n",
       "             * 자동완성어에서 BOOK 부분에서 마우스를 올렸을 시에 발생하는 이벤트\n",
       "             * @param bookId\n",
       "             */\n",
       "            mouseOverBook: function mouseOverBook(bookId) {\n",
       "                var currentBook = this.bookList.filter(function (book) {\n",
       "                    return book.id === bookId;\n",
       "                });\n",
       "                this.changeBookSummary(currentBook[0]);\n",
       "            },\n",
       "\n",
       "            /**\n",
       "             * 책 소개 변경\n",
       "             * @param book\n",
       "             */\n",
       "            changeBookSummary: function changeBookSummary(book) {\n",
       "                if (book !== {}) {\n",
       "                    this.bookSummary.name = book.name;\n",
       "                    this.bookSummary.originName = book.originName;\n",
       "                    this.bookSummary.author = book.author;\n",
       "                    this.bookSummary.bookType = book.bookType;\n",
       "                    this.bookSummary.imgUrl = book.imgUrl;\n",
       "                    this.bookSummary.link = book.link;\n",
       "                    this.bookSummary.publishingCompany = book.publishingCompany;\n",
       "                    this.bookSummary.date = book.date;\n",
       "                    this.bookSummary.bookType = book.bookType;\n",
       "                }\n",
       "            },\n",
       "\n",
       "            /**\n",
       "             * BOOK 리스트 변경\n",
       "             */\n",
       "            changeBookList: function changeBookList(keyword, bookResultList) {\n",
       "                var self = this;\n",
       "                self.bookList = [];\n",
       "                var index = 0;\n",
       "\n",
       "                if (bookResultList != null) {\n",
       "                    for (var _iterator2 = bookResultList, _isArray2 = Array.isArray(_iterator2), _i2 = 0, _iterator2 = _isArray2 ? _iterator2 : _iterator2[Symbol.iterator]();;) {\n",
       "                        var _ref2;\n",
       "\n",
       "                        if (_isArray2) {\n",
       "                            if (_i2 >= _iterator2.length) break;\n",
       "                            _ref2 = _iterator2[_i2++];\n",
       "                        } else {\n",
       "                            _i2 = _iterator2.next();\n",
       "                            if (_i2.done) break;\n",
       "                            _ref2 = _i2.value;\n",
       "                        }\n",
       "\n",
       "                        var result = _ref2;\n",
       "\n",
       "                        if (index < 10) {\n",
       "                            var book = {};\n",
       "                            book.id = result.code;\n",
       "                            book.originName = result.title;\n",
       "                            book.name = JSON.parse(JSON.stringify(self.replaceHighlightWord(result.title, keyword)));\n",
       "                            book.link = result.code;\n",
       "                            book.imgUrl = self.getBookImageURL(result.code);\n",
       "                            book.author = result.author;\n",
       "                            book.publishingCompany = result.brand;\n",
       "                            book.date = result.pubDate;\n",
       "                            book.bookType = result.bookType;\n",
       "                            self.bookList.push(book); //책 미리보기 변경\n",
       "\n",
       "                            self.changeBookSummary(self.bookList[0]);\n",
       "                        }\n",
       "                    }\n",
       "                } else {\n",
       "                    self.initBookSummary();\n",
       "                }\n",
       "            },\n",
       "\n",
       "            /**\n",
       "             * 책 이미지 주소 가져오기\n",
       "             */\n",
       "            getBookImageURL: function getBookImageURL(bookCode) {\n",
       "                var imgURL;\n",
       "\n",
       "                if (bookCode.substr(0, 1) === \"E\") {\n",
       "                    imgURL = '/data/ebook/' + bookCode + '_m.jpg';\n",
       "                } else {\n",
       "                    imgURL = '/data/books/' + bookCode + \"_m.jpg\";\n",
       "                }\n",
       "\n",
       "                return imgURL;\n",
       "            },\n",
       "\n",
       "            /**\n",
       "             * 검색 결과가 없을 경우 책 미리보기 초기화\n",
       "             */\n",
       "            initBookSummary: function initBookSummary() {\n",
       "                this.bookSummary = {\n",
       "                    'imgUrl': '',\n",
       "                    'link': '',\n",
       "                    'name': '',\n",
       "                    'author': '',\n",
       "                    'publishingCompany': '',\n",
       "                    'date': '',\n",
       "                    'bookType': ''\n",
       "                };\n",
       "            },\n",
       "\n",
       "            /**\n",
       "             * education 리스트 변경\n",
       "             */\n",
       "            changeEducationList: function changeEducationList(keyword, educationResultList) {\n",
       "                var self = this;\n",
       "                self.educationList = [];\n",
       "                var index = 0;\n",
       "\n",
       "                if (educationResultList != null) {\n",
       "                    for (var _iterator3 = educationResultList, _isArray3 = Array.isArray(_iterator3), _i3 = 0, _iterator3 = _isArray3 ? _iterator3 : _iterator3[Symbol.iterator]();;) {\n",
       "                        var _ref3;\n",
       "\n",
       "                        if (_isArray3) {\n",
       "                            if (_i3 >= _iterator3.length) break;\n",
       "                            _ref3 = _iterator3[_i3++];\n",
       "                        } else {\n",
       "                            _i3 = _iterator3.next();\n",
       "                            if (_i3.done) break;\n",
       "                            _ref3 = _i3.value;\n",
       "                        }\n",
       "\n",
       "                        var result = _ref3;\n",
       "\n",
       "                        if (index < 3) {\n",
       "                            var content = {};\n",
       "                            content.title = JSON.parse(JSON.stringify(self.replaceHighlightWord(result.title, keyword)));\n",
       "                            content.link = result.code;\n",
       "                            self.educationList.push(content);\n",
       "                            index = index + 1;\n",
       "                        }\n",
       "                    }\n",
       "                }\n",
       "            },\n",
       "\n",
       "            /**\n",
       "             * contents 리스트 변경\n",
       "             */\n",
       "            changeContentList: function changeContentList(keyword, contentResult) {\n",
       "                var self = this;\n",
       "                self.contentList = [];\n",
       "                var index = 0;\n",
       "\n",
       "                if (contentResult != null) {\n",
       "                    for (var _iterator4 = contentResult, _isArray4 = Array.isArray(_iterator4), _i4 = 0, _iterator4 = _isArray4 ? _iterator4 : _iterator4[Symbol.iterator]();;) {\n",
       "                        var _ref4;\n",
       "\n",
       "                        if (_isArray4) {\n",
       "                            if (_i4 >= _iterator4.length) break;\n",
       "                            _ref4 = _iterator4[_i4++];\n",
       "                        } else {\n",
       "                            _i4 = _iterator4.next();\n",
       "                            if (_i4.done) break;\n",
       "                            _ref4 = _i4.value;\n",
       "                        }\n",
       "\n",
       "                        var result = _ref4;\n",
       "\n",
       "                        if (index < 7) {\n",
       "                            var content = {};\n",
       "                            content.title = JSON.parse(JSON.stringify(self.replaceHighlightWord(result.title, keyword)));\n",
       "                            content.link = result.code;\n",
       "                            self.contentList.push(content);\n",
       "                            index = index + 1;\n",
       "                        }\n",
       "                    }\n",
       "                }\n",
       "            },\n",
       "\n",
       "            /**\n",
       "             * 하이라이트 표시\n",
       "             */\n",
       "            replaceHighlightWord: function replaceHighlightWord(str, highlightKeyword) {\n",
       "                var replaceHighlightKeyword = highlightKeyword.replace(/[^a-z0-9가-힣_ ]/gi, '');\n",
       "                var regEx = new RegExp(replaceHighlightKeyword, \"gi\");\n",
       "                str = str.replace(regEx, function (a) {\n",
       "                    return '<span class=\"keysel\">' + a + '</span>';\n",
       "                });\n",
       "                return str;\n",
       "            },\n",
       "\n",
       "            /**\n",
       "             * 검색 버튼 클릭 시\n",
       "             * @param e\n",
       "             */\n",
       "            clickSearch: function clickSearch(e) {\n",
       "                if (!this.keyword || this.keyword.length === 0) {\n",
       "                    alert(\"검색어를 입력하세요\");\n",
       "                    $(\"#keyword_str\").focus();\n",
       "                    e.preventDefault();\n",
       "                } else {\n",
       "                    location.href = \"/search/search_list.html?keyword=\" + this.keyword;\n",
       "                }\n",
       "            },\n",
       "\n",
       "            /**\n",
       "             * 인기 검색어 클릭시\n",
       "             * @param book\n",
       "             */\n",
       "            clickPopularKeyword: function clickPopularKeyword(book) {\n",
       "                var searchKeyword = book.bookName;\n",
       "                location.href = \"/search/search_list.html?keyword=\" + searchKeyword;\n",
       "            },\n",
       "\n",
       "            /**\n",
       "             * 책 검색어 클릭시 책 상세로 이동\n",
       "             * @param book\n",
       "             */\n",
       "            clickBookKeyword: function clickBookKeyword(book) {\n",
       "                location.href = \"/store/books/look.php?p_code=\" + book.link;\n",
       "            },\n",
       "\n",
       "            /**\n",
       "             * 교육 클릭시 교육 상세로 이동\n",
       "             * @param education\n",
       "             */\n",
       "            clickEducationKeyword: function clickEducationKeyword(education) {\n",
       "                location.href = \"/store/education/edu_view.html?p_code=\" + education.link;\n",
       "            },\n",
       "\n",
       "            /**\n",
       "             * 컨텐츠 클릭시 컨텐츠 상세로 이동\n",
       "             * @param contents\n",
       "             */\n",
       "            clickContentKeyword: function clickContentKeyword(content) {\n",
       "                location.href = \"/channel/category/category_view.html?cms_code=\" + content.link;\n",
       "            }\n",
       "        }\n",
       "    });\n",
       "</script>\n",
       "<!-- //메인 검색 및 카테고리 영역 -->\n",
       "<meta content=\"text/html; charset=utf-8\" http-equiv=\"Content-Type\"/><script>alert('로그인이 필요한 서비스입니다.');location.href='/member/login.html';</script></body></html>"
      ]
     },
     "execution_count": 9,
     "metadata": {},
     "output_type": "execute_result"
    }
   ],
   "source": [
    "soup = BeautifulSoup(html, 'lxml')    #BeautifulSoup() : 사람이 볼 수 있는 형태로 바꿔줌\n",
    "soup"
   ]
  },
  {
   "cell_type": "markdown",
   "id": "0e61a50c-3429-44e2-bade-9a55e7867de6",
   "metadata": {},
   "source": [
    "#### ② 마일리지 확인하기"
   ]
  },
  {
   "cell_type": "code",
   "execution_count": 10,
   "id": "df2cb1b0-e66f-4e79-ac4f-56cec98b4341",
   "metadata": {},
   "outputs": [
    {
     "data": {
      "text/plain": [
       "[]"
      ]
     },
     "execution_count": 10,
     "metadata": {},
     "output_type": "execute_result"
    }
   ],
   "source": [
    "#container > div > div.sm_mymileage > dl.mileage_section1 > dd > span\n",
    "#soup.select(\"#container > div > div.sm_mymileage > dl.mileage_section1 > dd > span\")\n",
    "soup.select(\"#container > div > div.sm_mymileage > dl.mileage_section1 > dd > span\")"
   ]
  },
  {
   "cell_type": "code",
   "execution_count": 9,
   "id": "b5d0ab72-63b4-4fe6-9e87-894c1ba1063e",
   "metadata": {},
   "outputs": [
    {
     "ename": "AttributeError",
     "evalue": "'NoneType' object has no attribute 'text'",
     "output_type": "error",
     "traceback": [
      "\u001b[1;31m---------------------------------------------------------------------------\u001b[0m",
      "\u001b[1;31mAttributeError\u001b[0m                            Traceback (most recent call last)",
      "Input \u001b[1;32mIn [9]\u001b[0m, in \u001b[0;36m<cell line: 2>\u001b[1;34m()\u001b[0m\n\u001b[0;32m      1\u001b[0m \u001b[38;5;66;03m#soup.select(\"div > div.sm_mymileage > dl.mileage_section1 > dd > span\").text\u001b[39;00m\n\u001b[1;32m----> 2\u001b[0m \u001b[43msoup\u001b[49m\u001b[38;5;241;43m.\u001b[39;49m\u001b[43mselect_one\u001b[49m\u001b[43m(\u001b[49m\u001b[38;5;124;43m\"\u001b[39;49m\u001b[38;5;124;43mdiv > div.sm_mymileage > dl.mileage_section1 > dd > span\u001b[39;49m\u001b[38;5;124;43m\"\u001b[39;49m\u001b[43m)\u001b[49m\u001b[38;5;241;43m.\u001b[39;49m\u001b[43mtext\u001b[49m\n",
      "\u001b[1;31mAttributeError\u001b[0m: 'NoneType' object has no attribute 'text'"
     ]
    }
   ],
   "source": [
    "#soup.select(\"div > div.sm_mymileage > dl.mileage_section1 > dd > span\").text\n",
    "soup.select_one(\"div > div.sm_mymileage > dl.mileage_section1 > dd > span\").text"
   ]
  },
  {
   "cell_type": "code",
   "execution_count": null,
   "id": "c7042a03-f326-41da-9e61-24a736fe52e2",
   "metadata": {},
   "outputs": [],
   "source": [
    "soup.select_one(\"div > div.sm_mymileage > dl.mileage_section1 > dd > span\").string"
   ]
  },
  {
   "cell_type": "code",
   "execution_count": null,
   "id": "e3ecce2c-2ae8-4d78-b76f-566c5ec2fc4d",
   "metadata": {},
   "outputs": [],
   "source": [
    "soup.select_one(\"div > div.sm_mymileage > dl.mileage_section1 > dd > span\").get_text()"
   ]
  },
  {
   "cell_type": "code",
   "execution_count": null,
   "id": "0eea9ed7-0d8b-4f6c-b5b9-190b09a71e6b",
   "metadata": {},
   "outputs": [],
   "source": [
    "soup.select(\"div > div.sm_mymileage > dl.mileage_section1 > dd > span\").text\n",
    "soup.select(\"div > div.sm_mymileage > dl.mileage_section1 > dd > span\")[0].get_text()\n",
    "soup.select(\"div > div.sm_mymileage > dl.mileage_section1 > dd > span\")[0].text"
   ]
  },
  {
   "cell_type": "code",
   "execution_count": null,
   "id": "5d7a4353-6449-45b5-8db3-ea1b2a623867",
   "metadata": {},
   "outputs": [],
   "source": [
    "soup.select_one(\"div > div.sm_mymileage > dl.mileage_section1 > dd > span\").text\n",
    "soup.select_one(\"div > div.sm_mymileage > dl.mileage_section1 > dd > span\").string\n",
    "soup.select_one(\"div > div.sm_mymileage > dl.mileage_section1 > dd > span\").get_text()"
   ]
  },
  {
   "cell_type": "code",
   "execution_count": null,
   "id": "def0aeef-26d4-4aff-9466-55f41b9d3b5f",
   "metadata": {},
   "outputs": [],
   "source": [
    "soup.select_one(\"dl.mileage_section2 > dt\")\n",
    "soup.select_one(\"dl.mileage_section2 > dt\").text"
   ]
  },
  {
   "cell_type": "code",
   "execution_count": null,
   "id": "a6879e5f-58a8-4413-84d7-2776db53cba5",
   "metadata": {},
   "outputs": [],
   "source": [
    "mileage = soup.select_one(\"div > div.sm_mymileage > dl.mileage_section1 > dd > span\").get_text()\n",
    "ecoin = soup.select_one(\"dl.mileage_section2 > dt\").text"
   ]
  },
  {
   "cell_type": "code",
   "execution_count": null,
   "id": "60305676-b9fb-4782-9b18-3d28d0ed05ec",
   "metadata": {},
   "outputs": [],
   "source": [
    "print('마일리지:', + mileage)\n",
    "print('e코인:', + ecoin)"
   ]
  },
  {
   "cell_type": "code",
   "execution_count": null,
   "id": "45cf2caf-d44c-4122-b3eb-c7d52f5643dc",
   "metadata": {},
   "outputs": [],
   "source": [
    "import requests\n",
    "from bs4 import BeautifulSoup\n",
    "\n",
    "session = requests.session()\n",
    "\n",
    "url = \"https://www.hanbit.co.kr/member/login_proc.php\"\n",
    "session.post(url, {\"m_id\": \" \", \"m_passwd\": \" \"})\n",
    "\n",
    "resp = session.get(\"https://www.hanbit.co.kr/myhanbit/myhanbit.html\")\n",
    "\n",
    "resp.raise_for_status\n",
    "\n",
    "html = resp.text\n",
    "\n",
    "soup = BeautifulSoup(html, 'lxml')\n",
    "soup\n",
    "\n",
    "# #container > div > div.sm_mymileage > dl.mileage_section1 > dd > span\n",
    "soup.select('dl.mileage_section1 > dd > span')\n",
    "\n",
    "mileage = soup.select_one('dl.mileage_section1 > dd > span').get_text()\n",
    "ecoin = soup.select_one('dl.mileage_section2 > dd > span').text\n",
    "\n",
    "print(\"마일리지: \", mileage)\n",
    "print(\"한빛이코인: \", ecoin) "
   ]
  },
  {
   "cell_type": "markdown",
   "id": "8b587e12-91ab-4d06-81f3-15fee9657774",
   "metadata": {},
   "source": [
    "### < 날씨 정보 가져오기 (json 형식 가져오기) >\n",
    "openweathermap.org/ "
   ]
  },
  {
   "cell_type": "code",
   "execution_count": 11,
   "id": "adaebfa9-bb29-4840-933a-26981a224a96",
   "metadata": {},
   "outputs": [],
   "source": [
    "import requests\n",
    "import json"
   ]
  },
  {
   "cell_type": "code",
   "execution_count": 12,
   "id": "81a277d3-fba5-4680-b6df-e98f3244ecf8",
   "metadata": {},
   "outputs": [],
   "source": [
    "#api 사용 허용 key\n",
    "apikey = \"28ed8b8682f52838a0a86e00b8578fcd\"\n",
    "api = \"http://api.openweathermap.org/data/2.5/weather?q={city}&APPID={key}\""
   ]
  },
  {
   "cell_type": "code",
   "execution_count": 13,
   "id": "1185006c-4516-4e5f-9269-68be83a0db79",
   "metadata": {},
   "outputs": [],
   "source": [
    "cities = ['Seoul, KR', 'New York, US']"
   ]
  },
  {
   "cell_type": "code",
   "execution_count": 14,
   "id": "823f7b8a-e746-4b4c-80d4-c6a52fed1118",
   "metadata": {},
   "outputs": [],
   "source": [
    "cities = ['Seoul, KR', 'New York, US']\n",
    "k2c = lambda k: round(k - 273.15, 1)"
   ]
  },
  {
   "cell_type": "code",
   "execution_count": 15,
   "id": "ced565b4-6673-4b7d-93ef-1b8ac2654573",
   "metadata": {},
   "outputs": [
    {
     "name": "stdout",
     "output_type": "stream",
     "text": [
      "{'coord': {'lon': 126.9778, 'lat': 37.5683}, 'weather': [{'id': 801, 'main': 'Clouds', 'description': 'few clouds', 'icon': '02d'}], 'base': 'stations', 'main': {'temp': 293.04, 'feels_like': 292.13, 'temp_min': 289.84, 'temp_max': 293.81, 'pressure': 1025, 'humidity': 40}, 'visibility': 10000, 'wind': {'speed': 1.54, 'deg': 250}, 'clouds': {'all': 20}, 'dt': 1666939065, 'sys': {'type': 1, 'id': 8105, 'country': 'KR', 'sunrise': 1666907537, 'sunset': 1666946359}, 'timezone': 32400, 'id': 1835848, 'name': 'Seoul', 'cod': 200}\n",
      "\n",
      "+ 도시 = Seoul\n",
      "| 날씨 = few clouds\n",
      "| 최저 기온 = 16.7\n",
      "| 최고 기온 = 20.7\n",
      "| 습도 = 40\n",
      "| 기압 = 1025\n",
      "| 풍향 = 250\n",
      "| 풍속 = 1.54\n",
      "\n",
      "{'coord': {'lon': -74.006, 'lat': 40.7143}, 'weather': [{'id': 800, 'main': 'Clear', 'description': 'clear sky', 'icon': '01n'}], 'base': 'stations', 'main': {'temp': 282.77, 'feels_like': 279.4, 'temp_min': 279.05, 'temp_max': 284.81, 'pressure': 1029, 'humidity': 59}, 'visibility': 10000, 'wind': {'speed': 7.72, 'deg': 360}, 'clouds': {'all': 0}, 'dt': 1666939039, 'sys': {'type': 2, 'id': 2039034, 'country': 'US', 'sunrise': 1666956094, 'sunset': 1666994270}, 'timezone': -14400, 'id': 5128581, 'name': 'New York', 'cod': 200}\n",
      "\n",
      "+ 도시 = New York\n",
      "| 날씨 = clear sky\n",
      "| 최저 기온 = 5.9\n",
      "| 최고 기온 = 11.7\n",
      "| 습도 = 59\n",
      "| 기압 = 1029\n",
      "| 풍향 = 360\n",
      "| 풍속 = 7.72\n",
      "\n"
     ]
    }
   ],
   "source": [
    "for city in cities:\n",
    "    #api를 써서 정보를 받아오는 법\n",
    "    url = api.format(city = city, key = apikey)\n",
    "    reqs = requests.get(url)\n",
    "    \n",
    "    #해석\n",
    "    data = json.loads(reqs.text)   #결과를 json 형식으로 변환\n",
    "    print(data)\n",
    "    print()\n",
    "    print(\"+ 도시 =\", data[\"name\"])\n",
    "    print(\"| 날씨 =\", data[\"weather\"][0][\"description\"])\n",
    "    print(\"| 최저 기온 =\", k2c(data[\"main\"][\"temp_min\"]))\n",
    "    print(\"| 최고 기온 =\", k2c(data[\"main\"][\"temp_max\"]))\n",
    "    print(\"| 습도 =\", data[\"main\"][\"humidity\"])\n",
    "    print(\"| 기압 =\", data[\"main\"][\"pressure\"])\n",
    "    print(\"| 풍향 =\", data[\"wind\"][\"deg\"])\n",
    "    print(\"| 풍속 =\", data[\"wind\"][\"speed\"])\n",
    "    print(\"\")"
   ]
  },
  {
   "cell_type": "code",
   "execution_count": null,
   "id": "c907b250-2a49-4e6f-aff0-4b5ce119b2bb",
   "metadata": {},
   "outputs": [],
   "source": []
  }
 ],
 "metadata": {
  "kernelspec": {
   "display_name": "Python 3 (ipykernel)",
   "language": "python",
   "name": "python3"
  },
  "language_info": {
   "codemirror_mode": {
    "name": "ipython",
    "version": 3
   },
   "file_extension": ".py",
   "mimetype": "text/x-python",
   "name": "python",
   "nbconvert_exporter": "python",
   "pygments_lexer": "ipython3",
   "version": "3.9.12"
  }
 },
 "nbformat": 4,
 "nbformat_minor": 5
}
