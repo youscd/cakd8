{
 "cells": [
  {
   "cell_type": "markdown",
   "id": "fce48faa-c4f7-4293-9ab7-7a714afd58a4",
   "metadata": {},
   "source": [
    "### 1. 데이터 수집과 전처리"
   ]
  },
  {
   "cell_type": "code",
   "execution_count": null,
   "id": "75c5af44-1723-43dd-b527-2179a8617bbe",
   "metadata": {},
   "outputs": [],
   "source": [
    "#1. from selenium import webdriver 한 후 selenium을 통해서 \"www.naver.com\"에 접속하시오.\n",
    "from selenium import webdriver\n",
    "\n",
    "driver = webdriver.Chrome(\"C:/Users/admin/chromedriver.exe\")\n",
    "\n",
    "url = 'chrome://newtab/'\n",
    "driver.get(url)\n",
    "\n",
    "element = driver.find_element(By.ID, \"input\")\n",
    "element.clear()\n",
    "element.send_keys(\"www.naver.com\")\n",
    "\n",
    "\n",
    "#답\n",
    "from selenium import webdriver\n",
    "\n",
    "driver = webdriver.Chrome(\"C:/Users/admin/chromedriver.exe\")\n",
    "\n",
    "driver.get('www.naver.com')"
   ]
  },
  {
   "cell_type": "code",
   "execution_count": null,
   "id": "e178ae5b-f215-4844-a8a7-161259a0c28d",
   "metadata": {},
   "outputs": [],
   "source": [
    "#2. 네이버의 검색 창에 selenium을 입력하고 검색한 화면까지 이동합니다.\n",
    "#다음 코드의 마지막 괄호안 ( ------ )에 들어갈 인자를 넣어 주세요\n",
    "search_window = driver.find_element_by_css_selector(\"#query\")\n",
    "search_window.clear()\n",
    "search_window.send_keys(\"selenium\")\n",
    "search_window.send_keys( ------ )\n",
    "\n",
    "\n",
    "#답\n",
    "Keys.ENTER"
   ]
  },
  {
   "cell_type": "code",
   "execution_count": 1,
   "id": "ca8799f8-7280-4cc3-a4dc-027fda9b613b",
   "metadata": {},
   "outputs": [],
   "source": [
    "#3. 다음은 문제에서 사용할 코드이다.\n",
    "from bs4 import BeautifulSoup\n",
    "\n",
    "html = \"\"\"\n",
    "<!DOCTYPE html>\n",
    "     <body>\n",
    "         <h1>ABC</h1>\n",
    "         <div id=\"hangle\">가나다</div>\n",
    "         <ul>\n",
    "             <li class=\"one\">1번</li>\n",
    "             <li class=\"two\">2번</li>\n",
    "         </ul>\n",
    "     </body>\n",
    "</html>ㄴ\n",
    "\"\"\"\n",
    "\n",
    "soup = BeautifulSoup(html, 'lxml')"
   ]
  },
  {
   "cell_type": "code",
   "execution_count": 20,
   "id": "d065c839-018a-4011-bf3e-f24a2bdb1212",
   "metadata": {},
   "outputs": [
    {
     "ename": "TypeError",
     "evalue": "'NoneType' object is not callable",
     "output_type": "error",
     "traceback": [
      "\u001b[1;31m---------------------------------------------------------------------------\u001b[0m",
      "\u001b[1;31mTypeError\u001b[0m                                 Traceback (most recent call last)",
      "Input \u001b[1;32mIn [20]\u001b[0m, in \u001b[0;36m<cell line: 8>\u001b[1;34m()\u001b[0m\n\u001b[0;32m      2\u001b[0m \u001b[38;5;28;01mfrom\u001b[39;00m \u001b[38;5;21;01mselenium\u001b[39;00m\u001b[38;5;21;01m.\u001b[39;00m\u001b[38;5;21;01mwebdriver\u001b[39;00m\u001b[38;5;21;01m.\u001b[39;00m\u001b[38;5;21;01mcommon\u001b[39;00m\u001b[38;5;21;01m.\u001b[39;00m\u001b[38;5;21;01mby\u001b[39;00m \u001b[38;5;28;01mimport\u001b[39;00m By\n\u001b[0;32m      4\u001b[0m \u001b[38;5;66;03m#1) 'ABC'를 출력하는 코드를 작성하시오.\u001b[39;00m\n\u001b[0;32m      5\u001b[0m \u001b[38;5;66;03m#soup.find_element(By.TAG_NAME, 'h1')\u001b[39;00m\n\u001b[0;32m      6\u001b[0m \n\u001b[0;32m      7\u001b[0m \u001b[38;5;66;03m#2) id 선택자를 사용하여 '가나다'를 출력하는 코드를 작성하시오.\u001b[39;00m\n\u001b[1;32m----> 8\u001b[0m \u001b[43msoup\u001b[49m\u001b[38;5;241;43m.\u001b[39;49m\u001b[43mfind_element\u001b[49m\u001b[43m(\u001b[49m\u001b[43mBy\u001b[49m\u001b[38;5;241;43m.\u001b[39;49m\u001b[43mID\u001b[49m\u001b[43m,\u001b[49m\u001b[43m \u001b[49m\u001b[38;5;124;43m'\u001b[39;49m\u001b[38;5;124;43mhangle\u001b[39;49m\u001b[38;5;124;43m'\u001b[39;49m\u001b[43m)\u001b[49m\u001b[38;5;241m.\u001b[39mtext()\n",
      "\u001b[1;31mTypeError\u001b[0m: 'NoneType' object is not callable"
     ]
    }
   ],
   "source": [
    "#여기에 다음 3가지를 출력하도록 합니다. 각각 한 라인씩 총 3개라인.\n",
    "from selenium.webdriver.common.by import By\n",
    "\n",
    "#1) 'ABC'를 출력하는 코드를 작성하시오.\n",
    "soup.find_element(By.TAG_NAME, 'h1')\n",
    "\n",
    "#2) id 선택자를 사용하여 '가나다'를 출력하는 코드를 작성하시오.\n",
    "soup.find_element(By.ID, 'hangle')\n",
    "\n",
    "#3) class 선택자를 이용하여 '2번'을 출력하는 코드를 작성하시오.\n",
    "soup.find_element(By.CLASS_NAME, 'two')"
   ]
  },
  {
   "cell_type": "code",
   "execution_count": 16,
   "id": "803c7240-1bee-4355-b04e-022c46641719",
   "metadata": {},
   "outputs": [
    {
     "data": {
      "text/plain": [
       "'ABC'"
      ]
     },
     "execution_count": 16,
     "metadata": {},
     "output_type": "execute_result"
    }
   ],
   "source": [
    "#3. 답\n",
    "#1) 'ABC'를 출력하는 코드를 작성하시오.\n",
    "soup.find('h1').text\n",
    "\n",
    "#2) id 선택자를 사용하여 '가나다'를 출력하는 코드를 작성하시오.\n",
    "soup.find(id = 'hangle').text\n",
    "\n",
    "#3) class 선택자를 이용하여 '2번'을 출력하는 코드를 작성하시오.\n",
    "soup.find(class_ = 'two').text"
   ]
  },
  {
   "cell_type": "markdown",
   "id": "9fec0809-1bc4-4dd5-8f48-cf53bb900496",
   "metadata": {},
   "source": [
    "### 2. 데이터 분석"
   ]
  },
  {
   "cell_type": "code",
   "execution_count": null,
   "id": "34c49520-5a1a-4f2b-a26a-877f39febd8c",
   "metadata": {},
   "outputs": [],
   "source": [
    "#1. 한국어 형태소분석을 할 때, 자연어 단어를 숫자벡터로 바꾸어 주는 단어임베딩 알고리즘은 무엇입니까?\n",
    "#이 알고리즘을 이용하면 단어간의 거리를 기반으로 뎃셈뺄셈과 같은 연산, 단어유사도 측정을 할 수 있다\n",
    "Word2Vec"
   ]
  },
  {
   "cell_type": "code",
   "execution_count": null,
   "id": "2849e476-4b71-4b02-a22d-344ebda2d8c4",
   "metadata": {},
   "outputs": [],
   "source": [
    "#2. 위의 알고리즘과 달리, 단어의 순서를 무시하고 단어의 출현빈도를 나타내도록\n",
    "#한 주머니(Bag)에 모두 담는 단어임베딩 방식은 무엇입니까?\n",
    "BOW (Bag of Words)"
   ]
  },
  {
   "cell_type": "code",
   "execution_count": null,
   "id": "75035a8f-5cef-4a9d-90c1-60fae02c3f7d",
   "metadata": {},
   "outputs": [],
   "source": [
    "#3. 자연어처리 분야에서 Corpus (복수형은 corpora)는 우리말로 무엇이라고 합니까.\n",
    "말뭉치"
   ]
  },
  {
   "cell_type": "code",
   "execution_count": null,
   "id": "e940ab39-91df-4ea9-ba54-a6edff07c5d7",
   "metadata": {},
   "outputs": [],
   "source": [
    "#4. 한국어 형태소 분석 라이브러리는 KoNLPy가 있고 형태소 분석기는 여러종류가 있다.\n",
    "#한국어형태소 분석기를 3개만 써 봅시다.\n",
    "NLTK, Gensim, SpaCy"
   ]
  },
  {
   "cell_type": "code",
   "execution_count": null,
   "id": "e97d8469-de8b-46a9-8ada-ced669b278e3",
   "metadata": {},
   "outputs": [],
   "source": [
    "#5.  단어의 N-gram의 종류에는 무엇이 있는지 3가지만 써 주세요.\n",
    "1-gram : uni-gram / 2-gram : bi-gram / 3-gram : tir-gram"
   ]
  },
  {
   "cell_type": "code",
   "execution_count": null,
   "id": "fef8407b-e5bf-4b36-9c29-c527c1385f88",
   "metadata": {},
   "outputs": [],
   "source": [
    "#6. 다음 코드에서 명사, 조사와 같은 품사를 분류하도록 밑줄 부분에 들어갈 코드를 쓰세요.\n",
    "from konlpy.tag import Okt\n",
    "okt = Okt( )\n",
    "malist = _____ . _____ (\"아버지 가방에 들어가신다\", norm= True, stem= True)\n",
    "print(malist)\n",
    "\n",
    "\n",
    "#답\n",
    "malist = okt.pos(\"아버지 가방에 들어가신다\", norm= True, stem= True)"
   ]
  },
  {
   "cell_type": "markdown",
   "id": "3ff58a22-0be6-4c3a-b19b-17e80a132f57",
   "metadata": {},
   "source": [
    "### 3. 머신러닝 알고리즘"
   ]
  },
  {
   "cell_type": "code",
   "execution_count": null,
   "id": "3ae37e05-cc67-4dcc-a5e5-7675b15fc7d1",
   "metadata": {},
   "outputs": [],
   "source": [
    "#1. 머신러닝 알고리즘 중에서\n",
    "#분류, 회귀, 군집에 맞는 알고리즘을 각각 1개씩 써 봅시다. \n",
    "분류 - RandomForestClassifier\n",
    "회귀 - LinearRegressor\n",
    "군집 - K-Means"
   ]
  },
  {
   "cell_type": "code",
   "execution_count": null,
   "id": "867e83ba-a356-4f4f-a96d-aed4cef7aa01",
   "metadata": {},
   "outputs": [],
   "source": [
    "#2. 분류, 회귀, 군집에 맞는 평가방법을 각각 1가지 이상씩 써 봅시다\n",
    "분류 - 정확도, 오차 행렬, 정밀도와 재현율, F1 스코어, ROC 곡선과 AUC\n",
    "회귀 - MAE, MSE, RMSE\n",
    "군집 - 실루엣 분석"
   ]
  },
  {
   "cell_type": "code",
   "execution_count": null,
   "id": "721c0dc1-4ea6-439b-9221-37da2bf3f987",
   "metadata": {},
   "outputs": [],
   "source": [
    "#3. 사이킷런에서 Estimator란 무엇입니까?\n",
    "사이킷런의 분류 알고리즘 클래스인 Classifier (또는 회귀 알고리즘 클래스 Regressor)"
   ]
  },
  {
   "cell_type": "code",
   "execution_count": null,
   "id": "2cda9a50-84a9-4e2a-9fa9-06be2dd3775d",
   "metadata": {},
   "outputs": [],
   "source": [
    "#4. 분류 알고리즘 중에서 가장 각광받는 부스팅 모델로서 병렬처리가 가능한 두가지 모델은?\n",
    "XGBoost, LightGBM"
   ]
  },
  {
   "cell_type": "code",
   "execution_count": null,
   "id": "b480564e-724c-414e-859d-06cdeebea9ad",
   "metadata": {},
   "outputs": [],
   "source": [
    "#5. 의사결정나무(Decision Tree)에서 36개의 피쳐를 가진 데이터셋이 있다.\n",
    "#의사결정나무의 앙상블인 랜덤포레스트 모델을 fitting 할 때, 랜덤하게 택하는 변수의 개수는 몇 개인가?\n",
    "6개"
   ]
  },
  {
   "cell_type": "code",
   "execution_count": null,
   "id": "a7e7b70a-2df3-45cd-ac8b-571e56389522",
   "metadata": {},
   "outputs": [],
   "source": [
    "#6. 의사결정나무에서 가지치기(pruning)을 하는 이유는?\n",
    "과적합을 방지하기 위해서 너무 자세하게 구분된 영역을 통합한다 (하위 노드들을 상위 노드로 결합)"
   ]
  },
  {
   "cell_type": "code",
   "execution_count": null,
   "id": "c5fdd065-9b92-43ec-ab7e-08c6d996442b",
   "metadata": {},
   "outputs": [],
   "source": [
    "#7. 고유벡터와 고유값을 이용하여 여러 피처로 구성된 높은 차원에서 소수의 낮은 차원으로\n",
    "#차원축소를 하는 대표적인 알고리즘은?\n",
    "PCA"
   ]
  },
  {
   "cell_type": "code",
   "execution_count": null,
   "id": "3efb896b-2655-435f-a452-9b18702b84fd",
   "metadata": {},
   "outputs": [],
   "source": [
    "#8. 아래 밑줄 친 세곳에 들어갈 코드를 각각 쓰세요. (라이브러리 import 부분은 생략하였음)\n",
    "\n",
    "dataset = load_breast_cancer()\n",
    "\n",
    "ftr = dataset.data\n",
    "target = dataset.target\n",
    "\n",
    "X_train, X_test, y_train, y_test= _____(1)_____ (ftr, target, test_size=0.2, random_state=156 )\n",
    "\n",
    "lgbm_wrapper = LGBMClassifier(n_estimators=400)\n",
    "evals = [(X_test, y_test)]\n",
    "\n",
    "lgbm_wrapper.fit(X_train, y_train, early_stopping_rounds=100, eval_metric=\"logloss\",\n",
    "                 eval_set=evals, verbose=True)\n",
    "\n",
    "preds = lgbm_wrapper._____(2)_____ (X_test)\n",
    "pred_proba = lgbm_wrapper._____(3)_____ (X_test)[:, 1] # 예측의 확률을 리턴\n",
    "\n",
    "\n",
    "#(1) train_test_split\n",
    "#(2) predict\n",
    "#(3) predict_proba"
   ]
  },
  {
   "cell_type": "markdown",
   "id": "9bdbd878-7a4c-4482-8dc2-0933295f7fe5",
   "metadata": {},
   "source": [
    "### 4. 모델링 성능 평가 및 개선"
   ]
  },
  {
   "cell_type": "code",
   "execution_count": null,
   "id": "fcdff496-3c82-401c-925e-0da18179e9b1",
   "metadata": {},
   "outputs": [],
   "source": [
    "#1 .다음 설명에 맞는 용어를 순서대로 쓰세요\n",
    "\n",
    "#1) 머신러닝 모델의 타당성을 검증하는 방법 중의 하나로\n",
    "#특정 데이터를 훈련 전용 데이터와 테스트 전용 데이터로 분할한 뒤 훈련 데이터를 활용해 학습하고,\n",
    "#테스트 데이터로 테스트해서 학습의 타당성을 검증하는 방법\n",
    "cross_val_score()\n",
    "\n",
    "#2) 어떤 매개변수가 적절한지 자동으로 조사하는 방법으로 각 매개 변수를 적당한 범위 내부에서\n",
    "#변경하면서 가장 성능이 좋을 때 값을 찾는 방법\n",
    "GridSearchCV 하이퍼 파라미터 튜닝\n",
    "\n",
    "#3) 데이터를 k 개로 분할해 분할된 각 데이터를 테스트 전용데이터 나머지를 훈련 전용 데이터로 사용해\n",
    "#분류 정밀도를 구한 뒤 구한 k개의 분류 정밀도의 평균을 구해 최종적인 분류 정밀도를 구하는 방법\n",
    "K-Fold 검증"
   ]
  },
  {
   "cell_type": "code",
   "execution_count": null,
   "id": "ede6cc0c-ee40-40f2-9458-542e5efb6dba",
   "metadata": {},
   "outputs": [],
   "source": [
    "#2 . 최솟값은 0, 최댓값은 1로 바꾸는 최소최대 정규화는 MinMaxScaler가 있습니다.\n",
    "#이를 직접 람다함수로 만들어 주세요.\n",
    "lambda x: (x - x.min()) / (x.max() - x.min())"
   ]
  },
  {
   "cell_type": "code",
   "execution_count": null,
   "id": "91fac9c5-273f-446f-a39c-c6590d87110e",
   "metadata": {},
   "outputs": [],
   "source": [
    "#3. TP: 1, FP: 2, FN: 3, TN: 4 일 때\n",
    "#Accuracy, Precision, Sensitivity, Recall, Specificity, FPR, TPR을 순서대로 '분수형태'로 써주세요.\n",
    "Accuracy = TP / (TP+TN) = 1/5\n",
    "Precision = TP / (TP+FP) = 1/3\n",
    "Sensitivity = TP / (TP+FN) = 1/4\n",
    "Recall = TP / (TP+FN) = 1/4\n",
    "Specificity = TN / (TN+FP) = 4/6\n",
    "FPR = FP / (TN+FP) = 2/6\n",
    "TPR = TP / (TP+FN) = 1/4"
   ]
  },
  {
   "cell_type": "code",
   "execution_count": 21,
   "id": "ff2c848a-2a88-4354-8370-0995b4a1b9a3",
   "metadata": {},
   "outputs": [],
   "source": [
    "#4. svm을 모델로 사용하여 정확도(accuracy) 를 구하는 코드들 순서대로 작성해 주세요.\n",
    "#(코드 길이는 약 10라인 가량이며 실행후 정확도는 약 60%정도 나옵니다)\n",
    "\n",
    "import pandas as pd\n",
    "from sklearn import svm, metrics\n",
    "from sklearn.model_selection import train_test_split\n",
    "from sklearn import datasets\n",
    "\n",
    "wine = datasets.load_wine()\n"
   ]
  },
  {
   "cell_type": "code",
   "execution_count": 31,
   "id": "a7a49701-476e-47f5-96c9-1622c826b23a",
   "metadata": {
    "tags": []
   },
   "outputs": [
    {
     "data": {
      "text/plain": [
       "0.8222222222222222"
      ]
     },
     "execution_count": 31,
     "metadata": {},
     "output_type": "execute_result"
    }
   ],
   "source": [
    "from sklearn.svm import SVC\n",
    "from sklearn.metrics import accuracy_score\n",
    "\n",
    "clf_sv = svm.SVC()\n",
    "\n",
    "X_train, X_test, y_train, y_test = train_test_split(wine.data, wine.target, random_state=0)\n",
    "\n",
    "clf_sv.fit(X_train, y_train)\n",
    "clf_sv.predict(X_test)\n",
    "\n",
    "accuracy_score(y_test, pred)"
   ]
  },
  {
   "cell_type": "markdown",
   "id": "442e9a4b-8867-4646-ae72-c6d16a890609",
   "metadata": {
    "tags": []
   },
   "source": [
    "#### pandas"
   ]
  },
  {
   "cell_type": "code",
   "execution_count": 32,
   "id": "3d7a91b3-cf00-4ea5-b53d-01799c669fe5",
   "metadata": {},
   "outputs": [
    {
     "data": {
      "text/plain": [
       "1668396096.5858412"
      ]
     },
     "execution_count": 32,
     "metadata": {},
     "output_type": "execute_result"
    }
   ],
   "source": [
    "import time\n",
    "time.time()"
   ]
  },
  {
   "cell_type": "code",
   "execution_count": 34,
   "id": "aae70b90-e95d-4aa9-8fd9-212a64a87c51",
   "metadata": {},
   "outputs": [
    {
     "data": {
      "text/plain": [
       "2022"
      ]
     },
     "execution_count": 34,
     "metadata": {},
     "output_type": "execute_result"
    }
   ],
   "source": [
    "time.localtime(time.time())\n",
    "time.localtime(time.time()).tm_year"
   ]
  },
  {
   "cell_type": "code",
   "execution_count": 39,
   "id": "42369a70-b702-4bec-a4ab-17bbe664b848",
   "metadata": {},
   "outputs": [
    {
     "data": {
      "text/plain": [
       "time.struct_time(tm_year=2022, tm_mon=11, tm_mday=14, tm_hour=12, tm_min=23, tm_sec=33, tm_wday=0, tm_yday=318, tm_isdst=0)"
      ]
     },
     "execution_count": 39,
     "metadata": {},
     "output_type": "execute_result"
    }
   ],
   "source": [
    "now = time.localtime()\n",
    "now"
   ]
  },
  {
   "cell_type": "code",
   "execution_count": 40,
   "id": "61df7d8b-728d-404b-87c0-093a334b8338",
   "metadata": {},
   "outputs": [
    {
     "name": "stdout",
     "output_type": "stream",
     "text": [
      "11/14/22\n",
      "12:23:33\n"
     ]
    }
   ],
   "source": [
    "print(time.strftime('%x', now))\n",
    "print(time.strftime('%X', now))"
   ]
  },
  {
   "cell_type": "code",
   "execution_count": 41,
   "id": "bf0b1afc-1f0e-4b4c-b506-2ed30be206f2",
   "metadata": {},
   "outputs": [
    {
     "data": {
      "text/plain": [
       "'November'"
      ]
     },
     "execution_count": 41,
     "metadata": {},
     "output_type": "execute_result"
    }
   ],
   "source": [
    "time.strftime('%B', now)"
   ]
  },
  {
   "cell_type": "code",
   "execution_count": 42,
   "id": "9e636e63-bd4f-41fa-acfb-c7d393760135",
   "metadata": {},
   "outputs": [
    {
     "data": {
      "text/plain": [
       "'2022-11-14 12:23:33 PM'"
      ]
     },
     "execution_count": 42,
     "metadata": {},
     "output_type": "execute_result"
    }
   ],
   "source": [
    "time.strftime('%Y-%m-%d %I:%M:%S %p', now)"
   ]
  },
  {
   "cell_type": "code",
   "execution_count": 44,
   "id": "0f9ba3ae-7011-4bc0-bb6d-b69e30f801f4",
   "metadata": {},
   "outputs": [
    {
     "data": {
      "text/plain": [
       "time.struct_time(tm_year=2022, tm_mon=11, tm_mday=14, tm_hour=12, tm_min=23, tm_sec=33, tm_wday=0, tm_yday=318, tm_isdst=-1)"
      ]
     },
     "execution_count": 44,
     "metadata": {},
     "output_type": "execute_result"
    }
   ],
   "source": [
    "time.strptime('2022-11-14 12:23:33 PM', '%Y-%m-%d %I:%M:%S %p')"
   ]
  },
  {
   "cell_type": "code",
   "execution_count": 49,
   "id": "10f1f9f6-51dc-47e5-b6fe-1b4bbad17ad2",
   "metadata": {},
   "outputs": [
    {
     "data": {
      "text/plain": [
       "'                                  2022\\n\\n      January                   February                   March\\nMo Tu We Th Fr Sa Su      Mo Tu We Th Fr Sa Su      Mo Tu We Th Fr Sa Su\\n                1  2          1  2  3  4  5  6          1  2  3  4  5  6\\n 3  4  5  6  7  8  9       7  8  9 10 11 12 13       7  8  9 10 11 12 13\\n10 11 12 13 14 15 16      14 15 16 17 18 19 20      14 15 16 17 18 19 20\\n17 18 19 20 21 22 23      21 22 23 24 25 26 27      21 22 23 24 25 26 27\\n24 25 26 27 28 29 30      28                        28 29 30 31\\n31\\n\\n       April                      May                       June\\nMo Tu We Th Fr Sa Su      Mo Tu We Th Fr Sa Su      Mo Tu We Th Fr Sa Su\\n             1  2  3                         1             1  2  3  4  5\\n 4  5  6  7  8  9 10       2  3  4  5  6  7  8       6  7  8  9 10 11 12\\n11 12 13 14 15 16 17       9 10 11 12 13 14 15      13 14 15 16 17 18 19\\n18 19 20 21 22 23 24      16 17 18 19 20 21 22      20 21 22 23 24 25 26\\n25 26 27 28 29 30         23 24 25 26 27 28 29      27 28 29 30\\n                          30 31\\n\\n        July                     August                  September\\nMo Tu We Th Fr Sa Su      Mo Tu We Th Fr Sa Su      Mo Tu We Th Fr Sa Su\\n             1  2  3       1  2  3  4  5  6  7                1  2  3  4\\n 4  5  6  7  8  9 10       8  9 10 11 12 13 14       5  6  7  8  9 10 11\\n11 12 13 14 15 16 17      15 16 17 18 19 20 21      12 13 14 15 16 17 18\\n18 19 20 21 22 23 24      22 23 24 25 26 27 28      19 20 21 22 23 24 25\\n25 26 27 28 29 30 31      29 30 31                  26 27 28 29 30\\n\\n      October                   November                  December\\nMo Tu We Th Fr Sa Su      Mo Tu We Th Fr Sa Su      Mo Tu We Th Fr Sa Su\\n                1  2          1  2  3  4  5  6                1  2  3  4\\n 3  4  5  6  7  8  9       7  8  9 10 11 12 13       5  6  7  8  9 10 11\\n10 11 12 13 14 15 16      14 15 16 17 18 19 20      12 13 14 15 16 17 18\\n17 18 19 20 21 22 23      21 22 23 24 25 26 27      19 20 21 22 23 24 25\\n24 25 26 27 28 29 30      28 29 30                  26 27 28 29 30 31\\n31\\n'"
      ]
     },
     "execution_count": 49,
     "metadata": {},
     "output_type": "execute_result"
    }
   ],
   "source": [
    "import calendar\n",
    "calendar.calendar(2022)"
   ]
  },
  {
   "cell_type": "code",
   "execution_count": 50,
   "id": "dbb125f4-329b-4bc1-825a-05f3e711af56",
   "metadata": {},
   "outputs": [
    {
     "name": "stdout",
     "output_type": "stream",
     "text": [
      "   November 2022\n",
      "Mo Tu We Th Fr Sa Su\n",
      "    1  2  3  4  5  6\n",
      " 7  8  9 10 11 12 13\n",
      "14 15 16 17 18 19 20\n",
      "21 22 23 24 25 26 27\n",
      "28 29 30\n"
     ]
    }
   ],
   "source": [
    "calendar.prmonth(2022, 11)"
   ]
  },
  {
   "cell_type": "code",
   "execution_count": 51,
   "id": "37ce87fe-57be-4433-95e7-8dae475e2c7d",
   "metadata": {},
   "outputs": [
    {
     "data": {
      "text/plain": [
       "6"
      ]
     },
     "execution_count": 51,
     "metadata": {},
     "output_type": "execute_result"
    }
   ],
   "source": [
    "calendar.weekday(2022, 9, 25)"
   ]
  },
  {
   "cell_type": "code",
   "execution_count": 53,
   "id": "15afd8a7-7666-47a9-b4f7-47f0659b6741",
   "metadata": {},
   "outputs": [
    {
     "data": {
      "text/plain": [
       "[5, 11, 9, 18, 20, 10, 15, 7, 17]"
      ]
     },
     "execution_count": 53,
     "metadata": {},
     "output_type": "execute_result"
    }
   ],
   "source": [
    "import random\n",
    "\n",
    "li = []\n",
    "for _ in range(10):\n",
    "    a = random.randint(1, 20)\n",
    "    if a in li:\n",
    "        continue\n",
    "    else:\n",
    "        li.append(a)\n",
    "li    "
   ]
  },
  {
   "cell_type": "code",
   "execution_count": null,
   "id": "a3c26e7c-eabb-4f97-9d0d-08cad9469625",
   "metadata": {},
   "outputs": [],
   "source": []
  },
  {
   "cell_type": "code",
   "execution_count": null,
   "id": "ec846a88-e22f-4ff8-b8ac-6e2ac8f2b596",
   "metadata": {},
   "outputs": [],
   "source": []
  }
 ],
 "metadata": {
  "kernelspec": {
   "display_name": "Python 3 (ipykernel)",
   "language": "python",
   "name": "python3"
  },
  "language_info": {
   "codemirror_mode": {
    "name": "ipython",
    "version": 3
   },
   "file_extension": ".py",
   "mimetype": "text/x-python",
   "name": "python",
   "nbconvert_exporter": "python",
   "pygments_lexer": "ipython3",
   "version": "3.9.12"
  }
 },
 "nbformat": 4,
 "nbformat_minor": 5
}
