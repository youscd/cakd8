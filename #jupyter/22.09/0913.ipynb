{
 "cells": [
  {
   "cell_type": "code",
   "execution_count": 10,
   "id": "c3218e60-89df-4997-9086-0cfccad272dc",
   "metadata": {
    "tags": []
   },
   "outputs": [],
   "source": [
    "#복습"
   ]
  },
  {
   "cell_type": "code",
   "execution_count": 2,
   "id": "c3bb1f59-f77b-4518-a97f-5d163c178022",
   "metadata": {},
   "outputs": [
    {
     "name": "stdout",
     "output_type": "stream",
     "text": [
      "1 a\n",
      "2 b\n",
      "3 c\n"
     ]
    }
   ],
   "source": [
    "a = ['a','b','c']\n",
    "for i, j in enumerate(a):\n",
    "    print(i+1, j)"
   ]
  },
  {
   "cell_type": "code",
   "execution_count": 6,
   "id": "95ff6e67-f8b8-42c1-8951-c26e20ec8021",
   "metadata": {},
   "outputs": [
    {
     "data": {
      "text/plain": [
       "[6, 28, 8, 12, 56, 284]"
      ]
     },
     "execution_count": 6,
     "metadata": {},
     "output_type": "execute_result"
    }
   ],
   "source": [
    "num = [1,6,99,3,28,8,9,12,56,17,284]\n",
    "list(filter(lambda a : a%2==0, num))"
   ]
  },
  {
   "cell_type": "code",
   "execution_count": 7,
   "id": "1d5dc1c1-ae68-49ec-a2f3-0a5f1f86c522",
   "metadata": {},
   "outputs": [
    {
     "name": "stdout",
     "output_type": "stream",
     "text": [
      "[6, 28, 8, 12, 56, 284]\n"
     ]
    }
   ],
   "source": [
    "num = [1,6,99,3,28,8,9,12,56,17,284]\n",
    "\n",
    "def even(i):\n",
    "    if i % 2 == 0:\n",
    "        return i\n",
    "    \n",
    "print(list(filter(even, num)))"
   ]
  },
  {
   "cell_type": "code",
   "execution_count": 9,
   "id": "31ccb39c-66aa-4e2b-b5b0-c33e1b234c74",
   "metadata": {},
   "outputs": [
    {
     "name": "stdout",
     "output_type": "stream",
     "text": [
      "division by zero\n"
     ]
    }
   ],
   "source": [
    "try:\n",
    "    4 / 0\n",
    "except ZeroDivisionError as e:\n",
    "    print(e)"
   ]
  },
  {
   "cell_type": "code",
   "execution_count": 11,
   "id": "774cecf9-f837-4b11-8969-20b685b2102f",
   "metadata": {},
   "outputs": [
    {
     "ename": "TypeError",
     "evalue": "list.append() takes exactly one argument (0 given)",
     "output_type": "error",
     "traceback": [
      "\u001b[1;31m---------------------------------------------------------------------------\u001b[0m",
      "\u001b[1;31mTypeError\u001b[0m                                 Traceback (most recent call last)",
      "Input \u001b[1;32mIn [11]\u001b[0m, in \u001b[0;36m<cell line: 2>\u001b[1;34m()\u001b[0m\n\u001b[0;32m      1\u001b[0m \u001b[38;5;28;01mimport\u001b[39;00m \u001b[38;5;21;01msys\u001b[39;00m\n\u001b[1;32m----> 2\u001b[0m \u001b[43msys\u001b[49m\u001b[38;5;241;43m.\u001b[39;49m\u001b[43mpath\u001b[49m\u001b[38;5;241;43m.\u001b[39;49m\u001b[43mappend\u001b[49m\u001b[43m(\u001b[49m\u001b[43m)\u001b[49m\n",
      "\u001b[1;31mTypeError\u001b[0m: list.append() takes exactly one argument (0 given)"
     ]
    }
   ],
   "source": [
    "import sys\n",
    "sys.path.append()"
   ]
  },
  {
   "cell_type": "code",
   "execution_count": 15,
   "id": "af827a06-6778-4423-a150-a3b64d76bb8c",
   "metadata": {},
   "outputs": [],
   "source": [
    "class Clothes:\n",
    "    def __init__(self, color, fit):\n",
    "        self.color = color\n",
    "        self.fit = fit\n",
    "    \n",
    "    def target(self, age, gender) :\n",
    "        if age <= 5:\n",
    "            self.age = 'baby'\n",
    "        \n",
    "        elif age <= 13:\n",
    "            self.age = 'kids'\n",
    "            \n",
    "        elif age > 13 and gender == 'female':\n",
    "            self.age = 'adult'\n",
    "            self.gender = 'women'\n",
    "            \n",
    "        else:\n",
    "            self.age = 'adult'\n",
    "            self.gender = 'men'"
   ]
  },
  {
   "cell_type": "code",
   "execution_count": 19,
   "id": "77a90861-1e89-42db-96c4-beb332c16d73",
   "metadata": {},
   "outputs": [],
   "source": [
    "class Clothes2(Clothes):\n",
    "    def __init__(self, color, fit, season):\n",
    "        super().__init__(color, fit)\n",
    "        self.seaon = season"
   ]
  },
  {
   "cell_type": "code",
   "execution_count": 24,
   "id": "53b1957c-e841-47a7-8c7a-7a8353b49775",
   "metadata": {},
   "outputs": [
    {
     "data": {
      "text/plain": [
       "['970212-1054321', '020202-1065432', '220908-1044444']"
      ]
     },
     "execution_count": 24,
     "metadata": {},
     "output_type": "execute_result"
    }
   ],
   "source": [
    "id= ['970212-1054321','010101-2054321','020202-1065432','220908-1044444']\n",
    "\n",
    "id_male = list(filter(lambda id : id[7] == '1', id))\n",
    "\n",
    "id_male"
   ]
  },
  {
   "cell_type": "markdown",
   "id": "4773466c-fb0c-4146-9ffc-fc2614736a95",
   "metadata": {},
   "source": [
    "## 0913"
   ]
  },
  {
   "cell_type": "markdown",
   "id": "a87da0ab-bfcc-45ee-a542-5b3275707065",
   "metadata": {},
   "source": [
    "#### hex() : 정수 값을 입력받아 16진수로 변환하여 돌려주는 함수"
   ]
  },
  {
   "cell_type": "code",
   "execution_count": 30,
   "id": "4948ca5e-d99c-4587-9e00-21ff039556c6",
   "metadata": {},
   "outputs": [
    {
     "name": "stdout",
     "output_type": "stream",
     "text": [
      "0x3\n",
      "0x9\n",
      "0xa\n",
      "0xf\n"
     ]
    }
   ],
   "source": [
    "print(hex(3))\n",
    "print(hex(9))\n",
    "print(hex(10))\n",
    "print(hex(15))"
   ]
  },
  {
   "cell_type": "markdown",
   "id": "791e59eb-b238-47d1-b18f-e5f03426a381",
   "metadata": {},
   "source": [
    "* 16진수 예\n",
    "- 1  1 => 17\n",
    "- 2  a => 2*16 + 10 = 42\n",
    "- f  f => 15*16 + 15 = 255"
   ]
  },
  {
   "cell_type": "code",
   "execution_count": 32,
   "id": "6cf7b3d1-b5ca-4b96-ba22-3e4d663b9557",
   "metadata": {},
   "outputs": [
    {
     "data": {
      "text/plain": [
       "255"
      ]
     },
     "execution_count": 32,
     "metadata": {},
     "output_type": "execute_result"
    }
   ],
   "source": [
    "int('0xff', base = 16)"
   ]
  },
  {
   "cell_type": "markdown",
   "id": "18308e40-1127-469a-9017-9e4a6b99fb3e",
   "metadata": {},
   "source": [
    "#### map() : "
   ]
  },
  {
   "cell_type": "code",
   "execution_count": 33,
   "id": "39b3aff0-9d07-4386-9223-ac14850379d2",
   "metadata": {},
   "outputs": [],
   "source": [
    "def two_times(x):\n",
    "    return x*2"
   ]
  },
  {
   "cell_type": "code",
   "execution_count": 34,
   "id": "62586b4b-efc0-4b26-a2f1-bfffcc1e0dc7",
   "metadata": {},
   "outputs": [
    {
     "data": {
      "text/plain": [
       "[2, 4, 6, 8]"
      ]
     },
     "execution_count": 34,
     "metadata": {},
     "output_type": "execute_result"
    }
   ],
   "source": [
    "list(map(two_times, [1,2,3,4]))"
   ]
  },
  {
   "cell_type": "code",
   "execution_count": 35,
   "id": "2c6f8963-78fd-4dcc-a0a0-794030daa22a",
   "metadata": {},
   "outputs": [
    {
     "data": {
      "text/plain": [
       "[1, 2, 3, 4]"
      ]
     },
     "execution_count": 35,
     "metadata": {},
     "output_type": "execute_result"
    }
   ],
   "source": [
    "list(map(int, [\"1\", \"2\", \"3\", \"4\"]))"
   ]
  },
  {
   "cell_type": "code",
   "execution_count": 36,
   "id": "264c9ea8-584e-4c82-aaed-a23f2ce651a9",
   "metadata": {},
   "outputs": [
    {
     "name": "stdout",
     "output_type": "stream",
     "text": [
      "p\n",
      "y\n",
      "t\n",
      "h\n",
      "o\n",
      "n\n"
     ]
    }
   ],
   "source": [
    "for i in \"python\":\n",
    "    print(i)"
   ]
  },
  {
   "cell_type": "code",
   "execution_count": 37,
   "id": "7c5e86c8-5b7a-4ae4-b406-746d4e2572eb",
   "metadata": {},
   "outputs": [
    {
     "data": {
      "text/plain": [
       "str"
      ]
     },
     "execution_count": 37,
     "metadata": {},
     "output_type": "execute_result"
    }
   ],
   "source": [
    "type(\"python\")"
   ]
  },
  {
   "cell_type": "code",
   "execution_count": 38,
   "id": "2bf2fa16-40e6-4f1a-8acd-fca97ea47298",
   "metadata": {
    "collapsed": true,
    "jupyter": {
     "outputs_hidden": true
    },
    "tags": []
   },
   "outputs": [
    {
     "data": {
      "text/plain": [
       "['__add__',\n",
       " '__class__',\n",
       " '__contains__',\n",
       " '__delattr__',\n",
       " '__dir__',\n",
       " '__doc__',\n",
       " '__eq__',\n",
       " '__format__',\n",
       " '__ge__',\n",
       " '__getattribute__',\n",
       " '__getitem__',\n",
       " '__getnewargs__',\n",
       " '__gt__',\n",
       " '__hash__',\n",
       " '__init__',\n",
       " '__init_subclass__',\n",
       " '__iter__',\n",
       " '__le__',\n",
       " '__len__',\n",
       " '__lt__',\n",
       " '__mod__',\n",
       " '__mul__',\n",
       " '__ne__',\n",
       " '__new__',\n",
       " '__reduce__',\n",
       " '__reduce_ex__',\n",
       " '__repr__',\n",
       " '__rmod__',\n",
       " '__rmul__',\n",
       " '__setattr__',\n",
       " '__sizeof__',\n",
       " '__str__',\n",
       " '__subclasshook__',\n",
       " 'capitalize',\n",
       " 'casefold',\n",
       " 'center',\n",
       " 'count',\n",
       " 'encode',\n",
       " 'endswith',\n",
       " 'expandtabs',\n",
       " 'find',\n",
       " 'format',\n",
       " 'format_map',\n",
       " 'index',\n",
       " 'isalnum',\n",
       " 'isalpha',\n",
       " 'isascii',\n",
       " 'isdecimal',\n",
       " 'isdigit',\n",
       " 'isidentifier',\n",
       " 'islower',\n",
       " 'isnumeric',\n",
       " 'isprintable',\n",
       " 'isspace',\n",
       " 'istitle',\n",
       " 'isupper',\n",
       " 'join',\n",
       " 'ljust',\n",
       " 'lower',\n",
       " 'lstrip',\n",
       " 'maketrans',\n",
       " 'partition',\n",
       " 'removeprefix',\n",
       " 'removesuffix',\n",
       " 'replace',\n",
       " 'rfind',\n",
       " 'rindex',\n",
       " 'rjust',\n",
       " 'rpartition',\n",
       " 'rsplit',\n",
       " 'rstrip',\n",
       " 'split',\n",
       " 'splitlines',\n",
       " 'startswith',\n",
       " 'strip',\n",
       " 'swapcase',\n",
       " 'title',\n",
       " 'translate',\n",
       " 'upper',\n",
       " 'zfill']"
      ]
     },
     "execution_count": 38,
     "metadata": {},
     "output_type": "execute_result"
    }
   ],
   "source": [
    "dir(\"python\")"
   ]
  },
  {
   "cell_type": "code",
   "execution_count": 39,
   "id": "94fb76ab-18d5-4c14-abd2-d43621a0c218",
   "metadata": {},
   "outputs": [
    {
     "data": {
      "text/plain": [
       "3.14"
      ]
     },
     "execution_count": 39,
     "metadata": {},
     "output_type": "execute_result"
    }
   ],
   "source": [
    "round(3.141592, 2)"
   ]
  },
  {
   "cell_type": "code",
   "execution_count": 40,
   "id": "18028c5e-239e-486f-b762-1dcb6e970b0a",
   "metadata": {},
   "outputs": [
    {
     "ename": "TypeError",
     "evalue": "can only concatenate list (not \"int\") to list",
     "output_type": "error",
     "traceback": [
      "\u001b[1;31m---------------------------------------------------------------------------\u001b[0m",
      "\u001b[1;31mTypeError\u001b[0m                                 Traceback (most recent call last)",
      "Input \u001b[1;32mIn [40]\u001b[0m, in \u001b[0;36m<cell line: 1>\u001b[1;34m()\u001b[0m\n\u001b[1;32m----> 1\u001b[0m \u001b[38;5;28;43msum\u001b[39;49m\u001b[43m(\u001b[49m\u001b[43m[\u001b[49m\u001b[38;5;241;43m1\u001b[39;49m\u001b[43m,\u001b[49m\u001b[38;5;241;43m2\u001b[39;49m\u001b[43m,\u001b[49m\u001b[38;5;241;43m3\u001b[39;49m\u001b[43m]\u001b[49m\u001b[43m,\u001b[49m\u001b[43m \u001b[49m\u001b[43m[\u001b[49m\u001b[38;5;241;43m4\u001b[39;49m\u001b[43m,\u001b[49m\u001b[38;5;241;43m5\u001b[39;49m\u001b[43m,\u001b[49m\u001b[38;5;241;43m6\u001b[39;49m\u001b[43m]\u001b[49m\u001b[43m)\u001b[49m\n",
      "\u001b[1;31mTypeError\u001b[0m: can only concatenate list (not \"int\") to list"
     ]
    }
   ],
   "source": [
    "sum([1,2,3], [4,5,6])"
   ]
  },
  {
   "cell_type": "code",
   "execution_count": 41,
   "id": "e1524125-546b-4f3a-bd90-0afe1ad141ee",
   "metadata": {},
   "outputs": [],
   "source": [
    "import numpy as np"
   ]
  },
  {
   "cell_type": "code",
   "execution_count": 43,
   "id": "44c452ab-d88f-4291-b4ff-56ab9360fa35",
   "metadata": {},
   "outputs": [
    {
     "data": {
      "text/plain": [
       "21"
      ]
     },
     "execution_count": 43,
     "metadata": {},
     "output_type": "execute_result"
    }
   ],
   "source": [
    "np.sum(np.array(([[1,2,3], [4,5,6]])))"
   ]
  },
  {
   "cell_type": "markdown",
   "id": "32435808-6783-41ad-9c8d-20a11ddf3719",
   "metadata": {},
   "source": [
    "#### zip() : "
   ]
  },
  {
   "cell_type": "code",
   "execution_count": 45,
   "id": "74e7d304-9d88-4878-823f-bec77c14cec6",
   "metadata": {},
   "outputs": [
    {
     "name": "stdout",
     "output_type": "stream",
     "text": [
      "(1, 4, 'a')\n",
      "(2, 5, 'b')\n",
      "(3, 6, 'c')\n"
     ]
    }
   ],
   "source": [
    "for i in zip([1,2,3], [4,5,6], ['a','b','c']):\n",
    "    print(i)"
   ]
  },
  {
   "cell_type": "code",
   "execution_count": 47,
   "id": "530a33a8-a7b1-4b01-88a4-58923a180416",
   "metadata": {},
   "outputs": [
    {
     "name": "stdout",
     "output_type": "stream",
     "text": [
      "1 4 a\n",
      "2 5 b\n",
      "3 6 c\n"
     ]
    }
   ],
   "source": [
    "for i, j, k in zip([1,2,3], [4,5,6], ['a','b','c']):\n",
    "    print(i, j, k)"
   ]
  },
  {
   "cell_type": "code",
   "execution_count": 48,
   "id": "efe600ae-b39c-46bb-96d5-156cf33ff6bb",
   "metadata": {
    "collapsed": true,
    "jupyter": {
     "outputs_hidden": true
    },
    "tags": []
   },
   "outputs": [
    {
     "name": "stdout",
     "output_type": "stream",
     "text": [
      "Collecting folium\n",
      "  Downloading folium-0.12.1.post1-py2.py3-none-any.whl (95 kB)\n",
      "     ---------------------------------------- 95.0/95.0 kB 1.1 MB/s eta 0:00:00\n",
      "Requirement already satisfied: numpy in c:\\users\\admin\\appdata\\local\\programs\\python\\python310\\lib\\site-packages (from folium) (1.23.2)\n",
      "Requirement already satisfied: requests in c:\\users\\admin\\appdata\\local\\programs\\python\\python310\\lib\\site-packages (from folium) (2.28.1)\n",
      "Requirement already satisfied: jinja2>=2.9 in c:\\users\\admin\\appdata\\local\\programs\\python\\python310\\lib\\site-packages (from folium) (3.1.2)\n",
      "Collecting branca>=0.3.0\n",
      "  Downloading branca-0.5.0-py3-none-any.whl (24 kB)\n",
      "Requirement already satisfied: MarkupSafe>=2.0 in c:\\users\\admin\\appdata\\local\\programs\\python\\python310\\lib\\site-packages (from jinja2>=2.9->folium) (2.1.1)\n",
      "Requirement already satisfied: charset-normalizer<3,>=2 in c:\\users\\admin\\appdata\\local\\programs\\python\\python310\\lib\\site-packages (from requests->folium) (2.1.1)\n",
      "Requirement already satisfied: idna<4,>=2.5 in c:\\users\\admin\\appdata\\local\\programs\\python\\python310\\lib\\site-packages (from requests->folium) (3.3)\n",
      "Requirement already satisfied: urllib3<1.27,>=1.21.1 in c:\\users\\admin\\appdata\\local\\programs\\python\\python310\\lib\\site-packages (from requests->folium) (1.26.12)\n",
      "Requirement already satisfied: certifi>=2017.4.17 in c:\\users\\admin\\appdata\\local\\programs\\python\\python310\\lib\\site-packages (from requests->folium) (2022.6.15)\n",
      "Installing collected packages: branca, folium\n",
      "Successfully installed branca-0.5.0 folium-0.12.1.post1\n",
      "Note: you may need to restart the kernel to use updated packages.\n"
     ]
    },
    {
     "name": "stderr",
     "output_type": "stream",
     "text": [
      "\n",
      "[notice] A new release of pip available: 22.2.1 -> 22.2.2\n",
      "[notice] To update, run: python.exe -m pip install --upgrade pip\n"
     ]
    }
   ],
   "source": [
    "pip install folium"
   ]
  },
  {
   "cell_type": "code",
   "execution_count": 49,
   "id": "ba8d2db0-9b73-4c26-9909-c62196ad0d91",
   "metadata": {},
   "outputs": [],
   "source": [
    "import folium\n",
    "import pandas as pd"
   ]
  },
  {
   "cell_type": "code",
   "execution_count": 50,
   "id": "b35a21a7-b1c5-4a01-8224-5cbd15b7fde0",
   "metadata": {},
   "outputs": [
    {
     "data": {
      "text/plain": [
       "'C:\\\\Users\\\\admin'"
      ]
     },
     "execution_count": 50,
     "metadata": {},
     "output_type": "execute_result"
    }
   ],
   "source": [
    "import os\n",
    "os.getcwd()"
   ]
  },
  {
   "cell_type": "code",
   "execution_count": 52,
   "id": "151f5e42-6295-482b-8012-3502d1a16dca",
   "metadata": {},
   "outputs": [
    {
     "name": "stdout",
     "output_type": "stream",
     "text": [
      "Collecting openpyxl\n",
      "  Downloading openpyxl-3.0.10-py2.py3-none-any.whl (242 kB)\n",
      "     -------------------------------------- 242.1/242.1 kB 7.5 MB/s eta 0:00:00\n",
      "Collecting et-xmlfile\n",
      "  Downloading et_xmlfile-1.1.0-py3-none-any.whl (4.7 kB)\n",
      "Installing collected packages: et-xmlfile, openpyxl\n",
      "Successfully installed et-xmlfile-1.1.0 openpyxl-3.0.10\n",
      "Note: you may need to restart the kernel to use updated packages.\n"
     ]
    },
    {
     "name": "stderr",
     "output_type": "stream",
     "text": [
      "\n",
      "[notice] A new release of pip available: 22.2.1 -> 22.2.2\n",
      "[notice] To update, run: python.exe -m pip install --upgrade pip\n"
     ]
    }
   ],
   "source": [
    "pip install openpyxl"
   ]
  },
  {
   "cell_type": "code",
   "execution_count": 54,
   "id": "31e1bbc3-3432-4893-9f47-54ba6c7435d2",
   "metadata": {
    "collapsed": true,
    "jupyter": {
     "outputs_hidden": true
    },
    "tags": []
   },
   "outputs": [
    {
     "data": {
      "text/html": [
       "<div>\n",
       "<style scoped>\n",
       "    .dataframe tbody tr th:only-of-type {\n",
       "        vertical-align: middle;\n",
       "    }\n",
       "\n",
       "    .dataframe tbody tr th {\n",
       "        vertical-align: top;\n",
       "    }\n",
       "\n",
       "    .dataframe thead th {\n",
       "        text-align: right;\n",
       "    }\n",
       "</style>\n",
       "<table border=\"1\" class=\"dataframe\">\n",
       "  <thead>\n",
       "    <tr style=\"text-align: right;\">\n",
       "      <th></th>\n",
       "      <th>대학교</th>\n",
       "      <th>위도</th>\n",
       "      <th>경도</th>\n",
       "    </tr>\n",
       "  </thead>\n",
       "  <tbody>\n",
       "    <tr>\n",
       "      <th>0</th>\n",
       "      <td>KAIST 서울캠퍼스</td>\n",
       "      <td>37.592573</td>\n",
       "      <td>127.046737</td>\n",
       "    </tr>\n",
       "    <tr>\n",
       "      <th>1</th>\n",
       "      <td>KC대학교</td>\n",
       "      <td>37.548345</td>\n",
       "      <td>126.854797</td>\n",
       "    </tr>\n",
       "    <tr>\n",
       "      <th>2</th>\n",
       "      <td>가톨릭대학교(성신교정)</td>\n",
       "      <td>37.585922</td>\n",
       "      <td>127.004328</td>\n",
       "    </tr>\n",
       "    <tr>\n",
       "      <th>3</th>\n",
       "      <td>가톨릭대학교(성의교정)</td>\n",
       "      <td>37.499623</td>\n",
       "      <td>127.006065</td>\n",
       "    </tr>\n",
       "    <tr>\n",
       "      <th>4</th>\n",
       "      <td>감리교신학대학교</td>\n",
       "      <td>37.567645</td>\n",
       "      <td>126.961610</td>\n",
       "    </tr>\n",
       "    <tr>\n",
       "      <th>5</th>\n",
       "      <td>건국대학교</td>\n",
       "      <td>37.540762</td>\n",
       "      <td>127.079343</td>\n",
       "    </tr>\n",
       "    <tr>\n",
       "      <th>6</th>\n",
       "      <td>경기대학교 서울캠퍼스</td>\n",
       "      <td>37.300485</td>\n",
       "      <td>127.035833</td>\n",
       "    </tr>\n",
       "    <tr>\n",
       "      <th>7</th>\n",
       "      <td>경희대학교 서울캠퍼스</td>\n",
       "      <td>37.596195</td>\n",
       "      <td>127.052544</td>\n",
       "    </tr>\n",
       "    <tr>\n",
       "      <th>8</th>\n",
       "      <td>고려대학교</td>\n",
       "      <td>37.590192</td>\n",
       "      <td>127.033184</td>\n",
       "    </tr>\n",
       "    <tr>\n",
       "      <th>9</th>\n",
       "      <td>광운대학교</td>\n",
       "      <td>37.619496</td>\n",
       "      <td>127.059696</td>\n",
       "    </tr>\n",
       "    <tr>\n",
       "      <th>10</th>\n",
       "      <td>국민대학교</td>\n",
       "      <td>37.609641</td>\n",
       "      <td>126.997697</td>\n",
       "    </tr>\n",
       "    <tr>\n",
       "      <th>11</th>\n",
       "      <td>덕성여자대학교</td>\n",
       "      <td>37.651199</td>\n",
       "      <td>127.016160</td>\n",
       "    </tr>\n",
       "    <tr>\n",
       "      <th>12</th>\n",
       "      <td>동국대학교</td>\n",
       "      <td>37.557477</td>\n",
       "      <td>127.002052</td>\n",
       "    </tr>\n",
       "    <tr>\n",
       "      <th>13</th>\n",
       "      <td>동덕여자대학교</td>\n",
       "      <td>37.606320</td>\n",
       "      <td>127.041808</td>\n",
       "    </tr>\n",
       "    <tr>\n",
       "      <th>14</th>\n",
       "      <td>명지대학교 서울캠퍼스</td>\n",
       "      <td>37.580205</td>\n",
       "      <td>126.923445</td>\n",
       "    </tr>\n",
       "    <tr>\n",
       "      <th>15</th>\n",
       "      <td>삼육대학교</td>\n",
       "      <td>37.642952</td>\n",
       "      <td>127.105476</td>\n",
       "    </tr>\n",
       "    <tr>\n",
       "      <th>16</th>\n",
       "      <td>상명대학교 서울캠퍼스</td>\n",
       "      <td>37.602638</td>\n",
       "      <td>126.955252</td>\n",
       "    </tr>\n",
       "    <tr>\n",
       "      <th>17</th>\n",
       "      <td>서강대학교</td>\n",
       "      <td>37.550944</td>\n",
       "      <td>126.941002</td>\n",
       "    </tr>\n",
       "    <tr>\n",
       "      <th>18</th>\n",
       "      <td>서경대학교</td>\n",
       "      <td>37.615095</td>\n",
       "      <td>127.013111</td>\n",
       "    </tr>\n",
       "    <tr>\n",
       "      <th>19</th>\n",
       "      <td>서울과학기술대학교</td>\n",
       "      <td>37.631668</td>\n",
       "      <td>127.077481</td>\n",
       "    </tr>\n",
       "    <tr>\n",
       "      <th>20</th>\n",
       "      <td>서울교육대학교</td>\n",
       "      <td>37.489961</td>\n",
       "      <td>127.016412</td>\n",
       "    </tr>\n",
       "    <tr>\n",
       "      <th>21</th>\n",
       "      <td>서울기독대학교</td>\n",
       "      <td>37.600923</td>\n",
       "      <td>126.912382</td>\n",
       "    </tr>\n",
       "    <tr>\n",
       "      <th>22</th>\n",
       "      <td>서울대학교</td>\n",
       "      <td>37.459882</td>\n",
       "      <td>126.951905</td>\n",
       "    </tr>\n",
       "    <tr>\n",
       "      <th>23</th>\n",
       "      <td>서울시립대학교</td>\n",
       "      <td>37.583866</td>\n",
       "      <td>127.058777</td>\n",
       "    </tr>\n",
       "    <tr>\n",
       "      <th>24</th>\n",
       "      <td>서울여자대학교</td>\n",
       "      <td>37.628113</td>\n",
       "      <td>127.090457</td>\n",
       "    </tr>\n",
       "    <tr>\n",
       "      <th>25</th>\n",
       "      <td>서울한영대학교</td>\n",
       "      <td>37.496541</td>\n",
       "      <td>126.851262</td>\n",
       "    </tr>\n",
       "    <tr>\n",
       "      <th>26</th>\n",
       "      <td>성공회대학교</td>\n",
       "      <td>37.487232</td>\n",
       "      <td>126.825320</td>\n",
       "    </tr>\n",
       "    <tr>\n",
       "      <th>27</th>\n",
       "      <td>성균관대학교 서울캠퍼스</td>\n",
       "      <td>37.588227</td>\n",
       "      <td>126.993606</td>\n",
       "    </tr>\n",
       "    <tr>\n",
       "      <th>28</th>\n",
       "      <td>성신여자대학교</td>\n",
       "      <td>37.591310</td>\n",
       "      <td>127.022131</td>\n",
       "    </tr>\n",
       "    <tr>\n",
       "      <th>29</th>\n",
       "      <td>세종대학교</td>\n",
       "      <td>37.550260</td>\n",
       "      <td>127.073139</td>\n",
       "    </tr>\n",
       "    <tr>\n",
       "      <th>30</th>\n",
       "      <td>숙명여자대학교</td>\n",
       "      <td>37.546364</td>\n",
       "      <td>126.964831</td>\n",
       "    </tr>\n",
       "    <tr>\n",
       "      <th>31</th>\n",
       "      <td>숭실대학교</td>\n",
       "      <td>37.496311</td>\n",
       "      <td>126.957460</td>\n",
       "    </tr>\n",
       "    <tr>\n",
       "      <th>32</th>\n",
       "      <td>연세대학교</td>\n",
       "      <td>37.565784</td>\n",
       "      <td>126.938572</td>\n",
       "    </tr>\n",
       "    <tr>\n",
       "      <th>33</th>\n",
       "      <td>육군사관학교</td>\n",
       "      <td>37.623819</td>\n",
       "      <td>127.098878</td>\n",
       "    </tr>\n",
       "    <tr>\n",
       "      <th>34</th>\n",
       "      <td>이화여자대학교</td>\n",
       "      <td>37.564308</td>\n",
       "      <td>126.950179</td>\n",
       "    </tr>\n",
       "    <tr>\n",
       "      <th>35</th>\n",
       "      <td>장로회신학대학교</td>\n",
       "      <td>37.550511</td>\n",
       "      <td>127.103458</td>\n",
       "    </tr>\n",
       "    <tr>\n",
       "      <th>36</th>\n",
       "      <td>중앙대학교 서울캠퍼스</td>\n",
       "      <td>37.505088</td>\n",
       "      <td>126.957101</td>\n",
       "    </tr>\n",
       "    <tr>\n",
       "      <th>37</th>\n",
       "      <td>총신대학교</td>\n",
       "      <td>37.488623</td>\n",
       "      <td>126.966817</td>\n",
       "    </tr>\n",
       "    <tr>\n",
       "      <th>38</th>\n",
       "      <td>추계예술대학교</td>\n",
       "      <td>37.562452</td>\n",
       "      <td>126.953417</td>\n",
       "    </tr>\n",
       "    <tr>\n",
       "      <th>39</th>\n",
       "      <td>한국방송통신대학교</td>\n",
       "      <td>37.578613</td>\n",
       "      <td>127.003291</td>\n",
       "    </tr>\n",
       "    <tr>\n",
       "      <th>40</th>\n",
       "      <td>한국성서대학교</td>\n",
       "      <td>37.648749</td>\n",
       "      <td>127.064320</td>\n",
       "    </tr>\n",
       "    <tr>\n",
       "      <th>41</th>\n",
       "      <td>한국예술종합학교</td>\n",
       "      <td>37.604997</td>\n",
       "      <td>127.056740</td>\n",
       "    </tr>\n",
       "    <tr>\n",
       "      <th>42</th>\n",
       "      <td>한국외국어대학교</td>\n",
       "      <td>37.597319</td>\n",
       "      <td>127.057843</td>\n",
       "    </tr>\n",
       "    <tr>\n",
       "      <th>43</th>\n",
       "      <td>한국체육대학교</td>\n",
       "      <td>37.519627</td>\n",
       "      <td>127.130984</td>\n",
       "    </tr>\n",
       "    <tr>\n",
       "      <th>44</th>\n",
       "      <td>한성대학교</td>\n",
       "      <td>37.581785</td>\n",
       "      <td>127.010369</td>\n",
       "    </tr>\n",
       "    <tr>\n",
       "      <th>45</th>\n",
       "      <td>한양대학교</td>\n",
       "      <td>37.557232</td>\n",
       "      <td>127.045322</td>\n",
       "    </tr>\n",
       "    <tr>\n",
       "      <th>46</th>\n",
       "      <td>홍익대학교</td>\n",
       "      <td>37.551464</td>\n",
       "      <td>126.925011</td>\n",
       "    </tr>\n",
       "  </tbody>\n",
       "</table>\n",
       "</div>"
      ],
      "text/plain": [
       "               대학교         위도          경도\n",
       "0     KAIST 서울캠퍼스   37.592573  127.046737\n",
       "1            KC대학교  37.548345  126.854797\n",
       "2     가톨릭대학교(성신교정)  37.585922  127.004328\n",
       "3     가톨릭대학교(성의교정)  37.499623  127.006065\n",
       "4         감리교신학대학교  37.567645  126.961610\n",
       "5            건국대학교  37.540762  127.079343\n",
       "6     경기대학교 서울캠퍼스   37.300485  127.035833\n",
       "7     경희대학교 서울캠퍼스   37.596195  127.052544\n",
       "8            고려대학교  37.590192  127.033184\n",
       "9            광운대학교  37.619496  127.059696\n",
       "10           국민대학교  37.609641  126.997697\n",
       "11         덕성여자대학교  37.651199  127.016160\n",
       "12           동국대학교  37.557477  127.002052\n",
       "13         동덕여자대학교  37.606320  127.041808\n",
       "14    명지대학교 서울캠퍼스   37.580205  126.923445\n",
       "15           삼육대학교  37.642952  127.105476\n",
       "16    상명대학교 서울캠퍼스   37.602638  126.955252\n",
       "17           서강대학교  37.550944  126.941002\n",
       "18           서경대학교  37.615095  127.013111\n",
       "19       서울과학기술대학교  37.631668  127.077481\n",
       "20         서울교육대학교  37.489961  127.016412\n",
       "21         서울기독대학교  37.600923  126.912382\n",
       "22           서울대학교  37.459882  126.951905\n",
       "23         서울시립대학교  37.583866  127.058777\n",
       "24         서울여자대학교  37.628113  127.090457\n",
       "25         서울한영대학교  37.496541  126.851262\n",
       "26          성공회대학교  37.487232  126.825320\n",
       "27  성균관대학교 서울캠퍼스    37.588227  126.993606\n",
       "28         성신여자대학교  37.591310  127.022131\n",
       "29           세종대학교  37.550260  127.073139\n",
       "30         숙명여자대학교  37.546364  126.964831\n",
       "31           숭실대학교  37.496311  126.957460\n",
       "32           연세대학교  37.565784  126.938572\n",
       "33          육군사관학교  37.623819  127.098878\n",
       "34         이화여자대학교  37.564308  126.950179\n",
       "35        장로회신학대학교  37.550511  127.103458\n",
       "36    중앙대학교 서울캠퍼스   37.505088  126.957101\n",
       "37           총신대학교  37.488623  126.966817\n",
       "38         추계예술대학교  37.562452  126.953417\n",
       "39       한국방송통신대학교  37.578613  127.003291\n",
       "40         한국성서대학교  37.648749  127.064320\n",
       "41        한국예술종합학교  37.604997  127.056740\n",
       "42        한국외국어대학교  37.597319  127.057843\n",
       "43         한국체육대학교  37.519627  127.130984\n",
       "44           한성대학교  37.581785  127.010369\n",
       "45           한양대학교  37.557232  127.045322\n",
       "46           홍익대학교  37.551464  126.925011"
      ]
     },
     "execution_count": 54,
     "metadata": {},
     "output_type": "execute_result"
    }
   ],
   "source": [
    "df = pd.read_excel(\"서울지역대학교위치.xlsx\")\n",
    "df"
   ]
  },
  {
   "cell_type": "code",
   "execution_count": 57,
   "id": "944a998a-3fb2-4d94-98ab-16161c4769f0",
   "metadata": {
    "collapsed": true,
    "jupyter": {
     "outputs_hidden": true
    },
    "tags": []
   },
   "outputs": [
    {
     "data": {
      "text/plain": [
       "0     127.046737\n",
       "1     126.854797\n",
       "2     127.004328\n",
       "3     127.006065\n",
       "4     126.961610\n",
       "5     127.079343\n",
       "6     127.035833\n",
       "7     127.052544\n",
       "8     127.033184\n",
       "9     127.059696\n",
       "10    126.997697\n",
       "11    127.016160\n",
       "12    127.002052\n",
       "13    127.041808\n",
       "14    126.923445\n",
       "15    127.105476\n",
       "16    126.955252\n",
       "17    126.941002\n",
       "18    127.013111\n",
       "19    127.077481\n",
       "20    127.016412\n",
       "21    126.912382\n",
       "22    126.951905\n",
       "23    127.058777\n",
       "24    127.090457\n",
       "25    126.851262\n",
       "26    126.825320\n",
       "27    126.993606\n",
       "28    127.022131\n",
       "29    127.073139\n",
       "30    126.964831\n",
       "31    126.957460\n",
       "32    126.938572\n",
       "33    127.098878\n",
       "34    126.950179\n",
       "35    127.103458\n",
       "36    126.957101\n",
       "37    126.966817\n",
       "38    126.953417\n",
       "39    127.003291\n",
       "40    127.064320\n",
       "41    127.056740\n",
       "42    127.057843\n",
       "43    127.130984\n",
       "44    127.010369\n",
       "45    127.045322\n",
       "46    126.925011\n",
       "Name: 경도, dtype: float64"
      ]
     },
     "execution_count": 57,
     "metadata": {},
     "output_type": "execute_result"
    }
   ],
   "source": [
    "df.대학교\n",
    "df.위도\n",
    "df.경도"
   ]
  },
  {
   "cell_type": "code",
   "execution_count": 58,
   "id": "c668e034-0187-4d41-8e6f-65fc70bd5b78",
   "metadata": {
    "collapsed": true,
    "jupyter": {
     "outputs_hidden": true
    },
    "tags": []
   },
   "outputs": [
    {
     "name": "stdout",
     "output_type": "stream",
     "text": [
      "KAIST 서울캠퍼스  37.592573 127.046737\n",
      "KC대학교 37.5483449 126.8547974\n",
      "가톨릭대학교(성신교정) 37.5859218 127.0043275\n",
      "가톨릭대학교(성의교정) 37.4996227 127.0060653\n",
      "감리교신학대학교 37.5676455 126.96161\n",
      "건국대학교 37.5407625 127.0793428\n",
      "경기대학교 서울캠퍼스  37.30048499999999 127.035833\n",
      "경희대학교 서울캠퍼스  37.5961951 127.052544\n",
      "고려대학교 37.59019162 127.03318417123\n",
      "광운대학교 37.6194965 127.0596958\n",
      "국민대학교 37.6096409 126.997697\n",
      "덕성여자대학교 37.6511988 127.0161604\n",
      "동국대학교 37.5574771 127.0020518\n",
      "동덕여자대학교 37.6063202 127.041808\n",
      "명지대학교 서울캠퍼스  37.5802046 126.9234451\n",
      "삼육대학교 37.6429515 127.1054757\n",
      "상명대학교 서울캠퍼스  37.602638 126.955252\n",
      "서강대학교 37.5509442 126.9410023\n",
      "서경대학교 37.615095 127.0131113\n",
      "서울과학기술대학교 37.6316684 127.0774813\n",
      "서울교육대학교 37.4899615 127.0164124\n",
      "서울기독대학교 37.6009228 126.9123818\n",
      "서울대학교 37.459882 126.9519053\n",
      "서울시립대학교 37.5838657 127.0587771\n",
      "서울여자대학교 37.6281126 127.0904568\n",
      "서울한영대학교 37.4965411 126.8512616\n",
      "성공회대학교 37.4872325 126.8253202\n",
      "성균관대학교 서울캠퍼스   37.588227 126.993606\n",
      "성신여자대학교 37.5913103 127.0221312\n",
      "세종대학교 37.5502596 127.073139\n",
      "숙명여자대학교 37.5463644 126.9648311\n",
      "숭실대학교 37.4963111 126.9574596\n",
      "연세대학교 37.565784 126.938572\n",
      "육군사관학교 37.6238188 127.0988783\n",
      "이화여자대학교 37.5643079 126.9501786\n",
      "장로회신학대학교 37.5505112 127.1034577\n",
      "중앙대학교 서울캠퍼스  37.5050881 126.9571012\n",
      "총신대학교 37.4886232 126.9668169\n",
      "추계예술대학교 37.5624515 126.9534165\n",
      "한국방송통신대학교 37.5786127 127.0032905\n",
      "한국성서대학교 37.6487485 127.0643199\n",
      "한국예술종합학교 37.6049973 127.0567397\n",
      "한국외국어대학교 37.597319 127.057843\n",
      "한국체육대학교 37.5196266 127.1309837\n",
      "한성대학교 37.5817849 127.010369\n",
      "한양대학교 37.5572321 127.0453219\n",
      "홍익대학교 37.5514642 126.9250106\n"
     ]
    }
   ],
   "source": [
    "for i, j, k in zip(df.대학교, df.위도, df.경도):\n",
    "    print(i, j, k)"
   ]
  },
  {
   "cell_type": "code",
   "execution_count": 62,
   "id": "8e5c1966-8cf4-4bb2-9373-cf9cc7f1e1a3",
   "metadata": {},
   "outputs": [],
   "source": [
    "seoul_map = folium.Map(location = [37.55, 126.98], zoom_start = 12)\n",
    "#folium : 라이브러리에서 제공되는 것"
   ]
  },
  {
   "cell_type": "code",
   "execution_count": 61,
   "id": "e7bb03df-ab13-4316-92c9-c8675c8c344f",
   "metadata": {
    "collapsed": true,
    "jupyter": {
     "outputs_hidden": true
    },
    "tags": []
   },
   "outputs": [
    {
     "data": {
      "text/html": [
       "<div style=\"width:100%;\"><div style=\"position:relative;width:100%;height:0;padding-bottom:60%;\"><span style=\"color:#565656\">Make this Notebook Trusted to load map: File -> Trust Notebook</span><iframe srcdoc=\"&lt;!DOCTYPE html&gt;\n",
       "&lt;head&gt;    \n",
       "    &lt;meta http-equiv=&quot;content-type&quot; content=&quot;text/html; charset=UTF-8&quot; /&gt;\n",
       "    \n",
       "        &lt;script&gt;\n",
       "            L_NO_TOUCH = false;\n",
       "            L_DISABLE_3D = false;\n",
       "        &lt;/script&gt;\n",
       "    \n",
       "    &lt;style&gt;html, body {width: 100%;height: 100%;margin: 0;padding: 0;}&lt;/style&gt;\n",
       "    &lt;style&gt;#map {position:absolute;top:0;bottom:0;right:0;left:0;}&lt;/style&gt;\n",
       "    &lt;script src=&quot;https://cdn.jsdelivr.net/npm/leaflet@1.6.0/dist/leaflet.js&quot;&gt;&lt;/script&gt;\n",
       "    &lt;script src=&quot;https://code.jquery.com/jquery-1.12.4.min.js&quot;&gt;&lt;/script&gt;\n",
       "    &lt;script src=&quot;https://maxcdn.bootstrapcdn.com/bootstrap/3.2.0/js/bootstrap.min.js&quot;&gt;&lt;/script&gt;\n",
       "    &lt;script src=&quot;https://cdnjs.cloudflare.com/ajax/libs/Leaflet.awesome-markers/2.0.2/leaflet.awesome-markers.js&quot;&gt;&lt;/script&gt;\n",
       "    &lt;link rel=&quot;stylesheet&quot; href=&quot;https://cdn.jsdelivr.net/npm/leaflet@1.6.0/dist/leaflet.css&quot;/&gt;\n",
       "    &lt;link rel=&quot;stylesheet&quot; href=&quot;https://maxcdn.bootstrapcdn.com/bootstrap/3.2.0/css/bootstrap.min.css&quot;/&gt;\n",
       "    &lt;link rel=&quot;stylesheet&quot; href=&quot;https://maxcdn.bootstrapcdn.com/bootstrap/3.2.0/css/bootstrap-theme.min.css&quot;/&gt;\n",
       "    &lt;link rel=&quot;stylesheet&quot; href=&quot;https://maxcdn.bootstrapcdn.com/font-awesome/4.6.3/css/font-awesome.min.css&quot;/&gt;\n",
       "    &lt;link rel=&quot;stylesheet&quot; href=&quot;https://cdnjs.cloudflare.com/ajax/libs/Leaflet.awesome-markers/2.0.2/leaflet.awesome-markers.css&quot;/&gt;\n",
       "    &lt;link rel=&quot;stylesheet&quot; href=&quot;https://cdn.jsdelivr.net/gh/python-visualization/folium/folium/templates/leaflet.awesome.rotate.min.css&quot;/&gt;\n",
       "    \n",
       "            &lt;meta name=&quot;viewport&quot; content=&quot;width=device-width,\n",
       "                initial-scale=1.0, maximum-scale=1.0, user-scalable=no&quot; /&gt;\n",
       "            &lt;style&gt;\n",
       "                #map_e933c711e9bebc577fe910f571c5a389 {\n",
       "                    position: relative;\n",
       "                    width: 100.0%;\n",
       "                    height: 100.0%;\n",
       "                    left: 0.0%;\n",
       "                    top: 0.0%;\n",
       "                }\n",
       "            &lt;/style&gt;\n",
       "        \n",
       "&lt;/head&gt;\n",
       "&lt;body&gt;    \n",
       "    \n",
       "            &lt;div class=&quot;folium-map&quot; id=&quot;map_e933c711e9bebc577fe910f571c5a389&quot; &gt;&lt;/div&gt;\n",
       "        \n",
       "&lt;/body&gt;\n",
       "&lt;script&gt;    \n",
       "    \n",
       "            var map_e933c711e9bebc577fe910f571c5a389 = L.map(\n",
       "                &quot;map_e933c711e9bebc577fe910f571c5a389&quot;,\n",
       "                {\n",
       "                    center: [37.55, 126.98],\n",
       "                    crs: L.CRS.EPSG3857,\n",
       "                    zoom: 12,\n",
       "                    zoomControl: true,\n",
       "                    preferCanvas: false,\n",
       "                }\n",
       "            );\n",
       "\n",
       "            \n",
       "\n",
       "        \n",
       "    \n",
       "            var tile_layer_0dd56d2c3d0e5beede03cd6324459688 = L.tileLayer(\n",
       "                &quot;https://{s}.tile.openstreetmap.org/{z}/{x}/{y}.png&quot;,\n",
       "                {&quot;attribution&quot;: &quot;Data by \\u0026copy; \\u003ca href=\\&quot;http://openstreetmap.org\\&quot;\\u003eOpenStreetMap\\u003c/a\\u003e, under \\u003ca href=\\&quot;http://www.openstreetmap.org/copyright\\&quot;\\u003eODbL\\u003c/a\\u003e.&quot;, &quot;detectRetina&quot;: false, &quot;maxNativeZoom&quot;: 18, &quot;maxZoom&quot;: 18, &quot;minZoom&quot;: 0, &quot;noWrap&quot;: false, &quot;opacity&quot;: 1, &quot;subdomains&quot;: &quot;abc&quot;, &quot;tms&quot;: false}\n",
       "            ).addTo(map_e933c711e9bebc577fe910f571c5a389);\n",
       "        \n",
       "&lt;/script&gt;\" style=\"position:absolute;width:100%;height:100%;left:0;top:0;border:none !important;\" allowfullscreen webkitallowfullscreen mozallowfullscreen></iframe></div></div>"
      ],
      "text/plain": [
       "<folium.folium.Map at 0x28987474af0>"
      ]
     },
     "execution_count": 61,
     "metadata": {},
     "output_type": "execute_result"
    }
   ],
   "source": [
    "seoul_map"
   ]
  },
  {
   "cell_type": "code",
   "execution_count": 65,
   "id": "8cd83de0-98ab-4542-a54c-a415841ee8f2",
   "metadata": {},
   "outputs": [],
   "source": [
    "for name, lat, long in zip(df.대학교, df.위도, df.경도):\n",
    "    folium.Marker([lat, long], tooltip = name).add_to(seoul_map)"
   ]
  },
  {
   "cell_type": "code",
   "execution_count": 64,
   "id": "d6a8f65b-8e6e-44cf-81af-33b7e3bceade",
   "metadata": {
    "collapsed": true,
    "jupyter": {
     "outputs_hidden": true
    },
    "tags": []
   },
   "outputs": [
    {
     "data": {
      "text/html": [
       "<div style=\"width:100%;\"><div style=\"position:relative;width:100%;height:0;padding-bottom:60%;\"><span style=\"color:#565656\">Make this Notebook Trusted to load map: File -> Trust Notebook</span><iframe srcdoc=\"&lt;!DOCTYPE html&gt;\n",
       "&lt;head&gt;    \n",
       "    &lt;meta http-equiv=&quot;content-type&quot; content=&quot;text/html; charset=UTF-8&quot; /&gt;\n",
       "    \n",
       "        &lt;script&gt;\n",
       "            L_NO_TOUCH = false;\n",
       "            L_DISABLE_3D = false;\n",
       "        &lt;/script&gt;\n",
       "    \n",
       "    &lt;style&gt;html, body {width: 100%;height: 100%;margin: 0;padding: 0;}&lt;/style&gt;\n",
       "    &lt;style&gt;#map {position:absolute;top:0;bottom:0;right:0;left:0;}&lt;/style&gt;\n",
       "    &lt;script src=&quot;https://cdn.jsdelivr.net/npm/leaflet@1.6.0/dist/leaflet.js&quot;&gt;&lt;/script&gt;\n",
       "    &lt;script src=&quot;https://code.jquery.com/jquery-1.12.4.min.js&quot;&gt;&lt;/script&gt;\n",
       "    &lt;script src=&quot;https://maxcdn.bootstrapcdn.com/bootstrap/3.2.0/js/bootstrap.min.js&quot;&gt;&lt;/script&gt;\n",
       "    &lt;script src=&quot;https://cdnjs.cloudflare.com/ajax/libs/Leaflet.awesome-markers/2.0.2/leaflet.awesome-markers.js&quot;&gt;&lt;/script&gt;\n",
       "    &lt;link rel=&quot;stylesheet&quot; href=&quot;https://cdn.jsdelivr.net/npm/leaflet@1.6.0/dist/leaflet.css&quot;/&gt;\n",
       "    &lt;link rel=&quot;stylesheet&quot; href=&quot;https://maxcdn.bootstrapcdn.com/bootstrap/3.2.0/css/bootstrap.min.css&quot;/&gt;\n",
       "    &lt;link rel=&quot;stylesheet&quot; href=&quot;https://maxcdn.bootstrapcdn.com/bootstrap/3.2.0/css/bootstrap-theme.min.css&quot;/&gt;\n",
       "    &lt;link rel=&quot;stylesheet&quot; href=&quot;https://maxcdn.bootstrapcdn.com/font-awesome/4.6.3/css/font-awesome.min.css&quot;/&gt;\n",
       "    &lt;link rel=&quot;stylesheet&quot; href=&quot;https://cdnjs.cloudflare.com/ajax/libs/Leaflet.awesome-markers/2.0.2/leaflet.awesome-markers.css&quot;/&gt;\n",
       "    &lt;link rel=&quot;stylesheet&quot; href=&quot;https://cdn.jsdelivr.net/gh/python-visualization/folium/folium/templates/leaflet.awesome.rotate.min.css&quot;/&gt;\n",
       "    \n",
       "            &lt;meta name=&quot;viewport&quot; content=&quot;width=device-width,\n",
       "                initial-scale=1.0, maximum-scale=1.0, user-scalable=no&quot; /&gt;\n",
       "            &lt;style&gt;\n",
       "                #map_883b47a2fdfad7cde8a7762eb5c49b21 {\n",
       "                    position: relative;\n",
       "                    width: 100.0%;\n",
       "                    height: 100.0%;\n",
       "                    left: 0.0%;\n",
       "                    top: 0.0%;\n",
       "                }\n",
       "            &lt;/style&gt;\n",
       "        \n",
       "&lt;/head&gt;\n",
       "&lt;body&gt;    \n",
       "    \n",
       "            &lt;div class=&quot;folium-map&quot; id=&quot;map_883b47a2fdfad7cde8a7762eb5c49b21&quot; &gt;&lt;/div&gt;\n",
       "        \n",
       "&lt;/body&gt;\n",
       "&lt;script&gt;    \n",
       "    \n",
       "            var map_883b47a2fdfad7cde8a7762eb5c49b21 = L.map(\n",
       "                &quot;map_883b47a2fdfad7cde8a7762eb5c49b21&quot;,\n",
       "                {\n",
       "                    center: [37.55, 126.98],\n",
       "                    crs: L.CRS.EPSG3857,\n",
       "                    zoom: 12,\n",
       "                    zoomControl: true,\n",
       "                    preferCanvas: false,\n",
       "                }\n",
       "            );\n",
       "\n",
       "            \n",
       "\n",
       "        \n",
       "    \n",
       "            var tile_layer_e1b267827541d7587d48315d8c1ce4cd = L.tileLayer(\n",
       "                &quot;https://{s}.tile.openstreetmap.org/{z}/{x}/{y}.png&quot;,\n",
       "                {&quot;attribution&quot;: &quot;Data by \\u0026copy; \\u003ca href=\\&quot;http://openstreetmap.org\\&quot;\\u003eOpenStreetMap\\u003c/a\\u003e, under \\u003ca href=\\&quot;http://www.openstreetmap.org/copyright\\&quot;\\u003eODbL\\u003c/a\\u003e.&quot;, &quot;detectRetina&quot;: false, &quot;maxNativeZoom&quot;: 18, &quot;maxZoom&quot;: 18, &quot;minZoom&quot;: 0, &quot;noWrap&quot;: false, &quot;opacity&quot;: 1, &quot;subdomains&quot;: &quot;abc&quot;, &quot;tms&quot;: false}\n",
       "            ).addTo(map_883b47a2fdfad7cde8a7762eb5c49b21);\n",
       "        \n",
       "    \n",
       "            var marker_e6757f080051075e012d2513366ec8ce = L.marker(\n",
       "                [37.592573, 127.046737],\n",
       "                {}\n",
       "            ).addTo(map_883b47a2fdfad7cde8a7762eb5c49b21);\n",
       "        \n",
       "    \n",
       "            marker_e6757f080051075e012d2513366ec8ce.bindTooltip(\n",
       "                `&lt;div&gt;\n",
       "                     KAIST 서울캠퍼스 \n",
       "                 &lt;/div&gt;`,\n",
       "                {&quot;sticky&quot;: true}\n",
       "            );\n",
       "        \n",
       "    \n",
       "            var marker_a64bc88ed442c960915b627be556946c = L.marker(\n",
       "                [37.5483449, 126.8547974],\n",
       "                {}\n",
       "            ).addTo(map_883b47a2fdfad7cde8a7762eb5c49b21);\n",
       "        \n",
       "    \n",
       "            marker_a64bc88ed442c960915b627be556946c.bindTooltip(\n",
       "                `&lt;div&gt;\n",
       "                     KC대학교\n",
       "                 &lt;/div&gt;`,\n",
       "                {&quot;sticky&quot;: true}\n",
       "            );\n",
       "        \n",
       "    \n",
       "            var marker_e782bd5d4ee1b9103bc36fa734cb00e1 = L.marker(\n",
       "                [37.5859218, 127.0043275],\n",
       "                {}\n",
       "            ).addTo(map_883b47a2fdfad7cde8a7762eb5c49b21);\n",
       "        \n",
       "    \n",
       "            marker_e782bd5d4ee1b9103bc36fa734cb00e1.bindTooltip(\n",
       "                `&lt;div&gt;\n",
       "                     가톨릭대학교(성신교정)\n",
       "                 &lt;/div&gt;`,\n",
       "                {&quot;sticky&quot;: true}\n",
       "            );\n",
       "        \n",
       "    \n",
       "            var marker_dc1cd4298060d86cd11195c2a5fd7716 = L.marker(\n",
       "                [37.4996227, 127.0060653],\n",
       "                {}\n",
       "            ).addTo(map_883b47a2fdfad7cde8a7762eb5c49b21);\n",
       "        \n",
       "    \n",
       "            marker_dc1cd4298060d86cd11195c2a5fd7716.bindTooltip(\n",
       "                `&lt;div&gt;\n",
       "                     가톨릭대학교(성의교정)\n",
       "                 &lt;/div&gt;`,\n",
       "                {&quot;sticky&quot;: true}\n",
       "            );\n",
       "        \n",
       "    \n",
       "            var marker_a8f7c4bea4c95599499162cd105f0acb = L.marker(\n",
       "                [37.5676455, 126.96161],\n",
       "                {}\n",
       "            ).addTo(map_883b47a2fdfad7cde8a7762eb5c49b21);\n",
       "        \n",
       "    \n",
       "            marker_a8f7c4bea4c95599499162cd105f0acb.bindTooltip(\n",
       "                `&lt;div&gt;\n",
       "                     감리교신학대학교\n",
       "                 &lt;/div&gt;`,\n",
       "                {&quot;sticky&quot;: true}\n",
       "            );\n",
       "        \n",
       "    \n",
       "            var marker_32d03affe2c8c10328d491536e1b4559 = L.marker(\n",
       "                [37.5407625, 127.0793428],\n",
       "                {}\n",
       "            ).addTo(map_883b47a2fdfad7cde8a7762eb5c49b21);\n",
       "        \n",
       "    \n",
       "            marker_32d03affe2c8c10328d491536e1b4559.bindTooltip(\n",
       "                `&lt;div&gt;\n",
       "                     건국대학교\n",
       "                 &lt;/div&gt;`,\n",
       "                {&quot;sticky&quot;: true}\n",
       "            );\n",
       "        \n",
       "    \n",
       "            var marker_bb3137857293e52cc5aae071589dcaea = L.marker(\n",
       "                [37.30048499999999, 127.035833],\n",
       "                {}\n",
       "            ).addTo(map_883b47a2fdfad7cde8a7762eb5c49b21);\n",
       "        \n",
       "    \n",
       "            marker_bb3137857293e52cc5aae071589dcaea.bindTooltip(\n",
       "                `&lt;div&gt;\n",
       "                     경기대학교 서울캠퍼스 \n",
       "                 &lt;/div&gt;`,\n",
       "                {&quot;sticky&quot;: true}\n",
       "            );\n",
       "        \n",
       "    \n",
       "            var marker_3ab104aac8abc19d3f1e970cc7ac8fa5 = L.marker(\n",
       "                [37.5961951, 127.052544],\n",
       "                {}\n",
       "            ).addTo(map_883b47a2fdfad7cde8a7762eb5c49b21);\n",
       "        \n",
       "    \n",
       "            marker_3ab104aac8abc19d3f1e970cc7ac8fa5.bindTooltip(\n",
       "                `&lt;div&gt;\n",
       "                     경희대학교 서울캠퍼스 \n",
       "                 &lt;/div&gt;`,\n",
       "                {&quot;sticky&quot;: true}\n",
       "            );\n",
       "        \n",
       "    \n",
       "            var marker_8cf10561936bedcf799e10f2cec20411 = L.marker(\n",
       "                [37.59019162, 127.03318417123],\n",
       "                {}\n",
       "            ).addTo(map_883b47a2fdfad7cde8a7762eb5c49b21);\n",
       "        \n",
       "    \n",
       "            marker_8cf10561936bedcf799e10f2cec20411.bindTooltip(\n",
       "                `&lt;div&gt;\n",
       "                     고려대학교\n",
       "                 &lt;/div&gt;`,\n",
       "                {&quot;sticky&quot;: true}\n",
       "            );\n",
       "        \n",
       "    \n",
       "            var marker_4a28ea4e042806a6f55e0b48b70ab16d = L.marker(\n",
       "                [37.6194965, 127.0596958],\n",
       "                {}\n",
       "            ).addTo(map_883b47a2fdfad7cde8a7762eb5c49b21);\n",
       "        \n",
       "    \n",
       "            marker_4a28ea4e042806a6f55e0b48b70ab16d.bindTooltip(\n",
       "                `&lt;div&gt;\n",
       "                     광운대학교\n",
       "                 &lt;/div&gt;`,\n",
       "                {&quot;sticky&quot;: true}\n",
       "            );\n",
       "        \n",
       "    \n",
       "            var marker_cee2b7e1cb03297ef4a156ccdbb3b2cf = L.marker(\n",
       "                [37.6096409, 126.997697],\n",
       "                {}\n",
       "            ).addTo(map_883b47a2fdfad7cde8a7762eb5c49b21);\n",
       "        \n",
       "    \n",
       "            marker_cee2b7e1cb03297ef4a156ccdbb3b2cf.bindTooltip(\n",
       "                `&lt;div&gt;\n",
       "                     국민대학교\n",
       "                 &lt;/div&gt;`,\n",
       "                {&quot;sticky&quot;: true}\n",
       "            );\n",
       "        \n",
       "    \n",
       "            var marker_7e26d98824714267aac1c65969c3e943 = L.marker(\n",
       "                [37.6511988, 127.0161604],\n",
       "                {}\n",
       "            ).addTo(map_883b47a2fdfad7cde8a7762eb5c49b21);\n",
       "        \n",
       "    \n",
       "            marker_7e26d98824714267aac1c65969c3e943.bindTooltip(\n",
       "                `&lt;div&gt;\n",
       "                     덕성여자대학교\n",
       "                 &lt;/div&gt;`,\n",
       "                {&quot;sticky&quot;: true}\n",
       "            );\n",
       "        \n",
       "    \n",
       "            var marker_ddd8baa581ccabb5a9ad91e6e60e14ec = L.marker(\n",
       "                [37.5574771, 127.0020518],\n",
       "                {}\n",
       "            ).addTo(map_883b47a2fdfad7cde8a7762eb5c49b21);\n",
       "        \n",
       "    \n",
       "            marker_ddd8baa581ccabb5a9ad91e6e60e14ec.bindTooltip(\n",
       "                `&lt;div&gt;\n",
       "                     동국대학교\n",
       "                 &lt;/div&gt;`,\n",
       "                {&quot;sticky&quot;: true}\n",
       "            );\n",
       "        \n",
       "    \n",
       "            var marker_5b2819c0801baec1b1f5f5d9b054b5b2 = L.marker(\n",
       "                [37.6063202, 127.041808],\n",
       "                {}\n",
       "            ).addTo(map_883b47a2fdfad7cde8a7762eb5c49b21);\n",
       "        \n",
       "    \n",
       "            marker_5b2819c0801baec1b1f5f5d9b054b5b2.bindTooltip(\n",
       "                `&lt;div&gt;\n",
       "                     동덕여자대학교\n",
       "                 &lt;/div&gt;`,\n",
       "                {&quot;sticky&quot;: true}\n",
       "            );\n",
       "        \n",
       "    \n",
       "            var marker_dbca9f4e1f2f9995c702c981406b62a5 = L.marker(\n",
       "                [37.5802046, 126.9234451],\n",
       "                {}\n",
       "            ).addTo(map_883b47a2fdfad7cde8a7762eb5c49b21);\n",
       "        \n",
       "    \n",
       "            marker_dbca9f4e1f2f9995c702c981406b62a5.bindTooltip(\n",
       "                `&lt;div&gt;\n",
       "                     명지대학교 서울캠퍼스 \n",
       "                 &lt;/div&gt;`,\n",
       "                {&quot;sticky&quot;: true}\n",
       "            );\n",
       "        \n",
       "    \n",
       "            var marker_992b9960b7e00b41ddaad271c64899c6 = L.marker(\n",
       "                [37.6429515, 127.1054757],\n",
       "                {}\n",
       "            ).addTo(map_883b47a2fdfad7cde8a7762eb5c49b21);\n",
       "        \n",
       "    \n",
       "            marker_992b9960b7e00b41ddaad271c64899c6.bindTooltip(\n",
       "                `&lt;div&gt;\n",
       "                     삼육대학교\n",
       "                 &lt;/div&gt;`,\n",
       "                {&quot;sticky&quot;: true}\n",
       "            );\n",
       "        \n",
       "    \n",
       "            var marker_cd3afc0ed5b8ad5600f4d2544d50a576 = L.marker(\n",
       "                [37.602638, 126.955252],\n",
       "                {}\n",
       "            ).addTo(map_883b47a2fdfad7cde8a7762eb5c49b21);\n",
       "        \n",
       "    \n",
       "            marker_cd3afc0ed5b8ad5600f4d2544d50a576.bindTooltip(\n",
       "                `&lt;div&gt;\n",
       "                     상명대학교 서울캠퍼스 \n",
       "                 &lt;/div&gt;`,\n",
       "                {&quot;sticky&quot;: true}\n",
       "            );\n",
       "        \n",
       "    \n",
       "            var marker_8cb5ddd9268c9f24b9eb2868cf21805d = L.marker(\n",
       "                [37.5509442, 126.9410023],\n",
       "                {}\n",
       "            ).addTo(map_883b47a2fdfad7cde8a7762eb5c49b21);\n",
       "        \n",
       "    \n",
       "            marker_8cb5ddd9268c9f24b9eb2868cf21805d.bindTooltip(\n",
       "                `&lt;div&gt;\n",
       "                     서강대학교\n",
       "                 &lt;/div&gt;`,\n",
       "                {&quot;sticky&quot;: true}\n",
       "            );\n",
       "        \n",
       "    \n",
       "            var marker_1c5e1084e7098763f436d4c4a6cc8b48 = L.marker(\n",
       "                [37.615095, 127.0131113],\n",
       "                {}\n",
       "            ).addTo(map_883b47a2fdfad7cde8a7762eb5c49b21);\n",
       "        \n",
       "    \n",
       "            marker_1c5e1084e7098763f436d4c4a6cc8b48.bindTooltip(\n",
       "                `&lt;div&gt;\n",
       "                     서경대학교\n",
       "                 &lt;/div&gt;`,\n",
       "                {&quot;sticky&quot;: true}\n",
       "            );\n",
       "        \n",
       "    \n",
       "            var marker_c611fe3838c03ac13c9fd979974302e6 = L.marker(\n",
       "                [37.6316684, 127.0774813],\n",
       "                {}\n",
       "            ).addTo(map_883b47a2fdfad7cde8a7762eb5c49b21);\n",
       "        \n",
       "    \n",
       "            marker_c611fe3838c03ac13c9fd979974302e6.bindTooltip(\n",
       "                `&lt;div&gt;\n",
       "                     서울과학기술대학교\n",
       "                 &lt;/div&gt;`,\n",
       "                {&quot;sticky&quot;: true}\n",
       "            );\n",
       "        \n",
       "    \n",
       "            var marker_e0fe5e8ad8e1579312025e67c4bf8a7e = L.marker(\n",
       "                [37.4899615, 127.0164124],\n",
       "                {}\n",
       "            ).addTo(map_883b47a2fdfad7cde8a7762eb5c49b21);\n",
       "        \n",
       "    \n",
       "            marker_e0fe5e8ad8e1579312025e67c4bf8a7e.bindTooltip(\n",
       "                `&lt;div&gt;\n",
       "                     서울교육대학교\n",
       "                 &lt;/div&gt;`,\n",
       "                {&quot;sticky&quot;: true}\n",
       "            );\n",
       "        \n",
       "    \n",
       "            var marker_03f8a99f3204fd787418f0eb6eb42b02 = L.marker(\n",
       "                [37.6009228, 126.9123818],\n",
       "                {}\n",
       "            ).addTo(map_883b47a2fdfad7cde8a7762eb5c49b21);\n",
       "        \n",
       "    \n",
       "            marker_03f8a99f3204fd787418f0eb6eb42b02.bindTooltip(\n",
       "                `&lt;div&gt;\n",
       "                     서울기독대학교\n",
       "                 &lt;/div&gt;`,\n",
       "                {&quot;sticky&quot;: true}\n",
       "            );\n",
       "        \n",
       "    \n",
       "            var marker_888f35a48068c9ea39239a24bb9ed3c0 = L.marker(\n",
       "                [37.459882, 126.9519053],\n",
       "                {}\n",
       "            ).addTo(map_883b47a2fdfad7cde8a7762eb5c49b21);\n",
       "        \n",
       "    \n",
       "            marker_888f35a48068c9ea39239a24bb9ed3c0.bindTooltip(\n",
       "                `&lt;div&gt;\n",
       "                     서울대학교\n",
       "                 &lt;/div&gt;`,\n",
       "                {&quot;sticky&quot;: true}\n",
       "            );\n",
       "        \n",
       "    \n",
       "            var marker_c2d44c7f4fc80fed2625c72228e35cdf = L.marker(\n",
       "                [37.5838657, 127.0587771],\n",
       "                {}\n",
       "            ).addTo(map_883b47a2fdfad7cde8a7762eb5c49b21);\n",
       "        \n",
       "    \n",
       "            marker_c2d44c7f4fc80fed2625c72228e35cdf.bindTooltip(\n",
       "                `&lt;div&gt;\n",
       "                     서울시립대학교\n",
       "                 &lt;/div&gt;`,\n",
       "                {&quot;sticky&quot;: true}\n",
       "            );\n",
       "        \n",
       "    \n",
       "            var marker_57cb4f8dc6b92fa8cd1b389ba2f0bff8 = L.marker(\n",
       "                [37.6281126, 127.0904568],\n",
       "                {}\n",
       "            ).addTo(map_883b47a2fdfad7cde8a7762eb5c49b21);\n",
       "        \n",
       "    \n",
       "            marker_57cb4f8dc6b92fa8cd1b389ba2f0bff8.bindTooltip(\n",
       "                `&lt;div&gt;\n",
       "                     서울여자대학교\n",
       "                 &lt;/div&gt;`,\n",
       "                {&quot;sticky&quot;: true}\n",
       "            );\n",
       "        \n",
       "    \n",
       "            var marker_07556fad9cc334b84bb7eff631447919 = L.marker(\n",
       "                [37.4965411, 126.8512616],\n",
       "                {}\n",
       "            ).addTo(map_883b47a2fdfad7cde8a7762eb5c49b21);\n",
       "        \n",
       "    \n",
       "            marker_07556fad9cc334b84bb7eff631447919.bindTooltip(\n",
       "                `&lt;div&gt;\n",
       "                     서울한영대학교\n",
       "                 &lt;/div&gt;`,\n",
       "                {&quot;sticky&quot;: true}\n",
       "            );\n",
       "        \n",
       "    \n",
       "            var marker_a9c4528d72fdfc4c0ec3aafe72fd7d6d = L.marker(\n",
       "                [37.4872325, 126.8253202],\n",
       "                {}\n",
       "            ).addTo(map_883b47a2fdfad7cde8a7762eb5c49b21);\n",
       "        \n",
       "    \n",
       "            marker_a9c4528d72fdfc4c0ec3aafe72fd7d6d.bindTooltip(\n",
       "                `&lt;div&gt;\n",
       "                     성공회대학교\n",
       "                 &lt;/div&gt;`,\n",
       "                {&quot;sticky&quot;: true}\n",
       "            );\n",
       "        \n",
       "    \n",
       "            var marker_ec17339e6acc18536ef607214d6e61f8 = L.marker(\n",
       "                [37.588227, 126.993606],\n",
       "                {}\n",
       "            ).addTo(map_883b47a2fdfad7cde8a7762eb5c49b21);\n",
       "        \n",
       "    \n",
       "            marker_ec17339e6acc18536ef607214d6e61f8.bindTooltip(\n",
       "                `&lt;div&gt;\n",
       "                     성균관대학교 서울캠퍼스  \n",
       "                 &lt;/div&gt;`,\n",
       "                {&quot;sticky&quot;: true}\n",
       "            );\n",
       "        \n",
       "    \n",
       "            var marker_2a07231209f03b512ee203d8101fc9ba = L.marker(\n",
       "                [37.5913103, 127.0221312],\n",
       "                {}\n",
       "            ).addTo(map_883b47a2fdfad7cde8a7762eb5c49b21);\n",
       "        \n",
       "    \n",
       "            marker_2a07231209f03b512ee203d8101fc9ba.bindTooltip(\n",
       "                `&lt;div&gt;\n",
       "                     성신여자대학교\n",
       "                 &lt;/div&gt;`,\n",
       "                {&quot;sticky&quot;: true}\n",
       "            );\n",
       "        \n",
       "    \n",
       "            var marker_ad16ae3a61d065d0aae98cec3c6b9714 = L.marker(\n",
       "                [37.5502596, 127.073139],\n",
       "                {}\n",
       "            ).addTo(map_883b47a2fdfad7cde8a7762eb5c49b21);\n",
       "        \n",
       "    \n",
       "            marker_ad16ae3a61d065d0aae98cec3c6b9714.bindTooltip(\n",
       "                `&lt;div&gt;\n",
       "                     세종대학교\n",
       "                 &lt;/div&gt;`,\n",
       "                {&quot;sticky&quot;: true}\n",
       "            );\n",
       "        \n",
       "    \n",
       "            var marker_406bbfa6e74a8fd34cf2fec746f2551d = L.marker(\n",
       "                [37.5463644, 126.9648311],\n",
       "                {}\n",
       "            ).addTo(map_883b47a2fdfad7cde8a7762eb5c49b21);\n",
       "        \n",
       "    \n",
       "            marker_406bbfa6e74a8fd34cf2fec746f2551d.bindTooltip(\n",
       "                `&lt;div&gt;\n",
       "                     숙명여자대학교\n",
       "                 &lt;/div&gt;`,\n",
       "                {&quot;sticky&quot;: true}\n",
       "            );\n",
       "        \n",
       "    \n",
       "            var marker_007b14bdbb8e3d1e38d6043403703758 = L.marker(\n",
       "                [37.4963111, 126.9574596],\n",
       "                {}\n",
       "            ).addTo(map_883b47a2fdfad7cde8a7762eb5c49b21);\n",
       "        \n",
       "    \n",
       "            marker_007b14bdbb8e3d1e38d6043403703758.bindTooltip(\n",
       "                `&lt;div&gt;\n",
       "                     숭실대학교\n",
       "                 &lt;/div&gt;`,\n",
       "                {&quot;sticky&quot;: true}\n",
       "            );\n",
       "        \n",
       "    \n",
       "            var marker_60bacdc3bb3fbd180b1270ee7adbdc35 = L.marker(\n",
       "                [37.565784, 126.938572],\n",
       "                {}\n",
       "            ).addTo(map_883b47a2fdfad7cde8a7762eb5c49b21);\n",
       "        \n",
       "    \n",
       "            marker_60bacdc3bb3fbd180b1270ee7adbdc35.bindTooltip(\n",
       "                `&lt;div&gt;\n",
       "                     연세대학교\n",
       "                 &lt;/div&gt;`,\n",
       "                {&quot;sticky&quot;: true}\n",
       "            );\n",
       "        \n",
       "    \n",
       "            var marker_e654bb14890e9946aad085084fb09cec = L.marker(\n",
       "                [37.6238188, 127.0988783],\n",
       "                {}\n",
       "            ).addTo(map_883b47a2fdfad7cde8a7762eb5c49b21);\n",
       "        \n",
       "    \n",
       "            marker_e654bb14890e9946aad085084fb09cec.bindTooltip(\n",
       "                `&lt;div&gt;\n",
       "                     육군사관학교\n",
       "                 &lt;/div&gt;`,\n",
       "                {&quot;sticky&quot;: true}\n",
       "            );\n",
       "        \n",
       "    \n",
       "            var marker_410067ebace7429d45c51c3c3bcbfe05 = L.marker(\n",
       "                [37.5643079, 126.9501786],\n",
       "                {}\n",
       "            ).addTo(map_883b47a2fdfad7cde8a7762eb5c49b21);\n",
       "        \n",
       "    \n",
       "            marker_410067ebace7429d45c51c3c3bcbfe05.bindTooltip(\n",
       "                `&lt;div&gt;\n",
       "                     이화여자대학교\n",
       "                 &lt;/div&gt;`,\n",
       "                {&quot;sticky&quot;: true}\n",
       "            );\n",
       "        \n",
       "    \n",
       "            var marker_4f003eb35b037349ffdc155446e86939 = L.marker(\n",
       "                [37.5505112, 127.1034577],\n",
       "                {}\n",
       "            ).addTo(map_883b47a2fdfad7cde8a7762eb5c49b21);\n",
       "        \n",
       "    \n",
       "            marker_4f003eb35b037349ffdc155446e86939.bindTooltip(\n",
       "                `&lt;div&gt;\n",
       "                     장로회신학대학교\n",
       "                 &lt;/div&gt;`,\n",
       "                {&quot;sticky&quot;: true}\n",
       "            );\n",
       "        \n",
       "    \n",
       "            var marker_5b86cba2ff9988942dca9cb28ca64ff0 = L.marker(\n",
       "                [37.5050881, 126.9571012],\n",
       "                {}\n",
       "            ).addTo(map_883b47a2fdfad7cde8a7762eb5c49b21);\n",
       "        \n",
       "    \n",
       "            marker_5b86cba2ff9988942dca9cb28ca64ff0.bindTooltip(\n",
       "                `&lt;div&gt;\n",
       "                     중앙대학교 서울캠퍼스 \n",
       "                 &lt;/div&gt;`,\n",
       "                {&quot;sticky&quot;: true}\n",
       "            );\n",
       "        \n",
       "    \n",
       "            var marker_646fe28a44f0673f1011891f05866c93 = L.marker(\n",
       "                [37.4886232, 126.9668169],\n",
       "                {}\n",
       "            ).addTo(map_883b47a2fdfad7cde8a7762eb5c49b21);\n",
       "        \n",
       "    \n",
       "            marker_646fe28a44f0673f1011891f05866c93.bindTooltip(\n",
       "                `&lt;div&gt;\n",
       "                     총신대학교\n",
       "                 &lt;/div&gt;`,\n",
       "                {&quot;sticky&quot;: true}\n",
       "            );\n",
       "        \n",
       "    \n",
       "            var marker_dcb284c517e46b8125e4bdfeb8b9d4f2 = L.marker(\n",
       "                [37.5624515, 126.9534165],\n",
       "                {}\n",
       "            ).addTo(map_883b47a2fdfad7cde8a7762eb5c49b21);\n",
       "        \n",
       "    \n",
       "            marker_dcb284c517e46b8125e4bdfeb8b9d4f2.bindTooltip(\n",
       "                `&lt;div&gt;\n",
       "                     추계예술대학교\n",
       "                 &lt;/div&gt;`,\n",
       "                {&quot;sticky&quot;: true}\n",
       "            );\n",
       "        \n",
       "    \n",
       "            var marker_a5c93a913700674540700f881d086304 = L.marker(\n",
       "                [37.5786127, 127.0032905],\n",
       "                {}\n",
       "            ).addTo(map_883b47a2fdfad7cde8a7762eb5c49b21);\n",
       "        \n",
       "    \n",
       "            marker_a5c93a913700674540700f881d086304.bindTooltip(\n",
       "                `&lt;div&gt;\n",
       "                     한국방송통신대학교\n",
       "                 &lt;/div&gt;`,\n",
       "                {&quot;sticky&quot;: true}\n",
       "            );\n",
       "        \n",
       "    \n",
       "            var marker_2c2801633de164d62a3a8262ce324b83 = L.marker(\n",
       "                [37.6487485, 127.0643199],\n",
       "                {}\n",
       "            ).addTo(map_883b47a2fdfad7cde8a7762eb5c49b21);\n",
       "        \n",
       "    \n",
       "            marker_2c2801633de164d62a3a8262ce324b83.bindTooltip(\n",
       "                `&lt;div&gt;\n",
       "                     한국성서대학교\n",
       "                 &lt;/div&gt;`,\n",
       "                {&quot;sticky&quot;: true}\n",
       "            );\n",
       "        \n",
       "    \n",
       "            var marker_20fdc5734e2e22d48677c47e3440d15b = L.marker(\n",
       "                [37.6049973, 127.0567397],\n",
       "                {}\n",
       "            ).addTo(map_883b47a2fdfad7cde8a7762eb5c49b21);\n",
       "        \n",
       "    \n",
       "            marker_20fdc5734e2e22d48677c47e3440d15b.bindTooltip(\n",
       "                `&lt;div&gt;\n",
       "                     한국예술종합학교\n",
       "                 &lt;/div&gt;`,\n",
       "                {&quot;sticky&quot;: true}\n",
       "            );\n",
       "        \n",
       "    \n",
       "            var marker_b545196e9a373566920f77744aa5a5dd = L.marker(\n",
       "                [37.597319, 127.057843],\n",
       "                {}\n",
       "            ).addTo(map_883b47a2fdfad7cde8a7762eb5c49b21);\n",
       "        \n",
       "    \n",
       "            marker_b545196e9a373566920f77744aa5a5dd.bindTooltip(\n",
       "                `&lt;div&gt;\n",
       "                     한국외국어대학교\n",
       "                 &lt;/div&gt;`,\n",
       "                {&quot;sticky&quot;: true}\n",
       "            );\n",
       "        \n",
       "    \n",
       "            var marker_8f13c5b41284745927ae38914a88d903 = L.marker(\n",
       "                [37.5196266, 127.1309837],\n",
       "                {}\n",
       "            ).addTo(map_883b47a2fdfad7cde8a7762eb5c49b21);\n",
       "        \n",
       "    \n",
       "            marker_8f13c5b41284745927ae38914a88d903.bindTooltip(\n",
       "                `&lt;div&gt;\n",
       "                     한국체육대학교\n",
       "                 &lt;/div&gt;`,\n",
       "                {&quot;sticky&quot;: true}\n",
       "            );\n",
       "        \n",
       "    \n",
       "            var marker_4069197a312cf2008a95fd92943cedfa = L.marker(\n",
       "                [37.5817849, 127.010369],\n",
       "                {}\n",
       "            ).addTo(map_883b47a2fdfad7cde8a7762eb5c49b21);\n",
       "        \n",
       "    \n",
       "            marker_4069197a312cf2008a95fd92943cedfa.bindTooltip(\n",
       "                `&lt;div&gt;\n",
       "                     한성대학교\n",
       "                 &lt;/div&gt;`,\n",
       "                {&quot;sticky&quot;: true}\n",
       "            );\n",
       "        \n",
       "    \n",
       "            var marker_e389d4377c30caf0dedbf5bbbff57e43 = L.marker(\n",
       "                [37.5572321, 127.0453219],\n",
       "                {}\n",
       "            ).addTo(map_883b47a2fdfad7cde8a7762eb5c49b21);\n",
       "        \n",
       "    \n",
       "            marker_e389d4377c30caf0dedbf5bbbff57e43.bindTooltip(\n",
       "                `&lt;div&gt;\n",
       "                     한양대학교\n",
       "                 &lt;/div&gt;`,\n",
       "                {&quot;sticky&quot;: true}\n",
       "            );\n",
       "        \n",
       "    \n",
       "            var marker_e4721474f860be517af5c9e4beb45f91 = L.marker(\n",
       "                [37.5514642, 126.9250106],\n",
       "                {}\n",
       "            ).addTo(map_883b47a2fdfad7cde8a7762eb5c49b21);\n",
       "        \n",
       "    \n",
       "            marker_e4721474f860be517af5c9e4beb45f91.bindTooltip(\n",
       "                `&lt;div&gt;\n",
       "                     홍익대학교\n",
       "                 &lt;/div&gt;`,\n",
       "                {&quot;sticky&quot;: true}\n",
       "            );\n",
       "        \n",
       "&lt;/script&gt;\" style=\"position:absolute;width:100%;height:100%;left:0;top:0;border:none !important;\" allowfullscreen webkitallowfullscreen mozallowfullscreen></iframe></div></div>"
      ],
      "text/plain": [
       "<folium.folium.Map at 0x289874740a0>"
      ]
     },
     "execution_count": 64,
     "metadata": {},
     "output_type": "execute_result"
    }
   ],
   "source": [
    "seoul_map"
   ]
  },
  {
   "cell_type": "markdown",
   "id": "547bf332-020e-4ae7-9661-7b6c9666811a",
   "metadata": {},
   "source": [
    "* 최소코드"
   ]
  },
  {
   "cell_type": "code",
   "execution_count": 66,
   "id": "6b11d0ce-c0f0-426a-8f0d-a6ad19466278",
   "metadata": {
    "collapsed": true,
    "jupyter": {
     "outputs_hidden": true
    },
    "tags": []
   },
   "outputs": [
    {
     "data": {
      "text/html": [
       "<div style=\"width:100%;\"><div style=\"position:relative;width:100%;height:0;padding-bottom:60%;\"><span style=\"color:#565656\">Make this Notebook Trusted to load map: File -> Trust Notebook</span><iframe srcdoc=\"&lt;!DOCTYPE html&gt;\n",
       "&lt;head&gt;    \n",
       "    &lt;meta http-equiv=&quot;content-type&quot; content=&quot;text/html; charset=UTF-8&quot; /&gt;\n",
       "    \n",
       "        &lt;script&gt;\n",
       "            L_NO_TOUCH = false;\n",
       "            L_DISABLE_3D = false;\n",
       "        &lt;/script&gt;\n",
       "    \n",
       "    &lt;style&gt;html, body {width: 100%;height: 100%;margin: 0;padding: 0;}&lt;/style&gt;\n",
       "    &lt;style&gt;#map {position:absolute;top:0;bottom:0;right:0;left:0;}&lt;/style&gt;\n",
       "    &lt;script src=&quot;https://cdn.jsdelivr.net/npm/leaflet@1.6.0/dist/leaflet.js&quot;&gt;&lt;/script&gt;\n",
       "    &lt;script src=&quot;https://code.jquery.com/jquery-1.12.4.min.js&quot;&gt;&lt;/script&gt;\n",
       "    &lt;script src=&quot;https://maxcdn.bootstrapcdn.com/bootstrap/3.2.0/js/bootstrap.min.js&quot;&gt;&lt;/script&gt;\n",
       "    &lt;script src=&quot;https://cdnjs.cloudflare.com/ajax/libs/Leaflet.awesome-markers/2.0.2/leaflet.awesome-markers.js&quot;&gt;&lt;/script&gt;\n",
       "    &lt;link rel=&quot;stylesheet&quot; href=&quot;https://cdn.jsdelivr.net/npm/leaflet@1.6.0/dist/leaflet.css&quot;/&gt;\n",
       "    &lt;link rel=&quot;stylesheet&quot; href=&quot;https://maxcdn.bootstrapcdn.com/bootstrap/3.2.0/css/bootstrap.min.css&quot;/&gt;\n",
       "    &lt;link rel=&quot;stylesheet&quot; href=&quot;https://maxcdn.bootstrapcdn.com/bootstrap/3.2.0/css/bootstrap-theme.min.css&quot;/&gt;\n",
       "    &lt;link rel=&quot;stylesheet&quot; href=&quot;https://maxcdn.bootstrapcdn.com/font-awesome/4.6.3/css/font-awesome.min.css&quot;/&gt;\n",
       "    &lt;link rel=&quot;stylesheet&quot; href=&quot;https://cdnjs.cloudflare.com/ajax/libs/Leaflet.awesome-markers/2.0.2/leaflet.awesome-markers.css&quot;/&gt;\n",
       "    &lt;link rel=&quot;stylesheet&quot; href=&quot;https://cdn.jsdelivr.net/gh/python-visualization/folium/folium/templates/leaflet.awesome.rotate.min.css&quot;/&gt;\n",
       "    \n",
       "            &lt;meta name=&quot;viewport&quot; content=&quot;width=device-width,\n",
       "                initial-scale=1.0, maximum-scale=1.0, user-scalable=no&quot; /&gt;\n",
       "            &lt;style&gt;\n",
       "                #map_ec5d897d4d7cbf9a0b4be464e0c66a2b {\n",
       "                    position: relative;\n",
       "                    width: 100.0%;\n",
       "                    height: 100.0%;\n",
       "                    left: 0.0%;\n",
       "                    top: 0.0%;\n",
       "                }\n",
       "            &lt;/style&gt;\n",
       "        \n",
       "&lt;/head&gt;\n",
       "&lt;body&gt;    \n",
       "    \n",
       "            &lt;div class=&quot;folium-map&quot; id=&quot;map_ec5d897d4d7cbf9a0b4be464e0c66a2b&quot; &gt;&lt;/div&gt;\n",
       "        \n",
       "&lt;/body&gt;\n",
       "&lt;script&gt;    \n",
       "    \n",
       "            var map_ec5d897d4d7cbf9a0b4be464e0c66a2b = L.map(\n",
       "                &quot;map_ec5d897d4d7cbf9a0b4be464e0c66a2b&quot;,\n",
       "                {\n",
       "                    center: [37.55, 126.98],\n",
       "                    crs: L.CRS.EPSG3857,\n",
       "                    zoom: 12,\n",
       "                    zoomControl: true,\n",
       "                    preferCanvas: false,\n",
       "                }\n",
       "            );\n",
       "\n",
       "            \n",
       "\n",
       "        \n",
       "    \n",
       "            var tile_layer_a51bde282d5c3668744004dfa6def043 = L.tileLayer(\n",
       "                &quot;https://{s}.tile.openstreetmap.org/{z}/{x}/{y}.png&quot;,\n",
       "                {&quot;attribution&quot;: &quot;Data by \\u0026copy; \\u003ca href=\\&quot;http://openstreetmap.org\\&quot;\\u003eOpenStreetMap\\u003c/a\\u003e, under \\u003ca href=\\&quot;http://www.openstreetmap.org/copyright\\&quot;\\u003eODbL\\u003c/a\\u003e.&quot;, &quot;detectRetina&quot;: false, &quot;maxNativeZoom&quot;: 18, &quot;maxZoom&quot;: 18, &quot;minZoom&quot;: 0, &quot;noWrap&quot;: false, &quot;opacity&quot;: 1, &quot;subdomains&quot;: &quot;abc&quot;, &quot;tms&quot;: false}\n",
       "            ).addTo(map_ec5d897d4d7cbf9a0b4be464e0c66a2b);\n",
       "        \n",
       "    \n",
       "            var marker_419cee944133e34e98f6e250c2921930 = L.marker(\n",
       "                [37.592573, 127.046737],\n",
       "                {}\n",
       "            ).addTo(map_ec5d897d4d7cbf9a0b4be464e0c66a2b);\n",
       "        \n",
       "    \n",
       "            marker_419cee944133e34e98f6e250c2921930.bindTooltip(\n",
       "                `&lt;div&gt;\n",
       "                     KAIST 서울캠퍼스 \n",
       "                 &lt;/div&gt;`,\n",
       "                {&quot;sticky&quot;: true}\n",
       "            );\n",
       "        \n",
       "    \n",
       "            var marker_cc692e21f8b4c7e016c1a2befdc35cc6 = L.marker(\n",
       "                [37.5483449, 126.8547974],\n",
       "                {}\n",
       "            ).addTo(map_ec5d897d4d7cbf9a0b4be464e0c66a2b);\n",
       "        \n",
       "    \n",
       "            marker_cc692e21f8b4c7e016c1a2befdc35cc6.bindTooltip(\n",
       "                `&lt;div&gt;\n",
       "                     KC대학교\n",
       "                 &lt;/div&gt;`,\n",
       "                {&quot;sticky&quot;: true}\n",
       "            );\n",
       "        \n",
       "    \n",
       "            var marker_0c164c0f223c954fc798bd09336665d0 = L.marker(\n",
       "                [37.5859218, 127.0043275],\n",
       "                {}\n",
       "            ).addTo(map_ec5d897d4d7cbf9a0b4be464e0c66a2b);\n",
       "        \n",
       "    \n",
       "            marker_0c164c0f223c954fc798bd09336665d0.bindTooltip(\n",
       "                `&lt;div&gt;\n",
       "                     가톨릭대학교(성신교정)\n",
       "                 &lt;/div&gt;`,\n",
       "                {&quot;sticky&quot;: true}\n",
       "            );\n",
       "        \n",
       "    \n",
       "            var marker_8a2944b4b02a2f65d0571cddc0057a86 = L.marker(\n",
       "                [37.4996227, 127.0060653],\n",
       "                {}\n",
       "            ).addTo(map_ec5d897d4d7cbf9a0b4be464e0c66a2b);\n",
       "        \n",
       "    \n",
       "            marker_8a2944b4b02a2f65d0571cddc0057a86.bindTooltip(\n",
       "                `&lt;div&gt;\n",
       "                     가톨릭대학교(성의교정)\n",
       "                 &lt;/div&gt;`,\n",
       "                {&quot;sticky&quot;: true}\n",
       "            );\n",
       "        \n",
       "    \n",
       "            var marker_2d9314b6bcd34322aa1cc22c20e184b9 = L.marker(\n",
       "                [37.5676455, 126.96161],\n",
       "                {}\n",
       "            ).addTo(map_ec5d897d4d7cbf9a0b4be464e0c66a2b);\n",
       "        \n",
       "    \n",
       "            marker_2d9314b6bcd34322aa1cc22c20e184b9.bindTooltip(\n",
       "                `&lt;div&gt;\n",
       "                     감리교신학대학교\n",
       "                 &lt;/div&gt;`,\n",
       "                {&quot;sticky&quot;: true}\n",
       "            );\n",
       "        \n",
       "    \n",
       "            var marker_e7a566c715c253ae2ac19e8e94da9282 = L.marker(\n",
       "                [37.5407625, 127.0793428],\n",
       "                {}\n",
       "            ).addTo(map_ec5d897d4d7cbf9a0b4be464e0c66a2b);\n",
       "        \n",
       "    \n",
       "            marker_e7a566c715c253ae2ac19e8e94da9282.bindTooltip(\n",
       "                `&lt;div&gt;\n",
       "                     건국대학교\n",
       "                 &lt;/div&gt;`,\n",
       "                {&quot;sticky&quot;: true}\n",
       "            );\n",
       "        \n",
       "    \n",
       "            var marker_4661843fcbe96c9f37c411a96397f41e = L.marker(\n",
       "                [37.30048499999999, 127.035833],\n",
       "                {}\n",
       "            ).addTo(map_ec5d897d4d7cbf9a0b4be464e0c66a2b);\n",
       "        \n",
       "    \n",
       "            marker_4661843fcbe96c9f37c411a96397f41e.bindTooltip(\n",
       "                `&lt;div&gt;\n",
       "                     경기대학교 서울캠퍼스 \n",
       "                 &lt;/div&gt;`,\n",
       "                {&quot;sticky&quot;: true}\n",
       "            );\n",
       "        \n",
       "    \n",
       "            var marker_1cf71bea45f87fe809e33a82aa35e748 = L.marker(\n",
       "                [37.5961951, 127.052544],\n",
       "                {}\n",
       "            ).addTo(map_ec5d897d4d7cbf9a0b4be464e0c66a2b);\n",
       "        \n",
       "    \n",
       "            marker_1cf71bea45f87fe809e33a82aa35e748.bindTooltip(\n",
       "                `&lt;div&gt;\n",
       "                     경희대학교 서울캠퍼스 \n",
       "                 &lt;/div&gt;`,\n",
       "                {&quot;sticky&quot;: true}\n",
       "            );\n",
       "        \n",
       "    \n",
       "            var marker_fa0936005fbd7793df66e44a88f298d0 = L.marker(\n",
       "                [37.59019162, 127.03318417123],\n",
       "                {}\n",
       "            ).addTo(map_ec5d897d4d7cbf9a0b4be464e0c66a2b);\n",
       "        \n",
       "    \n",
       "            marker_fa0936005fbd7793df66e44a88f298d0.bindTooltip(\n",
       "                `&lt;div&gt;\n",
       "                     고려대학교\n",
       "                 &lt;/div&gt;`,\n",
       "                {&quot;sticky&quot;: true}\n",
       "            );\n",
       "        \n",
       "    \n",
       "            var marker_50750eccbd90a467031127ccb0752e0e = L.marker(\n",
       "                [37.6194965, 127.0596958],\n",
       "                {}\n",
       "            ).addTo(map_ec5d897d4d7cbf9a0b4be464e0c66a2b);\n",
       "        \n",
       "    \n",
       "            marker_50750eccbd90a467031127ccb0752e0e.bindTooltip(\n",
       "                `&lt;div&gt;\n",
       "                     광운대학교\n",
       "                 &lt;/div&gt;`,\n",
       "                {&quot;sticky&quot;: true}\n",
       "            );\n",
       "        \n",
       "    \n",
       "            var marker_67a02ddc01ef9199d122c62a0f1fb556 = L.marker(\n",
       "                [37.6096409, 126.997697],\n",
       "                {}\n",
       "            ).addTo(map_ec5d897d4d7cbf9a0b4be464e0c66a2b);\n",
       "        \n",
       "    \n",
       "            marker_67a02ddc01ef9199d122c62a0f1fb556.bindTooltip(\n",
       "                `&lt;div&gt;\n",
       "                     국민대학교\n",
       "                 &lt;/div&gt;`,\n",
       "                {&quot;sticky&quot;: true}\n",
       "            );\n",
       "        \n",
       "    \n",
       "            var marker_9810f00dfe506be4ec289a9373bdd1ec = L.marker(\n",
       "                [37.6511988, 127.0161604],\n",
       "                {}\n",
       "            ).addTo(map_ec5d897d4d7cbf9a0b4be464e0c66a2b);\n",
       "        \n",
       "    \n",
       "            marker_9810f00dfe506be4ec289a9373bdd1ec.bindTooltip(\n",
       "                `&lt;div&gt;\n",
       "                     덕성여자대학교\n",
       "                 &lt;/div&gt;`,\n",
       "                {&quot;sticky&quot;: true}\n",
       "            );\n",
       "        \n",
       "    \n",
       "            var marker_0e1ac7582c72b68c4a36a7a2f92e3d34 = L.marker(\n",
       "                [37.5574771, 127.0020518],\n",
       "                {}\n",
       "            ).addTo(map_ec5d897d4d7cbf9a0b4be464e0c66a2b);\n",
       "        \n",
       "    \n",
       "            marker_0e1ac7582c72b68c4a36a7a2f92e3d34.bindTooltip(\n",
       "                `&lt;div&gt;\n",
       "                     동국대학교\n",
       "                 &lt;/div&gt;`,\n",
       "                {&quot;sticky&quot;: true}\n",
       "            );\n",
       "        \n",
       "    \n",
       "            var marker_428af92cbcb0d83f52a84c522bd861d5 = L.marker(\n",
       "                [37.6063202, 127.041808],\n",
       "                {}\n",
       "            ).addTo(map_ec5d897d4d7cbf9a0b4be464e0c66a2b);\n",
       "        \n",
       "    \n",
       "            marker_428af92cbcb0d83f52a84c522bd861d5.bindTooltip(\n",
       "                `&lt;div&gt;\n",
       "                     동덕여자대학교\n",
       "                 &lt;/div&gt;`,\n",
       "                {&quot;sticky&quot;: true}\n",
       "            );\n",
       "        \n",
       "    \n",
       "            var marker_e5c074670eba00c6414b93755919d743 = L.marker(\n",
       "                [37.5802046, 126.9234451],\n",
       "                {}\n",
       "            ).addTo(map_ec5d897d4d7cbf9a0b4be464e0c66a2b);\n",
       "        \n",
       "    \n",
       "            marker_e5c074670eba00c6414b93755919d743.bindTooltip(\n",
       "                `&lt;div&gt;\n",
       "                     명지대학교 서울캠퍼스 \n",
       "                 &lt;/div&gt;`,\n",
       "                {&quot;sticky&quot;: true}\n",
       "            );\n",
       "        \n",
       "    \n",
       "            var marker_7de6af7bbe9bebb2dd38f2ba10cbd03f = L.marker(\n",
       "                [37.6429515, 127.1054757],\n",
       "                {}\n",
       "            ).addTo(map_ec5d897d4d7cbf9a0b4be464e0c66a2b);\n",
       "        \n",
       "    \n",
       "            marker_7de6af7bbe9bebb2dd38f2ba10cbd03f.bindTooltip(\n",
       "                `&lt;div&gt;\n",
       "                     삼육대학교\n",
       "                 &lt;/div&gt;`,\n",
       "                {&quot;sticky&quot;: true}\n",
       "            );\n",
       "        \n",
       "    \n",
       "            var marker_0219d4f67edd3a29189008d6e3b81530 = L.marker(\n",
       "                [37.602638, 126.955252],\n",
       "                {}\n",
       "            ).addTo(map_ec5d897d4d7cbf9a0b4be464e0c66a2b);\n",
       "        \n",
       "    \n",
       "            marker_0219d4f67edd3a29189008d6e3b81530.bindTooltip(\n",
       "                `&lt;div&gt;\n",
       "                     상명대학교 서울캠퍼스 \n",
       "                 &lt;/div&gt;`,\n",
       "                {&quot;sticky&quot;: true}\n",
       "            );\n",
       "        \n",
       "    \n",
       "            var marker_6e77cefc3c530daad0931c02f1586101 = L.marker(\n",
       "                [37.5509442, 126.9410023],\n",
       "                {}\n",
       "            ).addTo(map_ec5d897d4d7cbf9a0b4be464e0c66a2b);\n",
       "        \n",
       "    \n",
       "            marker_6e77cefc3c530daad0931c02f1586101.bindTooltip(\n",
       "                `&lt;div&gt;\n",
       "                     서강대학교\n",
       "                 &lt;/div&gt;`,\n",
       "                {&quot;sticky&quot;: true}\n",
       "            );\n",
       "        \n",
       "    \n",
       "            var marker_a64cd97ada209d03371bbb61af24b839 = L.marker(\n",
       "                [37.615095, 127.0131113],\n",
       "                {}\n",
       "            ).addTo(map_ec5d897d4d7cbf9a0b4be464e0c66a2b);\n",
       "        \n",
       "    \n",
       "            marker_a64cd97ada209d03371bbb61af24b839.bindTooltip(\n",
       "                `&lt;div&gt;\n",
       "                     서경대학교\n",
       "                 &lt;/div&gt;`,\n",
       "                {&quot;sticky&quot;: true}\n",
       "            );\n",
       "        \n",
       "    \n",
       "            var marker_ebd91932defcfbb48c14cc8ca7a410c8 = L.marker(\n",
       "                [37.6316684, 127.0774813],\n",
       "                {}\n",
       "            ).addTo(map_ec5d897d4d7cbf9a0b4be464e0c66a2b);\n",
       "        \n",
       "    \n",
       "            marker_ebd91932defcfbb48c14cc8ca7a410c8.bindTooltip(\n",
       "                `&lt;div&gt;\n",
       "                     서울과학기술대학교\n",
       "                 &lt;/div&gt;`,\n",
       "                {&quot;sticky&quot;: true}\n",
       "            );\n",
       "        \n",
       "    \n",
       "            var marker_9f8354926b40709676e8f7be02a32ce4 = L.marker(\n",
       "                [37.4899615, 127.0164124],\n",
       "                {}\n",
       "            ).addTo(map_ec5d897d4d7cbf9a0b4be464e0c66a2b);\n",
       "        \n",
       "    \n",
       "            marker_9f8354926b40709676e8f7be02a32ce4.bindTooltip(\n",
       "                `&lt;div&gt;\n",
       "                     서울교육대학교\n",
       "                 &lt;/div&gt;`,\n",
       "                {&quot;sticky&quot;: true}\n",
       "            );\n",
       "        \n",
       "    \n",
       "            var marker_bea714b439b506ace5d4652cef0666cb = L.marker(\n",
       "                [37.6009228, 126.9123818],\n",
       "                {}\n",
       "            ).addTo(map_ec5d897d4d7cbf9a0b4be464e0c66a2b);\n",
       "        \n",
       "    \n",
       "            marker_bea714b439b506ace5d4652cef0666cb.bindTooltip(\n",
       "                `&lt;div&gt;\n",
       "                     서울기독대학교\n",
       "                 &lt;/div&gt;`,\n",
       "                {&quot;sticky&quot;: true}\n",
       "            );\n",
       "        \n",
       "    \n",
       "            var marker_cd2cecf0ac835544dd05fd1bfd76cd46 = L.marker(\n",
       "                [37.459882, 126.9519053],\n",
       "                {}\n",
       "            ).addTo(map_ec5d897d4d7cbf9a0b4be464e0c66a2b);\n",
       "        \n",
       "    \n",
       "            marker_cd2cecf0ac835544dd05fd1bfd76cd46.bindTooltip(\n",
       "                `&lt;div&gt;\n",
       "                     서울대학교\n",
       "                 &lt;/div&gt;`,\n",
       "                {&quot;sticky&quot;: true}\n",
       "            );\n",
       "        \n",
       "    \n",
       "            var marker_d0d7b47fe22317a46fd7cb2f08baa338 = L.marker(\n",
       "                [37.5838657, 127.0587771],\n",
       "                {}\n",
       "            ).addTo(map_ec5d897d4d7cbf9a0b4be464e0c66a2b);\n",
       "        \n",
       "    \n",
       "            marker_d0d7b47fe22317a46fd7cb2f08baa338.bindTooltip(\n",
       "                `&lt;div&gt;\n",
       "                     서울시립대학교\n",
       "                 &lt;/div&gt;`,\n",
       "                {&quot;sticky&quot;: true}\n",
       "            );\n",
       "        \n",
       "    \n",
       "            var marker_88175503d1b6a874c4c65ceae0649324 = L.marker(\n",
       "                [37.6281126, 127.0904568],\n",
       "                {}\n",
       "            ).addTo(map_ec5d897d4d7cbf9a0b4be464e0c66a2b);\n",
       "        \n",
       "    \n",
       "            marker_88175503d1b6a874c4c65ceae0649324.bindTooltip(\n",
       "                `&lt;div&gt;\n",
       "                     서울여자대학교\n",
       "                 &lt;/div&gt;`,\n",
       "                {&quot;sticky&quot;: true}\n",
       "            );\n",
       "        \n",
       "    \n",
       "            var marker_1c3ea325a60d2dd844074cbbe00dd15a = L.marker(\n",
       "                [37.4965411, 126.8512616],\n",
       "                {}\n",
       "            ).addTo(map_ec5d897d4d7cbf9a0b4be464e0c66a2b);\n",
       "        \n",
       "    \n",
       "            marker_1c3ea325a60d2dd844074cbbe00dd15a.bindTooltip(\n",
       "                `&lt;div&gt;\n",
       "                     서울한영대학교\n",
       "                 &lt;/div&gt;`,\n",
       "                {&quot;sticky&quot;: true}\n",
       "            );\n",
       "        \n",
       "    \n",
       "            var marker_f4850d3277860954f8e1a036c87ea31d = L.marker(\n",
       "                [37.4872325, 126.8253202],\n",
       "                {}\n",
       "            ).addTo(map_ec5d897d4d7cbf9a0b4be464e0c66a2b);\n",
       "        \n",
       "    \n",
       "            marker_f4850d3277860954f8e1a036c87ea31d.bindTooltip(\n",
       "                `&lt;div&gt;\n",
       "                     성공회대학교\n",
       "                 &lt;/div&gt;`,\n",
       "                {&quot;sticky&quot;: true}\n",
       "            );\n",
       "        \n",
       "    \n",
       "            var marker_da034befe8b350258fd65eccd5157737 = L.marker(\n",
       "                [37.588227, 126.993606],\n",
       "                {}\n",
       "            ).addTo(map_ec5d897d4d7cbf9a0b4be464e0c66a2b);\n",
       "        \n",
       "    \n",
       "            marker_da034befe8b350258fd65eccd5157737.bindTooltip(\n",
       "                `&lt;div&gt;\n",
       "                     성균관대학교 서울캠퍼스  \n",
       "                 &lt;/div&gt;`,\n",
       "                {&quot;sticky&quot;: true}\n",
       "            );\n",
       "        \n",
       "    \n",
       "            var marker_32f53149cc86d51a3517824a64993e23 = L.marker(\n",
       "                [37.5913103, 127.0221312],\n",
       "                {}\n",
       "            ).addTo(map_ec5d897d4d7cbf9a0b4be464e0c66a2b);\n",
       "        \n",
       "    \n",
       "            marker_32f53149cc86d51a3517824a64993e23.bindTooltip(\n",
       "                `&lt;div&gt;\n",
       "                     성신여자대학교\n",
       "                 &lt;/div&gt;`,\n",
       "                {&quot;sticky&quot;: true}\n",
       "            );\n",
       "        \n",
       "    \n",
       "            var marker_09b53f9808637026d0cfd4d6eda7336d = L.marker(\n",
       "                [37.5502596, 127.073139],\n",
       "                {}\n",
       "            ).addTo(map_ec5d897d4d7cbf9a0b4be464e0c66a2b);\n",
       "        \n",
       "    \n",
       "            marker_09b53f9808637026d0cfd4d6eda7336d.bindTooltip(\n",
       "                `&lt;div&gt;\n",
       "                     세종대학교\n",
       "                 &lt;/div&gt;`,\n",
       "                {&quot;sticky&quot;: true}\n",
       "            );\n",
       "        \n",
       "    \n",
       "            var marker_87eeea2ba0c2bd446640e76cd2d6f570 = L.marker(\n",
       "                [37.5463644, 126.9648311],\n",
       "                {}\n",
       "            ).addTo(map_ec5d897d4d7cbf9a0b4be464e0c66a2b);\n",
       "        \n",
       "    \n",
       "            marker_87eeea2ba0c2bd446640e76cd2d6f570.bindTooltip(\n",
       "                `&lt;div&gt;\n",
       "                     숙명여자대학교\n",
       "                 &lt;/div&gt;`,\n",
       "                {&quot;sticky&quot;: true}\n",
       "            );\n",
       "        \n",
       "    \n",
       "            var marker_d093b904b5a50f27db03749a3fa923ef = L.marker(\n",
       "                [37.4963111, 126.9574596],\n",
       "                {}\n",
       "            ).addTo(map_ec5d897d4d7cbf9a0b4be464e0c66a2b);\n",
       "        \n",
       "    \n",
       "            marker_d093b904b5a50f27db03749a3fa923ef.bindTooltip(\n",
       "                `&lt;div&gt;\n",
       "                     숭실대학교\n",
       "                 &lt;/div&gt;`,\n",
       "                {&quot;sticky&quot;: true}\n",
       "            );\n",
       "        \n",
       "    \n",
       "            var marker_c2d8448a0711c29790963146cfca2eac = L.marker(\n",
       "                [37.565784, 126.938572],\n",
       "                {}\n",
       "            ).addTo(map_ec5d897d4d7cbf9a0b4be464e0c66a2b);\n",
       "        \n",
       "    \n",
       "            marker_c2d8448a0711c29790963146cfca2eac.bindTooltip(\n",
       "                `&lt;div&gt;\n",
       "                     연세대학교\n",
       "                 &lt;/div&gt;`,\n",
       "                {&quot;sticky&quot;: true}\n",
       "            );\n",
       "        \n",
       "    \n",
       "            var marker_3ec1cdf690bbeb7bbf4c1ca6c0f7c8f9 = L.marker(\n",
       "                [37.6238188, 127.0988783],\n",
       "                {}\n",
       "            ).addTo(map_ec5d897d4d7cbf9a0b4be464e0c66a2b);\n",
       "        \n",
       "    \n",
       "            marker_3ec1cdf690bbeb7bbf4c1ca6c0f7c8f9.bindTooltip(\n",
       "                `&lt;div&gt;\n",
       "                     육군사관학교\n",
       "                 &lt;/div&gt;`,\n",
       "                {&quot;sticky&quot;: true}\n",
       "            );\n",
       "        \n",
       "    \n",
       "            var marker_2b7af2620dac460729bd6d2b4dcd7827 = L.marker(\n",
       "                [37.5643079, 126.9501786],\n",
       "                {}\n",
       "            ).addTo(map_ec5d897d4d7cbf9a0b4be464e0c66a2b);\n",
       "        \n",
       "    \n",
       "            marker_2b7af2620dac460729bd6d2b4dcd7827.bindTooltip(\n",
       "                `&lt;div&gt;\n",
       "                     이화여자대학교\n",
       "                 &lt;/div&gt;`,\n",
       "                {&quot;sticky&quot;: true}\n",
       "            );\n",
       "        \n",
       "    \n",
       "            var marker_b3ec69cf931d63ee737f236bfa932bdf = L.marker(\n",
       "                [37.5505112, 127.1034577],\n",
       "                {}\n",
       "            ).addTo(map_ec5d897d4d7cbf9a0b4be464e0c66a2b);\n",
       "        \n",
       "    \n",
       "            marker_b3ec69cf931d63ee737f236bfa932bdf.bindTooltip(\n",
       "                `&lt;div&gt;\n",
       "                     장로회신학대학교\n",
       "                 &lt;/div&gt;`,\n",
       "                {&quot;sticky&quot;: true}\n",
       "            );\n",
       "        \n",
       "    \n",
       "            var marker_ffacd1e5c625f5871567695370eafb24 = L.marker(\n",
       "                [37.5050881, 126.9571012],\n",
       "                {}\n",
       "            ).addTo(map_ec5d897d4d7cbf9a0b4be464e0c66a2b);\n",
       "        \n",
       "    \n",
       "            marker_ffacd1e5c625f5871567695370eafb24.bindTooltip(\n",
       "                `&lt;div&gt;\n",
       "                     중앙대학교 서울캠퍼스 \n",
       "                 &lt;/div&gt;`,\n",
       "                {&quot;sticky&quot;: true}\n",
       "            );\n",
       "        \n",
       "    \n",
       "            var marker_075de6ee3c4525a8b325c9722d44a4c0 = L.marker(\n",
       "                [37.4886232, 126.9668169],\n",
       "                {}\n",
       "            ).addTo(map_ec5d897d4d7cbf9a0b4be464e0c66a2b);\n",
       "        \n",
       "    \n",
       "            marker_075de6ee3c4525a8b325c9722d44a4c0.bindTooltip(\n",
       "                `&lt;div&gt;\n",
       "                     총신대학교\n",
       "                 &lt;/div&gt;`,\n",
       "                {&quot;sticky&quot;: true}\n",
       "            );\n",
       "        \n",
       "    \n",
       "            var marker_4c91289b2272aa7ddb97436da0970be0 = L.marker(\n",
       "                [37.5624515, 126.9534165],\n",
       "                {}\n",
       "            ).addTo(map_ec5d897d4d7cbf9a0b4be464e0c66a2b);\n",
       "        \n",
       "    \n",
       "            marker_4c91289b2272aa7ddb97436da0970be0.bindTooltip(\n",
       "                `&lt;div&gt;\n",
       "                     추계예술대학교\n",
       "                 &lt;/div&gt;`,\n",
       "                {&quot;sticky&quot;: true}\n",
       "            );\n",
       "        \n",
       "    \n",
       "            var marker_d5e06ce7c00d1b46e90d6bc6d74986b6 = L.marker(\n",
       "                [37.5786127, 127.0032905],\n",
       "                {}\n",
       "            ).addTo(map_ec5d897d4d7cbf9a0b4be464e0c66a2b);\n",
       "        \n",
       "    \n",
       "            marker_d5e06ce7c00d1b46e90d6bc6d74986b6.bindTooltip(\n",
       "                `&lt;div&gt;\n",
       "                     한국방송통신대학교\n",
       "                 &lt;/div&gt;`,\n",
       "                {&quot;sticky&quot;: true}\n",
       "            );\n",
       "        \n",
       "    \n",
       "            var marker_ffea0cfc1d33ee30a8df6eb12af24823 = L.marker(\n",
       "                [37.6487485, 127.0643199],\n",
       "                {}\n",
       "            ).addTo(map_ec5d897d4d7cbf9a0b4be464e0c66a2b);\n",
       "        \n",
       "    \n",
       "            marker_ffea0cfc1d33ee30a8df6eb12af24823.bindTooltip(\n",
       "                `&lt;div&gt;\n",
       "                     한국성서대학교\n",
       "                 &lt;/div&gt;`,\n",
       "                {&quot;sticky&quot;: true}\n",
       "            );\n",
       "        \n",
       "    \n",
       "            var marker_a18f7c4cc687ca38a43becabc4728120 = L.marker(\n",
       "                [37.6049973, 127.0567397],\n",
       "                {}\n",
       "            ).addTo(map_ec5d897d4d7cbf9a0b4be464e0c66a2b);\n",
       "        \n",
       "    \n",
       "            marker_a18f7c4cc687ca38a43becabc4728120.bindTooltip(\n",
       "                `&lt;div&gt;\n",
       "                     한국예술종합학교\n",
       "                 &lt;/div&gt;`,\n",
       "                {&quot;sticky&quot;: true}\n",
       "            );\n",
       "        \n",
       "    \n",
       "            var marker_c79e1113a83a43fdc056fcaa18ecb850 = L.marker(\n",
       "                [37.597319, 127.057843],\n",
       "                {}\n",
       "            ).addTo(map_ec5d897d4d7cbf9a0b4be464e0c66a2b);\n",
       "        \n",
       "    \n",
       "            marker_c79e1113a83a43fdc056fcaa18ecb850.bindTooltip(\n",
       "                `&lt;div&gt;\n",
       "                     한국외국어대학교\n",
       "                 &lt;/div&gt;`,\n",
       "                {&quot;sticky&quot;: true}\n",
       "            );\n",
       "        \n",
       "    \n",
       "            var marker_7c78ef75854640e8205c253f3521f86c = L.marker(\n",
       "                [37.5196266, 127.1309837],\n",
       "                {}\n",
       "            ).addTo(map_ec5d897d4d7cbf9a0b4be464e0c66a2b);\n",
       "        \n",
       "    \n",
       "            marker_7c78ef75854640e8205c253f3521f86c.bindTooltip(\n",
       "                `&lt;div&gt;\n",
       "                     한국체육대학교\n",
       "                 &lt;/div&gt;`,\n",
       "                {&quot;sticky&quot;: true}\n",
       "            );\n",
       "        \n",
       "    \n",
       "            var marker_e8fc27fbb8e616e7f4665fdf20313c9a = L.marker(\n",
       "                [37.5817849, 127.010369],\n",
       "                {}\n",
       "            ).addTo(map_ec5d897d4d7cbf9a0b4be464e0c66a2b);\n",
       "        \n",
       "    \n",
       "            marker_e8fc27fbb8e616e7f4665fdf20313c9a.bindTooltip(\n",
       "                `&lt;div&gt;\n",
       "                     한성대학교\n",
       "                 &lt;/div&gt;`,\n",
       "                {&quot;sticky&quot;: true}\n",
       "            );\n",
       "        \n",
       "    \n",
       "            var marker_aa30dbe4998094df8bfbde8e966fd1a8 = L.marker(\n",
       "                [37.5572321, 127.0453219],\n",
       "                {}\n",
       "            ).addTo(map_ec5d897d4d7cbf9a0b4be464e0c66a2b);\n",
       "        \n",
       "    \n",
       "            marker_aa30dbe4998094df8bfbde8e966fd1a8.bindTooltip(\n",
       "                `&lt;div&gt;\n",
       "                     한양대학교\n",
       "                 &lt;/div&gt;`,\n",
       "                {&quot;sticky&quot;: true}\n",
       "            );\n",
       "        \n",
       "    \n",
       "            var marker_c9f545b5cd54c823cc23424eb5bed761 = L.marker(\n",
       "                [37.5514642, 126.9250106],\n",
       "                {}\n",
       "            ).addTo(map_ec5d897d4d7cbf9a0b4be464e0c66a2b);\n",
       "        \n",
       "    \n",
       "            marker_c9f545b5cd54c823cc23424eb5bed761.bindTooltip(\n",
       "                `&lt;div&gt;\n",
       "                     홍익대학교\n",
       "                 &lt;/div&gt;`,\n",
       "                {&quot;sticky&quot;: true}\n",
       "            );\n",
       "        \n",
       "&lt;/script&gt;\" style=\"position:absolute;width:100%;height:100%;left:0;top:0;border:none !important;\" allowfullscreen webkitallowfullscreen mozallowfullscreen></iframe></div></div>"
      ],
      "text/plain": [
       "<folium.folium.Map at 0x289870ab8b0>"
      ]
     },
     "execution_count": 66,
     "metadata": {},
     "output_type": "execute_result"
    }
   ],
   "source": [
    "df = pd.read_excel(\"서울지역대학교위치.xlsx\")\n",
    "\n",
    "seoul_map = folium.Map(location = [37.55, 126.98], zoom_start = 12)\n",
    "\n",
    "for name, lat, long in zip(df.대학교, df.위도, df.경도):\n",
    "    folium.Marker([lat, long], tooltip = name).add_to(seoul_map)\n",
    "    \n",
    "seoul_map"
   ]
  },
  {
   "cell_type": "markdown",
   "id": "8ef14cd6-2040-4808-963c-23ac606f402e",
   "metadata": {},
   "source": [
    "### 12. 외장함수 (라이브러리)"
   ]
  },
  {
   "cell_type": "markdown",
   "id": "b56f38c0-230f-415c-8d1a-b29652c13654",
   "metadata": {},
   "source": [
    "#### sys"
   ]
  },
  {
   "cell_type": "code",
   "execution_count": 67,
   "id": "532400df-36ac-4426-be9d-6c59534c1b5e",
   "metadata": {},
   "outputs": [],
   "source": [
    "import sys"
   ]
  },
  {
   "cell_type": "code",
   "execution_count": 68,
   "id": "78307afc-db4f-4f32-8bd6-32e930a2eea0",
   "metadata": {},
   "outputs": [
    {
     "data": {
      "text/plain": [
       "['C:\\\\Users\\\\admin',\n",
       " 'C:\\\\Users\\\\admin\\\\AppData\\\\Local\\\\Programs\\\\Python\\\\Python310\\\\python310.zip',\n",
       " 'C:\\\\Users\\\\admin\\\\AppData\\\\Local\\\\Programs\\\\Python\\\\Python310\\\\DLLs',\n",
       " 'C:\\\\Users\\\\admin\\\\AppData\\\\Local\\\\Programs\\\\Python\\\\Python310\\\\lib',\n",
       " 'C:\\\\Users\\\\admin\\\\AppData\\\\Local\\\\Programs\\\\Python\\\\Python310',\n",
       " '',\n",
       " 'C:\\\\Users\\\\admin\\\\AppData\\\\Local\\\\Programs\\\\Python\\\\Python310\\\\lib\\\\site-packages',\n",
       " 'C:\\\\Users\\\\admin\\\\AppData\\\\Local\\\\Programs\\\\Python\\\\Python310\\\\lib\\\\site-packages\\\\win32',\n",
       " 'C:\\\\Users\\\\admin\\\\AppData\\\\Local\\\\Programs\\\\Python\\\\Python310\\\\lib\\\\site-packages\\\\win32\\\\lib',\n",
       " 'C:\\\\Users\\\\admin\\\\AppData\\\\Local\\\\Programs\\\\Python\\\\Python310\\\\lib\\\\site-packages\\\\Pythonwin']"
      ]
     },
     "execution_count": 68,
     "metadata": {},
     "output_type": "execute_result"
    }
   ],
   "source": [
    "sys.path"
   ]
  },
  {
   "cell_type": "code",
   "execution_count": null,
   "id": "61a38b2b-68bd-411c-84ba-e2eb2e807a5b",
   "metadata": {},
   "outputs": [],
   "source": [
    "sys.path.append()"
   ]
  },
  {
   "cell_type": "code",
   "execution_count": null,
   "id": "7d8052a7-2589-4bca-bc18-b6e6b848619c",
   "metadata": {},
   "outputs": [],
   "source": [
    "sys.argv"
   ]
  },
  {
   "cell_type": "markdown",
   "id": "b6feb234-b396-421b-ba21-c2a97d942690",
   "metadata": {},
   "source": [
    "#### os"
   ]
  },
  {
   "cell_type": "code",
   "execution_count": 70,
   "id": "afcc5d4c-c32c-4be4-806c-679fc20d51ff",
   "metadata": {
    "collapsed": true,
    "jupyter": {
     "outputs_hidden": true
    },
    "tags": []
   },
   "outputs": [
    {
     "data": {
      "text/plain": [
       "environ{'ALLUSERSPROFILE': 'C:\\\\ProgramData',\n",
       "        'APPDATA': 'C:\\\\Users\\\\admin\\\\AppData\\\\Roaming',\n",
       "        'COMMONPROGRAMFILES': 'C:\\\\Program Files\\\\Common Files',\n",
       "        'COMMONPROGRAMFILES(X86)': 'C:\\\\Program Files (x86)\\\\Common Files',\n",
       "        'COMMONPROGRAMW6432': 'C:\\\\Program Files\\\\Common Files',\n",
       "        'COMPUTERNAME': 'DESKTOP-LLJCSP3',\n",
       "        'COMSPEC': 'C:\\\\WINDOWS\\\\system32\\\\cmd.exe',\n",
       "        'DRIVERDATA': 'C:\\\\Windows\\\\System32\\\\Drivers\\\\DriverData',\n",
       "        'FPS_BROWSER_APP_PROFILE_STRING': 'Internet Explorer',\n",
       "        'FPS_BROWSER_USER_PROFILE_STRING': 'Default',\n",
       "        'HOMEDRIVE': 'C:',\n",
       "        'HOMEPATH': '\\\\Users\\\\admin',\n",
       "        'JAVA_HOME': 'C:\\\\Program Files\\\\Amazon Corretto\\\\jdk11.0.16_9',\n",
       "        'LOCALAPPDATA': 'C:\\\\Users\\\\admin\\\\AppData\\\\Local',\n",
       "        'LOGONSERVER': '\\\\\\\\DESKTOP-LLJCSP3',\n",
       "        'NUMBER_OF_PROCESSORS': '4',\n",
       "        'ONEDRIVE': 'C:\\\\Users\\\\admin\\\\OneDrive',\n",
       "        'OS': 'Windows_NT',\n",
       "        'PATH': 'C:\\\\Program Files\\\\Amazon Corretto\\\\jdk11.0.16_9\\\\bin;C:\\\\WINDOWS\\\\system32;C:\\\\WINDOWS;C:\\\\WINDOWS\\\\System32\\\\Wbem;C:\\\\WINDOWS\\\\System32\\\\WindowsPowerShell\\\\v1.0\\\\;C:\\\\WINDOWS\\\\System32\\\\OpenSSH\\\\;C:\\\\Users\\\\admin\\\\AppData\\\\Local\\\\Programs\\\\Python\\\\Python310\\\\Scripts\\\\;C:\\\\Users\\\\admin\\\\AppData\\\\Local\\\\Programs\\\\Python\\\\Python310\\\\;C:\\\\Users\\\\admin\\\\AppData\\\\Local\\\\Microsoft\\\\WindowsApps;',\n",
       "        'PATHEXT': '.COM;.EXE;.BAT;.CMD;.VBS;.VBE;.JS;.JSE;.WSF;.WSH;.MSC',\n",
       "        'PROCESSOR_ARCHITECTURE': 'AMD64',\n",
       "        'PROCESSOR_IDENTIFIER': 'Intel64 Family 6 Model 94 Stepping 3, GenuineIntel',\n",
       "        'PROCESSOR_LEVEL': '6',\n",
       "        'PROCESSOR_REVISION': '5e03',\n",
       "        'PROGRAMDATA': 'C:\\\\ProgramData',\n",
       "        'PROGRAMFILES': 'C:\\\\Program Files',\n",
       "        'PROGRAMFILES(X86)': 'C:\\\\Program Files (x86)',\n",
       "        'PROGRAMW6432': 'C:\\\\Program Files',\n",
       "        'PROMPT': '$P$G',\n",
       "        'PSMODULEPATH': 'C:\\\\Program Files\\\\WindowsPowerShell\\\\Modules;C:\\\\WINDOWS\\\\system32\\\\WindowsPowerShell\\\\v1.0\\\\Modules',\n",
       "        'PUBLIC': 'C:\\\\Users\\\\Public',\n",
       "        'SESSIONNAME': 'Console',\n",
       "        'SYSTEMDRIVE': 'C:',\n",
       "        'SYSTEMROOT': 'C:\\\\WINDOWS',\n",
       "        'TEMP': 'C:\\\\Users\\\\admin\\\\AppData\\\\Local\\\\Temp',\n",
       "        'TMP': 'C:\\\\Users\\\\admin\\\\AppData\\\\Local\\\\Temp',\n",
       "        'USERDOMAIN': 'DESKTOP-LLJCSP3',\n",
       "        'USERDOMAIN_ROAMINGPROFILE': 'DESKTOP-LLJCSP3',\n",
       "        'USERNAME': 'admin',\n",
       "        'USERPROFILE': 'C:\\\\Users\\\\admin',\n",
       "        'WINDIR': 'C:\\\\WINDOWS',\n",
       "        'JPY_INTERRUPT_EVENT': '3212',\n",
       "        'IPY_INTERRUPT_EVENT': '3212',\n",
       "        'JPY_PARENT_PID': '692',\n",
       "        'TERM': 'xterm-color',\n",
       "        'CLICOLOR': '1',\n",
       "        'PAGER': 'cat',\n",
       "        'GIT_PAGER': 'cat',\n",
       "        'MPLBACKEND': 'module://matplotlib_inline.backend_inline'}"
      ]
     },
     "execution_count": 70,
     "metadata": {},
     "output_type": "execute_result"
    }
   ],
   "source": [
    "#내 시스템의 환경 변수 값을 알고 싶을 때\n",
    "os.environ"
   ]
  },
  {
   "cell_type": "code",
   "execution_count": 71,
   "id": "671d27c7-318f-467b-8439-350c2025cf4c",
   "metadata": {},
   "outputs": [
    {
     "data": {
      "text/plain": [
       "'C:\\\\Users\\\\admin'"
      ]
     },
     "execution_count": 71,
     "metadata": {},
     "output_type": "execute_result"
    }
   ],
   "source": [
    "os.getcwd()"
   ]
  },
  {
   "cell_type": "code",
   "execution_count": 72,
   "id": "3e072ca3-bedc-433d-8c57-b9871057a9e3",
   "metadata": {},
   "outputs": [],
   "source": [
    "os.chdir(\"C:/Users/admin/\")"
   ]
  },
  {
   "cell_type": "code",
   "execution_count": 74,
   "id": "5cbf257a-a951-4e2b-a36e-2f202c8271a8",
   "metadata": {
    "collapsed": true,
    "jupyter": {
     "outputs_hidden": true
    },
    "tags": []
   },
   "outputs": [
    {
     "name": "stdout",
     "output_type": "stream",
     "text": [
      " C 드라이브의 볼륨에는 이름이 없습니다.\n",
      " 볼륨 일련 번호: 8829-1238\n",
      "\n",
      " C:\\Users\\admin 디렉터리\n",
      "\n",
      "2022-09-13  오전 11:36    <DIR>          .\n",
      "2022-09-13  오전 11:36    <DIR>          ..\n",
      "2022-09-01  오전 11:25    <DIR>          .idlerc\n",
      "2022-09-13  오전 08:55    <DIR>          .ipynb_checkpoints\n",
      "2022-09-01  오전 11:20    <DIR>          .ipython\n",
      "2022-09-01  오후 02:57    <DIR>          .jupyter\n",
      "2022-09-01  오후 12:39    <DIR>          .matplotlib\n",
      "2022-09-01  오후 04:58           142,856 0901.ipynb\n",
      "2022-09-01  오후 05:50           161,253 0901_연습.ipynb\n",
      "2022-09-02  오후 05:52             3,555 0902 연습문제.ipynb\n",
      "2022-09-02  오후 05:32           112,227 0902.ipynb\n",
      "2022-09-05  오후 02:01            15,704 0905.ipynb\n",
      "2022-09-05  오후 05:32            33,116 0905_1.ipynb\n",
      "2022-09-05  오후 05:51             3,384 0905_연습.ipynb\n",
      "2022-09-07  오후 04:26            42,877 0907.ipynb\n",
      "2022-09-07  오전 09:48             5,843 0907_복습.ipynb\n",
      "2022-09-07  오후 05:14            22,916 0907_연습.ipynb\n",
      "2022-09-08  오후 04:31            46,833 0908.ipynb\n",
      "2022-09-13  오전 11:36           118,104 0913.ipynb\n",
      "2022-08-10  오후 04:09    <DIR>          3D Objects\n",
      "2022-09-08  오후 02:14    <DIR>          abc\n",
      "2022-08-10  오후 04:09    <DIR>          Contacts\n",
      "2022-08-24  오전 10:15    <DIR>          Desktop\n",
      "2022-08-24  오전 10:15    <DIR>          Documents\n",
      "2022-09-05  오후 12:41    <DIR>          Downloads\n",
      "2022-08-10  오후 04:09    <DIR>          Favorites\n",
      "2022-09-08  오전 09:47               218 gugu.txt\n",
      "2022-08-10  오후 04:09    <DIR>          Links\n",
      "2022-09-08  오후 01:57                96 mod11.py\n",
      "2022-09-08  오전 11:48               112 mod12.py\n",
      "2022-08-10  오후 04:09    <DIR>          Music\n",
      "2022-09-08  오전 09:34                60 new.txt\n",
      "2022-08-23  오전 09:07    <DIR>          OneDrive\n",
      "2022-09-07  오후 12:56                31 people.txt\n",
      "2022-08-25  오전 10:05    <DIR>          Pictures\n",
      "2022-08-10  오후 04:09    <DIR>          Saved Games\n",
      "2022-08-10  오후 04:11    <DIR>          Searches\n",
      "2022-09-07  오후 05:41                64 test.py\n",
      "2022-09-07  오후 12:44               201 test.txt\n",
      "2022-08-25  오전 08:55    <DIR>          Videos\n",
      "2022-09-08  오후 05:28    <DIR>          __pycache__\n",
      "2022-09-13  오전 10:51            10,942 서울지역대학교위치.xlsx\n",
      "              20개 파일             720,392 바이트\n",
      "              22개 디렉터리  959,945,478,144 바이트 남음\n"
     ]
    }
   ],
   "source": [
    "!dir"
   ]
  },
  {
   "cell_type": "markdown",
   "id": "a3757560-d8a8-41f7-bf42-4b2aff97a791",
   "metadata": {},
   "source": [
    "#### pickle"
   ]
  },
  {
   "cell_type": "code",
   "execution_count": 77,
   "id": "0011cad5-c017-4902-98a9-4e8196c3ba5c",
   "metadata": {},
   "outputs": [],
   "source": [
    "df.to_csv(\"aaa.csv\")   #csv로 변환하여 저장한다"
   ]
  },
  {
   "cell_type": "code",
   "execution_count": 78,
   "id": "7ae6afd4-e752-4b11-9f28-9a32ec5e1116",
   "metadata": {},
   "outputs": [],
   "source": [
    "df.to_excel(\"bbb.xlsx\")   ##excel로 변환하여 저장한다"
   ]
  },
  {
   "cell_type": "code",
   "execution_count": 80,
   "id": "52a0b4e3-313d-4056-bf5c-a34184f41167",
   "metadata": {},
   "outputs": [],
   "source": [
    "import pickle"
   ]
  },
  {
   "cell_type": "code",
   "execution_count": 82,
   "id": "e2019c1f-95d3-46a9-a563-36e8111c9b84",
   "metadata": {},
   "outputs": [],
   "source": [
    "with open(\"test.piclke\", \"wb\") as f:\n",
    "    pickle.dump(df, f)"
   ]
  },
  {
   "cell_type": "code",
   "execution_count": 84,
   "id": "cbb6fc66-527e-4491-912c-e4aaf237aed4",
   "metadata": {
    "collapsed": true,
    "jupyter": {
     "outputs_hidden": true
    },
    "tags": []
   },
   "outputs": [
    {
     "name": "stdout",
     "output_type": "stream",
     "text": [
      "               대학교         위도          경도\n",
      "0     KAIST 서울캠퍼스   37.592573  127.046737\n",
      "1            KC대학교  37.548345  126.854797\n",
      "2     가톨릭대학교(성신교정)  37.585922  127.004328\n",
      "3     가톨릭대학교(성의교정)  37.499623  127.006065\n",
      "4         감리교신학대학교  37.567645  126.961610\n",
      "5            건국대학교  37.540762  127.079343\n",
      "6     경기대학교 서울캠퍼스   37.300485  127.035833\n",
      "7     경희대학교 서울캠퍼스   37.596195  127.052544\n",
      "8            고려대학교  37.590192  127.033184\n",
      "9            광운대학교  37.619496  127.059696\n",
      "10           국민대학교  37.609641  126.997697\n",
      "11         덕성여자대학교  37.651199  127.016160\n",
      "12           동국대학교  37.557477  127.002052\n",
      "13         동덕여자대학교  37.606320  127.041808\n",
      "14    명지대학교 서울캠퍼스   37.580205  126.923445\n",
      "15           삼육대학교  37.642952  127.105476\n",
      "16    상명대학교 서울캠퍼스   37.602638  126.955252\n",
      "17           서강대학교  37.550944  126.941002\n",
      "18           서경대학교  37.615095  127.013111\n",
      "19       서울과학기술대학교  37.631668  127.077481\n",
      "20         서울교육대학교  37.489961  127.016412\n",
      "21         서울기독대학교  37.600923  126.912382\n",
      "22           서울대학교  37.459882  126.951905\n",
      "23         서울시립대학교  37.583866  127.058777\n",
      "24         서울여자대학교  37.628113  127.090457\n",
      "25         서울한영대학교  37.496541  126.851262\n",
      "26          성공회대학교  37.487232  126.825320\n",
      "27  성균관대학교 서울캠퍼스    37.588227  126.993606\n",
      "28         성신여자대학교  37.591310  127.022131\n",
      "29           세종대학교  37.550260  127.073139\n",
      "30         숙명여자대학교  37.546364  126.964831\n",
      "31           숭실대학교  37.496311  126.957460\n",
      "32           연세대학교  37.565784  126.938572\n",
      "33          육군사관학교  37.623819  127.098878\n",
      "34         이화여자대학교  37.564308  126.950179\n",
      "35        장로회신학대학교  37.550511  127.103458\n",
      "36    중앙대학교 서울캠퍼스   37.505088  126.957101\n",
      "37           총신대학교  37.488623  126.966817\n",
      "38         추계예술대학교  37.562452  126.953417\n",
      "39       한국방송통신대학교  37.578613  127.003291\n",
      "40         한국성서대학교  37.648749  127.064320\n",
      "41        한국예술종합학교  37.604997  127.056740\n",
      "42        한국외국어대학교  37.597319  127.057843\n",
      "43         한국체육대학교  37.519627  127.130984\n",
      "44           한성대학교  37.581785  127.010369\n",
      "45           한양대학교  37.557232  127.045322\n",
      "46           홍익대학교  37.551464  126.925011\n"
     ]
    }
   ],
   "source": [
    "with open(\"test.piclke\", \"rb\") as f:\n",
    "    data = pickle.load(f)\n",
    "print(data)"
   ]
  },
  {
   "cell_type": "markdown",
   "id": "7c1ca5e3-a14b-4238-adae-e11d0c20fe07",
   "metadata": {},
   "source": [
    "#### glob"
   ]
  },
  {
   "cell_type": "code",
   "execution_count": 85,
   "id": "32aaeef6-1c48-4b9f-90fe-47e64587559a",
   "metadata": {},
   "outputs": [],
   "source": [
    "import glob"
   ]
  },
  {
   "cell_type": "code",
   "execution_count": 88,
   "id": "654e9502-8867-4a77-b16a-79bd28348df9",
   "metadata": {
    "collapsed": true,
    "jupyter": {
     "outputs_hidden": true
    },
    "tags": []
   },
   "outputs": [
    {
     "data": {
      "text/plain": [
       "['C:/Users/admin\\\\0901.ipynb',\n",
       " 'C:/Users/admin\\\\0901_연습.ipynb',\n",
       " 'C:/Users/admin\\\\0902 연습문제.ipynb',\n",
       " 'C:/Users/admin\\\\0902.ipynb',\n",
       " 'C:/Users/admin\\\\0905.ipynb',\n",
       " 'C:/Users/admin\\\\0905_1.ipynb',\n",
       " 'C:/Users/admin\\\\0905_연습.ipynb',\n",
       " 'C:/Users/admin\\\\0907.ipynb',\n",
       " 'C:/Users/admin\\\\0907_복습.ipynb',\n",
       " 'C:/Users/admin\\\\0907_연습.ipynb',\n",
       " 'C:/Users/admin\\\\0908.ipynb',\n",
       " 'C:/Users/admin\\\\0913.ipynb',\n",
       " 'C:/Users/admin\\\\3D Objects',\n",
       " 'C:/Users/admin\\\\aaa.csv',\n",
       " 'C:/Users/admin\\\\abc',\n",
       " 'C:/Users/admin\\\\AppData',\n",
       " 'C:/Users/admin\\\\Application Data',\n",
       " 'C:/Users/admin\\\\bbb.xlsx',\n",
       " 'C:/Users/admin\\\\Contacts',\n",
       " 'C:/Users/admin\\\\Cookies',\n",
       " 'C:/Users/admin\\\\Desktop',\n",
       " 'C:/Users/admin\\\\Documents',\n",
       " 'C:/Users/admin\\\\Downloads',\n",
       " 'C:/Users/admin\\\\Favorites',\n",
       " 'C:/Users/admin\\\\gugu.txt',\n",
       " 'C:/Users/admin\\\\Links',\n",
       " 'C:/Users/admin\\\\Local Settings',\n",
       " 'C:/Users/admin\\\\mod11.py',\n",
       " 'C:/Users/admin\\\\mod12.py',\n",
       " 'C:/Users/admin\\\\Music',\n",
       " 'C:/Users/admin\\\\My Documents',\n",
       " 'C:/Users/admin\\\\NetHood',\n",
       " 'C:/Users/admin\\\\new.txt',\n",
       " 'C:/Users/admin\\\\NTUSER.DAT',\n",
       " 'C:/Users/admin\\\\ntuser.dat.LOG1',\n",
       " 'C:/Users/admin\\\\ntuser.dat.LOG2',\n",
       " 'C:/Users/admin\\\\NTUSER.DAT{491bbcf3-1879-11ed-a63b-24f5aaea219a}.TM.blf',\n",
       " 'C:/Users/admin\\\\NTUSER.DAT{491bbcf3-1879-11ed-a63b-24f5aaea219a}.TMContainer00000000000000000001.regtrans-ms',\n",
       " 'C:/Users/admin\\\\NTUSER.DAT{491bbcf3-1879-11ed-a63b-24f5aaea219a}.TMContainer00000000000000000002.regtrans-ms',\n",
       " 'C:/Users/admin\\\\ntuser.ini',\n",
       " 'C:/Users/admin\\\\OneDrive',\n",
       " 'C:/Users/admin\\\\people.txt',\n",
       " 'C:/Users/admin\\\\Pictures',\n",
       " 'C:/Users/admin\\\\PrintHood',\n",
       " 'C:/Users/admin\\\\Recent',\n",
       " 'C:/Users/admin\\\\Saved Games',\n",
       " 'C:/Users/admin\\\\Searches',\n",
       " 'C:/Users/admin\\\\SendTo',\n",
       " 'C:/Users/admin\\\\Templates',\n",
       " 'C:/Users/admin\\\\test.piclke',\n",
       " 'C:/Users/admin\\\\test.py',\n",
       " 'C:/Users/admin\\\\test.txt',\n",
       " 'C:/Users/admin\\\\Videos',\n",
       " 'C:/Users/admin\\\\__pycache__',\n",
       " 'C:/Users/admin\\\\서울지역대학교위치.xlsx',\n",
       " 'C:/Users/admin\\\\시작 메뉴']"
      ]
     },
     "execution_count": 88,
     "metadata": {},
     "output_type": "execute_result"
    }
   ],
   "source": [
    "glob.glob(\"C:/Users/admin/*\")"
   ]
  },
  {
   "cell_type": "code",
   "execution_count": 89,
   "id": "cb4638d3-5ad8-4ff2-8808-b555364bf58d",
   "metadata": {},
   "outputs": [
    {
     "data": {
      "text/plain": [
       "['C:/Users/admin\\\\aaa.csv',\n",
       " 'C:/Users/admin\\\\abc',\n",
       " 'C:/Users/admin\\\\AppData',\n",
       " 'C:/Users/admin\\\\Application Data']"
      ]
     },
     "execution_count": 89,
     "metadata": {},
     "output_type": "execute_result"
    }
   ],
   "source": [
    "glob.glob(\"C:/Users/admin/a*\")"
   ]
  },
  {
   "cell_type": "code",
   "execution_count": 90,
   "id": "df7f2966-9932-4f7a-a3d2-6038fe00d8fc",
   "metadata": {},
   "outputs": [
    {
     "data": {
      "text/plain": [
       "['C:/Users/admin\\\\aaa.csv']"
      ]
     },
     "execution_count": 90,
     "metadata": {},
     "output_type": "execute_result"
    }
   ],
   "source": [
    "glob.glob(\"C:/Users/admin/*.csv\")"
   ]
  },
  {
   "cell_type": "markdown",
   "id": "eab9b4a7-4ddf-4212-b148-dd2f7b9db31d",
   "metadata": {},
   "source": [
    "#### time"
   ]
  },
  {
   "cell_type": "code",
   "execution_count": 91,
   "id": "4ef89197-b157-4190-b55a-15b5644f7931",
   "metadata": {},
   "outputs": [],
   "source": [
    "import time"
   ]
  },
  {
   "cell_type": "code",
   "execution_count": 92,
   "id": "fb6fa9b8-2776-413f-a501-4802e1057ba0",
   "metadata": {},
   "outputs": [
    {
     "data": {
      "text/plain": [
       "1663045603.6391344"
      ]
     },
     "execution_count": 92,
     "metadata": {},
     "output_type": "execute_result"
    }
   ],
   "source": [
    "time.time()"
   ]
  },
  {
   "cell_type": "code",
   "execution_count": 94,
   "id": "bee4b546-533f-48af-85f0-1f46b679542c",
   "metadata": {},
   "outputs": [
    {
     "data": {
      "text/plain": [
       "27717428.362954427"
      ]
     },
     "execution_count": 94,
     "metadata": {},
     "output_type": "execute_result"
    }
   ],
   "source": [
    "s = time.time()\n",
    "s / 60"
   ]
  },
  {
   "cell_type": "code",
   "execution_count": 95,
   "id": "246161aa-5a3b-4695-9a8c-2d0ebe2785b6",
   "metadata": {},
   "outputs": [
    {
     "data": {
      "text/plain": [
       "461957.1393825738"
      ]
     },
     "execution_count": 95,
     "metadata": {},
     "output_type": "execute_result"
    }
   ],
   "source": [
    "m = s/60\n",
    "m / 60"
   ]
  },
  {
   "cell_type": "code",
   "execution_count": 96,
   "id": "670b55ad-f371-480b-bb3a-d347a1c5fbd5",
   "metadata": {},
   "outputs": [
    {
     "data": {
      "text/plain": [
       "19248.214140940574"
      ]
     },
     "execution_count": 96,
     "metadata": {},
     "output_type": "execute_result"
    }
   ],
   "source": [
    "c = m / 60\n",
    "c / 24"
   ]
  },
  {
   "cell_type": "code",
   "execution_count": 97,
   "id": "46d11301-4622-4af7-8ebe-f3b673df1619",
   "metadata": {},
   "outputs": [
    {
     "data": {
      "text/plain": [
       "time.struct_time(tm_year=2022, tm_mon=9, tm_mday=13, tm_hour=14, tm_min=9, tm_sec=36, tm_wday=1, tm_yday=256, tm_isdst=0)"
      ]
     },
     "execution_count": 97,
     "metadata": {},
     "output_type": "execute_result"
    }
   ],
   "source": [
    "time.localtime(time.time())"
   ]
  },
  {
   "cell_type": "code",
   "execution_count": 98,
   "id": "86af01f8-5fb7-4d6e-b2a1-5cfa7077a033",
   "metadata": {},
   "outputs": [
    {
     "data": {
      "text/plain": [
       "2022"
      ]
     },
     "execution_count": 98,
     "metadata": {},
     "output_type": "execute_result"
    }
   ],
   "source": [
    "time.localtime(time.time()).tm_year"
   ]
  },
  {
   "cell_type": "code",
   "execution_count": 99,
   "id": "e5ec4aae-1922-46fa-93ac-9ac6e4e12253",
   "metadata": {},
   "outputs": [
    {
     "data": {
      "text/plain": [
       "14"
      ]
     },
     "execution_count": 99,
     "metadata": {},
     "output_type": "execute_result"
    }
   ],
   "source": [
    "time.localtime(time.time()).tm_hour"
   ]
  },
  {
   "cell_type": "code",
   "execution_count": 100,
   "id": "4ab0eee3-2137-4132-87da-1a219bcc1f7f",
   "metadata": {},
   "outputs": [
    {
     "data": {
      "text/plain": [
       "'09/13/22'"
      ]
     },
     "execution_count": 100,
     "metadata": {},
     "output_type": "execute_result"
    }
   ],
   "source": [
    "now = time.localtime(time.time())\n",
    "time.strftime('%x', now)"
   ]
  },
  {
   "cell_type": "code",
   "execution_count": 101,
   "id": "26755ba6-7dea-4870-8ffc-162dd83ba2c0",
   "metadata": {},
   "outputs": [
    {
     "data": {
      "text/plain": [
       "'14:13:39'"
      ]
     },
     "execution_count": 101,
     "metadata": {},
     "output_type": "execute_result"
    }
   ],
   "source": [
    "time.strftime('%X', now)"
   ]
  },
  {
   "cell_type": "code",
   "execution_count": 104,
   "id": "8b95c024-70fd-4d08-9ee9-ef34bdfa27c8",
   "metadata": {},
   "outputs": [
    {
     "data": {
      "text/plain": [
       "'September'"
      ]
     },
     "execution_count": 104,
     "metadata": {},
     "output_type": "execute_result"
    }
   ],
   "source": [
    "time.strftime('%B', now)"
   ]
  },
  {
   "cell_type": "code",
   "execution_count": 108,
   "id": "eff822c6-c292-4a88-b5f7-8353e9842e9b",
   "metadata": {},
   "outputs": [
    {
     "ename": "ValueError",
     "evalue": "Invalid format string",
     "output_type": "error",
     "traceback": [
      "\u001b[1;31m---------------------------------------------------------------------------\u001b[0m",
      "\u001b[1;31mValueError\u001b[0m                                Traceback (most recent call last)",
      "Input \u001b[1;32mIn [108]\u001b[0m, in \u001b[0;36m<cell line: 1>\u001b[1;34m()\u001b[0m\n\u001b[1;32m----> 1\u001b[0m \u001b[43mtime\u001b[49m\u001b[38;5;241;43m.\u001b[39;49m\u001b[43mstrftime\u001b[49m\u001b[43m(\u001b[49m\u001b[38;5;124;43m'\u001b[39;49m\u001b[38;5;124;43m%\u001b[39;49m\u001b[38;5;124;43mY-\u001b[39;49m\u001b[38;5;124;43m%\u001b[39;49m\u001b[38;5;124;43mm-\u001b[39;49m\u001b[38;5;132;43;01m%d\u001b[39;49;00m\u001b[38;5;132;43;01m%i\u001b[39;49;00m\u001b[38;5;124;43m:\u001b[39;49m\u001b[38;5;124;43m%\u001b[39;49m\u001b[38;5;124;43mM:\u001b[39;49m\u001b[38;5;124;43m%\u001b[39;49m\u001b[38;5;124;43mS \u001b[39;49m\u001b[38;5;124;43m%\u001b[39;49m\u001b[38;5;124;43mp\u001b[39;49m\u001b[38;5;124;43m'\u001b[39;49m\u001b[43m,\u001b[49m\u001b[43m \u001b[49m\u001b[43mnow\u001b[49m\u001b[43m)\u001b[49m\n",
      "\u001b[1;31mValueError\u001b[0m: Invalid format string"
     ]
    }
   ],
   "source": [
    "time.strftime('%Y-%m-%d %i:%M:%S %p', now)"
   ]
  },
  {
   "cell_type": "code",
   "execution_count": null,
   "id": "950eaa75-2370-45b6-a81c-0ab08a5cd55d",
   "metadata": {},
   "outputs": [],
   "source": [
    "time.strptime()"
   ]
  },
  {
   "cell_type": "code",
   "execution_count": null,
   "id": "90f6f569-600e-4484-ab96-f3061141ca01",
   "metadata": {},
   "outputs": [],
   "source": [
    "while True:\n",
    "    print('Hello')\n",
    "    time.sleep(1)"
   ]
  },
  {
   "cell_type": "markdown",
   "id": "7f16e844-069f-43ba-95c6-5e1f52226618",
   "metadata": {},
   "source": [
    "#### calendar"
   ]
  },
  {
   "cell_type": "code",
   "execution_count": 110,
   "id": "680a17c2-87ea-4022-8691-7d324af80d3d",
   "metadata": {},
   "outputs": [],
   "source": [
    "import calendar"
   ]
  },
  {
   "cell_type": "code",
   "execution_count": 111,
   "id": "536a2d56-1823-4351-9aaf-eff3780b2e87",
   "metadata": {
    "collapsed": true,
    "jupyter": {
     "outputs_hidden": true
    },
    "tags": []
   },
   "outputs": [
    {
     "data": {
      "text/plain": [
       "'                                  2022\\n\\n      January                   February                   March\\nMo Tu We Th Fr Sa Su      Mo Tu We Th Fr Sa Su      Mo Tu We Th Fr Sa Su\\n                1  2          1  2  3  4  5  6          1  2  3  4  5  6\\n 3  4  5  6  7  8  9       7  8  9 10 11 12 13       7  8  9 10 11 12 13\\n10 11 12 13 14 15 16      14 15 16 17 18 19 20      14 15 16 17 18 19 20\\n17 18 19 20 21 22 23      21 22 23 24 25 26 27      21 22 23 24 25 26 27\\n24 25 26 27 28 29 30      28                        28 29 30 31\\n31\\n\\n       April                      May                       June\\nMo Tu We Th Fr Sa Su      Mo Tu We Th Fr Sa Su      Mo Tu We Th Fr Sa Su\\n             1  2  3                         1             1  2  3  4  5\\n 4  5  6  7  8  9 10       2  3  4  5  6  7  8       6  7  8  9 10 11 12\\n11 12 13 14 15 16 17       9 10 11 12 13 14 15      13 14 15 16 17 18 19\\n18 19 20 21 22 23 24      16 17 18 19 20 21 22      20 21 22 23 24 25 26\\n25 26 27 28 29 30         23 24 25 26 27 28 29      27 28 29 30\\n                          30 31\\n\\n        July                     August                  September\\nMo Tu We Th Fr Sa Su      Mo Tu We Th Fr Sa Su      Mo Tu We Th Fr Sa Su\\n             1  2  3       1  2  3  4  5  6  7                1  2  3  4\\n 4  5  6  7  8  9 10       8  9 10 11 12 13 14       5  6  7  8  9 10 11\\n11 12 13 14 15 16 17      15 16 17 18 19 20 21      12 13 14 15 16 17 18\\n18 19 20 21 22 23 24      22 23 24 25 26 27 28      19 20 21 22 23 24 25\\n25 26 27 28 29 30 31      29 30 31                  26 27 28 29 30\\n\\n      October                   November                  December\\nMo Tu We Th Fr Sa Su      Mo Tu We Th Fr Sa Su      Mo Tu We Th Fr Sa Su\\n                1  2          1  2  3  4  5  6                1  2  3  4\\n 3  4  5  6  7  8  9       7  8  9 10 11 12 13       5  6  7  8  9 10 11\\n10 11 12 13 14 15 16      14 15 16 17 18 19 20      12 13 14 15 16 17 18\\n17 18 19 20 21 22 23      21 22 23 24 25 26 27      19 20 21 22 23 24 25\\n24 25 26 27 28 29 30      28 29 30                  26 27 28 29 30 31\\n31\\n'"
      ]
     },
     "execution_count": 111,
     "metadata": {},
     "output_type": "execute_result"
    }
   ],
   "source": [
    "calendar.calendar(2022)"
   ]
  },
  {
   "cell_type": "code",
   "execution_count": 112,
   "id": "2ac5f7d4-69c5-4d9e-8351-234b59f2b31c",
   "metadata": {},
   "outputs": [
    {
     "name": "stdout",
     "output_type": "stream",
     "text": [
      "   September 2022\n",
      "Mo Tu We Th Fr Sa Su\n",
      "          1  2  3  4\n",
      " 5  6  7  8  9 10 11\n",
      "12 13 14 15 16 17 18\n",
      "19 20 21 22 23 24 25\n",
      "26 27 28 29 30\n"
     ]
    }
   ],
   "source": [
    "calendar.prmonth(2022, 9)"
   ]
  },
  {
   "cell_type": "code",
   "execution_count": 113,
   "id": "f61c6b5d-b5b9-40d3-b7f4-72094c1b9227",
   "metadata": {},
   "outputs": [
    {
     "data": {
      "text/plain": [
       "1"
      ]
     },
     "execution_count": 113,
     "metadata": {},
     "output_type": "execute_result"
    }
   ],
   "source": [
    "calendar.weekday(2022, 9, 13)"
   ]
  },
  {
   "cell_type": "code",
   "execution_count": 116,
   "id": "4264227f-b8b2-4d27-a54d-6f4755c4551e",
   "metadata": {},
   "outputs": [
    {
     "name": "stdout",
     "output_type": "stream",
     "text": [
      "6\n",
      "0\n",
      "1\n",
      "2\n",
      "3\n",
      "4\n",
      "5\n"
     ]
    }
   ],
   "source": [
    "print(calendar.weekday(2022, 9, 11))\n",
    "print(calendar.weekday(2022, 9, 12))\n",
    "print(calendar.weekday(2022, 9, 13))\n",
    "print(calendar.weekday(2022, 9, 14))\n",
    "print(calendar.weekday(2022, 9, 15))\n",
    "print(calendar.weekday(2022, 9, 16))\n",
    "print(calendar.weekday(2022, 9, 17))"
   ]
  },
  {
   "cell_type": "markdown",
   "id": "7140413a-4a39-44fe-a228-c7703a927fed",
   "metadata": {
    "tags": []
   },
   "source": [
    "#### random"
   ]
  },
  {
   "cell_type": "code",
   "execution_count": 117,
   "id": "45d4f231-6676-4e55-be63-2851d0ebeb6f",
   "metadata": {},
   "outputs": [],
   "source": [
    "import random"
   ]
  },
  {
   "cell_type": "code",
   "execution_count": 118,
   "id": "c5e0eba7-1866-4443-bcf6-c1e8e2559971",
   "metadata": {},
   "outputs": [
    {
     "data": {
      "text/plain": [
       "4"
      ]
     },
     "execution_count": 118,
     "metadata": {},
     "output_type": "execute_result"
    }
   ],
   "source": [
    "random.randint(1, 5)"
   ]
  },
  {
   "cell_type": "code",
   "execution_count": 121,
   "id": "56e010c2-20fa-4fdd-b0cd-14605fae95cd",
   "metadata": {},
   "outputs": [
    {
     "data": {
      "text/plain": [
       "[9, 6, 2, 18, 4, 19, 17, 6, 5, 3]"
      ]
     },
     "execution_count": 121,
     "metadata": {},
     "output_type": "execute_result"
    }
   ],
   "source": [
    "li = []\n",
    "for _ in range(10):\n",
    "    li.append(random.randint(1, 20))\n",
    "li"
   ]
  },
  {
   "cell_type": "code",
   "execution_count": 124,
   "id": "8a32fec2-77f6-4d77-a8f8-419e53ca8eb1",
   "metadata": {},
   "outputs": [
    {
     "data": {
      "text/plain": [
       "[13, None, 11, 14, 2, 12, 7, 20, 7, 18, 9]"
      ]
     },
     "execution_count": 124,
     "metadata": {},
     "output_type": "execute_result"
    }
   ],
   "source": [
    "li = []\n",
    "for _ in range(10):\n",
    "    a = li.append(random.randint(1, 20))\n",
    "    if a in li:\n",
    "        continue\n",
    "    else:\n",
    "        li.append(a)\n",
    "li    "
   ]
  },
  {
   "cell_type": "code",
   "execution_count": 127,
   "id": "c172635d-8e1f-4b1b-8b31-a495b836012d",
   "metadata": {},
   "outputs": [
    {
     "data": {
      "text/plain": [
       "2"
      ]
     },
     "execution_count": 127,
     "metadata": {},
     "output_type": "execute_result"
    }
   ],
   "source": [
    "random.choice([1,2,3,10])"
   ]
  },
  {
   "cell_type": "code",
   "execution_count": 137,
   "id": "3af606aa-594a-41ae-b903-0cc1f6f8e338",
   "metadata": {},
   "outputs": [
    {
     "data": {
      "text/plain": [
       "0"
      ]
     },
     "execution_count": 137,
     "metadata": {},
     "output_type": "execute_result"
    }
   ],
   "source": [
    "random.choice(range(5))"
   ]
  },
  {
   "cell_type": "code",
   "execution_count": 139,
   "id": "70920474-83e8-4d32-917a-7475d88d3e80",
   "metadata": {},
   "outputs": [
    {
     "data": {
      "text/plain": [
       "0.6060285266991731"
      ]
     },
     "execution_count": 139,
     "metadata": {},
     "output_type": "execute_result"
    }
   ],
   "source": [
    "random.random()   #0과 1사이의 소수값을 출력한다"
   ]
  },
  {
   "cell_type": "code",
   "execution_count": 141,
   "id": "fab965e4-782d-4f9b-8c14-de0fbf707131",
   "metadata": {},
   "outputs": [
    {
     "data": {
      "text/plain": [
       "0.9198142635951871"
      ]
     },
     "execution_count": 141,
     "metadata": {},
     "output_type": "execute_result"
    }
   ],
   "source": [
    "np.random.uniform()    #random.random()과 같은 기능을 한다"
   ]
  },
  {
   "cell_type": "code",
   "execution_count": 144,
   "id": "0dfe398e-0b9d-4c29-bc95-cfa9dcaf5a9d",
   "metadata": {},
   "outputs": [
    {
     "data": {
      "text/plain": [
       "[1, 3, 2, 5, 4]"
      ]
     },
     "execution_count": 144,
     "metadata": {},
     "output_type": "execute_result"
    }
   ],
   "source": [
    "data = [1,2,3,4,5]\n",
    "random.shuffle(data)\n",
    "data"
   ]
  },
  {
   "cell_type": "markdown",
   "id": "f6e0c42c-2878-4183-bd31-836cc2e98e73",
   "metadata": {
    "tags": []
   },
   "source": [
    "#### webbrowser"
   ]
  },
  {
   "cell_type": "code",
   "execution_count": 145,
   "id": "3881ab3b-532b-41dd-b317-ff6f0134ad15",
   "metadata": {},
   "outputs": [],
   "source": [
    "import webbrowser"
   ]
  },
  {
   "cell_type": "code",
   "execution_count": 146,
   "id": "945218b1-3209-465d-ac84-8ff38e37d6d3",
   "metadata": {},
   "outputs": [
    {
     "data": {
      "text/plain": [
       "True"
      ]
     },
     "execution_count": 146,
     "metadata": {},
     "output_type": "execute_result"
    }
   ],
   "source": [
    "webbrowser.open(\"www.naver.com\")"
   ]
  },
  {
   "cell_type": "code",
   "execution_count": null,
   "id": "36e4ac6a-146e-4409-89b3-3870b233abf2",
   "metadata": {},
   "outputs": [],
   "source": [
    "webbrowser.open_new(\"http://google.com\")"
   ]
  },
  {
   "cell_type": "markdown",
   "id": "37c8ac54-495f-4ef6-bb11-e69269fd45ee",
   "metadata": {
    "tags": []
   },
   "source": [
    "#### threading"
   ]
  },
  {
   "cell_type": "code",
   "execution_count": 148,
   "id": "d98df735-a923-430b-a14b-8e8f1c91c17c",
   "metadata": {},
   "outputs": [
    {
     "name": "stdout",
     "output_type": "stream",
     "text": [
      "Start\n",
      "working: 0\n",
      "working: 1\n",
      "working: 2\n",
      "working: 3\n",
      "working: 4\n"
     ]
    }
   ],
   "source": [
    "import time\n",
    "\n",
    "def long_task():\n",
    "    for i in range(5):\n",
    "        time.sleep(1)\n",
    "        print(\"working: %s\" %i)\n",
    "\n",
    "print(\"Start\")\n",
    "\n",
    "long_task()"
   ]
  },
  {
   "cell_type": "code",
   "execution_count": 150,
   "id": "8b0bb81d-1679-4ed0-a433-82916ad91df4",
   "metadata": {},
   "outputs": [
    {
     "name": "stdout",
     "output_type": "stream",
     "text": [
      "Start\n",
      "working: 0\n",
      "working: 1\n",
      "working: 2\n",
      "working: 3\n",
      "working: 4\n",
      "working: 0\n",
      "working: 1\n",
      "working: 2\n",
      "working: 3\n",
      "working: 4\n",
      "working: 0\n",
      "working: 1\n",
      "working: 2\n",
      "working: 3\n",
      "working: 4\n",
      "End\n"
     ]
    }
   ],
   "source": [
    "print(\"Start\")\n",
    "for _ in range(3):\n",
    "    long_task()\n",
    "print(\"End\")    "
   ]
  },
  {
   "cell_type": "code",
   "execution_count": 154,
   "id": "59bb3896-1865-4d1a-ab4c-99eb1150c7ae",
   "metadata": {},
   "outputs": [
    {
     "name": "stdout",
     "output_type": "stream",
     "text": [
      "Start\n",
      "working: 0working: 0\n",
      "working: 0\n",
      "\n",
      "working: 0\n",
      "working: 0\n",
      "working: 1working: 1\n",
      "working: 1\n",
      "\n",
      "working: 1\n",
      "working: 1\n",
      "working: 2\n",
      "working: 2\n",
      "working: 2\n",
      "working: 2\n",
      "working: 2\n",
      "working: 3working: 3\n",
      "working: 3\n",
      "\n",
      "working: 3\n",
      "working: 3\n",
      "working: 4working: 4\n",
      "working: 4\n",
      "working: 4\n",
      "working: 4\n",
      "\n",
      "End\n"
     ]
    }
   ],
   "source": [
    "import time\n",
    "import threading\n",
    "\n",
    "def long_task():\n",
    "    for i in range(5):\n",
    "        time.sleep(1)\n",
    "        print(\"working: %s\" %i)\n",
    "print(\"Start\")\n",
    "\n",
    "\n",
    "threads = []\n",
    "for _ in range(5):\n",
    "    t = threading.Thread(target = long_task)\n",
    "    threads.append(t)\n",
    "    \n",
    "for t in threads:\n",
    "    t.start()\n",
    "\n",
    "for t in threads:\n",
    "    t.join()\n",
    "    \n",
    "print(\"End\")"
   ]
  },
  {
   "cell_type": "code",
   "execution_count": null,
   "id": "dd9f9e9c-95e8-4a22-9aa7-9d965510c40a",
   "metadata": {},
   "outputs": [],
   "source": []
  }
 ],
 "metadata": {
  "kernelspec": {
   "display_name": "Python 3 (ipykernel)",
   "language": "python",
   "name": "python3"
  },
  "language_info": {
   "codemirror_mode": {
    "name": "ipython",
    "version": 3
   },
   "file_extension": ".py",
   "mimetype": "text/x-python",
   "name": "python",
   "nbconvert_exporter": "python",
   "pygments_lexer": "ipython3",
   "version": "3.10.6"
  }
 },
 "nbformat": 4,
 "nbformat_minor": 5
}
