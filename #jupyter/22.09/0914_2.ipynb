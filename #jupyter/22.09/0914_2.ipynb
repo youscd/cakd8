{
 "cells": [
  {
   "cell_type": "markdown",
   "id": "7328ceee-458d-4d01-91c5-97a0697588b0",
   "metadata": {},
   "source": [
    "## 14. 정규 표현식 (Regular Expression)"
   ]
  },
  {
   "cell_type": "markdown",
   "id": "024f8f62-f6e9-49fd-a812-7ee4b12c8f54",
   "metadata": {},
   "source": [
    "### (1) [ ] : 문자 클래스\n",
    "-예:<br>\n",
    "[abc] : a,b,c 중 한개의 문자와 매치<br>\n",
    "[a-c] : [abc]와 동일<br>\n",
    "[a-z] : 모든 소문자 알파벳 ([A-Z], [a-zA-Z] ..)<br>\n",
    "[0-5] : [012345] ([0-9] ..)<br>\n",
    "\n",
    "-'^' 표시 : [ ]안에서만 사용, 'not(반대)'의 의미를 갖는다"
   ]
  },
  {
   "cell_type": "markdown",
   "id": "7061d3a4-6de1-4bba-9783-a0c316fe3ab6",
   "metadata": {},
   "source": [
    "*자주 사용하는 문자 클래스<br>\n",
    "-'\\d' : '숫자'와 매치, [0-9]와 동일한 표현<br>\n",
    "-'\\D' : '숫자'가 아닌 것과 매치, [^0-9]와 동일한 표현<br>\n",
    "-'\\s' : whitespace 문자(공백을 표현하는 문자-tab, space)와 매치, [ \\t\\n\\r\\f\\v] 와 동일한 표현(맨 앞의 빈칸은 공백(space)를 의미)<br>\n",
    "-'\\S' : whitespace 문자가 아닌 것과 매치, [^ \\t\\n\\r\\f\\v] 와 동일한 표현<br>\n",
    "-'\\w' : alphanumeric(문자+숫자)와 매치, [a-zA-Z0-9_]와 동일한 표현<br>\n",
    "-'\\W' : alphanumeric(문자+숫자)가 아닌 문자와 매치, [^a-zA-Z0-9_]와 동일한 표현<br>"
   ]
  },
  {
   "cell_type": "code",
   "execution_count": null,
   "id": "e290545f-c5ec-4b90-a101-b2d4cd7c4e33",
   "metadata": {},
   "outputs": [],
   "source": []
  },
  {
   "cell_type": "markdown",
   "id": "bfc7f201-634d-4c67-b7bb-c810b2166dc1",
   "metadata": {},
   "source": [
    "#### 문자열 바꾸기(1)"
   ]
  },
  {
   "cell_type": "code",
   "execution_count": 1,
   "id": "4a634f58-6ca4-4a58-a7b9-3adc1999da86",
   "metadata": {},
   "outputs": [],
   "source": [
    "sentence = \"blue socks and red shoes\""
   ]
  },
  {
   "cell_type": "code",
   "execution_count": 3,
   "id": "56e9d8f5-2b31-4401-9729-6ffe54cbf96d",
   "metadata": {},
   "outputs": [],
   "source": [
    "#blue -> AAA 로 바꾸기\n",
    "import re"
   ]
  },
  {
   "cell_type": "code",
   "execution_count": 4,
   "id": "b324729b-8e6a-4807-be3f-8fcd3a04fbfb",
   "metadata": {},
   "outputs": [
    {
     "data": {
      "text/plain": [
       "'AAA socks and red shoes'"
      ]
     },
     "execution_count": 4,
     "metadata": {},
     "output_type": "execute_result"
    }
   ],
   "source": [
    "#re.sub(패턴, 바꿀 문장, 무엇에 대하여)\n",
    "re.sub(\"blue\", \"AAA\", sentence)"
   ]
  },
  {
   "cell_type": "code",
   "execution_count": 7,
   "id": "26378e68-dd0f-40f6-a5fb-df448d260c5e",
   "metadata": {},
   "outputs": [],
   "source": [
    "result = re.sub(\"blue\", \"AAA\", sentence)\n",
    "result = re.sub(\"red\", \"BBB\", result)"
   ]
  },
  {
   "cell_type": "code",
   "execution_count": 8,
   "id": "6a56b79d-8c7d-498e-af5b-38547f1b11e5",
   "metadata": {},
   "outputs": [
    {
     "data": {
      "text/plain": [
       "'AAA socks and BBB shoes'"
      ]
     },
     "execution_count": 8,
     "metadata": {},
     "output_type": "execute_result"
    }
   ],
   "source": [
    "result"
   ]
  },
  {
   "cell_type": "code",
   "execution_count": 9,
   "id": "7f90aa91-3278-470a-b1e2-72f384115507",
   "metadata": {},
   "outputs": [
    {
     "data": {
      "text/plain": [
       "'AAA socks and AAA shoes'"
      ]
     },
     "execution_count": 9,
     "metadata": {},
     "output_type": "execute_result"
    }
   ],
   "source": [
    "re.sub(\"blue|red\", \"AAA\", sentence)   #| : 'or' 의 의미"
   ]
  },
  {
   "cell_type": "code",
   "execution_count": 13,
   "id": "f88b9fb4-8a6f-45d5-b9e9-a3bdecbe114b",
   "metadata": {},
   "outputs": [
    {
     "data": {
      "text/plain": [
       "'AAA socks and red shoes'"
      ]
     },
     "execution_count": 13,
     "metadata": {},
     "output_type": "execute_result"
    }
   ],
   "source": [
    "re.sub(\"b.{3}\", \"AAA\", sentence)   #참고 사이트 : https://regexr.com/ , https://regex101.com/"
   ]
  },
  {
   "cell_type": "markdown",
   "id": "abec9b75-aca7-453c-ade8-f387fcf649ec",
   "metadata": {},
   "source": [
    "#### 문자열 바꾸기(2)"
   ]
  },
  {
   "cell_type": "code",
   "execution_count": 30,
   "id": "73d8af7c-135c-4aed-9d64-a33a07767735",
   "metadata": {},
   "outputs": [
    {
     "name": "stdout",
     "output_type": "stream",
     "text": [
      "\n",
      "1\n",
      "12\n",
      "123\n",
      "1234\n",
      "abc\n",
      "1a\n"
     ]
    }
   ],
   "source": [
    "li = [\"\", \"1\", \"12\", \"123\", \"1234\", \"abc\", \"1a\"]\n",
    "for string in li:\n",
    "    print(string)"
   ]
  },
  {
   "cell_type": "code",
   "execution_count": 48,
   "id": "df4867ff-6bb8-4c97-aa0a-d53ec2303394",
   "metadata": {},
   "outputs": [
    {
     "name": "stdout",
     "output_type": "stream",
     "text": [
      ",  A,  AA,  AAA,  AAAA,  abc,  Aa,  "
     ]
    }
   ],
   "source": [
    "li = [\"\", \"1\", \"12\", \"123\", \"1234\", \"abc\", \"1a\"]\n",
    "for string in li:\n",
    "    print(re.sub(\"[0-9]\", \"A\", string), end = \",  \")   #[0-9] : 모든 숫자\n",
    "#1개의 숫자를 찾아서 A로 바꿔라"
   ]
  },
  {
   "cell_type": "code",
   "execution_count": 49,
   "id": "6099a90e-eb99-4c22-9df6-569f1f23c4bd",
   "metadata": {},
   "outputs": [
    {
     "name": "stdout",
     "output_type": "stream",
     "text": [
      ",  1,  12,  123,  A,  abc,  1a,  "
     ]
    }
   ],
   "source": [
    "li = [\"\", \"1\", \"12\", \"123\", \"1234\", \"abc\", \"1a\"]\n",
    "for string in li:\n",
    "    print(re.sub(\"[0-9]{4}\", \"A\", string), end = \",  \")"
   ]
  },
  {
   "cell_type": "code",
   "execution_count": 50,
   "id": "9e149e7f-3cd4-40ef-b7b2-faa8563cc39e",
   "metadata": {},
   "outputs": [
    {
     "name": "stdout",
     "output_type": "stream",
     "text": [
      ",  A,  A,  A,  A,  abc,  Aa,  "
     ]
    }
   ],
   "source": [
    "li = [\"\", \"1\", \"12\", \"123\", \"1234\", \"abc\", \"1a\"]\n",
    "for string in li:\n",
    "    print(re.sub(\"[0-9]+\", \"A\", string), end = \",  \")   #1개의 숫자가 1번 이상"
   ]
  },
  {
   "cell_type": "code",
   "execution_count": 101,
   "id": "9a98fc6e-81c6-4c47-b591-5cc5c2eee010",
   "metadata": {},
   "outputs": [
    {
     "name": "stdout",
     "output_type": "stream",
     "text": [
      "#,  ##,  ###,  ####,  #####,  #a#b#c#,  ##a#,  "
     ]
    }
   ],
   "source": [
    "li = [\"\", \"1\", \"12\", \"123\", \"1234\", \"abc\", \"1a\"]\n",
    "for string in li:\n",
    "    print(re.sub(\"[0-9]?\", \"#\", string), end = \",  \")   #'?' : 1번 이하 -> 숫자가 없는 자리까지 A로 바뀌었다"
   ]
  },
  {
   "cell_type": "code",
   "execution_count": 52,
   "id": "efefa88f-d35d-402f-8837-3531e8d4dd32",
   "metadata": {},
   "outputs": [
    {
     "name": "stdout",
     "output_type": "stream",
     "text": [
      "A,  AA,  AA,  AA,  AA,  AaAbAcA,  AAaA,  "
     ]
    }
   ],
   "source": [
    "li = [\"\", \"1\", \"12\", \"123\", \"1234\", \"abc\", \"1a\"]\n",
    "for string in li:\n",
    "    print(re.sub(\"[0-9]*\", \"A\", string), end = \",  \")   #맨 처음 A -> 빈칸이 바뀐 것"
   ]
  },
  {
   "cell_type": "code",
   "execution_count": 54,
   "id": "1efbc793-bef0-4a50-921b-e3a7a7aa37f9",
   "metadata": {},
   "outputs": [
    {
     "name": "stdout",
     "output_type": "stream",
     "text": [
      ",  1,  12,  123,  1234,  AAA,  1A,  "
     ]
    }
   ],
   "source": [
    "li = [\"\", \"1\", \"12\", \"123\", \"1234\", \"abc\", \"1a\"]\n",
    "for string in li:\n",
    "    print(re.sub(\"[^0-9]\", \"A\", string), end = \",  \")   #숫자를 제외한 문자만 A로 바뀌었다"
   ]
  },
  {
   "cell_type": "code",
   "execution_count": 55,
   "id": "77867a13-ba2a-467e-be97-28da3c03809b",
   "metadata": {},
   "outputs": [
    {
     "name": "stdout",
     "output_type": "stream",
     "text": [
      ",  A,  A2,  A23,  A234,  abc,  Aa,  "
     ]
    }
   ],
   "source": [
    "li = [\"\", \"1\", \"12\", \"123\", \"1234\", \"abc\", \"1a\"]\n",
    "for string in li:\n",
    "    print(re.sub(\"^[0-9]\", \"A\", string), end = \",  \")   #[]바깥에 '^' -> '시작'이 숫자면 A로 바꿔라"
   ]
  },
  {
   "cell_type": "code",
   "execution_count": 65,
   "id": "d1b80fbe-4657-424c-a922-7be3810f9aee",
   "metadata": {},
   "outputs": [
    {
     "name": "stdout",
     "output_type": "stream",
     "text": [
      ",  A,  1A,  12A,  123A,  abc,  1a,  "
     ]
    }
   ],
   "source": [
    "li = [\"\", \"1\", \"12\", \"123\", \"1234\", \"abc\", \"1a\"]\n",
    "for string in li:\n",
    "    print(re.sub(\"[0-9]$\", \"A\", string), end = \",  \")   #[]바깥에 '$' -> 숫자 1개로 끝나는 것만 A로 바꿔라"
   ]
  },
  {
   "cell_type": "markdown",
   "id": "32a9c99e-2945-453e-a57b-8cabe9b1b22d",
   "metadata": {},
   "source": [
    "#### 문자열 바꾸기(3)"
   ]
  },
  {
   "cell_type": "markdown",
   "id": "d99f8310-5ae0-4db2-b823-3a4626a1079a",
   "metadata": {},
   "source": [
    "* 1. a로 시작하고 o로 끝나는 문자에서 a와 o사이에 2개의 문자가 있는 경우 : a..o, [a]..[o]"
   ]
  },
  {
   "cell_type": "code",
   "execution_count": 62,
   "id": "836a323d-4c78-4b96-9d6a-2d27aa49cd17",
   "metadata": {},
   "outputs": [
    {
     "name": "stdout",
     "output_type": "stream",
     "text": [
      "#,  #,  aBo,  a123o,  kbs,  123kbs,  KBS,  KB3,  abcKBS123,  "
     ]
    }
   ],
   "source": [
    "li = [\"a12o\", \"abco\", \"aBo\", \"a123o\", \"kbs\", \"123kbs\", \"KBS\", \"KB3\", \"abcKBS123\"]\n",
    "for string in li:\n",
    "    print(re.sub(\"a..o\", \"#\", string), end = \",  \")"
   ]
  },
  {
   "cell_type": "code",
   "execution_count": 63,
   "id": "72d97dce-ce0b-4b49-bd0e-906d5ddb4627",
   "metadata": {},
   "outputs": [
    {
     "name": "stdout",
     "output_type": "stream",
     "text": [
      "#,  #,  aBo,  a123o,  kbs,  123kbs,  KBS,  KB3,  abcKBS123,  "
     ]
    }
   ],
   "source": [
    "li = [\"a12o\", \"abco\", \"aBo\", \"a123o\", \"kbs\", \"123kbs\", \"KBS\", \"KB3\", \"abcKBS123\"]\n",
    "for string in li:\n",
    "    print(re.sub(\"a.{2}o\", \"#\", string), end = \",  \")"
   ]
  },
  {
   "cell_type": "code",
   "execution_count": 64,
   "id": "90ccd3c8-5fcb-4992-bb45-aca3de90f484",
   "metadata": {},
   "outputs": [
    {
     "name": "stdout",
     "output_type": "stream",
     "text": [
      "#,  #,  aBo,  a123o,  kbs,  123kbs,  KBS,  KB3,  abcKBS123,  "
     ]
    }
   ],
   "source": [
    "li = [\"a12o\", \"abco\", \"aBo\", \"a123o\", \"kbs\", \"123kbs\", \"KBS\", \"KB3\", \"abcKBS123\"]\n",
    "for string in li:\n",
    "    print(re.sub(\"^a.{2}o$\", \"#\", string), end = \",  \")"
   ]
  },
  {
   "cell_type": "markdown",
   "id": "b982ae11-4f93-4fb5-a05f-19d2d74c4b6e",
   "metadata": {},
   "source": [
    "* 2. 알파벳 대문자로 시작하고 숫자로 끝나는 경우 : ^[A-Z].+[0-9]$"
   ]
  },
  {
   "cell_type": "code",
   "execution_count": 104,
   "id": "5d236354-464b-483e-89a4-16e4f87721fa",
   "metadata": {},
   "outputs": [
    {
     "name": "stdout",
     "output_type": "stream",
     "text": [
      "a12o,  abco,  aBo,  a123o,  kbs,  123kbs,  KBS,  #,  abcKBS123,  "
     ]
    }
   ],
   "source": [
    "li = [\"a12o\", \"abco\", \"aBo\", \"a123o\", \"kbs\", \"123kbs\", \"KBS\", \"KB3\", \"abcKBS123\"]\n",
    "for string in li:\n",
    "    print(re.sub(\"^[A-Z].+[0-9]$\", \"#\", string), end = \",  \")"
   ]
  },
  {
   "cell_type": "code",
   "execution_count": 70,
   "id": "63082fcf-c63e-42a5-b907-ecb24e602803",
   "metadata": {},
   "outputs": [
    {
     "name": "stdout",
     "output_type": "stream",
     "text": [
      "a12o,  abco,  aBo,  a123o,  kbs,  123kbs,  KBS,  #,  abcKBS123,  "
     ]
    }
   ],
   "source": [
    "li = [\"a12o\", \"abco\", \"aBo\", \"a123o\", \"kbs\", \"123kbs\", \"KBS\", \"KB3\", \"abcKBS123\"]\n",
    "for string in li:\n",
    "    print(re.sub(\"^[A-Z]\\S[0-9]$\", \"#\", string), end = \",  \")"
   ]
  },
  {
   "cell_type": "code",
   "execution_count": 73,
   "id": "286d6cd3-bcd0-4727-b5ce-14d90d5140cc",
   "metadata": {},
   "outputs": [
    {
     "name": "stdout",
     "output_type": "stream",
     "text": [
      "a12o,  abco,  aBo,  a123o,  kbs,  123kbs,  KBS,  KB3,  #,  "
     ]
    }
   ],
   "source": [
    "li = [\"a12o\", \"abco\", \"aBo\", \"a123o\", \"kbs\", \"123kbs\", \"KBS\", \"KB3\", \"abcKBS123\"]\n",
    "for string in li:\n",
    "    print(re.sub(\"^[a-z].+[0-9]$\", \"#\", string), end = \",  \")"
   ]
  },
  {
   "cell_type": "markdown",
   "id": "9a73c606-b626-4424-b105-de9803b56ad4",
   "metadata": {},
   "source": [
    "* 3. '123'을 찾아서 바꾸기"
   ]
  },
  {
   "cell_type": "code",
   "execution_count": 80,
   "id": "146b7afc-fb22-4a11-9764-a97ce6a405f2",
   "metadata": {
    "tags": []
   },
   "outputs": [
    {
     "name": "stdout",
     "output_type": "stream",
     "text": [
      "a12o,  abco,  aBo,  a#o,  kbs,  #kbs,  KBS,  KB3,  abcKBS#,  "
     ]
    }
   ],
   "source": [
    "li = [\"a12o\", \"abco\", \"aBo\", \"a123o\", \"kbs\", \"123kbs\", \"KBS\", \"KB3\", \"abcKBS123\"]\n",
    "for string in li:\n",
    "    print(re.sub(\"123+\", \"#\", string), end = \",  \")   #[123]은 '1 또는 2 또는 3' 을 의미"
   ]
  },
  {
   "cell_type": "code",
   "execution_count": 81,
   "id": "0198960a-51d0-487e-a8e1-1b944ed9073d",
   "metadata": {},
   "outputs": [
    {
     "name": "stdout",
     "output_type": "stream",
     "text": [
      "a12o,  abco,  aBo,  a#o,  kbs,  #kbs,  KBS,  KB3,  abcKBS#,  "
     ]
    }
   ],
   "source": [
    "li = [\"a12o\", \"abco\", \"aBo\", \"a123o\", \"kbs\", \"123kbs\", \"KBS\", \"KB3\", \"abcKBS123\"]\n",
    "for string in li:\n",
    "    print(re.sub(\"123\", \"#\", string), end = \",  \")"
   ]
  },
  {
   "cell_type": "markdown",
   "id": "97dd8218-a47b-4b15-ac77-324e75018c49",
   "metadata": {},
   "source": [
    "* 4. 문자들 중간에 있는 123 을 찾아서 바꾸기"
   ]
  },
  {
   "cell_type": "code",
   "execution_count": 105,
   "id": "912add0b-d778-4191-8e55-a9722b5560ae",
   "metadata": {
    "tags": []
   },
   "outputs": [
    {
     "name": "stdout",
     "output_type": "stream",
     "text": [
      "a12o,  abco,  aBo,  #,  kbs,  123kbs,  KBS,  KB3,  abcKBS123,  "
     ]
    }
   ],
   "source": [
    "li = [\"a12o\", \"abco\", \"aBo\", \"a123o\", \"kbs\", \"123kbs\", \"KBS\", \"KB3\", \"abcKBS123\"]\n",
    "for string in li:\n",
    "    print(re.sub(\".+123.+\", \"#\", string), end = \",  \")"
   ]
  },
  {
   "cell_type": "code",
   "execution_count": 91,
   "id": "5d62e68c-1288-4614-ad71-e4e188a25e87",
   "metadata": {},
   "outputs": [
    {
     "name": "stdout",
     "output_type": "stream",
     "text": [
      "a12o,  abco,  aBo,  #,  kbs,  123kbs,  KBS,  KB3,  abcKBS123,  "
     ]
    }
   ],
   "source": [
    "li = [\"a12o\", \"abco\", \"aBo\", \"a123o\", \"kbs\", \"123kbs\", \"KBS\", \"KB3\", \"abcKBS123\"]\n",
    "for string in li:\n",
    "    print(re.sub(\"\\S+123\\S+\", \"#\", string), end = \",  \")"
   ]
  },
  {
   "cell_type": "code",
   "execution_count": 92,
   "id": "54497ad1-bfda-434e-803a-eb270bf04007",
   "metadata": {},
   "outputs": [
    {
     "name": "stdout",
     "output_type": "stream",
     "text": [
      "a12o,  abco,  aBo,  #,  kbs,  123kbs,  KBS,  KB3,  abcKBS123,  "
     ]
    }
   ],
   "source": [
    "li = [\"a12o\", \"abco\", \"aBo\", \"a123o\", \"kbs\", \"123kbs\", \"KBS\", \"KB3\", \"abcKBS123\"]\n",
    "for string in li:\n",
    "    print(re.sub(\"\\D+123\\D+\", \"#\", string), end = \",  \")"
   ]
  },
  {
   "cell_type": "markdown",
   "id": "26f083af-568b-42aa-88c5-6529c2f51f59",
   "metadata": {},
   "source": [
    "* 5. 주민번호 뒷자리 바꾸기"
   ]
  },
  {
   "cell_type": "code",
   "execution_count": 98,
   "id": "baa5ba42-8cab-4197-8888-0d731bd2d264",
   "metadata": {
    "tags": []
   },
   "outputs": [
    {
     "name": "stdout",
     "output_type": "stream",
     "text": [
      "park 800905-******* Kim 700905-*******\n"
     ]
    }
   ],
   "source": [
    "string = \"park 800905-1049118 Kim 700905-1059119\"\n",
    "print(re.sub(\"\\d{7}\", \"*******\", string))"
   ]
  },
  {
   "cell_type": "code",
   "execution_count": 99,
   "id": "c01bdd2d-71d3-4ab0-bd29-d656c0200403",
   "metadata": {},
   "outputs": [
    {
     "name": "stdout",
     "output_type": "stream",
     "text": [
      "park 800905-******* Kim 700905-*******\n"
     ]
    }
   ],
   "source": [
    "string = \"park 800905-1049118 Kim 700905-1059119\"\n",
    "print(re.sub(\"-\\d{7}\", \"-*******\", string))"
   ]
  },
  {
   "cell_type": "code",
   "execution_count": 100,
   "id": "d31e030b-895e-4232-a888-86ec30a75cb9",
   "metadata": {},
   "outputs": [
    {
     "name": "stdout",
     "output_type": "stream",
     "text": [
      "park 800905-******* Kim 700905-*******\n"
     ]
    }
   ],
   "source": [
    "string = \"park 800905-1049118 Kim 700905-1059119\" \n",
    "print(re.sub(r'1.{6}','*******',string))"
   ]
  },
  {
   "cell_type": "code",
   "execution_count": null,
   "id": "f4d5122e-17c8-4dee-bbce-b6c991d5853a",
   "metadata": {},
   "outputs": [],
   "source": []
  }
 ],
 "metadata": {
  "kernelspec": {
   "display_name": "Python 3 (ipykernel)",
   "language": "python",
   "name": "python3"
  },
  "language_info": {
   "codemirror_mode": {
    "name": "ipython",
    "version": 3
   },
   "file_extension": ".py",
   "mimetype": "text/x-python",
   "name": "python",
   "nbconvert_exporter": "python",
   "pygments_lexer": "ipython3",
   "version": "3.10.6"
  }
 },
 "nbformat": 4,
 "nbformat_minor": 5
}
