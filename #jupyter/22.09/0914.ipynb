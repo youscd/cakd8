{
 "cells": [
  {
   "cell_type": "code",
   "execution_count": 1,
   "id": "15ee1df0-a7cf-4ad4-9587-4996bce5639a",
   "metadata": {},
   "outputs": [],
   "source": [
    "import time"
   ]
  },
  {
   "cell_type": "code",
   "execution_count": 2,
   "id": "136562f2-c69e-43f2-8a78-02b64d5840fb",
   "metadata": {},
   "outputs": [
    {
     "data": {
      "text/plain": [
       "'09/14/22'"
      ]
     },
     "execution_count": 2,
     "metadata": {},
     "output_type": "execute_result"
    }
   ],
   "source": [
    "time.localtime()\n",
    "time.strftime('%x', time.localtime())"
   ]
  },
  {
   "cell_type": "code",
   "execution_count": 3,
   "id": "f6e04eaf-ce93-4f17-9ba8-523ca922f6ed",
   "metadata": {},
   "outputs": [
    {
     "data": {
      "text/plain": [
       "[(1, 4), (2, 5), (3, 6)]"
      ]
     },
     "execution_count": 3,
     "metadata": {},
     "output_type": "execute_result"
    }
   ],
   "source": [
    "list(zip([1,2,3], [4,5,6]))"
   ]
  },
  {
   "cell_type": "code",
   "execution_count": 4,
   "id": "6f9044b5-e277-423e-a3fe-e270884fe52c",
   "metadata": {},
   "outputs": [
    {
     "data": {
      "text/plain": [
       "61943"
      ]
     },
     "execution_count": 4,
     "metadata": {},
     "output_type": "execute_result"
    }
   ],
   "source": [
    "int('0xf1f7', 16)"
   ]
  },
  {
   "cell_type": "code",
   "execution_count": 5,
   "id": "852d243a-3245-4b42-b478-d17cfe712985",
   "metadata": {},
   "outputs": [
    {
     "data": {
      "text/plain": [
       "['3개', '5개', '18개', '11개']"
      ]
     },
     "execution_count": 5,
     "metadata": {},
     "output_type": "execute_result"
    }
   ],
   "source": [
    "a = ['3', '5', '18', '11']\n",
    "list(map(lambda x: x + '개', a))"
   ]
  },
  {
   "cell_type": "code",
   "execution_count": 6,
   "id": "af851d1d-b92e-4f59-9763-6e3061aa5a73",
   "metadata": {},
   "outputs": [],
   "source": [
    "def str_(a):\n",
    "    return a + '개'"
   ]
  },
  {
   "cell_type": "code",
   "execution_count": 7,
   "id": "9872b3ea-0220-4249-be33-6140eed634ad",
   "metadata": {},
   "outputs": [
    {
     "data": {
      "text/plain": [
       "['3개', '5개', '18개', '11개']"
      ]
     },
     "execution_count": 7,
     "metadata": {},
     "output_type": "execute_result"
    }
   ],
   "source": [
    "a = ['3', '5', '18', '11']\n",
    "list(map(str_, a))"
   ]
  },
  {
   "cell_type": "code",
   "execution_count": 22,
   "id": "d9e5e431-eb5c-4cd2-a92f-052b2892f7de",
   "metadata": {},
   "outputs": [
    {
     "name": "stdout",
     "output_type": "stream",
     "text": [
      "[1, 3, 4, 13, 25, 28, 30, 36, 38, 42]\n"
     ]
    }
   ],
   "source": [
    "import random\n",
    "\n",
    "li = []\n",
    "i = 1\n",
    "while i < 11:\n",
    "    a = random.randint(1, 55)\n",
    "    if a in li:\n",
    "        continue\n",
    "    else:\n",
    "        li.append(a)\n",
    "    i += 1\n",
    "print(sorted(li))"
   ]
  },
  {
   "cell_type": "code",
   "execution_count": 26,
   "id": "3e4dda72-1b9e-48ee-9a77-f7c4a9de9215",
   "metadata": {},
   "outputs": [
    {
     "name": "stdout",
     "output_type": "stream",
     "text": [
      "[1, 3, 4, 13, 25, 28, 30, 36, 38, 42]\n"
     ]
    }
   ],
   "source": [
    "while len(li) < 10:\n",
    "    b = random.randint(1, 55)\n",
    "    if b not in li:\n",
    "        li.append(b)\n",
    "print(sorted(li))"
   ]
  },
  {
   "cell_type": "code",
   "execution_count": 27,
   "id": "c69af517-4575-445a-b5cf-1bea8f817a14",
   "metadata": {},
   "outputs": [
    {
     "name": "stdout",
     "output_type": "stream",
     "text": [
      "[3, 8, 9, 15, 19, 23, 44, 45, 53, 54]\n"
     ]
    }
   ],
   "source": [
    "lst = []\n",
    "while True:\n",
    "    lst.append(random.randint(1, 55))\n",
    "    lst = set(lst)\n",
    "    lst = list(lst)\n",
    "    if len(lst) == 10:\n",
    "        break\n",
    "print(sorted(lst))"
   ]
  },
  {
   "cell_type": "code",
   "execution_count": 31,
   "id": "2ce7fb75-20fa-4255-9d83-57a1826c135a",
   "metadata": {},
   "outputs": [
    {
     "data": {
      "text/plain": [
       "[4, 5, 2, 3, 1]"
      ]
     },
     "execution_count": 31,
     "metadata": {},
     "output_type": "execute_result"
    }
   ],
   "source": [
    "a = [1,2,3,4,5]\n",
    "random.shuffle(a)\n",
    "a"
   ]
  },
  {
   "cell_type": "code",
   "execution_count": 33,
   "id": "e5efe0d9-8302-49bb-b515-fc6d67667485",
   "metadata": {},
   "outputs": [
    {
     "data": {
      "text/plain": [
       "'09/14/22, 09:40:17'"
      ]
     },
     "execution_count": 33,
     "metadata": {},
     "output_type": "execute_result"
    }
   ],
   "source": [
    "time.strftime('%m/%d/%y, %I:%M:%S', time.localtime())"
   ]
  },
  {
   "cell_type": "code",
   "execution_count": 34,
   "id": "f851a644-41b7-4bfb-b026-0c3fcb4f05e6",
   "metadata": {},
   "outputs": [
    {
     "data": {
      "text/plain": [
       "'09/14/22, 09:41:19'"
      ]
     },
     "execution_count": 34,
     "metadata": {},
     "output_type": "execute_result"
    }
   ],
   "source": [
    "time.strftime('%x, %X', time.localtime())"
   ]
  },
  {
   "cell_type": "code",
   "execution_count": 36,
   "id": "b8794c4d-3859-40c7-93fa-0238ed13222d",
   "metadata": {},
   "outputs": [
    {
     "name": "stdout",
     "output_type": "stream",
     "text": [
      "[('Lee', 19, 'student'), ('Park', 22, 'teacher'), ('Jeon', 16, 'student'), ('Choi', 31, 'artist')]\n"
     ]
    }
   ],
   "source": [
    "name = ['Lee', 'Park', 'Jeon', 'Choi']\n",
    "age = [19, 22, 16, 31]\n",
    "job = ['student', 'teacher', 'student', 'artist']\n",
    "\n",
    "info = list(zip(name, age, job))\n",
    "print(info)"
   ]
  },
  {
   "cell_type": "code",
   "execution_count": 37,
   "id": "846308df-a8d9-4359-840c-74d3f358ae72",
   "metadata": {},
   "outputs": [],
   "source": [
    "import pandas as pd"
   ]
  },
  {
   "cell_type": "code",
   "execution_count": 39,
   "id": "74fbf863-8f3a-477f-bb76-e783164bb9cd",
   "metadata": {},
   "outputs": [
    {
     "data": {
      "text/html": [
       "<div>\n",
       "<style scoped>\n",
       "    .dataframe tbody tr th:only-of-type {\n",
       "        vertical-align: middle;\n",
       "    }\n",
       "\n",
       "    .dataframe tbody tr th {\n",
       "        vertical-align: top;\n",
       "    }\n",
       "\n",
       "    .dataframe thead th {\n",
       "        text-align: right;\n",
       "    }\n",
       "</style>\n",
       "<table border=\"1\" class=\"dataframe\">\n",
       "  <thead>\n",
       "    <tr style=\"text-align: right;\">\n",
       "      <th></th>\n",
       "      <th>메뉴</th>\n",
       "      <th>가격</th>\n",
       "      <th>종류</th>\n",
       "    </tr>\n",
       "  </thead>\n",
       "  <tbody>\n",
       "    <tr>\n",
       "      <th>0</th>\n",
       "      <td>야채김밥</td>\n",
       "      <td>2000</td>\n",
       "      <td>김밥</td>\n",
       "    </tr>\n",
       "    <tr>\n",
       "      <th>1</th>\n",
       "      <td>치즈김밥</td>\n",
       "      <td>2500</td>\n",
       "      <td>김밥</td>\n",
       "    </tr>\n",
       "    <tr>\n",
       "      <th>2</th>\n",
       "      <td>소고기김밥</td>\n",
       "      <td>3000</td>\n",
       "      <td>김밥</td>\n",
       "    </tr>\n",
       "    <tr>\n",
       "      <th>3</th>\n",
       "      <td>된장찌개</td>\n",
       "      <td>5000</td>\n",
       "      <td>찌개</td>\n",
       "    </tr>\n",
       "    <tr>\n",
       "      <th>4</th>\n",
       "      <td>순두부찌개</td>\n",
       "      <td>5500</td>\n",
       "      <td>찌개</td>\n",
       "    </tr>\n",
       "    <tr>\n",
       "      <th>5</th>\n",
       "      <td>뚝배기불고기</td>\n",
       "      <td>6000</td>\n",
       "      <td>덮밥</td>\n",
       "    </tr>\n",
       "    <tr>\n",
       "      <th>6</th>\n",
       "      <td>카레덮밥</td>\n",
       "      <td>5000</td>\n",
       "      <td>덮밥</td>\n",
       "    </tr>\n",
       "    <tr>\n",
       "      <th>7</th>\n",
       "      <td>제육덮밥</td>\n",
       "      <td>6000</td>\n",
       "      <td>덮밥</td>\n",
       "    </tr>\n",
       "    <tr>\n",
       "      <th>8</th>\n",
       "      <td>라면</td>\n",
       "      <td>3000</td>\n",
       "      <td>분식</td>\n",
       "    </tr>\n",
       "    <tr>\n",
       "      <th>9</th>\n",
       "      <td>떡국</td>\n",
       "      <td>4500</td>\n",
       "      <td>분식</td>\n",
       "    </tr>\n",
       "    <tr>\n",
       "      <th>10</th>\n",
       "      <td>돈가스</td>\n",
       "      <td>6000</td>\n",
       "      <td>분식</td>\n",
       "    </tr>\n",
       "  </tbody>\n",
       "</table>\n",
       "</div>"
      ],
      "text/plain": [
       "        메뉴    가격  종류\n",
       "0     야채김밥  2000  김밥\n",
       "1     치즈김밥  2500  김밥\n",
       "2    소고기김밥  3000  김밥\n",
       "3     된장찌개  5000  찌개\n",
       "4    순두부찌개  5500  찌개\n",
       "5   뚝배기불고기  6000  덮밥\n",
       "6     카레덮밥  5000  덮밥\n",
       "7     제육덮밥  6000  덮밥\n",
       "8       라면  3000  분식\n",
       "9       떡국  4500  분식\n",
       "10     돈가스  6000  분식"
      ]
     },
     "execution_count": 39,
     "metadata": {},
     "output_type": "execute_result"
    }
   ],
   "source": [
    "df = pd.read_csv(\"김밥천국메뉴.csv\")\n",
    "df"
   ]
  },
  {
   "cell_type": "code",
   "execution_count": 40,
   "id": "e2745f17-17be-4121-b16f-af5b4b5b9b45",
   "metadata": {},
   "outputs": [
    {
     "data": {
      "text/plain": [
       "0     김밥\n",
       "1     김밥\n",
       "2     김밥\n",
       "3     찌개\n",
       "4     찌개\n",
       "5     덮밥\n",
       "6     덮밥\n",
       "7     덮밥\n",
       "8     분식\n",
       "9     분식\n",
       "10    분식\n",
       "Name: 종류, dtype: object"
      ]
     },
     "execution_count": 40,
     "metadata": {},
     "output_type": "execute_result"
    }
   ],
   "source": [
    "df.메뉴\n",
    "df.가격\n",
    "df.종류"
   ]
  },
  {
   "cell_type": "code",
   "execution_count": 46,
   "id": "41299f11-6cb0-4547-bb06-89bce9d0433b",
   "metadata": {},
   "outputs": [
    {
     "data": {
      "text/plain": [
       "4      순두부찌개\n",
       "5     뚝배기불고기\n",
       "7       제육덮밥\n",
       "10       돈가스\n",
       "Name: 메뉴, dtype: object"
      ]
     },
     "execution_count": 46,
     "metadata": {},
     "output_type": "execute_result"
    }
   ],
   "source": [
    "df[df.가격 > 5000].메뉴"
   ]
  },
  {
   "cell_type": "code",
   "execution_count": 48,
   "id": "0bf8bb90-7c83-44e7-8042-2f1759188e98",
   "metadata": {},
   "outputs": [
    {
     "data": {
      "text/plain": [
       "0    2000\n",
       "1    2500\n",
       "2    3000\n",
       "Name: 가격, dtype: int64"
      ]
     },
     "execution_count": 48,
     "metadata": {},
     "output_type": "execute_result"
    }
   ],
   "source": [
    "df[df.종류 == \"김밥\"].가격"
   ]
  },
  {
   "cell_type": "code",
   "execution_count": 49,
   "id": "5a74fce2-306c-4f26-9c2b-68bd8a135cc4",
   "metadata": {},
   "outputs": [],
   "source": [
    "import numpy as np"
   ]
  },
  {
   "cell_type": "code",
   "execution_count": 50,
   "id": "1bfc9032-976f-4d80-8c46-f9bae245b9ee",
   "metadata": {},
   "outputs": [
    {
     "data": {
      "text/plain": [
       "2500.0"
      ]
     },
     "execution_count": 50,
     "metadata": {},
     "output_type": "execute_result"
    }
   ],
   "source": [
    "np.mean(df[df.종류 == \"김밥\"].가격)"
   ]
  },
  {
   "cell_type": "code",
   "execution_count": 54,
   "id": "8649fb16-66a4-41da-9cc2-5fe241e2930d",
   "metadata": {},
   "outputs": [
    {
     "data": {
      "text/plain": [
       "['된장찌개', '순두부찌개', '뚝배기불고기', '카레덮밥', '제육덮밥', '돈가스']"
      ]
     },
     "execution_count": 54,
     "metadata": {},
     "output_type": "execute_result"
    }
   ],
   "source": [
    "list(df[df.가격 >= 5000].메뉴)"
   ]
  },
  {
   "cell_type": "code",
   "execution_count": 60,
   "id": "108d541d-f33a-4776-8238-270d79780f5f",
   "metadata": {},
   "outputs": [
    {
     "name": "stdout",
     "output_type": "stream",
     "text": [
      "된장찌개\n",
      "순두부찌개\n",
      "뚝배기불고기\n",
      "카레덮밥\n",
      "제육덮밥\n",
      "돈가스\n",
      "김밥 가격 평균: 2500.0 원\n"
     ]
    }
   ],
   "source": [
    "sum = 0\n",
    "count = 0\n",
    "\n",
    "for menu, price, kind in zip(df.메뉴, df.가격, df.종류):\n",
    "    if price >= 5000:\n",
    "        print(menu)\n",
    "    if kind == \"김밥\":\n",
    "        sum += price\n",
    "        count += 1\n",
    "        \n",
    "print(\"김밥 가격 평균:\", (sum/count), \"원\")"
   ]
  },
  {
   "cell_type": "code",
   "execution_count": null,
   "id": "494eeab0-8f65-4cc1-a48c-b8f48dc10b15",
   "metadata": {},
   "outputs": [],
   "source": []
  }
 ],
 "metadata": {
  "kernelspec": {
   "display_name": "Python 3 (ipykernel)",
   "language": "python",
   "name": "python3"
  },
  "language_info": {
   "codemirror_mode": {
    "name": "ipython",
    "version": 3
   },
   "file_extension": ".py",
   "mimetype": "text/x-python",
   "name": "python",
   "nbconvert_exporter": "python",
   "pygments_lexer": "ipython3",
   "version": "3.10.6"
  }
 },
 "nbformat": 4,
 "nbformat_minor": 5
}
