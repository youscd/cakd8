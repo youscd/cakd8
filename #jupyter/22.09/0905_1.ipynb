{
 "cells": [
  {
   "cell_type": "markdown",
   "id": "67d29be0-11f0-4c57-8f3e-ec0e2fbfcd22",
   "metadata": {},
   "source": [
    "#### 연습문제"
   ]
  },
  {
   "cell_type": "code",
   "execution_count": 3,
   "id": "e0b88bda-197f-4e12-bfb9-bdb4962423e5",
   "metadata": {},
   "outputs": [
    {
     "name": "stdout",
     "output_type": "stream",
     "text": [
      "shirt\n"
     ]
    }
   ],
   "source": [
    "#1\n",
    "a = \"Life is too short, you need python\"\n",
    "\n",
    "if \"wife\" in a:\n",
    "    print(\"wife\")\n",
    "elif \"python\" in a and \"you\" not in a:\n",
    "    print(\"python\")\n",
    "elif \"shirt\" not in a:\n",
    "    print(\"shirt\")\n",
    "elif \"need\" in a:\n",
    "    print(\"need\")\n",
    "else:\n",
    "    print(\"none\")"
   ]
  },
  {
   "cell_type": "code",
   "execution_count": 68,
   "id": "e39874e5-9b29-4782-ae24-dd4393a93dd6",
   "metadata": {},
   "outputs": [
    {
     "name": "stdout",
     "output_type": "stream",
     "text": [
      "166833\n"
     ]
    }
   ],
   "source": [
    "#2\n",
    "i = 1\n",
    "sum = 0\n",
    "while i <= 1000:\n",
    "    if i%3 == 0:\n",
    "        sum += i\n",
    "        #print(sum)\n",
    "    i += 1\n",
    "print(sum)"
   ]
  },
  {
   "cell_type": "code",
   "execution_count": 71,
   "id": "dce18261-02c7-4fd7-a0f0-9a7987f0f151",
   "metadata": {},
   "outputs": [
    {
     "name": "stdout",
     "output_type": "stream",
     "text": [
      "*\n",
      "**\n",
      "***\n",
      "****\n",
      "*****\n"
     ]
    }
   ],
   "source": [
    "#3\n",
    "i = 1\n",
    "while i <= 5:\n",
    "    print(i*\"*\")\n",
    "    i += 1"
   ]
  },
  {
   "cell_type": "code",
   "execution_count": 138,
   "id": "5d1a4017-cab9-4662-b9b2-ed421649ec9c",
   "metadata": {},
   "outputs": [
    {
     "name": "stdout",
     "output_type": "stream",
     "text": [
      "*****\n",
      "****\n",
      "***\n",
      "**\n",
      "*\n"
     ]
    }
   ],
   "source": [
    "#3\n",
    "i = 6\n",
    "while True:\n",
    "    i -= 1\n",
    "    if i == 0:\n",
    "        break\n",
    "    print(i * \"*\")"
   ]
  },
  {
   "cell_type": "code",
   "execution_count": 129,
   "id": "c1a36d4a-24f3-45ac-9fb1-4ce39eaf25a9",
   "metadata": {},
   "outputs": [
    {
     "name": "stdout",
     "output_type": "stream",
     "text": [
      "1, 2, 3, 4, 5, 6, 7, 8, 9, 10, 11, 12, 13, 14, 15, 16, 17, 18, 19, 20, 21, 22, 23, 24, 25, 26, 27, 28, 29, 30, 31, 32, 33, 34, 35, 36, 37, 38, 39, 40, 41, 42, 43, 44, 45, 46, 47, 48, 49, 50, 51, 52, 53, 54, 55, 56, 57, 58, 59, 60, 61, 62, 63, 64, 65, 66, 67, 68, 69, 70, 71, 72, 73, 74, 75, 76, 77, 78, 79, 80, 81, 82, 83, 84, 85, 86, 87, 88, 89, 90, 91, 92, 93, 94, 95, 96, 97, 98, 99, 100, "
     ]
    }
   ],
   "source": [
    "#4\n",
    "for i in range(1, 101):\n",
    "    print(i, end = \", \")"
   ]
  },
  {
   "cell_type": "code",
   "execution_count": 134,
   "id": "73440f9e-a384-4fbe-95d3-c95b4baa54c8",
   "metadata": {},
   "outputs": [
    {
     "data": {
      "text/plain": [
       "79.0"
      ]
     },
     "execution_count": 134,
     "metadata": {},
     "output_type": "execute_result"
    }
   ],
   "source": [
    "#5\n",
    "score = [70, 60, 55, 75, 95, 90, 80, 80, 85, 100]\n",
    "total = 0\n",
    "for i in score:\n",
    "    total += i\n",
    "average = total/len(score)\n",
    "average"
   ]
  },
  {
   "cell_type": "code",
   "execution_count": 135,
   "id": "2d0da558-5da3-4eb6-b245-c23d81b87dae",
   "metadata": {},
   "outputs": [
    {
     "data": {
      "text/plain": [
       "[2, 6, 10]"
      ]
     },
     "execution_count": 135,
     "metadata": {},
     "output_type": "execute_result"
    }
   ],
   "source": [
    "#6\n",
    "numbers = [1, 2, 3, 4, 5]\n",
    "result = []\n",
    "for n in numbers:\n",
    "    if n % 2 == 1:\n",
    "        result.append(n*2)\n",
    "result        "
   ]
  },
  {
   "cell_type": "code",
   "execution_count": 136,
   "id": "dacde633-ae42-4b6f-8ae9-e43373b7a381",
   "metadata": {},
   "outputs": [
    {
     "data": {
      "text/plain": [
       "[2, 6, 10]"
      ]
     },
     "execution_count": 136,
     "metadata": {},
     "output_type": "execute_result"
    }
   ],
   "source": [
    "numbers = [1, 2, 3, 4, 5]\n",
    "[n*2 for n in numbers if n%2 == 1]"
   ]
  },
  {
   "cell_type": "code",
   "execution_count": 139,
   "id": "fd813ae0-f2a3-4da8-9eb2-88d4579bbc48",
   "metadata": {},
   "outputs": [
    {
     "data": {
      "text/plain": [
       "[6,\n",
       " 12,\n",
       " 18,\n",
       " 24,\n",
       " 30,\n",
       " 36,\n",
       " 42,\n",
       " 48,\n",
       " 54,\n",
       " 60,\n",
       " 66,\n",
       " 72,\n",
       " 78,\n",
       " 84,\n",
       " 90,\n",
       " 96,\n",
       " 102,\n",
       " 108,\n",
       " 114,\n",
       " 120,\n",
       " 126,\n",
       " 132,\n",
       " 138,\n",
       " 144,\n",
       " 150]"
      ]
     },
     "execution_count": 139,
     "metadata": {},
     "output_type": "execute_result"
    }
   ],
   "source": [
    "[n*3 for n in range(1, 51) if n%2 == 0]"
   ]
  },
  {
   "cell_type": "code",
   "execution_count": 146,
   "id": "886e7d97-33e6-4b33-90f6-57dc684bf35d",
   "metadata": {},
   "outputs": [
    {
     "data": {
      "text/plain": [
       "85.0"
      ]
     },
     "execution_count": 146,
     "metadata": {},
     "output_type": "execute_result"
    }
   ],
   "source": [
    "Aclass = {\"철수\":90, \"영희\" : 95, \"길동\":85, \"영우\":80, \"준호\":75}\n",
    "Aclass.values()\n",
    "score = list(Aclass.values())\n",
    "score\n",
    "\n",
    "total = 0\n",
    "for i in score:\n",
    "    total += i\n",
    "average = total/len(score)\n",
    "average"
   ]
  },
  {
   "cell_type": "code",
   "execution_count": null,
   "id": "dab64936-6ea7-40ca-988e-111354aebb21",
   "metadata": {},
   "outputs": [],
   "source": []
  },
  {
   "cell_type": "code",
   "execution_count": null,
   "id": "7466717b-c2eb-45ee-bec6-cab8eed7c09a",
   "metadata": {},
   "outputs": [],
   "source": []
  },
  {
   "cell_type": "markdown",
   "id": "34ae4e84-29b1-474b-8050-140658731902",
   "metadata": {},
   "source": [
    "# 5. 함수\n",
    "```\n",
    "def 함수이름( , ) :\n",
    "    실행할 문장\n",
    "    return 변수\n",
    "```"
   ]
  },
  {
   "cell_type": "markdown",
   "id": "5123c575-463b-47b9-b4d6-74684c4d79f3",
   "metadata": {},
   "source": [
    "* 입력값이 2개인 경우"
   ]
  },
  {
   "cell_type": "code",
   "execution_count": 18,
   "id": "4d67a54b-b878-4499-951f-4ae096b520f7",
   "metadata": {},
   "outputs": [],
   "source": [
    "def add(a,b):\n",
    "    c = a + b\n",
    "    return c    #print()와는 다르다"
   ]
  },
  {
   "cell_type": "code",
   "execution_count": 5,
   "id": "130d0774-5f23-487d-b6ca-7003b7bf15c3",
   "metadata": {},
   "outputs": [
    {
     "data": {
      "text/plain": [
       "3"
      ]
     },
     "execution_count": 5,
     "metadata": {},
     "output_type": "execute_result"
    }
   ],
   "source": [
    "add(1,2)"
   ]
  },
  {
   "cell_type": "code",
   "execution_count": 7,
   "id": "ec39f948-ae97-40b1-8b74-b433f0877a63",
   "metadata": {},
   "outputs": [],
   "source": [
    "def add(a,b):\n",
    "    c = a + b\n",
    "    print(c)"
   ]
  },
  {
   "cell_type": "code",
   "execution_count": 10,
   "id": "847ac18e-51fb-4e05-a7f0-a276f2d740de",
   "metadata": {},
   "outputs": [
    {
     "data": {
      "text/plain": [
       "30"
      ]
     },
     "execution_count": 10,
     "metadata": {},
     "output_type": "execute_result"
    }
   ],
   "source": [
    "add(10,20)"
   ]
  },
  {
   "cell_type": "markdown",
   "id": "b8ebecc0-7647-4826-9006-717930a6fc1a",
   "metadata": {},
   "source": [
    "* 입력값이 한개인 경우"
   ]
  },
  {
   "cell_type": "code",
   "execution_count": 21,
   "id": "eab9e497-6f68-495f-8b52-d1f482487884",
   "metadata": {},
   "outputs": [],
   "source": [
    "#입력받은 것을 2배해서 내놓는 함수 twice\n",
    "def twice(a):\n",
    "    b = a*2\n",
    "    return b"
   ]
  },
  {
   "cell_type": "code",
   "execution_count": 14,
   "id": "843fae63-74ee-4648-b841-7ebd7ae85df9",
   "metadata": {},
   "outputs": [
    {
     "data": {
      "text/plain": [
       "8"
      ]
     },
     "execution_count": 14,
     "metadata": {},
     "output_type": "execute_result"
    }
   ],
   "source": [
    "twice(4)"
   ]
  },
  {
   "cell_type": "code",
   "execution_count": 15,
   "id": "605d20a5-9a8a-4c0b-a72e-762b16409e06",
   "metadata": {},
   "outputs": [],
   "source": [
    "def twice(a):\n",
    "    return a*2"
   ]
  },
  {
   "cell_type": "code",
   "execution_count": 16,
   "id": "ad880a56-314f-4dee-9ce5-e9163d8bf816",
   "metadata": {},
   "outputs": [
    {
     "data": {
      "text/plain": [
       "8"
      ]
     },
     "execution_count": 16,
     "metadata": {},
     "output_type": "execute_result"
    }
   ],
   "source": [
    "twice(4)"
   ]
  },
  {
   "cell_type": "code",
   "execution_count": 125,
   "id": "04930bee-01a3-43df-95e0-d1b1bb827fe3",
   "metadata": {},
   "outputs": [],
   "source": [
    "#입력값이 홀수이면 2배, 짝수이면 나누기 2\n",
    "def odd_even(a):\n",
    "    if a%2 == 1:\n",
    "        return a*2\n",
    "    else:\n",
    "        return a/2    #return이 실행되면 함수가 끝난다"
   ]
  },
  {
   "cell_type": "code",
   "execution_count": 24,
   "id": "31bb396a-38fd-470b-b56a-30865d89746c",
   "metadata": {},
   "outputs": [
    {
     "data": {
      "text/plain": [
       "10"
      ]
     },
     "execution_count": 24,
     "metadata": {},
     "output_type": "execute_result"
    }
   ],
   "source": [
    "odd_even(5)"
   ]
  },
  {
   "cell_type": "markdown",
   "id": "7329aff7-1d15-47b8-9ca8-788435683027",
   "metadata": {},
   "source": [
    "* 입력값이 없는 경우"
   ]
  },
  {
   "cell_type": "code",
   "execution_count": 19,
   "id": "82ca82bd-510e-4fc4-84f9-e81672e47d4e",
   "metadata": {},
   "outputs": [],
   "source": [
    "def add():\n",
    "    a = 10\n",
    "    b = 20\n",
    "    return a + b"
   ]
  },
  {
   "cell_type": "code",
   "execution_count": 20,
   "id": "5d3dcf7a-91c2-48e6-a237-105b7e911e1f",
   "metadata": {},
   "outputs": [
    {
     "data": {
      "text/plain": [
       "30"
      ]
     },
     "execution_count": 20,
     "metadata": {},
     "output_type": "execute_result"
    }
   ],
   "source": [
    "add()"
   ]
  },
  {
   "cell_type": "markdown",
   "id": "4c943f1e-3e52-4ee4-b9db-eb5abaecb820",
   "metadata": {},
   "source": [
    "* 리턴값이 '2개 이상'일 수도 있다 (여러개를 동시에 리턴하는 것이 가능하다)"
   ]
  },
  {
   "cell_type": "code",
   "execution_count": 25,
   "id": "b04b5bbd-e342-481c-9690-a5ae2cc3e4b9",
   "metadata": {},
   "outputs": [],
   "source": [
    "def add():\n",
    "    a = 10\n",
    "    b = 20\n",
    "    return a + b, a - b"
   ]
  },
  {
   "cell_type": "code",
   "execution_count": 26,
   "id": "7e70ba73-f5a4-4c8d-a8e6-2fef27fe923e",
   "metadata": {},
   "outputs": [
    {
     "data": {
      "text/plain": [
       "(30, -10)"
      ]
     },
     "execution_count": 26,
     "metadata": {},
     "output_type": "execute_result"
    }
   ],
   "source": [
    "add()"
   ]
  },
  {
   "cell_type": "code",
   "execution_count": 29,
   "id": "2b792b4d-cdaf-4ba1-a570-2f6104ffc371",
   "metadata": {},
   "outputs": [
    {
     "name": "stdout",
     "output_type": "stream",
     "text": [
      "(30, -10)\n",
      "30\n",
      "-10\n"
     ]
    }
   ],
   "source": [
    "a = add()\n",
    "print(a)\n",
    "\n",
    "c, d = add()\n",
    "print(c)\n",
    "print(d)"
   ]
  },
  {
   "cell_type": "markdown",
   "id": "a0eea147-1536-490c-b5e6-561c711f4086",
   "metadata": {},
   "source": [
    "* 기본값(디폴트)이 있는 경우"
   ]
  },
  {
   "cell_type": "code",
   "execution_count": 35,
   "id": "1a0f92b9-5412-43d1-80a5-b96297948535",
   "metadata": {},
   "outputs": [],
   "source": [
    "def add(a, b, c = 100):    #a,b,c의 기본값이 100\n",
    "    result = a+b+c\n",
    "    return result"
   ]
  },
  {
   "cell_type": "code",
   "execution_count": 36,
   "id": "a31c445e-e4d3-45dc-bb89-ec562c03c707",
   "metadata": {},
   "outputs": [
    {
     "ename": "TypeError",
     "evalue": "add() missing 1 required positional argument: 'b'",
     "output_type": "error",
     "traceback": [
      "\u001b[1;31m---------------------------------------------------------------------------\u001b[0m",
      "\u001b[1;31mTypeError\u001b[0m                                 Traceback (most recent call last)",
      "Input \u001b[1;32mIn [36]\u001b[0m, in \u001b[0;36m<cell line: 1>\u001b[1;34m()\u001b[0m\n\u001b[1;32m----> 1\u001b[0m \u001b[43madd\u001b[49m\u001b[43m(\u001b[49m\u001b[38;5;241;43m1\u001b[39;49m\u001b[43m)\u001b[49m\n",
      "\u001b[1;31mTypeError\u001b[0m: add() missing 1 required positional argument: 'b'"
     ]
    }
   ],
   "source": [
    "add(1)"
   ]
  },
  {
   "cell_type": "code",
   "execution_count": 33,
   "id": "40d6b7c8-8b9d-49ff-8d66-3b421abeb2b5",
   "metadata": {},
   "outputs": [
    {
     "data": {
      "text/plain": [
       "103"
      ]
     },
     "execution_count": 33,
     "metadata": {},
     "output_type": "execute_result"
    }
   ],
   "source": [
    "add(1, 2)"
   ]
  },
  {
   "cell_type": "code",
   "execution_count": 34,
   "id": "e7daa70c-3c5e-49ca-9a57-3103cd779ebe",
   "metadata": {},
   "outputs": [
    {
     "data": {
      "text/plain": [
       "6"
      ]
     },
     "execution_count": 34,
     "metadata": {},
     "output_type": "execute_result"
    }
   ],
   "source": [
    "add(1, 2, 3)"
   ]
  },
  {
   "cell_type": "code",
   "execution_count": 38,
   "id": "b4b4a3a1-8a32-42bc-ac1a-e4b643345e96",
   "metadata": {},
   "outputs": [
    {
     "data": {
      "text/plain": [
       "6"
      ]
     },
     "execution_count": 38,
     "metadata": {},
     "output_type": "execute_result"
    }
   ],
   "source": [
    "add(2, 1, 3)\n",
    "add(c=3, b=2, a=1)  #변수 하나씩 지정을 한다면, 입력하는 순서를 꼭 지킬 필요는 없다"
   ]
  },
  {
   "cell_type": "code",
   "execution_count": 40,
   "id": "d64b54a9-94dc-4cbe-b9d4-7442e4bca1ee",
   "metadata": {},
   "outputs": [
    {
     "ename": "SyntaxError",
     "evalue": "non-default argument follows default argument (1779769068.py, line 2)",
     "output_type": "error",
     "traceback": [
      "\u001b[1;36m  Input \u001b[1;32mIn [40]\u001b[1;36m\u001b[0m\n\u001b[1;33m    def add(a, b = 10, c):\u001b[0m\n\u001b[1;37m                       ^\u001b[0m\n\u001b[1;31mSyntaxError\u001b[0m\u001b[1;31m:\u001b[0m non-default argument follows default argument\n"
     ]
    }
   ],
   "source": [
    "#기본값은 항상 맨 마지막 값에 정의된다\n",
    "def add(a, b = 10, c):\n",
    "    result = a+b+c\n",
    "    return result"
   ]
  },
  {
   "cell_type": "markdown",
   "id": "d27eab63-ef95-44b4-aaf0-72eab74a5f54",
   "metadata": {},
   "source": [
    "* 입력값이 여러개인 경우"
   ]
  },
  {
   "cell_type": "code",
   "execution_count": 42,
   "id": "c4806925-26fb-46eb-9f16-f3da067b1503",
   "metadata": {},
   "outputs": [],
   "source": [
    "def add(*a):\n",
    "    return a"
   ]
  },
  {
   "cell_type": "code",
   "execution_count": 43,
   "id": "8e2d74f9-1292-4f1f-a110-38cc63f09e54",
   "metadata": {},
   "outputs": [
    {
     "data": {
      "text/plain": [
       "(1, 2, 3, 4)"
      ]
     },
     "execution_count": 43,
     "metadata": {},
     "output_type": "execute_result"
    }
   ],
   "source": [
    "add(1,2,3,4)"
   ]
  },
  {
   "cell_type": "code",
   "execution_count": 47,
   "id": "de563be9-6afc-4980-926d-e1f8c2af4d4f",
   "metadata": {},
   "outputs": [],
   "source": [
    "def add(*args):\n",
    "    sum = 0\n",
    "    for i in args:\n",
    "        sum += i\n",
    "    return sum"
   ]
  },
  {
   "cell_type": "code",
   "execution_count": 48,
   "id": "6de88755-a937-4bc3-a614-6f7ff13ae139",
   "metadata": {},
   "outputs": [
    {
     "data": {
      "text/plain": [
       "10"
      ]
     },
     "execution_count": 48,
     "metadata": {},
     "output_type": "execute_result"
    }
   ],
   "source": [
    "add(1, 2, 3, 4)"
   ]
  },
  {
   "cell_type": "code",
   "execution_count": 54,
   "id": "b36390f2-0b42-4efe-a0c8-29b9c8763a3f",
   "metadata": {},
   "outputs": [
    {
     "name": "stdin",
     "output_type": "stream",
     "text": [
      "숫자입력:  10\n"
     ]
    },
    {
     "name": "stdout",
     "output_type": "stream",
     "text": [
      "55\n"
     ]
    }
   ],
   "source": [
    "#1부터 입력받은 수 까지의 합\n",
    "num = int(input(\"숫자입력: \"))\n",
    "sum = 0\n",
    "for i in range(num+1):\n",
    "    sum += i\n",
    "print(sum)"
   ]
  },
  {
   "cell_type": "code",
   "execution_count": 55,
   "id": "9f911e97-32be-4611-8f58-5a1d2d6928bc",
   "metadata": {},
   "outputs": [],
   "source": [
    "def add(num):\n",
    "    sum = 0\n",
    "    for i in range(num+1):\n",
    "        sum += i\n",
    "    return sum"
   ]
  },
  {
   "cell_type": "code",
   "execution_count": 56,
   "id": "dd57c14d-5cca-4f28-ba71-7e8f60b558f9",
   "metadata": {},
   "outputs": [
    {
     "data": {
      "text/plain": [
       "55"
      ]
     },
     "execution_count": 56,
     "metadata": {},
     "output_type": "execute_result"
    }
   ],
   "source": [
    "add(10)"
   ]
  },
  {
   "cell_type": "code",
   "execution_count": 65,
   "id": "3fbc4ec0-1671-4cda-b446-693349658ce4",
   "metadata": {},
   "outputs": [],
   "source": [
    "#숫자 2개를 입력받아서 그 두 숫자 사이의 값들의 합 구하기\n",
    "def two_sum(a, b):\n",
    "    sum = 0\n",
    "    for i in range(a, b+1):\n",
    "        sum += i\n",
    "    return sum     #input()을 쓰지 않아도 입력값을 받을 수 있다"
   ]
  },
  {
   "cell_type": "code",
   "execution_count": 64,
   "id": "069fa7eb-2307-45ec-8c54-f14626a11fd4",
   "metadata": {},
   "outputs": [
    {
     "data": {
      "text/plain": [
       "55"
      ]
     },
     "execution_count": 64,
     "metadata": {},
     "output_type": "execute_result"
    }
   ],
   "source": [
    "two_sum(1, 10)"
   ]
  },
  {
   "cell_type": "markdown",
   "id": "337d8e3e-7cf6-4a26-acf8-ef284844f174",
   "metadata": {},
   "source": [
    "* return과 print의 차이"
   ]
  },
  {
   "cell_type": "code",
   "execution_count": 75,
   "id": "04af6d47-283e-42dd-aafd-2b6b908bcffe",
   "metadata": {},
   "outputs": [],
   "source": [
    "def func_r(a):\n",
    "    return(a*2)\n",
    "\n",
    "def func_p(a):\n",
    "    print(a*2)"
   ]
  },
  {
   "cell_type": "code",
   "execution_count": 76,
   "id": "362b240c-3918-4da2-82d4-868d46e794a4",
   "metadata": {},
   "outputs": [
    {
     "data": {
      "text/plain": [
       "6"
      ]
     },
     "execution_count": 76,
     "metadata": {},
     "output_type": "execute_result"
    }
   ],
   "source": [
    "func_r(3)"
   ]
  },
  {
   "cell_type": "code",
   "execution_count": 77,
   "id": "c42dc90c-f654-41bc-b3b9-ba7fde6b86d2",
   "metadata": {},
   "outputs": [
    {
     "name": "stdout",
     "output_type": "stream",
     "text": [
      "6\n"
     ]
    }
   ],
   "source": [
    "func_p(3)"
   ]
  },
  {
   "cell_type": "code",
   "execution_count": 81,
   "id": "3929570e-80a8-4f92-b469-bf2bd6b88648",
   "metadata": {},
   "outputs": [
    {
     "name": "stdout",
     "output_type": "stream",
     "text": [
      "6\n"
     ]
    },
    {
     "data": {
      "text/plain": [
       "3.0"
      ]
     },
     "execution_count": 81,
     "metadata": {},
     "output_type": "execute_result"
    }
   ],
   "source": [
    "b = func_r(3)\n",
    "print(b)\n",
    "b/2"
   ]
  },
  {
   "cell_type": "code",
   "execution_count": 83,
   "id": "43ff58cc-23d2-4b4c-83e5-f44b21f3c782",
   "metadata": {},
   "outputs": [
    {
     "name": "stdout",
     "output_type": "stream",
     "text": [
      "6\n",
      "...\n",
      "None\n"
     ]
    },
    {
     "ename": "TypeError",
     "evalue": "unsupported operand type(s) for /: 'NoneType' and 'int'",
     "output_type": "error",
     "traceback": [
      "\u001b[1;31m---------------------------------------------------------------------------\u001b[0m",
      "\u001b[1;31mTypeError\u001b[0m                                 Traceback (most recent call last)",
      "Input \u001b[1;32mIn [83]\u001b[0m, in \u001b[0;36m<cell line: 4>\u001b[1;34m()\u001b[0m\n\u001b[0;32m      2\u001b[0m \u001b[38;5;28mprint\u001b[39m(\u001b[38;5;124m\"\u001b[39m\u001b[38;5;124m...\u001b[39m\u001b[38;5;124m\"\u001b[39m)\n\u001b[0;32m      3\u001b[0m \u001b[38;5;28mprint\u001b[39m(b)   \u001b[38;5;66;03m#print는 단지 \u001b[39;00m\n\u001b[1;32m----> 4\u001b[0m \u001b[43mb\u001b[49m\u001b[38;5;241;43m/\u001b[39;49m\u001b[38;5;241;43m2\u001b[39;49m\n",
      "\u001b[1;31mTypeError\u001b[0m: unsupported operand type(s) for /: 'NoneType' and 'int'"
     ]
    }
   ],
   "source": [
    "b = func_p(3)\n",
    "print(\"...\")\n",
    "print(b)\n",
    "b/2\n",
    "#print는 단지 값을 '출력'만해준다, 보여주기만 한다\n",
    "#retrun은 값을 받는다"
   ]
  },
  {
   "cell_type": "code",
   "execution_count": 80,
   "id": "44416279-0a6e-4307-a535-98b558a33b0c",
   "metadata": {},
   "outputs": [
    {
     "data": {
      "text/plain": [
       "NoneType"
      ]
     },
     "execution_count": 80,
     "metadata": {},
     "output_type": "execute_result"
    }
   ],
   "source": [
    "type(b)"
   ]
  },
  {
   "cell_type": "code",
   "execution_count": 87,
   "id": "61a3ed53-4420-4cf5-b868-b2247717c820",
   "metadata": {},
   "outputs": [],
   "source": [
    "def kw_test(**kwargs):\n",
    "    print(kwargs)"
   ]
  },
  {
   "cell_type": "code",
   "execution_count": 88,
   "id": "80715a7a-94e1-43f9-991e-ac995878685e",
   "metadata": {},
   "outputs": [
    {
     "name": "stdout",
     "output_type": "stream",
     "text": [
      "{'a': 1, 'b': 2}\n"
     ]
    }
   ],
   "source": [
    "kw_test(a=1, b=2)"
   ]
  },
  {
   "cell_type": "code",
   "execution_count": 89,
   "id": "ad417e9a-7975-4252-9056-15a48c2733fc",
   "metadata": {},
   "outputs": [],
   "source": [
    "def kw_test(*kwargs):\n",
    "    print(kwargs)"
   ]
  },
  {
   "cell_type": "code",
   "execution_count": 90,
   "id": "7c44052c-f43d-4341-84bd-45f0464c3173",
   "metadata": {},
   "outputs": [
    {
     "name": "stdout",
     "output_type": "stream",
     "text": [
      "(1, 2, 3, 4)\n"
     ]
    }
   ],
   "source": [
    "kw_test(1,2,3,4)"
   ]
  },
  {
   "cell_type": "code",
   "execution_count": 95,
   "id": "ade0a26a-1e55-41dc-af61-471f05b947e2",
   "metadata": {},
   "outputs": [],
   "source": [
    "def myself(name, age):\n",
    "    print(f\"나의 이름은 {name}이고, 나이는 {age}세 입니다.\")"
   ]
  },
  {
   "cell_type": "code",
   "execution_count": 96,
   "id": "78431be4-7783-45c0-b6a9-7d66725debb4",
   "metadata": {},
   "outputs": [
    {
     "name": "stdout",
     "output_type": "stream",
     "text": [
      "나의 이름은 이름이고, 나이는 10세 입니다.\n"
     ]
    }
   ],
   "source": [
    "myself(\"이름\", 10)"
   ]
  },
  {
   "cell_type": "code",
   "execution_count": 97,
   "id": "7e051c92-8dbd-4ad2-a137-9e863b5f1445",
   "metadata": {},
   "outputs": [],
   "source": [
    "def myself(name, age):\n",
    "    return f\"나의 이름은 {name}이고, 나이는 {age}세 입니다.\""
   ]
  },
  {
   "cell_type": "code",
   "execution_count": 98,
   "id": "f5307d3d-d568-48b4-af21-5dfd07ce191b",
   "metadata": {},
   "outputs": [
    {
     "data": {
      "text/plain": [
       "'나의 이름은 김철수이고, 나이는 14세 입니다.'"
      ]
     },
     "execution_count": 98,
     "metadata": {},
     "output_type": "execute_result"
    }
   ],
   "source": [
    "myself(\"김철수\", 14)"
   ]
  },
  {
   "cell_type": "code",
   "execution_count": 103,
   "id": "398ed7f0-1e1c-4c61-af5f-019012046b12",
   "metadata": {},
   "outputs": [],
   "source": [
    "del(c)"
   ]
  },
  {
   "cell_type": "code",
   "execution_count": 107,
   "id": "0ad4010f-c8f8-4835-8861-035c7870c8b9",
   "metadata": {},
   "outputs": [
    {
     "ename": "NameError",
     "evalue": "name 'c' is not defined",
     "output_type": "error",
     "traceback": [
      "\u001b[1;31m---------------------------------------------------------------------------\u001b[0m",
      "\u001b[1;31mNameError\u001b[0m                                 Traceback (most recent call last)",
      "Input \u001b[1;32mIn [107]\u001b[0m, in \u001b[0;36m<cell line: 6>\u001b[1;34m()\u001b[0m\n\u001b[0;32m      3\u001b[0m     \u001b[38;5;28;01mreturn\u001b[39;00m c\n\u001b[0;32m      5\u001b[0m \u001b[38;5;66;03m#add(1, 2)\u001b[39;00m\n\u001b[1;32m----> 6\u001b[0m \u001b[38;5;28mprint\u001b[39m(\u001b[43mc\u001b[49m)\n",
      "\u001b[1;31mNameError\u001b[0m: name 'c' is not defined"
     ]
    }
   ],
   "source": [
    "def add(a, b):\n",
    "    c = a + b\n",
    "    return c\n",
    "\n",
    "#add(1, 2)\n",
    "print(c)   #return 전까지는 c가 유효하나, return이 실행되고 나면 사라진다\n",
    "#함수 안에서 만들어진 변수는 함수가 끝나고 나면 사라진다"
   ]
  },
  {
   "cell_type": "code",
   "execution_count": 110,
   "id": "b59f4392-2dbd-4127-8cd5-335488b69bdc",
   "metadata": {},
   "outputs": [
    {
     "name": "stdout",
     "output_type": "stream",
     "text": [
      "5\n"
     ]
    }
   ],
   "source": [
    "d = 5    #global 전역변수\n",
    "def add(a, b):\n",
    "    c = a + b    #local 지역변수\n",
    "    \n",
    "    return c + d\n",
    "\n",
    "add(1, 2)\n",
    "print(d)"
   ]
  },
  {
   "cell_type": "markdown",
   "id": "ff9c5480-70ad-497b-bebc-4efd4f4ed0c7",
   "metadata": {},
   "source": [
    "#### lambda\n",
    "- 함수를 한줄로 간결하게 만들 때 사용\n",
    "- 함수에 이름을 붙이지 않는다"
   ]
  },
  {
   "cell_type": "code",
   "execution_count": 111,
   "id": "292fd751-d44e-486e-a20c-53fea060f314",
   "metadata": {},
   "outputs": [
    {
     "data": {
      "text/plain": [
       "3"
      ]
     },
     "execution_count": 111,
     "metadata": {},
     "output_type": "execute_result"
    }
   ],
   "source": [
    "def add(a,b):\n",
    "    return a + b\n",
    "add(1,2)"
   ]
  },
  {
   "cell_type": "code",
   "execution_count": 112,
   "id": "a5e70e3e-321a-4d52-88eb-2021daea6e45",
   "metadata": {},
   "outputs": [
    {
     "data": {
      "text/plain": [
       "3"
      ]
     },
     "execution_count": 112,
     "metadata": {},
     "output_type": "execute_result"
    }
   ],
   "source": [
    "(lambda a, b: a+b)(1, 2)"
   ]
  },
  {
   "cell_type": "code",
   "execution_count": 113,
   "id": "5d6cea0b-d07e-4d7f-9f6e-0ab020dd9f53",
   "metadata": {},
   "outputs": [
    {
     "data": {
      "text/plain": [
       "3"
      ]
     },
     "execution_count": 113,
     "metadata": {},
     "output_type": "execute_result"
    }
   ],
   "source": [
    "f = lambda a, b: a+b\n",
    "f(1, 2)"
   ]
  },
  {
   "cell_type": "markdown",
   "id": "d19c83ef-0775-470c-99e5-65444d1c0142",
   "metadata": {},
   "source": [
    "#### 재귀함수\n",
    "- 함수 안에 함수"
   ]
  },
  {
   "cell_type": "code",
   "execution_count": 114,
   "id": "be950175-af96-4352-aa92-7f795fda4c6e",
   "metadata": {},
   "outputs": [],
   "source": [
    "import time\n",
    "def hello():\n",
    "    print(\"안녕하세요\")\n",
    "    time.sleep(1)\n",
    "    hello()"
   ]
  },
  {
   "cell_type": "code",
   "execution_count": 115,
   "id": "0d2da966-1288-4aba-b607-2512bee430a3",
   "metadata": {},
   "outputs": [
    {
     "name": "stdout",
     "output_type": "stream",
     "text": [
      "안녕하세요\n",
      "안녕하세요\n",
      "안녕하세요\n",
      "안녕하세요\n",
      "안녕하세요\n",
      "안녕하세요\n",
      "안녕하세요\n",
      "안녕하세요\n"
     ]
    },
    {
     "ename": "KeyboardInterrupt",
     "evalue": "",
     "output_type": "error",
     "traceback": [
      "\u001b[1;31m---------------------------------------------------------------------------\u001b[0m",
      "\u001b[1;31mKeyboardInterrupt\u001b[0m                         Traceback (most recent call last)",
      "Input \u001b[1;32mIn [115]\u001b[0m, in \u001b[0;36m<cell line: 1>\u001b[1;34m()\u001b[0m\n\u001b[1;32m----> 1\u001b[0m \u001b[43mhello\u001b[49m\u001b[43m(\u001b[49m\u001b[43m)\u001b[49m\n",
      "Input \u001b[1;32mIn [114]\u001b[0m, in \u001b[0;36mhello\u001b[1;34m()\u001b[0m\n\u001b[0;32m      3\u001b[0m \u001b[38;5;28mprint\u001b[39m(\u001b[38;5;124m\"\u001b[39m\u001b[38;5;124m안녕하세요\u001b[39m\u001b[38;5;124m\"\u001b[39m)\n\u001b[0;32m      4\u001b[0m time\u001b[38;5;241m.\u001b[39msleep(\u001b[38;5;241m1\u001b[39m)\n\u001b[1;32m----> 5\u001b[0m \u001b[43mhello\u001b[49m\u001b[43m(\u001b[49m\u001b[43m)\u001b[49m\n",
      "Input \u001b[1;32mIn [114]\u001b[0m, in \u001b[0;36mhello\u001b[1;34m()\u001b[0m\n\u001b[0;32m      3\u001b[0m \u001b[38;5;28mprint\u001b[39m(\u001b[38;5;124m\"\u001b[39m\u001b[38;5;124m안녕하세요\u001b[39m\u001b[38;5;124m\"\u001b[39m)\n\u001b[0;32m      4\u001b[0m time\u001b[38;5;241m.\u001b[39msleep(\u001b[38;5;241m1\u001b[39m)\n\u001b[1;32m----> 5\u001b[0m \u001b[43mhello\u001b[49m\u001b[43m(\u001b[49m\u001b[43m)\u001b[49m\n",
      "    \u001b[1;31m[... skipping similar frames: hello at line 5 (4 times)]\u001b[0m\n",
      "Input \u001b[1;32mIn [114]\u001b[0m, in \u001b[0;36mhello\u001b[1;34m()\u001b[0m\n\u001b[0;32m      3\u001b[0m \u001b[38;5;28mprint\u001b[39m(\u001b[38;5;124m\"\u001b[39m\u001b[38;5;124m안녕하세요\u001b[39m\u001b[38;5;124m\"\u001b[39m)\n\u001b[0;32m      4\u001b[0m time\u001b[38;5;241m.\u001b[39msleep(\u001b[38;5;241m1\u001b[39m)\n\u001b[1;32m----> 5\u001b[0m \u001b[43mhello\u001b[49m\u001b[43m(\u001b[49m\u001b[43m)\u001b[49m\n",
      "Input \u001b[1;32mIn [114]\u001b[0m, in \u001b[0;36mhello\u001b[1;34m()\u001b[0m\n\u001b[0;32m      2\u001b[0m \u001b[38;5;28;01mdef\u001b[39;00m \u001b[38;5;21mhello\u001b[39m():\n\u001b[0;32m      3\u001b[0m     \u001b[38;5;28mprint\u001b[39m(\u001b[38;5;124m\"\u001b[39m\u001b[38;5;124m안녕하세요\u001b[39m\u001b[38;5;124m\"\u001b[39m)\n\u001b[1;32m----> 4\u001b[0m     \u001b[43mtime\u001b[49m\u001b[38;5;241;43m.\u001b[39;49m\u001b[43msleep\u001b[49m\u001b[43m(\u001b[49m\u001b[38;5;241;43m1\u001b[39;49m\u001b[43m)\u001b[49m\n\u001b[0;32m      5\u001b[0m     hello()\n",
      "\u001b[1;31mKeyboardInterrupt\u001b[0m: "
     ]
    }
   ],
   "source": [
    "hello()"
   ]
  },
  {
   "cell_type": "code",
   "execution_count": 118,
   "id": "a9a163ae-64d6-44a4-85d3-c09be7ffe36c",
   "metadata": {},
   "outputs": [],
   "source": [
    "def hello():\n",
    "    print(\"안녕하세요\")\n",
    "    time.sleep(1)\n",
    "    return\n",
    "    hello()\n",
    "#return의 위치에 따라 실행횟수가 다르다 (return이 들어가면 함수의 무한 반복을 끝낼 수 있다)"
   ]
  },
  {
   "cell_type": "code",
   "execution_count": 117,
   "id": "27b003a1-ff3e-4000-b3ce-db11b32bd508",
   "metadata": {},
   "outputs": [
    {
     "name": "stdout",
     "output_type": "stream",
     "text": [
      "안녕하세요\n"
     ]
    }
   ],
   "source": [
    "hello()"
   ]
  },
  {
   "cell_type": "code",
   "execution_count": 124,
   "id": "bde5719b-749f-427f-b4a4-602fa61db006",
   "metadata": {},
   "outputs": [],
   "source": [
    "def hello(count):\n",
    "    if count == 0:\n",
    "        return\n",
    "    print(\"안녕하세요\")\n",
    "    #time.sleep(1)\n",
    "    count -= 1\n",
    "    hello(count)"
   ]
  },
  {
   "cell_type": "code",
   "execution_count": 123,
   "id": "a2688d38-d482-4a8c-9a0a-14925cdd5580",
   "metadata": {},
   "outputs": [
    {
     "name": "stdout",
     "output_type": "stream",
     "text": [
      "안녕하세요\n",
      "안녕하세요\n",
      "안녕하세요\n",
      "안녕하세요\n",
      "안녕하세요\n"
     ]
    }
   ],
   "source": [
    "hello(5)"
   ]
  },
  {
   "cell_type": "code",
   "execution_count": null,
   "id": "70941d0d-b852-48d9-939c-6e773cf4eeb8",
   "metadata": {},
   "outputs": [],
   "source": []
  }
 ],
 "metadata": {
  "kernelspec": {
   "display_name": "Python 3 (ipykernel)",
   "language": "python",
   "name": "python3"
  },
  "language_info": {
   "codemirror_mode": {
    "name": "ipython",
    "version": 3
   },
   "file_extension": ".py",
   "mimetype": "text/x-python",
   "name": "python",
   "nbconvert_exporter": "python",
   "pygments_lexer": "ipython3",
   "version": "3.10.6"
  }
 },
 "nbformat": 4,
 "nbformat_minor": 5
}
