{
 "cells": [
  {
   "cell_type": "code",
   "execution_count": 9,
   "id": "6dcb86ed-838a-40c2-93f7-0051f303c6f1",
   "metadata": {},
   "outputs": [
    {
     "name": "stdout",
     "output_type": "stream",
     "text": [
      "70.0\n"
     ]
    }
   ],
   "source": [
    "#1.\n",
    "국어 = 80\n",
    "영어 = 75\n",
    "수학 = 55\n",
    "평균 = (a+b+c)/3\n",
    "print(평균)"
   ]
  },
  {
   "cell_type": "code",
   "execution_count": 10,
   "id": "7bc2a520-ef67-4a5d-ad06-366341503550",
   "metadata": {},
   "outputs": [
    {
     "name": "stdout",
     "output_type": "stream",
     "text": [
      "홀수\n"
     ]
    }
   ],
   "source": [
    "#2.\n",
    "a = 13\n",
    "if a % 2 == 0:\n",
    "    print(\"짝수\")\n",
    "else:\n",
    "    print(\"홀수\")"
   ]
  },
  {
   "cell_type": "code",
   "execution_count": 12,
   "id": "bb5cef90-8517-4fba-970a-5b9e6bc7599a",
   "metadata": {},
   "outputs": [
    {
     "data": {
      "text/plain": [
       "['881120', '1068234']"
      ]
     },
     "execution_count": 12,
     "metadata": {},
     "output_type": "execute_result"
    }
   ],
   "source": [
    "#3.\n",
    "a = \"881120-1068234\"\n",
    "a.split(\"-\")"
   ]
  },
  {
   "cell_type": "code",
   "execution_count": 14,
   "id": "19d39bdd-096f-4e97-9573-567407387ce4",
   "metadata": {},
   "outputs": [
    {
     "data": {
      "text/plain": [
       "'1'"
      ]
     },
     "execution_count": 14,
     "metadata": {},
     "output_type": "execute_result"
    }
   ],
   "source": [
    "#4.\n",
    "pin = \"881120-1068234\"\n",
    "pin[7]"
   ]
  },
  {
   "cell_type": "code",
   "execution_count": 19,
   "id": "88b8b554-5a08-4b01-8ff9-77d3f91021c9",
   "metadata": {},
   "outputs": [
    {
     "data": {
      "text/plain": [
       "'a#b#c#d'"
      ]
     },
     "execution_count": 19,
     "metadata": {},
     "output_type": "execute_result"
    }
   ],
   "source": [
    "#5.\n",
    "a = \"a:b:c:d\"\n",
    "a.replace(\":\",\"#\")"
   ]
  },
  {
   "cell_type": "code",
   "execution_count": 32,
   "id": "1adfefaa-b8db-46df-9f65-2b2034135898",
   "metadata": {},
   "outputs": [
    {
     "data": {
      "text/plain": [
       "[5, 4, 3, 2, 1]"
      ]
     },
     "execution_count": 32,
     "metadata": {},
     "output_type": "execute_result"
    }
   ],
   "source": [
    "#6.\n",
    "a = [1,3,5,4,2]\n",
    "sorted(a)\n",
    "a = sorted(a)\n",
    "a.reverse()\n",
    "a"
   ]
  },
  {
   "cell_type": "code",
   "execution_count": 37,
   "id": "477c01f4-06f2-4a49-8593-6694fdb3f8a4",
   "metadata": {},
   "outputs": [
    {
     "data": {
      "text/plain": [
       "'Life is too short'"
      ]
     },
     "execution_count": 37,
     "metadata": {},
     "output_type": "execute_result"
    }
   ],
   "source": [
    "#7.\n",
    "a = ['Life', 'is', 'too', 'short']\n",
    "a\n",
    "\" \".join(a)"
   ]
  },
  {
   "cell_type": "code",
   "execution_count": null,
   "id": "0bb320bb-793c-4f28-ad30-220c8b3847c3",
   "metadata": {},
   "outputs": [],
   "source": [
    "#8.\n",
    "a = (1,2,3)\n"
   ]
  }
 ],
 "metadata": {
  "kernelspec": {
   "display_name": "Python 3 (ipykernel)",
   "language": "python",
   "name": "python3"
  },
  "language_info": {
   "codemirror_mode": {
    "name": "ipython",
    "version": 3
   },
   "file_extension": ".py",
   "mimetype": "text/x-python",
   "name": "python",
   "nbconvert_exporter": "python",
   "pygments_lexer": "ipython3",
   "version": "3.10.6"
  }
 },
 "nbformat": 4,
 "nbformat_minor": 5
}
