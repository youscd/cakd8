{
 "cells": [
  {
   "cell_type": "markdown",
   "id": "71ec3947-fcc9-4035-a179-b404c3cf6ec1",
   "metadata": {},
   "source": [
    "## 6. 파일 입출력"
   ]
  },
  {
   "cell_type": "markdown",
   "id": "016ed6da-5764-4f0e-a005-14ef31adc49f",
   "metadata": {},
   "source": [
    "### 파일 생성하기"
   ]
  },
  {
   "cell_type": "markdown",
   "id": "7012d60f-e513-474f-ad02-5854c08ddea7",
   "metadata": {},
   "source": [
    "- w : write 쓰기모드\n",
    "- r : read 읽기모드\n",
    "- a : append 추가\n",
    "- b : binary; 음악, 사진, 동영상\n",
    "- wb : binary 쓰기 모드"
   ]
  },
  {
   "cell_type": "markdown",
   "id": "98eac203-465b-4d47-ba87-5976109e8d2c",
   "metadata": {},
   "source": [
    "파이썬에서는 모든 것이 '객체'이다. 함수 또한 '객체'이다."
   ]
  },
  {
   "cell_type": "code",
   "execution_count": 120,
   "id": "a2ba1121-ad78-481f-af71-9624fe274c4b",
   "metadata": {},
   "outputs": [],
   "source": [
    "f = open(\"new.txt\", 'w')   #객체(f)를 만들고\n",
    "f.write(\"Hello\\n\")   #메서드를 사용하고\n",
    "f.close()   #닫아준다\n",
    "\n",
    "#f.write()는 print()와 동일하게 data를 출력하지만,\n",
    "#모니터 화면 대신 파일에 결괏값을 적는 방법이다."
   ]
  },
  {
   "cell_type": "code",
   "execution_count": 2,
   "id": "542b9373-1e6d-487d-b12b-63e2c2fe90a8",
   "metadata": {},
   "outputs": [],
   "source": [
    "f = open(\"new.txt\", 'a')\n",
    "f.write(\"Good morning\\n\")\n",
    "f.close()"
   ]
  },
  {
   "cell_type": "code",
   "execution_count": 3,
   "id": "cd385a9c-85db-43f2-8fda-7adf00f752f1",
   "metadata": {},
   "outputs": [],
   "source": [
    "f = open(\"new.txt\", 'w')\n",
    "f.write(\"Hello\\n\")\n",
    "f.write(\"Good morning\\n\")\n",
    "f.write(\"Good afternoon\")\n",
    "f.close()"
   ]
  },
  {
   "cell_type": "code",
   "execution_count": 4,
   "id": "266dbc32-58b5-4aa6-9cd3-203dcd66ac5d",
   "metadata": {},
   "outputs": [],
   "source": [
    "f = open(\"new.txt\",'w')\n",
    "for i in range(10):\n",
    "    f.write(f\"{i}\\n\")\n",
    "f.close()"
   ]
  },
  {
   "cell_type": "code",
   "execution_count": 9,
   "id": "5fd707ed-602d-48c8-b2b6-8ebbc8a4a9c4",
   "metadata": {},
   "outputs": [],
   "source": [
    "f = open(\"new.txt\",'w')\n",
    "for i in range(10):\n",
    "    f.write(\"Hello\\n\")\n",
    "f.close()"
   ]
  },
  {
   "cell_type": "code",
   "execution_count": 10,
   "id": "255bc410-d312-4575-a062-f638de5187f4",
   "metadata": {},
   "outputs": [],
   "source": [
    "f = open(\"new.txt\",'a')\n",
    "for _ in range(10):\n",
    "    f.write(\"Good morning\\n\")\n",
    "f.close()"
   ]
  },
  {
   "cell_type": "markdown",
   "id": "ee20cd59-9acb-4a48-b32e-b156698cd424",
   "metadata": {},
   "source": [
    "* with open() as f : <br>\n",
    "-f.close()를 자동으로 처리해준다 <br>\n",
    "-with 블록을 벗어나는 순간 열린 파일 객체 f가 자동으로 close 된다"
   ]
  },
  {
   "cell_type": "code",
   "execution_count": 13,
   "id": "601ca4fd-5d43-47e2-8dfd-41c87a1e210c",
   "metadata": {},
   "outputs": [],
   "source": [
    "f = open(\"new.txt\", 'w')\n",
    "f.write(\"Hello\\n\")\n",
    "f.close()"
   ]
  },
  {
   "cell_type": "code",
   "execution_count": 15,
   "id": "57c4fc78-8973-440f-88ba-1157be500e1d",
   "metadata": {},
   "outputs": [],
   "source": [
    "with open(\"new.txt\", 'w') as f:\n",
    "    f.write(\"Hi\\n\")   #f는 객체"
   ]
  },
  {
   "cell_type": "code",
   "execution_count": 16,
   "id": "a7b451b1-4040-4947-8db6-09fba0ed6067",
   "metadata": {},
   "outputs": [],
   "source": [
    "with open(\"new.txt\", 'a') as f:\n",
    "    for _ in range(10):\n",
    "        f.write(\"Good\\n\")"
   ]
  },
  {
   "cell_type": "markdown",
   "id": "f2b5feee-6098-4d48-b07f-7f77c95452ef",
   "metadata": {},
   "source": [
    "### 파일 읽기"
   ]
  },
  {
   "cell_type": "markdown",
   "id": "530a0e25-72d6-452a-970e-0d4a9d6f27f4",
   "metadata": {},
   "source": [
    "-파이썬에서는 외부 파일을 읽어들여 프로그램에서 사용할 수 있는 여러가지 방법이 있다."
   ]
  },
  {
   "cell_type": "markdown",
   "id": "69d2c178-13fb-42b6-b48c-cdb8e9ec098b",
   "metadata": {},
   "source": [
    "* f.readline() : 파일의 첫번째 줄을 읽어 출력한다"
   ]
  },
  {
   "cell_type": "code",
   "execution_count": 18,
   "id": "ee513dd3-5d75-40ba-b60b-d3f4fe52ddbb",
   "metadata": {},
   "outputs": [],
   "source": [
    "with open(\"new.txt\", 'w') as f:\n",
    "    f.write(\"Hello\\n\")"
   ]
  },
  {
   "cell_type": "code",
   "execution_count": 22,
   "id": "a9fa7853-d19f-4f68-871d-ea705079bdec",
   "metadata": {},
   "outputs": [
    {
     "name": "stdout",
     "output_type": "stream",
     "text": [
      "Hello\n",
      "\n"
     ]
    }
   ],
   "source": [
    "with open(\"new.txt\", 'r') as f:   #파일읽기모드가 'r'\n",
    "    data = f.readline()\n",
    "    print(data)\n",
    "    \n",
    "#input()으로 데이터를 직접 입력받아 출력하는 방법과 비교하면,\n",
    "#input()은 키보드를 사용한 입력방법이고, f.readline()은 파일을 사용한 입력방법이다."
   ]
  },
  {
   "cell_type": "markdown",
   "id": "916c9c89-f77e-4db9-8e3e-58de7ed61836",
   "metadata": {},
   "source": [
    "* f.readlines() : 파일의 모든 줄을 읽어서 각각의 줄을 요소로 갖는 \"리스트\" 로 출력한다 "
   ]
  },
  {
   "cell_type": "code",
   "execution_count": 41,
   "id": "9b816d82-393f-43ab-bfec-37fed3d4f746",
   "metadata": {},
   "outputs": [],
   "source": [
    "f = open(\"new.txt\", 'w')\n",
    "for _ in range(5):\n",
    "    f.write(\"Hello.\\n\")\n",
    "f.write(\"Good morning.\\n\")\n",
    "f.write(\"Good afternoon.\")\n",
    "f.close()"
   ]
  },
  {
   "cell_type": "code",
   "execution_count": 42,
   "id": "f5fd3eb1-d1c7-428d-9eeb-b43450fbfedd",
   "metadata": {},
   "outputs": [
    {
     "name": "stdout",
     "output_type": "stream",
     "text": [
      "['Hello.\\n', 'Hello.\\n', 'Hello.\\n', 'Hello.\\n', 'Hello.\\n', 'Good morning.\\n', 'Good afternoon.']\n"
     ]
    }
   ],
   "source": [
    "f = open(\"new.txt\", 'r')\n",
    "data = f.readlines()\n",
    "print(data)\n",
    "f.close()"
   ]
  },
  {
   "cell_type": "code",
   "execution_count": 43,
   "id": "fe46f948-3b7d-4ee9-914f-0b83cfeccf10",
   "metadata": {},
   "outputs": [
    {
     "name": "stdout",
     "output_type": "stream",
     "text": [
      "Hello.\n",
      " Hello.\n",
      " Hello.\n",
      " Hello.\n",
      " Hello.\n",
      " Good morning.\n",
      " Good afternoon. "
     ]
    }
   ],
   "source": [
    "f = open(\"new.txt\", 'r')\n",
    "data = f.readlines()\n",
    "for i in data:\n",
    "    print(i, end = \" \")\n",
    "f.close()"
   ]
  },
  {
   "cell_type": "markdown",
   "id": "fb40f404-6cb8-4e75-b2bc-b5bb43d9877b",
   "metadata": {},
   "source": [
    "* f.read() : 파일의 내용 전체를 \"문자열\" 로 돌려준다"
   ]
  },
  {
   "cell_type": "code",
   "execution_count": 44,
   "id": "f58a1366-3660-43e4-b427-40620baba598",
   "metadata": {},
   "outputs": [
    {
     "name": "stdout",
     "output_type": "stream",
     "text": [
      "Hello.\n",
      "Hello.\n",
      "Hello.\n",
      "Hello.\n",
      "Hello.\n",
      "Good morning.\n",
      "Good afternoon.\n"
     ]
    }
   ],
   "source": [
    "f = open(\"new.txt\", 'r')\n",
    "data = f.read()\n",
    "print(data)\n",
    "f.close()"
   ]
  },
  {
   "cell_type": "markdown",
   "id": "d1daae9c-b706-4e1f-a851-34bf58ec872f",
   "metadata": {},
   "source": [
    "* 연습문제"
   ]
  },
  {
   "cell_type": "code",
   "execution_count": 45,
   "id": "3a366438-3570-4d41-8e4f-4028ff8b7a50",
   "metadata": {},
   "outputs": [
    {
     "name": "stdout",
     "output_type": "stream",
     "text": [
      "1번째 입니다.\n",
      "2번째 입니다.\n",
      "3번째 입니다.\n",
      "4번째 입니다.\n",
      "5번째 입니다.\n",
      "6번째 입니다.\n",
      "7번째 입니다.\n",
      "8번째 입니다.\n",
      "9번째 입니다.\n",
      "10번째 입니다.\n"
     ]
    }
   ],
   "source": [
    "f = open(\"test.txt\", 'w')\n",
    "for i in range(10):\n",
    "    print(f\"{i+1}번째 입니다.\")"
   ]
  },
  {
   "cell_type": "code",
   "execution_count": 52,
   "id": "07ef8b98-3e99-48a4-a669-09ad786de1a5",
   "metadata": {},
   "outputs": [],
   "source": [
    "with open(\"test.txt\", 'w', encoding = 'UTF-8') as f:\n",
    "    for i in range(10):\n",
    "        f.write(f\"{i+1}번째 입니다.\\n\")"
   ]
  },
  {
   "cell_type": "code",
   "execution_count": 56,
   "id": "35c27944-c38a-4cdd-b048-53270f072975",
   "metadata": {},
   "outputs": [
    {
     "name": "stdout",
     "output_type": "stream",
     "text": [
      "1번째 입니다.\n",
      " 2번째 입니다.\n",
      " 3번째 입니다.\n",
      " 4번째 입니다.\n",
      " 5번째 입니다.\n",
      " 6번째 입니다.\n",
      " 7번째 입니다.\n",
      " 8번째 입니다.\n",
      " 9번째 입니다.\n",
      " 10번째 입니다.\n",
      " "
     ]
    }
   ],
   "source": [
    "#readlines로 읽기\n",
    "with open(\"test.txt\", 'r', encoding = 'UTF-8') as f:\n",
    "    data = f.readlines()\n",
    "    for i in data:\n",
    "        print(i, end=\" \")"
   ]
  },
  {
   "cell_type": "code",
   "execution_count": 54,
   "id": "77594750-3a55-4530-9f93-cb7c20f368be",
   "metadata": {},
   "outputs": [
    {
     "name": "stdout",
     "output_type": "stream",
     "text": [
      "1번째 입니다.\n",
      "2번째 입니다.\n",
      "3번째 입니다.\n",
      "4번째 입니다.\n",
      "5번째 입니다.\n",
      "6번째 입니다.\n",
      "7번째 입니다.\n",
      "8번째 입니다.\n",
      "9번째 입니다.\n",
      "10번째 입니다.\n"
     ]
    }
   ],
   "source": [
    "with open(\"test.txt\", 'r', encoding = 'UTF-8') as f:\n",
    "    data = f.readlines()\n",
    "    for i in data:\n",
    "        i = i.strip()\n",
    "        print(i)"
   ]
  },
  {
   "cell_type": "markdown",
   "id": "d7473a73-ba56-4343-9b7e-a574146829b1",
   "metadata": {},
   "source": [
    "* 함수 : show_file(\"파일이름\") 만들기"
   ]
  },
  {
   "cell_type": "code",
   "execution_count": 60,
   "id": "6615ea5e-2a4c-449d-bc54-4371c3dfdd72",
   "metadata": {},
   "outputs": [],
   "source": [
    "def show_file(filename):\n",
    "    with open(filename, 'r', encoding = 'UTF-8') as f:\n",
    "        data = f.readlines()\n",
    "        for i in data:\n",
    "            i = i.strip()\n",
    "            print(i)"
   ]
  },
  {
   "cell_type": "code",
   "execution_count": 61,
   "id": "66957b24-5a78-444d-be3f-26a2f877172b",
   "metadata": {},
   "outputs": [
    {
     "name": "stdout",
     "output_type": "stream",
     "text": [
      "1번째 입니다.\n",
      "2번째 입니다.\n",
      "3번째 입니다.\n",
      "4번째 입니다.\n",
      "5번째 입니다.\n",
      "6번째 입니다.\n",
      "7번째 입니다.\n",
      "8번째 입니다.\n",
      "9번째 입니다.\n",
      "10번째 입니다.\n"
     ]
    }
   ],
   "source": [
    "show_file(\"test.txt\")"
   ]
  },
  {
   "cell_type": "markdown",
   "id": "e3bc3a3c-b77a-4713-9dbd-76fe356abbcc",
   "metadata": {},
   "source": [
    "* 이름과 나이를 입력받아 people.txt 파일 만들기"
   ]
  },
  {
   "cell_type": "code",
   "execution_count": 62,
   "id": "e1f84068-ff69-46cd-a3ec-2151f9ac54be",
   "metadata": {},
   "outputs": [
    {
     "name": "stdin",
     "output_type": "stream",
     "text": [
      "이름:  홍길동\n",
      "나이:  23\n",
      "이름:  전우치\n",
      "나이:  2\n",
      "이름:  \n"
     ]
    }
   ],
   "source": [
    "f = open(\"people.txt\", 'w', encoding = 'UTF-8')\n",
    "while True:\n",
    "    name = input(\"이름: \")\n",
    "    if name == \"\":\n",
    "        break\n",
    "    age = input(\"나이: \")\n",
    "    f.write(f\"{name} : {age}\\n\")\n",
    "f.close()"
   ]
  },
  {
   "cell_type": "code",
   "execution_count": 63,
   "id": "34fecdda-61b3-4504-9627-265aab01b51b",
   "metadata": {},
   "outputs": [
    {
     "name": "stdout",
     "output_type": "stream",
     "text": [
      "홍길동 : 23\n",
      "전우치 : 2\n"
     ]
    }
   ],
   "source": [
    "show_file(\"people.txt\")"
   ]
  },
  {
   "cell_type": "markdown",
   "id": "caa2f7af-85cf-4c27-b3a8-6594097790b3",
   "metadata": {},
   "source": [
    "## 7. Class 클래스\n",
    "-같은 성격을 갖고 있는 것끼리 한 반(class)에 모아놓은 것<br>\n",
    "-80% 정도 만들어 놓는 것"
   ]
  },
  {
   "cell_type": "markdown",
   "id": "cc1babcb-bb0b-45e8-8bd8-e2eddcae5bbe",
   "metadata": {},
   "source": [
    "* \"+\" 기능을 가지고 있는 기계를 만들어보자"
   ]
  },
  {
   "cell_type": "code",
   "execution_count": 66,
   "id": "4c8d2de4-a773-45c8-a426-ff3bb85eb55f",
   "metadata": {},
   "outputs": [
    {
     "data": {
      "text/plain": [
       "3"
      ]
     },
     "execution_count": 66,
     "metadata": {},
     "output_type": "execute_result"
    }
   ],
   "source": [
    "result = 0\n",
    "\n",
    "def add(num):\n",
    "    global result\n",
    "    result += num\n",
    "    return result\n",
    "\n",
    "add(3)"
   ]
  },
  {
   "cell_type": "code",
   "execution_count": 67,
   "id": "631e1331-64d7-44a0-aef3-4d8440df31c0",
   "metadata": {},
   "outputs": [
    {
     "data": {
      "text/plain": [
       "7"
      ]
     },
     "execution_count": 67,
     "metadata": {},
     "output_type": "execute_result"
    }
   ],
   "source": [
    "add(4)"
   ]
  },
  {
   "cell_type": "code",
   "execution_count": 74,
   "id": "a392bafc-554e-4de0-a4e6-5d236effd8c8",
   "metadata": {},
   "outputs": [],
   "source": [
    "#같은 기능을 하는 기계가 2대 필요하다\n",
    "result1 = 0\n",
    "result2 = 0\n",
    "\n",
    "def add1(num):\n",
    "    global result1\n",
    "    result1 += num\n",
    "    return result1\n",
    "\n",
    "def add2(num):\n",
    "    global result2\n",
    "    result2 += num\n",
    "    return result2"
   ]
  },
  {
   "cell_type": "code",
   "execution_count": 71,
   "id": "6ab92f5b-a957-4e52-ab2c-fe9e0f35fa1c",
   "metadata": {},
   "outputs": [
    {
     "data": {
      "text/plain": [
       "5"
      ]
     },
     "execution_count": 71,
     "metadata": {},
     "output_type": "execute_result"
    }
   ],
   "source": [
    "add1(5)"
   ]
  },
  {
   "cell_type": "code",
   "execution_count": 73,
   "id": "9fe74351-2edc-4de2-adb2-af6ebc6a01d3",
   "metadata": {},
   "outputs": [
    {
     "data": {
      "text/plain": [
       "11"
      ]
     },
     "execution_count": 73,
     "metadata": {},
     "output_type": "execute_result"
    }
   ],
   "source": [
    "add1(6)"
   ]
  },
  {
   "cell_type": "code",
   "execution_count": 78,
   "id": "543194c9-44a2-4fab-83c2-49456fe69091",
   "metadata": {},
   "outputs": [],
   "source": [
    "#같은 기능을 하는 기계가 3대 필요하다\n",
    "# -> 같은부분이 계속 반복되고 있다 -> 수정 또는 추가를 하려면 그만큼 같은 과정을 여러번 반복해야한다\n",
    "result1 = 0\n",
    "result2 = 0\n",
    "result3 = 0\n",
    "\n",
    "def add1(num):\n",
    "    global result1\n",
    "    result1 += num\n",
    "    return result1\n",
    "\n",
    "#추가\n",
    "def subtract1(num):\n",
    "    global result1\n",
    "    result1 -= num\n",
    "    return result1\n",
    "\n",
    "def add2(num):\n",
    "    global result2\n",
    "    result2 += num\n",
    "    return result2\n",
    "\n",
    "#추가\n",
    "def subtract2(num):\n",
    "    global result2\n",
    "    result2 -= num\n",
    "    return result2\n",
    "\n",
    "def add3(num):\n",
    "    global result3\n",
    "    result3 += num\n",
    "    return result3\n",
    "\n",
    "#추가\n",
    "def subtract3(num):\n",
    "    global result3\n",
    "    result3 -= num\n",
    "    return result3"
   ]
  },
  {
   "cell_type": "code",
   "execution_count": 79,
   "id": "8eff3a51-8e9a-4fd4-8d8d-19129180bfd2",
   "metadata": {},
   "outputs": [
    {
     "data": {
      "text/plain": [
       "5"
      ]
     },
     "execution_count": 79,
     "metadata": {},
     "output_type": "execute_result"
    }
   ],
   "source": [
    "add3(5)"
   ]
  },
  {
   "cell_type": "code",
   "execution_count": 80,
   "id": "1248526f-17f4-4ad0-994b-3999db4c9554",
   "metadata": {},
   "outputs": [
    {
     "data": {
      "text/plain": [
       "2"
      ]
     },
     "execution_count": 80,
     "metadata": {},
     "output_type": "execute_result"
    }
   ],
   "source": [
    "subtract3(3)"
   ]
  },
  {
   "cell_type": "markdown",
   "id": "1068279e-d22a-4e7b-b95e-2753ad3f9534",
   "metadata": {},
   "source": [
    "### 클래스의 필요성"
   ]
  },
  {
   "cell_type": "code",
   "execution_count": 102,
   "id": "7d8aa739-9fb8-4401-8b12-187f0b1f4800",
   "metadata": {},
   "outputs": [],
   "source": [
    "#설계도\n",
    "class Calculator:   #클래스의 이름은 '대문자'로 시작해야한다\n",
    "    def __init__(self):   #언더바 2개 : 특별한 의미를 준다는 것 / 함수의 인자값에 'self'를 항상 입력한다\n",
    "        self.result = 0   #변수의 앞에 'self'를 함께 입력한다 / 초기값을 0으로 설정\n",
    "    \n",
    "    def add(self, num):\n",
    "        self.result += num\n",
    "        return self.result\n",
    "    \n",
    "    def subtract(self, num):\n",
    "        self.result -= num\n",
    "        return self.result"
   ]
  },
  {
   "cell_type": "code",
   "execution_count": 103,
   "id": "3520cb7f-5717-4e05-bb53-b538b0eb6c10",
   "metadata": {},
   "outputs": [],
   "source": [
    "#설계도로 인해 구체물로 만들어지는 과정\n",
    "pos = Calculator()"
   ]
  },
  {
   "cell_type": "code",
   "execution_count": 104,
   "id": "48d32a52-22e5-4d79-bfcc-8e24498d6573",
   "metadata": {},
   "outputs": [
    {
     "data": {
      "text/plain": [
       "7"
      ]
     },
     "execution_count": 104,
     "metadata": {},
     "output_type": "execute_result"
    }
   ],
   "source": [
    "#'pos.' 입력하고 tab키를 누르면 생성된 function들을 확인할 수 있다.\n",
    "pos.add(7)"
   ]
  },
  {
   "cell_type": "code",
   "execution_count": 105,
   "id": "cb1374fd-44b8-482e-b8c5-8d1d74099776",
   "metadata": {},
   "outputs": [
    {
     "data": {
      "text/plain": [
       "4"
      ]
     },
     "execution_count": 105,
     "metadata": {},
     "output_type": "execute_result"
    }
   ],
   "source": [
    "pos.subtract(3)"
   ]
  },
  {
   "cell_type": "code",
   "execution_count": 106,
   "id": "d14dc9eb-1950-4d93-bbae-be9a400a0bbd",
   "metadata": {},
   "outputs": [],
   "source": [
    "#pos기 1대 더 만들기\n",
    "pos1 = Calculator()"
   ]
  },
  {
   "cell_type": "code",
   "execution_count": 107,
   "id": "ec27aad6-af76-4afb-9518-d5beab94c019",
   "metadata": {},
   "outputs": [],
   "source": [
    "pos2 = Calculator()"
   ]
  },
  {
   "cell_type": "code",
   "execution_count": 108,
   "id": "55aebe3f-3be7-490f-88a0-8ee6e868fc03",
   "metadata": {},
   "outputs": [],
   "source": [
    "pos3 = Calculator()"
   ]
  },
  {
   "cell_type": "code",
   "execution_count": 109,
   "id": "2b7a8a54-1a28-4637-972c-dcddbe22f4dd",
   "metadata": {},
   "outputs": [],
   "source": [
    "#수정을 하고 싶다면\n",
    "class Calculator:\n",
    "    def __init__(self):\n",
    "        self.result = 0\n",
    "    \n",
    "    def add(self, num):\n",
    "        self.result += num\n",
    "        return self.result\n",
    "    \n",
    "    def subtract(self, num):\n",
    "        self.result -= num\n",
    "        return self.result\n",
    "    \n",
    "    def multiply(self, num):\n",
    "        self.result *= num\n",
    "        return self.result"
   ]
  },
  {
   "cell_type": "code",
   "execution_count": 110,
   "id": "ca6bdc67-6963-440f-9919-8ef3e47ef281",
   "metadata": {},
   "outputs": [],
   "source": [
    "pos = Calculator"
   ]
  },
  {
   "cell_type": "markdown",
   "id": "48c82273-8db0-4349-84c8-b8554a53021f",
   "metadata": {},
   "source": [
    "### 클래스 만들기"
   ]
  },
  {
   "cell_type": "code",
   "execution_count": 111,
   "id": "8fac6b59-68ea-426b-8765-6ff07d3c53b0",
   "metadata": {},
   "outputs": [],
   "source": [
    "class FourCal:\n",
    "    pass"
   ]
  },
  {
   "cell_type": "code",
   "execution_count": 121,
   "id": "b2e2052c-7b9b-4771-b2d8-8b81feeba2c9",
   "metadata": {},
   "outputs": [],
   "source": [
    "class FourCal:   #클래스 안에 들어가있는 함수 -> 메서드\n",
    "    def setdata(self, a, b):\n",
    "        self.first = a\n",
    "        self.second = b    #1개의 함수와 2개의 객체변수를 만들었다"
   ]
  },
  {
   "cell_type": "code",
   "execution_count": 122,
   "id": "9c2a01b0-6b9b-4e5a-bb92-51cff0e63962",
   "metadata": {},
   "outputs": [],
   "source": [
    "cal = FourCal()   #cal이라는 객체가 정의되었다"
   ]
  },
  {
   "cell_type": "code",
   "execution_count": 123,
   "id": "79f9882d-a5f7-4882-9b25-5f933ed31eb3",
   "metadata": {},
   "outputs": [],
   "source": [
    "cal.setdata(1, 2)   #first와 second에 각각 1과 2를 넣었다; 동사"
   ]
  },
  {
   "cell_type": "code",
   "execution_count": 124,
   "id": "fa79a260-e48a-4db9-bb42-2cf088f56288",
   "metadata": {},
   "outputs": [
    {
     "data": {
      "text/plain": [
       "1"
      ]
     },
     "execution_count": 124,
     "metadata": {},
     "output_type": "execute_result"
    }
   ],
   "source": [
    "cal.first   #형용사"
   ]
  },
  {
   "cell_type": "code",
   "execution_count": 125,
   "id": "7b767fd1-8aff-486b-b2c2-77e6ff05dba5",
   "metadata": {},
   "outputs": [
    {
     "data": {
      "text/plain": [
       "2"
      ]
     },
     "execution_count": 125,
     "metadata": {},
     "output_type": "execute_result"
    }
   ],
   "source": [
    "cal.second"
   ]
  },
  {
   "cell_type": "markdown",
   "id": "a8493bb3-6223-40c5-aac5-9605c32544d3",
   "metadata": {},
   "source": [
    "#### __init__() : 생성자; 초기화시키는 함수"
   ]
  },
  {
   "cell_type": "markdown",
   "id": "2f092e48-72f4-4abf-9de4-621bb18e1063",
   "metadata": {},
   "source": [
    "* 객체 = object, instance<br>\n",
    "-모든 객체는 2가지의 형태를 갖고 있다 -> 동사, 형용사<br>\n",
    "-동사 : method 메서드<br>\n",
    "-형용사 : attribute 속성<br>\n",
    "-예)<br>\n",
    "car : car.go(), car.back(), car.turn()<br>\n",
    "      car.color(), car.size()<br>\n",
    "bird : bird.fly(), bird.sing()<br>\n",
    "       bird.color()<br>"
   ]
  },
  {
   "cell_type": "code",
   "execution_count": 126,
   "id": "b730aeed-264f-4a3c-8918-0e754f432bb1",
   "metadata": {},
   "outputs": [],
   "source": [
    "class FourCal:\n",
    "    def setdata(self, a, b):\n",
    "        self.first = a\n",
    "        self.second = b\n",
    "        \n",
    "    def add(self):   #위의 a와 b값을 더하는 함수\n",
    "        self.result = self.first + self.second\n",
    "        return self.result\n",
    "    \n",
    "    def subtract(self):   #위의 a와 b값을 빼는 함수\n",
    "        self.result = self.first - self.second\n",
    "        return self.result"
   ]
  },
  {
   "cell_type": "code",
   "execution_count": 127,
   "id": "7111c441-7baa-42c7-9d08-fb294a65827e",
   "metadata": {},
   "outputs": [],
   "source": [
    "cal = FourCal()"
   ]
  },
  {
   "cell_type": "code",
   "execution_count": 128,
   "id": "a9a540d2-86f0-4c40-97d1-39561dff0f16",
   "metadata": {},
   "outputs": [
    {
     "data": {
      "text/plain": [
       "1"
      ]
     },
     "execution_count": 128,
     "metadata": {},
     "output_type": "execute_result"
    }
   ],
   "source": [
    "cal.setdata(1, 2)\n",
    "cal.first"
   ]
  },
  {
   "cell_type": "code",
   "execution_count": 129,
   "id": "aaab0050-b8d1-482e-80a3-150f2426e778",
   "metadata": {},
   "outputs": [
    {
     "data": {
      "text/plain": [
       "3"
      ]
     },
     "execution_count": 129,
     "metadata": {},
     "output_type": "execute_result"
    }
   ],
   "source": [
    "cal.add()"
   ]
  },
  {
   "cell_type": "code",
   "execution_count": 130,
   "id": "bc5815d8-d583-464e-913f-c659bf4a36e6",
   "metadata": {},
   "outputs": [
    {
     "data": {
      "text/plain": [
       "-1"
      ]
     },
     "execution_count": 130,
     "metadata": {},
     "output_type": "execute_result"
    }
   ],
   "source": [
    "cal.subtract()"
   ]
  },
  {
   "cell_type": "code",
   "execution_count": 131,
   "id": "b4b93cdd-372c-47e8-b8fe-70949ea321b9",
   "metadata": {},
   "outputs": [],
   "source": [
    "cal1 = FourCal()"
   ]
  },
  {
   "cell_type": "code",
   "execution_count": 134,
   "id": "b115f47e-3ed0-4542-9636-28d22de8f6e7",
   "metadata": {},
   "outputs": [
    {
     "ename": "AttributeError",
     "evalue": "'FourCal' object has no attribute 'first'",
     "output_type": "error",
     "traceback": [
      "\u001b[1;31m---------------------------------------------------------------------------\u001b[0m",
      "\u001b[1;31mAttributeError\u001b[0m                            Traceback (most recent call last)",
      "Input \u001b[1;32mIn [134]\u001b[0m, in \u001b[0;36m<cell line: 2>\u001b[1;34m()\u001b[0m\n\u001b[0;32m      1\u001b[0m \u001b[38;5;66;03m#cal1.add()\u001b[39;00m\n\u001b[1;32m----> 2\u001b[0m \u001b[43mcal1\u001b[49m\u001b[38;5;241;43m.\u001b[39;49m\u001b[43msubtract\u001b[49m\u001b[43m(\u001b[49m\u001b[43m)\u001b[49m\n",
      "Input \u001b[1;32mIn [126]\u001b[0m, in \u001b[0;36mFourCal.subtract\u001b[1;34m(self)\u001b[0m\n\u001b[0;32m     10\u001b[0m \u001b[38;5;28;01mdef\u001b[39;00m \u001b[38;5;21msubtract\u001b[39m(\u001b[38;5;28mself\u001b[39m):   \u001b[38;5;66;03m#위의 a와 b값을 빼는 함수\u001b[39;00m\n\u001b[1;32m---> 11\u001b[0m     \u001b[38;5;28mself\u001b[39m\u001b[38;5;241m.\u001b[39mresult \u001b[38;5;241m=\u001b[39m \u001b[38;5;28;43mself\u001b[39;49m\u001b[38;5;241;43m.\u001b[39;49m\u001b[43mfirst\u001b[49m \u001b[38;5;241m-\u001b[39m \u001b[38;5;28mself\u001b[39m\u001b[38;5;241m.\u001b[39msecond\n\u001b[0;32m     12\u001b[0m     \u001b[38;5;28;01mreturn\u001b[39;00m \u001b[38;5;28mself\u001b[39m\u001b[38;5;241m.\u001b[39mresult\n",
      "\u001b[1;31mAttributeError\u001b[0m: 'FourCal' object has no attribute 'first'"
     ]
    }
   ],
   "source": [
    "#cal1.add()\n",
    "cal1.subtract()"
   ]
  },
  {
   "cell_type": "code",
   "execution_count": 136,
   "id": "4df33fd5-1930-4c0d-8624-35caf915122c",
   "metadata": {},
   "outputs": [],
   "source": [
    "cal1.setdata(10,30)"
   ]
  },
  {
   "cell_type": "code",
   "execution_count": 137,
   "id": "aa7824cc-0cbd-44c2-9741-189de2db61f7",
   "metadata": {},
   "outputs": [
    {
     "data": {
      "text/plain": [
       "40"
      ]
     },
     "execution_count": 137,
     "metadata": {},
     "output_type": "execute_result"
    }
   ],
   "source": [
    "cal1.add()"
   ]
  },
  {
   "cell_type": "code",
   "execution_count": 145,
   "id": "8b06ed4b-009c-4942-b723-06f085b439a5",
   "metadata": {},
   "outputs": [],
   "source": [
    "class FourCal:\n",
    "    def __init__(self, a, b):\n",
    "        self.first = a\n",
    "        self.second = b\n",
    "#__init__() : 생성자(constructor); 초기화시키는 함수; 없으면 만들어서라도 실행될 수 있게 해준다\n",
    "#-> setdata()함수를 먼저 실행하지 않아도 되게 해준다\n",
    "#모든 클래스는 생성자를 갖고 있다\n",
    "        \n",
    "    def add(self):   #위의 a와 b값을 더하는 함수\n",
    "        self.result = self.first + self.second\n",
    "        return self.result\n",
    "    \n",
    "    def subtract(self):   #위의 a와 b값을 빼는 함수\n",
    "        self.result = self.first - self.second\n",
    "        return self.result"
   ]
  },
  {
   "cell_type": "code",
   "execution_count": 146,
   "id": "cd28c73d-4e1e-448d-9f5b-cb1e8b077c7c",
   "metadata": {},
   "outputs": [
    {
     "ename": "TypeError",
     "evalue": "FourCal.__init__() missing 2 required positional arguments: 'a' and 'b'",
     "output_type": "error",
     "traceback": [
      "\u001b[1;31m---------------------------------------------------------------------------\u001b[0m",
      "\u001b[1;31mTypeError\u001b[0m                                 Traceback (most recent call last)",
      "Input \u001b[1;32mIn [146]\u001b[0m, in \u001b[0;36m<cell line: 1>\u001b[1;34m()\u001b[0m\n\u001b[1;32m----> 1\u001b[0m cal2 \u001b[38;5;241m=\u001b[39m \u001b[43mFourCal\u001b[49m\u001b[43m(\u001b[49m\u001b[43m)\u001b[49m\n",
      "\u001b[1;31mTypeError\u001b[0m: FourCal.__init__() missing 2 required positional arguments: 'a' and 'b'"
     ]
    }
   ],
   "source": [
    "cal2 = FourCal()"
   ]
  },
  {
   "cell_type": "code",
   "execution_count": 147,
   "id": "b7a92236-8b97-4927-a619-eae6b197d680",
   "metadata": {},
   "outputs": [],
   "source": [
    "cal2 = FourCal(1, 2)"
   ]
  },
  {
   "cell_type": "code",
   "execution_count": 148,
   "id": "e9fa541b-4ed5-4f07-8d49-374bdb7e4643",
   "metadata": {},
   "outputs": [
    {
     "data": {
      "text/plain": [
       "3"
      ]
     },
     "execution_count": 148,
     "metadata": {},
     "output_type": "execute_result"
    }
   ],
   "source": [
    "cal2.add()   #setdata()를 먼저 해주지 않아도 바로 실행할 수 있다"
   ]
  },
  {
   "cell_type": "code",
   "execution_count": 150,
   "id": "7885cde0-5c35-48b1-9237-e83d839189b8",
   "metadata": {},
   "outputs": [
    {
     "data": {
      "text/plain": [
       "-10"
      ]
     },
     "execution_count": 150,
     "metadata": {},
     "output_type": "execute_result"
    }
   ],
   "source": [
    "cal3 = FourCal(10, 20)\n",
    "cal3.subtract()"
   ]
  },
  {
   "cell_type": "code",
   "execution_count": 151,
   "id": "917ea081-19cb-441f-beda-a0fdf288ad39",
   "metadata": {},
   "outputs": [],
   "source": [
    "#사칙연산이 가능한 함수\n",
    "class FourCal:\n",
    "    def __init__(self, a, b):\n",
    "        self.first = a\n",
    "        self.second = b\n",
    "        \n",
    "    def add(self):\n",
    "        self.result = self.first + self.second\n",
    "        return self.result\n",
    "    \n",
    "    def subtract(self):\n",
    "        self.result = self.first - self.second\n",
    "        return self.result\n",
    "    \n",
    "    def multiply(self):\n",
    "        self.result = self.first * self.second\n",
    "        return self.result\n",
    "    \n",
    "    def divide(self):\n",
    "        self.result = self.first / self.second\n",
    "        return self.result"
   ]
  },
  {
   "cell_type": "code",
   "execution_count": 160,
   "id": "a1081ad9-9da2-4c1d-a6dd-efa0f0e2ae57",
   "metadata": {},
   "outputs": [],
   "source": [
    "cal = FourCal(1, 0)"
   ]
  },
  {
   "cell_type": "code",
   "execution_count": 161,
   "id": "8da02583-7852-4b43-8e3e-1050db91d2bf",
   "metadata": {},
   "outputs": [
    {
     "data": {
      "text/plain": [
       "1"
      ]
     },
     "execution_count": 161,
     "metadata": {},
     "output_type": "execute_result"
    }
   ],
   "source": [
    "cal.add()"
   ]
  },
  {
   "cell_type": "code",
   "execution_count": 162,
   "id": "4a4f1aa7-6a88-4c47-8b8e-af58a9e226e3",
   "metadata": {},
   "outputs": [
    {
     "data": {
      "text/plain": [
       "0"
      ]
     },
     "execution_count": 162,
     "metadata": {},
     "output_type": "execute_result"
    }
   ],
   "source": [
    "cal.multiply()"
   ]
  },
  {
   "cell_type": "code",
   "execution_count": 164,
   "id": "5678bfae-d02e-4b22-8787-55f3c22206cb",
   "metadata": {},
   "outputs": [
    {
     "ename": "ZeroDivisionError",
     "evalue": "division by zero",
     "output_type": "error",
     "traceback": [
      "\u001b[1;31m---------------------------------------------------------------------------\u001b[0m",
      "\u001b[1;31mZeroDivisionError\u001b[0m                         Traceback (most recent call last)",
      "Input \u001b[1;32mIn [164]\u001b[0m, in \u001b[0;36m<cell line: 1>\u001b[1;34m()\u001b[0m\n\u001b[1;32m----> 1\u001b[0m \u001b[43mcal\u001b[49m\u001b[38;5;241;43m.\u001b[39;49m\u001b[43mdivide\u001b[49m\u001b[43m(\u001b[49m\u001b[43m)\u001b[49m\n",
      "Input \u001b[1;32mIn [151]\u001b[0m, in \u001b[0;36mFourCal.divide\u001b[1;34m(self)\u001b[0m\n\u001b[0;32m     19\u001b[0m \u001b[38;5;28;01mdef\u001b[39;00m \u001b[38;5;21mdivide\u001b[39m(\u001b[38;5;28mself\u001b[39m):\n\u001b[1;32m---> 20\u001b[0m     \u001b[38;5;28mself\u001b[39m\u001b[38;5;241m.\u001b[39mresult \u001b[38;5;241m=\u001b[39m \u001b[38;5;28;43mself\u001b[39;49m\u001b[38;5;241;43m.\u001b[39;49m\u001b[43mfirst\u001b[49m\u001b[43m \u001b[49m\u001b[38;5;241;43m/\u001b[39;49m\u001b[43m \u001b[49m\u001b[38;5;28;43mself\u001b[39;49m\u001b[38;5;241;43m.\u001b[39;49m\u001b[43msecond\u001b[49m\n\u001b[0;32m     21\u001b[0m     \u001b[38;5;28;01mreturn\u001b[39;00m \u001b[38;5;28mself\u001b[39m\u001b[38;5;241m.\u001b[39mresult\n",
      "\u001b[1;31mZeroDivisionError\u001b[0m: division by zero"
     ]
    }
   ],
   "source": [
    "cal.divide()   #\"ZeroDivisionError\" -> 0으로 나누기가 안된다"
   ]
  },
  {
   "cell_type": "code",
   "execution_count": 165,
   "id": "6fd9ff19-dd38-4d8a-92cb-cf07542da2fb",
   "metadata": {},
   "outputs": [],
   "source": [
    "cal = FourCal(1, 2)"
   ]
  },
  {
   "cell_type": "code",
   "execution_count": 166,
   "id": "ee5e3c76-6bca-45b8-ada0-5d7c6e9e0fbe",
   "metadata": {},
   "outputs": [
    {
     "data": {
      "text/plain": [
       "2"
      ]
     },
     "execution_count": 166,
     "metadata": {},
     "output_type": "execute_result"
    }
   ],
   "source": [
    "cal.multiply()"
   ]
  },
  {
   "cell_type": "code",
   "execution_count": 167,
   "id": "eb1b7281-bdbd-487a-ad9b-75f1f65da0bc",
   "metadata": {},
   "outputs": [
    {
     "data": {
      "text/plain": [
       "0.5"
      ]
     },
     "execution_count": 167,
     "metadata": {},
     "output_type": "execute_result"
    }
   ],
   "source": [
    "cal.divide()"
   ]
  },
  {
   "cell_type": "markdown",
   "id": "60042aca-2762-4645-a2f8-5a66225ff487",
   "metadata": {},
   "source": [
    "### 클래스의 상속"
   ]
  },
  {
   "cell_type": "code",
   "execution_count": 174,
   "id": "0a5b1b8c-a399-4b69-bdd2-18f1e438150a",
   "metadata": {},
   "outputs": [],
   "source": [
    "class Child(FourCal):\n",
    "    pass"
   ]
  },
  {
   "cell_type": "code",
   "execution_count": 170,
   "id": "66a4a65f-5d8f-4a65-a0a8-b338922fbb05",
   "metadata": {},
   "outputs": [],
   "source": [
    "cal = Child(10, 20)"
   ]
  },
  {
   "cell_type": "code",
   "execution_count": 171,
   "id": "4acb1b4c-e400-4126-8a8e-9ccaf32f25b5",
   "metadata": {},
   "outputs": [
    {
     "data": {
      "text/plain": [
       "30"
      ]
     },
     "execution_count": 171,
     "metadata": {},
     "output_type": "execute_result"
    }
   ],
   "source": [
    "cal.add()"
   ]
  },
  {
   "cell_type": "code",
   "execution_count": 172,
   "id": "47fae876-e5df-4449-b8ca-29df96858a89",
   "metadata": {},
   "outputs": [
    {
     "data": {
      "text/plain": [
       "200"
      ]
     },
     "execution_count": 172,
     "metadata": {},
     "output_type": "execute_result"
    }
   ],
   "source": [
    "cal.multiply()"
   ]
  },
  {
   "cell_type": "code",
   "execution_count": 179,
   "id": "ef706019-e991-4c3b-a4e3-470adfea6457",
   "metadata": {},
   "outputs": [],
   "source": [
    "#메서드 추가\n",
    "class Child(FourCal):\n",
    "    def power(self):\n",
    "        self.result = self.first ** self.second\n",
    "        return self.result"
   ]
  },
  {
   "cell_type": "code",
   "execution_count": 183,
   "id": "cdeec72a-13a8-46e6-a9ed-435c26a8406b",
   "metadata": {},
   "outputs": [],
   "source": [
    "cal = Child(2, 3)"
   ]
  },
  {
   "cell_type": "code",
   "execution_count": 184,
   "id": "0f229902-0caa-4155-989c-2a003d014cc4",
   "metadata": {},
   "outputs": [
    {
     "data": {
      "text/plain": [
       "8"
      ]
     },
     "execution_count": 184,
     "metadata": {},
     "output_type": "execute_result"
    }
   ],
   "source": [
    "cal.power()   #cal 함수는 상속받은 메서드 '+,-,*,/'에 추가로 '**'까지 수행할 수 있다"
   ]
  },
  {
   "cell_type": "code",
   "execution_count": 185,
   "id": "0fe6b9a6-5c8d-447e-ab93-0aedc52a59e1",
   "metadata": {},
   "outputs": [],
   "source": [
    "cal = Child(1, 0)"
   ]
  },
  {
   "cell_type": "code",
   "execution_count": 186,
   "id": "a0b3e6b5-5c67-4fb7-b4ac-d7bc7a184b0c",
   "metadata": {},
   "outputs": [
    {
     "data": {
      "text/plain": [
       "1"
      ]
     },
     "execution_count": 186,
     "metadata": {},
     "output_type": "execute_result"
    }
   ],
   "source": [
    "cal.power()"
   ]
  },
  {
   "cell_type": "code",
   "execution_count": 187,
   "id": "c3d06041-21d6-4a05-b8e2-5ee821f5160e",
   "metadata": {},
   "outputs": [
    {
     "ename": "ZeroDivisionError",
     "evalue": "division by zero",
     "output_type": "error",
     "traceback": [
      "\u001b[1;31m---------------------------------------------------------------------------\u001b[0m",
      "\u001b[1;31mZeroDivisionError\u001b[0m                         Traceback (most recent call last)",
      "Input \u001b[1;32mIn [187]\u001b[0m, in \u001b[0;36m<cell line: 1>\u001b[1;34m()\u001b[0m\n\u001b[1;32m----> 1\u001b[0m \u001b[43mcal\u001b[49m\u001b[38;5;241;43m.\u001b[39;49m\u001b[43mdivide\u001b[49m\u001b[43m(\u001b[49m\u001b[43m)\u001b[49m\n",
      "Input \u001b[1;32mIn [151]\u001b[0m, in \u001b[0;36mFourCal.divide\u001b[1;34m(self)\u001b[0m\n\u001b[0;32m     19\u001b[0m \u001b[38;5;28;01mdef\u001b[39;00m \u001b[38;5;21mdivide\u001b[39m(\u001b[38;5;28mself\u001b[39m):\n\u001b[1;32m---> 20\u001b[0m     \u001b[38;5;28mself\u001b[39m\u001b[38;5;241m.\u001b[39mresult \u001b[38;5;241m=\u001b[39m \u001b[38;5;28;43mself\u001b[39;49m\u001b[38;5;241;43m.\u001b[39;49m\u001b[43mfirst\u001b[49m\u001b[43m \u001b[49m\u001b[38;5;241;43m/\u001b[39;49m\u001b[43m \u001b[49m\u001b[38;5;28;43mself\u001b[39;49m\u001b[38;5;241;43m.\u001b[39;49m\u001b[43msecond\u001b[49m\n\u001b[0;32m     21\u001b[0m     \u001b[38;5;28;01mreturn\u001b[39;00m \u001b[38;5;28mself\u001b[39m\u001b[38;5;241m.\u001b[39mresult\n",
      "\u001b[1;31mZeroDivisionError\u001b[0m: division by zero"
     ]
    }
   ],
   "source": [
    "cal.divide()"
   ]
  },
  {
   "cell_type": "markdown",
   "id": "53ab8771-cdf4-4ccd-bbf9-55169c75e8be",
   "metadata": {},
   "source": [
    "### method overriding 메서드 오버라이딩 : 메서드 재정의<br>\n",
    "-부모 클래스(상속한 클래스)에 있는 메서드를 동일한 이름으로 다시 만드는 것<br>\n",
    "-메서드 오버라이딩을 하면 부모 클래스의 메서드 대신 오버라이딩한 메서드가 호출된다"
   ]
  },
  {
   "cell_type": "code",
   "execution_count": 203,
   "id": "f0157e64-33fa-418b-b096-f18bf48ca579",
   "metadata": {},
   "outputs": [],
   "source": [
    "class Child(FourCal):\n",
    "    def power(self):\n",
    "        self.result = self.first ** self.second\n",
    "        return self.result\n",
    "    \n",
    "    def divide(self):\n",
    "        if self.second != 0:\n",
    "            self.result = self.first / self.second\n",
    "            return self.result\n",
    "        else:\n",
    "            print(\"0으로 나누셨군요\")"
   ]
  },
  {
   "cell_type": "code",
   "execution_count": 204,
   "id": "78080fb2-28f5-46a6-a7fe-bd8212d4ffb1",
   "metadata": {},
   "outputs": [],
   "source": [
    "cal = Child(1, 0)"
   ]
  },
  {
   "cell_type": "code",
   "execution_count": 205,
   "id": "f50c401c-8647-42ff-866f-e3c62c40a66f",
   "metadata": {},
   "outputs": [
    {
     "name": "stdout",
     "output_type": "stream",
     "text": [
      "0으로 나누셨군요\n"
     ]
    }
   ],
   "source": [
    "cal.divide()   #새로 업데이트된 함수가 적용된다 (메서드를 새로 만들어서 덮어쓰기 한 셈이다)"
   ]
  },
  {
   "cell_type": "code",
   "execution_count": 194,
   "id": "433ff43b-2849-41d7-9363-7cf281e257d5",
   "metadata": {},
   "outputs": [],
   "source": [
    "class Calculator():\n",
    "    def __init__(self, a, b):\n",
    "        self.first = a\n",
    "        self.second = b"
   ]
  },
  {
   "cell_type": "code",
   "execution_count": 196,
   "id": "3c833b71-d39a-4c7b-a1c1-adc46d6e066b",
   "metadata": {},
   "outputs": [],
   "source": [
    "cal = Calculator(1, 2)"
   ]
  },
  {
   "cell_type": "code",
   "execution_count": 199,
   "id": "ad72fe67-6d52-4ee7-9907-895a1ba40aaf",
   "metadata": {},
   "outputs": [
    {
     "data": {
      "text/plain": [
       "1"
      ]
     },
     "execution_count": 199,
     "metadata": {},
     "output_type": "execute_result"
    }
   ],
   "source": [
    "cal.first   #self.first에 해당하는 값을 부른다"
   ]
  },
  {
   "cell_type": "code",
   "execution_count": 200,
   "id": "f3d62774-454b-4801-ae23-73790d3058ec",
   "metadata": {},
   "outputs": [],
   "source": [
    "bal = Calculator(10, 20)"
   ]
  },
  {
   "cell_type": "code",
   "execution_count": 202,
   "id": "32b74fe7-0d67-4a86-aa79-3fbb1029ea1c",
   "metadata": {},
   "outputs": [
    {
     "data": {
      "text/plain": [
       "10"
      ]
     },
     "execution_count": 202,
     "metadata": {},
     "output_type": "execute_result"
    }
   ],
   "source": [
    "bal.first   #self : '객체'를 지칭하는 말"
   ]
  },
  {
   "cell_type": "code",
   "execution_count": null,
   "id": "c9f3b82a-582c-4b5a-9d35-069309a70f66",
   "metadata": {},
   "outputs": [],
   "source": []
  }
 ],
 "metadata": {
  "kernelspec": {
   "display_name": "Python 3 (ipykernel)",
   "language": "python",
   "name": "python3"
  },
  "language_info": {
   "codemirror_mode": {
    "name": "ipython",
    "version": 3
   },
   "file_extension": ".py",
   "mimetype": "text/x-python",
   "name": "python",
   "nbconvert_exporter": "python",
   "pygments_lexer": "ipython3",
   "version": "3.10.6"
  },
  "toc-autonumbering": false
 },
 "nbformat": 4,
 "nbformat_minor": 5
}
