{
 "cells": [
  {
   "cell_type": "code",
   "execution_count": 1,
   "id": "bee26385-50f1-4636-8b8c-1f4722669e2b",
   "metadata": {},
   "outputs": [
    {
     "name": "stdout",
     "output_type": "stream",
     "text": [
      "233168\n"
     ]
    }
   ],
   "source": [
    "i = 1\n",
    "sum3 = 0\n",
    "sum5 = 0\n",
    "while i < 1000:\n",
    "    if i % 3 == 0:\n",
    "        sum3 += i\n",
    "    elif i % 5 == 0:\n",
    "        sum5 += i\n",
    "    i += 1\n",
    "sum_t = sum3 + sum5\n",
    "print(sum_t)"
   ]
  },
  {
   "cell_type": "code",
   "execution_count": 2,
   "id": "58a085d7-9381-4a31-95df-abe325b6ad34",
   "metadata": {},
   "outputs": [
    {
     "name": "stdout",
     "output_type": "stream",
     "text": [
      "233168\n"
     ]
    }
   ],
   "source": [
    "result = 0\n",
    "for n in range(1, 1000):\n",
    "    if n % 3 == 0 or n % 5 == 0:\n",
    "        result += n\n",
    "print(result)"
   ]
  },
  {
   "cell_type": "code",
   "execution_count": 5,
   "id": "5d40db88-d3fd-48c1-9e8f-52c41c48cf5e",
   "metadata": {},
   "outputs": [],
   "source": [
    "def two_times(num_list):\n",
    "    result = []\n",
    "    for num in num_list:\n",
    "        result.append(num*2)\n",
    "    return result"
   ]
  },
  {
   "cell_type": "code",
   "execution_count": 7,
   "id": "3eed3f8a-30da-479f-b062-d0deb2516bf1",
   "metadata": {},
   "outputs": [
    {
     "data": {
      "text/plain": [
       "[2, 4, 6, 8]"
      ]
     },
     "execution_count": 7,
     "metadata": {},
     "output_type": "execute_result"
    }
   ],
   "source": [
    "result = two_times([1,2,3,4])\n",
    "result"
   ]
  },
  {
   "cell_type": "code",
   "execution_count": 8,
   "id": "cd709417-2982-46f8-8584-2e385ee94a2e",
   "metadata": {},
   "outputs": [
    {
     "data": {
      "text/plain": [
       "[2, 4, 6, 8]"
      ]
     },
     "execution_count": 8,
     "metadata": {},
     "output_type": "execute_result"
    }
   ],
   "source": [
    "def two_times(x):\n",
    "    return x*2\n",
    "\n",
    "list(map(two_times, [1,2,3,4]))"
   ]
  },
  {
   "cell_type": "code",
   "execution_count": 9,
   "id": "66a64883-2d68-48fa-a434-a733e77fa611",
   "metadata": {},
   "outputs": [
    {
     "data": {
      "text/plain": [
       "[2, 4, 6, 8]"
      ]
     },
     "execution_count": 9,
     "metadata": {},
     "output_type": "execute_result"
    }
   ],
   "source": [
    "list(map(lambda x: x*2, [1,2,3,4]))"
   ]
  },
  {
   "cell_type": "code",
   "execution_count": 10,
   "id": "28e76f59-06bc-452b-812c-918ef9455ce7",
   "metadata": {},
   "outputs": [
    {
     "name": "stdout",
     "output_type": "stream",
     "text": [
      "(1, 4, 'a')\n",
      "(2, 5, 'b')\n",
      "(3, 6, 'c')\n"
     ]
    }
   ],
   "source": [
    "for i in zip([1,2,3], [4,5,6], ['a','b','c']):\n",
    "    print(i)"
   ]
  },
  {
   "cell_type": "code",
   "execution_count": 11,
   "id": "fcdf0efe-30f1-450a-b272-7ae1ad471a20",
   "metadata": {},
   "outputs": [
    {
     "data": {
      "text/plain": [
       "[(1, 4, 'a'), (2, 5, 'b'), (3, 6, 'c')]"
      ]
     },
     "execution_count": 11,
     "metadata": {},
     "output_type": "execute_result"
    }
   ],
   "source": [
    "list(zip([1,2,3], [4,5,6], ['a','b','c']))"
   ]
  },
  {
   "cell_type": "code",
   "execution_count": 12,
   "id": "1a0662b6-acf7-4685-82a5-47ef3e2bd0d2",
   "metadata": {},
   "outputs": [
    {
     "data": {
      "text/plain": [
       "<zip at 0x25919b24740>"
      ]
     },
     "execution_count": 12,
     "metadata": {},
     "output_type": "execute_result"
    }
   ],
   "source": [
    "zip([1,2,3], [4,5,6], ['a','b','c'])"
   ]
  },
  {
   "cell_type": "code",
   "execution_count": 13,
   "id": "fc54fea9-ad8b-45cc-91d2-95ba5f6b7efe",
   "metadata": {},
   "outputs": [
    {
     "name": "stdout",
     "output_type": "stream",
     "text": [
      "1 4 a\n",
      "2 5 b\n",
      "3 6 c\n"
     ]
    }
   ],
   "source": [
    "for i, j, k in zip([1,2,3], [4,5,6], ['a','b','c']):\n",
    "    print(i, j, k)"
   ]
  },
  {
   "cell_type": "code",
   "execution_count": null,
   "id": "8625ce2c-43e9-4dbf-b2e0-9f3142378df6",
   "metadata": {},
   "outputs": [],
   "source": []
  }
 ],
 "metadata": {
  "kernelspec": {
   "display_name": "Python 3 (ipykernel)",
   "language": "python",
   "name": "python3"
  },
  "language_info": {
   "codemirror_mode": {
    "name": "ipython",
    "version": 3
   },
   "file_extension": ".py",
   "mimetype": "text/x-python",
   "name": "python",
   "nbconvert_exporter": "python",
   "pygments_lexer": "ipython3",
   "version": "3.10.6"
  }
 },
 "nbformat": 4,
 "nbformat_minor": 5
}
