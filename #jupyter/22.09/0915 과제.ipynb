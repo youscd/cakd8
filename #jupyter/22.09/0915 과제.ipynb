{
 "cells": [
  {
   "cell_type": "code",
   "execution_count": 7,
   "id": "f45d65af-0071-455d-ad41-c0b155d38dea",
   "metadata": {},
   "outputs": [
    {
     "name": "stdout",
     "output_type": "stream",
     "text": [
      "010-****-5678\n",
      "010-****-7566\n",
      "010-****-6984\n"
     ]
    }
   ],
   "source": [
    "#1\n",
    "import re\n",
    "\n",
    "phone = ['010-1234-5678', '010-8574-7566', '010-751-6984']\n",
    "for number in phone:\n",
    "    print(re.sub(\"-\\d+-\", \"-****-\", number))"
   ]
  },
  {
   "cell_type": "code",
   "execution_count": 8,
   "id": "6d662339-f68d-4478-8cc8-6f85c4504f02",
   "metadata": {},
   "outputs": [],
   "source": [
    "#2\n",
    "id_list = []\n",
    "class Membership:\n",
    "    def __init__(self, id_, pw_):\n",
    "        self.id_ = id_\n",
    "        self.pw_ = pw_\n",
    "        \n",
    "        id_list.append(id_)\n",
    "        \n",
    "        self.log_state = 'logout'\n",
    "        self.log_time = 0"
   ]
  },
  {
   "cell_type": "code",
   "execution_count": 10,
   "id": "a2d57213-a630-4713-8249-7510b20d94aa",
   "metadata": {},
   "outputs": [],
   "source": [
    "#2-1\n",
    "def join():\n",
    "    while True:\n",
    "        id_ = input(\"아이디 설정: \")\n",
    "        if id_ in id_list:\n",
    "            print(\"이미 존재하는 아이디 입니다\")\n",
    "            continue\n",
    "        else:\n",
    "            id_list.append(id_)\n",
    "            break\n",
    "            \n",
    "    while True:\n",
    "        pw_ = input(\"비밀번호 설정: \")\n",
    "        \n",
    "        check = re.sub(\"[a-Z]+\", \"1\", pw_)\n",
    "        \n",
    "        try:\n",
    "            check = int(check)\n",
    "            break\n",
    "            \n",
    "        except:\n",
    "            print(\"빈칸없이 영문과 숫자 조합으로 설정해주세요\")\n",
    "    \n",
    "    return Membership(id_, pw_)"
   ]
  },
  {
   "cell_type": "code",
   "execution_count": 11,
   "id": "45cea7f5-b035-4551-9ceb-32f0d33a67d6",
   "metadata": {},
   "outputs": [],
   "source": [
    "#2-2\n",
    "id_list = []\n",
    "class Membership:\n",
    "    def __init__(self, id_, pw_):\n",
    "        self.id_ = id_\n",
    "        self.pw_ = pw_\n",
    "        \n",
    "        id_list.append(id_)\n",
    "        \n",
    "        self.log_state = 'logout'\n",
    "        self.log_time = 0\n",
    "        \n",
    "    def log(self):\n",
    "        import time\n",
    "        if self.log_state == 'logout':\n",
    "            self.log_state = 'login'\n",
    "            self.log_time = time.time()\n",
    "        elif self.log_state == 'login':\n",
    "            self.log_state = 'logout'\n",
    "            print(f\"{(time.time() - self.log_time)//60}분 동안 로그인 하셨습니다\")\n",
    "        print(self.log_state)"
   ]
  },
  {
   "cell_type": "code",
   "execution_count": 12,
   "id": "31b3f0ab-908b-4e92-a97a-6b4c015b2a16",
   "metadata": {},
   "outputs": [
    {
     "data": {
      "text/plain": [
       "[11, 24, 42, 68, 95]"
      ]
     },
     "execution_count": 12,
     "metadata": {},
     "output_type": "execute_result"
    }
   ],
   "source": [
    "#3\n",
    "a = [1,2,3,4,5]\n",
    "b = [14,11,12,17,19]\n",
    "\n",
    "list(map(lambda x, y: x*y, a, sorted(b)))"
   ]
  },
  {
   "cell_type": "code",
   "execution_count": 23,
   "id": "12f0613c-7d89-4f8f-a145-9d004ae99cc0",
   "metadata": {},
   "outputs": [
    {
     "name": "stdin",
     "output_type": "stream",
     "text": [
      "id를 입력하세요:  qwertyuiopasdfghjkl\n"
     ]
    },
    {
     "ename": "AttributeError",
     "evalue": "'NoneType' object has no attribute 'group'",
     "output_type": "error",
     "traceback": [
      "\u001b[1;31m---------------------------------------------------------------------------\u001b[0m",
      "\u001b[1;31mAttributeError\u001b[0m                            Traceback (most recent call last)",
      "Input \u001b[1;32mIn [23]\u001b[0m, in \u001b[0;36m<cell line: 8>\u001b[1;34m()\u001b[0m\n\u001b[0;32m      4\u001b[0m p \u001b[38;5;241m=\u001b[39m re\u001b[38;5;241m.\u001b[39mcompile(\u001b[38;5;124m\"\u001b[39m\u001b[38;5;124m^[A-z].\u001b[39m\u001b[38;5;124m{\u001b[39m\u001b[38;5;124m3,11}$\u001b[39m\u001b[38;5;124m\"\u001b[39m)\n\u001b[0;32m      6\u001b[0m id0 \u001b[38;5;241m=\u001b[39m \u001b[38;5;28minput\u001b[39m(\u001b[38;5;124m\"\u001b[39m\u001b[38;5;124mid를 입력하세요: \u001b[39m\u001b[38;5;124m\"\u001b[39m)\n\u001b[1;32m----> 8\u001b[0m m \u001b[38;5;241m=\u001b[39m \u001b[43mp\u001b[49m\u001b[38;5;241;43m.\u001b[39;49m\u001b[43msearch\u001b[49m\u001b[43m(\u001b[49m\u001b[43mid0\u001b[49m\u001b[43m)\u001b[49m\u001b[38;5;241;43m.\u001b[39;49m\u001b[43mgroup\u001b[49m()\n\u001b[0;32m     10\u001b[0m \u001b[38;5;28;01mif\u001b[39;00m m \u001b[38;5;241m==\u001b[39m id0:\n\u001b[0;32m     11\u001b[0m     \u001b[38;5;28mprint\u001b[39m(m)\n",
      "\u001b[1;31mAttributeError\u001b[0m: 'NoneType' object has no attribute 'group'"
     ]
    }
   ],
   "source": [
    "#4\n",
    "import re\n",
    "\n",
    "p = re.compile(\"^[A-z].{3,11}$\")\n",
    "\n",
    "id0 = input(\"id를 입력하세요: \")\n",
    "\n",
    "m = p.search(id0).group()\n",
    "\n",
    "if m == id0:\n",
    "    print(m)\n",
    "    print(\"사용 가능한 id 입니다\")\n",
    "else:\n",
    "    print(\"사용할 수 없는 id 입니다\")"
   ]
  },
  {
   "cell_type": "code",
   "execution_count": 24,
   "id": "11d14bb8-e6c3-447a-8b87-46d629559985",
   "metadata": {},
   "outputs": [
    {
     "name": "stdin",
     "output_type": "stream",
     "text": [
      "id를 입력하세요:  ryusdb\n"
     ]
    },
    {
     "name": "stdout",
     "output_type": "stream",
     "text": [
      "qwertyuiopasd\n",
      "사용 가능한 id 입니다\n"
     ]
    }
   ],
   "source": [
    "import re\n",
    "\n",
    "p = re.compile(\"^[A-z].{3,11}$\")\n",
    "\n",
    "id0 = input(\"id를 입력하세요: \")\n",
    "\n",
    "if p.search(id0.replace(\" \",\"\")):\n",
    "    print(m)\n",
    "    print(\"사용 가능한 id 입니다\")\n",
    "else:\n",
    "    print(\"사용할 수 없는 id 입니다\")"
   ]
  },
  {
   "cell_type": "code",
   "execution_count": null,
   "id": "341090f1-4b64-435b-80e6-bd7e3cf36903",
   "metadata": {},
   "outputs": [],
   "source": []
  }
 ],
 "metadata": {
  "kernelspec": {
   "display_name": "Python 3 (ipykernel)",
   "language": "python",
   "name": "python3"
  },
  "language_info": {
   "codemirror_mode": {
    "name": "ipython",
    "version": 3
   },
   "file_extension": ".py",
   "mimetype": "text/x-python",
   "name": "python",
   "nbconvert_exporter": "python",
   "pygments_lexer": "ipython3",
   "version": "3.10.6"
  }
 },
 "nbformat": 4,
 "nbformat_minor": 5
}
