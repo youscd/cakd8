{
 "cells": [
  {
   "cell_type": "code",
   "execution_count": 1,
   "id": "798e7337-f80e-4f6d-825f-d734e31761ef",
   "metadata": {},
   "outputs": [
    {
     "name": "stdout",
     "output_type": "stream",
     "text": [
      "0, 1, 2, 3, 4, 5, 6, 7, 8, 9, "
     ]
    }
   ],
   "source": [
    "i = 0\n",
    "while i < 10:\n",
    "    print(i, end = \", \")\n",
    "    i += 1"
   ]
  },
  {
   "cell_type": "code",
   "execution_count": 3,
   "id": "7bca419a-699c-4e58-94ea-35d9567ea160",
   "metadata": {},
   "outputs": [
    {
     "name": "stdout",
     "output_type": "stream",
     "text": [
      "0 1 2 3 4 5 6 7 8 9 10\n",
      "끝\n"
     ]
    }
   ],
   "source": [
    "import time\n",
    "i = 0\n",
    "while True:\n",
    "    print(i, end = (\" \"))\n",
    "    i += 1\n",
    "    #time.sleep(1)\n",
    "    if i == 10:\n",
    "        print(i)\n",
    "        break\n",
    "print(\"끝\")"
   ]
  },
  {
   "cell_type": "code",
   "execution_count": 5,
   "id": "66598200-864a-4a27-a999-cedb231675a4",
   "metadata": {},
   "outputs": [
    {
     "name": "stdout",
     "output_type": "stream",
     "text": [
      "0 1 3 6 10 15 21 28 36 45 55 끝\n"
     ]
    }
   ],
   "source": [
    "#1부터 10까지의 합\n",
    "i = 0\n",
    "sum = 0\n",
    "while True:\n",
    "    sum += i\n",
    "    print(sum, end = \" \")\n",
    "    i += 1\n",
    "    #time.sleep(1)\n",
    "    if i == 11:\n",
    "        break\n",
    "print(\"끝\")"
   ]
  },
  {
   "cell_type": "code",
   "execution_count": 6,
   "id": "43533e29-a739-4fcd-ad58-3fcfee14012a",
   "metadata": {},
   "outputs": [
    {
     "name": "stdout",
     "output_type": "stream",
     "text": [
      "0 1 3 6 10 15 21 28 36 45 55 55\n"
     ]
    }
   ],
   "source": [
    "i = 0\n",
    "sum = 0\n",
    "while i <= 10:\n",
    "    sum += i\n",
    "    print(sum, end = \" \")\n",
    "    i += 1\n",
    "print(sum)"
   ]
  },
  {
   "cell_type": "code",
   "execution_count": 9,
   "id": "5f67feac-021e-480c-aa4f-991d90380a30",
   "metadata": {},
   "outputs": [
    {
     "name": "stdout",
     "output_type": "stream",
     "text": [
      "3 9 18 18\n"
     ]
    }
   ],
   "source": [
    "#1부터 10까지 3의 배수들의 합\n",
    "i = 1\n",
    "sum = 0\n",
    "while i <= 10:\n",
    "    if i%3 == 0:\n",
    "        sum += i\n",
    "        print(sum, end = \" \")\n",
    "    i += 1\n",
    "print(sum)"
   ]
  },
  {
   "cell_type": "code",
   "execution_count": null,
   "id": "5e33a921-39e4-40c9-bb97-6b4709821718",
   "metadata": {},
   "outputs": [],
   "source": [
    "#3의 배수가 아닌 것만 출력\n",
    "i = 0\n",
    "while i < 10:\n",
    "    if i%3 == 0:\n",
    "        continue\n",
    "    print(i)"
   ]
  },
  {
   "cell_type": "code",
   "execution_count": null,
   "id": "3e808f4c-31c3-4a75-9502-6af0c75b4423",
   "metadata": {},
   "outputs": [],
   "source": []
  }
 ],
 "metadata": {
  "kernelspec": {
   "display_name": "Python 3 (ipykernel)",
   "language": "python",
   "name": "python3"
  },
  "language_info": {
   "codemirror_mode": {
    "name": "ipython",
    "version": 3
   },
   "file_extension": ".py",
   "mimetype": "text/x-python",
   "name": "python",
   "nbconvert_exporter": "python",
   "pygments_lexer": "ipython3",
   "version": "3.10.6"
  }
 },
 "nbformat": 4,
 "nbformat_minor": 5
}
