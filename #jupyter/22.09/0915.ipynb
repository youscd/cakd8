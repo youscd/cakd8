{
 "cells": [
  {
   "cell_type": "markdown",
   "id": "c71c4bdb-d1bb-4dc3-9f82-f26935734e5f",
   "metadata": {
    "jp-MarkdownHeadingCollapsed": true,
    "tags": []
   },
   "source": [
    "### 0914 복습"
   ]
  },
  {
   "cell_type": "code",
   "execution_count": 1,
   "id": "9d1d65f1-11a5-4b17-a146-c273c60db3e9",
   "metadata": {},
   "outputs": [],
   "source": [
    "import random"
   ]
  },
  {
   "cell_type": "code",
   "execution_count": 5,
   "id": "2fbcbeb3-44b0-4456-9c41-09422cc2e8d1",
   "metadata": {},
   "outputs": [
    {
     "data": {
      "text/plain": [
       "[2, 4, 5, 1, 3]"
      ]
     },
     "execution_count": 5,
     "metadata": {},
     "output_type": "execute_result"
    }
   ],
   "source": [
    "a = [1,2,3,4,5]\n",
    "random.shuffle(a)\n",
    "a"
   ]
  },
  {
   "cell_type": "code",
   "execution_count": 6,
   "id": "a6986c29-c724-4fad-9023-e76f852bdc00",
   "metadata": {},
   "outputs": [
    {
     "data": {
      "text/plain": [
       "[25, 30, 35, 40]"
      ]
     },
     "execution_count": 6,
     "metadata": {},
     "output_type": "execute_result"
    }
   ],
   "source": [
    "list(map(lambda x: x*5, [5,6,7,8]))"
   ]
  },
  {
   "cell_type": "code",
   "execution_count": 13,
   "id": "f9841459-8bff-4610-b52f-ecb4ff971f68",
   "metadata": {},
   "outputs": [
    {
     "name": "stdout",
     "output_type": "stream",
     "text": [
      "1, 2, 3, 4, 5, 6, 7, 8, 9, "
     ]
    }
   ],
   "source": [
    "i = 1\n",
    "while i < 10:\n",
    "    print(i, end = \", \")\n",
    "    i += 1"
   ]
  },
  {
   "cell_type": "code",
   "execution_count": 14,
   "id": "43e4f779-74cb-471b-aac0-c66a96403d14",
   "metadata": {},
   "outputs": [
    {
     "name": "stdout",
     "output_type": "stream",
     "text": [
      "[5, 10, 15, 20]\n"
     ]
    }
   ],
   "source": [
    "a = [1,2,3,4]\n",
    "li = []\n",
    "for i in a:\n",
    "    li.append(i*5)\n",
    "    \n",
    "print(li)"
   ]
  },
  {
   "cell_type": "code",
   "execution_count": 15,
   "id": "a6fc00b1-6031-49de-81b7-5ae2ef7cec43",
   "metadata": {},
   "outputs": [],
   "source": [
    "import re"
   ]
  },
  {
   "cell_type": "code",
   "execution_count": 16,
   "id": "eb102144-5556-4c3d-a230-b1dc0693c691",
   "metadata": {},
   "outputs": [
    {
     "data": {
      "text/plain": [
       "'I like apple And apple'"
      ]
     },
     "execution_count": 16,
     "metadata": {},
     "output_type": "execute_result"
    }
   ],
   "source": [
    "sen = \"I like apble And abple\" \n",
    "re.sub(\"b\", \"p\", sen)"
   ]
  },
  {
   "cell_type": "code",
   "execution_count": 17,
   "id": "52a00e39-b178-47e8-bdc1-47a2af57e664",
   "metadata": {},
   "outputs": [
    {
     "data": {
      "text/plain": [
       "'I like apple And apple'"
      ]
     },
     "execution_count": 17,
     "metadata": {},
     "output_type": "execute_result"
    }
   ],
   "source": [
    "re.sub(\"apble|abple\", \"apple\", sen)"
   ]
  },
  {
   "cell_type": "code",
   "execution_count": 26,
   "id": "00d4b16e-2b5b-4501-a8f9-78a7fc59b8e8",
   "metadata": {},
   "outputs": [
    {
     "name": "stdout",
     "output_type": "stream",
     "text": [
      "010-1**-****\n",
      "010-1**-****\n",
      "010-1**-****\n",
      "010-1**-****\n",
      "010-1**-****\n",
      "010-1**-****\n",
      "010-1**-****\n",
      "010-1**-****\n",
      "010-1**-****\n",
      "010-1**-****\n"
     ]
    }
   ],
   "source": [
    "phone_number = ['010-123-1234', '010-111-1111', '010-222-2222', '010-333-3333', '010-444-4444', '010-555-5555', '010-666-6666', '010-777-7777', '010-888-8888', '010-999-9999']\n",
    "for i in phone_number:\n",
    "    print(re.sub(\"-\\d{3}-\\d{4}\", \"-1**-****\", i))"
   ]
  },
  {
   "cell_type": "code",
   "execution_count": 27,
   "id": "0cf32c8e-fcb3-4aca-8053-035b901a3e6a",
   "metadata": {},
   "outputs": [
    {
     "name": "stdout",
     "output_type": "stream",
     "text": [
      "010-1**-****\n",
      "010-1**-****\n",
      "010-2**-****\n",
      "010-3**-****\n",
      "010-4**-****\n",
      "010-5**-****\n",
      "010-6**-****\n",
      "010-7**-****\n",
      "010-8**-****\n",
      "010-9**-****\n"
     ]
    }
   ],
   "source": [
    "for i in phone_number:\n",
    "    print(re.sub(\"\\d{2}-\\d{4}\", \"**-****\", i))"
   ]
  },
  {
   "cell_type": "code",
   "execution_count": 31,
   "id": "343b87e8-cceb-4203-b487-2fdadb0b8888",
   "metadata": {},
   "outputs": [
    {
     "name": "stdout",
     "output_type": "stream",
     "text": [
      "손흥민, 황의조, A, 황희찬, A, "
     ]
    }
   ],
   "source": [
    "names = ['손흥민', '황의조', '이 호', '황희찬', '홍 철']\n",
    "for name in names:\n",
    "    print(re.sub(\"\\w\\s\\w\", \"A\", name), end = \", \")"
   ]
  },
  {
   "cell_type": "code",
   "execution_count": 34,
   "id": "877cde65-7b35-461b-8710-823fc8566d5a",
   "metadata": {},
   "outputs": [
    {
     "name": "stdout",
     "output_type": "stream",
     "text": [
      "손흥민, 황의조, A, 황희찬, A, "
     ]
    }
   ],
   "source": [
    "names = ['손흥민', '황의조', '이 호', '황희찬', '홍 철']\n",
    "for name in names:\n",
    "    print(re.sub(\"\\w[ ]\\w\", \"A\", name), end = \", \")"
   ]
  },
  {
   "cell_type": "code",
   "execution_count": 32,
   "id": "4da9216a-05f9-49fc-87d2-4086a6743574",
   "metadata": {},
   "outputs": [
    {
     "name": "stdout",
     "output_type": "stream",
     "text": [
      "손흥민, 황의조, A, 황희찬, A, "
     ]
    }
   ],
   "source": [
    "for name in names:\n",
    "    print(re.sub(\".[ ].\", \"A\", name), end = \", \")"
   ]
  },
  {
   "cell_type": "code",
   "execution_count": 33,
   "id": "8f209f6f-ce24-4927-a0dc-e7f059906766",
   "metadata": {},
   "outputs": [
    {
     "name": "stdout",
     "output_type": "stream",
     "text": [
      "손흥민, 황의조, A, 황희찬, A, "
     ]
    }
   ],
   "source": [
    "for name in names:\n",
    "    print(re.sub(\". .\", \"A\", name), end = \", \")"
   ]
  },
  {
   "cell_type": "code",
   "execution_count": 41,
   "id": "184a37e1-beb3-4c45-a6bf-351a8668effb",
   "metadata": {},
   "outputs": [
    {
     "name": "stdout",
     "output_type": "stream",
     "text": [
      "['EEE6', 'QPPPPOL', '8LK92KR', 'R2KKC', 'CCN', 'N4NDDD', 'OS', 'SW7JCX', 'BI9V', 'A3IKS', '827', '7S0UYV5', 'VVVB7', 'BG8E6EG', 'XG', 'CQ3QQ', 'Q5QS0V', 'MM31M3', 'MDA', 'NITGL']\n"
     ]
    }
   ],
   "source": [
    "words = []\n",
    "for count in range(20):\n",
    "    word = \"\"\n",
    "    while len(word) <= random.randint(1, 10):\n",
    "        a = random.randint(1, 3)\n",
    "        if a == 1:\n",
    "            English = chr(random.randint(65, 90))\n",
    "            word += English\n",
    "        elif a == 2:\n",
    "            english = chr(random.randint(97, 122))\n",
    "            word += English\n",
    "        else:\n",
    "            number = str(random.randint(0, 9))\n",
    "            word += number\n",
    "    words.append(word)\n",
    "    \n",
    "print(words)"
   ]
  },
  {
   "cell_type": "code",
   "execution_count": 44,
   "id": "847ebfa6-8dd4-42a0-be09-cc80a1a39eb9",
   "metadata": {
    "tags": []
   },
   "outputs": [
    {
     "name": "stdout",
     "output_type": "stream",
     "text": [
      "['bcVY6V4s', 'lIh', '0CCtKu5SD', 'QrD2ePYn', '60bvivF43W', 'P5pY7u', '2ala29198K', 'uD73FZ02br', 'J', '15Ym2g', 'O9UdfZ', 'o', '05iopZ', 'tDFZ', 'cctr3o2O', 'F4Xa896PI', '8', '1f2yfD8', 'N70', '3D3i1']\n"
     ]
    }
   ],
   "source": [
    "words = []\n",
    "for count in range(20):\n",
    "    word = ''\n",
    "    length = random.randint(1,10)\n",
    "    while True:\n",
    "        prob = random.randint(1,3)\n",
    "        if prob == 1:\n",
    "            word = word + chr(random.randint(65,90))\n",
    "        elif prob == 2:\n",
    "            word = word + chr(random.randint(97,122))\n",
    "        else:\n",
    "            word = word + str(random.randint(0,9))\n",
    "        if len(word) == length:\n",
    "            break\n",
    "    words.append(word)\n",
    "print(words)"
   ]
  },
  {
   "cell_type": "code",
   "execution_count": 45,
   "id": "14cb7157-f912-43a7-bcc1-0f3fb6679664",
   "metadata": {
    "tags": []
   },
   "outputs": [
    {
     "name": "stdout",
     "output_type": "stream",
     "text": [
      "['MqQ0wH0Q', 'D3I2', 'l2X6e', 'Sbuxd2SF2', '9MAc', 'K5', 'UREa8', 'S8gqC', 'rn', 'b3u', 'XN69fR2', '50r72', 'D8o8', 'O4Epy', 's5Kl', '24', '68p8', 'n5Fc', 'y9', 'o14lX8']\n"
     ]
    }
   ],
   "source": [
    "words = []\n",
    "for count in range(20) :\n",
    "    word = \"\"\n",
    "    while len(word) <= random.randint(1, 10) :\n",
    "        word += ''.join(random.choice(str(random.randint(0,9)) + chr(random.randint(65, 90)) + chr(random.randint(97, 122))))\n",
    "    words.append(word)\n",
    "print(words)"
   ]
  },
  {
   "cell_type": "code",
   "execution_count": 46,
   "id": "260ed68a-e5c4-43bb-9b75-c9b6c98ddf54",
   "metadata": {
    "tags": []
   },
   "outputs": [
    {
     "name": "stdout",
     "output_type": "stream",
     "text": [
      "['HD', '45E5M', '0e1bt', 'yf0L8', 'ImsNne', 'R4', '76', '6Gb1x5c', 'Z0Sl', '74DJ1', 'T3', '03sr8', '04oq', 'I91ITV', '2gPmR3', 'eJ8bJ', 'fDJ', 'Z5', 'a65N5W3', 'v6HS']\n"
     ]
    }
   ],
   "source": [
    "words = []\n",
    "for count in range(20) :\n",
    "    word = \"\"\n",
    "    while len(word) <= random.randint(1, 10) :\n",
    "        word += random.choice(str(random.randint(0,9)) + chr(random.randint(65, 90)) + chr(random.randint(97, 122)))\n",
    "    words.append(word)\n",
    "print(words)"
   ]
  },
  {
   "cell_type": "code",
   "execution_count": 53,
   "id": "fcdff033-f20a-4a38-ab1d-24b8df5c95c8",
   "metadata": {},
   "outputs": [
    {
     "name": "stdout",
     "output_type": "stream",
     "text": [
      "['4S46p', '1116', '0Y', 'BqYP5i', 'ExP', 'ar3W071', 'p9', 'vI', 'g0hqJ9', 'mC898T', '8ib73', '2Bu', 'tBmZ', '7e8jx', '4eX', 'RP3', 'qY', 'S0cdEF7', 'irJsQd', 'jBIR47']\n"
     ]
    }
   ],
   "source": [
    "words = []\n",
    "for count in range(20) :\n",
    "    word = \"\"\n",
    "    while len(word) <= random.randint(1, 10) :\n",
    "        word += random.choice(str(random.randint(0,9)) + chr(random.randint(65, 90)) + chr(random.randint(97, 122)))\n",
    "    words.append(word)\n",
    "print(words)"
   ]
  },
  {
   "cell_type": "code",
   "execution_count": 55,
   "id": "b8dc1ee5-8e6c-4d78-8857-7ced345a0ce8",
   "metadata": {},
   "outputs": [
    {
     "name": "stdout",
     "output_type": "stream",
     "text": [
      "4S46p,  1116,  0Y,  BqYP5i,  ExP,  ar3W071,  p9,  vI,  g0hqJ9,  #,  8ib73,  2Bu,  #,  7e8jx,  4eX,  RP3,  qY,  S0cdEF7,  irJsQd,  jBIR47,  "
     ]
    }
   ],
   "source": [
    "for word in words:\n",
    "    print(re.sub(\"^[a-z].+[A-Z]$\", \"#\", word), end = \",  \")"
   ]
  },
  {
   "cell_type": "code",
   "execution_count": 58,
   "id": "b5116117-6be2-4ef0-a111-74c6d2c08a87",
   "metadata": {},
   "outputs": [
    {
     "name": "stdout",
     "output_type": "stream",
     "text": [
      "4S46p,  1116,  0Y,  #,  #,  ar3W071,  p9,  vI,  g0hqJ9,  #,  8ib73,  2Bu,  #,  7e8jx,  4eX,  RP3,  qY,  S0cdEF7,  #,  jBIR47,  "
     ]
    }
   ],
   "source": [
    "for word in words:\n",
    "    print(re.sub(\"^\\D.+\\D$\", \"#\", word), end = \",  \")"
   ]
  },
  {
   "cell_type": "markdown",
   "id": "795b8e91-8add-4f21-8dbf-ec956864d729",
   "metadata": {},
   "source": [
    "### 0915"
   ]
  },
  {
   "cell_type": "markdown",
   "id": "6e34a1ad-9e59-4d1b-b384-6d49307e7d82",
   "metadata": {},
   "source": [
    "### (2) re 모듈"
   ]
  },
  {
   "cell_type": "code",
   "execution_count": 59,
   "id": "2226cc8e-4704-4e55-b37b-b8c67beec013",
   "metadata": {},
   "outputs": [
    {
     "data": {
      "text/plain": [
       "re.Pattern"
      ]
     },
     "execution_count": 59,
     "metadata": {},
     "output_type": "execute_result"
    }
   ],
   "source": [
    "p = re.compile(\"^[a-z].+[A-Z]$\")\n",
    "type(p)"
   ]
  },
  {
   "cell_type": "code",
   "execution_count": 63,
   "id": "f2b5bd97-7dea-4007-b43c-02fc81aba016",
   "metadata": {},
   "outputs": [
    {
     "name": "stdout",
     "output_type": "stream",
     "text": [
      "['4S46p', '1116', '0Y', 'BqYP5i', 'ExP', 'ar3W071', 'p9', 'vI', 'g0hqJ9', 'mC898T', '8ib73', '2Bu', 'tBmZ', '7e8jx', '4eX', 'RP3', 'qY', 'S0cdEF7', 'irJsQd', 'jBIR47']\n"
     ]
    }
   ],
   "source": [
    "for word in words:\n",
    "    p = re.compile(\"^[a-z].+[A-Z]$\")\n",
    "    p.sub(\"#\", word)\n",
    "print(words)    \n",
    "#for문 안의 코드 두줄 : re.sub(\"^[a-z].+[A-Z]$\", \"#\", word) 와 동일한 표현\n",
    "#complie로 코딩하는 것을 더 권장 -> 메모리를 절약할 수 있고, 속도가 더 빠르다"
   ]
  },
  {
   "cell_type": "markdown",
   "id": "3efb8551-d3ae-4b33-8253-b581064f9af3",
   "metadata": {
    "jp-MarkdownHeadingCollapsed": true,
    "tags": []
   },
   "source": [
    "#### * re의 메소드"
   ]
  },
  {
   "cell_type": "code",
   "execution_count": 108,
   "id": "2a61d052-30bc-44d9-a160-de84fa9e0d39",
   "metadata": {},
   "outputs": [],
   "source": [
    "p = re.compile(\"[a-z]+\")"
   ]
  },
  {
   "cell_type": "code",
   "execution_count": 109,
   "id": "46905dbd-4a3f-4251-a74f-a1fd87a4dfb1",
   "metadata": {},
   "outputs": [
    {
     "data": {
      "text/plain": [
       "<re.Match object; span=(0, 6), match='python'>"
      ]
     },
     "execution_count": 109,
     "metadata": {},
     "output_type": "execute_result"
    }
   ],
   "source": [
    "p.match(\"python\")"
   ]
  },
  {
   "cell_type": "code",
   "execution_count": 67,
   "id": "20a674ce-e379-46e5-88b0-62bbdbb0472d",
   "metadata": {},
   "outputs": [
    {
     "data": {
      "text/plain": [
       "<re.Match object; span=(0, 6), match='python'>"
      ]
     },
     "execution_count": 67,
     "metadata": {},
     "output_type": "execute_result"
    }
   ],
   "source": [
    "re.match(\"[a-z]+\", \"python\")   #span : 길이, (0. 6) : 인덱스의 길이"
   ]
  },
  {
   "cell_type": "code",
   "execution_count": 110,
   "id": "6a212399-771c-456e-b4fe-5d2f115d4da6",
   "metadata": {},
   "outputs": [
    {
     "data": {
      "text/plain": [
       "<re.Match object; span=(0, 6), match='python'>"
      ]
     },
     "execution_count": 110,
     "metadata": {},
     "output_type": "execute_result"
    }
   ],
   "source": [
    "p.match(\"pythonPYTHON1234\")"
   ]
  },
  {
   "cell_type": "code",
   "execution_count": 111,
   "id": "de7c5cd6-2309-4209-ae68-e6429686a099",
   "metadata": {},
   "outputs": [],
   "source": [
    "p.match(\"PYTHONpython1234\")"
   ]
  },
  {
   "cell_type": "code",
   "execution_count": 112,
   "id": "7d0112ed-23f6-44b5-961c-215c65bae19d",
   "metadata": {},
   "outputs": [
    {
     "data": {
      "text/plain": [
       "<re.Match object; span=(6, 12), match='python'>"
      ]
     },
     "execution_count": 112,
     "metadata": {},
     "output_type": "execute_result"
    }
   ],
   "source": [
    "p.search(\"PYTHONpython1234\")"
   ]
  },
  {
   "cell_type": "code",
   "execution_count": 128,
   "id": "6b3cf76f-3c94-462a-94bf-caad9561b0ea",
   "metadata": {},
   "outputs": [
    {
     "data": {
      "text/plain": [
       "<re.Match object; span=(6, 12), match='python'>"
      ]
     },
     "execution_count": 128,
     "metadata": {},
     "output_type": "execute_result"
    }
   ],
   "source": [
    "p.search(\"PYTHONpython1234   pythonPYTHON1234\")"
   ]
  },
  {
   "cell_type": "code",
   "execution_count": 115,
   "id": "38bc4b39-0654-4682-b5bb-97b43601ddd5",
   "metadata": {},
   "outputs": [
    {
     "data": {
      "text/plain": [
       "['python', 'python']"
      ]
     },
     "execution_count": 115,
     "metadata": {},
     "output_type": "execute_result"
    }
   ],
   "source": [
    "p.findall(\"PYTHONpython1234   pythonPYTHON1234\")"
   ]
  },
  {
   "cell_type": "code",
   "execution_count": 116,
   "id": "02b8485f-116a-4559-9369-0b1d11fae0f8",
   "metadata": {},
   "outputs": [
    {
     "data": {
      "text/plain": [
       "<callable_iterator at 0x1aaab276020>"
      ]
     },
     "execution_count": 116,
     "metadata": {},
     "output_type": "execute_result"
    }
   ],
   "source": [
    "p.finditer(\"PYTHONpython1234   pythonPYTHON1234\")"
   ]
  },
  {
   "cell_type": "code",
   "execution_count": 117,
   "id": "67af1a04-f8fa-4df3-857a-1002cd12f93f",
   "metadata": {},
   "outputs": [
    {
     "name": "stdout",
     "output_type": "stream",
     "text": [
      "<re.Match object; span=(6, 12), match='phthon'>\n",
      "<re.Match object; span=(19, 25), match='phthon'>\n"
     ]
    }
   ],
   "source": [
    "for i in p.finditer(\"PYTHONphthon1234   phthonPYTHON1234\"):\n",
    "    print(i)"
   ]
  },
  {
   "cell_type": "markdown",
   "id": "897e9b41-05a4-4353-8058-10fa88dc7710",
   "metadata": {
    "jp-MarkdownHeadingCollapsed": true,
    "tags": []
   },
   "source": [
    "#### * match 객체의 메소드"
   ]
  },
  {
   "cell_type": "code",
   "execution_count": 64,
   "id": "ffc65d01-6e9c-410f-8538-55f52b7674c6",
   "metadata": {},
   "outputs": [],
   "source": [
    "p = re.compile(\"[a-z]+\")"
   ]
  },
  {
   "cell_type": "code",
   "execution_count": 118,
   "id": "8205bfd9-6276-4f3e-9361-b1fb1d461607",
   "metadata": {},
   "outputs": [
    {
     "data": {
      "text/plain": [
       "<re.Match object; span=(0, 6), match='python'>"
      ]
     },
     "execution_count": 118,
     "metadata": {},
     "output_type": "execute_result"
    }
   ],
   "source": [
    "p.match(\"pythonPYTHON1234 PYTHONpython1234\")"
   ]
  },
  {
   "cell_type": "code",
   "execution_count": 120,
   "id": "e33653fa-ce53-4d17-9b76-ee51ea9693f7",
   "metadata": {},
   "outputs": [
    {
     "data": {
      "text/plain": [
       "'python'"
      ]
     },
     "execution_count": 120,
     "metadata": {},
     "output_type": "execute_result"
    }
   ],
   "source": [
    "p.match(\"pythonPYTHON1234 PYTHONpython1234\").group()   #매치된 문자열을 찾아서 보여준다"
   ]
  },
  {
   "cell_type": "code",
   "execution_count": 121,
   "id": "506b4d8b-7a69-4948-a822-577ced883798",
   "metadata": {},
   "outputs": [
    {
     "data": {
      "text/plain": [
       "(0, 6)"
      ]
     },
     "execution_count": 121,
     "metadata": {},
     "output_type": "execute_result"
    }
   ],
   "source": [
    "p.match(\"pythonPYTHON1234 PYTHONpython1234\").span()"
   ]
  },
  {
   "cell_type": "code",
   "execution_count": 122,
   "id": "d4c0467e-70fc-4f7f-88dc-27f634bc1cc5",
   "metadata": {},
   "outputs": [
    {
     "data": {
      "text/plain": [
       "0"
      ]
     },
     "execution_count": 122,
     "metadata": {},
     "output_type": "execute_result"
    }
   ],
   "source": [
    "p.match(\"pythonPYTHON1234 PYTHONpython1234\").start()"
   ]
  },
  {
   "cell_type": "code",
   "execution_count": 123,
   "id": "a3151bb0-57e1-49a6-ab90-3d6524ae3324",
   "metadata": {
    "tags": []
   },
   "outputs": [
    {
     "data": {
      "text/plain": [
       "6"
      ]
     },
     "execution_count": 123,
     "metadata": {},
     "output_type": "execute_result"
    }
   ],
   "source": [
    "p.match(\"pythonPYTHON1234 PYTHONpython1234\").end()"
   ]
  },
  {
   "cell_type": "markdown",
   "id": "e33dd17a-8c20-4597-8e3d-7919d396015a",
   "metadata": {
    "jp-MarkdownHeadingCollapsed": true,
    "tags": []
   },
   "source": [
    "#### * search 객체의 메소드"
   ]
  },
  {
   "cell_type": "code",
   "execution_count": 64,
   "id": "bf13d41b-2e45-4385-97eb-55bacf7c56b3",
   "metadata": {},
   "outputs": [],
   "source": [
    "p = re.compile(\"[a-z]+\")"
   ]
  },
  {
   "cell_type": "code",
   "execution_count": 124,
   "id": "62817495-737b-4c0a-955d-0b07fc81db18",
   "metadata": {},
   "outputs": [
    {
     "data": {
      "text/plain": [
       "'python'"
      ]
     },
     "execution_count": 124,
     "metadata": {},
     "output_type": "execute_result"
    }
   ],
   "source": [
    "p.search(\"PYTHONpython1234\").group()   #매치된 문자열을 찾아서 보여준다"
   ]
  },
  {
   "cell_type": "code",
   "execution_count": 125,
   "id": "62bdecc1-7d96-4232-86c6-7ef1cbd26a19",
   "metadata": {},
   "outputs": [
    {
     "data": {
      "text/plain": [
       "(6, 12)"
      ]
     },
     "execution_count": 125,
     "metadata": {},
     "output_type": "execute_result"
    }
   ],
   "source": [
    "p.search(\"PYTHONpython1234\").span()"
   ]
  },
  {
   "cell_type": "code",
   "execution_count": 126,
   "id": "6fda27fc-dfc5-4443-ae02-e1c23c403af4",
   "metadata": {},
   "outputs": [
    {
     "data": {
      "text/plain": [
       "6"
      ]
     },
     "execution_count": 126,
     "metadata": {},
     "output_type": "execute_result"
    }
   ],
   "source": [
    "p.search(\"PYTHONpython1234\").start()"
   ]
  },
  {
   "cell_type": "code",
   "execution_count": 127,
   "id": "4c2b7880-0600-4ef2-9c42-9b071fcc7abf",
   "metadata": {
    "tags": []
   },
   "outputs": [
    {
     "data": {
      "text/plain": [
       "12"
      ]
     },
     "execution_count": 127,
     "metadata": {},
     "output_type": "execute_result"
    }
   ],
   "source": [
    "p.search(\"PYTHONpython1234\").end()"
   ]
  },
  {
   "cell_type": "code",
   "execution_count": null,
   "id": "62fad894-656a-4480-a217-c4673c283b90",
   "metadata": {},
   "outputs": [],
   "source": []
  },
  {
   "cell_type": "code",
   "execution_count": null,
   "id": "0c35b9b4-d8a1-4563-b909-022da2616b66",
   "metadata": {},
   "outputs": [],
   "source": []
  },
  {
   "cell_type": "markdown",
   "id": "07e86720-0e0e-4a82-b5dd-cb6a2cc35d6c",
   "metadata": {
    "jp-MarkdownHeadingCollapsed": true,
    "tags": []
   },
   "source": [
    "#### * 전화번호 골라내기"
   ]
  },
  {
   "cell_type": "code",
   "execution_count": 92,
   "id": "1854d359-19ac-410c-89c8-02b2f2c160fd",
   "metadata": {},
   "outputs": [
    {
     "name": "stdout",
     "output_type": "stream",
     "text": [
      "<re.Match object; span=(0, 13), match='010-1234-5678'>\n",
      "<re.Match object; span=(0, 13), match='010-1234-5679'>\n",
      "<re.Match object; span=(0, 13), match='010-1234-5670'>\n",
      "None\n",
      "None\n"
     ]
    }
   ],
   "source": [
    "data = [\"010-1234-5678\", \"010-1234-5679\", \"010-1234-5670\", \"010-1234-670\", \"02-334-2243\"]\n",
    "\n",
    "for i in data:\n",
    "    print(re.search(\"010-\\d{4}-\\d{4}\", i))"
   ]
  },
  {
   "cell_type": "code",
   "execution_count": 93,
   "id": "ac719a5c-0816-4f7a-8f01-8793e1cdd83b",
   "metadata": {},
   "outputs": [
    {
     "data": {
      "text/plain": [
       "['010-1234-5678', '010-1234-5679', '010-1234-5670']"
      ]
     },
     "execution_count": 93,
     "metadata": {},
     "output_type": "execute_result"
    }
   ],
   "source": [
    "data = [\"010-1234-5678\", \"010-1234-5679\", \"010-1234-5670\", \"010-1234-670\", \"02-334-2243\"]\n",
    "\n",
    "def is_phone_number(data):\n",
    "    phone_number = []\n",
    "    for i in data:\n",
    "        if re.search(\"010-\\d{4}-\\d{4}\", i):\n",
    "            phone_number.append(i)\n",
    "    \n",
    "    return phone_number\n",
    "\n",
    "is_phone_number(data)"
   ]
  },
  {
   "cell_type": "code",
   "execution_count": 97,
   "id": "dc887f9a-9abd-472a-a931-c67ee793fd4e",
   "metadata": {},
   "outputs": [
    {
     "data": {
      "text/plain": [
       "['010-1234-5678', '010-1234-5679', '010-1234-5670']"
      ]
     },
     "execution_count": 97,
     "metadata": {},
     "output_type": "execute_result"
    }
   ],
   "source": [
    "#finditer 를 사용하여 group 메서드 사용\n",
    "data = \"010-1234-5678, 010-1234-5679, 010-1234-5670, 010-1234-670, 02-334-2243\"\n",
    "\n",
    "def is_phone_number(data):\n",
    "    phone_number = []\n",
    "    for i in re.finditer(\"010-\\d{4}-\\d{4}\", data):\n",
    "        phone_number.append(i.group())\n",
    "    return phone_number\n",
    "\n",
    "is_phone_number(data)"
   ]
  },
  {
   "cell_type": "code",
   "execution_count": 98,
   "id": "28d5d561-ca87-4a7c-bbb2-ded9a1fe69e5",
   "metadata": {},
   "outputs": [
    {
     "data": {
      "text/plain": [
       "['010-1234-5678', '010-1234-5679', '010-1234-5670']"
      ]
     },
     "execution_count": 98,
     "metadata": {},
     "output_type": "execute_result"
    }
   ],
   "source": [
    "#findall 를 사용하여\n",
    "data = \"010-1234-5678, 010-1234-5679, 010-1234-5670, 010-1234-670, 02-334-2243\"\n",
    "\n",
    "re.findall(\"010-\\d{4}-\\d{4}\", data)"
   ]
  },
  {
   "cell_type": "code",
   "execution_count": 105,
   "id": "3c870598-5afa-4f33-a599-46bbd8c2a6e9",
   "metadata": {},
   "outputs": [
    {
     "name": "stdout",
     "output_type": "stream",
     "text": [
      "(2, 5)\n",
      "(19, 22)\n",
      "(38, 41)\n",
      "(45, 48)\n"
     ]
    }
   ],
   "source": [
    "#'하세요', '하지요', '싶어요' 의 span()을 출력\n",
    "msg = \"안녕하세요. 제 소개부터 드리도록 하지요. 저는 의미있는 일을 하고 싶어요. 건강하세요.\"\n",
    "\n",
    "p = re.compile(\"하세요|하지요|싶어요\")\n",
    "\n",
    "for m in p.finditer(msg):\n",
    "    print(m.span())"
   ]
  },
  {
   "cell_type": "code",
   "execution_count": 106,
   "id": "5a23dd47-0e3d-425a-83cf-26391e7682ee",
   "metadata": {},
   "outputs": [
    {
     "name": "stdout",
     "output_type": "stream",
     "text": [
      "(2, 5)\n",
      "(19, 22)\n",
      "(38, 41)\n",
      "(45, 48)\n"
     ]
    }
   ],
   "source": [
    "for m in re.finditer(\"하세요|하지요|싶어요\", msg):\n",
    "    print(m.span())"
   ]
  },
  {
   "cell_type": "markdown",
   "id": "6c73c887-7fe1-4ac5-bc2c-745a0fc6f208",
   "metadata": {
    "tags": []
   },
   "source": [
    "### (3) group (grouping 그루핑)"
   ]
  },
  {
   "cell_type": "code",
   "execution_count": 138,
   "id": "6cff8df7-3bbc-4f12-b97b-11862989b1d6",
   "metadata": {},
   "outputs": [],
   "source": [
    "#이름 + \" \" + 전화번호 형태의 문자열\n",
    "sentence = \"park 010-1234-1234\"\n",
    "p = re.compile(r'(\\w+)\\s((\\d+)[-]\\d+[-]\\d+)')"
   ]
  },
  {
   "cell_type": "code",
   "execution_count": 139,
   "id": "1722281b-c531-47de-a6af-ffd7c3203ca0",
   "metadata": {},
   "outputs": [
    {
     "data": {
      "text/plain": [
       "<re.Match object; span=(0, 18), match='park 010-1234-1234'>"
      ]
     },
     "execution_count": 139,
     "metadata": {},
     "output_type": "execute_result"
    }
   ],
   "source": [
    "p.search(sentence)"
   ]
  },
  {
   "cell_type": "markdown",
   "id": "dfc1ee12-cb0e-4d8e-8f28-f25f8f7d1f1a",
   "metadata": {
    "tags": []
   },
   "source": [
    "#### * group(인덱스) : 그루핑된 부분의 문자열만 뽑아낼 수 있다"
   ]
  },
  {
   "cell_type": "code",
   "execution_count": 140,
   "id": "415320f5-299b-4578-a663-968cf3d704a1",
   "metadata": {},
   "outputs": [
    {
     "data": {
      "text/plain": [
       "'park 010-1234-1234'"
      ]
     },
     "execution_count": 140,
     "metadata": {},
     "output_type": "execute_result"
    }
   ],
   "source": [
    "p.search(sentence).group(0)"
   ]
  },
  {
   "cell_type": "code",
   "execution_count": 141,
   "id": "9448662a-c4df-4ebd-a6b9-0b77ac86e9be",
   "metadata": {},
   "outputs": [
    {
     "name": "stdout",
     "output_type": "stream",
     "text": [
      "010-1234-1234 park\n"
     ]
    }
   ],
   "source": [
    "print(p.search(sentence).group(2), p.search(sentence).group(1))"
   ]
  },
  {
   "cell_type": "markdown",
   "id": "77f6b9a9-5790-4d18-b9fe-50449ab7a622",
   "metadata": {
    "tags": []
   },
   "source": [
    "#### * 그루핑된 문자열에 이름 붙이기"
   ]
  },
  {
   "cell_type": "code",
   "execution_count": 17,
   "id": "40ca737f-18e8-41c1-8769-ba0551d763cd",
   "metadata": {},
   "outputs": [],
   "source": [
    "sentence = \"park 010-1234-1234\"\n",
    "p = re.compile(r'(?P<family>\\w+)\\s((?P<phone_first>\\d+)[-]\\d+[-]\\d+)')"
   ]
  },
  {
   "cell_type": "code",
   "execution_count": 18,
   "id": "53d3d209-5c90-4f65-9649-139e78e334ec",
   "metadata": {},
   "outputs": [
    {
     "data": {
      "text/plain": [
       "'park'"
      ]
     },
     "execution_count": 18,
     "metadata": {},
     "output_type": "execute_result"
    }
   ],
   "source": [
    "p.search(sentence).group(\"family\")"
   ]
  },
  {
   "cell_type": "code",
   "execution_count": 20,
   "id": "2e7f4428-5e6d-4ba2-a421-14679fd1356e",
   "metadata": {},
   "outputs": [
    {
     "data": {
      "text/plain": [
       "'park'"
      ]
     },
     "execution_count": 20,
     "metadata": {},
     "output_type": "execute_result"
    }
   ],
   "source": [
    "m = p.search(sentence)\n",
    "m.group(\"family\")"
   ]
  },
  {
   "cell_type": "code",
   "execution_count": 147,
   "id": "a77e6e84-63f4-41a6-b20d-2db62e60241f",
   "metadata": {},
   "outputs": [
    {
     "data": {
      "text/plain": [
       "'010'"
      ]
     },
     "execution_count": 147,
     "metadata": {},
     "output_type": "execute_result"
    }
   ],
   "source": [
    "p.search(sentence).group(\"phone_first\")"
   ]
  },
  {
   "cell_type": "markdown",
   "id": "d9510cec-c775-4cf2-b5f2-3e2316de9547",
   "metadata": {
    "tags": []
   },
   "source": [
    "#### * 그루핑된 문자열 재참조하기"
   ]
  },
  {
   "cell_type": "code",
   "execution_count": 11,
   "id": "099d2551-cb6a-4e19-8a3a-62b82d875c90",
   "metadata": {},
   "outputs": [],
   "source": [
    "import re\n",
    "sentence = \"park 010-1234-1234 kim\"\n",
    "p = re.compile(r'(?P<family>\\w+)\\s((?P<phone_first>\\d+)[-]\\d+[-]\\d+)\\s+\\w+(?P=family)')"
   ]
  },
  {
   "cell_type": "code",
   "execution_count": 12,
   "id": "96afe403-e795-4cca-9909-af89f33da98a",
   "metadata": {},
   "outputs": [
    {
     "ename": "AttributeError",
     "evalue": "'NoneType' object has no attribute 'group'",
     "output_type": "error",
     "traceback": [
      "\u001b[1;31m---------------------------------------------------------------------------\u001b[0m",
      "\u001b[1;31mAttributeError\u001b[0m                            Traceback (most recent call last)",
      "Input \u001b[1;32mIn [12]\u001b[0m, in \u001b[0;36m<cell line: 1>\u001b[1;34m()\u001b[0m\n\u001b[1;32m----> 1\u001b[0m \u001b[43mp\u001b[49m\u001b[38;5;241;43m.\u001b[39;49m\u001b[43msearch\u001b[49m\u001b[43m(\u001b[49m\u001b[43msentence\u001b[49m\u001b[43m)\u001b[49m\u001b[38;5;241;43m.\u001b[39;49m\u001b[43mgroup\u001b[49m(\u001b[38;5;124m\"\u001b[39m\u001b[38;5;124mfamily\u001b[39m\u001b[38;5;124m\"\u001b[39m)\n",
      "\u001b[1;31mAttributeError\u001b[0m: 'NoneType' object has no attribute 'group'"
     ]
    }
   ],
   "source": [
    "p.search(sentence).group(\"family\")"
   ]
  },
  {
   "cell_type": "code",
   "execution_count": 14,
   "id": "a9bc3cec-2158-4d87-a641-4fe75ecde0d1",
   "metadata": {
    "collapsed": true,
    "jupyter": {
     "outputs_hidden": true
    },
    "tags": []
   },
   "outputs": [
    {
     "data": {
      "text/plain": [
       "'Support for regular expressions (RE).\\n\\nThis module provides regular expression matching operations similar to\\nthose found in Perl.  It supports both 8-bit and Unicode strings; both\\nthe pattern and the strings being processed can contain null bytes and\\ncharacters outside the US ASCII range.\\n\\nRegular expressions can contain both special and ordinary characters.\\nMost ordinary characters, like \"A\", \"a\", or \"0\", are the simplest\\nregular expressions; they simply match themselves.  You can\\nconcatenate ordinary characters, so last matches the string \\'last\\'.\\n\\nThe special characters are:\\n    \".\"      Matches any character except a newline.\\n    \"^\"      Matches the start of the string.\\n    \"$\"      Matches the end of the string or just before the newline at\\n             the end of the string.\\n    \"*\"      Matches 0 or more (greedy) repetitions of the preceding RE.\\n             Greedy means that it will match as many repetitions as possible.\\n    \"+\"      Matches 1 or more (greedy) repetitions of the preceding RE.\\n    \"?\"      Matches 0 or 1 (greedy) of the preceding RE.\\n    *?,+?,?? Non-greedy versions of the previous three special characters.\\n    {m,n}    Matches from m to n repetitions of the preceding RE.\\n    {m,n}?   Non-greedy version of the above.\\n    \"\\\\\\\\\"     Either escapes special characters or signals a special sequence.\\n    []       Indicates a set of characters.\\n             A \"^\" as the first character indicates a complementing set.\\n    \"|\"      A|B, creates an RE that will match either A or B.\\n    (...)    Matches the RE inside the parentheses.\\n             The contents can be retrieved or matched later in the string.\\n    (?aiLmsux) The letters set the corresponding flags defined below.\\n    (?:...)  Non-grouping version of regular parentheses.\\n    (?P<name>...) The substring matched by the group is accessible by name.\\n    (?P=name)     Matches the text matched earlier by the group named name.\\n    (?#...)  A comment; ignored.\\n    (?=...)  Matches if ... matches next, but doesn\\'t consume the string.\\n    (?!...)  Matches if ... doesn\\'t match next.\\n    (?<=...) Matches if preceded by ... (must be fixed length).\\n    (?<!...) Matches if not preceded by ... (must be fixed length).\\n    (?(id/name)yes|no) Matches yes pattern if the group with id/name matched,\\n                       the (optional) no pattern otherwise.\\n\\nThe special sequences consist of \"\\\\\\\\\" and a character from the list\\nbelow.  If the ordinary character is not on the list, then the\\nresulting RE will match the second character.\\n    \\\\number  Matches the contents of the group of the same number.\\n    \\\\A       Matches only at the start of the string.\\n    \\\\Z       Matches only at the end of the string.\\n    \\\\b       Matches the empty string, but only at the start or end of a word.\\n    \\\\B       Matches the empty string, but not at the start or end of a word.\\n    \\\\d       Matches any decimal digit; equivalent to the set [0-9] in\\n             bytes patterns or string patterns with the ASCII flag.\\n             In string patterns without the ASCII flag, it will match the whole\\n             range of Unicode digits.\\n    \\\\D       Matches any non-digit character; equivalent to [^\\\\d].\\n    \\\\s       Matches any whitespace character; equivalent to [ \\\\t\\\\n\\\\r\\\\f\\\\v] in\\n             bytes patterns or string patterns with the ASCII flag.\\n             In string patterns without the ASCII flag, it will match the whole\\n             range of Unicode whitespace characters.\\n    \\\\S       Matches any non-whitespace character; equivalent to [^\\\\s].\\n    \\\\w       Matches any alphanumeric character; equivalent to [a-zA-Z0-9_]\\n             in bytes patterns or string patterns with the ASCII flag.\\n             In string patterns without the ASCII flag, it will match the\\n             range of Unicode alphanumeric characters (letters plus digits\\n             plus underscore).\\n             With LOCALE, it will match the set [0-9_] plus characters defined\\n             as letters for the current locale.\\n    \\\\W       Matches the complement of \\\\w.\\n    \\\\\\\\       Matches a literal backslash.\\n\\nThis module exports the following functions:\\n    match     Match a regular expression pattern to the beginning of a string.\\n    fullmatch Match a regular expression pattern to all of a string.\\n    search    Search a string for the presence of a pattern.\\n    sub       Substitute occurrences of a pattern found in a string.\\n    subn      Same as sub, but also return the number of substitutions made.\\n    split     Split a string by the occurrences of a pattern.\\n    findall   Find all occurrences of a pattern in a string.\\n    finditer  Return an iterator yielding a Match object for each match.\\n    compile   Compile a pattern into a Pattern object.\\n    purge     Clear the regular expression cache.\\n    escape    Backslash all non-alphanumerics in a string.\\n\\nEach function other than purge and escape can take an optional \\'flags\\' argument\\nconsisting of one or more of the following module constants, joined by \"|\".\\nA, L, and U are mutually exclusive.\\n    A  ASCII       For string patterns, make \\\\w, \\\\W, \\\\b, \\\\B, \\\\d, \\\\D\\n                   match the corresponding ASCII character categories\\n                   (rather than the whole Unicode categories, which is the\\n                   default).\\n                   For bytes patterns, this flag is the only available\\n                   behaviour and needn\\'t be specified.\\n    I  IGNORECASE  Perform case-insensitive matching.\\n    L  LOCALE      Make \\\\w, \\\\W, \\\\b, \\\\B, dependent on the current locale.\\n    M  MULTILINE   \"^\" matches the beginning of lines (after a newline)\\n                   as well as the string.\\n                   \"$\" matches the end of lines (before a newline) as well\\n                   as the end of the string.\\n    S  DOTALL      \".\" matches any character at all, including the newline.\\n    X  VERBOSE     Ignore whitespace and comments for nicer looking RE\\'s.\\n    U  UNICODE     For compatibility only. Ignored for string patterns (it\\n                   is the default), and forbidden for bytes patterns.\\n\\nThis module also defines an exception \\'error\\'.\\n\\n'"
      ]
     },
     "execution_count": 14,
     "metadata": {},
     "output_type": "execute_result"
    }
   ],
   "source": [
    "re.__doc__   #doc : document 속성"
   ]
  },
  {
   "cell_type": "code",
   "execution_count": 15,
   "id": "0edcdf6f-34a9-4f8e-ac89-ef6977781e21",
   "metadata": {
    "collapsed": true,
    "jupyter": {
     "outputs_hidden": true
    },
    "tags": []
   },
   "outputs": [
    {
     "name": "stdout",
     "output_type": "stream",
     "text": [
      "Support for regular expressions (RE).\n",
      "\n",
      "This module provides regular expression matching operations similar to\n",
      "those found in Perl.  It supports both 8-bit and Unicode strings; both\n",
      "the pattern and the strings being processed can contain null bytes and\n",
      "characters outside the US ASCII range.\n",
      "\n",
      "Regular expressions can contain both special and ordinary characters.\n",
      "Most ordinary characters, like \"A\", \"a\", or \"0\", are the simplest\n",
      "regular expressions; they simply match themselves.  You can\n",
      "concatenate ordinary characters, so last matches the string 'last'.\n",
      "\n",
      "The special characters are:\n",
      "    \".\"      Matches any character except a newline.\n",
      "    \"^\"      Matches the start of the string.\n",
      "    \"$\"      Matches the end of the string or just before the newline at\n",
      "             the end of the string.\n",
      "    \"*\"      Matches 0 or more (greedy) repetitions of the preceding RE.\n",
      "             Greedy means that it will match as many repetitions as possible.\n",
      "    \"+\"      Matches 1 or more (greedy) repetitions of the preceding RE.\n",
      "    \"?\"      Matches 0 or 1 (greedy) of the preceding RE.\n",
      "    *?,+?,?? Non-greedy versions of the previous three special characters.\n",
      "    {m,n}    Matches from m to n repetitions of the preceding RE.\n",
      "    {m,n}?   Non-greedy version of the above.\n",
      "    \"\\\\\"     Either escapes special characters or signals a special sequence.\n",
      "    []       Indicates a set of characters.\n",
      "             A \"^\" as the first character indicates a complementing set.\n",
      "    \"|\"      A|B, creates an RE that will match either A or B.\n",
      "    (...)    Matches the RE inside the parentheses.\n",
      "             The contents can be retrieved or matched later in the string.\n",
      "    (?aiLmsux) The letters set the corresponding flags defined below.\n",
      "    (?:...)  Non-grouping version of regular parentheses.\n",
      "    (?P<name>...) The substring matched by the group is accessible by name.\n",
      "    (?P=name)     Matches the text matched earlier by the group named name.\n",
      "    (?#...)  A comment; ignored.\n",
      "    (?=...)  Matches if ... matches next, but doesn't consume the string.\n",
      "    (?!...)  Matches if ... doesn't match next.\n",
      "    (?<=...) Matches if preceded by ... (must be fixed length).\n",
      "    (?<!...) Matches if not preceded by ... (must be fixed length).\n",
      "    (?(id/name)yes|no) Matches yes pattern if the group with id/name matched,\n",
      "                       the (optional) no pattern otherwise.\n",
      "\n",
      "The special sequences consist of \"\\\\\" and a character from the list\n",
      "below.  If the ordinary character is not on the list, then the\n",
      "resulting RE will match the second character.\n",
      "    \\number  Matches the contents of the group of the same number.\n",
      "    \\A       Matches only at the start of the string.\n",
      "    \\Z       Matches only at the end of the string.\n",
      "    \\b       Matches the empty string, but only at the start or end of a word.\n",
      "    \\B       Matches the empty string, but not at the start or end of a word.\n",
      "    \\d       Matches any decimal digit; equivalent to the set [0-9] in\n",
      "             bytes patterns or string patterns with the ASCII flag.\n",
      "             In string patterns without the ASCII flag, it will match the whole\n",
      "             range of Unicode digits.\n",
      "    \\D       Matches any non-digit character; equivalent to [^\\d].\n",
      "    \\s       Matches any whitespace character; equivalent to [ \\t\\n\\r\\f\\v] in\n",
      "             bytes patterns or string patterns with the ASCII flag.\n",
      "             In string patterns without the ASCII flag, it will match the whole\n",
      "             range of Unicode whitespace characters.\n",
      "    \\S       Matches any non-whitespace character; equivalent to [^\\s].\n",
      "    \\w       Matches any alphanumeric character; equivalent to [a-zA-Z0-9_]\n",
      "             in bytes patterns or string patterns with the ASCII flag.\n",
      "             In string patterns without the ASCII flag, it will match the\n",
      "             range of Unicode alphanumeric characters (letters plus digits\n",
      "             plus underscore).\n",
      "             With LOCALE, it will match the set [0-9_] plus characters defined\n",
      "             as letters for the current locale.\n",
      "    \\W       Matches the complement of \\w.\n",
      "    \\\\       Matches a literal backslash.\n",
      "\n",
      "This module exports the following functions:\n",
      "    match     Match a regular expression pattern to the beginning of a string.\n",
      "    fullmatch Match a regular expression pattern to all of a string.\n",
      "    search    Search a string for the presence of a pattern.\n",
      "    sub       Substitute occurrences of a pattern found in a string.\n",
      "    subn      Same as sub, but also return the number of substitutions made.\n",
      "    split     Split a string by the occurrences of a pattern.\n",
      "    findall   Find all occurrences of a pattern in a string.\n",
      "    finditer  Return an iterator yielding a Match object for each match.\n",
      "    compile   Compile a pattern into a Pattern object.\n",
      "    purge     Clear the regular expression cache.\n",
      "    escape    Backslash all non-alphanumerics in a string.\n",
      "\n",
      "Each function other than purge and escape can take an optional 'flags' argument\n",
      "consisting of one or more of the following module constants, joined by \"|\".\n",
      "A, L, and U are mutually exclusive.\n",
      "    A  ASCII       For string patterns, make \\w, \\W, \\b, \\B, \\d, \\D\n",
      "                   match the corresponding ASCII character categories\n",
      "                   (rather than the whole Unicode categories, which is the\n",
      "                   default).\n",
      "                   For bytes patterns, this flag is the only available\n",
      "                   behaviour and needn't be specified.\n",
      "    I  IGNORECASE  Perform case-insensitive matching.\n",
      "    L  LOCALE      Make \\w, \\W, \\b, \\B, dependent on the current locale.\n",
      "    M  MULTILINE   \"^\" matches the beginning of lines (after a newline)\n",
      "                   as well as the string.\n",
      "                   \"$\" matches the end of lines (before a newline) as well\n",
      "                   as the end of the string.\n",
      "    S  DOTALL      \".\" matches any character at all, including the newline.\n",
      "    X  VERBOSE     Ignore whitespace and comments for nicer looking RE's.\n",
      "    U  UNICODE     For compatibility only. Ignored for string patterns (it\n",
      "                   is the default), and forbidden for bytes patterns.\n",
      "\n",
      "This module also defines an exception 'error'.\n",
      "\n",
      "\n"
     ]
    }
   ],
   "source": [
    "print(re.__doc__)"
   ]
  },
  {
   "cell_type": "code",
   "execution_count": 74,
   "id": "049da02f-573d-438d-9875-ded457adc2a3",
   "metadata": {},
   "outputs": [
    {
     "data": {
      "text/plain": [
       "'the the'"
      ]
     },
     "execution_count": 74,
     "metadata": {},
     "output_type": "execute_result"
    }
   ],
   "source": [
    "p = re.compile(r'(?P<word>\\b\\w+)\\s+(?P=word)')\n",
    "p.search('Paris in the the spring').group()"
   ]
  },
  {
   "cell_type": "code",
   "execution_count": null,
   "id": "cb23c68d-8be2-469d-8748-3aa7305d45cc",
   "metadata": {},
   "outputs": [],
   "source": []
  },
  {
   "cell_type": "markdown",
   "id": "973f855e-b9ce-4ef5-b112-3f5041235467",
   "metadata": {},
   "source": [
    "#### * 전방 탐색"
   ]
  },
  {
   "cell_type": "code",
   "execution_count": 23,
   "id": "3adf35dd-5a99-4548-81c6-ed461db47735",
   "metadata": {},
   "outputs": [
    {
     "data": {
      "text/plain": [
       "<re.Match object; span=(0, 5), match='http:'>"
      ]
     },
     "execution_count": 23,
     "metadata": {},
     "output_type": "execute_result"
    }
   ],
   "source": [
    "p = re.compile(\".+:\")\n",
    "m = p.search(\"http://google.com\")\n",
    "m"
   ]
  },
  {
   "cell_type": "code",
   "execution_count": 24,
   "id": "36d609a7-d51d-4b0d-9fc2-9fd74edf1ae1",
   "metadata": {},
   "outputs": [
    {
     "data": {
      "text/plain": [
       "'http:'"
      ]
     },
     "execution_count": 24,
     "metadata": {},
     "output_type": "execute_result"
    }
   ],
   "source": [
    "m.group()"
   ]
  },
  {
   "cell_type": "code",
   "execution_count": 27,
   "id": "e1554da2-b9ac-4f1a-ac9a-abf1277418a7",
   "metadata": {},
   "outputs": [
    {
     "data": {
      "text/plain": [
       "'http'"
      ]
     },
     "execution_count": 27,
     "metadata": {},
     "output_type": "execute_result"
    }
   ],
   "source": [
    "#':'을 제외하고 출력하려면\n",
    "#1. 긍정형 전방 탐색 : (?=...)\n",
    "#'...' 부분이 검색에는 포함되지만, 검색 결과에서는 제외된다\n",
    "p = re.compile(\".+(?=:)\")\n",
    "m = p.search(\"http://google.com\")\n",
    "m.group()"
   ]
  },
  {
   "cell_type": "code",
   "execution_count": null,
   "id": "d572d5d2-389d-4940-b3a2-5e1218b4a4a0",
   "metadata": {},
   "outputs": [],
   "source": []
  },
  {
   "cell_type": "code",
   "execution_count": 82,
   "id": "ad27d5bd-13c8-4260-b8dc-b773320f1761",
   "metadata": {
    "collapsed": true,
    "jupyter": {
     "outputs_hidden": true
    },
    "tags": []
   },
   "outputs": [
    {
     "name": "stdout",
     "output_type": "stream",
     "text": [
      "<re.Match object; span=(0, 34), match='foo.bar, autoexec.bat, sendmail.cf'>\n",
      "foo.bar, autoexec.bat, sendmail.cf\n"
     ]
    }
   ],
   "source": [
    "#'파일이름 + . + 확장자 ' 를 나타내는 정규식\n",
    "file_name = \"foo.bar, autoexec.bat, sendmail.cf\"\n",
    "p = re.compile(\".*[.].*$\")\n",
    "f = p.search(file_name)\n",
    "print(f)\n",
    "print(f.group())"
   ]
  },
  {
   "cell_type": "code",
   "execution_count": 81,
   "id": "4123c0a1-4deb-4ce1-b912-e8219a5ff37e",
   "metadata": {},
   "outputs": [
    {
     "data": {
      "text/plain": [
       "'foo.bar, autoexec.bat, sendmail.cf'"
      ]
     },
     "execution_count": 81,
     "metadata": {},
     "output_type": "execute_result"
    }
   ],
   "source": [
    "#정규식에 '확장자가 'bat'인 파일은 제외한다'는 조건 추가\n",
    "p = re.compile(\".*[.][^b].*$\")\n",
    "f = p.search(file_name)\n",
    "f.group()"
   ]
  },
  {
   "cell_type": "code",
   "execution_count": null,
   "id": "35269ddb-6928-477f-8e05-08ca0175bbb8",
   "metadata": {},
   "outputs": [],
   "source": []
  },
  {
   "cell_type": "code",
   "execution_count": null,
   "id": "c9d2bdab-f733-4296-9e6e-7d448476a6f0",
   "metadata": {},
   "outputs": [],
   "source": []
  },
  {
   "cell_type": "code",
   "execution_count": null,
   "id": "c59fb027-55a1-4d70-b126-69217e29f4ce",
   "metadata": {},
   "outputs": [],
   "source": []
  },
  {
   "cell_type": "code",
   "execution_count": null,
   "id": "2e451b54-1551-491a-86d8-43ea1aad4adb",
   "metadata": {},
   "outputs": [],
   "source": []
  },
  {
   "cell_type": "code",
   "execution_count": 37,
   "id": "2a84f065-efdd-4e7c-b634-a5a1f18f749e",
   "metadata": {},
   "outputs": [
    {
     "name": "stdout",
     "output_type": "stream",
     "text": [
      "<re.Match object; span=(0, 25), match='aaa.exe, bbb.pdf, ccc.hwp'>\n"
     ]
    }
   ],
   "source": [
    "#2. 부정형 전방 탐색 : (?!...)\n",
    "sent = \"aaa.exe, bbb.pdf, ccc.hwp\"\n",
    "p = re.compile(\".*[.](?!exe$).*$\")\n",
    "c = p.search(sent)\n",
    "print(c)"
   ]
  },
  {
   "cell_type": "markdown",
   "id": "249b1719-a7df-4bb4-80fa-aafa544a02ac",
   "metadata": {},
   "source": [
    "#### * 후방 탐색 : (?<=...)"
   ]
  },
  {
   "cell_type": "code",
   "execution_count": 43,
   "id": "4794bb98-e5e2-4ec6-925a-be008791d9c5",
   "metadata": {},
   "outputs": [
    {
     "data": {
      "text/plain": [
       "'//google.com'"
      ]
     },
     "execution_count": 43,
     "metadata": {},
     "output_type": "execute_result"
    }
   ],
   "source": [
    "p = re.compile(\"(?<=:).+\")\n",
    "m = p.search(\"http://google.com\")\n",
    "m.group()"
   ]
  },
  {
   "cell_type": "code",
   "execution_count": 44,
   "id": "465e4dfa-2111-4d03-b194-6036e761fe5b",
   "metadata": {},
   "outputs": [
    {
     "data": {
      "text/plain": [
       "'o2022'"
      ]
     },
     "execution_count": 44,
     "metadata": {},
     "output_type": "execute_result"
    }
   ],
   "source": [
    "p = re.compile(\"(?<=ll).+\")\n",
    "m = p.search(\"hello2022\")\n",
    "m.group()"
   ]
  },
  {
   "cell_type": "code",
   "execution_count": 45,
   "id": "cdba997d-ad6b-435b-b032-14c7307bcbd2",
   "metadata": {},
   "outputs": [
    {
     "data": {
      "text/plain": [
       "'llo2022'"
      ]
     },
     "execution_count": 45,
     "metadata": {},
     "output_type": "execute_result"
    }
   ],
   "source": [
    "p = re.compile(\"(?=ll).+\")\n",
    "m = p.search(\"hello2022\")\n",
    "m.group()"
   ]
  },
  {
   "cell_type": "code",
   "execution_count": 46,
   "id": "4c6c8796-104b-4b04-a2b4-864fe0c16808",
   "metadata": {},
   "outputs": [
    {
     "data": {
      "text/plain": [
       "'he'"
      ]
     },
     "execution_count": 46,
     "metadata": {},
     "output_type": "execute_result"
    }
   ],
   "source": [
    "p = re.compile(\".+(?=ll)\")\n",
    "m = p.search(\"hello2022\")\n",
    "m.group()"
   ]
  },
  {
   "cell_type": "code",
   "execution_count": 47,
   "id": "ee0330fe-25b4-491d-bf31-ddfa69a9d8c2",
   "metadata": {},
   "outputs": [
    {
     "data": {
      "text/plain": [
       "'hell'"
      ]
     },
     "execution_count": 47,
     "metadata": {},
     "output_type": "execute_result"
    }
   ],
   "source": [
    "p = re.compile(\".+(?<=ll)\")\n",
    "m = p.search(\"hello2022\")\n",
    "m.group()"
   ]
  },
  {
   "cell_type": "code",
   "execution_count": 48,
   "id": "7af314b1-978c-43fe-9fb3-de137c734e65",
   "metadata": {},
   "outputs": [
    {
     "name": "stdout",
     "output_type": "stream",
     "text": [
      "010-1234-1234 park\n"
     ]
    }
   ],
   "source": [
    "#sub 메서드를 사용할 때 참조 구문 사용하기\n",
    "p = re.compile(r\"(?P<name>\\w+)\\s+(?P<phone>(\\d+)[-]\\d+[-]\\d+)\")\n",
    "print(p.sub(\"\\g<2> \\g<1>\", \"park 010-1234-1234\"))"
   ]
  },
  {
   "cell_type": "code",
   "execution_count": 71,
   "id": "82045855-51bf-4dea-9d30-2560d64eb386",
   "metadata": {},
   "outputs": [],
   "source": [
    "#['forta.com', 'forta.com'] 출력하기\n",
    "data = '''\n",
    "http://www.forta.com  a\n",
    "https://mail.forta.com  b\n",
    "'''"
   ]
  },
  {
   "cell_type": "code",
   "execution_count": 72,
   "id": "22619315-4f7f-4a21-b437-41ce9a90a624",
   "metadata": {},
   "outputs": [
    {
     "data": {
      "text/plain": [
       "['forta.com', 'forta.com']"
      ]
     },
     "execution_count": 72,
     "metadata": {},
     "output_type": "execute_result"
    }
   ],
   "source": [
    "p = re.compile(r\"f\\w+[.]\\w{3}\")\n",
    "p.findall(data)"
   ]
  },
  {
   "cell_type": "code",
   "execution_count": 73,
   "id": "d21ef756-2a35-47dd-bb9c-17bfef9526c8",
   "metadata": {},
   "outputs": [
    {
     "data": {
      "text/plain": [
       "['http://www.f', 'https://mail.f']"
      ]
     },
     "execution_count": 73,
     "metadata": {},
     "output_type": "execute_result"
    }
   ],
   "source": [
    "p = re.compile(r\".+f\")\n",
    "p.findall(data)"
   ]
  },
  {
   "cell_type": "code",
   "execution_count": 61,
   "id": "2bb5a7b9-b732-401b-8c20-d8ca52b64a2e",
   "metadata": {},
   "outputs": [
    {
     "data": {
      "text/plain": [
       "['http://www.', 'https://mail.']"
      ]
     },
     "execution_count": 61,
     "metadata": {},
     "output_type": "execute_result"
    }
   ],
   "source": [
    "p = re.compile(r\".+(?=f)\")\n",
    "p.findall(data)"
   ]
  },
  {
   "cell_type": "code",
   "execution_count": 62,
   "id": "d4d0ca63-8fc5-40fa-a17f-232c4be5c48c",
   "metadata": {},
   "outputs": [
    {
     "data": {
      "text/plain": [
       "['forta.com  a', 'forta.com  b']"
      ]
     },
     "execution_count": 62,
     "metadata": {},
     "output_type": "execute_result"
    }
   ],
   "source": [
    "p = re.compile(r\"(?=f).+\")\n",
    "p.findall(data)"
   ]
  },
  {
   "cell_type": "code",
   "execution_count": 63,
   "id": "805d12c9-442d-43cb-b79c-bb6aff07127f",
   "metadata": {},
   "outputs": [
    {
     "data": {
      "text/plain": [
       "['orta.com  a', 'orta.com  b']"
      ]
     },
     "execution_count": 63,
     "metadata": {},
     "output_type": "execute_result"
    }
   ],
   "source": [
    "p = re.compile(r\"(?<=f).+\")\n",
    "p.findall(data)"
   ]
  },
  {
   "cell_type": "markdown",
   "id": "2b902893-eda7-4dba-94c6-5ff9c07ea53f",
   "metadata": {},
   "source": [
    "#### * Greedy, Non-Greedy"
   ]
  },
  {
   "cell_type": "code",
   "execution_count": 68,
   "id": "91ee3aa5-1f0f-490f-b835-8b2368e70ac9",
   "metadata": {},
   "outputs": [
    {
     "name": "stdout",
     "output_type": "stream",
     "text": [
      "None\n",
      "<re.Match object; span=(0, 6), match='sososo'>\n",
      "<re.Match object; span=(0, 8), match='sosososo'>\n",
      "<re.Match object; span=(0, 10), match='sososososo'>\n"
     ]
    }
   ],
   "source": [
    "#Greedy\n",
    "data = [\"soso\", \"sososo\", \"sosososo\", \"sososososo\"]\n",
    "p = re.compile(r'(so){3,5}')\n",
    "for i in data:\n",
    "    print(p.search(i))"
   ]
  },
  {
   "cell_type": "code",
   "execution_count": 69,
   "id": "231bf6ff-7ae9-451b-8b14-5a9cfa480f7a",
   "metadata": {},
   "outputs": [
    {
     "name": "stdout",
     "output_type": "stream",
     "text": [
      "None\n",
      "<re.Match object; span=(0, 6), match='sososo'>\n",
      "<re.Match object; span=(0, 6), match='sososo'>\n",
      "<re.Match object; span=(0, 6), match='sososo'>\n"
     ]
    }
   ],
   "source": [
    "#Non-Greedy\n",
    "data = [\"soso\", \"sososo\", \"sosososo\", \"sososososo\"]\n",
    "p = re.compile(r'(so){3,5}?')\n",
    "for i in data:\n",
    "    print(p.search(i))"
   ]
  },
  {
   "cell_type": "code",
   "execution_count": null,
   "id": "021654d3-8c60-4a19-b06c-5060caf9b58b",
   "metadata": {},
   "outputs": [],
   "source": []
  }
 ],
 "metadata": {
  "kernelspec": {
   "display_name": "Python 3 (ipykernel)",
   "language": "python",
   "name": "python3"
  },
  "language_info": {
   "codemirror_mode": {
    "name": "ipython",
    "version": 3
   },
   "file_extension": ".py",
   "mimetype": "text/x-python",
   "name": "python",
   "nbconvert_exporter": "python",
   "pygments_lexer": "ipython3",
   "version": "3.10.6"
  }
 },
 "nbformat": 4,
 "nbformat_minor": 5
}
