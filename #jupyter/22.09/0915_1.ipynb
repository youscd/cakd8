{
 "cells": [
  {
   "cell_type": "code",
   "execution_count": 19,
   "id": "0853867a-cae5-401c-9580-396725852260",
   "metadata": {},
   "outputs": [
    {
     "name": "stdout",
     "output_type": "stream",
     "text": [
      "data.csv\n"
     ]
    }
   ],
   "source": [
    "import re\n",
    "\n",
    "pattern = re.compile(\".*[.](?!bat$|exe$).*$\")\n",
    "\n",
    "match = pattern.search(\"autoexec.bat\\nprogram.exe\\ndata.csv\")\n",
    "\n",
    "print(match.group())"
   ]
  },
  {
   "cell_type": "code",
   "execution_count": 2,
   "id": "1bbb9278-5878-4955-9cbc-0e4dd5af4ba1",
   "metadata": {},
   "outputs": [],
   "source": [
    "import re"
   ]
  },
  {
   "cell_type": "code",
   "execution_count": 12,
   "id": "f817c2c0-c46c-4a61-9018-b8a2cb5b8bf5",
   "metadata": {
    "tags": []
   },
   "outputs": [
    {
     "data": {
      "text/plain": [
       "<re.Match object; span=(0, 31), match='foo.bar\\x07utoexec.bat\\\\sendmail.cf'>"
      ]
     },
     "execution_count": 12,
     "metadata": {},
     "output_type": "execute_result"
    }
   ],
   "source": [
    "#'파일이름 + . + 확장자 ' 를 나타내는 정규식\n",
    "filename = \"foo.bar\\autoexec.bat\\sendmail.cf\"\n",
    "p = re.compile(\".*[.].*$\")\n",
    "f = p.search(filename)\n",
    "f"
   ]
  },
  {
   "cell_type": "code",
   "execution_count": 16,
   "id": "b4685cf0-6039-4fce-b96a-c28ba7119d5f",
   "metadata": {},
   "outputs": [
    {
     "data": {
      "text/plain": [
       "'foo.bar\\x07utoexec.bat\\\\sendmail.cf'"
      ]
     },
     "execution_count": 16,
     "metadata": {},
     "output_type": "execute_result"
    }
   ],
   "source": [
    "#정규식에 '확장자가 'bat'인 파일은 제외한다'는 조건 추가\n",
    "p = re.compile(\".*[.][^b].*$\")\n",
    "f = p.search(filename)\n",
    "f.group()"
   ]
  },
  {
   "cell_type": "code",
   "execution_count": 14,
   "id": "68077d9d-8066-426f-9928-90b2d59bd30b",
   "metadata": {},
   "outputs": [
    {
     "data": {
      "text/plain": [
       "<re.Match object; span=(0, 31), match='foo.bar\\x07utoexec.bat\\\\sendmail.cf'>"
      ]
     },
     "execution_count": 14,
     "metadata": {},
     "output_type": "execute_result"
    }
   ],
   "source": [
    "p = re.compile(\".*[.](?!bat$).*$\")\n",
    "f = p.search(filename)\n",
    "f"
   ]
  },
  {
   "cell_type": "code",
   "execution_count": 20,
   "id": "ae1f2a82-af51-4586-b2c3-f14882804c01",
   "metadata": {},
   "outputs": [
    {
     "name": "stdout",
     "output_type": "stream",
     "text": [
      "foo.bar\u0007utoexec.bat\\sendmail.cf\n"
     ]
    }
   ],
   "source": [
    "p = re.compile(\".*[.](?!bat$).*$\")\n",
    "\n",
    "f = p.search(\"foo.bar\\autoexec.bat\\sendmail.cf\")\n",
    "\n",
    "print(f.group())"
   ]
  },
  {
   "cell_type": "code",
   "execution_count": 29,
   "id": "c21aa6f2-b4da-400b-b018-c67f7ed24c62",
   "metadata": {},
   "outputs": [
    {
     "data": {
      "text/plain": [
       "['forta.com', 'forta.com']"
      ]
     },
     "execution_count": 29,
     "metadata": {},
     "output_type": "execute_result"
    }
   ],
   "source": [
    "data = '''\n",
    "http://www.forta.com  a\n",
    "https://mail.forta.com  b\n",
    "'''\n",
    "\n",
    "p = re.compile(r\"f\\w+[.]\\w{3}\")\n",
    "p.findall(data)"
   ]
  },
  {
   "cell_type": "code",
   "execution_count": 30,
   "id": "ac244cf1-c040-4577-961c-274334e02503",
   "metadata": {},
   "outputs": [
    {
     "data": {
      "text/plain": [
       "['http://www.f', 'https://mail.f']"
      ]
     },
     "execution_count": 30,
     "metadata": {},
     "output_type": "execute_result"
    }
   ],
   "source": [
    "p = re.compile(r\".+f\")\n",
    "p.findall(data)"
   ]
  },
  {
   "cell_type": "code",
   "execution_count": 31,
   "id": "8619ce76-f642-4dc6-898f-39f055ec5478",
   "metadata": {},
   "outputs": [
    {
     "data": {
      "text/plain": [
       "['http://www.', 'https://mail.']"
      ]
     },
     "execution_count": 31,
     "metadata": {},
     "output_type": "execute_result"
    }
   ],
   "source": [
    "p = re.compile(r\".+(?=f)\")\n",
    "p.findall(data)"
   ]
  },
  {
   "cell_type": "code",
   "execution_count": 32,
   "id": "58383a76-c151-4434-9825-c0b969b62ab3",
   "metadata": {},
   "outputs": [
    {
     "data": {
      "text/plain": [
       "['forta.com  a', 'forta.com  b']"
      ]
     },
     "execution_count": 32,
     "metadata": {},
     "output_type": "execute_result"
    }
   ],
   "source": [
    "p = re.compile(r\"(?=f).+\")\n",
    "p.findall(data)"
   ]
  },
  {
   "cell_type": "code",
   "execution_count": 33,
   "id": "9ff1a8b2-0b90-4999-bd97-53dbd06c2e4b",
   "metadata": {},
   "outputs": [
    {
     "data": {
      "text/plain": [
       "['orta.com  a', 'orta.com  b']"
      ]
     },
     "execution_count": 33,
     "metadata": {},
     "output_type": "execute_result"
    }
   ],
   "source": [
    "p = re.compile(r\"(?<=f).+\")\n",
    "p.findall(data)"
   ]
  },
  {
   "cell_type": "code",
   "execution_count": 34,
   "id": "bfd66416-0caa-456d-bf35-722aef1bb660",
   "metadata": {},
   "outputs": [],
   "source": [
    "text = '''\n",
    "2018-05-12 00:00:01 ABC DEFG log: this is python\n",
    "2018-05-12 00:00:02 ABC DEFG HI log: this is python\n",
    "2018-05-12 00:00:03 ABC DEFG HI JKL log: this is python\n",
    "'''"
   ]
  },
  {
   "cell_type": "code",
   "execution_count": 38,
   "id": "3930f83d-91e9-4769-b594-4def054aae17",
   "metadata": {},
   "outputs": [
    {
     "data": {
      "text/plain": [
       "['2018-05-12 00:00:01 ABC DEFG ',\n",
       " '2018-05-12 00:00:02 ABC DEFG HI ',\n",
       " '2018-05-12 00:00:03 ABC DEFG HI JKL ']"
      ]
     },
     "execution_count": 38,
     "metadata": {},
     "output_type": "execute_result"
    }
   ],
   "source": [
    "#전방탐색\n",
    "p = re.compile('.+(?=log:)')\n",
    "p.findall(text)"
   ]
  },
  {
   "cell_type": "code",
   "execution_count": 39,
   "id": "a72a3152-a22c-434f-b1a3-43be3c3bbebc",
   "metadata": {},
   "outputs": [
    {
     "data": {
      "text/plain": [
       "[' this is python', ' this is python', ' this is python']"
      ]
     },
     "execution_count": 39,
     "metadata": {},
     "output_type": "execute_result"
    }
   ],
   "source": [
    "p = re.compile('(?<=log:).+')\n",
    "p.findall(text)"
   ]
  },
  {
   "cell_type": "code",
   "execution_count": null,
   "id": "dfb9e343-0b67-4d4a-80b7-ad887d8078ae",
   "metadata": {},
   "outputs": [],
   "source": []
  }
 ],
 "metadata": {
  "kernelspec": {
   "display_name": "Python 3 (ipykernel)",
   "language": "python",
   "name": "python3"
  },
  "language_info": {
   "codemirror_mode": {
    "name": "ipython",
    "version": 3
   },
   "file_extension": ".py",
   "mimetype": "text/x-python",
   "name": "python",
   "nbconvert_exporter": "python",
   "pygments_lexer": "ipython3",
   "version": "3.10.6"
  }
 },
 "nbformat": 4,
 "nbformat_minor": 5
}
