{
 "cells": [
  {
   "cell_type": "markdown",
   "id": "808cd655-1e15-474f-8f4b-244e12671ed6",
   "metadata": {
    "jp-MarkdownHeadingCollapsed": true,
    "tags": []
   },
   "source": [
    "#### 0916 복습"
   ]
  },
  {
   "cell_type": "code",
   "execution_count": 10,
   "id": "c7dd3c3a-ccfd-4656-b9dd-6b93943da932",
   "metadata": {},
   "outputs": [
    {
     "name": "stdout",
     "output_type": "stream",
     "text": [
      "A A, AA, AAA, AAAA, AAAAA, AaAbAcA, AAaA, "
     ]
    }
   ],
   "source": [
    "#1\n",
    "import re\n",
    "\n",
    "li=[\" \",\"1\",\"12\",\"123\",\"1234\",\"abc\",\"1a\"]\n",
    "\n",
    "for i in li:\n",
    "    print(re.sub(\"[0-9]?\", \"A\", i), end=\", \")"
   ]
  },
  {
   "cell_type": "code",
   "execution_count": 12,
   "id": "f9cfbc28-2453-4b6b-a32e-f54630c8941d",
   "metadata": {},
   "outputs": [
    {
     "data": {
      "text/plain": [
       "array([[  1,   2,   3,   4,   5,   6,   7,   8,   9,  10],\n",
       "       [ 11,  12,  13,  14,  15,  16,  17,  18,  19,  20],\n",
       "       [ 21,  22,  23,  24,  25,  26,  27,  28,  29,  30],\n",
       "       [ 31,  32,  33,  34,  35,  36,  37,  38,  39,  40],\n",
       "       [ 41,  42,  43,  44,  45,  46,  47,  48,  49,  50],\n",
       "       [ 51,  52,  53,  54,  55,  56,  57,  58,  59,  60],\n",
       "       [ 61,  62,  63,  64,  65,  66,  67,  68,  69,  70],\n",
       "       [ 71,  72,  73,  74,  75,  76,  77,  78,  79,  80],\n",
       "       [ 81,  82,  83,  84,  85,  86,  87,  88,  89,  90],\n",
       "       [ 91,  92,  93,  94,  95,  96,  97,  98,  99, 100]])"
      ]
     },
     "execution_count": 12,
     "metadata": {},
     "output_type": "execute_result"
    }
   ],
   "source": [
    "#2\n",
    "import numpy as np\n",
    "\n",
    "arr = np.arange(1, 101).reshape(10, 10)\n",
    "arr"
   ]
  },
  {
   "cell_type": "code",
   "execution_count": 16,
   "id": "1410a479-96ba-41bf-9760-a57b4143f5da",
   "metadata": {},
   "outputs": [
    {
     "data": {
      "text/plain": [
       "array([[44, 46],\n",
       "       [74, 76]])"
      ]
     },
     "execution_count": 16,
     "metadata": {},
     "output_type": "execute_result"
    }
   ],
   "source": [
    "arr[4::3, 3:6:2]"
   ]
  },
  {
   "cell_type": "code",
   "execution_count": 17,
   "id": "5209024e-54e9-4970-8e4d-b31ad0cec24c",
   "metadata": {},
   "outputs": [
    {
     "data": {
      "text/plain": [
       "array([44, 46, 74, 76])"
      ]
     },
     "execution_count": 17,
     "metadata": {},
     "output_type": "execute_result"
    }
   ],
   "source": [
    "arr[[4, 4, 7, 7], [3, 5, 3, 5]]"
   ]
  },
  {
   "cell_type": "code",
   "execution_count": 20,
   "id": "3bdd7326-e246-4cea-a5d0-7896e1ac8b6e",
   "metadata": {},
   "outputs": [
    {
     "data": {
      "text/plain": [
       "1"
      ]
     },
     "execution_count": 20,
     "metadata": {},
     "output_type": "execute_result"
    }
   ],
   "source": [
    "arr[0, 0]"
   ]
  },
  {
   "cell_type": "code",
   "execution_count": 21,
   "id": "703fa3bf-c7cf-482e-ad9a-8a18a98d47be",
   "metadata": {},
   "outputs": [
    {
     "data": {
      "text/plain": [
       "array([[ 1,  3],\n",
       "       [21, 23]])"
      ]
     },
     "execution_count": 21,
     "metadata": {},
     "output_type": "execute_result"
    }
   ],
   "source": [
    "arr[0:4:2, 0:4:2]"
   ]
  },
  {
   "cell_type": "code",
   "execution_count": 24,
   "id": "3ab31317-0973-4db2-824d-b1df8365ece1",
   "metadata": {},
   "outputs": [
    {
     "data": {
      "text/plain": [
       "array([ 1, 12])"
      ]
     },
     "execution_count": 24,
     "metadata": {},
     "output_type": "execute_result"
    }
   ],
   "source": [
    "arr[[0,1], [0,1]]   #[0,0], [1,1] 의 값이 나온다 -> 대각선으로 값을 슬라이싱할 때 좋다"
   ]
  },
  {
   "cell_type": "code",
   "execution_count": 25,
   "id": "a71693f6-ae24-4828-88d8-d706ca9009ab",
   "metadata": {},
   "outputs": [
    {
     "data": {
      "text/plain": [
       "array([ 7, 18, 29, 40])"
      ]
     },
     "execution_count": 25,
     "metadata": {},
     "output_type": "execute_result"
    }
   ],
   "source": [
    "arr[[0,1,2,3], [6,7,8,9]]"
   ]
  },
  {
   "cell_type": "code",
   "execution_count": 31,
   "id": "79479cdb-27aa-4ca5-94e7-5a6f8a15f532",
   "metadata": {},
   "outputs": [
    {
     "data": {
      "text/plain": [
       "'hello world'"
      ]
     },
     "execution_count": 31,
     "metadata": {},
     "output_type": "execute_result"
    }
   ],
   "source": [
    "#3\n",
    "data = '''\n",
    "  <head>\n",
    "    <title>hello world</title>\n",
    "  </head>\n",
    "'''\n",
    "\n",
    "p = re.compile(\"(?<=<title>).*(?=</title>)\")\n",
    "p.search(data).group()"
   ]
  },
  {
   "cell_type": "code",
   "execution_count": 38,
   "id": "b31293b5-ebd6-4ea2-aa9c-5ee38523453c",
   "metadata": {},
   "outputs": [
    {
     "data": {
      "text/plain": [
       "array([[ 1,  2,  3,  4,  5,  6],\n",
       "       [ 7,  8,  9, 10, 11, 12],\n",
       "       [13, 14, 15, 16, 17, 18],\n",
       "       [19, 20, 21, 22, 23, 24],\n",
       "       [25, 26, 27, 28, 29, 30],\n",
       "       [31, 32, 33, 34, 35, 36]])"
      ]
     },
     "execution_count": 38,
     "metadata": {},
     "output_type": "execute_result"
    }
   ],
   "source": [
    "#4\n",
    "brr = np.arange(1, 37).reshape(6, 6)\n",
    "brr"
   ]
  },
  {
   "cell_type": "code",
   "execution_count": 40,
   "id": "e6da1a4f-4c1d-48d3-a0b5-21b054703046",
   "metadata": {},
   "outputs": [
    {
     "data": {
      "text/plain": [
       "array([[ 2,  4,  6],\n",
       "       [ 8, 10, 12],\n",
       "       [14, 16, 18],\n",
       "       [20, 22, 24],\n",
       "       [26, 28, 30],\n",
       "       [32, 34, 36]])"
      ]
     },
     "execution_count": 40,
     "metadata": {},
     "output_type": "execute_result"
    }
   ],
   "source": [
    "brr[:, 1::2]"
   ]
  },
  {
   "cell_type": "code",
   "execution_count": 41,
   "id": "f72ed1a5-8b37-4db5-bd64-fcf5b17fd85c",
   "metadata": {},
   "outputs": [
    {
     "data": {
      "text/plain": [
       "array([[ 2,  4,  6],\n",
       "       [ 8, 10, 12],\n",
       "       [14, 16, 18],\n",
       "       [20, 22, 24],\n",
       "       [26, 28, 30],\n",
       "       [32, 34, 36]])"
      ]
     },
     "execution_count": 41,
     "metadata": {},
     "output_type": "execute_result"
    }
   ],
   "source": [
    "brr[:, [1,3,5]]"
   ]
  },
  {
   "cell_type": "code",
   "execution_count": 42,
   "id": "d7db0812-e718-462a-a41f-718d56b4dd92",
   "metadata": {},
   "outputs": [
    {
     "data": {
      "text/plain": [
       "array([[ 1,  3,  5],\n",
       "       [ 7,  9, 11],\n",
       "       [13, 15, 17],\n",
       "       [19, 21, 23],\n",
       "       [25, 27, 29],\n",
       "       [31, 33, 35]])"
      ]
     },
     "execution_count": 42,
     "metadata": {},
     "output_type": "execute_result"
    }
   ],
   "source": [
    "brr[:, 0::2]"
   ]
  },
  {
   "cell_type": "code",
   "execution_count": 43,
   "id": "328ee27d-325c-4a69-9390-3b17aa90afdd",
   "metadata": {},
   "outputs": [
    {
     "data": {
      "text/plain": [
       "array([[ 1,  3,  5],\n",
       "       [ 7,  9, 11],\n",
       "       [13, 15, 17],\n",
       "       [19, 21, 23],\n",
       "       [25, 27, 29],\n",
       "       [31, 33, 35]])"
      ]
     },
     "execution_count": 43,
     "metadata": {},
     "output_type": "execute_result"
    }
   ],
   "source": [
    "brr[:, [0,2,4]]"
   ]
  },
  {
   "cell_type": "code",
   "execution_count": 47,
   "id": "5d31d7db-4bcf-40d8-a7df-d59f8a457116",
   "metadata": {},
   "outputs": [
    {
     "data": {
      "text/plain": [
       "array([[[ 1,  2,  3,  4,  5,  6,  7,  8,  9, 10, 11],\n",
       "        [12, 13, 14, 15, 16, 17, 18, 19, 20, 21, 22],\n",
       "        [23, 24, 25, 26, 27, 28, 29, 30, 31, 32, 33]],\n",
       "\n",
       "       [[34, 35, 36, 37, 38, 39, 40, 41, 42, 43, 44],\n",
       "        [45, 46, 47, 48, 49, 50, 51, 52, 53, 54, 55],\n",
       "        [56, 57, 58, 59, 60, 61, 62, 63, 64, 65, 66]],\n",
       "\n",
       "       [[67, 68, 69, 70, 71, 72, 73, 74, 75, 76, 77],\n",
       "        [78, 79, 80, 81, 82, 83, 84, 85, 86, 87, 88],\n",
       "        [89, 90, 91, 92, 93, 94, 95, 96, 97, 98, 99]]])"
      ]
     },
     "execution_count": 47,
     "metadata": {},
     "output_type": "execute_result"
    }
   ],
   "source": [
    "#5\n",
    "crr = np.arange(1, 100).reshape(3, 3, -1)\n",
    "crr"
   ]
  },
  {
   "cell_type": "markdown",
   "id": "1ddb092a-89aa-4cc8-97f8-c4708a1b75c9",
   "metadata": {
    "jp-MarkdownHeadingCollapsed": true,
    "tags": []
   },
   "source": [
    "#### 0919 pdf 문제 풀이"
   ]
  },
  {
   "cell_type": "code",
   "execution_count": 48,
   "id": "5ed12ba0-9253-489f-8ecc-f4aa225d4e3b",
   "metadata": {},
   "outputs": [
    {
     "data": {
      "text/plain": [
       "'! I need'"
      ]
     },
     "execution_count": 48,
     "metadata": {},
     "output_type": "execute_result"
    }
   ],
   "source": [
    "#1.\n",
    "a = \"Hello python! I need python!\"\n",
    "a[-16 : -8]"
   ]
  },
  {
   "cell_type": "code",
   "execution_count": 60,
   "id": "2031d59c-a6aa-4866-86d5-6140ea1a330b",
   "metadata": {},
   "outputs": [
    {
     "name": "stdout",
     "output_type": "stream",
     "text": [
      "960101, 1041111\n"
     ]
    }
   ],
   "source": [
    "#3\n",
    "a=\"960101-1041111\"\n",
    "a[:6]\n",
    "a[7:]\n",
    "print(a[:6] + \", \" + a[7:])"
   ]
  },
  {
   "cell_type": "code",
   "execution_count": 61,
   "id": "b7df7ecc-ee9a-46e0-afee-bb22b4f8d7e1",
   "metadata": {},
   "outputs": [
    {
     "data": {
      "text/plain": [
       "'축구#농구#배구#야구'"
      ]
     },
     "execution_count": 61,
     "metadata": {},
     "output_type": "execute_result"
    }
   ],
   "source": [
    "#4\n",
    "key='축구:농구:배구:야구'\n",
    "key.replace(\":\", \"#\")"
   ]
  },
  {
   "cell_type": "code",
   "execution_count": 113,
   "id": "d73771f3-bf7a-45b5-83d0-6e79c866deb3",
   "metadata": {},
   "outputs": [
    {
     "data": {
      "text/plain": [
       "{'apple': '사과', 'banana': '바나나', 'cherry': '체리', 'grape': '포도'}"
      ]
     },
     "execution_count": 113,
     "metadata": {},
     "output_type": "execute_result"
    }
   ],
   "source": [
    "#5\n",
    "a = {\"apple\" : \"사과\", \"banana\" : \"바나나\" , \"cherry\" : \"체리\" }\n",
    "a[\"grape\"] = \"포도\"\n",
    "a"
   ]
  },
  {
   "cell_type": "code",
   "execution_count": 114,
   "id": "a4241bba-cf22-4555-a51d-2d12a7474e84",
   "metadata": {},
   "outputs": [
    {
     "data": {
      "text/plain": [
       "{'apple': '사과', 'cherry': '체리', 'grape': '포도'}"
      ]
     },
     "execution_count": 114,
     "metadata": {},
     "output_type": "execute_result"
    }
   ],
   "source": [
    "del a[\"banana\"]\n",
    "a"
   ]
  },
  {
   "cell_type": "code",
   "execution_count": 67,
   "id": "aa04d66d-8929-4b68-8fd5-eec93e3ff859",
   "metadata": {},
   "outputs": [
    {
     "name": "stdout",
     "output_type": "stream",
     "text": [
      "55\n"
     ]
    }
   ],
   "source": [
    "#6\n",
    "result = 0\n",
    "for i in range(1, 11):\n",
    "    result += i\n",
    "print(result)"
   ]
  },
  {
   "cell_type": "code",
   "execution_count": 103,
   "id": "465602c1-a682-49ad-a20e-fa8042be9d73",
   "metadata": {},
   "outputs": [
    {
     "data": {
      "text/plain": [
       "9"
      ]
     },
     "execution_count": 103,
     "metadata": {},
     "output_type": "execute_result"
    }
   ],
   "source": [
    "#9\n",
    "f = lambda x: x*3\n",
    "f(3)"
   ]
  },
  {
   "cell_type": "code",
   "execution_count": 80,
   "id": "6bb2792f-dc07-4dc8-be4a-682f8ba5ab5b",
   "metadata": {},
   "outputs": [
    {
     "data": {
      "text/plain": [
       "(2, 0)"
      ]
     },
     "execution_count": 80,
     "metadata": {},
     "output_type": "execute_result"
    }
   ],
   "source": [
    "#10\n",
    "def divide(a, b):\n",
    "    if a < b:\n",
    "        a, b = b, a\n",
    "    \n",
    "    c = a//b\n",
    "    d = a%b\n",
    "    \n",
    "    return c, d\n",
    "\n",
    "divide(5, 10)"
   ]
  },
  {
   "cell_type": "code",
   "execution_count": 82,
   "id": "421a0142-0c34-4798-b7fc-cc27d2da5149",
   "metadata": {},
   "outputs": [
    {
     "name": "stdout",
     "output_type": "stream",
     "text": [
      "[2, 6, 10]\n"
     ]
    }
   ],
   "source": [
    "#11\n",
    "numbers = [1,2,3,4,5]\n",
    "a = []\n",
    "for n in numbers:\n",
    "    if n%2 ==1:\n",
    "        a.append(n*2)\n",
    "print(a)"
   ]
  },
  {
   "cell_type": "code",
   "execution_count": 119,
   "id": "f400ead9-5728-4a41-bdcc-1de3c56be5a0",
   "metadata": {},
   "outputs": [
    {
     "data": {
      "text/plain": [
       "[2, 6, 10]"
      ]
     },
     "execution_count": 119,
     "metadata": {},
     "output_type": "execute_result"
    }
   ],
   "source": [
    "numbers = [1,2,3,4,5]\n",
    "a = [n*2 for n in numbers if n%2 == 1]\n",
    "a"
   ]
  },
  {
   "cell_type": "code",
   "execution_count": 83,
   "id": "371c8594-a256-4e04-bcc7-1df2a833c6ee",
   "metadata": {},
   "outputs": [
    {
     "name": "stdout",
     "output_type": "stream",
     "text": [
      "3\n"
     ]
    }
   ],
   "source": [
    "#12\n",
    "class FirstClass :\n",
    "    def __init__(self, number):\n",
    "        self.number = number\n",
    "    def printNumber(self):\n",
    "        return self.number\n",
    "    \n",
    "a = FirstClass(3)\n",
    "print(a.printNumber())"
   ]
  },
  {
   "cell_type": "code",
   "execution_count": 84,
   "id": "cdaeb616-6356-405c-a428-413c386e31b1",
   "metadata": {},
   "outputs": [
    {
     "name": "stdout",
     "output_type": "stream",
     "text": [
      "2\n"
     ]
    }
   ],
   "source": [
    "#13\n",
    "class Class_A :\n",
    "    def func_A(self) :\n",
    "        return 1\n",
    "class Class_B(Class_A):\n",
    "    def func_A(self):\n",
    "        return 2\n",
    "\n",
    "b = Class_B()\n",
    "print(b.func_A())"
   ]
  },
  {
   "cell_type": "code",
   "execution_count": null,
   "id": "d8296e03-2d17-43e6-a84f-0d4dfe6cf0ab",
   "metadata": {},
   "outputs": [],
   "source": [
    "#16\n",
    "import re\n",
    "p = re.compile(\"\\d{6}[-][34]\\d{6}\")"
   ]
  },
  {
   "cell_type": "code",
   "execution_count": 87,
   "id": "9f993784-dcf3-4326-8a5f-8f93b29a931e",
   "metadata": {},
   "outputs": [
    {
     "data": {
      "text/plain": [
       "[-2, -3]"
      ]
     },
     "execution_count": 87,
     "metadata": {},
     "output_type": "execute_result"
    }
   ],
   "source": [
    "#17\n",
    "list(filter(lambda x: x < 0,  [1,-2, 3, 5, 8, -3]))"
   ]
  },
  {
   "cell_type": "code",
   "execution_count": 90,
   "id": "1b28437d-241d-42af-ba38-7518b02da11f",
   "metadata": {},
   "outputs": [
    {
     "name": "stdout",
     "output_type": "stream",
     "text": [
      "[-2, -3]\n"
     ]
    }
   ],
   "source": [
    "lst = []\n",
    "for i, j in enumerate([1,-2, 3, 5, 8, -3]):\n",
    "    if j < 0:\n",
    "        lst.append(j)\n",
    "print(lst)"
   ]
  },
  {
   "cell_type": "code",
   "execution_count": 101,
   "id": "2d5248df-7aa8-4f5b-8933-8976e01e6f6c",
   "metadata": {},
   "outputs": [
    {
     "data": {
      "text/plain": [
       "120"
      ]
     },
     "execution_count": 101,
     "metadata": {},
     "output_type": "execute_result"
    }
   ],
   "source": [
    "#18\n",
    "def fac(n):\n",
    "    result = 1\n",
    "    for i in range(1, n+1):\n",
    "        result = result * i\n",
    "    \n",
    "    return result\n",
    "\n",
    "fac(5)"
   ]
  },
  {
   "cell_type": "code",
   "execution_count": 121,
   "id": "5a689254-d880-4079-9114-27c3d9dd6483",
   "metadata": {},
   "outputs": [
    {
     "data": {
      "text/plain": [
       "120"
      ]
     },
     "execution_count": 121,
     "metadata": {},
     "output_type": "execute_result"
    }
   ],
   "source": [
    "def fac(n):\n",
    "    if n == 1:\n",
    "        return 1\n",
    "    \n",
    "    return n*fac(n-1)   #재귀함수\n",
    "\n",
    "fac(5)"
   ]
  },
  {
   "cell_type": "markdown",
   "id": "12b9221c-bdf0-4b36-b2e7-9231fdce14d3",
   "metadata": {},
   "source": [
    "### 0919"
   ]
  },
  {
   "cell_type": "code",
   "execution_count": 122,
   "id": "bcd8145d-6bc9-4b7a-95f0-7fd5034bdb4a",
   "metadata": {},
   "outputs": [
    {
     "ename": "ValueError",
     "evalue": "operands could not be broadcast together with shapes (4,) (2,) ",
     "output_type": "error",
     "traceback": [
      "\u001b[1;31m---------------------------------------------------------------------------\u001b[0m",
      "\u001b[1;31mValueError\u001b[0m                                Traceback (most recent call last)",
      "Input \u001b[1;32mIn [122]\u001b[0m, in \u001b[0;36m<cell line: 2>\u001b[1;34m()\u001b[0m\n\u001b[0;32m      1\u001b[0m a \u001b[38;5;241m=\u001b[39m np\u001b[38;5;241m.\u001b[39marray([\u001b[38;5;241m1\u001b[39m,\u001b[38;5;241m2\u001b[39m,\u001b[38;5;241m3\u001b[39m,\u001b[38;5;241m4\u001b[39m])\n\u001b[1;32m----> 2\u001b[0m \u001b[43ma\u001b[49m\u001b[43m \u001b[49m\u001b[38;5;241;43m+\u001b[39;49m\u001b[43m \u001b[49m\u001b[43mnp\u001b[49m\u001b[38;5;241;43m.\u001b[39;49m\u001b[43marray\u001b[49m\u001b[43m(\u001b[49m\u001b[43m[\u001b[49m\u001b[38;5;241;43m1\u001b[39;49m\u001b[43m,\u001b[49m\u001b[38;5;241;43m2\u001b[39;49m\u001b[43m]\u001b[49m\u001b[43m)\u001b[49m\n",
      "\u001b[1;31mValueError\u001b[0m: operands could not be broadcast together with shapes (4,) (2,) "
     ]
    }
   ],
   "source": [
    "a = np.array([1,2,3,4])\n",
    "a + np.array([1,2])   #불가능"
   ]
  },
  {
   "cell_type": "code",
   "execution_count": 124,
   "id": "5fc4663f-500f-4ecd-b4ef-32ece5b2effb",
   "metadata": {},
   "outputs": [
    {
     "data": {
      "text/plain": [
       "array([[1],\n",
       "       [2]])"
      ]
     },
     "execution_count": 124,
     "metadata": {},
     "output_type": "execute_result"
    }
   ],
   "source": [
    "np.array([[1],[2]])"
   ]
  },
  {
   "cell_type": "code",
   "execution_count": 126,
   "id": "f4468c72-19ec-4a0b-8c8b-49d27748be24",
   "metadata": {},
   "outputs": [
    {
     "data": {
      "text/plain": [
       "array([[2, 3, 4, 5],\n",
       "       [3, 4, 5, 6]])"
      ]
     },
     "execution_count": 126,
     "metadata": {},
     "output_type": "execute_result"
    }
   ],
   "source": [
    "a + np.array([[1],[2]])   #가능"
   ]
  },
  {
   "cell_type": "markdown",
   "id": "5fed5f5c-08fd-4023-a33f-63f52c68f273",
   "metadata": {
    "jp-MarkdownHeadingCollapsed": true,
    "tags": []
   },
   "source": [
    "#### Numpy 내장함수를 이용하여 array 만들기<br>\n",
    "* arange / linspace / zeros / ones / empty / full / tile / **_like"
   ]
  },
  {
   "cell_type": "code",
   "execution_count": 2,
   "id": "3c692d09-7898-4200-8dcc-c894215220d8",
   "metadata": {},
   "outputs": [
    {
     "data": {
      "text/plain": [
       "array([ 1.,  2.,  3.,  4.,  5.,  6.,  7.,  8.,  9., 10.])"
      ]
     },
     "execution_count": 2,
     "metadata": {},
     "output_type": "execute_result"
    }
   ],
   "source": [
    "#linspace(start, stop, numbers of element)\n",
    "import numpy as np\n",
    "np.linspace(1 ,10, 10)"
   ]
  },
  {
   "cell_type": "code",
   "execution_count": 3,
   "id": "5a4da161-05b3-4101-93ba-89d5f2541005",
   "metadata": {},
   "outputs": [
    {
     "data": {
      "text/plain": [
       "array([1., 3., 5., 7., 9.])"
      ]
     },
     "execution_count": 3,
     "metadata": {},
     "output_type": "execute_result"
    }
   ],
   "source": [
    "np.linspace(1 ,9, 5)"
   ]
  },
  {
   "cell_type": "code",
   "execution_count": 152,
   "id": "35c29c77-9a15-4a62-865d-65924aa82efb",
   "metadata": {},
   "outputs": [
    {
     "data": {
      "text/plain": [
       "array([1. , 2.6, 4.2, 5.8, 7.4])"
      ]
     },
     "execution_count": 152,
     "metadata": {},
     "output_type": "execute_result"
    }
   ],
   "source": [
    "np.linspace(1 ,9, 5, endpoint=False)"
   ]
  },
  {
   "cell_type": "code",
   "execution_count": 5,
   "id": "dcb1f46e-5792-4c80-8f1d-ace3551fc05a",
   "metadata": {},
   "outputs": [
    {
     "data": {
      "text/plain": [
       "array([[1., 1., 1.],\n",
       "       [1., 1., 1.]])"
      ]
     },
     "execution_count": 5,
     "metadata": {},
     "output_type": "execute_result"
    }
   ],
   "source": [
    "#np.ones(shape [, dtype, order])\n",
    "np.ones((2,3))    #(2,3) -> tuple 형태"
   ]
  },
  {
   "cell_type": "code",
   "execution_count": 6,
   "id": "84b8a1ec-32d4-4469-ace2-4c248ba23995",
   "metadata": {},
   "outputs": [
    {
     "data": {
      "text/plain": [
       "array([[1, 1, 1],\n",
       "       [1, 1, 1]], dtype=int16)"
      ]
     },
     "execution_count": 6,
     "metadata": {},
     "output_type": "execute_result"
    }
   ],
   "source": [
    "np.ones((2,3), dtype = \"int16\")"
   ]
  },
  {
   "cell_type": "code",
   "execution_count": 7,
   "id": "72fb4915-ae4c-4dd6-9bf8-b4b31f0d35d7",
   "metadata": {},
   "outputs": [
    {
     "data": {
      "text/plain": [
       "array([[0., 0., 0.],\n",
       "       [0., 0., 0.]])"
      ]
     },
     "execution_count": 7,
     "metadata": {},
     "output_type": "execute_result"
    }
   ],
   "source": [
    "#np.zeros(shape [, dtype, order])\n",
    "np.zeros((2,3))"
   ]
  },
  {
   "cell_type": "code",
   "execution_count": 11,
   "id": "2f8096b9-2dfe-450d-b5f3-8ad3c9cb70d7",
   "metadata": {},
   "outputs": [
    {
     "data": {
      "text/plain": [
       "array([[0., 0., 0., 0., 0., 0., 0., 0., 0., 0.],\n",
       "       [0., 0., 0., 0., 0., 0., 0., 0., 0., 0.],\n",
       "       [0., 0., 0., 0., 0., 0., 0., 0., 0., 0.],\n",
       "       [0., 0., 0., 1., 0., 0., 0., 0., 0., 0.],\n",
       "       [0., 0., 0., 0., 0., 0., 0., 0., 0., 0.],\n",
       "       [0., 0., 0., 0., 0., 0., 1., 0., 0., 0.],\n",
       "       [0., 0., 0., 0., 0., 0., 0., 0., 0., 0.],\n",
       "       [0., 0., 0., 0., 0., 0., 0., 0., 0., 0.],\n",
       "       [0., 0., 0., 0., 0., 0., 0., 0., 0., 0.],\n",
       "       [0., 0., 0., 0., 0., 0., 0., 0., 0., 0.]])"
      ]
     },
     "execution_count": 11,
     "metadata": {},
     "output_type": "execute_result"
    }
   ],
   "source": [
    "#sparse matrix (희소행렬)\n",
    "#10x10 = 대부분 0\n",
    "#3행 3열 부분 1, 5행 6열 부분 1\n",
    "\n",
    "arr = np.zeros((10, 10))\n",
    "arr\n",
    "arr[3,3] = 1\n",
    "arr[5,6] = 1\n",
    "arr"
   ]
  },
  {
   "cell_type": "code",
   "execution_count": 13,
   "id": "32837b2e-8758-4969-be9c-b597fa4497aa",
   "metadata": {},
   "outputs": [
    {
     "data": {
      "text/plain": [
       "array([[3., 3., 3., 3., 3., 3., 3., 3., 3., 3.],\n",
       "       [3., 3., 3., 3., 3., 3., 3., 3., 3., 3.],\n",
       "       [3., 3., 3., 3., 3., 3., 3., 3., 3., 3.],\n",
       "       [3., 3., 3., 3., 3., 3., 3., 3., 3., 3.],\n",
       "       [3., 3., 3., 3., 3., 3., 3., 3., 3., 3.],\n",
       "       [3., 3., 3., 3., 3., 3., 3., 3., 3., 3.],\n",
       "       [3., 3., 3., 3., 3., 3., 3., 3., 3., 3.],\n",
       "       [3., 3., 3., 3., 3., 3., 3., 3., 3., 3.],\n",
       "       [3., 3., 3., 3., 3., 3., 3., 3., 3., 3.],\n",
       "       [3., 3., 3., 3., 3., 3., 3., 3., 3., 3.]])"
      ]
     },
     "execution_count": 13,
     "metadata": {},
     "output_type": "execute_result"
    }
   ],
   "source": [
    "#모든 원소가 3인 10X10 array\n",
    "a = np.ones((10, 10))\n",
    "a*3"
   ]
  },
  {
   "cell_type": "code",
   "execution_count": 21,
   "id": "b3f49904-d76a-4606-a2be-1aa07b541db0",
   "metadata": {},
   "outputs": [
    {
     "data": {
      "text/plain": [
       "array([[3, 3, 3, 3, 3, 3, 3, 3, 3, 3],\n",
       "       [3, 3, 3, 3, 3, 3, 3, 3, 3, 3],\n",
       "       [3, 3, 3, 3, 3, 3, 3, 3, 3, 3],\n",
       "       [3, 3, 3, 3, 3, 3, 3, 3, 3, 3],\n",
       "       [3, 3, 3, 3, 3, 3, 3, 3, 3, 3],\n",
       "       [3, 3, 3, 3, 3, 3, 3, 3, 3, 3],\n",
       "       [3, 3, 3, 3, 3, 3, 3, 3, 3, 3],\n",
       "       [3, 3, 3, 3, 3, 3, 3, 3, 3, 3],\n",
       "       [3, 3, 3, 3, 3, 3, 3, 3, 3, 3],\n",
       "       [3, 3, 3, 3, 3, 3, 3, 3, 3, 3]])"
      ]
     },
     "execution_count": 21,
     "metadata": {},
     "output_type": "execute_result"
    }
   ],
   "source": [
    "np.full((10,10), 3)    #10행 10열 만큼을 3으로 채운다"
   ]
  },
  {
   "cell_type": "code",
   "execution_count": 15,
   "id": "fbb6e4a4-11f8-4b70-968b-4bbd2faa4de1",
   "metadata": {},
   "outputs": [
    {
     "data": {
      "text/plain": [
       "array([[1., 0., 0.],\n",
       "       [0., 1., 0.],\n",
       "       [0., 0., 1.]])"
      ]
     },
     "execution_count": 15,
     "metadata": {},
     "output_type": "execute_result"
    }
   ],
   "source": [
    "#단위행렬 - np.identity() 는 정사각행렬이 정해져있다\n",
    "np.identity(3)"
   ]
  },
  {
   "cell_type": "code",
   "execution_count": 18,
   "id": "6c6a1d1e-7a8e-4f28-bbba-831057382e32",
   "metadata": {},
   "outputs": [
    {
     "data": {
      "text/plain": [
       "array([[1., 0., 0.],\n",
       "       [0., 1., 0.],\n",
       "       [0., 0., 1.]])"
      ]
     },
     "execution_count": 18,
     "metadata": {},
     "output_type": "execute_result"
    }
   ],
   "source": [
    "#np.identity(3)과 np.eye(3)은 같다\n",
    "np.eye(3)"
   ]
  },
  {
   "cell_type": "code",
   "execution_count": 19,
   "id": "69f501b7-cfcd-4f58-97cd-a2b62740a1de",
   "metadata": {},
   "outputs": [
    {
     "data": {
      "text/plain": [
       "array([[1., 0.],\n",
       "       [0., 1.],\n",
       "       [0., 0.]])"
      ]
     },
     "execution_count": 19,
     "metadata": {},
     "output_type": "execute_result"
    }
   ],
   "source": [
    "np.eye(3, 2)"
   ]
  },
  {
   "cell_type": "code",
   "execution_count": 153,
   "id": "c71f57d8-a79a-44de-9aa0-b300d414fe8f",
   "metadata": {},
   "outputs": [
    {
     "data": {
      "text/plain": [
       "array([0, 1, 2, 0, 1, 2])"
      ]
     },
     "execution_count": 153,
     "metadata": {},
     "output_type": "execute_result"
    }
   ],
   "source": [
    "a = np.array([0,1,2])\n",
    "np.tile(a, 2)   #a를 2번 반복\n",
    "#np.tile(a, (3, 2))   #a를 (3행 2열)번 반복"
   ]
  },
  {
   "cell_type": "code",
   "execution_count": 23,
   "id": "c98e63b3-8128-4013-a9b2-e995d562e2d8",
   "metadata": {},
   "outputs": [
    {
     "data": {
      "text/plain": [
       "array([[1., 0., 0.],\n",
       "       [1., 0., 0.]])"
      ]
     },
     "execution_count": 23,
     "metadata": {},
     "output_type": "execute_result"
    }
   ],
   "source": [
    "np.empty((2, 3))    #null에 해당하는 주소값, 초기화 안함"
   ]
  },
  {
   "cell_type": "markdown",
   "id": "6ae0294e-15c8-49eb-85af-a3106a2f8719",
   "metadata": {
    "jp-MarkdownHeadingCollapsed": true,
    "tags": []
   },
   "source": [
    "#### _like() 함수로 배열 만들기<br>\n",
    "* zeros_like( ) / ones_like( ) / empty_like( ) / full_like( )"
   ]
  },
  {
   "cell_type": "code",
   "execution_count": 28,
   "id": "70dcad11-51fc-4e74-b717-87e1496e698d",
   "metadata": {},
   "outputs": [
    {
     "data": {
      "text/plain": [
       "array([[0, 0, 0],\n",
       "       [0, 0, 0]])"
      ]
     },
     "execution_count": 28,
     "metadata": {},
     "output_type": "execute_result"
    }
   ],
   "source": [
    "#zeros_like() : 형태와 데이터 타입을 유지하면서 '0' 으로 채움\n",
    "a = np.arange(6).reshape(2,3)\n",
    "a\n",
    "np.zeros_like(a)"
   ]
  },
  {
   "cell_type": "code",
   "execution_count": 154,
   "id": "a6846f3b-a0ce-4b29-a904-32c56b3f3b15",
   "metadata": {},
   "outputs": [
    {
     "name": "stdout",
     "output_type": "stream",
     "text": [
      "[0. 1. 2.]\n"
     ]
    },
    {
     "data": {
      "text/plain": [
       "dtype('float64')"
      ]
     },
     "execution_count": 154,
     "metadata": {},
     "output_type": "execute_result"
    }
   ],
   "source": [
    "b = np.arange(3, dtype = float)\n",
    "print(b)\n",
    "b.dtype"
   ]
  },
  {
   "cell_type": "code",
   "execution_count": 31,
   "id": "164c345c-9088-4d1c-803f-5bf3c5c9d8bb",
   "metadata": {},
   "outputs": [
    {
     "data": {
      "text/plain": [
       "array([0., 0., 0.])"
      ]
     },
     "execution_count": 31,
     "metadata": {},
     "output_type": "execute_result"
    }
   ],
   "source": [
    "np.zeros_like(b)"
   ]
  },
  {
   "cell_type": "code",
   "execution_count": 34,
   "id": "6957199d-8c57-4c6d-a988-28d58fa454fa",
   "metadata": {},
   "outputs": [
    {
     "data": {
      "text/plain": [
       "array([[1, 1, 1],\n",
       "       [1, 1, 1]])"
      ]
     },
     "execution_count": 34,
     "metadata": {},
     "output_type": "execute_result"
    }
   ],
   "source": [
    "#ones_like() : 형태와 데이터 타입을 유지하면서 '1' 으로 채움\n",
    "np.ones_like(a)"
   ]
  },
  {
   "cell_type": "code",
   "execution_count": 35,
   "id": "67bc8dba-efd2-45e7-a4c7-d21292c0a9fb",
   "metadata": {},
   "outputs": [
    {
     "data": {
      "text/plain": [
       "array([1., 1., 1.])"
      ]
     },
     "execution_count": 35,
     "metadata": {},
     "output_type": "execute_result"
    }
   ],
   "source": [
    "np.ones_like(b)"
   ]
  },
  {
   "cell_type": "code",
   "execution_count": 36,
   "id": "c00f8699-921e-4c83-8034-ac1e80653b30",
   "metadata": {},
   "outputs": [
    {
     "data": {
      "text/plain": [
       "array([[         0, 1072693248,          0],\n",
       "       [1072693248,          0, 1072693248]])"
      ]
     },
     "execution_count": 36,
     "metadata": {},
     "output_type": "execute_result"
    }
   ],
   "source": [
    "np.empty_like(a)"
   ]
  },
  {
   "cell_type": "code",
   "execution_count": 37,
   "id": "e3c7b780-e22e-452d-bc93-1945532869eb",
   "metadata": {},
   "outputs": [
    {
     "data": {
      "text/plain": [
       "array([1., 1., 1.])"
      ]
     },
     "execution_count": 37,
     "metadata": {},
     "output_type": "execute_result"
    }
   ],
   "source": [
    "np.empty_like(b)"
   ]
  },
  {
   "cell_type": "code",
   "execution_count": 40,
   "id": "a8b4cbb7-1c19-4d06-9f8a-9d95f9d3904b",
   "metadata": {},
   "outputs": [
    {
     "data": {
      "text/plain": [
       "array([[3, 3, 3],\n",
       "       [3, 3, 3]])"
      ]
     },
     "execution_count": 40,
     "metadata": {},
     "output_type": "execute_result"
    }
   ],
   "source": [
    "#full_like() : 형태와 데이터 타입을 유지하면서 '입력한 수' 로 채움\n",
    "np.full_like(a, 3)"
   ]
  },
  {
   "cell_type": "code",
   "execution_count": 42,
   "id": "5c9e1ec7-d68c-484f-8a9a-7494ff12ed77",
   "metadata": {},
   "outputs": [
    {
     "data": {
      "text/plain": [
       "array([0.31, 0.31, 0.31])"
      ]
     },
     "execution_count": 42,
     "metadata": {},
     "output_type": "execute_result"
    }
   ],
   "source": [
    "np.full_like(b, .31)"
   ]
  },
  {
   "cell_type": "markdown",
   "id": "c8c58613-c62b-4e6a-bdaa-73216793ee80",
   "metadata": {
    "jp-MarkdownHeadingCollapsed": true,
    "tags": []
   },
   "source": [
    "#### copy 의 두가지 방법<br>\n",
    "-기본 배열로부터 새로운 배열을 생성하기 위해서는 copy 함수를 이용해 명시적으로 사용해야 한다<br>\n",
    "-copy 함수로 복사한 배열은 원본 배열과 완전히 다른 '새로운 객체' 이다<br>\n",
    "-copy( )의 두가지 방법<br>\n",
    "slice, indexing -> 새로운 객체가 아닌 기존 배열의 뷰 (View : id를 공유하여 본다)<br>\n",
    "반환한 배열의 값을 변경하면 원본 배열이 변경된다"
   ]
  },
  {
   "cell_type": "markdown",
   "id": "924d0120-73b4-4b46-b071-73da6de0f1e8",
   "metadata": {
    "jp-MarkdownHeadingCollapsed": true,
    "tags": []
   },
   "source": [
    "##### list"
   ]
  },
  {
   "cell_type": "code",
   "execution_count": 44,
   "id": "66243277-c713-465a-a15d-77e3008afcdf",
   "metadata": {},
   "outputs": [
    {
     "data": {
      "text/plain": [
       "[1, 2, 3, 4]"
      ]
     },
     "execution_count": 44,
     "metadata": {},
     "output_type": "execute_result"
    }
   ],
   "source": [
    "a = [1,2,3,4]\n",
    "b = a\n",
    "b    #a의 주솟값이 b에 복사됨"
   ]
  },
  {
   "cell_type": "code",
   "execution_count": 153,
   "id": "c425f8a9-8ea0-4da6-83e1-4100963a2fba",
   "metadata": {},
   "outputs": [
    {
     "data": {
      "text/plain": [
       "[1, 2, 3, 4]"
      ]
     },
     "execution_count": 153,
     "metadata": {},
     "output_type": "execute_result"
    }
   ],
   "source": [
    "c = a.copy()\n",
    "c"
   ]
  },
  {
   "cell_type": "code",
   "execution_count": 154,
   "id": "37631b4b-b41d-47bb-84fa-c1fad2e07297",
   "metadata": {},
   "outputs": [
    {
     "data": {
      "text/plain": [
       "[1, 2, 3, 4]"
      ]
     },
     "execution_count": 154,
     "metadata": {},
     "output_type": "execute_result"
    }
   ],
   "source": [
    "import copy\n",
    "d = copy.copy(a)\n",
    "d"
   ]
  },
  {
   "cell_type": "code",
   "execution_count": 155,
   "id": "f572bf0e-f936-4b9a-a731-fddfa93b0339",
   "metadata": {},
   "outputs": [
    {
     "data": {
      "text/plain": [
       "[100, 2, 3, 4]"
      ]
     },
     "execution_count": 155,
     "metadata": {},
     "output_type": "execute_result"
    }
   ],
   "source": [
    "b[0] = 100\n",
    "b"
   ]
  },
  {
   "cell_type": "code",
   "execution_count": 156,
   "id": "6fc07629-f447-4727-89bd-72e247ecf679",
   "metadata": {},
   "outputs": [
    {
     "name": "stdout",
     "output_type": "stream",
     "text": [
      "[100, 2, 3, 4]\n",
      "[1, 2, 3, 4]\n",
      "[1, 2, 3, 4]\n"
     ]
    }
   ],
   "source": [
    "print(a)\n",
    "print(c)\n",
    "print(d)"
   ]
  },
  {
   "cell_type": "code",
   "execution_count": 157,
   "id": "e44d3eb5-d500-4534-9f92-203c55638694",
   "metadata": {},
   "outputs": [
    {
     "name": "stdout",
     "output_type": "stream",
     "text": [
      "2573670481792\n",
      "2573670481792\n",
      "2573679587072\n",
      "2573670240320\n"
     ]
    }
   ],
   "source": [
    "print(id(a))\n",
    "print(id(b))\n",
    "print(id(c))\n",
    "print(id(d))"
   ]
  },
  {
   "cell_type": "markdown",
   "id": "86d0e4f9-5efa-4420-9653-f33409e5a12d",
   "metadata": {
    "tags": []
   },
   "source": [
    "##### array"
   ]
  },
  {
   "cell_type": "code",
   "execution_count": 158,
   "id": "4d263b90-e65d-4b73-b2a8-6cc6d3b4d080",
   "metadata": {},
   "outputs": [
    {
     "data": {
      "text/plain": [
       "array([1, 2, 3, 4])"
      ]
     },
     "execution_count": 158,
     "metadata": {},
     "output_type": "execute_result"
    }
   ],
   "source": [
    "a = np.array([1,2,3,4])\n",
    "a"
   ]
  },
  {
   "cell_type": "code",
   "execution_count": 159,
   "id": "1350eb74-63e8-4de3-968d-44f5d84f513f",
   "metadata": {},
   "outputs": [
    {
     "data": {
      "text/plain": [
       "array([1, 2, 3, 4])"
      ]
     },
     "execution_count": 159,
     "metadata": {},
     "output_type": "execute_result"
    }
   ],
   "source": [
    "b = a\n",
    "b"
   ]
  },
  {
   "cell_type": "code",
   "execution_count": 160,
   "id": "f9bbdf1e-4b9e-4ca2-ab6d-743765ecbb2e",
   "metadata": {},
   "outputs": [
    {
     "data": {
      "text/plain": [
       "array([1, 2, 3, 4])"
      ]
     },
     "execution_count": 160,
     "metadata": {},
     "output_type": "execute_result"
    }
   ],
   "source": [
    "c = a.copy()\n",
    "c"
   ]
  },
  {
   "cell_type": "code",
   "execution_count": 161,
   "id": "23cc6105-3dc1-4e5e-9e25-0f3ccc038b76",
   "metadata": {},
   "outputs": [
    {
     "data": {
      "text/plain": [
       "array([1, 2, 3, 4])"
      ]
     },
     "execution_count": 161,
     "metadata": {},
     "output_type": "execute_result"
    }
   ],
   "source": [
    "import copy\n",
    "d = copy.copy(a)\n",
    "d"
   ]
  },
  {
   "cell_type": "code",
   "execution_count": 162,
   "id": "fcc3fda7-5b47-4a0a-8ef7-befc4614a788",
   "metadata": {},
   "outputs": [
    {
     "data": {
      "text/plain": [
       "array([100,   2,   3,   4])"
      ]
     },
     "execution_count": 162,
     "metadata": {},
     "output_type": "execute_result"
    }
   ],
   "source": [
    "b[0] = 100\n",
    "b"
   ]
  },
  {
   "cell_type": "code",
   "execution_count": 163,
   "id": "b76db09a-58c7-4aaa-a3fb-6e6af30bf295",
   "metadata": {},
   "outputs": [
    {
     "name": "stdout",
     "output_type": "stream",
     "text": [
      "[100   2   3   4]\n",
      "[1 2 3 4]\n",
      "[1 2 3 4]\n"
     ]
    }
   ],
   "source": [
    "print(a)\n",
    "print(c)\n",
    "print(d)"
   ]
  },
  {
   "cell_type": "code",
   "execution_count": 164,
   "id": "dc6dcff3-c3ab-4d0e-a6c0-0cca30839eb8",
   "metadata": {},
   "outputs": [
    {
     "name": "stdout",
     "output_type": "stream",
     "text": [
      "2573670808912\n",
      "2573670808912\n",
      "2573671044400\n",
      "2573670793936\n"
     ]
    }
   ],
   "source": [
    "print(id(a))\n",
    "print(id(b))\n",
    "print(id(c))\n",
    "print(id(d))"
   ]
  },
  {
   "cell_type": "code",
   "execution_count": 166,
   "id": "3b7ccea7-b309-49ff-937f-a3ab0a65a329",
   "metadata": {},
   "outputs": [
    {
     "data": {
      "text/plain": [
       "array([1, 3, 5, 7])"
      ]
     },
     "execution_count": 166,
     "metadata": {},
     "output_type": "execute_result"
    }
   ],
   "source": [
    "np.arange(1, 9, 2)"
   ]
  },
  {
   "cell_type": "code",
   "execution_count": 167,
   "id": "77656157-33d4-45ff-93de-36013d60e82c",
   "metadata": {},
   "outputs": [
    {
     "data": {
      "text/plain": [
       "array([0. , 0.2, 0.4, 0.6, 0.8, 1. ])"
      ]
     },
     "execution_count": 167,
     "metadata": {},
     "output_type": "execute_result"
    }
   ],
   "source": [
    "np.linspace(0, 1, 6)"
   ]
  },
  {
   "cell_type": "code",
   "execution_count": 168,
   "id": "d1c877cf-ba44-4f87-8e6b-e680bec5cf69",
   "metadata": {},
   "outputs": [
    {
     "data": {
      "text/plain": [
       "array([[1, 1, 1],\n",
       "       [1, 1, 1],\n",
       "       [1, 1, 1]])"
      ]
     },
     "execution_count": 168,
     "metadata": {},
     "output_type": "execute_result"
    }
   ],
   "source": [
    "np.ones((3,3), int)"
   ]
  },
  {
   "cell_type": "markdown",
   "id": "26b46b32-3ccd-4e8a-8db4-bb6dadfd5a8f",
   "metadata": {
    "jp-MarkdownHeadingCollapsed": true,
    "tags": []
   },
   "source": [
    "#### 배열의 결합 : stack<br>\n",
    "* stack : FILO (first in last out), 선착순의 반대<br>\n",
    "* hstack / vstack / dstack / concatenate"
   ]
  },
  {
   "cell_type": "code",
   "execution_count": 155,
   "id": "60123b62-1d47-461a-aeb1-3648de706f41",
   "metadata": {},
   "outputs": [
    {
     "name": "stdout",
     "output_type": "stream",
     "text": [
      "[ 0 10 20 30 40 50 60 70 80 90]\n",
      "[  0  20  40  60  80 100 120 140 160 180]\n"
     ]
    }
   ],
   "source": [
    "#[0, 10, 20, 30, 40, 50, 60, 70, 80, 90] 출력\n",
    "a = np.arange(10)*10\n",
    "b = np.arange(10)*20\n",
    "print(a)\n",
    "print(b)"
   ]
  },
  {
   "cell_type": "code",
   "execution_count": 156,
   "id": "4ad6b473-db64-4bb5-8495-b1e7b90a9676",
   "metadata": {},
   "outputs": [
    {
     "data": {
      "text/plain": [
       "array([[  0,  10,  20,  30,  40,  50,  60,  70,  80,  90],\n",
       "       [  0,  20,  40,  60,  80, 100, 120, 140, 160, 180]])"
      ]
     },
     "execution_count": 156,
     "metadata": {},
     "output_type": "execute_result"
    }
   ],
   "source": [
    "np.vstack((a, b))    #2행 10열"
   ]
  },
  {
   "cell_type": "code",
   "execution_count": 158,
   "id": "49301b77-2fd8-4420-99c1-6e8b765b3d56",
   "metadata": {},
   "outputs": [
    {
     "data": {
      "text/plain": [
       "(20,)"
      ]
     },
     "execution_count": 158,
     "metadata": {},
     "output_type": "execute_result"
    }
   ],
   "source": [
    "np.hstack((a, b))    #1행 20열\n",
    "np.hstack((a, b)).shape"
   ]
  },
  {
   "cell_type": "code",
   "execution_count": 159,
   "id": "0c3f946a-a5af-406e-b591-d3bf01e1655d",
   "metadata": {},
   "outputs": [
    {
     "name": "stdout",
     "output_type": "stream",
     "text": [
      "(3, 1)\n"
     ]
    },
    {
     "data": {
      "text/plain": [
       "array([[1],\n",
       "       [2],\n",
       "       [3]])"
      ]
     },
     "execution_count": 159,
     "metadata": {},
     "output_type": "execute_result"
    }
   ],
   "source": [
    "a = np.array([[1], [2], [3]])\n",
    "print(a.shape)\n",
    "a"
   ]
  },
  {
   "cell_type": "code",
   "execution_count": 179,
   "id": "2eb74fba-f2f0-4d96-b403-957b72c75d64",
   "metadata": {},
   "outputs": [
    {
     "data": {
      "text/plain": [
       "array([[1],\n",
       "       [2],\n",
       "       [3]])"
      ]
     },
     "execution_count": 179,
     "metadata": {},
     "output_type": "execute_result"
    }
   ],
   "source": [
    "b = np.array([[1], [2], [3]])\n",
    "b"
   ]
  },
  {
   "cell_type": "code",
   "execution_count": 184,
   "id": "7887ddd7-b396-41a3-b13e-e4864c53421d",
   "metadata": {},
   "outputs": [
    {
     "data": {
      "text/plain": [
       "array([[1, 1],\n",
       "       [2, 2],\n",
       "       [3, 3]])"
      ]
     },
     "execution_count": 184,
     "metadata": {},
     "output_type": "execute_result"
    }
   ],
   "source": [
    "np.hstack((a, b))   #[]가 2개 -> 2차원"
   ]
  },
  {
   "cell_type": "code",
   "execution_count": 185,
   "id": "c99e3243-f9bb-4f3e-bbe7-ad3fd67e26f5",
   "metadata": {},
   "outputs": [
    {
     "data": {
      "text/plain": [
       "array([[[1, 1]],\n",
       "\n",
       "       [[2, 2]],\n",
       "\n",
       "       [[3, 3]]])"
      ]
     },
     "execution_count": 185,
     "metadata": {},
     "output_type": "execute_result"
    }
   ],
   "source": [
    "np.dstack((a, b))   #[]가 3개 -> 3차원"
   ]
  },
  {
   "cell_type": "markdown",
   "id": "173901ed-b0ca-4d1e-ab19-6efd3d1e77cb",
   "metadata": {
    "jp-MarkdownHeadingCollapsed": true,
    "tags": []
   },
   "source": [
    "#### 배열의 분리 : spliting<br>\n",
    "* 분리한 결과물이 어떻게 나오는지에 따라 -> 수평분리(hsplit) 와 수직분리(vsplit)"
   ]
  },
  {
   "cell_type": "code",
   "execution_count": 187,
   "id": "f6aace60-4ba4-41b0-8424-6ad3333de19f",
   "metadata": {},
   "outputs": [
    {
     "data": {
      "text/plain": [
       "array([[ 0,  1,  2,  3,  4,  5,  6,  7],\n",
       "       [ 8,  9, 10, 11, 12, 13, 14, 15],\n",
       "       [16, 17, 18, 19, 20, 21, 22, 23],\n",
       "       [24, 25, 26, 27, 28, 29, 30, 31]])"
      ]
     },
     "execution_count": 187,
     "metadata": {},
     "output_type": "execute_result"
    }
   ],
   "source": [
    "a = np.arange(32).reshape(4,8)\n",
    "a"
   ]
  },
  {
   "cell_type": "code",
   "execution_count": 188,
   "id": "60d987fa-f5ab-48f6-97e1-53611b9ae54f",
   "metadata": {},
   "outputs": [
    {
     "data": {
      "text/plain": [
       "[array([[ 0,  1,  2,  3],\n",
       "        [ 8,  9, 10, 11],\n",
       "        [16, 17, 18, 19],\n",
       "        [24, 25, 26, 27]]),\n",
       " array([[ 4,  5,  6,  7],\n",
       "        [12, 13, 14, 15],\n",
       "        [20, 21, 22, 23],\n",
       "        [28, 29, 30, 31]])]"
      ]
     },
     "execution_count": 188,
     "metadata": {},
     "output_type": "execute_result"
    }
   ],
   "source": [
    "np.hsplit(a, 2)"
   ]
  },
  {
   "cell_type": "code",
   "execution_count": 190,
   "id": "3c4e23ca-4a0b-44b8-a6e0-66c7e6bcbdf5",
   "metadata": {},
   "outputs": [
    {
     "data": {
      "text/plain": [
       "[array([[ 0,  1],\n",
       "        [ 8,  9],\n",
       "        [16, 17],\n",
       "        [24, 25]]),\n",
       " array([[ 2,  3],\n",
       "        [10, 11],\n",
       "        [18, 19],\n",
       "        [26, 27]]),\n",
       " array([[ 4,  5],\n",
       "        [12, 13],\n",
       "        [20, 21],\n",
       "        [28, 29]]),\n",
       " array([[ 6,  7],\n",
       "        [14, 15],\n",
       "        [22, 23],\n",
       "        [30, 31]])]"
      ]
     },
     "execution_count": 190,
     "metadata": {},
     "output_type": "execute_result"
    }
   ],
   "source": [
    "np.hsplit(a, 4)"
   ]
  },
  {
   "cell_type": "code",
   "execution_count": 189,
   "id": "6f3a3dc1-6678-40e6-9f17-c1f8e3dd6509",
   "metadata": {},
   "outputs": [
    {
     "data": {
      "text/plain": [
       "[array([[ 0,  1,  2,  3,  4,  5,  6,  7],\n",
       "        [ 8,  9, 10, 11, 12, 13, 14, 15]]),\n",
       " array([[16, 17, 18, 19, 20, 21, 22, 23],\n",
       "        [24, 25, 26, 27, 28, 29, 30, 31]])]"
      ]
     },
     "execution_count": 189,
     "metadata": {},
     "output_type": "execute_result"
    }
   ],
   "source": [
    "np.vsplit(a, 2)"
   ]
  },
  {
   "cell_type": "markdown",
   "id": "461f85e7-262f-46e1-a986-3e59d949cc98",
   "metadata": {
    "jp-MarkdownHeadingCollapsed": true,
    "tags": []
   },
   "source": [
    "#### Numpy의 shape 변경 함수<br>\n",
    "* reshape / flatten / transpose<br>\n",
    "transpose : 행과 열의 위치를 바꾼다"
   ]
  },
  {
   "cell_type": "code",
   "execution_count": 161,
   "id": "4640604b-0102-4a60-b8b9-a4cb664b42c2",
   "metadata": {},
   "outputs": [
    {
     "data": {
      "text/plain": [
       "array([[ 0,  1,  2,  3,  4,  5,  6,  7],\n",
       "       [ 8,  9, 10, 11, 12, 13, 14, 15],\n",
       "       [16, 17, 18, 19, 20, 21, 22, 23],\n",
       "       [24, 25, 26, 27, 28, 29, 30, 31]])"
      ]
     },
     "execution_count": 161,
     "metadata": {},
     "output_type": "execute_result"
    }
   ],
   "source": [
    "a = np.arange(32).reshape(4,8)\n",
    "a"
   ]
  },
  {
   "cell_type": "code",
   "execution_count": 162,
   "id": "d03b17db-18ac-45ca-947a-9d1a7bab118c",
   "metadata": {},
   "outputs": [
    {
     "name": "stdout",
     "output_type": "stream",
     "text": [
      "(4, 8)\n",
      "32\n"
     ]
    }
   ],
   "source": [
    "print(a.shape)    #shape의 아웃풋은 튜플 형태\n",
    "print(a.size)"
   ]
  },
  {
   "cell_type": "code",
   "execution_count": 163,
   "id": "c55b59cf-3bc1-46da-aed2-3602c1cd55bf",
   "metadata": {},
   "outputs": [
    {
     "data": {
      "text/plain": [
       "array([ 0,  1,  2,  3,  4,  5,  6,  7,  8,  9, 10, 11, 12, 13, 14, 15, 16,\n",
       "       17, 18, 19, 20, 21, 22, 23, 24, 25, 26, 27, 28, 29, 30, 31])"
      ]
     },
     "execution_count": 163,
     "metadata": {},
     "output_type": "execute_result"
    }
   ],
   "source": [
    "a.flatten()     #flatten은 복사해서 출력해 주는 것\n",
    "#a.flatten().shape    "
   ]
  },
  {
   "cell_type": "code",
   "execution_count": 164,
   "id": "44de2aeb-80b6-42b3-8ae8-a9ab659a481b",
   "metadata": {},
   "outputs": [
    {
     "data": {
      "text/plain": [
       "array([ 0,  1,  2,  3,  4,  5,  6,  7,  8,  9, 10, 11, 12, 13, 14, 15, 16,\n",
       "       17, 18, 19, 20, 21, 22, 23, 24, 25, 26, 27, 28, 29, 30, 31])"
      ]
     },
     "execution_count": 164,
     "metadata": {},
     "output_type": "execute_result"
    }
   ],
   "source": [
    "a.ravel()"
   ]
  },
  {
   "cell_type": "code",
   "execution_count": 203,
   "id": "007b4df4-a5b9-4877-abe1-b151bb458178",
   "metadata": {},
   "outputs": [
    {
     "data": {
      "text/plain": [
       "array([[1, 2],\n",
       "       [3, 4],\n",
       "       [5, 6]])"
      ]
     },
     "execution_count": 203,
     "metadata": {},
     "output_type": "execute_result"
    }
   ],
   "source": [
    "a = np.arange(1, 7).reshape(3, 2)\n",
    "a"
   ]
  },
  {
   "cell_type": "code",
   "execution_count": 204,
   "id": "baf11cb7-6a99-47c5-b89e-5157387e2f91",
   "metadata": {},
   "outputs": [
    {
     "data": {
      "text/plain": [
       "array([[1, 3, 5],\n",
       "       [2, 4, 6]])"
      ]
     },
     "execution_count": 204,
     "metadata": {},
     "output_type": "execute_result"
    }
   ],
   "source": [
    "np.transpose(a)"
   ]
  },
  {
   "cell_type": "code",
   "execution_count": 205,
   "id": "b88d8ed0-1e8f-47e6-8aaf-cfd1d32f6cfd",
   "metadata": {},
   "outputs": [
    {
     "data": {
      "text/plain": [
       "array([[1, 2, 3],\n",
       "       [4, 5, 6]])"
      ]
     },
     "execution_count": 205,
     "metadata": {},
     "output_type": "execute_result"
    }
   ],
   "source": [
    "a = np.array([1,2,3])\n",
    "b = np.array([4,5,6])\n",
    "c = np.vstack((a, b))\n",
    "c"
   ]
  },
  {
   "cell_type": "code",
   "execution_count": 208,
   "id": "5f78195d-eae7-4b36-9f1c-def3aea4ccb3",
   "metadata": {},
   "outputs": [
    {
     "data": {
      "text/plain": [
       "[array([[1, 2, 3]]), array([[4, 5, 6]])]"
      ]
     },
     "execution_count": 208,
     "metadata": {},
     "output_type": "execute_result"
    }
   ],
   "source": [
    "np.vsplit(c, 2)"
   ]
  },
  {
   "cell_type": "markdown",
   "id": "d59f2990-b8b3-4354-ad2c-5db3e5257bcc",
   "metadata": {
    "jp-MarkdownHeadingCollapsed": true,
    "tags": []
   },
   "source": [
    "#### 비교 comparison, 정렬 sort, 인덱싱 indexing"
   ]
  },
  {
   "cell_type": "code",
   "execution_count": 49,
   "id": "407912cb-e1dc-415c-bb2a-7a0f1f141d8f",
   "metadata": {},
   "outputs": [
    {
     "data": {
      "text/plain": [
       "array([ True, False, False, False])"
      ]
     },
     "execution_count": 49,
     "metadata": {},
     "output_type": "execute_result"
    }
   ],
   "source": [
    "#비교\n",
    "a = np.array([1,2,3,4])\n",
    "b = np.array([1,3,4,2])\n",
    "a == b"
   ]
  },
  {
   "cell_type": "code",
   "execution_count": 50,
   "id": "5c524eae-57b1-439f-b657-a07be964eb34",
   "metadata": {},
   "outputs": [
    {
     "data": {
      "text/plain": [
       "array([False, False,  True,  True])"
      ]
     },
     "execution_count": 50,
     "metadata": {},
     "output_type": "execute_result"
    }
   ],
   "source": [
    "a > 2"
   ]
  },
  {
   "cell_type": "code",
   "execution_count": 51,
   "id": "db06a6c7-f56a-4510-9fbb-8289dde5253b",
   "metadata": {},
   "outputs": [
    {
     "data": {
      "text/plain": [
       "array([3, 4])"
      ]
     },
     "execution_count": 51,
     "metadata": {},
     "output_type": "execute_result"
    }
   ],
   "source": [
    "a[a>2]"
   ]
  },
  {
   "cell_type": "code",
   "execution_count": 54,
   "id": "433c90fe-5488-45b1-97c7-d3d40bfd0c7f",
   "metadata": {},
   "outputs": [
    {
     "data": {
      "text/plain": [
       "array([1, 3, 4, 2])"
      ]
     },
     "execution_count": 54,
     "metadata": {},
     "output_type": "execute_result"
    }
   ],
   "source": [
    "#정렬 sort\n",
    "a = np.array([1,3,4,2])\n",
    "a"
   ]
  },
  {
   "cell_type": "code",
   "execution_count": 55,
   "id": "50362f88-f0f5-40cc-ab04-7a9793c600ad",
   "metadata": {},
   "outputs": [
    {
     "data": {
      "text/plain": [
       "array([1, 2, 3, 4])"
      ]
     },
     "execution_count": 55,
     "metadata": {},
     "output_type": "execute_result"
    }
   ],
   "source": [
    "np.sort(a)"
   ]
  },
  {
   "cell_type": "code",
   "execution_count": 56,
   "id": "2f5793c5-c01d-4dd8-af2d-ece25cfd2a39",
   "metadata": {},
   "outputs": [
    {
     "data": {
      "text/plain": [
       "array([1, 3, 4, 2])"
      ]
     },
     "execution_count": 56,
     "metadata": {},
     "output_type": "execute_result"
    }
   ],
   "source": [
    "a"
   ]
  },
  {
   "cell_type": "code",
   "execution_count": 59,
   "id": "4f6bf514-0098-4ab2-866e-c62d124f57d6",
   "metadata": {},
   "outputs": [],
   "source": [
    "a.sort()   #.sort() 는 메소드"
   ]
  },
  {
   "cell_type": "code",
   "execution_count": 60,
   "id": "1b162229-f7a0-42d7-9b93-d18b61498cd9",
   "metadata": {},
   "outputs": [
    {
     "data": {
      "text/plain": [
       "array([1, 2, 3, 4])"
      ]
     },
     "execution_count": 60,
     "metadata": {},
     "output_type": "execute_result"
    }
   ],
   "source": [
    "a"
   ]
  },
  {
   "cell_type": "code",
   "execution_count": 63,
   "id": "a0300334-3a3a-4442-a2e0-37c530765bf4",
   "metadata": {},
   "outputs": [
    {
     "data": {
      "text/plain": [
       "array([4, 3, 2, 1])"
      ]
     },
     "execution_count": 63,
     "metadata": {},
     "output_type": "execute_result"
    }
   ],
   "source": [
    "a[ : :-1]    #역순으로 정렬"
   ]
  },
  {
   "cell_type": "code",
   "execution_count": 64,
   "id": "a7caf4c1-915c-4cad-bfbd-eb2d6d33ddbb",
   "metadata": {},
   "outputs": [
    {
     "data": {
      "text/plain": [
       "array([1, 2, 3, 4])"
      ]
     },
     "execution_count": 64,
     "metadata": {},
     "output_type": "execute_result"
    }
   ],
   "source": [
    "a"
   ]
  },
  {
   "cell_type": "code",
   "execution_count": 165,
   "id": "35b653c3-1798-4cf7-b98c-b1701556e911",
   "metadata": {},
   "outputs": [
    {
     "data": {
      "text/plain": [
       "array([[2, 1, 6],\n",
       "       [0, 7, 4],\n",
       "       [5, 3, 2]])"
      ]
     },
     "execution_count": 165,
     "metadata": {},
     "output_type": "execute_result"
    }
   ],
   "source": [
    "#축을 지정하여 정렬\n",
    "x = np.array([[2,1,6], [0,7,4], [5,3,2]])\n",
    "x"
   ]
  },
  {
   "cell_type": "code",
   "execution_count": 166,
   "id": "43235c82-6e2e-45ec-a2b3-55bae5b75806",
   "metadata": {},
   "outputs": [
    {
     "data": {
      "text/plain": [
       "array([[1, 2, 6],\n",
       "       [0, 4, 7],\n",
       "       [2, 3, 5]])"
      ]
     },
     "execution_count": 166,
     "metadata": {},
     "output_type": "execute_result"
    }
   ],
   "source": [
    "np.sort(x)"
   ]
  },
  {
   "cell_type": "code",
   "execution_count": 167,
   "id": "0de82706-64e7-4c2b-8df7-815bd10fb08e",
   "metadata": {},
   "outputs": [
    {
     "name": "stdout",
     "output_type": "stream",
     "text": [
      "[[2 1 6]\n",
      " [0 7 4]\n",
      " [5 3 2]]\n"
     ]
    },
    {
     "data": {
      "text/plain": [
       "array([[0, 1, 2],\n",
       "       [2, 3, 4],\n",
       "       [5, 7, 6]])"
      ]
     },
     "execution_count": 167,
     "metadata": {},
     "output_type": "execute_result"
    }
   ],
   "source": [
    "print(x)\n",
    "np.sort(x, axis = 0)    #'axis = 0' : 행은 신경쓰지 않고 '열'을 기준으로만 정렬 (row - wise)"
   ]
  },
  {
   "cell_type": "code",
   "execution_count": 71,
   "id": "259c5e4b-f020-44cc-8272-7667904ed0cd",
   "metadata": {},
   "outputs": [
    {
     "name": "stdout",
     "output_type": "stream",
     "text": [
      "[[2 1 6]\n",
      " [0 7 4]\n",
      " [5 3 2]]\n"
     ]
    },
    {
     "data": {
      "text/plain": [
       "array([[1, 2, 6],\n",
       "       [0, 4, 7],\n",
       "       [2, 3, 5]])"
      ]
     },
     "execution_count": 71,
     "metadata": {},
     "output_type": "execute_result"
    }
   ],
   "source": [
    "print(x)\n",
    "np.sort(x, axis = 1)    #'axis = 1' : '행'을 기준으로만 정렬 (coloum - wise)"
   ]
  },
  {
   "cell_type": "code",
   "execution_count": 94,
   "id": "9dd66afe-bad7-49b5-a36c-5f9787eea653",
   "metadata": {},
   "outputs": [
    {
     "data": {
      "text/plain": [
       "array([[ 0,  1,  2,  3,  4,  5],\n",
       "       [10, 11, 12, 13, 14, 15],\n",
       "       [20, 21, 22, 23, 24, 25],\n",
       "       [30, 31, 32, 33, 34, 35],\n",
       "       [40, 41, 42, 43, 44, 45],\n",
       "       [50, 51, 52, 53, 54, 55]])"
      ]
     },
     "execution_count": 94,
     "metadata": {},
     "output_type": "execute_result"
    }
   ],
   "source": [
    "#인덱싱 indexing : array[행의 인덱스 번호, 열의 인덱스 번호]\n",
    "a = np.arange(6)\n",
    "b = np.arange(6) + 10\n",
    "c = np.arange(6) + 20\n",
    "d = np.arange(6) + 30\n",
    "e = np.arange(6) + 40\n",
    "f = np.arange(6) + 50\n",
    "\n",
    "np.vstack((a,b,c,d,e,f))"
   ]
  },
  {
   "cell_type": "code",
   "execution_count": 80,
   "id": "d38da7ec-8cd9-459e-9d99-88692ac13f1e",
   "metadata": {},
   "outputs": [
    {
     "data": {
      "text/plain": [
       "array([[ 0,  1,  2,  3,  4,  5],\n",
       "       [10, 11, 12, 13, 14, 15],\n",
       "       [20, 21, 22, 23, 24, 25],\n",
       "       [30, 31, 32, 33, 34, 35],\n",
       "       [40, 41, 42, 43, 44, 45],\n",
       "       [50, 51, 52, 53, 54, 55]])"
      ]
     },
     "execution_count": 80,
     "metadata": {},
     "output_type": "execute_result"
    }
   ],
   "source": [
    "a = np.array([0,1,2,3,4,5])\n",
    "b = np.array([[0],[10],[20],[30],[40],[50]])\n",
    "a+b"
   ]
  },
  {
   "cell_type": "code",
   "execution_count": 81,
   "id": "8151e1e3-9148-4ca3-9359-fb991c230e93",
   "metadata": {},
   "outputs": [
    {
     "data": {
      "text/plain": [
       "array([[ 0,  1,  2,  3,  4,  5],\n",
       "       [10, 11, 12, 13, 14, 15],\n",
       "       [20, 21, 22, 23, 24, 25],\n",
       "       [30, 31, 32, 33, 34, 35],\n",
       "       [40, 41, 42, 43, 44, 45],\n",
       "       [50, 51, 52, 53, 54, 55]])"
      ]
     },
     "execution_count": 81,
     "metadata": {},
     "output_type": "execute_result"
    }
   ],
   "source": [
    "a = np.arange(6)\n",
    "array = a.copy()\n",
    "for i in range(5):\n",
    "    i+=1\n",
    "    array = np.vstack((array, a+10*i))\n",
    "array"
   ]
  },
  {
   "cell_type": "code",
   "execution_count": 168,
   "id": "deb9f100-858b-4d51-a38a-f082dd5f6a7e",
   "metadata": {},
   "outputs": [
    {
     "data": {
      "text/plain": [
       "array([[ 0,  1,  2,  3,  4,  5],\n",
       "       [10, 11, 12, 13, 14, 15],\n",
       "       [20, 21, 22, 23, 24, 25],\n",
       "       [30, 31, 32, 33, 34, 35],\n",
       "       [40, 41, 42, 43, 44, 45],\n",
       "       [50, 51, 52, 53, 54, 55]])"
      ]
     },
     "execution_count": 168,
     "metadata": {},
     "output_type": "execute_result"
    }
   ],
   "source": [
    "a = np.arange(100).reshape(10,10)\n",
    "a = a[0:6:1,0:6:1]\n",
    "a"
   ]
  },
  {
   "cell_type": "code",
   "execution_count": 169,
   "id": "da74d47f-0b52-4280-8723-c07183bbdb25",
   "metadata": {},
   "outputs": [
    {
     "data": {
      "text/plain": [
       "array([ 2, 12, 22, 32, 42, 52])"
      ]
     },
     "execution_count": 169,
     "metadata": {},
     "output_type": "execute_result"
    }
   ],
   "source": [
    "#슬라이싱 slicing : var[lower:uppper:step]\n",
    "#[2, 12, 22, 32, 42, 52]\n",
    "a[ : , 2]"
   ]
  },
  {
   "cell_type": "code",
   "execution_count": 175,
   "id": "45887c58-b172-464f-a9a1-ab6730d01b4b",
   "metadata": {},
   "outputs": [
    {
     "data": {
      "text/plain": [
       "array([3, 4])"
      ]
     },
     "execution_count": 175,
     "metadata": {},
     "output_type": "execute_result"
    }
   ],
   "source": [
    "#[3, 4]\n",
    "a[-6, 3:5]"
   ]
  },
  {
   "cell_type": "code",
   "execution_count": 174,
   "id": "d76a93a9-5d72-4013-a0ae-f38c6ae6a918",
   "metadata": {},
   "outputs": [
    {
     "data": {
      "text/plain": [
       "array([[44, 45],\n",
       "       [54, 55]])"
      ]
     },
     "execution_count": 174,
     "metadata": {},
     "output_type": "execute_result"
    }
   ],
   "source": [
    "#[[44, 45], [54, 55]]\n",
    "a[4: , 4: ]"
   ]
  },
  {
   "cell_type": "code",
   "execution_count": 176,
   "id": "2b547420-8e8e-43cf-ac2e-e75947a8099a",
   "metadata": {},
   "outputs": [
    {
     "data": {
      "text/plain": [
       "array([[20, 22, 24],\n",
       "       [40, 42, 44]])"
      ]
     },
     "execution_count": 176,
     "metadata": {},
     "output_type": "execute_result"
    }
   ],
   "source": [
    "#[[20, 22, 24],  [40, 42, 44]]\n",
    "a[2:5:2, :5:2]"
   ]
  },
  {
   "cell_type": "code",
   "execution_count": 177,
   "id": "223acdf3-2f81-4e77-8944-2f670a397d70",
   "metadata": {},
   "outputs": [
    {
     "data": {
      "text/plain": [
       "array([ 0, 10, 20, 30, 40, 50, 60, 70])"
      ]
     },
     "execution_count": 177,
     "metadata": {},
     "output_type": "execute_result"
    }
   ],
   "source": [
    "#Fancy indexing\n",
    "a = np.arange(8)*10\n",
    "a"
   ]
  },
  {
   "cell_type": "code",
   "execution_count": 178,
   "id": "3c1ad4c5-b9a6-4085-ac1b-5d0e3c8d5a43",
   "metadata": {},
   "outputs": [
    {
     "data": {
      "text/plain": [
       "array([10, 20, 50])"
      ]
     },
     "execution_count": 178,
     "metadata": {},
     "output_type": "execute_result"
    }
   ],
   "source": [
    "a[[1, 2, -3]]"
   ]
  },
  {
   "cell_type": "code",
   "execution_count": 180,
   "id": "4e696e3a-b96a-4b57-9f0c-eef1009fed20",
   "metadata": {},
   "outputs": [
    {
     "data": {
      "text/plain": [
       "array([10, 20, 50])"
      ]
     },
     "execution_count": 180,
     "metadata": {},
     "output_type": "execute_result"
    }
   ],
   "source": [
    "indices = [1, 2, -3]\n",
    "a[indices]"
   ]
  },
  {
   "cell_type": "code",
   "execution_count": 105,
   "id": "40069cbe-1ce4-44cd-98d7-5e1937a50443",
   "metadata": {},
   "outputs": [
    {
     "data": {
      "text/plain": [
       "array([10, 20, 50])"
      ]
     },
     "execution_count": 105,
     "metadata": {},
     "output_type": "execute_result"
    }
   ],
   "source": [
    "mask = [False, True, True, False, False, True, False, False]\n",
    "a[mask]"
   ]
  },
  {
   "cell_type": "code",
   "execution_count": 107,
   "id": "3183a9ef-7849-4292-81a0-b69eab1f14ee",
   "metadata": {},
   "outputs": [
    {
     "data": {
      "text/plain": [
       "array([False,  True,  True, False, False,  True, False, False])"
      ]
     },
     "execution_count": 107,
     "metadata": {},
     "output_type": "execute_result"
    }
   ],
   "source": [
    "mask = np.array([0, 1, 1, 0, 0, 1, 0, 0], dtype = bool)\n",
    "mask"
   ]
  },
  {
   "cell_type": "code",
   "execution_count": 108,
   "id": "7e217811-77c4-47eb-b34c-cf7619d7d6bf",
   "metadata": {},
   "outputs": [
    {
     "data": {
      "text/plain": [
       "array([10, 20, 50])"
      ]
     },
     "execution_count": 108,
     "metadata": {},
     "output_type": "execute_result"
    }
   ],
   "source": [
    "a[mask]"
   ]
  },
  {
   "cell_type": "code",
   "execution_count": 112,
   "id": "b49828ab-4847-4416-8d73-7ed3e72936d0",
   "metadata": {},
   "outputs": [
    {
     "data": {
      "text/plain": [
       "array([[ 0,  1,  2,  3,  4,  5],\n",
       "       [10, 11, 12, 13, 14, 15],\n",
       "       [20, 21, 22, 23, 24, 25],\n",
       "       [30, 31, 32, 33, 34, 35],\n",
       "       [40, 41, 42, 43, 44, 45],\n",
       "       [50, 51, 52, 53, 54, 55]])"
      ]
     },
     "execution_count": 112,
     "metadata": {},
     "output_type": "execute_result"
    }
   ],
   "source": [
    "#2차원 팬시 인덱싱\n",
    "a = np.arange(100).reshape(10,10)\n",
    "a = a[0:6:1,0:6:1]\n",
    "a"
   ]
  },
  {
   "cell_type": "code",
   "execution_count": 113,
   "id": "fc383f45-5bfc-4d80-9ff9-d83318660693",
   "metadata": {},
   "outputs": [
    {
     "data": {
      "text/plain": [
       "[1, 12, 20, 23]"
      ]
     },
     "execution_count": 113,
     "metadata": {},
     "output_type": "execute_result"
    }
   ],
   "source": [
    "[a[0, 1], a[1, 2], a[2, 0], a[2, 3]]"
   ]
  },
  {
   "cell_type": "code",
   "execution_count": 114,
   "id": "af1c7531-ec37-4a78-9ef9-013e765e2f1f",
   "metadata": {},
   "outputs": [
    {
     "data": {
      "text/plain": [
       "array([ 1, 12, 20, 23])"
      ]
     },
     "execution_count": 114,
     "metadata": {},
     "output_type": "execute_result"
    }
   ],
   "source": [
    "a[[0,1,2,2], [1,2,0,3]]"
   ]
  },
  {
   "cell_type": "code",
   "execution_count": 115,
   "id": "8e8dde1f-e2ff-44f3-aca3-ecd6af92b942",
   "metadata": {},
   "outputs": [
    {
     "data": {
      "text/plain": [
       "array([ 1,  7, 13, 19])"
      ]
     },
     "execution_count": 115,
     "metadata": {},
     "output_type": "execute_result"
    }
   ],
   "source": [
    "a = np.arange(25).reshape(5,5)\n",
    "a[[0,1,2,3], [1,2,3,4]]"
   ]
  },
  {
   "cell_type": "markdown",
   "id": "f616ed10-a832-4dd8-ac8e-26db96e6d378",
   "metadata": {
    "tags": []
   },
   "source": [
    "#### 수학함수"
   ]
  },
  {
   "cell_type": "code",
   "execution_count": 122,
   "id": "e9f0a192-0d13-481b-84dc-bc1cb77a7d6c",
   "metadata": {},
   "outputs": [
    {
     "data": {
      "text/plain": [
       "array([[1, 2, 3],\n",
       "       [4, 5, 6]])"
      ]
     },
     "execution_count": 122,
     "metadata": {},
     "output_type": "execute_result"
    }
   ],
   "source": [
    "#sum()\n",
    "a = np.array([[1,2,3], [4,5,6]])\n",
    "a"
   ]
  },
  {
   "cell_type": "code",
   "execution_count": 123,
   "id": "9fa8e640-ddb2-45a2-8257-42521bdfceb2",
   "metadata": {},
   "outputs": [
    {
     "data": {
      "text/plain": [
       "array([5, 7, 9])"
      ]
     },
     "execution_count": 123,
     "metadata": {},
     "output_type": "execute_result"
    }
   ],
   "source": [
    "sum(a)"
   ]
  },
  {
   "cell_type": "code",
   "execution_count": 124,
   "id": "43e5689c-f2da-4ab5-a599-94db97b08532",
   "metadata": {},
   "outputs": [
    {
     "name": "stdout",
     "output_type": "stream",
     "text": [
      "21\n",
      "[5 7 9]\n",
      "[ 6 15]\n"
     ]
    }
   ],
   "source": [
    "print(np.sum(a))\n",
    "print(np.sum(a, axis = 0))\n",
    "print(np.sum(a, axis = 1))"
   ]
  },
  {
   "cell_type": "code",
   "execution_count": 125,
   "id": "1df5316d-8367-497b-bac3-6304f30436d6",
   "metadata": {},
   "outputs": [
    {
     "name": "stdout",
     "output_type": "stream",
     "text": [
      "[5 7 9]\n",
      "[  1  32 729]\n"
     ]
    }
   ],
   "source": [
    "a = np.array([1,2,3])\n",
    "b = np.array([4,5,6])\n",
    "print(a+b)\n",
    "print(a**b)"
   ]
  },
  {
   "cell_type": "code",
   "execution_count": 128,
   "id": "d2d7af66-ba1e-442e-bd2d-aed5b1962e0d",
   "metadata": {},
   "outputs": [
    {
     "data": {
      "text/plain": [
       "array([0.84147098, 0.90929743, 0.14112001])"
      ]
     },
     "execution_count": 128,
     "metadata": {},
     "output_type": "execute_result"
    }
   ],
   "source": [
    "np.sin(a)   #각각의 요소에 함수 적용"
   ]
  },
  {
   "cell_type": "code",
   "execution_count": 127,
   "id": "7d7203ed-c5a6-4b96-bf05-4bcab2394722",
   "metadata": {},
   "outputs": [
    {
     "data": {
      "text/plain": [
       "3"
      ]
     },
     "execution_count": 127,
     "metadata": {},
     "output_type": "execute_result"
    }
   ],
   "source": [
    "np.max(a)"
   ]
  },
  {
   "cell_type": "code",
   "execution_count": 181,
   "id": "af28dacf-2255-47cd-9830-f9814c7f7eb1",
   "metadata": {},
   "outputs": [
    {
     "name": "stdout",
     "output_type": "stream",
     "text": [
      "[[1 2 3]\n",
      " [4 5 6]]\n",
      "0\n",
      "5\n"
     ]
    }
   ],
   "source": [
    "a = np.array([[1,2,3], [4,5,6]])\n",
    "print(a)\n",
    "print(np.argmin(a))\n",
    "print(np.argmax(a))"
   ]
  },
  {
   "cell_type": "code",
   "execution_count": 129,
   "id": "dbe2c859-84ca-40b0-ab01-cdf8d4303055",
   "metadata": {},
   "outputs": [],
   "source": [
    "#min(), max()\n",
    "#argmin(), argmax() -> 최소값과 최대값일 때의 x값의 인덱스를 출력해줌"
   ]
  },
  {
   "cell_type": "markdown",
   "id": "71ddbeb1-6a56-49d8-b54b-b5f45df62fec",
   "metadata": {
    "tags": []
   },
   "source": [
    "#### np.where()<br>\n",
    "ifelse의 쓰임과 동일, 각 요소에 해당 조건에 대한 참, 거짓 여부 판단, 참인 요소의 인덱스 값을 출력한다<br>\n",
    "새로운 칼럼을 만들 때 많이 사용한다"
   ]
  },
  {
   "cell_type": "code",
   "execution_count": 182,
   "id": "398d3230-bba0-4f49-a827-a50eceb573a8",
   "metadata": {},
   "outputs": [
    {
     "data": {
      "text/plain": [
       "array([ 6,  7,  8,  9, 10])"
      ]
     },
     "execution_count": 182,
     "metadata": {},
     "output_type": "execute_result"
    }
   ],
   "source": [
    "a = np.array([6,7,8,9,10])\n",
    "a"
   ]
  },
  {
   "cell_type": "code",
   "execution_count": 183,
   "id": "96c7821b-a290-4d5f-8742-4a1a5afb9f56",
   "metadata": {},
   "outputs": [
    {
     "data": {
      "text/plain": [
       "array([False, False,  True,  True,  True])"
      ]
     },
     "execution_count": 183,
     "metadata": {},
     "output_type": "execute_result"
    }
   ],
   "source": [
    "a > 7"
   ]
  },
  {
   "cell_type": "code",
   "execution_count": 184,
   "id": "90779c30-b6f0-4e85-8370-ef814d0622d8",
   "metadata": {},
   "outputs": [
    {
     "data": {
      "text/plain": [
       "(array([2, 3, 4], dtype=int64),)"
      ]
     },
     "execution_count": 184,
     "metadata": {},
     "output_type": "execute_result"
    }
   ],
   "source": [
    "np.where(a>7)    #'a>7'의 조건에 참인 값의 인덱스를 출력"
   ]
  },
  {
   "cell_type": "code",
   "execution_count": 134,
   "id": "ec69dc77-ff92-4860-a424-af7cfca1312a",
   "metadata": {},
   "outputs": [
    {
     "data": {
      "text/plain": [
       "array([ 8,  9, 10])"
      ]
     },
     "execution_count": 134,
     "metadata": {},
     "output_type": "execute_result"
    }
   ],
   "source": [
    "a[np.where(a>7)]    #인덱스 번호로 검색"
   ]
  },
  {
   "cell_type": "code",
   "execution_count": 136,
   "id": "d5b9826c-1f3b-463e-911e-5c58cff9cc57",
   "metadata": {},
   "outputs": [
    {
     "data": {
      "text/plain": [
       "array(['fail', 'fail', 'pass', 'pass', 'pass'], dtype='<U4')"
      ]
     },
     "execution_count": 136,
     "metadata": {},
     "output_type": "execute_result"
    }
   ],
   "source": [
    "np.where(a>7, \"pass\", \"fail\")"
   ]
  },
  {
   "cell_type": "code",
   "execution_count": 139,
   "id": "c115fe0e-a92f-41e0-a449-aeeae9121ca7",
   "metadata": {},
   "outputs": [
    {
     "data": {
      "text/plain": [
       "array([[225, 196, 169, 144, 121, 100],\n",
       "       [ 81,  64,  49,  36,  25,  16],\n",
       "       [  9,   4,   1,   0,   1,   4],\n",
       "       [  9,  16,  25,  36,  49,  64],\n",
       "       [ 81, 100, 121, 144, 169, 196]])"
      ]
     },
     "execution_count": 139,
     "metadata": {},
     "output_type": "execute_result"
    }
   ],
   "source": [
    "a = np.arange(-15, 15).reshape(5,6) ** 2\n",
    "a"
   ]
  },
  {
   "cell_type": "code",
   "execution_count": 143,
   "id": "6efe9acb-e3dc-4bd8-bbfb-8e18c27b1ff7",
   "metadata": {},
   "outputs": [
    {
     "data": {
      "text/plain": [
       "array([225,  81,   9,  64, 196])"
      ]
     },
     "execution_count": 143,
     "metadata": {},
     "output_type": "execute_result"
    }
   ],
   "source": [
    "np.max(a, axis=1)"
   ]
  },
  {
   "cell_type": "code",
   "execution_count": 147,
   "id": "d92876c7-035a-4180-bbf0-a0106abfcb12",
   "metadata": {},
   "outputs": [
    {
     "data": {
      "text/plain": [
       "array([81., 76., 73., 72., 73., 76.])"
      ]
     },
     "execution_count": 147,
     "metadata": {},
     "output_type": "execute_result"
    }
   ],
   "source": [
    "np.mean(a, axis=0)"
   ]
  },
  {
   "cell_type": "code",
   "execution_count": 146,
   "id": "4ae9063a-d039-466d-83e3-ddfafe3d7ffd",
   "metadata": {},
   "outputs": [
    {
     "data": {
      "text/plain": [
       "array([9, 4, 1, 0, 1, 4, 9])"
      ]
     },
     "execution_count": 146,
     "metadata": {},
     "output_type": "execute_result"
    }
   ],
   "source": [
    "a[np.where(a<10)]"
   ]
  },
  {
   "cell_type": "code",
   "execution_count": 151,
   "id": "0a953500-6471-449d-b6df-62cb2d251a17",
   "metadata": {},
   "outputs": [
    {
     "data": {
      "text/plain": [
       "array([[1, 1, 1, 1, 1, 1],\n",
       "       [1, 1, 1, 1, 1, 1],\n",
       "       [0, 0, 0, 0, 0, 0],\n",
       "       [0, 1, 1, 1, 1, 1],\n",
       "       [1, 1, 1, 1, 1, 1]])"
      ]
     },
     "execution_count": 151,
     "metadata": {},
     "output_type": "execute_result"
    }
   ],
   "source": [
    "#0보다 작은 것은 모두 0으로, 크거나 같은 것은 1로 바꾸자\n",
    "np.where(a<10, 0, 1)"
   ]
  },
  {
   "cell_type": "code",
   "execution_count": null,
   "id": "514e203e-d9b2-4244-878d-0b8548aa9c37",
   "metadata": {},
   "outputs": [],
   "source": []
  },
  {
   "cell_type": "code",
   "execution_count": null,
   "id": "1d2bb644-619a-48ff-a832-df6a7a2bc021",
   "metadata": {},
   "outputs": [],
   "source": []
  }
 ],
 "metadata": {
  "kernelspec": {
   "display_name": "Python 3 (ipykernel)",
   "language": "python",
   "name": "python3"
  },
  "language_info": {
   "codemirror_mode": {
    "name": "ipython",
    "version": 3
   },
   "file_extension": ".py",
   "mimetype": "text/x-python",
   "name": "python",
   "nbconvert_exporter": "python",
   "pygments_lexer": "ipython3",
   "version": "3.10.6"
  }
 },
 "nbformat": 4,
 "nbformat_minor": 5
}
