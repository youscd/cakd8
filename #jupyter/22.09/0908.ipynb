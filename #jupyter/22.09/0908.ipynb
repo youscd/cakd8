{
 "cells": [
  {
   "cell_type": "markdown",
   "id": "3d71c26e-ac91-4d97-8319-e87344d45e46",
   "metadata": {},
   "source": [
    "#### 복습"
   ]
  },
  {
   "cell_type": "code",
   "execution_count": 6,
   "id": "bd4b38db-372c-4bea-ac19-f5ee6423c7b8",
   "metadata": {},
   "outputs": [],
   "source": [
    "class Sports:\n",
    "    def __init__(self, name, player):\n",
    "        self.name = name\n",
    "        self.players = player"
   ]
  },
  {
   "cell_type": "code",
   "execution_count": 10,
   "id": "c6d11dc0-54d5-4890-a58a-5e37ffca5eb4",
   "metadata": {},
   "outputs": [],
   "source": [
    "soccer = Sports(\"축구\", 11)"
   ]
  },
  {
   "cell_type": "code",
   "execution_count": 15,
   "id": "cfeae236-93e7-4e6b-ab5d-2baa89ab8ffd",
   "metadata": {},
   "outputs": [
    {
     "data": {
      "text/plain": [
       "'축구'"
      ]
     },
     "execution_count": 15,
     "metadata": {},
     "output_type": "execute_result"
    }
   ],
   "source": [
    "soccer.name"
   ]
  },
  {
   "cell_type": "code",
   "execution_count": 41,
   "id": "509633ff-3fbc-44c8-ab73-1a70275139d3",
   "metadata": {},
   "outputs": [],
   "source": [
    "class Sports:\n",
    "    def __init__(self, name, player):\n",
    "        self.name = name\n",
    "        self.players = player\n",
    "        \n",
    "    def explain(self):\n",
    "        print(f\"{self.name}은(는) 한 팀당 {self.players}명이 하는 스포츠 입니다\")"
   ]
  },
  {
   "cell_type": "code",
   "execution_count": 42,
   "id": "5b2f379f-50b3-46f5-8a4d-33420eb145b0",
   "metadata": {},
   "outputs": [],
   "source": [
    "soccer = Sports(\"축구\", 11)"
   ]
  },
  {
   "cell_type": "code",
   "execution_count": 43,
   "id": "9f515775-bd6e-40a0-868e-8d401fedef30",
   "metadata": {},
   "outputs": [
    {
     "name": "stdout",
     "output_type": "stream",
     "text": [
      "축구은(는) 한 팀당 11명이 하는 스포츠 입니다\n"
     ]
    }
   ],
   "source": [
    "soccer.explain()"
   ]
  },
  {
   "cell_type": "code",
   "execution_count": 31,
   "id": "8d47c298-a1e8-4bf3-ab57-872b0f3d81db",
   "metadata": {},
   "outputs": [],
   "source": [
    "class Plant:\n",
    "    def __init__(self, name):\n",
    "        self.name = name\n",
    "        \n",
    "    def color(self):\n",
    "        self.color = \"green\"\n",
    "        return self.color"
   ]
  },
  {
   "cell_type": "code",
   "execution_count": 32,
   "id": "6287bfad-f9f5-44ae-a325-c31409e8170a",
   "metadata": {},
   "outputs": [],
   "source": [
    "소나무 = Plant(\"소나무\")"
   ]
  },
  {
   "cell_type": "code",
   "execution_count": 33,
   "id": "e239c5a4-a90b-4c49-804c-d4b5c82c9e90",
   "metadata": {},
   "outputs": [
    {
     "data": {
      "text/plain": [
       "'green'"
      ]
     },
     "execution_count": 33,
     "metadata": {},
     "output_type": "execute_result"
    }
   ],
   "source": [
    "소나무.color()"
   ]
  },
  {
   "cell_type": "code",
   "execution_count": 37,
   "id": "b2858507-959c-4660-b0fb-4258ece10004",
   "metadata": {},
   "outputs": [],
   "source": [
    "class Apple(Plant):\n",
    "    def color(self):\n",
    "        self.color = \"Red\"\n",
    "        return self.color"
   ]
  },
  {
   "cell_type": "code",
   "execution_count": 44,
   "id": "f9786c4d-5d8e-4a79-889c-0628ac7ddba9",
   "metadata": {},
   "outputs": [],
   "source": [
    "사과 = Apple(\"홍옥\")"
   ]
  },
  {
   "cell_type": "code",
   "execution_count": 45,
   "id": "e782e6b6-d443-47e8-b155-6232a379f548",
   "metadata": {},
   "outputs": [
    {
     "data": {
      "text/plain": [
       "'Red'"
      ]
     },
     "execution_count": 45,
     "metadata": {},
     "output_type": "execute_result"
    }
   ],
   "source": [
    "사과.color()"
   ]
  },
  {
   "cell_type": "code",
   "execution_count": 48,
   "id": "b83301a3-71cb-4a29-8b48-25857a6938e7",
   "metadata": {},
   "outputs": [],
   "source": [
    "f = open(\"new.txt\", 'w')\n",
    "for _ in range(10):\n",
    "    f.write(\"Hello\\n\")\n",
    "f.close()"
   ]
  },
  {
   "cell_type": "code",
   "execution_count": 49,
   "id": "d4958e60-93cf-4186-82ef-e993b39cf20c",
   "metadata": {},
   "outputs": [
    {
     "name": "stdout",
     "output_type": "stream",
     "text": [
      "['Hello\\n', 'Hello\\n', 'Hello\\n', 'Hello\\n', 'Hello\\n', 'Hello\\n', 'Hello\\n', 'Hello\\n', 'Hello\\n', 'Hello\\n']\n"
     ]
    }
   ],
   "source": [
    "f = open(\"new.txt\", 'r')\n",
    "data = f.readlines()\n",
    "print(data)\n",
    "f.close()"
   ]
  },
  {
   "cell_type": "code",
   "execution_count": 51,
   "id": "408b004e-ad75-420e-8ac4-5ecb5bb53492",
   "metadata": {},
   "outputs": [
    {
     "name": "stdout",
     "output_type": "stream",
     "text": [
      "Hello\n",
      " Hello\n",
      " Hello\n",
      " Hello\n",
      " Hello\n",
      " Hello\n",
      " Hello\n",
      " Hello\n",
      " Hello\n",
      " Hello\n",
      " "
     ]
    }
   ],
   "source": [
    "f = open(\"new.txt\", 'r')\n",
    "data = f.readlines()\n",
    "for i in data:\n",
    "    print(i, end = \" \")\n",
    "f.close()"
   ]
  },
  {
   "cell_type": "code",
   "execution_count": 53,
   "id": "38b150e6-58c1-40f6-866c-826263606992",
   "metadata": {},
   "outputs": [
    {
     "name": "stdout",
     "output_type": "stream",
     "text": [
      "Hello\n",
      "Hello\n",
      "Hello\n",
      "Hello\n",
      "Hello\n",
      "Hello\n",
      "Hello\n",
      "Hello\n",
      "Hello\n",
      "Hello\n",
      "\n"
     ]
    }
   ],
   "source": [
    "f = open(\"new.txt\", 'r')\n",
    "data = f.read()\n",
    "print(data)\n",
    "f.close()"
   ]
  },
  {
   "cell_type": "code",
   "execution_count": 54,
   "id": "b541e421-57b5-409d-a1a6-1c85f4be389f",
   "metadata": {},
   "outputs": [],
   "source": [
    "f = open(\"new.txt\", 'w')\n",
    "for _ in range(10):\n",
    "    f.write(\"good\\n\")\n",
    "f.close()"
   ]
  },
  {
   "cell_type": "code",
   "execution_count": 55,
   "id": "224a47e3-e1a7-428f-946d-86343d7eff9c",
   "metadata": {},
   "outputs": [
    {
     "name": "stdout",
     "output_type": "stream",
     "text": [
      "good\n",
      "good\n",
      "good\n",
      "good\n",
      "good\n",
      "good\n",
      "good\n",
      "good\n",
      "good\n",
      "good\n",
      "\n"
     ]
    }
   ],
   "source": [
    "f = open(\"new.txt\", 'r')\n",
    "data = f.read()\n",
    "print(data)\n",
    "f.close()"
   ]
  },
  {
   "cell_type": "code",
   "execution_count": 61,
   "id": "85af4184-9240-4bb8-85c7-c3f71d3ad358",
   "metadata": {},
   "outputs": [],
   "source": [
    "with open(\"gugu.txt\", 'w') as f:\n",
    "    for i in range(2, 10):\n",
    "        for j in range(1, 10):\n",
    "            f.write(f\"{i*j} \")\n",
    "        f.write(\"\\n\")"
   ]
  },
  {
   "cell_type": "markdown",
   "id": "9e9977c8-81db-4238-b833-7ac4a2005521",
   "metadata": {},
   "source": [
    "# 0908"
   ]
  },
  {
   "cell_type": "markdown",
   "id": "1e78c33f-50b9-410f-a5e0-977909d1cc93",
   "metadata": {},
   "source": [
    "### 클래스 변수"
   ]
  },
  {
   "cell_type": "code",
   "execution_count": 71,
   "id": "d2a68739-88bf-475a-93b7-fe9d69b9528e",
   "metadata": {},
   "outputs": [],
   "source": [
    "class Family:\n",
    "    lastname = \"박\"   #클래스 변수 생성\n",
    "    \n",
    "    def __init__(self, name):\n",
    "        self.name = name   #인스턴스 변수"
   ]
  },
  {
   "cell_type": "code",
   "execution_count": 63,
   "id": "b74c098a-8eb5-44a2-adf1-08c1f7d20691",
   "metadata": {},
   "outputs": [],
   "source": [
    "Family1 = Family(\"길동\")"
   ]
  },
  {
   "cell_type": "code",
   "execution_count": 64,
   "id": "30232844-90d2-4925-8dd3-b4d5342d1dba",
   "metadata": {},
   "outputs": [
    {
     "data": {
      "text/plain": [
       "'길동'"
      ]
     },
     "execution_count": 64,
     "metadata": {},
     "output_type": "execute_result"
    }
   ],
   "source": [
    "Family1.name"
   ]
  },
  {
   "cell_type": "code",
   "execution_count": 65,
   "id": "3ba16c66-60e2-4b0e-b433-fb9aa92845ad",
   "metadata": {},
   "outputs": [
    {
     "data": {
      "text/plain": [
       "'박'"
      ]
     },
     "execution_count": 65,
     "metadata": {},
     "output_type": "execute_result"
    }
   ],
   "source": [
    "Family1.lastname"
   ]
  },
  {
   "cell_type": "code",
   "execution_count": 66,
   "id": "d51c8a03-7c53-425a-80d9-739a3745dd5c",
   "metadata": {},
   "outputs": [
    {
     "data": {
      "text/plain": [
       "'박'"
      ]
     },
     "execution_count": 66,
     "metadata": {},
     "output_type": "execute_result"
    }
   ],
   "source": [
    "Family.lastname"
   ]
  },
  {
   "cell_type": "code",
   "execution_count": 67,
   "id": "25c35698-9036-46fe-81f1-06107a878050",
   "metadata": {},
   "outputs": [],
   "source": [
    "Family2 = Family(\"우치\")"
   ]
  },
  {
   "cell_type": "code",
   "execution_count": 68,
   "id": "4d7a6927-a3fb-4d90-b4a8-1aac59b34d15",
   "metadata": {},
   "outputs": [
    {
     "data": {
      "text/plain": [
       "'우치'"
      ]
     },
     "execution_count": 68,
     "metadata": {},
     "output_type": "execute_result"
    }
   ],
   "source": [
    "Family2.name"
   ]
  },
  {
   "cell_type": "code",
   "execution_count": 69,
   "id": "c62298db-5492-4917-a7e5-6063ca54578f",
   "metadata": {},
   "outputs": [
    {
     "data": {
      "text/plain": [
       "'박'"
      ]
     },
     "execution_count": 69,
     "metadata": {},
     "output_type": "execute_result"
    }
   ],
   "source": [
    "Family2.lastname"
   ]
  },
  {
   "cell_type": "code",
   "execution_count": 70,
   "id": "1b053dfb-6f1e-47a7-a435-582b8bdf7ae6",
   "metadata": {},
   "outputs": [
    {
     "name": "stdout",
     "output_type": "stream",
     "text": [
      "1902481486384\n",
      "1902481486384\n"
     ]
    }
   ],
   "source": [
    "print(id(Family1.lastname))\n",
    "print(id(Family2.lastname))"
   ]
  },
  {
   "cell_type": "code",
   "execution_count": 76,
   "id": "a3a9819c-0ffb-41bd-8b6c-0ee1f4f69516",
   "metadata": {},
   "outputs": [],
   "source": [
    "class Family:\n",
    "    lastname = \"박\"   #클래스 변수 생성\n",
    "    \n",
    "    def __init__(self, name):\n",
    "        self.name = name   #지역변수(instanse)\n",
    "    \n",
    "    def show_name(self):\n",
    "        print(Family.lastname)\n",
    "        print(self.lastname)\n",
    "        print(self.name)"
   ]
  },
  {
   "cell_type": "code",
   "execution_count": 77,
   "id": "2de7b02d-860e-4559-9c1f-e185101620c8",
   "metadata": {},
   "outputs": [],
   "source": [
    "fam1 = Family(\"길동\")"
   ]
  },
  {
   "cell_type": "code",
   "execution_count": 78,
   "id": "edeb32c0-65ad-44dc-ace7-223fd119bfbc",
   "metadata": {},
   "outputs": [
    {
     "name": "stdout",
     "output_type": "stream",
     "text": [
      "박\n",
      "박\n",
      "길동\n"
     ]
    }
   ],
   "source": [
    "fam1.show_name()"
   ]
  },
  {
   "cell_type": "code",
   "execution_count": 81,
   "id": "112d2e67-3f20-4580-a728-8d4d7e6410da",
   "metadata": {},
   "outputs": [],
   "source": [
    "#클래스 변수는 인스턴스 변수들이 다같이 공유한다"
   ]
  },
  {
   "cell_type": "code",
   "execution_count": 82,
   "id": "d90afa9b-4c48-481f-aa28-d9e6ed56b19d",
   "metadata": {},
   "outputs": [],
   "source": [
    "#클래스 바깥에 변수 지정\n",
    "name = \"우영우\"   #전역변수(global)\n",
    "\n",
    "class Family:\n",
    "    lastname = \"박\"\n",
    "    \n",
    "    def __init__(self, name):\n",
    "        self.name = name\n",
    "    \n",
    "    def show_name(self):\n",
    "        print(name)    #함수 바깥에 있는 변수라서 공통적으로 보여진다\n",
    "        print(Family.lastname)\n",
    "        print(self.lastname)\n",
    "        print(self.name)"
   ]
  },
  {
   "cell_type": "code",
   "execution_count": 83,
   "id": "0b7f4f2a-f93b-4a25-a164-d6c6c63b3337",
   "metadata": {},
   "outputs": [
    {
     "name": "stdout",
     "output_type": "stream",
     "text": [
      "우영우\n",
      "박\n",
      "박\n",
      "길동\n"
     ]
    }
   ],
   "source": [
    "fam1 = Family(\"길동\")\n",
    "fam1.show_name()"
   ]
  },
  {
   "cell_type": "code",
   "execution_count": 90,
   "id": "e06c1852-b406-47e8-b201-e2cd4efa8969",
   "metadata": {},
   "outputs": [],
   "source": [
    "name = \"IU\"\n",
    "\n",
    "class Person:\n",
    "    lastname = \"Son\"\n",
    "    \n",
    "    def __init__(self, name):\n",
    "        self.name = name\n",
    "        \n",
    "    def show_name(self):\n",
    "        print(name)\n",
    "        print(Person.lastname)\n",
    "        print(self.name)"
   ]
  },
  {
   "cell_type": "code",
   "execution_count": 91,
   "id": "a6c6906c-3b13-42d3-8a52-64a0b3358666",
   "metadata": {},
   "outputs": [
    {
     "name": "stdout",
     "output_type": "stream",
     "text": [
      "IU\n",
      "Son\n",
      "흥민\n"
     ]
    }
   ],
   "source": [
    "a = Person(\"흥민\")\n",
    "a.show_name()"
   ]
  },
  {
   "cell_type": "markdown",
   "id": "620dede5-0770-4e30-9215-e8b8573a9f89",
   "metadata": {},
   "source": [
    "### 상속 후 변수 추가\n",
    "-__init__와 관련있다 (__init__에서 변수를 만들기 때문에)"
   ]
  },
  {
   "cell_type": "markdown",
   "id": "39f63705-50de-445f-b05e-2ea477686117",
   "metadata": {},
   "source": [
    "* 부모 클래스에서 인자로 입력받는 것이 없을 때"
   ]
  },
  {
   "cell_type": "code",
   "execution_count": 92,
   "id": "5194a4c4-4703-4d2f-b257-60df979e1a3d",
   "metadata": {},
   "outputs": [],
   "source": [
    "class Person:\n",
    "    def __init__(self):\n",
    "        self.name = \"Lee\"\n",
    "        self.age = 25"
   ]
  },
  {
   "cell_type": "code",
   "execution_count": 93,
   "id": "d2019d6c-612b-426e-8c83-7c8c499539d6",
   "metadata": {},
   "outputs": [],
   "source": [
    "class Korean(Person):\n",
    "    pass"
   ]
  },
  {
   "cell_type": "code",
   "execution_count": 94,
   "id": "7f0334f2-9a2c-43a6-ba60-a30516ec416e",
   "metadata": {},
   "outputs": [
    {
     "data": {
      "text/plain": [
       "'Lee'"
      ]
     },
     "execution_count": 94,
     "metadata": {},
     "output_type": "execute_result"
    }
   ],
   "source": [
    "p1 = Person()\n",
    "p1.name"
   ]
  },
  {
   "cell_type": "code",
   "execution_count": 95,
   "id": "7b23e837-636d-4faa-ab89-f709e31dfd0a",
   "metadata": {},
   "outputs": [
    {
     "data": {
      "text/plain": [
       "'Lee'"
      ]
     },
     "execution_count": 95,
     "metadata": {},
     "output_type": "execute_result"
    }
   ],
   "source": [
    "k1 = Korean()\n",
    "k1.name"
   ]
  },
  {
   "cell_type": "code",
   "execution_count": 96,
   "id": "0e0452bb-3d79-4d21-b8b7-83595e2ba1fc",
   "metadata": {},
   "outputs": [],
   "source": [
    "class Korean(Person):\n",
    "    def __init__(self):\n",
    "        self.lang = \"한국어\""
   ]
  },
  {
   "cell_type": "code",
   "execution_count": 97,
   "id": "3ee87406-0ec7-4bc5-9332-21686d441695",
   "metadata": {},
   "outputs": [
    {
     "data": {
      "text/plain": [
       "'한국어'"
      ]
     },
     "execution_count": 97,
     "metadata": {},
     "output_type": "execute_result"
    }
   ],
   "source": [
    "k1 = Korean()\n",
    "k1.lang"
   ]
  },
  {
   "cell_type": "code",
   "execution_count": 98,
   "id": "05d02fc9-63cf-46d0-ab3d-48a19427db7e",
   "metadata": {},
   "outputs": [
    {
     "ename": "AttributeError",
     "evalue": "'Korean' object has no attribute 'name'",
     "output_type": "error",
     "traceback": [
      "\u001b[1;31m---------------------------------------------------------------------------\u001b[0m",
      "\u001b[1;31mAttributeError\u001b[0m                            Traceback (most recent call last)",
      "Input \u001b[1;32mIn [98]\u001b[0m, in \u001b[0;36m<cell line: 1>\u001b[1;34m()\u001b[0m\n\u001b[1;32m----> 1\u001b[0m \u001b[43mk1\u001b[49m\u001b[38;5;241;43m.\u001b[39;49m\u001b[43mname\u001b[49m\n",
      "\u001b[1;31mAttributeError\u001b[0m: 'Korean' object has no attribute 'name'"
     ]
    }
   ],
   "source": [
    "k1.name"
   ]
  },
  {
   "cell_type": "code",
   "execution_count": 99,
   "id": "f8712359-1112-46b4-a2f9-d963c94342df",
   "metadata": {},
   "outputs": [],
   "source": [
    "#부모 클래스와 같은 이름의 메서드(__init__)로 오버라이딩 되어 부모 클래스에 있던 메서드는 실행되지 않음"
   ]
  },
  {
   "cell_type": "code",
   "execution_count": 100,
   "id": "0a3a4e4a-367f-4d82-a5ea-82c312eedd73",
   "metadata": {},
   "outputs": [],
   "source": [
    "class Korean(Person):\n",
    "    def __init__(self):\n",
    "        super().__init__()   #부모 클래스에 있던 __init__()를 불러옴\n",
    "        self.lang = \"한국어\""
   ]
  },
  {
   "cell_type": "code",
   "execution_count": 101,
   "id": "23451cf4-dceb-4410-9edf-05bbf63c73b5",
   "metadata": {},
   "outputs": [
    {
     "name": "stdout",
     "output_type": "stream",
     "text": [
      "한국어\n",
      "Lee\n"
     ]
    }
   ],
   "source": [
    "k2 = Korean()\n",
    "print(k2.lang)\n",
    "print(k2.name)"
   ]
  },
  {
   "cell_type": "code",
   "execution_count": 106,
   "id": "38185725-148a-4461-b61f-a41447080c9e",
   "metadata": {},
   "outputs": [],
   "source": [
    "class American(Person):\n",
    "    def __init__(self):\n",
    "        super().__init__()\n",
    "        self.lang = \"English\""
   ]
  },
  {
   "cell_type": "code",
   "execution_count": 107,
   "id": "61590348-7b1f-44bd-8839-7cd9450d8c91",
   "metadata": {},
   "outputs": [
    {
     "data": {
      "text/plain": [
       "'English'"
      ]
     },
     "execution_count": 107,
     "metadata": {},
     "output_type": "execute_result"
    }
   ],
   "source": [
    "a1 = American()\n",
    "a1.lang"
   ]
  },
  {
   "cell_type": "markdown",
   "id": "50eac23d-98da-46d3-abc4-c8ff7ceae992",
   "metadata": {},
   "source": [
    "* 부모 클래스에서 인자로 입력받는 것이 있을 때"
   ]
  },
  {
   "cell_type": "code",
   "execution_count": 114,
   "id": "50854ecb-1505-40eb-8e89-f5f307973db6",
   "metadata": {},
   "outputs": [],
   "source": [
    "class Person:\n",
    "    def __init__(self, name, age):\n",
    "        self.name = name\n",
    "        self.age = age\n",
    "        \n",
    "class Korean(Person):\n",
    "    def __init__(self, name, age):   #부모 클래스에 있는 변수를 같이 써줘야 함\n",
    "        super().__init__(name, age)\n",
    "        self.lang = \"한국어\""
   ]
  },
  {
   "cell_type": "code",
   "execution_count": 115,
   "id": "c0b5b75a-639a-4b53-8c62-9f6870394694",
   "metadata": {},
   "outputs": [],
   "source": [
    "k1 = Korean(\"우영우\", 32)"
   ]
  },
  {
   "cell_type": "code",
   "execution_count": 117,
   "id": "e9c1a7c2-704a-433d-afbb-f599f5cf9b73",
   "metadata": {},
   "outputs": [
    {
     "name": "stdout",
     "output_type": "stream",
     "text": [
      "우영우\n",
      "32\n"
     ]
    }
   ],
   "source": [
    "print(k1.name)\n",
    "print(k1.age)"
   ]
  },
  {
   "cell_type": "markdown",
   "id": "f7248c9c-b42b-4d98-b9c1-0ae6858fe689",
   "metadata": {},
   "source": [
    "* 자식 클래스에서도 인자를 입력받는 경우"
   ]
  },
  {
   "cell_type": "code",
   "execution_count": 123,
   "id": "aa2a5dae-40f3-46c8-8747-d16927a71fe9",
   "metadata": {},
   "outputs": [],
   "source": [
    "class Korean(Person):\n",
    "    def __init__(self, name, age, lang):   #모든 변수를 다 써준다 -> 초기화 하면서 세 변수를 모두 다 받아들임\n",
    "        super().__init__(name, age)\n",
    "        self.lang = lang"
   ]
  },
  {
   "cell_type": "code",
   "execution_count": 119,
   "id": "af1b97cc-f991-484f-9f02-1c419b0f525c",
   "metadata": {},
   "outputs": [],
   "source": [
    "k2 = Korean(\"우영우\", 32, \"한국어\")"
   ]
  },
  {
   "cell_type": "code",
   "execution_count": 121,
   "id": "3c54f9ff-fbcc-4cbf-8ea8-8c3662c401ee",
   "metadata": {},
   "outputs": [
    {
     "name": "stdout",
     "output_type": "stream",
     "text": [
      "우영우\n",
      "32\n",
      "한국어\n"
     ]
    }
   ],
   "source": [
    "print(k2.name)\n",
    "print(k2.age)\n",
    "print(k2.lang)"
   ]
  },
  {
   "cell_type": "markdown",
   "id": "fc2ce00f-efc9-4405-a35d-d4120dc6bfce",
   "metadata": {},
   "source": [
    "## 8. 모듈\n",
    "-'.py'로 끝나는 파일 을 말한다"
   ]
  },
  {
   "cell_type": "markdown",
   "id": "2127b27a-15d0-4e09-9841-6b1481a25188",
   "metadata": {
    "tags": []
   },
   "source": [
    "## 9. 패키지\n",
    "-모듈을 모아놓은 것"
   ]
  },
  {
   "cell_type": "code",
   "execution_count": 124,
   "id": "927fd5cd-2cad-4699-b7b2-5fdb4e69cbb7",
   "metadata": {},
   "outputs": [],
   "source": [
    "#under score 2개 -> __ -> double under score -> dunder"
   ]
  },
  {
   "cell_type": "code",
   "execution_count": 125,
   "id": "1e409a0e-4f1f-4297-a7cd-85b3c8edbe96",
   "metadata": {},
   "outputs": [
    {
     "data": {
      "text/plain": [
       "'C:\\\\Users\\\\admin'"
      ]
     },
     "execution_count": 125,
     "metadata": {},
     "output_type": "execute_result"
    }
   ],
   "source": [
    "import os\n",
    "os.getcwd()"
   ]
  },
  {
   "cell_type": "code",
   "execution_count": 126,
   "id": "b79e6ced-0372-4f6f-aed0-ea49240e4592",
   "metadata": {},
   "outputs": [],
   "source": [
    "os.chdir(\"C:\\\\Users\\\\admin\")"
   ]
  },
  {
   "cell_type": "code",
   "execution_count": 131,
   "id": "6be1f300-48a2-4b7d-8837-5dadf8eb3c93",
   "metadata": {},
   "outputs": [
    {
     "ename": "FileExistsError",
     "evalue": "[WinError 183] 파일이 이미 있으므로 만들 수 없습니다: 'abc'",
     "output_type": "error",
     "traceback": [
      "\u001b[1;31m---------------------------------------------------------------------------\u001b[0m",
      "\u001b[1;31mFileExistsError\u001b[0m                           Traceback (most recent call last)",
      "Input \u001b[1;32mIn [131]\u001b[0m, in \u001b[0;36m<cell line: 1>\u001b[1;34m()\u001b[0m\n\u001b[1;32m----> 1\u001b[0m \u001b[43mos\u001b[49m\u001b[38;5;241;43m.\u001b[39;49m\u001b[43mmkdir\u001b[49m\u001b[43m(\u001b[49m\u001b[38;5;124;43m\"\u001b[39;49m\u001b[38;5;124;43mabc\u001b[39;49m\u001b[38;5;124;43m\"\u001b[39;49m\u001b[43m)\u001b[49m\n",
      "\u001b[1;31mFileExistsError\u001b[0m: [WinError 183] 파일이 이미 있으므로 만들 수 없습니다: 'abc'"
     ]
    }
   ],
   "source": [
    "os.mkdir(\"abc\")"
   ]
  },
  {
   "cell_type": "code",
   "execution_count": 132,
   "id": "05593790-f3be-46ad-8b71-b6ffb5286664",
   "metadata": {},
   "outputs": [
    {
     "ename": "FileExistsError",
     "evalue": "[WinError 183] 파일이 이미 있으므로 만들 수 없습니다: 'abc/a'",
     "output_type": "error",
     "traceback": [
      "\u001b[1;31m---------------------------------------------------------------------------\u001b[0m",
      "\u001b[1;31mFileExistsError\u001b[0m                           Traceback (most recent call last)",
      "Input \u001b[1;32mIn [132]\u001b[0m, in \u001b[0;36m<cell line: 1>\u001b[1;34m()\u001b[0m\n\u001b[1;32m----> 1\u001b[0m \u001b[43mos\u001b[49m\u001b[38;5;241;43m.\u001b[39;49m\u001b[43mmkdir\u001b[49m\u001b[43m(\u001b[49m\u001b[38;5;124;43m\"\u001b[39;49m\u001b[38;5;124;43mabc/a\u001b[39;49m\u001b[38;5;124;43m\"\u001b[39;49m\u001b[43m)\u001b[49m\n",
      "\u001b[1;31mFileExistsError\u001b[0m: [WinError 183] 파일이 이미 있으므로 만들 수 없습니다: 'abc/a'"
     ]
    }
   ],
   "source": [
    "os.mkdir(\"abc/a\")"
   ]
  },
  {
   "cell_type": "code",
   "execution_count": 129,
   "id": "231955fd-1257-4c18-970e-d022cdd5d8ad",
   "metadata": {},
   "outputs": [],
   "source": [
    "os.mkdir(\"abc/b\")"
   ]
  },
  {
   "cell_type": "code",
   "execution_count": 130,
   "id": "d53f744a-9b91-4c3f-a84f-69386cc0425c",
   "metadata": {},
   "outputs": [],
   "source": [
    "os.mkdir(\"abc/c\")"
   ]
  },
  {
   "cell_type": "code",
   "execution_count": 133,
   "id": "9a786d49-57fb-4efb-ac5c-b8a569b268fd",
   "metadata": {},
   "outputs": [
    {
     "data": {
      "text/plain": [
       "['C:\\\\Users\\\\admin',\n",
       " 'C:\\\\Users\\\\admin\\\\AppData\\\\Local\\\\Programs\\\\Python\\\\Python310\\\\python310.zip',\n",
       " 'C:\\\\Users\\\\admin\\\\AppData\\\\Local\\\\Programs\\\\Python\\\\Python310\\\\DLLs',\n",
       " 'C:\\\\Users\\\\admin\\\\AppData\\\\Local\\\\Programs\\\\Python\\\\Python310\\\\lib',\n",
       " 'C:\\\\Users\\\\admin\\\\AppData\\\\Local\\\\Programs\\\\Python\\\\Python310',\n",
       " '',\n",
       " 'C:\\\\Users\\\\admin\\\\AppData\\\\Local\\\\Programs\\\\Python\\\\Python310\\\\lib\\\\site-packages',\n",
       " 'C:\\\\Users\\\\admin\\\\AppData\\\\Local\\\\Programs\\\\Python\\\\Python310\\\\lib\\\\site-packages\\\\win32',\n",
       " 'C:\\\\Users\\\\admin\\\\AppData\\\\Local\\\\Programs\\\\Python\\\\Python310\\\\lib\\\\site-packages\\\\win32\\\\lib',\n",
       " 'C:\\\\Users\\\\admin\\\\AppData\\\\Local\\\\Programs\\\\Python\\\\Python310\\\\lib\\\\site-packages\\\\Pythonwin']"
      ]
     },
     "execution_count": 133,
     "metadata": {},
     "output_type": "execute_result"
    }
   ],
   "source": [
    "import sys\n",
    "sys.path"
   ]
  },
  {
   "cell_type": "code",
   "execution_count": 136,
   "id": "78c768f0-5f71-404b-b614-5b19957db8f6",
   "metadata": {},
   "outputs": [],
   "source": [
    "sys.path.append(\"C:\\\\Users\\\\admin\\\\abc\\\\a\")"
   ]
  },
  {
   "cell_type": "code",
   "execution_count": 137,
   "id": "9e701bb3-34d8-4386-a38d-0c7263021a11",
   "metadata": {},
   "outputs": [
    {
     "data": {
      "text/plain": [
       "['C:\\\\Users\\\\admin',\n",
       " 'C:\\\\Users\\\\admin\\\\AppData\\\\Local\\\\Programs\\\\Python\\\\Python310\\\\python310.zip',\n",
       " 'C:\\\\Users\\\\admin\\\\AppData\\\\Local\\\\Programs\\\\Python\\\\Python310\\\\DLLs',\n",
       " 'C:\\\\Users\\\\admin\\\\AppData\\\\Local\\\\Programs\\\\Python\\\\Python310\\\\lib',\n",
       " 'C:\\\\Users\\\\admin\\\\AppData\\\\Local\\\\Programs\\\\Python\\\\Python310',\n",
       " '',\n",
       " 'C:\\\\Users\\\\admin\\\\AppData\\\\Local\\\\Programs\\\\Python\\\\Python310\\\\lib\\\\site-packages',\n",
       " 'C:\\\\Users\\\\admin\\\\AppData\\\\Local\\\\Programs\\\\Python\\\\Python310\\\\lib\\\\site-packages\\\\win32',\n",
       " 'C:\\\\Users\\\\admin\\\\AppData\\\\Local\\\\Programs\\\\Python\\\\Python310\\\\lib\\\\site-packages\\\\win32\\\\lib',\n",
       " 'C:\\\\Users\\\\admin\\\\AppData\\\\Local\\\\Programs\\\\Python\\\\Python310\\\\lib\\\\site-packages\\\\Pythonwin',\n",
       " 'C:/Users/admin/abc/a',\n",
       " 'C:\\\\Users\\\\admin\\\\abc\\\\a']"
      ]
     },
     "execution_count": 137,
     "metadata": {},
     "output_type": "execute_result"
    }
   ],
   "source": [
    "sys.path"
   ]
  },
  {
   "cell_type": "markdown",
   "id": "13533b02-3701-48ea-b7cf-90036aed4328",
   "metadata": {},
   "source": [
    "## 10. 예외 처리\n",
    "-예외 : exception<br>\n",
    "-except : ~을 제외하고<br>\n",
    "-try 1,2,3 except 4,5 : 4,5는 제외하고 1,2,3만 실행해라<br>\n",
    "-4,5 -> error, 즉 except가 error라고 볼 수 있다<br>\n",
    "-예외처리는 다른 말로 에러처리<br>\n",
    "-for문에서 에러가 자주 발생한다"
   ]
  },
  {
   "cell_type": "code",
   "execution_count": 138,
   "id": "09beb8cd-6014-4232-a354-bf36c149264c",
   "metadata": {},
   "outputs": [
    {
     "name": "stdout",
     "output_type": "stream",
     "text": [
      "hello\n",
      "good\n"
     ]
    },
    {
     "ename": "IndexError",
     "evalue": "list index out of range",
     "output_type": "error",
     "traceback": [
      "\u001b[1;31m---------------------------------------------------------------------------\u001b[0m",
      "\u001b[1;31mIndexError\u001b[0m                                Traceback (most recent call last)",
      "Input \u001b[1;32mIn [138]\u001b[0m, in \u001b[0;36m<cell line: 2>\u001b[1;34m()\u001b[0m\n\u001b[0;32m      1\u001b[0m a \u001b[38;5;241m=\u001b[39m [\u001b[38;5;124m\"\u001b[39m\u001b[38;5;124mhello\u001b[39m\u001b[38;5;124m\"\u001b[39m, \u001b[38;5;124m\"\u001b[39m\u001b[38;5;124mgood\u001b[39m\u001b[38;5;124m\"\u001b[39m]\n\u001b[0;32m      2\u001b[0m \u001b[38;5;28;01mfor\u001b[39;00m i \u001b[38;5;129;01min\u001b[39;00m \u001b[38;5;28mrange\u001b[39m(\u001b[38;5;241m3\u001b[39m):\n\u001b[1;32m----> 3\u001b[0m     \u001b[38;5;28mprint\u001b[39m(\u001b[43ma\u001b[49m\u001b[43m[\u001b[49m\u001b[43mi\u001b[49m\u001b[43m]\u001b[49m)\n",
      "\u001b[1;31mIndexError\u001b[0m: list index out of range"
     ]
    }
   ],
   "source": [
    "a = [\"hello\", \"good\"]\n",
    "for i in range(3):\n",
    "    print(a[i])"
   ]
  },
  {
   "cell_type": "code",
   "execution_count": 141,
   "id": "58d24019-7817-42a8-99bf-5bcad49a8612",
   "metadata": {},
   "outputs": [
    {
     "name": "stdout",
     "output_type": "stream",
     "text": [
      "hello\n",
      "good\n",
      "error 입니다\n"
     ]
    }
   ],
   "source": [
    "a = [\"hello\", \"good\"]\n",
    "try:\n",
    "    for i in range(3):\n",
    "        print(a[i])\n",
    "except:   #에러가 생기면 다음을 실행해라\n",
    "    print(\"error 입니다\")"
   ]
  },
  {
   "cell_type": "code",
   "execution_count": 143,
   "id": "01b99546-3f9c-4b29-bb28-20cfbb3ad858",
   "metadata": {},
   "outputs": [
    {
     "name": "stdout",
     "output_type": "stream",
     "text": [
      "2.0\n"
     ]
    },
    {
     "ename": "ZeroDivisionError",
     "evalue": "division by zero",
     "output_type": "error",
     "traceback": [
      "\u001b[1;31m---------------------------------------------------------------------------\u001b[0m",
      "\u001b[1;31mZeroDivisionError\u001b[0m                         Traceback (most recent call last)",
      "Input \u001b[1;32mIn [143]\u001b[0m, in \u001b[0;36m<cell line: 2>\u001b[1;34m()\u001b[0m\n\u001b[0;32m      1\u001b[0m \u001b[38;5;28mprint\u001b[39m(\u001b[38;5;241m4\u001b[39m \u001b[38;5;241m/\u001b[39m \u001b[38;5;241m2\u001b[39m)\n\u001b[1;32m----> 2\u001b[0m \u001b[38;5;28mprint\u001b[39m(\u001b[38;5;241;43m4\u001b[39;49m\u001b[43m \u001b[49m\u001b[38;5;241;43m/\u001b[39;49m\u001b[43m \u001b[49m\u001b[38;5;241;43m0\u001b[39;49m)\n",
      "\u001b[1;31mZeroDivisionError\u001b[0m: division by zero"
     ]
    }
   ],
   "source": [
    "print(4 / 2)\n",
    "print(4 / 0)"
   ]
  },
  {
   "cell_type": "code",
   "execution_count": 145,
   "id": "ed482c5c-d0d2-4abf-9b3f-5a84e7154636",
   "metadata": {},
   "outputs": [
    {
     "name": "stdout",
     "output_type": "stream",
     "text": [
      "2.0\n",
      "division by zero\n"
     ]
    }
   ],
   "source": [
    "try:\n",
    "    print(4 / 2)\n",
    "    print(4 / 0)\n",
    "except ZeroDivisionError as e:\n",
    "    print(e)    #e : explain\n",
    "    #print(\"에러입니다\")"
   ]
  },
  {
   "cell_type": "code",
   "execution_count": 146,
   "id": "4caf911a-8728-42a0-bf37-213fa29e3531",
   "metadata": {},
   "outputs": [
    {
     "name": "stdout",
     "output_type": "stream",
     "text": [
      "hello\n",
      "good\n"
     ]
    },
    {
     "ename": "IndexError",
     "evalue": "list index out of range",
     "output_type": "error",
     "traceback": [
      "\u001b[1;31m---------------------------------------------------------------------------\u001b[0m",
      "\u001b[1;31mIndexError\u001b[0m                                Traceback (most recent call last)",
      "Input \u001b[1;32mIn [146]\u001b[0m, in \u001b[0;36m<cell line: 2>\u001b[1;34m()\u001b[0m\n\u001b[0;32m      1\u001b[0m a \u001b[38;5;241m=\u001b[39m [\u001b[38;5;124m\"\u001b[39m\u001b[38;5;124mhello\u001b[39m\u001b[38;5;124m\"\u001b[39m, \u001b[38;5;124m\"\u001b[39m\u001b[38;5;124mgood\u001b[39m\u001b[38;5;124m\"\u001b[39m]\n\u001b[0;32m      2\u001b[0m \u001b[38;5;28;01mfor\u001b[39;00m i \u001b[38;5;129;01min\u001b[39;00m \u001b[38;5;28mrange\u001b[39m(\u001b[38;5;241m3\u001b[39m):\n\u001b[1;32m----> 3\u001b[0m     \u001b[38;5;28mprint\u001b[39m(\u001b[43ma\u001b[49m\u001b[43m[\u001b[49m\u001b[43mi\u001b[49m\u001b[43m]\u001b[49m)\n",
      "\u001b[1;31mIndexError\u001b[0m: list index out of range"
     ]
    }
   ],
   "source": [
    "a = [\"hello\", \"good\"]\n",
    "for i in range(3):\n",
    "    print(a[i])"
   ]
  },
  {
   "cell_type": "markdown",
   "id": "c8bfb65b-4caf-47ab-98a7-cd64eaff0fff",
   "metadata": {},
   "source": [
    "#### 1. 일반적인 에러처리"
   ]
  },
  {
   "cell_type": "code",
   "execution_count": 147,
   "id": "962a43f3-35db-42fc-9f97-196815b21631",
   "metadata": {},
   "outputs": [
    {
     "name": "stdout",
     "output_type": "stream",
     "text": [
      "hello\n",
      "good\n",
      "에러입니다\n"
     ]
    }
   ],
   "source": [
    "a = [\"hello\", \"good\"]\n",
    "\n",
    "try:\n",
    "    for i in range(3):\n",
    "        print(a[i])\n",
    "except:\n",
    "    print(\"에러입니다\")"
   ]
  },
  {
   "cell_type": "markdown",
   "id": "b167940d-62a0-490d-a7f4-d10087b01990",
   "metadata": {},
   "source": [
    "#### 2. 에러의 종류에 맞는 에러처리"
   ]
  },
  {
   "cell_type": "code",
   "execution_count": 149,
   "id": "9c3e4f87-ac16-4713-b568-03b369cb9b4f",
   "metadata": {},
   "outputs": [
    {
     "name": "stdout",
     "output_type": "stream",
     "text": [
      "hello\n",
      "good\n",
      "list index out of range\n"
     ]
    }
   ],
   "source": [
    "a = [\"hello\", \"good\"]\n",
    "\n",
    "try:\n",
    "    for i in range(3):\n",
    "        print(a[i])\n",
    "except IndexError as e:\n",
    "    print(e)\n",
    "    #print(\"에러입니다\")"
   ]
  },
  {
   "cell_type": "code",
   "execution_count": 150,
   "id": "4f890e08-14f9-44a5-afcd-793aae7f0442",
   "metadata": {},
   "outputs": [
    {
     "name": "stdout",
     "output_type": "stream",
     "text": [
      "hello\n",
      "good\n"
     ]
    },
    {
     "ename": "IndexError",
     "evalue": "list index out of range",
     "output_type": "error",
     "traceback": [
      "\u001b[1;31m---------------------------------------------------------------------------\u001b[0m",
      "\u001b[1;31mIndexError\u001b[0m                                Traceback (most recent call last)",
      "Input \u001b[1;32mIn [150]\u001b[0m, in \u001b[0;36m<cell line: 4>\u001b[1;34m()\u001b[0m\n\u001b[0;32m      4\u001b[0m \u001b[38;5;28;01mtry\u001b[39;00m:\n\u001b[0;32m      5\u001b[0m     \u001b[38;5;28;01mfor\u001b[39;00m i \u001b[38;5;129;01min\u001b[39;00m \u001b[38;5;28mrange\u001b[39m(\u001b[38;5;241m3\u001b[39m):\n\u001b[1;32m----> 6\u001b[0m         \u001b[38;5;28mprint\u001b[39m(\u001b[43ma\u001b[49m\u001b[43m[\u001b[49m\u001b[43mi\u001b[49m\u001b[43m]\u001b[49m)\n\u001b[0;32m      7\u001b[0m \u001b[38;5;28;01mexcept\u001b[39;00m \u001b[38;5;167;01mZeroDivisionError\u001b[39;00m \u001b[38;5;28;01mas\u001b[39;00m e:\n\u001b[0;32m      8\u001b[0m     \u001b[38;5;28mprint\u001b[39m(e)\n",
      "\u001b[1;31mIndexError\u001b[0m: list index out of range"
     ]
    }
   ],
   "source": [
    "#에러 이름이 안맞다면\n",
    "a = [\"hello\", \"good\"]\n",
    "\n",
    "try:\n",
    "    for i in range(3):\n",
    "        print(a[i])\n",
    "except ZeroDivisionError as e:\n",
    "    print(e)\n",
    "    #print(\"에러입니다\")"
   ]
  },
  {
   "cell_type": "markdown",
   "id": "ae023d29-5ded-43af-96d6-45d2aee4fd8e",
   "metadata": {},
   "source": [
    "## 11. 내장 함수\n",
    "-파이썬이 제공해주는 함수, 총 69개<br>\n",
    "-참고 사이트 : https://docs.python.org/ko/3/library/functions.html#func-range"
   ]
  },
  {
   "cell_type": "code",
   "execution_count": 152,
   "id": "c5dfc1e8-2c23-488b-b141-24aa5323d664",
   "metadata": {
    "collapsed": true,
    "jupyter": {
     "outputs_hidden": true
    },
    "tags": []
   },
   "outputs": [
    {
     "data": {
      "text/plain": [
       "['__add__',\n",
       " '__class__',\n",
       " '__contains__',\n",
       " '__delattr__',\n",
       " '__dir__',\n",
       " '__doc__',\n",
       " '__eq__',\n",
       " '__format__',\n",
       " '__ge__',\n",
       " '__getattribute__',\n",
       " '__getitem__',\n",
       " '__getnewargs__',\n",
       " '__gt__',\n",
       " '__hash__',\n",
       " '__init__',\n",
       " '__init_subclass__',\n",
       " '__iter__',\n",
       " '__le__',\n",
       " '__len__',\n",
       " '__lt__',\n",
       " '__mod__',\n",
       " '__mul__',\n",
       " '__ne__',\n",
       " '__new__',\n",
       " '__reduce__',\n",
       " '__reduce_ex__',\n",
       " '__repr__',\n",
       " '__rmod__',\n",
       " '__rmul__',\n",
       " '__setattr__',\n",
       " '__sizeof__',\n",
       " '__str__',\n",
       " '__subclasshook__',\n",
       " 'capitalize',\n",
       " 'casefold',\n",
       " 'center',\n",
       " 'count',\n",
       " 'encode',\n",
       " 'endswith',\n",
       " 'expandtabs',\n",
       " 'find',\n",
       " 'format',\n",
       " 'format_map',\n",
       " 'index',\n",
       " 'isalnum',\n",
       " 'isalpha',\n",
       " 'isascii',\n",
       " 'isdecimal',\n",
       " 'isdigit',\n",
       " 'isidentifier',\n",
       " 'islower',\n",
       " 'isnumeric',\n",
       " 'isprintable',\n",
       " 'isspace',\n",
       " 'istitle',\n",
       " 'isupper',\n",
       " 'join',\n",
       " 'ljust',\n",
       " 'lower',\n",
       " 'lstrip',\n",
       " 'maketrans',\n",
       " 'partition',\n",
       " 'removeprefix',\n",
       " 'removesuffix',\n",
       " 'replace',\n",
       " 'rfind',\n",
       " 'rindex',\n",
       " 'rjust',\n",
       " 'rpartition',\n",
       " 'rsplit',\n",
       " 'rstrip',\n",
       " 'split',\n",
       " 'splitlines',\n",
       " 'startswith',\n",
       " 'strip',\n",
       " 'swapcase',\n",
       " 'title',\n",
       " 'translate',\n",
       " 'upper',\n",
       " 'zfill']"
      ]
     },
     "execution_count": 152,
     "metadata": {},
     "output_type": "execute_result"
    }
   ],
   "source": [
    "a = \"Hello\"\n",
    "dir(a)"
   ]
  },
  {
   "cell_type": "code",
   "execution_count": 153,
   "id": "c07b2492-6319-45ec-94df-4cb1c427ab64",
   "metadata": {},
   "outputs": [
    {
     "data": {
      "text/plain": [
       "5"
      ]
     },
     "execution_count": 153,
     "metadata": {},
     "output_type": "execute_result"
    }
   ],
   "source": [
    "len(a)"
   ]
  },
  {
   "cell_type": "markdown",
   "id": "d27bbe31-99a6-4591-80f7-1ad3a699b673",
   "metadata": {},
   "source": [
    "* enumerate()"
   ]
  },
  {
   "cell_type": "code",
   "execution_count": 154,
   "id": "5b817f63-af49-420e-b778-c346418842e1",
   "metadata": {},
   "outputs": [
    {
     "name": "stdout",
     "output_type": "stream",
     "text": [
      "a\n",
      "b\n",
      "c\n"
     ]
    }
   ],
   "source": [
    "a = ['a','b','c']\n",
    "for i in a:\n",
    "    print(i)"
   ]
  },
  {
   "cell_type": "code",
   "execution_count": 155,
   "id": "cfa64e08-0266-4f06-95bb-52a19eb766eb",
   "metadata": {},
   "outputs": [
    {
     "name": "stdout",
     "output_type": "stream",
     "text": [
      "(0, 'a')\n",
      "(1, 'b')\n",
      "(2, 'c')\n"
     ]
    }
   ],
   "source": [
    "a = ['a','b','c']\n",
    "for i in enumerate(a):\n",
    "    print(i)"
   ]
  },
  {
   "cell_type": "code",
   "execution_count": 157,
   "id": "69a56fa8-b532-44c2-b342-e4b699ea5ec8",
   "metadata": {},
   "outputs": [
    {
     "name": "stdout",
     "output_type": "stream",
     "text": [
      "0 a\n",
      "1 b\n",
      "2 c\n"
     ]
    }
   ],
   "source": [
    "for i, j in enumerate(a):\n",
    "    print(i, j)"
   ]
  },
  {
   "cell_type": "code",
   "execution_count": 158,
   "id": "ad1a8d0a-a820-4466-8029-94d98123120f",
   "metadata": {},
   "outputs": [
    {
     "data": {
      "text/plain": [
       "{'a': 0, 'b': 1, 'c': 2}"
      ]
     },
     "execution_count": 158,
     "metadata": {},
     "output_type": "execute_result"
    }
   ],
   "source": [
    "dics = {'a':0, 'b':1, 'c':2}\n",
    "dics"
   ]
  },
  {
   "cell_type": "markdown",
   "id": "98a46dd9-2c92-4a8f-a07d-d16ed162d62b",
   "metadata": {},
   "source": [
    "* a = ['a','b','c'] 일 때 위의 dics와 같은 딕셔너리 c를 만들어라(enumerate를 사용하여)"
   ]
  },
  {
   "cell_type": "code",
   "execution_count": 161,
   "id": "37f6009b-a0d5-40be-a258-2a11214c3ca8",
   "metadata": {},
   "outputs": [
    {
     "name": "stdout",
     "output_type": "stream",
     "text": [
      "{'a': 0, 'b': 1, 'c': 2}\n"
     ]
    }
   ],
   "source": [
    "a = ['a','b','c']\n",
    "c = {}\n",
    "\n",
    "for i, j in enumerate(a):\n",
    "    c[j] = i\n",
    "print(c)"
   ]
  },
  {
   "cell_type": "markdown",
   "id": "fe232fed-814f-489d-ad36-fec2fdb7fbf7",
   "metadata": {},
   "source": [
    "* filter()\n",
    "```\n",
    "filter(함수이름, 자료)\n",
    "```\n",
    "-들어가는 함수는 참, 거짓을 아웃풋으로 내야한다<br>\n",
    "-자료 안의 원소 하나하나에 대해 함수를 적용시켜주는 함수\n",
    "-> map과 같다"
   ]
  },
  {
   "cell_type": "code",
   "execution_count": 170,
   "id": "60f1d346-763f-46be-9ee3-9488b6e49347",
   "metadata": {},
   "outputs": [
    {
     "ename": "TypeError",
     "evalue": "'>' not supported between instances of 'list' and 'int'",
     "output_type": "error",
     "traceback": [
      "\u001b[1;31m---------------------------------------------------------------------------\u001b[0m",
      "\u001b[1;31mTypeError\u001b[0m                                 Traceback (most recent call last)",
      "Input \u001b[1;32mIn [170]\u001b[0m, in \u001b[0;36m<cell line: 2>\u001b[1;34m()\u001b[0m\n\u001b[0;32m      1\u001b[0m a \u001b[38;5;241m=\u001b[39m [\u001b[38;5;241m1\u001b[39m, \u001b[38;5;241m-\u001b[39m\u001b[38;5;241m3\u001b[39m, \u001b[38;5;241m2\u001b[39m, \u001b[38;5;241m0\u001b[39m, \u001b[38;5;241m-\u001b[39m\u001b[38;5;241m5\u001b[39m, \u001b[38;5;241m6\u001b[39m]\n\u001b[1;32m----> 2\u001b[0m \u001b[38;5;28mprint\u001b[39m(\u001b[43ma\u001b[49m\u001b[43m \u001b[49m\u001b[38;5;241;43m>\u001b[39;49m\u001b[43m \u001b[49m\u001b[38;5;241;43m0\u001b[39;49m)\n",
      "\u001b[1;31mTypeError\u001b[0m: '>' not supported between instances of 'list' and 'int'"
     ]
    }
   ],
   "source": [
    "a = [1, -3, 2, 0, -5, 6]\n",
    "print(a > 0)   #'리스트 전체(a)'가 0보다 큰건지 판별하려함 -> 파이썬으로는 할 수 없다"
   ]
  },
  {
   "cell_type": "code",
   "execution_count": 171,
   "id": "e3f6c738-aa6e-4b0a-8bd5-3194426320bf",
   "metadata": {},
   "outputs": [
    {
     "data": {
      "text/plain": [
       "False"
      ]
     },
     "execution_count": 171,
     "metadata": {},
     "output_type": "execute_result"
    }
   ],
   "source": [
    "def positive(a):\n",
    "    return a > 0   #참, 거짓으로 리턴값이 나온다\n",
    "\n",
    "positive(-3)"
   ]
  },
  {
   "cell_type": "code",
   "execution_count": 172,
   "id": "f11af32f-0b2f-414d-ad54-88cc52b8c2a3",
   "metadata": {},
   "outputs": [
    {
     "data": {
      "text/plain": [
       "<filter at 0x1baf30ed420>"
      ]
     },
     "execution_count": 172,
     "metadata": {},
     "output_type": "execute_result"
    }
   ],
   "source": [
    "a = [1, -3, 2, 0, -5, 6]\n",
    "filter(positive , a)"
   ]
  },
  {
   "cell_type": "code",
   "execution_count": 173,
   "id": "b268b8bb-06f1-4eee-abbe-a3f206da1d08",
   "metadata": {},
   "outputs": [
    {
     "data": {
      "text/plain": [
       "[1, 2, 6]"
      ]
     },
     "execution_count": 173,
     "metadata": {},
     "output_type": "execute_result"
    }
   ],
   "source": [
    "a = [1, -3, 2, 0, -5, 6]\n",
    "list(filter(positive , a))"
   ]
  },
  {
   "cell_type": "code",
   "execution_count": 174,
   "id": "9c515652-6648-4b09-a34b-b48d62bbe53f",
   "metadata": {},
   "outputs": [
    {
     "data": {
      "text/plain": [
       "[1, 2, 6]"
      ]
     },
     "execution_count": 174,
     "metadata": {},
     "output_type": "execute_result"
    }
   ],
   "source": [
    "#filter에서는 lambda 함수를 많이 사용한다\n",
    "a = [1, -3, 2, 0, -5, 6]\n",
    "list(filter(lambda a: a > 0, a))"
   ]
  },
  {
   "cell_type": "code",
   "execution_count": 177,
   "id": "be93acda-7df1-4328-9a56-c7c6df73eb09",
   "metadata": {},
   "outputs": [
    {
     "data": {
      "text/plain": [
       "array([ 1, -3,  2,  0, -5,  6])"
      ]
     },
     "execution_count": 177,
     "metadata": {},
     "output_type": "execute_result"
    }
   ],
   "source": [
    "#a = [1, -3, 2, 0, -5, 6]\n",
    "#print(a > 0)\n",
    "\n",
    "import numpy as np\n",
    "a = np.array([1, -3, 2, 0, -5, 6])\n",
    "a   #a는 numpy가 요소마다 작동게끔 되었다"
   ]
  },
  {
   "cell_type": "code",
   "execution_count": 178,
   "id": "ad09d841-8bb5-499f-babe-2a89633ec264",
   "metadata": {},
   "outputs": [
    {
     "data": {
      "text/plain": [
       "array([ True, False,  True, False, False,  True])"
      ]
     },
     "execution_count": 178,
     "metadata": {},
     "output_type": "execute_result"
    }
   ],
   "source": [
    "a > 0"
   ]
  },
  {
   "cell_type": "code",
   "execution_count": 179,
   "id": "24559401-a582-4f8a-b659-821741e85234",
   "metadata": {},
   "outputs": [
    {
     "data": {
      "text/plain": [
       "array([1, 2, 6])"
      ]
     },
     "execution_count": 179,
     "metadata": {},
     "output_type": "execute_result"
    }
   ],
   "source": [
    "a[a > 0]"
   ]
  },
  {
   "cell_type": "code",
   "execution_count": null,
   "id": "be0a73a0-9d65-4b0b-9e68-93ec2cbf795a",
   "metadata": {},
   "outputs": [],
   "source": []
  }
 ],
 "metadata": {
  "kernelspec": {
   "display_name": "Python 3 (ipykernel)",
   "language": "python",
   "name": "python3"
  },
  "language_info": {
   "codemirror_mode": {
    "name": "ipython",
    "version": 3
   },
   "file_extension": ".py",
   "mimetype": "text/x-python",
   "name": "python",
   "nbconvert_exporter": "python",
   "pygments_lexer": "ipython3",
   "version": "3.10.6"
  }
 },
 "nbformat": 4,
 "nbformat_minor": 5
}
