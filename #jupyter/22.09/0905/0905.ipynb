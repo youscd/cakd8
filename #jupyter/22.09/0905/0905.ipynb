{
 "cells": [
  {
   "cell_type": "code",
   "execution_count": null,
   "id": "5a73e88a-87a4-4ad9-802c-5fcb3a88f2cc",
   "metadata": {},
   "outputs": [],
   "source": [
    "#복습"
   ]
  },
  {
   "cell_type": "code",
   "execution_count": 1,
   "id": "87fe2dbb-5f1c-4df3-825d-d9e47281c6e0",
   "metadata": {},
   "outputs": [
    {
     "data": {
      "text/plain": [
       "[1, 2, 3, 'Hello', 'Good Morning']"
      ]
     },
     "execution_count": 1,
     "metadata": {},
     "output_type": "execute_result"
    }
   ],
   "source": [
    "a = [1, 2, 3, 4, \"Hello\", \"Good Morning\"]\n",
    "a.remove(4)\n",
    "a"
   ]
  },
  {
   "cell_type": "code",
   "execution_count": 2,
   "id": "c69d5291-530e-4eea-94e4-35b67b210b10",
   "metadata": {},
   "outputs": [
    {
     "data": {
      "text/plain": [
       "[1, 2, 3, 4, 'Good Morning']"
      ]
     },
     "execution_count": 2,
     "metadata": {},
     "output_type": "execute_result"
    }
   ],
   "source": [
    "a = [1, 2, 3, 4, \"Hello\", \"Good Morning\"]\n",
    "a.pop(4)\n",
    "a"
   ]
  },
  {
   "cell_type": "code",
   "execution_count": 3,
   "id": "1e6ee633-ec07-40cf-86e1-40c1e434e07a",
   "metadata": {},
   "outputs": [
    {
     "name": "stdin",
     "output_type": "stream",
     "text": [
      "팩토리얼을 구할 수를 입력하세요:  3\n"
     ]
    },
    {
     "name": "stdout",
     "output_type": "stream",
     "text": [
      "6\n"
     ]
    }
   ],
   "source": [
    "a = int(input(\"팩토리얼을 구할 수를 입력하세요: \"))\n",
    "result = 1\n",
    "for i in range(1, a+1):\n",
    "    result *= i\n",
    "print(result)"
   ]
  },
  {
   "cell_type": "code",
   "execution_count": 13,
   "id": "195c5ce4-69c0-4b60-9496-a12785c2a612",
   "metadata": {},
   "outputs": [
    {
     "name": "stdout",
     "output_type": "stream",
     "text": [
      "[0, 2, 4, 6, 8, 10, 12, 14, 16, 18, 20, 22, 24, 26, 28, 30, 32, 34, 36, 38, 40, 42, 44, 46, 48, 50, 52, 54, 56, 58, 60, 62, 64, 66, 68, 70, 72, 74, 76, 78, 80, 82, 84, 86, 88, 90, 92, 94, 96, 98, 100, 102, 104, 106, 108, 110, 112, 114, 116, 118, 120, 122, 124, 126, 128, 130, 132, 134, 136, 138, 140, 142, 144, 146, 148, 150, 152, 154, 156, 158, 160, 162, 164, 166, 168, 170, 172, 174, 176, 178, 180, 182, 184, 186, 188, 190, 192, 194, 196, 198, 200, 202, 204, 206, 208, 210, 212, 214, 216, 218, 220, 222, 224, 226, 228, 230, 232, 234, 236, 238, 240, 242, 244, 246, 248, 250, 252, 254, 256, 258, 260, 262, 264, 266, 268, 270, 272, 274, 276, 278, 280, 282, 284, 286, 288, 290, 292, 294, 296, 298, 300, 302, 304, 306, 308, 310, 312, 314, 316, 318, 320, 322, 324, 326, 328, 330, 332, 334, 336, 338, 340, 342, 344, 346, 348, 350, 352, 354, 356, 358, 360, 362, 364, 366, 368, 370, 372, 374, 376, 378, 380, 382, 384, 386, 388, 390, 392, 394, 396, 398, 400, 402, 404, 406, 408, 410, 412, 414, 416, 418, 420, 422, 424, 426, 428, 430, 432, 434, 436, 438, 440, 442, 444, 446, 448, 450, 452, 454, 456, 458, 460, 462, 464, 466, 468, 470, 472, 474, 476, 478, 480, 482, 484, 486, 488, 490, 492, 494, 496, 498, 500, 502, 504, 506, 508, 510, 512, 514, 516, 518, 520, 522, 524, 526, 528, 530, 532, 534, 536, 538, 540, 542, 544, 546, 548, 550, 552, 554, 556, 558, 560, 562, 564, 566, 568, 570, 572, 574, 576, 578, 580, 582, 584, 586, 588, 590, 592, 594, 596, 598, 600, 602, 604, 606, 608, 610, 612, 614, 616, 618, 620, 622, 624, 626, 628, 630, 632, 634, 636, 638, 640, 642, 644, 646, 648, 650, 652, 654, 656, 658, 660, 662, 664, 666, 668, 670, 672, 674, 676, 678, 680, 682, 684, 686, 688, 690, 692, 694, 696, 698, 700, 702, 704, 706, 708, 710, 712, 714, 716, 718, 720, 722, 724, 726, 728, 730, 732, 734, 736, 738, 740, 742, 744, 746, 748, 750, 752, 754, 756, 758, 760, 762, 764, 766, 768, 770, 772, 774, 776, 778, 780, 782, 784, 786, 788, 790, 792, 794, 796, 798, 800, 802, 804, 806, 808, 810, 812, 814, 816, 818, 820, 822, 824, 826, 828, 830, 832, 834, 836, 838, 840, 842, 844, 846, 848, 850, 852, 854, 856, 858, 860, 862, 864, 866, 868, 870, 872, 874, 876, 878, 880, 882, 884, 886, 888, 890, 892, 894, 896, 898, 900, 902, 904, 906, 908, 910, 912, 914, 916, 918, 920, 922, 924, 926, 928, 930, 932, 934, 936, 938, 940, 942, 944, 946, 948, 950, 952, 954, 956, 958, 960, 962, 964, 966, 968, 970, 972, 974, 976, 978, 980, 982, 984, 986, 988, 990, 992, 994, 996, 998, 1000]\n"
     ]
    }
   ],
   "source": [
    "list = []\n",
    "for i in range(0, 1001):\n",
    "    if i % 2 == 0:\n",
    "        list.append(i)\n",
    "print(list)"
   ]
  },
  {
   "cell_type": "code",
   "execution_count": 15,
   "id": "175ee66d-9677-4219-8c9b-2fd6f51e1894",
   "metadata": {},
   "outputs": [
    {
     "name": "stdout",
     "output_type": "stream",
     "text": [
      "[0, 1, 2, 3, 4, 5, 6, 7, 8, 9, 10]\n"
     ]
    }
   ],
   "source": [
    "list = []\n",
    "for i in range(0, 11):\n",
    "    list.append(i)\n",
    "print(list)"
   ]
  },
  {
   "cell_type": "code",
   "execution_count": 16,
   "id": "f45b4042-0ade-4187-9bbc-f84294d4e7b0",
   "metadata": {},
   "outputs": [
    {
     "name": "stdout",
     "output_type": "stream",
     "text": [
      "[0, 1, 2, 3, 4, 5, 6, 7, 8, 9, 10]\n"
     ]
    }
   ],
   "source": [
    "b = [i for i in range(0, 11)]\n",
    "print(b)"
   ]
  },
  {
   "cell_type": "code",
   "execution_count": 22,
   "id": "e9025bf5-af5c-4edd-883c-0346fd4c3516",
   "metadata": {},
   "outputs": [
    {
     "data": {
      "text/plain": [
       "[0, 2, 4, 6, 8, 10]"
      ]
     },
     "execution_count": 22,
     "metadata": {},
     "output_type": "execute_result"
    }
   ],
   "source": [
    "[i for i in range(0, 11) if i%2==0]"
   ]
  },
  {
   "cell_type": "code",
   "execution_count": 24,
   "id": "bb77af8a-8b40-49e0-b686-92552ef4ef78",
   "metadata": {},
   "outputs": [],
   "source": [
    "#복사를 하는 방법\n",
    "a = [1,2,3]\n",
    "b = a\n",
    "c = a[:]\n",
    "d = a.copy()\n",
    "\n",
    "import copy\n",
    "e = copy.copy(a)\n",
    "\n",
    "from copy import copy\n",
    "f = copy(a)"
   ]
  },
  {
   "cell_type": "code",
   "execution_count": 46,
   "id": "3a40cace-e2f3-4187-a2b7-e6457ce09f86",
   "metadata": {},
   "outputs": [
    {
     "name": "stdout",
     "output_type": "stream",
     "text": [
      "[4, 3, 2, 1]\n"
     ]
    }
   ],
   "source": [
    "a = [1,3,4,2]\n",
    "#a.sort()\n",
    "#a.reverse()\n",
    "\n",
    "a = sorted(a)\n",
    "a.reverse()\n",
    "print(a)"
   ]
  },
  {
   "cell_type": "markdown",
   "id": "a3f4ce3d-9ce2-4dfc-9ea2-b78773031917",
   "metadata": {},
   "source": [
    "# 0905"
   ]
  },
  {
   "cell_type": "markdown",
   "id": "feb29474-c317-4954-bb35-3bc35d2a4d0c",
   "metadata": {},
   "source": [
    "#### 이스케이프 문자 (escape; 탈출)\n",
    "- 줄바꿈 : \\n, \\t"
   ]
  },
  {
   "cell_type": "code",
   "execution_count": 48,
   "id": "96f31a91-b63d-41b4-b014-38d0865d0302",
   "metadata": {},
   "outputs": [
    {
     "name": "stdout",
     "output_type": "stream",
     "text": [
      "Life is short.\n",
      "We need Python.\n"
     ]
    }
   ],
   "source": [
    "print(\"Life is short.\\nWe need Python.\")"
   ]
  },
  {
   "cell_type": "code",
   "execution_count": 50,
   "id": "bf19c8f2-d7c8-436d-b61a-271f56479719",
   "metadata": {},
   "outputs": [
    {
     "name": "stdout",
     "output_type": "stream",
     "text": [
      "그가 나에게 \"사랑해요\"라고 말했다.\n"
     ]
    }
   ],
   "source": [
    "print(\"그가 나에게 \\\"사랑해요\\\"라고 말했다.\")"
   ]
  },
  {
   "cell_type": "markdown",
   "id": "98cbd075-c96d-4998-b5b8-1141d5a3f7ac",
   "metadata": {},
   "source": [
    "#### list comprehension 리스트 내포"
   ]
  },
  {
   "cell_type": "code",
   "execution_count": 51,
   "id": "fa8aac7b-f2c0-4826-acaf-5888942b8c26",
   "metadata": {},
   "outputs": [
    {
     "data": {
      "text/plain": [
       "[3, 6, 9, 12]"
      ]
     },
     "execution_count": 51,
     "metadata": {},
     "output_type": "execute_result"
    }
   ],
   "source": [
    "a = [1,2,3,4]\n",
    "result = []\n",
    "for i in a:\n",
    "    result.append(i*3)\n",
    "result"
   ]
  },
  {
   "cell_type": "code",
   "execution_count": 52,
   "id": "8be3314a-b807-487f-9ced-6f949d570187",
   "metadata": {},
   "outputs": [
    {
     "data": {
      "text/plain": [
       "[3, 6, 9, 12]"
      ]
     },
     "execution_count": 52,
     "metadata": {},
     "output_type": "execute_result"
    }
   ],
   "source": [
    "a = [1,2,3,4]\n",
    "[i*3 for i in a]"
   ]
  },
  {
   "cell_type": "code",
   "execution_count": 53,
   "id": "8b4a9c38-6316-4bc1-806c-d4ccced02d1a",
   "metadata": {},
   "outputs": [
    {
     "data": {
      "text/plain": [
       "[6, 12]"
      ]
     },
     "execution_count": 53,
     "metadata": {},
     "output_type": "execute_result"
    }
   ],
   "source": [
    "a = [1,2,3,4]\n",
    "result = []\n",
    "for i in a:\n",
    "    if i%2 == 0: \n",
    "        result.append(i*3)\n",
    "result"
   ]
  },
  {
   "cell_type": "code",
   "execution_count": 54,
   "id": "6889729d-dc20-49e8-9e9c-c846f8a11639",
   "metadata": {},
   "outputs": [
    {
     "data": {
      "text/plain": [
       "[6, 12]"
      ]
     },
     "execution_count": 54,
     "metadata": {},
     "output_type": "execute_result"
    }
   ],
   "source": [
    "a = [1,2,3,4]\n",
    "[i*3 for i in a if i%2 == 0]"
   ]
  },
  {
   "cell_type": "markdown",
   "id": "7447e55d-4da9-4cb8-88d1-36597f3e3a62",
   "metadata": {},
   "source": [
    "## while문\n",
    "- for문 : 반복의 횟수가 정해져 있다\n",
    "- while문 : 반복의 횟수가 정해져있지 않다 (그때그때 다를 수 있다)\n",
    "- 조건문이 참인 동안에 while문 아래의 문장이 반복해서 수행된다"
   ]
  },
  {
   "cell_type": "code",
   "execution_count": 56,
   "id": "b241494a-6dba-4419-9248-1852e40dc39a",
   "metadata": {},
   "outputs": [
    {
     "name": "stdout",
     "output_type": "stream",
     "text": [
      "0, 1, 2, 3, 4, 5, 6, 7, 8, 9, "
     ]
    }
   ],
   "source": [
    "i = 0\n",
    "while i < 10:\n",
    "    print(i, end = \", \")\n",
    "    i += 1"
   ]
  },
  {
   "cell_type": "markdown",
   "id": "c54c6c71-0c1d-4fdc-9b23-87a4d4084b58",
   "metadata": {},
   "source": [
    "* break : while문을 끝내는 방법"
   ]
  },
  {
   "cell_type": "code",
   "execution_count": 58,
   "id": "393227fb-b319-4e02-a835-eac8f59eb663",
   "metadata": {},
   "outputs": [
    {
     "name": "stdout",
     "output_type": "stream",
     "text": [
      "0, 1, 2, 3, 4, 5, 6, 7, 8, 9, 끝\n"
     ]
    }
   ],
   "source": [
    "#while True : 무한루프\n",
    "import time\n",
    "i = 0\n",
    "while True:\n",
    "    print(i, end = \", \")\n",
    "    i += 1\n",
    "    time.sleep(1)\n",
    "    if i  == 10:\n",
    "        break\n",
    "print(\"끝\")"
   ]
  },
  {
   "cell_type": "code",
   "execution_count": 75,
   "id": "b4471ddc-f10f-42f0-b666-053fc51f4495",
   "metadata": {},
   "outputs": [
    {
     "name": "stdout",
     "output_type": "stream",
     "text": [
      "0\n",
      "1\n",
      "3\n",
      "6\n",
      "10\n",
      "15\n",
      "21\n",
      "28\n",
      "36\n",
      "45\n",
      "55\n",
      "55\n"
     ]
    }
   ],
   "source": [
    "#1부터 10까지의 합\n",
    "i = 0\n",
    "sum = 0\n",
    "while i <= 10:\n",
    "    sum += i\n",
    "    print(sum)\n",
    "    i += 1\n",
    "print(sum)"
   ]
  },
  {
   "cell_type": "code",
   "execution_count": 3,
   "id": "37aa4bb2-d1cc-4e24-a420-69152c567949",
   "metadata": {},
   "outputs": [
    {
     "name": "stdout",
     "output_type": "stream",
     "text": [
      "3\n",
      "9\n",
      "18\n",
      "18\n"
     ]
    }
   ],
   "source": [
    "#1부터 10까지 3의 배수들의 합\n",
    "i = 1\n",
    "sum = 0\n",
    "while i <= 10:\n",
    "    if i%3 == 0:\n",
    "        sum += i\n",
    "        print(sum)\n",
    "    i += 1\n",
    "print(sum)"
   ]
  },
  {
   "cell_type": "markdown",
   "id": "b6097da1-0faf-4ec3-823d-cfb40a62bb46",
   "metadata": {},
   "source": [
    "#### continue : while문의 맨 처음으로 돌아가기"
   ]
  },
  {
   "cell_type": "code",
   "execution_count": 1,
   "id": "cbb6416c-9b7b-4a08-a1f9-dafc2afba809",
   "metadata": {},
   "outputs": [
    {
     "name": "stdout",
     "output_type": "stream",
     "text": [
      "1\n",
      "2\n",
      "4\n",
      "5\n",
      "7\n",
      "8\n",
      "10\n"
     ]
    }
   ],
   "source": [
    "#3의 배수가 아닌 것만 출력\n",
    "i = 0\n",
    "while i < 10:\n",
    "    i += 1\n",
    "    if i % 3 == 0:\n",
    "        continue\n",
    "    print(i)"
   ]
  },
  {
   "cell_type": "code",
   "execution_count": null,
   "id": "3a04919a-d05a-4d9f-99d5-dd3ec32cdaf8",
   "metadata": {},
   "outputs": [],
   "source": [
    "#3의 배수가 아닌 것의 합\n",
    "i = 0\n",
    "sum = 0\n",
    "while i < 10:\n",
    "    if i % 3 == 0:\n",
    "        continue\n",
    "    sum += i\n",
    "    print(sum)\n",
    "    i += 1\n",
    "print(sum)"
   ]
  },
  {
   "cell_type": "code",
   "execution_count": null,
   "id": "1f4728c4-e783-4c10-ac8c-695be04feb81",
   "metadata": {},
   "outputs": [],
   "source": [
    "#import random\n",
    "random.randint(1, 10)"
   ]
  },
  {
   "cell_type": "code",
   "execution_count": null,
   "id": "ec6d8bab-ebc6-4c68-940b-74beed83be33",
   "metadata": {},
   "outputs": [],
   "source": [
    "#7보다 작은 수들의 합\n",
    "sum = 0\n",
    "while True:\n",
    "    i = random.randint(1, 10)\n",
    "    if i < 7:\n",
    "        print(i, end = \" \")\n",
    "        sum += i\n",
    "    if sum > 50:\n",
    "        break\n",
    "print(sum)"
   ]
  },
  {
   "cell_type": "code",
   "execution_count": null,
   "id": "4f2640e7-bf31-49d9-96a5-a131b9d860e5",
   "metadata": {},
   "outputs": [],
   "source": [
    "sum = 0\n",
    "while True:\n",
    "    i = random.randint(1, 10)\n",
    "    if i > 7:\n",
    "        break\n",
    "    else:\n",
    "        print(i, end = \" \")\n",
    "        sum += i\n",
    "print(sum)"
   ]
  },
  {
   "cell_type": "code",
   "execution_count": 2,
   "id": "7aaa2e45-3615-49b4-99b9-3d47b6a03c3e",
   "metadata": {},
   "outputs": [
    {
     "name": "stdout",
     "output_type": "stream",
     "text": [
      "2318\n"
     ]
    }
   ],
   "source": [
    "#10 이하의 수에 대하여 3의 배수 또는 5의 배수의 합\n",
    "i = 1\n",
    "sum = 0\n",
    "while i < 100:\n",
    "    if i%3 == 0 or i%5 == 0:\n",
    "        #print(i)\n",
    "        sum += i\n",
    "    else:\n",
    "        pass\n",
    "    i += 1\n",
    "print(sum)"
   ]
  },
  {
   "cell_type": "code",
   "execution_count": 1,
   "id": "096d88a2-10ae-46b9-8e5a-6befcc45ffcc",
   "metadata": {},
   "outputs": [
    {
     "name": "stdout",
     "output_type": "stream",
     "text": [
      "2318\n"
     ]
    }
   ],
   "source": [
    "i = 1\n",
    "sum = 0\n",
    "while i < 100:\n",
    "    if i%3 == 0:\n",
    "        sum += i\n",
    "    elif i%5 == 0:\n",
    "        sum += i\n",
    "    i += 1\n",
    "print(sum)"
   ]
  }
 ],
 "metadata": {
  "kernelspec": {
   "display_name": "Python 3 (ipykernel)",
   "language": "python",
   "name": "python3"
  },
  "language_info": {
   "codemirror_mode": {
    "name": "ipython",
    "version": 3
   },
   "file_extension": ".py",
   "mimetype": "text/x-python",
   "name": "python",
   "nbconvert_exporter": "python",
   "pygments_lexer": "ipython3",
   "version": "3.10.6"
  }
 },
 "nbformat": 4,
 "nbformat_minor": 5
}
