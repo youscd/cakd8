{
 "cells": [
  {
   "cell_type": "markdown",
   "id": "7f98dc98-a3a7-4036-8fdf-739a44022448",
   "metadata": {
    "tags": []
   },
   "source": [
    "### 13. 파이썬 프로그래밍"
   ]
  },
  {
   "cell_type": "markdown",
   "id": "e66953b8-4628-4a7d-883c-70a9441b1658",
   "metadata": {},
   "source": [
    "#### (1) 구구단 프로그램"
   ]
  },
  {
   "cell_type": "code",
   "execution_count": 1,
   "id": "2df6f625-7c08-4351-9393-3ec2ccdf2494",
   "metadata": {},
   "outputs": [],
   "source": [
    "def GuGu(n):\n",
    "    print(f\"{n}단\")\n",
    "    result = []\n",
    "    i = 1\n",
    "    while i < 10:\n",
    "        result.append(n*i)\n",
    "        i += 1\n",
    "    return result"
   ]
  },
  {
   "cell_type": "code",
   "execution_count": 2,
   "id": "b4ee1d7a-3cba-47f7-b62f-16a7cb7f77f8",
   "metadata": {},
   "outputs": [
    {
     "name": "stdout",
     "output_type": "stream",
     "text": [
      "2단\n",
      "[2, 4, 6, 8, 10, 12, 14, 16, 18]\n"
     ]
    }
   ],
   "source": [
    "print(GuGu(2))"
   ]
  },
  {
   "cell_type": "markdown",
   "id": "a2ad3103-4a67-45ff-bfcc-1d3a65f0c849",
   "metadata": {},
   "source": [
    "#### (2) 3과 5의 배수 합하기"
   ]
  },
  {
   "cell_type": "code",
   "execution_count": null,
   "id": "9b0ccabe-b4fa-4af0-89eb-ffdc5f635894",
   "metadata": {},
   "outputs": [],
   "source": [
    "i = 1\n",
    "sum3 = 0\n",
    "sum5 = 0\n",
    "while i < 1000:\n",
    "    if i % 3 == 0:\n",
    "        sum3 += i\n",
    "    elif i % 5 == 0:\n",
    "        sum5 += i\n",
    "    i += 1\n",
    "sum_t = sum3 + sum5\n",
    "print(sum_t)"
   ]
  },
  {
   "cell_type": "code",
   "execution_count": null,
   "id": "c5edfc85-b0bf-462a-839c-c68b3388745a",
   "metadata": {},
   "outputs": [],
   "source": [
    "result = 0\n",
    "for n in range(1, 1000):\n",
    "    if n % 3 == 0 or n % 5 == 0:\n",
    "        result += n\n",
    "print(result)"
   ]
  },
  {
   "cell_type": "markdown",
   "id": "8f64288f-c362-425b-8208-575330eb27f2",
   "metadata": {},
   "source": [
    "#### (3) 게시판 페이징하기"
   ]
  },
  {
   "cell_type": "code",
   "execution_count": null,
   "id": "ab38a00a-6a63-4d9c-af05-1ade085ce999",
   "metadata": {},
   "outputs": [],
   "source": [
    "def getTotalPage(m, n):\n",
    "    if m % n == 0:\n",
    "        return m//n\n",
    "    else:\n",
    "        return (m//n) + 1"
   ]
  },
  {
   "cell_type": "markdown",
   "id": "7b126792-63db-42fb-af6d-9f1bdfbb197b",
   "metadata": {},
   "source": [
    "#### (4) 간단한 메모장 만들기"
   ]
  },
  {
   "cell_type": "code",
   "execution_count": 6,
   "id": "9272293d-c3eb-436e-9296-5c15b1e14cea",
   "metadata": {},
   "outputs": [],
   "source": [
    "import sys"
   ]
  },
  {
   "cell_type": "code",
   "execution_count": 7,
   "id": "4a202e5d-2da6-4155-b579-f727510677ea",
   "metadata": {},
   "outputs": [],
   "source": [
    "#sys.argv : 프로그램을 실행할 때 입력된 값을 읽어들일 수 있는 파이썬 라이브러리\n",
    "option = sys.argv[1]   #프로그램 실행 옵션 값\n",
    "memo = sys.argv[2]     #메모 내용"
   ]
  },
  {
   "cell_type": "code",
   "execution_count": 8,
   "id": "50a023ed-aae1-4f2b-8d8e-edd43635f8ff",
   "metadata": {},
   "outputs": [
    {
     "name": "stdout",
     "output_type": "stream",
     "text": [
      "-f\n",
      "C:\\Users\\admin\\AppData\\Roaming\\jupyter\\runtime\\kernel-6fe089e9-028d-4e41-a71b-dec6bdc4d3cc.json\n"
     ]
    }
   ],
   "source": [
    "print(option)\n",
    "print(memo)"
   ]
  },
  {
   "cell_type": "code",
   "execution_count": null,
   "id": "04e2c2b8-6bff-4c9b-8568-9f881be25315",
   "metadata": {},
   "outputs": [],
   "source": []
  }
 ],
 "metadata": {
  "kernelspec": {
   "display_name": "Python 3 (ipykernel)",
   "language": "python",
   "name": "python3"
  },
  "language_info": {
   "codemirror_mode": {
    "name": "ipython",
    "version": 3
   },
   "file_extension": ".py",
   "mimetype": "text/x-python",
   "name": "python",
   "nbconvert_exporter": "python",
   "pygments_lexer": "ipython3",
   "version": "3.10.6"
  }
 },
 "nbformat": 4,
 "nbformat_minor": 5
}
